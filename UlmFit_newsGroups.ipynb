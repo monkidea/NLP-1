{
  "nbformat": 4,
  "nbformat_minor": 0,
  "metadata": {
    "colab": {
      "name": "UlmFit_newsGroups.ipynb",
      "provenance": [],
      "collapsed_sections": [],
      "include_colab_link": true
    },
    "kernelspec": {
      "name": "python3",
      "display_name": "Python 3"
    },
    "accelerator": "GPU"
  },
  "cells": [
    {
      "cell_type": "markdown",
      "metadata": {
        "id": "view-in-github",
        "colab_type": "text"
      },
      "source": [
        "<a href=\"https://colab.research.google.com/github/ronykroy/DNN-NLP-and-other-stuff/blob/master/UlmFit_newsGroups.ipynb\" target=\"_parent\"><img src=\"https://colab.research.google.com/assets/colab-badge.svg\" alt=\"Open In Colab\"/></a>"
      ]
    },
    {
      "cell_type": "code",
      "metadata": {
        "id": "mN-c0d1Wbone",
        "colab_type": "code",
        "colab": {}
      },
      "source": [
        "# based on https://github.com/fastai/course-v3/blob/master/nbs/dl1/lesson3-imdb.ipynb\n",
        "# but using newsgroups data..."
      ],
      "execution_count": 0,
      "outputs": []
    },
    {
      "cell_type": "code",
      "metadata": {
        "id": "BtoluY-3XIWd",
        "colab_type": "code",
        "colab": {}
      },
      "source": [
        "%reload_ext autoreload\n",
        "%autoreload 2\n",
        "%matplotlib inline"
      ],
      "execution_count": 0,
      "outputs": []
    },
    {
      "cell_type": "code",
      "metadata": {
        "id": "z3sW77aLXAjQ",
        "colab_type": "code",
        "colab": {}
      },
      "source": [
        "import fastai\n",
        "from fastai import *\n",
        "from fastai.text import * \n",
        "import pandas as pd\n",
        "import numpy as np\n",
        "from functools import partial\n",
        "import io\n",
        "import os"
      ],
      "execution_count": 0,
      "outputs": []
    },
    {
      "cell_type": "code",
      "metadata": {
        "id": "EnnjWjFpXKOx",
        "colab_type": "code",
        "outputId": "4408ca96-9a6a-4a0e-f210-cb49b99ab347",
        "colab": {
          "base_uri": "https://localhost:8080/",
          "height": 50
        }
      },
      "source": [
        "from sklearn.datasets import fetch_20newsgroups\n",
        "dataset = fetch_20newsgroups(shuffle=True, random_state=1, remove=('headers', 'footers', 'quotes'))\n",
        "documents = dataset.data"
      ],
      "execution_count": 0,
      "outputs": [
        {
          "output_type": "stream",
          "text": [
            "Downloading 20news dataset. This may take a few minutes.\n",
            "Downloading dataset from https://ndownloader.figshare.com/files/5975967 (14 MB)\n"
          ],
          "name": "stderr"
        }
      ]
    },
    {
      "cell_type": "code",
      "metadata": {
        "id": "_ZAiOxKjXaPh",
        "colab_type": "code",
        "colab": {}
      },
      "source": [
        "#type(documents)"
      ],
      "execution_count": 0,
      "outputs": []
    },
    {
      "cell_type": "code",
      "metadata": {
        "id": "ZOx8QifIXd15",
        "colab_type": "code",
        "colab": {}
      },
      "source": [
        "df = pd.DataFrame({'label':dataset.target, 'text':dataset.data})"
      ],
      "execution_count": 0,
      "outputs": []
    },
    {
      "cell_type": "code",
      "metadata": {
        "id": "imuBy_qwptXg",
        "colab_type": "code",
        "outputId": "738ef8a5-6c68-47d9-ca80-0cd2b3d0fd0b",
        "colab": {
          "base_uri": "https://localhost:8080/",
          "height": 34
        }
      },
      "source": [
        "df.shape"
      ],
      "execution_count": 0,
      "outputs": [
        {
          "output_type": "execute_result",
          "data": {
            "text/plain": [
              "(11314, 2)"
            ]
          },
          "metadata": {
            "tags": []
          },
          "execution_count": 7
        }
      ]
    },
    {
      "cell_type": "code",
      "metadata": {
        "id": "2f_JnhOWpmnW",
        "colab_type": "code",
        "colab": {}
      },
      "source": [
        "df.dropna(inplace=True)"
      ],
      "execution_count": 0,
      "outputs": []
    },
    {
      "cell_type": "code",
      "metadata": {
        "id": "32faljnbpvhe",
        "colab_type": "code",
        "outputId": "487736d5-91d3-4c7c-b8d3-edfefb5665eb",
        "colab": {
          "base_uri": "https://localhost:8080/",
          "height": 34
        }
      },
      "source": [
        "df.shape"
      ],
      "execution_count": 0,
      "outputs": [
        {
          "output_type": "execute_result",
          "data": {
            "text/plain": [
              "(11314, 2)"
            ]
          },
          "metadata": {
            "tags": []
          },
          "execution_count": 9
        }
      ]
    },
    {
      "cell_type": "code",
      "metadata": {
        "id": "vc8XKu-wae7x",
        "colab_type": "code",
        "colab": {}
      },
      "source": [
        "path_d  = pathlib.PosixPath('/sample_data2')"
      ],
      "execution_count": 0,
      "outputs": []
    },
    {
      "cell_type": "code",
      "metadata": {
        "id": "CT-VkljhhyV5",
        "colab_type": "code",
        "colab": {}
      },
      "source": [
        "if not os.path.exists(path_d):\n",
        "    os.mkdir(path_d) "
      ],
      "execution_count": 0,
      "outputs": []
    },
    {
      "cell_type": "code",
      "metadata": {
        "id": "gsFGzqDciaEf",
        "colab_type": "code",
        "colab": {}
      },
      "source": [
        "df.rename({'label':'target','text':text},inplace=True) # renaming cols"
      ],
      "execution_count": 0,
      "outputs": []
    },
    {
      "cell_type": "code",
      "metadata": {
        "id": "79_hPn4Bi42l",
        "colab_type": "code",
        "colab": {}
      },
      "source": [
        "bs=32 # was 48\n",
        "# goal fit as much as possible in memory 32 had no issue\n",
        "# 128 ran out of memory\n",
        "# 64 runs out of memory at final stage of classifier trianing unfreeze"
      ],
      "execution_count": 0,
      "outputs": []
    },
    {
      "cell_type": "code",
      "metadata": {
        "id": "YmzyC55cs97i",
        "colab_type": "code",
        "colab": {}
      },
      "source": [
        "from sklearn.model_selection import train_test_split\n",
        "df_trn, df_test = train_test_split(df, stratify = df['label'], test_size = 0.15, random_state = 11) # test_size is debatable\n",
        "df_trn, df_val = train_test_split(df_trn, stratify = df_trn['label'], test_size = 0.15, random_state = 11) "
      ],
      "execution_count": 0,
      "outputs": []
    },
    {
      "cell_type": "markdown",
      "metadata": {
        "id": "w0pLXmCPB6wi",
        "colab_type": "text"
      },
      "source": [
        "## The language model"
      ]
    },
    {
      "cell_type": "code",
      "metadata": {
        "id": "4PYKcu7DXoXY",
        "colab_type": "code",
        "colab": {}
      },
      "source": [
        "data_lm = TextLMDataBunch.from_df(train_df = df_trn, valid_df = df_val, path = path_d)\n",
        "# whatever means/ method you use to make the lm model's data bunch...\n",
        "# use the same for making the classifier data bunch"
      ],
      "execution_count": 0,
      "outputs": []
    },
    {
      "cell_type": "code",
      "metadata": {
        "id": "OPsuE3nwYNu1",
        "colab_type": "code",
        "outputId": "8f5f3f5e-8712-442c-c1fa-1478fb297516",
        "colab": {
          "base_uri": "https://localhost:8080/",
          "height": 70
        }
      },
      "source": [
        "data_lm.save( path_d/'data_lm.pkl') # saving as a back stop"
      ],
      "execution_count": 0,
      "outputs": [
        {
          "output_type": "stream",
          "text": [
            "/usr/local/lib/python3.6/dist-packages/torch/serialization.py:292: UserWarning: Couldn't retrieve source code for container of type CrossEntropyLoss. It won't be checked for correctness upon loading.\n",
            "  \"type \" + obj.__name__ + \". It won't be checked \"\n"
          ],
          "name": "stderr"
        }
      ]
    },
    {
      "cell_type": "code",
      "metadata": {
        "id": "tyKet0ZatiiK",
        "colab_type": "code",
        "colab": {}
      },
      "source": [
        "data_lm = load_data( '/sample_data2','data_lm.pkl', bs=bs) # give the path and the file in to which this was saved earlier.. "
      ],
      "execution_count": 0,
      "outputs": []
    },
    {
      "cell_type": "code",
      "metadata": {
        "id": "65QLsCDRYOQw",
        "colab_type": "code",
        "outputId": "5d1aa89d-c31e-4db9-c180-c6a830360a9b",
        "colab": {
          "base_uri": "https://localhost:8080/",
          "height": 262
        }
      },
      "source": [
        "data_lm.show_batch()"
      ],
      "execution_count": 0,
      "outputs": [
        {
          "output_type": "display_data",
          "data": {
            "text/html": [
              "<table border=\"1\" class=\"dataframe\">\n",
              "  <thead>\n",
              "    <tr style=\"text-align: right;\">\n",
              "      <th>idx</th>\n",
              "      <th>text</th>\n",
              "    </tr>\n",
              "  </thead>\n",
              "  <tbody>\n",
              "    <tr>\n",
              "      <td>0</td>\n",
              "      <td>squeezed xxmaj titles , here 's a crude \\n  picture : \\n \\n  xxrep 22 = xxmaj figure 1 xxrep 36 = \\n  | \\n  | + xxrep 9 - + + xxrep 9 - + + xxrep 9 = + \\n  | + title a + + title b + + title c + \\n  | + xxrep 24 - + + xxrep</td>\n",
              "    </tr>\n",
              "    <tr>\n",
              "      <td>1</td>\n",
              "      <td>you ca n't move xxmaj ripken out of the # 3 \\n  spot , why not move the rest of the line up ? ) \\n  xxup would xxup be a xxup good xxup sign : xxmaj glenn xxmaj davis wins comeback player of the year . \\n  xxup would xxup be a xxup bad xxup sign : xxmaj in a tight pennant race , team trades</td>\n",
              "    </tr>\n",
              "    <tr>\n",
              "      <td>2</td>\n",
              "      <td>their guilt . \\n \\n  xxmaj that the secretary of state may issue an \" xxunk order \" which \\n  bars someone from ever entering a particular part of the xxmaj united xxmaj kingdom , \\n  such as xxmaj northern xxmaj ireland or xxmaj wales . \\n \\n  xxmaj that the xxup bbc banned xxmaj paul mccartney 's \" xxmaj give xxmaj ireland xxmaj back to</td>\n",
              "    </tr>\n",
              "    <tr>\n",
              "      <td>3</td>\n",
              "      <td>same time , simultaneously . \\n \\n  xxmaj any help well appreciated . xxbos \\n \\n  &gt; \\t xxmaj the defenition of the xxmaj underdog is a team that has no talent and comes \\n  &gt; out of nowhere to contend . xxmaj the ' 69 xxmaj mets and ' 89 xxmaj orioles are prime examples , \\n  &gt; not the xxmaj cubs . \\n \\n</td>\n",
              "    </tr>\n",
              "    <tr>\n",
              "      <td>4</td>\n",
              "      <td>\\n  that file , you have a good chance of getting part of the directory and xxup fat \\n  from the other disk written to the new disk . xxmaj this has always been true , \\n  and has destroyed data under other programs , not just cview . \\n \\n  xxmaj the only thing cview can do to improve the situation is to try not</td>\n",
              "    </tr>\n",
              "  </tbody>\n",
              "</table>"
            ],
            "text/plain": [
              "<IPython.core.display.HTML object>"
            ]
          },
          "metadata": {
            "tags": []
          }
        }
      ]
    },
    {
      "cell_type": "code",
      "metadata": {
        "id": "bb5qlPynYPZM",
        "colab_type": "code",
        "colab": {}
      },
      "source": [
        "learn = language_model_learner(data_lm, AWD_LSTM, drop_mult=0.3)"
      ],
      "execution_count": 0,
      "outputs": []
    },
    {
      "cell_type": "code",
      "metadata": {
        "id": "Z7KaRyQ-YQmI",
        "colab_type": "code",
        "outputId": "97860f83-aa0d-4da3-9071-b8a1d82d053f",
        "colab": {
          "base_uri": "https://localhost:8080/",
          "height": 34
        }
      },
      "source": [
        "learn.lr_find()"
      ],
      "execution_count": 0,
      "outputs": [
        {
          "output_type": "display_data",
          "data": {
            "text/html": [
              ""
            ],
            "text/plain": [
              "<IPython.core.display.HTML object>"
            ]
          },
          "metadata": {
            "tags": []
          }
        },
        {
          "output_type": "stream",
          "text": [
            "LR Finder is complete, type {learner_name}.recorder.plot() to see the graph.\n"
          ],
          "name": "stdout"
        }
      ]
    },
    {
      "cell_type": "code",
      "metadata": {
        "id": "f9_1I7xaaF42",
        "colab_type": "code",
        "outputId": "1608c101-621d-491f-f836-0c2ce9e8b952",
        "colab": {
          "base_uri": "https://localhost:8080/",
          "height": 283
        }
      },
      "source": [
        "learn.recorder.plot(skip_end=15)"
      ],
      "execution_count": 0,
      "outputs": [
        {
          "output_type": "display_data",
          "data": {
            "image/png": "[encoded data removed]",
            "text/plain": [
              "<Figure size 432x288 with 1 Axes>"
            ]
          },
          "metadata": {
            "tags": []
          }
        }
      ]
    },
    {
      "cell_type": "code",
      "metadata": {
        "id": "qOlRvNPFaIVU",
        "colab_type": "code",
        "outputId": "35810d82-5f73-44ff-db0d-adcd3de0f065",
        "colab": {
          "base_uri": "https://localhost:8080/",
          "height": 343
        }
      },
      "source": [
        "learn.fit_one_cycle(10, 1e-2, moms=(0.8,0.7)) # 1e-2 works fair enough as usual "
      ],
      "execution_count": 0,
      "outputs": [
        {
          "output_type": "display_data",
          "data": {
            "text/html": [
              "<table border=\"1\" class=\"dataframe\">\n",
              "  <thead>\n",
              "    <tr style=\"text-align: left;\">\n",
              "      <th>epoch</th>\n",
              "      <th>train_loss</th>\n",
              "      <th>valid_loss</th>\n",
              "      <th>accuracy</th>\n",
              "      <th>time</th>\n",
              "    </tr>\n",
              "  </thead>\n",
              "  <tbody>\n",
              "    <tr>\n",
              "      <td>0</td>\n",
              "      <td>4.314060</td>\n",
              "      <td>4.089117</td>\n",
              "      <td>0.275545</td>\n",
              "      <td>07:39</td>\n",
              "    </tr>\n",
              "    <tr>\n",
              "      <td>1</td>\n",
              "      <td>3.823380</td>\n",
              "      <td>4.053627</td>\n",
              "      <td>0.275160</td>\n",
              "      <td>07:40</td>\n",
              "    </tr>\n",
              "    <tr>\n",
              "      <td>2</td>\n",
              "      <td>4.016834</td>\n",
              "      <td>4.094737</td>\n",
              "      <td>0.272546</td>\n",
              "      <td>07:40</td>\n",
              "    </tr>\n",
              "    <tr>\n",
              "      <td>3</td>\n",
              "      <td>3.900708</td>\n",
              "      <td>4.091317</td>\n",
              "      <td>0.276083</td>\n",
              "      <td>07:40</td>\n",
              "    </tr>\n",
              "    <tr>\n",
              "      <td>4</td>\n",
              "      <td>3.806482</td>\n",
              "      <td>4.061261</td>\n",
              "      <td>0.280934</td>\n",
              "      <td>07:40</td>\n",
              "    </tr>\n",
              "    <tr>\n",
              "      <td>5</td>\n",
              "      <td>3.560475</td>\n",
              "      <td>4.051061</td>\n",
              "      <td>0.282974</td>\n",
              "      <td>07:40</td>\n",
              "    </tr>\n",
              "    <tr>\n",
              "      <td>6</td>\n",
              "      <td>3.490449</td>\n",
              "      <td>4.017698</td>\n",
              "      <td>0.287846</td>\n",
              "      <td>07:40</td>\n",
              "    </tr>\n",
              "    <tr>\n",
              "      <td>7</td>\n",
              "      <td>3.256065</td>\n",
              "      <td>4.001022</td>\n",
              "      <td>0.290655</td>\n",
              "      <td>07:40</td>\n",
              "    </tr>\n",
              "    <tr>\n",
              "      <td>8</td>\n",
              "      <td>3.007553</td>\n",
              "      <td>3.998887</td>\n",
              "      <td>0.292218</td>\n",
              "      <td>07:41</td>\n",
              "    </tr>\n",
              "    <tr>\n",
              "      <td>9</td>\n",
              "      <td>3.085167</td>\n",
              "      <td>3.997532</td>\n",
              "      <td>0.292788</td>\n",
              "      <td>07:40</td>\n",
              "    </tr>\n",
              "  </tbody>\n",
              "</table>"
            ],
            "text/plain": [
              "<IPython.core.display.HTML object>"
            ]
          },
          "metadata": {
            "tags": []
          }
        }
      ]
    },
    {
      "cell_type": "markdown",
      "metadata": {
        "id": "1wSzjXCo0I5k",
        "colab_type": "text"
      },
      "source": [
        "For a language model the accuracy being low is fine.."
      ]
    },
    {
      "cell_type": "code",
      "metadata": {
        "id": "JkPe_fULup7n",
        "colab_type": "code",
        "colab": {}
      },
      "source": [
        "learn.save('fit_head') "
      ],
      "execution_count": 0,
      "outputs": []
    },
    {
      "cell_type": "code",
      "metadata": {
        "id": "sp-9-J7NurlY",
        "colab_type": "code",
        "colab": {}
      },
      "source": [
        "learn.load('fit_head');"
      ],
      "execution_count": 0,
      "outputs": []
    },
    {
      "cell_type": "code",
      "metadata": {
        "id": "4pSxeSx-us5L",
        "colab_type": "code",
        "colab": {}
      },
      "source": [
        "learn.unfreeze() # unfreeze all layers to compete the training of full model"
      ],
      "execution_count": 0,
      "outputs": []
    },
    {
      "cell_type": "code",
      "metadata": {
        "id": "YGLkeVUjwiPm",
        "colab_type": "code",
        "outputId": "c757c7c7-2aae-47ec-f75e-8072e238dc6c",
        "colab": {
          "base_uri": "https://localhost:8080/",
          "height": 343
        }
      },
      "source": [
        "learn.fit_one_cycle(10, 1e-3, moms=(0.8,0.7)) # do a full 10 epochs this time around\n",
        "# unlike the classifier's case.. we are not using a slice here..\n",
        "# because we dont experience the losses going [exploding] up phenomenon here....?"
      ],
      "execution_count": 0,
      "outputs": [
        {
          "output_type": "display_data",
          "data": {
            "text/html": [
              "<table border=\"1\" class=\"dataframe\">\n",
              "  <thead>\n",
              "    <tr style=\"text-align: left;\">\n",
              "      <th>epoch</th>\n",
              "      <th>train_loss</th>\n",
              "      <th>valid_loss</th>\n",
              "      <th>accuracy</th>\n",
              "      <th>time</th>\n",
              "    </tr>\n",
              "  </thead>\n",
              "  <tbody>\n",
              "    <tr>\n",
              "      <td>0</td>\n",
              "      <td>3.019767</td>\n",
              "      <td>3.944939</td>\n",
              "      <td>0.304398</td>\n",
              "      <td>08:46</td>\n",
              "    </tr>\n",
              "    <tr>\n",
              "      <td>1</td>\n",
              "      <td>2.998919</td>\n",
              "      <td>3.892788</td>\n",
              "      <td>0.313871</td>\n",
              "      <td>08:46</td>\n",
              "    </tr>\n",
              "    <tr>\n",
              "      <td>2</td>\n",
              "      <td>2.811089</td>\n",
              "      <td>3.892653</td>\n",
              "      <td>0.315618</td>\n",
              "      <td>08:46</td>\n",
              "    </tr>\n",
              "    <tr>\n",
              "      <td>3</td>\n",
              "      <td>2.751428</td>\n",
              "      <td>3.882148</td>\n",
              "      <td>0.324984</td>\n",
              "      <td>08:46</td>\n",
              "    </tr>\n",
              "    <tr>\n",
              "      <td>4</td>\n",
              "      <td>2.569558</td>\n",
              "      <td>3.915074</td>\n",
              "      <td>0.328590</td>\n",
              "      <td>08:46</td>\n",
              "    </tr>\n",
              "    <tr>\n",
              "      <td>5</td>\n",
              "      <td>2.389743</td>\n",
              "      <td>3.949040</td>\n",
              "      <td>0.329886</td>\n",
              "      <td>08:46</td>\n",
              "    </tr>\n",
              "    <tr>\n",
              "      <td>6</td>\n",
              "      <td>2.091447</td>\n",
              "      <td>3.995689</td>\n",
              "      <td>0.331241</td>\n",
              "      <td>08:46</td>\n",
              "    </tr>\n",
              "    <tr>\n",
              "      <td>7</td>\n",
              "      <td>2.057675</td>\n",
              "      <td>4.044073</td>\n",
              "      <td>0.331113</td>\n",
              "      <td>08:46</td>\n",
              "    </tr>\n",
              "    <tr>\n",
              "      <td>8</td>\n",
              "      <td>1.858850</td>\n",
              "      <td>4.089037</td>\n",
              "      <td>0.331706</td>\n",
              "      <td>08:46</td>\n",
              "    </tr>\n",
              "    <tr>\n",
              "      <td>9</td>\n",
              "      <td>1.893411</td>\n",
              "      <td>4.108246</td>\n",
              "      <td>0.330950</td>\n",
              "      <td>08:47</td>\n",
              "    </tr>\n",
              "  </tbody>\n",
              "</table>"
            ],
            "text/plain": [
              "<IPython.core.display.HTML object>"
            ]
          },
          "metadata": {
            "tags": []
          }
        }
      ]
    },
    {
      "cell_type": "code",
      "metadata": {
        "id": "09iBIDOHwqnk",
        "colab_type": "code",
        "colab": {}
      },
      "source": [
        "learn.save('fine_tuned') # save # stop gap"
      ],
      "execution_count": 0,
      "outputs": []
    },
    {
      "cell_type": "code",
      "metadata": {
        "id": "EQFzVeb4wsIW",
        "colab_type": "code",
        "colab": {}
      },
      "source": [
        "learn.load('fine_tuned');"
      ],
      "execution_count": 0,
      "outputs": []
    },
    {
      "cell_type": "code",
      "metadata": {
        "id": "gWjoRXTAwtfZ",
        "colab_type": "code",
        "colab": {}
      },
      "source": [
        "TEXT = \"and today\"\n",
        "N_WORDS = 40\n",
        "N_SENTENCES = 2 # test how good the model is at predicting the next few words"
      ],
      "execution_count": 0,
      "outputs": []
    },
    {
      "cell_type": "code",
      "metadata": {
        "id": "EFpqJFomwySW",
        "colab_type": "code",
        "outputId": "756aeab3-0790-4508-a2ee-1e3fbfbe1ef0",
        "colab": {
          "base_uri": "https://localhost:8080/",
          "height": 118
        }
      },
      "source": [
        "print(\"\\n\".join(learn.predict(TEXT, N_WORDS, temperature=0.75) for _ in range(N_SENTENCES)))"
      ],
      "execution_count": 0,
      "outputs": [
        {
          "output_type": "stream",
          "text": [
            "and today i bought a ' 90 MB Hd for sale . It came with a \n",
            "  brand new Apple wb - only card . It comes with a HD 's \n",
            "  Quantum LPS\n",
            "and today 's SATURDAY Night Live SHOWS - i said that when \n",
            "  the day is first i will see the demonstration . \n",
            "  If you want to wait , i 'll have the day . xxbos\n"
          ],
          "name": "stdout"
        }
      ]
    },
    {
      "cell_type": "code",
      "metadata": {
        "id": "EQhObiecwzyw",
        "colab_type": "code",
        "colab": {}
      },
      "source": [
        "learn.save_encoder('fine_tuned_enc') # we need the encoder in particular.. not exactly the model that predicts next word"
      ],
      "execution_count": 0,
      "outputs": []
    },
    {
      "cell_type": "markdown",
      "metadata": {
        "id": "BOzGi3dcX6YN",
        "colab_type": "text"
      },
      "source": [
        "## The Actual Classifier"
      ]
    },
    {
      "cell_type": "code",
      "metadata": {
        "id": "QyjOp2IzE0MB",
        "colab_type": "code",
        "colab": {}
      },
      "source": [
        "# Classifier model data\n",
        "#data_clas = TextClasDataBunch.from_df(path = path_d, train_df = df_trn, valid_df = df_val, vocab=data_lm.train_ds.vocab, bs=bs)\n",
        "data_clas = TextClasDataBunch.from_df(path = path_d, train_df = df_trn, valid_df = df_val, test_df=df_test, vocab=data_lm.train_ds.vocab, bs=bs)"
      ],
      "execution_count": 0,
      "outputs": []
    },
    {
      "cell_type": "code",
      "metadata": {
        "id": "pt9KG8sSEnjS",
        "colab_type": "code",
        "colab": {}
      },
      "source": [
        "learn = text_classifier_learner(data_clas, AWD_LSTM, drop_mult=0.5) # the actual classifier"
      ],
      "execution_count": 0,
      "outputs": []
    },
    {
      "cell_type": "code",
      "metadata": {
        "id": "JuBQhtt0FZr0",
        "colab_type": "code",
        "outputId": "2003ee9b-3dcb-4264-bc2d-c314af40bc3d",
        "colab": {
          "base_uri": "https://localhost:8080/",
          "height": 1000
        }
      },
      "source": [
        "learn.load_encoder('fine_tuned_enc')"
      ],
      "execution_count": 0,
      "outputs": [
        {
          "output_type": "execute_result",
          "data": {
            "text/plain": [
              "RNNLearner(data=TextClasDataBunch;\n",
              "\n",
              "Train: LabelList (8173 items)\n",
              "x: TextList\n",
              "xxbos i consider xxup twm - style xxmaj squeezed xxmaj titles xxunk in a window \n",
              "  manager . i like to have two tall xterm windows visible at the same \n",
              "  time , with no overlap ; and since two windows are n't enough , i have \n",
              "  other xterm windows underneath them , with exactly the same positioning . \n",
              " \n",
              "  xxmaj in case you 're not familiar with xxmaj squeezed xxmaj titles , here 's a crude \n",
              "  picture : \n",
              " \n",
              "  xxrep 22 = xxmaj figure 1 xxrep 36 = \n",
              "  | \n",
              "  | + xxrep 9 - + + xxrep 9 - + + xxrep 9 = + \n",
              "  | + title a + + title b + + title c + \n",
              "  | + xxrep 24 - + + xxrep 30 - + \n",
              "  | + this is the + + window b hides window c , but + \n",
              "  | + body of the + + you can still see c 's title + \n",
              "  | + window , window a + + which is squeezed right . + \n",
              "  | + xxrep 24 - + + xxrep 30 - + \n",
              "  | \n",
              "  xxrep 22 = xxmaj figure 1 xxrep 36 = \n",
              " \n",
              "  xxmaj squeezed titles allow me to have about 5 such windows in each stack , \n",
              "  with easy access ; and 3 per stack is usually more than i really \n",
              "  need , since i also insist on having a virtual xxup wm . \n",
              " \n",
              "  xxmaj the only problem is that the title location is static , that is , it \n",
              "  is configured in .twmrc , and in order to change it you have to edit \n",
              "  that file and restart the window manager . xxmaj doing so is cumbersome and \n",
              "  time - consuming . \n",
              " \n",
              "  xxmaj therefore , i have implemented xxunk { left , center , right } \n",
              "  functions in my own copy of vtwm ; the idea being that with one click \n",
              "  of a button , you can change this : \n",
              " \n",
              "  + xxrep 9 - + \n",
              "  + title a + \n",
              "  + xxrep 24 - + \n",
              "  + this is the + \n",
              "  + body of the + \n",
              "  + window , window a + \n",
              "  + xxrep 24 - + \n",
              " \n",
              "  to this : \n",
              " \n",
              "  + xxrep 9 - + \n",
              "  + title a + \n",
              "  + xxrep 24 - + \n",
              "  + this is the + \n",
              "  + body of the + \n",
              "  + window , window a + \n",
              "  + xxrep 24 - + \n",
              " \n",
              "  xxrep 15 = \n",
              " \n",
              "  xxmaj okay . xxmaj so far , so good . xxmaj now , how the heck do i get them to put this \n",
              "  into the next \" official \" twm , and the next tvtwm , and the next vtwm , \n",
              "  and the next ctwm ? xxmaj and the next xxunk that i never heard of ? \n",
              " \n",
              "  xxmaj one way would be to post , in comp.windows.x , a description of this \n",
              "  enhancement , together with an explanation of why i think it is a \n",
              "  xxmaj very xxmaj good xxmaj thing , and hope that someone reads it . :-) \n",
              " \n",
              "  xxmaj in case it is n't already clear why i think it 's a xxmaj very xxmaj good xxmaj thing , \n",
              "  look back up at xxmaj figure 1 , and picture window a moved over on top of \n",
              "  windows b and c ; now window a 's title hides xxmaj window b 's title ; \n",
              "  but when you hit f.squeezecenter , the result is : \n",
              " \n",
              "  + xxrep 9 = + + xxrep 9 - + + xxrep 9 = + \n",
              "  + title b + + title a + + title c + \n",
              "  + xxrep 37 - + \n",
              "  + this is the body of the window , + \n",
              "  + window a , which is on top . + \n",
              "  + xxrep 37 - + \n",
              " \n",
              "  xxrep 19 = \n",
              " \n",
              "  xxmaj the rest of this posting explains how to implement it , based on my \n",
              "  xxup x11r4 copy of xxunk ; it 's just a sketch because posting the \n",
              "  full diffs would be too long . \n",
              " \n",
              "  xxmaj the key to this enhancement is to add the following lines in the \n",
              "  xxunk ( ) routine in xxunk : \n",
              " \n",
              "  # ifdef xxup shape \n",
              " \t case xxup f_squeezeleft : \n",
              " \t { \t static xxunk left_squeeze = { xxup xxunk , 0 , 0 } ; \n",
              " \t\t if ( xxunk ( context , xxunk , xxunk ) ) \n",
              " \t\t  return xxup true ; \n",
              " \n",
              " \t\t xxunk = & left_squeeze ; \n",
              " \t\t xxunk ( xxunk ) ; \n",
              " \t\t break ; \n",
              " \t } \n",
              " \t  xxrep 4 . and similarly for xxunk ( xxup xxunk ) and \n",
              " \t xxunk ( xxup xxunk ) ... \n",
              "  # endif \n",
              " \n",
              "  ( xxmaj of course , you also have to define xxup f_squeezeleft in xxunk \n",
              "  and add \n",
              "  { \" xxunk \" , xxup xxunk , xxup f_squeezeleft } , \n",
              "  ... and so forth ... \n",
              "  to xxunk \n",
              " \n",
              "  xxmaj in order to use these functions , add something like the \n",
              "  following to your .twmrc file : \n",
              " \n",
              "  xxmaj xxunk = m | s : xxunk : f.squeezecenter \n",
              " \n",
              "  xxrep 17 = \n",
              " \n",
              "  xxmaj about a year ago , i posted this , but our news was broken and i \n",
              "  * think * it did n't get out . \n",
              " \n",
              "  xxmaj since then , \" blast \" has appeared in comp.sources.x , xxmaj volume 19 , \n",
              "  xxmaj issue 41 ; you could use blast to achieve a similar effect , by \n",
              "  xxunk away at an mwm - style wide title . xxmaj better to have a \n",
              "  twm - style window manager , i think . \n",
              " \n",
              "  -- \n",
              "  xxmaj ralph xxmaj xxunk ( xxup fm ) , \n",
              "  xxunk xxunk,xxbos \n",
              "  xxmaj is this an advantage to xxup ms xxmaj windows or to xxmaj xt ? i used to think it \n",
              "  was a big advantage for xxmaj xt , but i am not at all sure anymore ... \n",
              " \n",
              "  xxrep 73 - \n",
              "  xxmaj david xxmaj smyth \t\t\t\t david@jpl-devvax.jpl.nasa.gov \n",
              "  xxmaj senior xxmaj software xxmaj engineer , \t\t ( 818)306 - 6463 ( temp ! do xxup not use v - mail ) \n",
              "  x and xxmaj object xxmaj guru . \t\t\t tempory office : 525 / xxup b70 \n",
              "  xxmaj jet xxmaj propulsion xxmaj lab , m / s 525 - 3660 4800 xxmaj oak xxmaj grove xxmaj drive , xxmaj pasadena , xxup ca 91109 \n",
              "  xxrep 73 - \n",
              "  xxmaj what 's the earliest possible date you ca n't prove it wo n't be done by ? \n",
              " \t\t\t\t\t - xxmaj tom demarco,xxbos \n",
              " \n",
              " \n",
              " \n",
              " \n",
              " \n",
              "  xxmaj bzzt . \n",
              "  xxmaj the manta was a two - door sedan in the xxup us . \n",
              "  xxmaj it had a 1900 engine . \n",
              "  xxmaj was sometimes referred to as an xxmaj opel 1900 . \n",
              "  xxmaj manta 's are also ve hot and fun cars too . \n",
              " \n",
              " \n",
              " \n",
              " \n",
              " \n",
              " \n",
              " \n",
              " \n",
              " \n",
              " \n",
              " \n",
              " \n",
              " \n",
              " \n",
              " \n",
              " \n",
              " \n",
              " \n",
              " ,xxbos \n",
              "  @===@ @===@ \n",
              "  # # # xxmaj mark xxmaj xxunk xxup xxunk xxmaj programs # # # \n",
              "  # # # xxunk xxmaj university of xxmaj georgia # # # \n",
              "  # # # xxmaj athens , xxmaj georgia 30602 # # # \n",
              "  @===@ @===@ \n",
              " \n",
              " \n",
              " ,xxbos \n",
              "  [ xxmaj excellent discussion of xxup dc - x landing techniques by xxmaj henry deleted ] \n",
              " \n",
              " \n",
              "  xxmaj the xxup dc - x will not take of horizontally . xxmaj it takes of vertically . \n",
              " \n",
              " \n",
              "  xxmaj for several reasons . xxmaj vertical landings do n't require miles of runway and limit \n",
              "  noise pollution . xxmaj they do n't require wheels or wings . xxmaj just turn on the engines \n",
              "  and touch down . xxmaj of course , as xxmaj henry pointed out , xxunk landings are n't quite \n",
              "  that simple . \n",
              " \n",
              " \n",
              "  xxmaj well , to be blunt , yes . xxmaj but at least you 're learning . \n",
              " \n",
              " \n",
              "  xxmaj the xxmaj soyuz vehicles use parachutes for the descent and then fire small rockets \n",
              "  just before they hit the ground . xxmaj parachutes are , however , not especially \n",
              "  practical if you want to reuse something without much effort . xxmaj the landings \n",
              "  are also not very comfortable . xxmaj however , in the words of xxmaj xxunk xxmaj xxunk , \n",
              "  \" i prefer to have bruises , not to sink . \" \n",
              " \n",
              " \n",
              "y: CategoryList\n",
              "5,5,7,2,14\n",
              "Path: /sample_data2;\n",
              "\n",
              "Valid: LabelList (1443 items)\n",
              "x: TextList\n",
              "xxbos \n",
              "  xxup gm , at least , is heading in that direction . xxmaj one of the post - sale \n",
              "  questions they asked me was if i 'd like the choice of a cigarette \n",
              "  liter or an accessory plug , and another whether i 'd like the choice of \n",
              "  an ashtray or a cup holder . \n",
              " \n",
              "  xxmaj the ' 93 xxmaj geo xxmaj xxunk have the cigarette lighter vs accessory plug option \n",
              "  ( which did not exist in the ' 92 i bought ) -- i 'm not sure about the \n",
              "  ash tray vs cup holder . xxmaj it 's a step in the right direction . \n",
              " \n",
              "  xxmaj the ashtray does make a convenient change - holder so it 's not \n",
              "  completely useless .,xxbos \n",
              "  i 've talked with xxmaj mark and he xxunk some literature , though it was n't very xxunk \n",
              "  just a list of routine names : _ xxunk , _ xxunk ... 241 names . \n",
              "  xxmaj there was a xxmaj product xxmaj info sheet that explained some of the package capabilities . \n",
              "  i also found a review in xxmaj april / xxmaj may ' 92 xxunk .,xxbos \n",
              "  xxmaj so now we 're judging the xxmaj qur'an by what 's not in it ? \n",
              " \n",
              "  xxmaj how many xxunk headed arguments am i going to have to wade \n",
              "  through today ? \n",
              " \n",
              " \n",
              "  xxmaj one would hope . \n",
              " \n",
              "  / \\ / \\ / \\ / \\ / \\ / \\ / \\ / \\ / \\ / \\ / \\ / \\ / \\ / \\ / \\ / \\ / \\ / \\ / \\ / \\ / \\ / \\ / \\ / \\ / \\ / \\ / \\ / \\ / \\ / \\ / \\ / \\ / \\ / \\ \n",
              " \n",
              "  xxmaj bob xxmaj beauchaine bobbe@vice . xxup ico.tek.com \n",
              " \n",
              "  xxmaj they said that xxmaj queens could stay , they blew the xxmaj bronx away , \n",
              "  and sank xxmaj manhattan out at sea .,xxbos xxmaj is there a workaround which will enable me to print to a xxup xxunk from my \n",
              "  xxmaj powerbook 100 ? ( xxmaj actually i 'm going to a 4 m which will have an xxmaj ethernet card in \n",
              "  the localtalk xxunk xxrep 5 r ) . xxmaj is there some hardware which will enable me to \n",
              "  this easily ( kind of plug and play ! ) .,xxbos xxmaj from : \" dan xxunk \" < xxunk > \n",
              " \n",
              " \t  i have xxunk here a bit lately , and though some of the math is \n",
              " \t unknown to me , found it interesting . i thought i would post an article i \n",
              " \t found in the xxmaj saturday , xxmaj april 17 , 1993 xxmaj toronto xxmaj star : \n",
              " \n",
              " \t  ' xxup clipper xxup chip ' to protect privacy \n",
              " \n",
              "  xxmaj politics is of course xxmaj dirty xxmaj pool , old man , and here we have a classic \n",
              "  example : the xxup nsa and the administration have been working on this for \n",
              "  a * long * time , and in parallel with the announcement to us xxunk , we \n",
              "  see they 're hitting the press with propoganda . \n",
              " \n",
              "  xxmaj it 's my bet the big magazines - xxmaj byte , xxmaj scientific xxmaj american , et all - will \n",
              "  be ready to run with a pre - written government - slanted story on this in \n",
              "  the next issue . ( ' xxmaj just keep us some pages spare boys , we 'll give you \n",
              "  the copy in time for the presses ' ) \n",
              " \n",
              "  xxmaj we * must * get big names in the industry to write well argued pieces against \n",
              "  this proposal ( can you call it that when it 's a de facto announcement ? ) and \n",
              "  get them into the big magazines before too much damage is done . \n",
              " \n",
              "  xxmaj it would be well worth folks archiving all the discussions from here since \n",
              "  the day of the announcement to keep all the arguments at our fingertips . i \n",
              "  think between us we could write quite a good piece . \n",
              " \n",
              "  xxmaj now , who among us carries enough clout to guarantee publication ? xxmaj phil ? \n",
              "  xxmaj don xxmaj parker ? xxmaj mitch xxmaj kapor ?\n",
              "y: CategoryList\n",
              "7,1,0,4,11\n",
              "Path: /sample_data2;\n",
              "\n",
              "Test: LabelList (1698 items)\n",
              "x: TextList\n",
              "xxbos i have a xxmaj gateway xxup xxunk with my 3.5 inch floppy as drive xxup a. i \n",
              "  accidentally discovered that if a have a floppy from xxup one particular \n",
              "  box of xxunk in the a drive when i boot up , rather than getting \n",
              "  the \" xxmaj non - system diskette \" message , the machine hangs and the xxup cmos \n",
              "  gets xxunk ( luckily , xxmaj gateway sends a print of the standard \n",
              "  xxup cmos settings with their systems ) . xxmaj this only happens with a box \n",
              "  of pre - formatted xxmaj xxunk disks that i have , no other disks cause this \n",
              "  problem . xxmaj if i re - format one of the xxmaj xxunk disks , the problem goes away . \n",
              "  i did a virus scan ( scan xxunk ) of the disks and found nothing . \n",
              " \n",
              "  xxmaj anyone have any idea what is going on here ? xxmaj hardware problem ? a \n",
              "  virus that ca n't be detected ? xxmaj the system reading in garbage from \n",
              "  the boot sector ? \n",
              " ,xxbos \n",
              " \n",
              "  xxmaj interesting is rigth .. i wonder if they will make a mention of her being an \n",
              "  astronaut in the credits .. i think it might help people connect the future of \n",
              "  space with the present .. xxmaj and give them an idea that we must go into space ..,xxbos \n",
              "  : xxmaj it means that the xxup eff 's public stance is complicated with issues irrelevant \n",
              "  : to the encryption issue per se . xxmaj there may well be people who care about \n",
              "  : the encryption issue who do n't care to associate themselves with the \n",
              "  : network erotica issue ( or may even disagree with the xxup eff 's position ) . \n",
              " \n",
              "  xxmaj perhaps these encryption - only types would defend the digitized porn if it \n",
              "  was posted encrypted ?,xxbos xxmaj there was an article on xxmaj jewish major leaguers in a recent issue of \" xxmaj xxunk \n",
              "  xxmaj fields \" , what used to be the \" xxmaj minnesota xxmaj review of xxmaj baseball \" . xxmaj as i recall , \n",
              "  it had an amazing amount of research , with a long list of players and a \n",
              "  large bibliography .,xxbos jayson stark ( i xxunk that 's him ) fits perfectly in this category . \n",
              " \n",
              "  anyone who writes \" dean palmer has 2 homers - at this pace , he 'll \n",
              "  have 324 home runs ! \" should be shot . \n",
              " \n",
              "  if , at the end of april , he has 11 , and anyone writes \" at this \n",
              "  pace , he 'll have 100 + homers ! \" they xxunk shot too .\n",
              "y: EmptyLabelList\n",
              ",,,,\n",
              "Path: /sample_data2, model=SequentialRNN(\n",
              "  (0): MultiBatchEncoder(\n",
              "    (module): AWD_LSTM(\n",
              "      (encoder): Embedding(36504, 400, padding_idx=1)\n",
              "      (encoder_dp): EmbeddingDropout(\n",
              "        (emb): Embedding(36504, 400, padding_idx=1)\n",
              "      )\n",
              "      (rnns): ModuleList(\n",
              "        (0): WeightDropout(\n",
              "          (module): LSTM(400, 1152, batch_first=True)\n",
              "        )\n",
              "        (1): WeightDropout(\n",
              "          (module): LSTM(1152, 1152, batch_first=True)\n",
              "        )\n",
              "        (2): WeightDropout(\n",
              "          (module): LSTM(1152, 400, batch_first=True)\n",
              "        )\n",
              "      )\n",
              "      (input_dp): RNNDropout()\n",
              "      (hidden_dps): ModuleList(\n",
              "        (0): RNNDropout()\n",
              "        (1): RNNDropout()\n",
              "        (2): RNNDropout()\n",
              "      )\n",
              "    )\n",
              "  )\n",
              "  (1): PoolingLinearClassifier(\n",
              "    (layers): Sequential(\n",
              "      (0): BatchNorm1d(1200, eps=1e-05, momentum=0.1, affine=True, track_running_stats=True)\n",
              "      (1): Dropout(p=0.2, inplace=False)\n",
              "      (2): Linear(in_features=1200, out_features=50, bias=True)\n",
              "      (3): ReLU(inplace=True)\n",
              "      (4): BatchNorm1d(50, eps=1e-05, momentum=0.1, affine=True, track_running_stats=True)\n",
              "      (5): Dropout(p=0.1, inplace=False)\n",
              "      (6): Linear(in_features=50, out_features=20, bias=True)\n",
              "    )\n",
              "  )\n",
              "), opt_func=functools.partial(<class 'torch.optim.adam.Adam'>, betas=(0.9, 0.99)), loss_func=FlattenedLoss of CrossEntropyLoss(), metrics=[<function accuracy at 0x7f3215a2eea0>], true_wd=True, bn_wd=True, wd=0.01, train_bn=True, path=PosixPath('/sample_data2'), model_dir='models', callback_fns=[functools.partial(<class 'fastai.basic_train.Recorder'>, add_time=True, silent=False)], callbacks=[RNNTrainer\n",
              "learn: RNNLearner(data=TextClasDataBunch;\n",
              "\n",
              "Train: LabelList (8173 items)\n",
              "x: TextList\n",
              "xxbos i consider xxup twm - style xxmaj squeezed xxmaj titles xxunk in a window \n",
              "  manager . i like to have two tall xterm windows visible at the same \n",
              "  time , with no overlap ; and since two windows are n't enough , i have \n",
              "  other xterm windows underneath them , with exactly the same positioning . \n",
              " \n",
              "  xxmaj in case you 're not familiar with xxmaj squeezed xxmaj titles , here 's a crude \n",
              "  picture : \n",
              " \n",
              "  xxrep 22 = xxmaj figure 1 xxrep 36 = \n",
              "  | \n",
              "  | + xxrep 9 - + + xxrep 9 - + + xxrep 9 = + \n",
              "  | + title a + + title b + + title c + \n",
              "  | + xxrep 24 - + + xxrep 30 - + \n",
              "  | + this is the + + window b hides window c , but + \n",
              "  | + body of the + + you can still see c 's title + \n",
              "  | + window , window a + + which is squeezed right . + \n",
              "  | + xxrep 24 - + + xxrep 30 - + \n",
              "  | \n",
              "  xxrep 22 = xxmaj figure 1 xxrep 36 = \n",
              " \n",
              "  xxmaj squeezed titles allow me to have about 5 such windows in each stack , \n",
              "  with easy access ; and 3 per stack is usually more than i really \n",
              "  need , since i also insist on having a virtual xxup wm . \n",
              " \n",
              "  xxmaj the only problem is that the title location is static , that is , it \n",
              "  is configured in .twmrc , and in order to change it you have to edit \n",
              "  that file and restart the window manager . xxmaj doing so is cumbersome and \n",
              "  time - consuming . \n",
              " \n",
              "  xxmaj therefore , i have implemented xxunk { left , center , right } \n",
              "  functions in my own copy of vtwm ; the idea being that with one click \n",
              "  of a button , you can change this : \n",
              " \n",
              "  + xxrep 9 - + \n",
              "  + title a + \n",
              "  + xxrep 24 - + \n",
              "  + this is the + \n",
              "  + body of the + \n",
              "  + window , window a + \n",
              "  + xxrep 24 - + \n",
              " \n",
              "  to this : \n",
              " \n",
              "  + xxrep 9 - + \n",
              "  + title a + \n",
              "  + xxrep 24 - + \n",
              "  + this is the + \n",
              "  + body of the + \n",
              "  + window , window a + \n",
              "  + xxrep 24 - + \n",
              " \n",
              "  xxrep 15 = \n",
              " \n",
              "  xxmaj okay . xxmaj so far , so good . xxmaj now , how the heck do i get them to put this \n",
              "  into the next \" official \" twm , and the next tvtwm , and the next vtwm , \n",
              "  and the next ctwm ? xxmaj and the next xxunk that i never heard of ? \n",
              " \n",
              "  xxmaj one way would be to post , in comp.windows.x , a description of this \n",
              "  enhancement , together with an explanation of why i think it is a \n",
              "  xxmaj very xxmaj good xxmaj thing , and hope that someone reads it . :-) \n",
              " \n",
              "  xxmaj in case it is n't already clear why i think it 's a xxmaj very xxmaj good xxmaj thing , \n",
              "  look back up at xxmaj figure 1 , and picture window a moved over on top of \n",
              "  windows b and c ; now window a 's title hides xxmaj window b 's title ; \n",
              "  but when you hit f.squeezecenter , the result is : \n",
              " \n",
              "  + xxrep 9 = + + xxrep 9 - + + xxrep 9 = + \n",
              "  + title b + + title a + + title c + \n",
              "  + xxrep 37 - + \n",
              "  + this is the body of the window , + \n",
              "  + window a , which is on top . + \n",
              "  + xxrep 37 - + \n",
              " \n",
              "  xxrep 19 = \n",
              " \n",
              "  xxmaj the rest of this posting explains how to implement it , based on my \n",
              "  xxup x11r4 copy of xxunk ; it 's just a sketch because posting the \n",
              "  full diffs would be too long . \n",
              " \n",
              "  xxmaj the key to this enhancement is to add the following lines in the \n",
              "  xxunk ( ) routine in xxunk : \n",
              " \n",
              "  # ifdef xxup shape \n",
              " \t case xxup f_squeezeleft : \n",
              " \t { \t static xxunk left_squeeze = { xxup xxunk , 0 , 0 } ; \n",
              " \t\t if ( xxunk ( context , xxunk , xxunk ) ) \n",
              " \t\t  return xxup true ; \n",
              " \n",
              " \t\t xxunk = & left_squeeze ; \n",
              " \t\t xxunk ( xxunk ) ; \n",
              " \t\t break ; \n",
              " \t } \n",
              " \t  xxrep 4 . and similarly for xxunk ( xxup xxunk ) and \n",
              " \t xxunk ( xxup xxunk ) ... \n",
              "  # endif \n",
              " \n",
              "  ( xxmaj of course , you also have to define xxup f_squeezeleft in xxunk \n",
              "  and add \n",
              "  { \" xxunk \" , xxup xxunk , xxup f_squeezeleft } , \n",
              "  ... and so forth ... \n",
              "  to xxunk \n",
              " \n",
              "  xxmaj in order to use these functions , add something like the \n",
              "  following to your .twmrc file : \n",
              " \n",
              "  xxmaj xxunk = m | s : xxunk : f.squeezecenter \n",
              " \n",
              "  xxrep 17 = \n",
              " \n",
              "  xxmaj about a year ago , i posted this , but our news was broken and i \n",
              "  * think * it did n't get out . \n",
              " \n",
              "  xxmaj since then , \" blast \" has appeared in comp.sources.x , xxmaj volume 19 , \n",
              "  xxmaj issue 41 ; you could use blast to achieve a similar effect , by \n",
              "  xxunk away at an mwm - style wide title . xxmaj better to have a \n",
              "  twm - style window manager , i think . \n",
              " \n",
              "  -- \n",
              "  xxmaj ralph xxmaj xxunk ( xxup fm ) , \n",
              "  xxunk xxunk,xxbos \n",
              "  xxmaj is this an advantage to xxup ms xxmaj windows or to xxmaj xt ? i used to think it \n",
              "  was a big advantage for xxmaj xt , but i am not at all sure anymore ... \n",
              " \n",
              "  xxrep 73 - \n",
              "  xxmaj david xxmaj smyth \t\t\t\t david@jpl-devvax.jpl.nasa.gov \n",
              "  xxmaj senior xxmaj software xxmaj engineer , \t\t ( 818)306 - 6463 ( temp ! do xxup not use v - mail ) \n",
              "  x and xxmaj object xxmaj guru . \t\t\t tempory office : 525 / xxup b70 \n",
              "  xxmaj jet xxmaj propulsion xxmaj lab , m / s 525 - 3660 4800 xxmaj oak xxmaj grove xxmaj drive , xxmaj pasadena , xxup ca 91109 \n",
              "  xxrep 73 - \n",
              "  xxmaj what 's the earliest possible date you ca n't prove it wo n't be done by ? \n",
              " \t\t\t\t\t - xxmaj tom demarco,xxbos \n",
              " \n",
              " \n",
              " \n",
              " \n",
              " \n",
              "  xxmaj bzzt . \n",
              "  xxmaj the manta was a two - door sedan in the xxup us . \n",
              "  xxmaj it had a 1900 engine . \n",
              "  xxmaj was sometimes referred to as an xxmaj opel 1900 . \n",
              "  xxmaj manta 's are also ve hot and fun cars too . \n",
              " \n",
              " \n",
              " \n",
              " \n",
              " \n",
              " \n",
              " \n",
              " \n",
              " \n",
              " \n",
              " \n",
              " \n",
              " \n",
              " \n",
              " \n",
              " \n",
              " \n",
              " \n",
              " ,xxbos \n",
              "  @===@ @===@ \n",
              "  # # # xxmaj mark xxmaj xxunk xxup xxunk xxmaj programs # # # \n",
              "  # # # xxunk xxmaj university of xxmaj georgia # # # \n",
              "  # # # xxmaj athens , xxmaj georgia 30602 # # # \n",
              "  @===@ @===@ \n",
              " \n",
              " \n",
              " ,xxbos \n",
              "  [ xxmaj excellent discussion of xxup dc - x landing techniques by xxmaj henry deleted ] \n",
              " \n",
              " \n",
              "  xxmaj the xxup dc - x will not take of horizontally . xxmaj it takes of vertically . \n",
              " \n",
              " \n",
              "  xxmaj for several reasons . xxmaj vertical landings do n't require miles of runway and limit \n",
              "  noise pollution . xxmaj they do n't require wheels or wings . xxmaj just turn on the engines \n",
              "  and touch down . xxmaj of course , as xxmaj henry pointed out , xxunk landings are n't quite \n",
              "  that simple . \n",
              " \n",
              " \n",
              "  xxmaj well , to be blunt , yes . xxmaj but at least you 're learning . \n",
              " \n",
              " \n",
              "  xxmaj the xxmaj soyuz vehicles use parachutes for the descent and then fire small rockets \n",
              "  just before they hit the ground . xxmaj parachutes are , however , not especially \n",
              "  practical if you want to reuse something without much effort . xxmaj the landings \n",
              "  are also not very comfortable . xxmaj however , in the words of xxmaj xxunk xxmaj xxunk , \n",
              "  \" i prefer to have bruises , not to sink . \" \n",
              " \n",
              " \n",
              "y: CategoryList\n",
              "5,5,7,2,14\n",
              "Path: /sample_data2;\n",
              "\n",
              "Valid: LabelList (1443 items)\n",
              "x: TextList\n",
              "xxbos \n",
              "  xxup gm , at least , is heading in that direction . xxmaj one of the post - sale \n",
              "  questions they asked me was if i 'd like the choice of a cigarette \n",
              "  liter or an accessory plug , and another whether i 'd like the choice of \n",
              "  an ashtray or a cup holder . \n",
              " \n",
              "  xxmaj the ' 93 xxmaj geo xxmaj xxunk have the cigarette lighter vs accessory plug option \n",
              "  ( which did not exist in the ' 92 i bought ) -- i 'm not sure about the \n",
              "  ash tray vs cup holder . xxmaj it 's a step in the right direction . \n",
              " \n",
              "  xxmaj the ashtray does make a convenient change - holder so it 's not \n",
              "  completely useless .,xxbos \n",
              "  i 've talked with xxmaj mark and he xxunk some literature , though it was n't very xxunk \n",
              "  just a list of routine names : _ xxunk , _ xxunk ... 241 names . \n",
              "  xxmaj there was a xxmaj product xxmaj info sheet that explained some of the package capabilities . \n",
              "  i also found a review in xxmaj april / xxmaj may ' 92 xxunk .,xxbos \n",
              "  xxmaj so now we 're judging the xxmaj qur'an by what 's not in it ? \n",
              " \n",
              "  xxmaj how many xxunk headed arguments am i going to have to wade \n",
              "  through today ? \n",
              " \n",
              " \n",
              "  xxmaj one would hope . \n",
              " \n",
              "  / \\ / \\ / \\ / \\ / \\ / \\ / \\ / \\ / \\ / \\ / \\ / \\ / \\ / \\ / \\ / \\ / \\ / \\ / \\ / \\ / \\ / \\ / \\ / \\ / \\ / \\ / \\ / \\ / \\ / \\ / \\ / \\ / \\ / \\ \n",
              " \n",
              "  xxmaj bob xxmaj beauchaine bobbe@vice . xxup ico.tek.com \n",
              " \n",
              "  xxmaj they said that xxmaj queens could stay , they blew the xxmaj bronx away , \n",
              "  and sank xxmaj manhattan out at sea .,xxbos xxmaj is there a workaround which will enable me to print to a xxup xxunk from my \n",
              "  xxmaj powerbook 100 ? ( xxmaj actually i 'm going to a 4 m which will have an xxmaj ethernet card in \n",
              "  the localtalk xxunk xxrep 5 r ) . xxmaj is there some hardware which will enable me to \n",
              "  this easily ( kind of plug and play ! ) .,xxbos xxmaj from : \" dan xxunk \" < xxunk > \n",
              " \n",
              " \t  i have xxunk here a bit lately , and though some of the math is \n",
              " \t unknown to me , found it interesting . i thought i would post an article i \n",
              " \t found in the xxmaj saturday , xxmaj april 17 , 1993 xxmaj toronto xxmaj star : \n",
              " \n",
              " \t  ' xxup clipper xxup chip ' to protect privacy \n",
              " \n",
              "  xxmaj politics is of course xxmaj dirty xxmaj pool , old man , and here we have a classic \n",
              "  example : the xxup nsa and the administration have been working on this for \n",
              "  a * long * time , and in parallel with the announcement to us xxunk , we \n",
              "  see they 're hitting the press with propoganda . \n",
              " \n",
              "  xxmaj it 's my bet the big magazines - xxmaj byte , xxmaj scientific xxmaj american , et all - will \n",
              "  be ready to run with a pre - written government - slanted story on this in \n",
              "  the next issue . ( ' xxmaj just keep us some pages spare boys , we 'll give you \n",
              "  the copy in time for the presses ' ) \n",
              " \n",
              "  xxmaj we * must * get big names in the industry to write well argued pieces against \n",
              "  this proposal ( can you call it that when it 's a de facto announcement ? ) and \n",
              "  get them into the big magazines before too much damage is done . \n",
              " \n",
              "  xxmaj it would be well worth folks archiving all the discussions from here since \n",
              "  the day of the announcement to keep all the arguments at our fingertips . i \n",
              "  think between us we could write quite a good piece . \n",
              " \n",
              "  xxmaj now , who among us carries enough clout to guarantee publication ? xxmaj phil ? \n",
              "  xxmaj don xxmaj parker ? xxmaj mitch xxmaj kapor ?\n",
              "y: CategoryList\n",
              "7,1,0,4,11\n",
              "Path: /sample_data2;\n",
              "\n",
              "Test: LabelList (1698 items)\n",
              "x: TextList\n",
              "xxbos i have a xxmaj gateway xxup xxunk with my 3.5 inch floppy as drive xxup a. i \n",
              "  accidentally discovered that if a have a floppy from xxup one particular \n",
              "  box of xxunk in the a drive when i boot up , rather than getting \n",
              "  the \" xxmaj non - system diskette \" message , the machine hangs and the xxup cmos \n",
              "  gets xxunk ( luckily , xxmaj gateway sends a print of the standard \n",
              "  xxup cmos settings with their systems ) . xxmaj this only happens with a box \n",
              "  of pre - formatted xxmaj xxunk disks that i have , no other disks cause this \n",
              "  problem . xxmaj if i re - format one of the xxmaj xxunk disks , the problem goes away . \n",
              "  i did a virus scan ( scan xxunk ) of the disks and found nothing . \n",
              " \n",
              "  xxmaj anyone have any idea what is going on here ? xxmaj hardware problem ? a \n",
              "  virus that ca n't be detected ? xxmaj the system reading in garbage from \n",
              "  the boot sector ? \n",
              " ,xxbos \n",
              " \n",
              "  xxmaj interesting is rigth .. i wonder if they will make a mention of her being an \n",
              "  astronaut in the credits .. i think it might help people connect the future of \n",
              "  space with the present .. xxmaj and give them an idea that we must go into space ..,xxbos \n",
              "  : xxmaj it means that the xxup eff 's public stance is complicated with issues irrelevant \n",
              "  : to the encryption issue per se . xxmaj there may well be people who care about \n",
              "  : the encryption issue who do n't care to associate themselves with the \n",
              "  : network erotica issue ( or may even disagree with the xxup eff 's position ) . \n",
              " \n",
              "  xxmaj perhaps these encryption - only types would defend the digitized porn if it \n",
              "  was posted encrypted ?,xxbos xxmaj there was an article on xxmaj jewish major leaguers in a recent issue of \" xxmaj xxunk \n",
              "  xxmaj fields \" , what used to be the \" xxmaj minnesota xxmaj review of xxmaj baseball \" . xxmaj as i recall , \n",
              "  it had an amazing amount of research , with a long list of players and a \n",
              "  large bibliography .,xxbos jayson stark ( i xxunk that 's him ) fits perfectly in this category . \n",
              " \n",
              "  anyone who writes \" dean palmer has 2 homers - at this pace , he 'll \n",
              "  have 324 home runs ! \" should be shot . \n",
              " \n",
              "  if , at the end of april , he has 11 , and anyone writes \" at this \n",
              "  pace , he 'll have 100 + homers ! \" they xxunk shot too .\n",
              "y: EmptyLabelList\n",
              ",,,,\n",
              "Path: /sample_data2, model=SequentialRNN(\n",
              "  (0): MultiBatchEncoder(\n",
              "    (module): AWD_LSTM(\n",
              "      (encoder): Embedding(36504, 400, padding_idx=1)\n",
              "      (encoder_dp): EmbeddingDropout(\n",
              "        (emb): Embedding(36504, 400, padding_idx=1)\n",
              "      )\n",
              "      (rnns): ModuleList(\n",
              "        (0): WeightDropout(\n",
              "          (module): LSTM(400, 1152, batch_first=True)\n",
              "        )\n",
              "        (1): WeightDropout(\n",
              "          (module): LSTM(1152, 1152, batch_first=True)\n",
              "        )\n",
              "        (2): WeightDropout(\n",
              "          (module): LSTM(1152, 400, batch_first=True)\n",
              "        )\n",
              "      )\n",
              "      (input_dp): RNNDropout()\n",
              "      (hidden_dps): ModuleList(\n",
              "        (0): RNNDropout()\n",
              "        (1): RNNDropout()\n",
              "        (2): RNNDropout()\n",
              "      )\n",
              "    )\n",
              "  )\n",
              "  (1): PoolingLinearClassifier(\n",
              "    (layers): Sequential(\n",
              "      (0): BatchNorm1d(1200, eps=1e-05, momentum=0.1, affine=True, track_running_stats=True)\n",
              "      (1): Dropout(p=0.2, inplace=False)\n",
              "      (2): Linear(in_features=1200, out_features=50, bias=True)\n",
              "      (3): ReLU(inplace=True)\n",
              "      (4): BatchNorm1d(50, eps=1e-05, momentum=0.1, affine=True, track_running_stats=True)\n",
              "      (5): Dropout(p=0.1, inplace=False)\n",
              "      (6): Linear(in_features=50, out_features=20, bias=True)\n",
              "    )\n",
              "  )\n",
              "), opt_func=functools.partial(<class 'torch.optim.adam.Adam'>, betas=(0.9, 0.99)), loss_func=FlattenedLoss of CrossEntropyLoss(), metrics=[<function accuracy at 0x7f3215a2eea0>], true_wd=True, bn_wd=True, wd=0.01, train_bn=True, path=PosixPath('/sample_data2'), model_dir='models', callback_fns=[functools.partial(<class 'fastai.basic_train.Recorder'>, add_time=True, silent=False)], callbacks=[...], layer_groups=[Sequential(\n",
              "  (0): Embedding(36504, 400, padding_idx=1)\n",
              "  (1): EmbeddingDropout(\n",
              "    (emb): Embedding(36504, 400, padding_idx=1)\n",
              "  )\n",
              "), Sequential(\n",
              "  (0): WeightDropout(\n",
              "    (module): LSTM(400, 1152, batch_first=True)\n",
              "  )\n",
              "  (1): RNNDropout()\n",
              "), Sequential(\n",
              "  (0): WeightDropout(\n",
              "    (module): LSTM(1152, 1152, batch_first=True)\n",
              "  )\n",
              "  (1): RNNDropout()\n",
              "), Sequential(\n",
              "  (0): WeightDropout(\n",
              "    (module): LSTM(1152, 400, batch_first=True)\n",
              "  )\n",
              "  (1): RNNDropout()\n",
              "), Sequential(\n",
              "  (0): PoolingLinearClassifier(\n",
              "    (layers): Sequential(\n",
              "      (0): BatchNorm1d(1200, eps=1e-05, momentum=0.1, affine=True, track_running_stats=True)\n",
              "      (1): Dropout(p=0.2, inplace=False)\n",
              "      (2): Linear(in_features=1200, out_features=50, bias=True)\n",
              "      (3): ReLU(inplace=True)\n",
              "      (4): BatchNorm1d(50, eps=1e-05, momentum=0.1, affine=True, track_running_stats=True)\n",
              "      (5): Dropout(p=0.1, inplace=False)\n",
              "      (6): Linear(in_features=50, out_features=20, bias=True)\n",
              "    )\n",
              "  )\n",
              ")], add_time=True, silent=False)\n",
              "alpha: 2.0\n",
              "beta: 1.0], layer_groups=[Sequential(\n",
              "  (0): Embedding(36504, 400, padding_idx=1)\n",
              "  (1): EmbeddingDropout(\n",
              "    (emb): Embedding(36504, 400, padding_idx=1)\n",
              "  )\n",
              "), Sequential(\n",
              "  (0): WeightDropout(\n",
              "    (module): LSTM(400, 1152, batch_first=True)\n",
              "  )\n",
              "  (1): RNNDropout()\n",
              "), Sequential(\n",
              "  (0): WeightDropout(\n",
              "    (module): LSTM(1152, 1152, batch_first=True)\n",
              "  )\n",
              "  (1): RNNDropout()\n",
              "), Sequential(\n",
              "  (0): WeightDropout(\n",
              "    (module): LSTM(1152, 400, batch_first=True)\n",
              "  )\n",
              "  (1): RNNDropout()\n",
              "), Sequential(\n",
              "  (0): PoolingLinearClassifier(\n",
              "    (layers): Sequential(\n",
              "      (0): BatchNorm1d(1200, eps=1e-05, momentum=0.1, affine=True, track_running_stats=True)\n",
              "      (1): Dropout(p=0.2, inplace=False)\n",
              "      (2): Linear(in_features=1200, out_features=50, bias=True)\n",
              "      (3): ReLU(inplace=True)\n",
              "      (4): BatchNorm1d(50, eps=1e-05, momentum=0.1, affine=True, track_running_stats=True)\n",
              "      (5): Dropout(p=0.1, inplace=False)\n",
              "      (6): Linear(in_features=50, out_features=20, bias=True)\n",
              "    )\n",
              "  )\n",
              ")], add_time=True, silent=False)"
            ]
          },
          "metadata": {
            "tags": []
          },
          "execution_count": 37
        }
      ]
    },
    {
      "cell_type": "code",
      "metadata": {
        "id": "DF9-_oOhGGQD",
        "colab_type": "code",
        "outputId": "81b4e79a-736b-4589-ad09-9a494773faf8",
        "colab": {
          "base_uri": "https://localhost:8080/",
          "height": 34
        }
      },
      "source": [
        "learn.lr_find()"
      ],
      "execution_count": 0,
      "outputs": [
        {
          "output_type": "display_data",
          "data": {
            "text/html": [
              ""
            ],
            "text/plain": [
              "<IPython.core.display.HTML object>"
            ]
          },
          "metadata": {
            "tags": []
          }
        },
        {
          "output_type": "stream",
          "text": [
            "LR Finder is complete, type {learner_name}.recorder.plot() to see the graph.\n"
          ],
          "name": "stdout"
        }
      ]
    },
    {
      "cell_type": "code",
      "metadata": {
        "id": "atI5lUqzGign",
        "colab_type": "code",
        "outputId": "30918fb4-4cee-42b7-eac7-d51c4d05c786",
        "colab": {
          "base_uri": "https://localhost:8080/",
          "height": 283
        }
      },
      "source": [
        "learn.recorder.plot()"
      ],
      "execution_count": 0,
      "outputs": [
        {
          "output_type": "display_data",
          "data": {
            "image/png": "[encoded data removed]",
            "text/plain": [
              "<Figure size 432x288 with 1 Axes>"
            ]
          },
          "metadata": {
            "tags": []
          }
        }
      ]
    },
    {
      "cell_type": "code",
      "metadata": {
        "id": "Dno8wWgCFZms",
        "colab_type": "code",
        "outputId": "862a5f94-3b88-4eea-89a5-27c35030c340",
        "colab": {
          "base_uri": "https://localhost:8080/",
          "height": 136
        }
      },
      "source": [
        "learn.fit_one_cycle(3, 1e-2, moms=(0.8,0.7)) "
      ],
      "execution_count": 0,
      "outputs": [
        {
          "output_type": "display_data",
          "data": {
            "text/html": [
              "<table border=\"1\" class=\"dataframe\">\n",
              "  <thead>\n",
              "    <tr style=\"text-align: left;\">\n",
              "      <th>epoch</th>\n",
              "      <th>train_loss</th>\n",
              "      <th>valid_loss</th>\n",
              "      <th>accuracy</th>\n",
              "      <th>time</th>\n",
              "    </tr>\n",
              "  </thead>\n",
              "  <tbody>\n",
              "    <tr>\n",
              "      <td>0</td>\n",
              "      <td>1.533779</td>\n",
              "      <td>1.331054</td>\n",
              "      <td>0.600832</td>\n",
              "      <td>05:26</td>\n",
              "    </tr>\n",
              "    <tr>\n",
              "      <td>1</td>\n",
              "      <td>1.410977</td>\n",
              "      <td>1.155092</td>\n",
              "      <td>0.654193</td>\n",
              "      <td>05:07</td>\n",
              "    </tr>\n",
              "    <tr>\n",
              "      <td>2</td>\n",
              "      <td>1.249894</td>\n",
              "      <td>1.156397</td>\n",
              "      <td>0.650035</td>\n",
              "      <td>04:48</td>\n",
              "    </tr>\n",
              "  </tbody>\n",
              "</table>"
            ],
            "text/plain": [
              "<IPython.core.display.HTML object>"
            ]
          },
          "metadata": {
            "tags": []
          }
        }
      ]
    },
    {
      "cell_type": "code",
      "metadata": {
        "id": "4LcKNYTeIkqS",
        "colab_type": "code",
        "colab": {}
      },
      "source": [
        "learn.save('first')"
      ],
      "execution_count": 0,
      "outputs": []
    },
    {
      "cell_type": "code",
      "metadata": {
        "id": "fe2EemEYIluN",
        "colab_type": "code",
        "colab": {}
      },
      "source": [
        "learn.load('first'); # save and load the state where the last layer alone is what has been retrained.."
      ],
      "execution_count": 0,
      "outputs": []
    },
    {
      "cell_type": "code",
      "metadata": {
        "id": "iQiClwYK_2Gp",
        "colab_type": "code",
        "colab": {}
      },
      "source": [
        "learn.freeze_to(-2) # unfreeze last 2 layers\n",
        "#learn.fit_one_cycle(2, 1e-2, moms=(0.8,0.7))# and then train them"
      ],
      "execution_count": 0,
      "outputs": []
    },
    {
      "cell_type": "code",
      "metadata": {
        "id": "WtRBlAZh82fr",
        "colab_type": "code",
        "outputId": "080e5ffe-cebc-4750-a03e-aa6a63a92660",
        "colab": {
          "base_uri": "https://localhost:8080/",
          "height": 106
        }
      },
      "source": [
        "learn.fit_one_cycle(2, slice(1e-2/(2.6**4),1e-2), moms=(0.8,0.7))"
      ],
      "execution_count": 0,
      "outputs": [
        {
          "output_type": "display_data",
          "data": {
            "text/html": [
              "<table border=\"1\" class=\"dataframe\">\n",
              "  <thead>\n",
              "    <tr style=\"text-align: left;\">\n",
              "      <th>epoch</th>\n",
              "      <th>train_loss</th>\n",
              "      <th>valid_loss</th>\n",
              "      <th>accuracy</th>\n",
              "      <th>time</th>\n",
              "    </tr>\n",
              "  </thead>\n",
              "  <tbody>\n",
              "    <tr>\n",
              "      <td>0</td>\n",
              "      <td>1.376572</td>\n",
              "      <td>1.179297</td>\n",
              "      <td>0.632017</td>\n",
              "      <td>05:53</td>\n",
              "    </tr>\n",
              "    <tr>\n",
              "      <td>1</td>\n",
              "      <td>1.113293</td>\n",
              "      <td>1.097845</td>\n",
              "      <td>0.656272</td>\n",
              "      <td>05:22</td>\n",
              "    </tr>\n",
              "  </tbody>\n",
              "</table>"
            ],
            "text/plain": [
              "<IPython.core.display.HTML object>"
            ]
          },
          "metadata": {
            "tags": []
          }
        }
      ]
    },
    {
      "cell_type": "code",
      "metadata": {
        "id": "4O5P1MsiIPHe",
        "colab_type": "code",
        "colab": {}
      },
      "source": [
        "# https://forums.fast.ai/t/continue-training-an-already-trained-model/34790\n",
        "# learn.fit_one_cycle(2, 1e-2) # Another 2 cycles"
      ],
      "execution_count": 0,
      "outputs": []
    },
    {
      "cell_type": "code",
      "metadata": {
        "id": "moT93NzGEsHr",
        "colab_type": "code",
        "colab": {}
      },
      "source": [
        "learn.save('second')"
      ],
      "execution_count": 0,
      "outputs": []
    },
    {
      "cell_type": "code",
      "metadata": {
        "id": "9y4ADh44Exr6",
        "colab_type": "code",
        "colab": {}
      },
      "source": [
        "learn.load('second');"
      ],
      "execution_count": 0,
      "outputs": []
    },
    {
      "cell_type": "code",
      "metadata": {
        "id": "sF_xqXdy_Pba",
        "colab_type": "code",
        "outputId": "17b2f59e-a3c0-4bc0-e326-bf6015b180cb",
        "colab": {
          "base_uri": "https://localhost:8080/",
          "height": 106
        }
      },
      "source": [
        "learn.freeze_to(-3)\n",
        "learn.fit_one_cycle(2, slice(5e-3/(2.6**4),5e-3), moms=(0.8,0.7)) # almost half an order lower in range this time"
      ],
      "execution_count": 0,
      "outputs": [
        {
          "output_type": "display_data",
          "data": {
            "text/html": [
              "<table border=\"1\" class=\"dataframe\">\n",
              "  <thead>\n",
              "    <tr style=\"text-align: left;\">\n",
              "      <th>epoch</th>\n",
              "      <th>train_loss</th>\n",
              "      <th>valid_loss</th>\n",
              "      <th>accuracy</th>\n",
              "      <th>time</th>\n",
              "    </tr>\n",
              "  </thead>\n",
              "  <tbody>\n",
              "    <tr>\n",
              "      <td>0</td>\n",
              "      <td>1.134160</td>\n",
              "      <td>1.056748</td>\n",
              "      <td>0.668053</td>\n",
              "      <td>06:49</td>\n",
              "    </tr>\n",
              "    <tr>\n",
              "      <td>1</td>\n",
              "      <td>0.820568</td>\n",
              "      <td>1.009615</td>\n",
              "      <td>0.699931</td>\n",
              "      <td>06:19</td>\n",
              "    </tr>\n",
              "  </tbody>\n",
              "</table>"
            ],
            "text/plain": [
              "<IPython.core.display.HTML object>"
            ]
          },
          "metadata": {
            "tags": []
          }
        }
      ]
    },
    {
      "cell_type": "code",
      "metadata": {
        "id": "uB1psjN8NLf2",
        "colab_type": "code",
        "colab": {}
      },
      "source": [
        "learn.save('third')# todo: some other steps.. and possibly a callback for saving best model"
      ],
      "execution_count": 0,
      "outputs": []
    },
    {
      "cell_type": "code",
      "metadata": {
        "id": "BDI5k00z_bfQ",
        "colab_type": "code",
        "colab": {}
      },
      "source": [
        "learn.load('third')"
      ],
      "execution_count": 0,
      "outputs": []
    },
    {
      "cell_type": "code",
      "metadata": {
        "id": "0XLM9mLv_lVn",
        "colab_type": "code",
        "outputId": "70e54622-9a21-47c4-8117-17ce6bf1bc1c",
        "colab": {
          "base_uri": "https://localhost:8080/",
          "height": 136
        }
      },
      "source": [
        "learn.unfreeze() # unfreze all\n",
        "learn.fit_one_cycle(3, slice(1e-3/(2.6**4),1e-3), moms=(0.8,0.7))"
      ],
      "execution_count": 0,
      "outputs": [
        {
          "output_type": "display_data",
          "data": {
            "text/html": [
              "<table border=\"1\" class=\"dataframe\">\n",
              "  <thead>\n",
              "    <tr style=\"text-align: left;\">\n",
              "      <th>epoch</th>\n",
              "      <th>train_loss</th>\n",
              "      <th>valid_loss</th>\n",
              "      <th>accuracy</th>\n",
              "      <th>time</th>\n",
              "    </tr>\n",
              "  </thead>\n",
              "  <tbody>\n",
              "    <tr>\n",
              "      <td>0</td>\n",
              "      <td>0.774484</td>\n",
              "      <td>0.977860</td>\n",
              "      <td>0.705475</td>\n",
              "      <td>08:41</td>\n",
              "    </tr>\n",
              "    <tr>\n",
              "      <td>1</td>\n",
              "      <td>0.749806</td>\n",
              "      <td>0.980315</td>\n",
              "      <td>0.710326</td>\n",
              "      <td>08:53</td>\n",
              "    </tr>\n",
              "    <tr>\n",
              "      <td>2</td>\n",
              "      <td>0.662601</td>\n",
              "      <td>0.970425</td>\n",
              "      <td>0.717949</td>\n",
              "      <td>07:31</td>\n",
              "    </tr>\n",
              "  </tbody>\n",
              "</table>"
            ],
            "text/plain": [
              "<IPython.core.display.HTML object>"
            ]
          },
          "metadata": {
            "tags": []
          }
        }
      ]
    },
    {
      "cell_type": "code",
      "metadata": {
        "id": "9uL9aBgkBzVw",
        "colab_type": "code",
        "colab": {}
      },
      "source": [
        "learn.save('unfreeze_all')"
      ],
      "execution_count": 0,
      "outputs": []
    },
    {
      "cell_type": "code",
      "metadata": {
        "id": "GAHYB_TDB2qv",
        "colab_type": "code",
        "colab": {}
      },
      "source": [
        "learn.load('unfreeze_all')"
      ],
      "execution_count": 0,
      "outputs": []
    },
    {
      "cell_type": "code",
      "metadata": {
        "id": "pLDQnAO0G9qc",
        "colab_type": "code",
        "colab": {}
      },
      "source": [
        "# 60-> 70% improvement in accuracy 1 1 2 4 : CYCLES\n",
        "# 3224 -> 70+% # NO EPOCHs 3223"
      ],
      "execution_count": 0,
      "outputs": []
    },
    {
      "cell_type": "code",
      "metadata": {
        "id": "sZacni0oHD49",
        "colab_type": "code",
        "colab": {}
      },
      "source": [
        "# next steps "
      ],
      "execution_count": 0,
      "outputs": []
    },
    {
      "cell_type": "code",
      "metadata": {
        "id": "WfqC2JbVQZLB",
        "colab_type": "code",
        "colab": {}
      },
      "source": [
        "preds, targets = learn.get_preds() #gets preds of the validation data set"
      ],
      "execution_count": 0,
      "outputs": []
    },
    {
      "cell_type": "code",
      "metadata": {
        "id": "j9z4nTJARenO",
        "colab_type": "code",
        "outputId": "5cb5b1fd-1382-4599-e05f-6f2df6371607",
        "colab": {
          "base_uri": "https://localhost:8080/",
          "height": 669
        }
      },
      "source": [
        "predictions = np.argmax(preds, axis = 1)\n",
        "pd.crosstab(predictions, targets)"
      ],
      "execution_count": 0,
      "outputs": [
        {
          "output_type": "execute_result",
          "data": {
            "text/html": [
              "<div>\n",
              "<style scoped>\n",
              "    .dataframe tbody tr th:only-of-type {\n",
              "        vertical-align: middle;\n",
              "    }\n",
              "\n",
              "    .dataframe tbody tr th {\n",
              "        vertical-align: top;\n",
              "    }\n",
              "\n",
              "    .dataframe thead th {\n",
              "        text-align: right;\n",
              "    }\n",
              "</style>\n",
              "<table border=\"1\" class=\"dataframe\">\n",
              "  <thead>\n",
              "    <tr style=\"text-align: right;\">\n",
              "      <th>col_0</th>\n",
              "      <th>0</th>\n",
              "      <th>1</th>\n",
              "      <th>2</th>\n",
              "      <th>3</th>\n",
              "      <th>4</th>\n",
              "      <th>5</th>\n",
              "      <th>6</th>\n",
              "      <th>7</th>\n",
              "      <th>8</th>\n",
              "      <th>9</th>\n",
              "      <th>10</th>\n",
              "      <th>11</th>\n",
              "      <th>12</th>\n",
              "      <th>13</th>\n",
              "      <th>14</th>\n",
              "      <th>15</th>\n",
              "      <th>16</th>\n",
              "      <th>17</th>\n",
              "      <th>18</th>\n",
              "      <th>19</th>\n",
              "    </tr>\n",
              "    <tr>\n",
              "      <th>row_0</th>\n",
              "      <th></th>\n",
              "      <th></th>\n",
              "      <th></th>\n",
              "      <th></th>\n",
              "      <th></th>\n",
              "      <th></th>\n",
              "      <th></th>\n",
              "      <th></th>\n",
              "      <th></th>\n",
              "      <th></th>\n",
              "      <th></th>\n",
              "      <th></th>\n",
              "      <th></th>\n",
              "      <th></th>\n",
              "      <th></th>\n",
              "      <th></th>\n",
              "      <th></th>\n",
              "      <th></th>\n",
              "      <th></th>\n",
              "      <th></th>\n",
              "    </tr>\n",
              "  </thead>\n",
              "  <tbody>\n",
              "    <tr>\n",
              "      <th>0</th>\n",
              "      <td>34</td>\n",
              "      <td>0</td>\n",
              "      <td>0</td>\n",
              "      <td>0</td>\n",
              "      <td>0</td>\n",
              "      <td>1</td>\n",
              "      <td>0</td>\n",
              "      <td>2</td>\n",
              "      <td>4</td>\n",
              "      <td>1</td>\n",
              "      <td>2</td>\n",
              "      <td>2</td>\n",
              "      <td>1</td>\n",
              "      <td>5</td>\n",
              "      <td>0</td>\n",
              "      <td>8</td>\n",
              "      <td>4</td>\n",
              "      <td>2</td>\n",
              "      <td>2</td>\n",
              "      <td>9</td>\n",
              "    </tr>\n",
              "    <tr>\n",
              "      <th>1</th>\n",
              "      <td>0</td>\n",
              "      <td>43</td>\n",
              "      <td>5</td>\n",
              "      <td>6</td>\n",
              "      <td>1</td>\n",
              "      <td>5</td>\n",
              "      <td>0</td>\n",
              "      <td>1</td>\n",
              "      <td>0</td>\n",
              "      <td>2</td>\n",
              "      <td>0</td>\n",
              "      <td>1</td>\n",
              "      <td>6</td>\n",
              "      <td>1</td>\n",
              "      <td>2</td>\n",
              "      <td>1</td>\n",
              "      <td>0</td>\n",
              "      <td>0</td>\n",
              "      <td>0</td>\n",
              "      <td>0</td>\n",
              "    </tr>\n",
              "    <tr>\n",
              "      <th>2</th>\n",
              "      <td>0</td>\n",
              "      <td>8</td>\n",
              "      <td>51</td>\n",
              "      <td>9</td>\n",
              "      <td>1</td>\n",
              "      <td>0</td>\n",
              "      <td>4</td>\n",
              "      <td>0</td>\n",
              "      <td>0</td>\n",
              "      <td>0</td>\n",
              "      <td>0</td>\n",
              "      <td>2</td>\n",
              "      <td>0</td>\n",
              "      <td>0</td>\n",
              "      <td>0</td>\n",
              "      <td>1</td>\n",
              "      <td>1</td>\n",
              "      <td>0</td>\n",
              "      <td>0</td>\n",
              "      <td>1</td>\n",
              "    </tr>\n",
              "    <tr>\n",
              "      <th>3</th>\n",
              "      <td>0</td>\n",
              "      <td>3</td>\n",
              "      <td>11</td>\n",
              "      <td>45</td>\n",
              "      <td>5</td>\n",
              "      <td>0</td>\n",
              "      <td>3</td>\n",
              "      <td>0</td>\n",
              "      <td>0</td>\n",
              "      <td>0</td>\n",
              "      <td>0</td>\n",
              "      <td>0</td>\n",
              "      <td>5</td>\n",
              "      <td>0</td>\n",
              "      <td>0</td>\n",
              "      <td>0</td>\n",
              "      <td>0</td>\n",
              "      <td>0</td>\n",
              "      <td>0</td>\n",
              "      <td>0</td>\n",
              "    </tr>\n",
              "    <tr>\n",
              "      <th>4</th>\n",
              "      <td>0</td>\n",
              "      <td>4</td>\n",
              "      <td>2</td>\n",
              "      <td>8</td>\n",
              "      <td>55</td>\n",
              "      <td>1</td>\n",
              "      <td>1</td>\n",
              "      <td>1</td>\n",
              "      <td>1</td>\n",
              "      <td>1</td>\n",
              "      <td>0</td>\n",
              "      <td>0</td>\n",
              "      <td>5</td>\n",
              "      <td>0</td>\n",
              "      <td>2</td>\n",
              "      <td>0</td>\n",
              "      <td>2</td>\n",
              "      <td>0</td>\n",
              "      <td>1</td>\n",
              "      <td>0</td>\n",
              "    </tr>\n",
              "    <tr>\n",
              "      <th>5</th>\n",
              "      <td>2</td>\n",
              "      <td>4</td>\n",
              "      <td>3</td>\n",
              "      <td>1</td>\n",
              "      <td>1</td>\n",
              "      <td>64</td>\n",
              "      <td>2</td>\n",
              "      <td>0</td>\n",
              "      <td>2</td>\n",
              "      <td>0</td>\n",
              "      <td>0</td>\n",
              "      <td>2</td>\n",
              "      <td>0</td>\n",
              "      <td>0</td>\n",
              "      <td>1</td>\n",
              "      <td>1</td>\n",
              "      <td>1</td>\n",
              "      <td>1</td>\n",
              "      <td>0</td>\n",
              "      <td>0</td>\n",
              "    </tr>\n",
              "    <tr>\n",
              "      <th>6</th>\n",
              "      <td>0</td>\n",
              "      <td>0</td>\n",
              "      <td>1</td>\n",
              "      <td>2</td>\n",
              "      <td>1</td>\n",
              "      <td>1</td>\n",
              "      <td>54</td>\n",
              "      <td>3</td>\n",
              "      <td>2</td>\n",
              "      <td>0</td>\n",
              "      <td>0</td>\n",
              "      <td>0</td>\n",
              "      <td>0</td>\n",
              "      <td>0</td>\n",
              "      <td>0</td>\n",
              "      <td>0</td>\n",
              "      <td>0</td>\n",
              "      <td>0</td>\n",
              "      <td>0</td>\n",
              "      <td>0</td>\n",
              "    </tr>\n",
              "    <tr>\n",
              "      <th>7</th>\n",
              "      <td>2</td>\n",
              "      <td>0</td>\n",
              "      <td>1</td>\n",
              "      <td>0</td>\n",
              "      <td>1</td>\n",
              "      <td>0</td>\n",
              "      <td>1</td>\n",
              "      <td>59</td>\n",
              "      <td>12</td>\n",
              "      <td>1</td>\n",
              "      <td>1</td>\n",
              "      <td>0</td>\n",
              "      <td>5</td>\n",
              "      <td>1</td>\n",
              "      <td>1</td>\n",
              "      <td>0</td>\n",
              "      <td>2</td>\n",
              "      <td>1</td>\n",
              "      <td>2</td>\n",
              "      <td>1</td>\n",
              "    </tr>\n",
              "    <tr>\n",
              "      <th>8</th>\n",
              "      <td>4</td>\n",
              "      <td>0</td>\n",
              "      <td>0</td>\n",
              "      <td>0</td>\n",
              "      <td>1</td>\n",
              "      <td>0</td>\n",
              "      <td>3</td>\n",
              "      <td>7</td>\n",
              "      <td>48</td>\n",
              "      <td>1</td>\n",
              "      <td>4</td>\n",
              "      <td>0</td>\n",
              "      <td>0</td>\n",
              "      <td>0</td>\n",
              "      <td>1</td>\n",
              "      <td>0</td>\n",
              "      <td>0</td>\n",
              "      <td>0</td>\n",
              "      <td>1</td>\n",
              "      <td>0</td>\n",
              "    </tr>\n",
              "    <tr>\n",
              "      <th>9</th>\n",
              "      <td>0</td>\n",
              "      <td>2</td>\n",
              "      <td>0</td>\n",
              "      <td>0</td>\n",
              "      <td>0</td>\n",
              "      <td>0</td>\n",
              "      <td>1</td>\n",
              "      <td>0</td>\n",
              "      <td>1</td>\n",
              "      <td>64</td>\n",
              "      <td>4</td>\n",
              "      <td>0</td>\n",
              "      <td>1</td>\n",
              "      <td>2</td>\n",
              "      <td>1</td>\n",
              "      <td>0</td>\n",
              "      <td>0</td>\n",
              "      <td>1</td>\n",
              "      <td>0</td>\n",
              "      <td>1</td>\n",
              "    </tr>\n",
              "    <tr>\n",
              "      <th>10</th>\n",
              "      <td>0</td>\n",
              "      <td>0</td>\n",
              "      <td>0</td>\n",
              "      <td>0</td>\n",
              "      <td>0</td>\n",
              "      <td>1</td>\n",
              "      <td>1</td>\n",
              "      <td>0</td>\n",
              "      <td>0</td>\n",
              "      <td>4</td>\n",
              "      <td>65</td>\n",
              "      <td>1</td>\n",
              "      <td>1</td>\n",
              "      <td>0</td>\n",
              "      <td>1</td>\n",
              "      <td>0</td>\n",
              "      <td>0</td>\n",
              "      <td>2</td>\n",
              "      <td>0</td>\n",
              "      <td>0</td>\n",
              "    </tr>\n",
              "    <tr>\n",
              "      <th>11</th>\n",
              "      <td>2</td>\n",
              "      <td>1</td>\n",
              "      <td>0</td>\n",
              "      <td>0</td>\n",
              "      <td>1</td>\n",
              "      <td>0</td>\n",
              "      <td>0</td>\n",
              "      <td>0</td>\n",
              "      <td>1</td>\n",
              "      <td>0</td>\n",
              "      <td>0</td>\n",
              "      <td>60</td>\n",
              "      <td>3</td>\n",
              "      <td>0</td>\n",
              "      <td>3</td>\n",
              "      <td>1</td>\n",
              "      <td>1</td>\n",
              "      <td>2</td>\n",
              "      <td>1</td>\n",
              "      <td>0</td>\n",
              "    </tr>\n",
              "    <tr>\n",
              "      <th>12</th>\n",
              "      <td>0</td>\n",
              "      <td>3</td>\n",
              "      <td>0</td>\n",
              "      <td>3</td>\n",
              "      <td>6</td>\n",
              "      <td>2</td>\n",
              "      <td>2</td>\n",
              "      <td>1</td>\n",
              "      <td>1</td>\n",
              "      <td>0</td>\n",
              "      <td>0</td>\n",
              "      <td>1</td>\n",
              "      <td>40</td>\n",
              "      <td>1</td>\n",
              "      <td>1</td>\n",
              "      <td>0</td>\n",
              "      <td>0</td>\n",
              "      <td>1</td>\n",
              "      <td>0</td>\n",
              "      <td>0</td>\n",
              "    </tr>\n",
              "    <tr>\n",
              "      <th>13</th>\n",
              "      <td>0</td>\n",
              "      <td>2</td>\n",
              "      <td>1</td>\n",
              "      <td>0</td>\n",
              "      <td>0</td>\n",
              "      <td>1</td>\n",
              "      <td>0</td>\n",
              "      <td>0</td>\n",
              "      <td>0</td>\n",
              "      <td>1</td>\n",
              "      <td>0</td>\n",
              "      <td>1</td>\n",
              "      <td>2</td>\n",
              "      <td>64</td>\n",
              "      <td>0</td>\n",
              "      <td>0</td>\n",
              "      <td>1</td>\n",
              "      <td>1</td>\n",
              "      <td>1</td>\n",
              "      <td>0</td>\n",
              "    </tr>\n",
              "    <tr>\n",
              "      <th>14</th>\n",
              "      <td>0</td>\n",
              "      <td>2</td>\n",
              "      <td>0</td>\n",
              "      <td>1</td>\n",
              "      <td>1</td>\n",
              "      <td>0</td>\n",
              "      <td>2</td>\n",
              "      <td>0</td>\n",
              "      <td>1</td>\n",
              "      <td>0</td>\n",
              "      <td>0</td>\n",
              "      <td>3</td>\n",
              "      <td>3</td>\n",
              "      <td>0</td>\n",
              "      <td>59</td>\n",
              "      <td>0</td>\n",
              "      <td>1</td>\n",
              "      <td>0</td>\n",
              "      <td>3</td>\n",
              "      <td>0</td>\n",
              "    </tr>\n",
              "    <tr>\n",
              "      <th>15</th>\n",
              "      <td>8</td>\n",
              "      <td>1</td>\n",
              "      <td>0</td>\n",
              "      <td>0</td>\n",
              "      <td>0</td>\n",
              "      <td>0</td>\n",
              "      <td>1</td>\n",
              "      <td>0</td>\n",
              "      <td>0</td>\n",
              "      <td>0</td>\n",
              "      <td>0</td>\n",
              "      <td>1</td>\n",
              "      <td>1</td>\n",
              "      <td>0</td>\n",
              "      <td>2</td>\n",
              "      <td>61</td>\n",
              "      <td>0</td>\n",
              "      <td>1</td>\n",
              "      <td>0</td>\n",
              "      <td>12</td>\n",
              "    </tr>\n",
              "    <tr>\n",
              "      <th>16</th>\n",
              "      <td>2</td>\n",
              "      <td>1</td>\n",
              "      <td>0</td>\n",
              "      <td>0</td>\n",
              "      <td>0</td>\n",
              "      <td>0</td>\n",
              "      <td>0</td>\n",
              "      <td>0</td>\n",
              "      <td>0</td>\n",
              "      <td>0</td>\n",
              "      <td>0</td>\n",
              "      <td>1</td>\n",
              "      <td>0</td>\n",
              "      <td>0</td>\n",
              "      <td>1</td>\n",
              "      <td>0</td>\n",
              "      <td>50</td>\n",
              "      <td>1</td>\n",
              "      <td>3</td>\n",
              "      <td>4</td>\n",
              "    </tr>\n",
              "    <tr>\n",
              "      <th>17</th>\n",
              "      <td>1</td>\n",
              "      <td>0</td>\n",
              "      <td>0</td>\n",
              "      <td>0</td>\n",
              "      <td>0</td>\n",
              "      <td>0</td>\n",
              "      <td>0</td>\n",
              "      <td>1</td>\n",
              "      <td>0</td>\n",
              "      <td>0</td>\n",
              "      <td>0</td>\n",
              "      <td>1</td>\n",
              "      <td>0</td>\n",
              "      <td>0</td>\n",
              "      <td>0</td>\n",
              "      <td>0</td>\n",
              "      <td>1</td>\n",
              "      <td>58</td>\n",
              "      <td>1</td>\n",
              "      <td>1</td>\n",
              "    </tr>\n",
              "    <tr>\n",
              "      <th>18</th>\n",
              "      <td>2</td>\n",
              "      <td>0</td>\n",
              "      <td>0</td>\n",
              "      <td>0</td>\n",
              "      <td>0</td>\n",
              "      <td>0</td>\n",
              "      <td>0</td>\n",
              "      <td>1</td>\n",
              "      <td>3</td>\n",
              "      <td>0</td>\n",
              "      <td>1</td>\n",
              "      <td>0</td>\n",
              "      <td>2</td>\n",
              "      <td>2</td>\n",
              "      <td>0</td>\n",
              "      <td>2</td>\n",
              "      <td>6</td>\n",
              "      <td>1</td>\n",
              "      <td>44</td>\n",
              "      <td>1</td>\n",
              "    </tr>\n",
              "    <tr>\n",
              "      <th>19</th>\n",
              "      <td>4</td>\n",
              "      <td>0</td>\n",
              "      <td>0</td>\n",
              "      <td>0</td>\n",
              "      <td>0</td>\n",
              "      <td>0</td>\n",
              "      <td>0</td>\n",
              "      <td>0</td>\n",
              "      <td>0</td>\n",
              "      <td>1</td>\n",
              "      <td>0</td>\n",
              "      <td>0</td>\n",
              "      <td>0</td>\n",
              "      <td>0</td>\n",
              "      <td>1</td>\n",
              "      <td>1</td>\n",
              "      <td>0</td>\n",
              "      <td>0</td>\n",
              "      <td>0</td>\n",
              "      <td>18</td>\n",
              "    </tr>\n",
              "  </tbody>\n",
              "</table>\n",
              "</div>"
            ],
            "text/plain": [
              "col_0  0   1   2   3   4   5   6   7   8   ...  11  12  13  14  15  16  17  18  19\n",
              "row_0                                      ...                                    \n",
              "0      34   0   0   0   0   1   0   2   4  ...   2   1   5   0   8   4   2   2   9\n",
              "1       0  43   5   6   1   5   0   1   0  ...   1   6   1   2   1   0   0   0   0\n",
              "2       0   8  51   9   1   0   4   0   0  ...   2   0   0   0   1   1   0   0   1\n",
              "3       0   3  11  45   5   0   3   0   0  ...   0   5   0   0   0   0   0   0   0\n",
              "4       0   4   2   8  55   1   1   1   1  ...   0   5   0   2   0   2   0   1   0\n",
              "5       2   4   3   1   1  64   2   0   2  ...   2   0   0   1   1   1   1   0   0\n",
              "6       0   0   1   2   1   1  54   3   2  ...   0   0   0   0   0   0   0   0   0\n",
              "7       2   0   1   0   1   0   1  59  12  ...   0   5   1   1   0   2   1   2   1\n",
              "8       4   0   0   0   1   0   3   7  48  ...   0   0   0   1   0   0   0   1   0\n",
              "9       0   2   0   0   0   0   1   0   1  ...   0   1   2   1   0   0   1   0   1\n",
              "10      0   0   0   0   0   1   1   0   0  ...   1   1   0   1   0   0   2   0   0\n",
              "11      2   1   0   0   1   0   0   0   1  ...  60   3   0   3   1   1   2   1   0\n",
              "12      0   3   0   3   6   2   2   1   1  ...   1  40   1   1   0   0   1   0   0\n",
              "13      0   2   1   0   0   1   0   0   0  ...   1   2  64   0   0   1   1   1   0\n",
              "14      0   2   0   1   1   0   2   0   1  ...   3   3   0  59   0   1   0   3   0\n",
              "15      8   1   0   0   0   0   1   0   0  ...   1   1   0   2  61   0   1   0  12\n",
              "16      2   1   0   0   0   0   0   0   0  ...   1   0   0   1   0  50   1   3   4\n",
              "17      1   0   0   0   0   0   0   1   0  ...   1   0   0   0   0   1  58   1   1\n",
              "18      2   0   0   0   0   0   0   1   3  ...   0   2   2   0   2   6   1  44   1\n",
              "19      4   0   0   0   0   0   0   0   0  ...   0   0   0   1   1   0   0   0  18\n",
              "\n",
              "[20 rows x 20 columns]"
            ]
          },
          "metadata": {
            "tags": []
          },
          "execution_count": 66
        }
      ]
    },
    {
      "cell_type": "code",
      "metadata": {
        "id": "p20ArapELpPW",
        "colab_type": "code",
        "outputId": "11c2820e-daed-46f6-b21c-a4145bdb3b67",
        "colab": {
          "base_uri": "https://localhost:8080/",
          "height": 34
        }
      },
      "source": [
        "np.sum((targets ==predictions.squeeze()).numpy())/df_val.shape[0] # accuracy checkls out"
      ],
      "execution_count": 0,
      "outputs": [
        {
          "output_type": "execute_result",
          "data": {
            "text/plain": [
              "0.717948717948718"
            ]
          },
          "metadata": {
            "tags": []
          },
          "execution_count": 69
        }
      ]
    },
    {
      "cell_type": "code",
      "metadata": {
        "id": "vTZE7-R_MfEH",
        "colab_type": "code",
        "colab": {}
      },
      "source": [
        "_,preds_t1=preds.topk(1)"
      ],
      "execution_count": 0,
      "outputs": []
    },
    {
      "cell_type": "code",
      "metadata": {
        "id": "i5_49k_gMmrW",
        "colab_type": "code",
        "outputId": "c63a72f3-d16f-4bbc-8727-0831b530236c",
        "colab": {
          "base_uri": "https://localhost:8080/",
          "height": 34
        }
      },
      "source": [
        "preds_t1.squeeze()"
      ],
      "execution_count": 0,
      "outputs": [
        {
          "output_type": "execute_result",
          "data": {
            "text/plain": [
              "tensor([ 2,  5, 15,  ...,  4,  4,  4])"
            ]
          },
          "metadata": {
            "tags": []
          },
          "execution_count": 74
        }
      ]
    },
    {
      "cell_type": "code",
      "metadata": {
        "id": "-pmQmlWeLo3i",
        "colab_type": "code",
        "outputId": "fd15a3ea-b8e5-493a-ec02-d1e11fa703e3",
        "colab": {
          "base_uri": "https://localhost:8080/",
          "height": 34
        }
      },
      "source": [
        "np.sum((targets == preds_t1.squeeze()).numpy())/df_val.shape[0] # topk checks out"
      ],
      "execution_count": 0,
      "outputs": [
        {
          "output_type": "execute_result",
          "data": {
            "text/plain": [
              "0.717948717948718"
            ]
          },
          "metadata": {
            "tags": []
          },
          "execution_count": 76
        }
      ]
    },
    {
      "cell_type": "code",
      "metadata": {
        "id": "5EzBfhXGM-Iw",
        "colab_type": "code",
        "colab": {}
      },
      "source": [
        "_,preds_t2 = preds.topk(2)"
      ],
      "execution_count": 0,
      "outputs": []
    },
    {
      "cell_type": "code",
      "metadata": {
        "id": "iCBhhoGXM95e",
        "colab_type": "code",
        "outputId": "ad2df06a-2b20-4dc0-996a-fb5860e38f41",
        "colab": {
          "base_uri": "https://localhost:8080/",
          "height": 134
        }
      },
      "source": [
        "preds_t2[]"
      ],
      "execution_count": 0,
      "outputs": [
        {
          "output_type": "execute_result",
          "data": {
            "text/plain": [
              "tensor([[ 2,  5],\n",
              "        [ 5,  2],\n",
              "        [15, 19],\n",
              "        ...,\n",
              "        [ 4, 11],\n",
              "        [ 4, 11],\n",
              "        [ 4, 11]])"
            ]
          },
          "metadata": {
            "tags": []
          },
          "execution_count": 78
        }
      ]
    },
    {
      "cell_type": "code",
      "metadata": {
        "id": "j03MfkgMNMt7",
        "colab_type": "code",
        "outputId": "5dde4715-dc06-40cf-e585-a819c82d3380",
        "colab": {
          "base_uri": "https://localhost:8080/",
          "height": 34
        }
      },
      "source": [
        "preds_t2[:,1]"
      ],
      "execution_count": 0,
      "outputs": [
        {
          "output_type": "execute_result",
          "data": {
            "text/plain": [
              "tensor([ 5,  2, 19,  ..., 11, 11, 11])"
            ]
          },
          "metadata": {
            "tags": []
          },
          "execution_count": 79
        }
      ]
    },
    {
      "cell_type": "code",
      "metadata": {
        "id": "52jFhTW6NQTi",
        "colab_type": "code",
        "outputId": "a10f37b9-c139-4053-98cb-c87b28b395ce",
        "colab": {
          "base_uri": "https://localhost:8080/",
          "height": 34
        }
      },
      "source": [
        "np.sum((targets == preds_t2[:,1]).numpy())/df_val.shape[0] # no squeeze here"
      ],
      "execution_count": 0,
      "outputs": [
        {
          "output_type": "execute_result",
          "data": {
            "text/plain": [
              "0.11365211365211365"
            ]
          },
          "metadata": {
            "tags": []
          },
          "execution_count": 80
        }
      ]
    },
    {
      "cell_type": "code",
      "metadata": {
        "id": "cG5R3qNiNeKW",
        "colab_type": "code",
        "colab": {}
      },
      "source": [
        "_,preds_t3 = preds.topk(3)"
      ],
      "execution_count": 0,
      "outputs": []
    },
    {
      "cell_type": "code",
      "metadata": {
        "id": "BWX6XSXTNiS2",
        "colab_type": "code",
        "outputId": "04c6b34a-0549-41cf-f0de-e0cce1afc61c",
        "colab": {
          "base_uri": "https://localhost:8080/",
          "height": 34
        }
      },
      "source": [
        "np.sum((targets == preds_t3[:,2]).numpy())/df_val.shape[0] # no squeeze here"
      ],
      "execution_count": 0,
      "outputs": [
        {
          "output_type": "execute_result",
          "data": {
            "text/plain": [
              "0.042966042966042964"
            ]
          },
          "metadata": {
            "tags": []
          },
          "execution_count": 82
        }
      ]
    },
    {
      "cell_type": "code",
      "metadata": {
        "id": "n2H51PDrNnW2",
        "colab_type": "code",
        "colab": {}
      },
      "source": [
        "#top 3 accuracy\n",
        "# a contrived way admittedly\n",
        "a = np.sum((targets == preds_t1.squeeze()).numpy())/df_val.shape[0] \n",
        "b = np.sum((targets == preds_t2[:,1]).numpy())/df_val.shape[0] \n",
        "c = np.sum((targets == preds_t3[:,2]).numpy())/df_val.shape[0] \n"
      ],
      "execution_count": 0,
      "outputs": []
    },
    {
      "cell_type": "code",
      "metadata": {
        "id": "fswzpo9XOG4u",
        "colab_type": "code",
        "outputId": "05551433-152d-4cd0-8986-3480cb5b7589",
        "colab": {
          "base_uri": "https://localhost:8080/",
          "height": 34
        }
      },
      "source": [
        "a+b+c"
      ],
      "execution_count": 0,
      "outputs": [
        {
          "output_type": "execute_result",
          "data": {
            "text/plain": [
              "0.8745668745668747"
            ]
          },
          "metadata": {
            "tags": []
          },
          "execution_count": 89
        }
      ]
    },
    {
      "cell_type": "code",
      "metadata": {
        "id": "3ECNYFs-yfxV",
        "colab_type": "code",
        "colab": {}
      },
      "source": [
        "#TODO add the df_test into the data"
      ],
      "execution_count": 0,
      "outputs": []
    },
    {
      "cell_type": "code",
      "metadata": {
        "id": "d3lOsYyHKrfz",
        "colab_type": "code",
        "colab": {}
      },
      "source": [
        "# getting top k values \n",
        "#https://github.com/pytorch/pytorch/issues/22812"
      ],
      "execution_count": 0,
      "outputs": []
    },
    {
      "cell_type": "markdown",
      "metadata": {
        "id": "1MMwwt7UK22z",
        "colab_type": "text"
      },
      "source": [
        "## Running classifier on df_test"
      ]
    },
    {
      "cell_type": "code",
      "metadata": {
        "id": "HUpYAALOLAoi",
        "colab_type": "code",
        "colab": {}
      },
      "source": [
        "#preds, targets = learn.get_preds(learn.data.test_ds)\n",
        "preds, targets = learn.get_preds(DatasetType.Test)"
      ],
      "execution_count": 0,
      "outputs": []
    },
    {
      "cell_type": "code",
      "metadata": {
        "id": "6oxyzDr0RElr",
        "colab_type": "code",
        "outputId": "c626a22a-b5da-41a7-dcba-73009d07b8a7",
        "colab": {
          "base_uri": "https://localhost:8080/",
          "height": 235
        }
      },
      "source": [
        "preds"
      ],
      "execution_count": 0,
      "outputs": [
        {
          "output_type": "execute_result",
          "data": {
            "text/plain": [
              "tensor([[9.0699e-06, 8.4475e-04, 9.9555e-01,  ..., 1.7419e-06, 1.5014e-06,\n",
              "         3.8732e-07],\n",
              "        [3.0804e-05, 9.0752e-01, 7.9175e-03,  ..., 8.9121e-06, 1.6581e-05,\n",
              "         3.3157e-05],\n",
              "        [5.1888e-05, 9.7126e-01, 1.2015e-02,  ..., 1.6015e-05, 2.8513e-06,\n",
              "         8.0924e-05],\n",
              "        ...,\n",
              "        [5.7998e-02, 4.8351e-02, 4.2174e-02,  ..., 3.4702e-02, 3.1545e-02,\n",
              "         6.4266e-02],\n",
              "        [5.7998e-02, 4.8351e-02, 4.2174e-02,  ..., 3.4702e-02, 3.1545e-02,\n",
              "         6.4266e-02],\n",
              "        [5.7998e-02, 4.8351e-02, 4.2174e-02,  ..., 3.4702e-02, 3.1545e-02,\n",
              "         6.4266e-02]])"
            ]
          },
          "metadata": {
            "tags": []
          },
          "execution_count": 104
        }
      ]
    },
    {
      "cell_type": "code",
      "metadata": {
        "id": "zc-pwEqQRGpz",
        "colab_type": "code",
        "outputId": "4b77548f-45ba-422b-ce49-11b1bae1920e",
        "colab": {
          "base_uri": "https://localhost:8080/",
          "height": 34
        }
      },
      "source": [
        "targets # predictably the targets is all zeros\\\n",
        "# see link\n",
        "# https://forums.fast.ai/t/how-to-reliably-use-get-preds-on-the-test-set-for-ulmfit/34786/4"
      ],
      "execution_count": 0,
      "outputs": [
        {
          "output_type": "execute_result",
          "data": {
            "text/plain": [
              "tensor([0, 0, 0,  ..., 0, 0, 0])"
            ]
          },
          "metadata": {
            "tags": []
          },
          "execution_count": 106
        }
      ]
    },
    {
      "cell_type": "code",
      "metadata": {
        "id": "FPc-cEx9PIXy",
        "colab_type": "code",
        "colab": {}
      },
      "source": [
        ""
      ],
      "execution_count": 0,
      "outputs": []
    }
  ]
}