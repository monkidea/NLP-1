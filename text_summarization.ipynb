{
  "nbformat": 4,
  "nbformat_minor": 0,
  "metadata": {
    "colab": {
      "name": "text summarization.ipynb",
      "provenance": [],
      "collapsed_sections": [],
      "include_colab_link": true
    },
    "kernelspec": {
      "name": "python3",
      "display_name": "Python 3"
    }
  },
  "cells": [
    {
      "cell_type": "markdown",
      "metadata": {
        "id": "view-in-github",
        "colab_type": "text"
      },
      "source": [
        "<a href=\"https://colab.research.google.com/github/ronykroy/NLP/blob/master/text_summarization.ipynb\" target=\"_parent\"><img src=\"https://colab.research.google.com/assets/colab-badge.svg\" alt=\"Open In Colab\"/></a>"
      ]
    },
    {
      "cell_type": "markdown",
      "metadata": {
        "id": "NlHFg2rE3fsU",
        "colab_type": "text"
      },
      "source": [
        "Summarization : the process of creating short and meaningful summaries from a larger text [duh]  \n",
        "**Extractive Methods**: These methods rely on extracting several parts, such as phrases and sentences, from a piece of text and stack them together to create a summary. Therefore, identifying the right sentences for summarization is of utmost importance in an extractive method.   \n",
        "1. TextRank\n",
        "2. LexRank\n",
        "3. LSA\n",
        "\n",
        "**Abstractive Methods**: \n",
        "1. Encoder Decoder\n",
        "2. seq2seq RNN\n",
        "3. Transformer bert\n",
        "\n",
        "**Combination Approach**:\n",
        "1. Extract then Abstract model\n"
      ]
    },
    {
      "cell_type": "code",
      "metadata": {
        "id": "nYngww7S3TpC",
        "colab_type": "code",
        "outputId": "f65bdc4d-6a6d-4856-a4d0-cbd2abb8ffdf",
        "colab": {
          "base_uri": "https://localhost:8080/",
          "height": 202
        }
      },
      "source": [
        "# data https://archive.ics.uci.edu/ml/datasets/Legal+Case+Reports\n",
        "!wget https://archive.ics.uci.edu/ml/machine-learning-databases/00239/corpus.zip\n",
        "# https://www.affineanalytics.com/how-to-build-a-legal-document-summarizer/"
      ],
      "execution_count": 0,
      "outputs": [
        {
          "output_type": "stream",
          "text": [
            "--2019-11-05 11:47:40--  https://archive.ics.uci.edu/ml/machine-learning-databases/00239/corpus.zip\n",
            "Resolving archive.ics.uci.edu (archive.ics.uci.edu)... 128.195.10.252\n",
            "Connecting to archive.ics.uci.edu (archive.ics.uci.edu)|128.195.10.252|:443... connected.\n",
            "HTTP request sent, awaiting response... 200 OK\n",
            "Length: 84720359 (81M) [application/x-httpd-php]\n",
            "Saving to: ‘corpus.zip.1’\n",
            "\n",
            "corpus.zip.1        100%[===================>]  80.79M  36.2MB/s    in 2.2s    \n",
            "\n",
            "2019-11-05 11:47:42 (36.2 MB/s) - ‘corpus.zip.1’ saved [84720359/84720359]\n",
            "\n"
          ],
          "name": "stdout"
        }
      ]
    },
    {
      "cell_type": "code",
      "metadata": {
        "id": "WwK70XTZ4gz6",
        "colab_type": "code",
        "outputId": "a1fd9cf9-639b-4dd9-c496-d885aa7e3aba",
        "colab": {
          "base_uri": "https://localhost:8080/",
          "height": 50
        }
      },
      "source": [
        "!unzip corpus.zip"
      ],
      "execution_count": 0,
      "outputs": [
        {
          "output_type": "stream",
          "text": [
            "Archive:  corpus.zip\n",
            "replace corpus/citations_class/06_1.xml? [y]es, [n]o, [A]ll, [N]one, [r]ename: N\n"
          ],
          "name": "stdout"
        }
      ]
    },
    {
      "cell_type": "code",
      "metadata": {
        "id": "s6oYUe905elv",
        "colab_type": "code",
        "outputId": "83bff05f-cdd1-4aef-e270-4ea8c43db43b",
        "colab": {
          "base_uri": "https://localhost:8080/",
          "height": 34
        }
      },
      "source": [
        "ls corpus"
      ],
      "execution_count": 0,
      "outputs": [
        {
          "output_type": "stream",
          "text": [
            "\u001b[0m\u001b[01;34mcitations_class\u001b[0m/  \u001b[01;34mcitations_summ\u001b[0m/  \u001b[01;34mfulltext\u001b[0m/  readme.txt\n"
          ],
          "name": "stdout"
        }
      ]
    },
    {
      "cell_type": "code",
      "metadata": {
        "id": "fVjXf1pm4mzg",
        "colab_type": "code",
        "outputId": "7c00a8a1-791a-4fe1-f0f6-ae063b8b7815",
        "colab": {
          "base_uri": "https://localhost:8080/",
          "height": 34
        }
      },
      "source": [
        "ls corpus/citations_class/ | wc -l"
      ],
      "execution_count": 0,
      "outputs": [
        {
          "output_type": "stream",
          "text": [
            "2754\n"
          ],
          "name": "stdout"
        }
      ]
    },
    {
      "cell_type": "code",
      "metadata": {
        "id": "qNIg9ZSh479x",
        "colab_type": "code",
        "outputId": "0a155231-84b9-4ebf-9e76-944048f8cec3",
        "colab": {
          "base_uri": "https://localhost:8080/",
          "height": 34
        }
      },
      "source": [
        "ls corpus/citations_summ/ | wc -l"
      ],
      "execution_count": 0,
      "outputs": [
        {
          "output_type": "stream",
          "text": [
            "3890\n"
          ],
          "name": "stdout"
        }
      ]
    },
    {
      "cell_type": "code",
      "metadata": {
        "id": "JxuEWCXc5U_Y",
        "colab_type": "code",
        "outputId": "57a87c94-670c-4d0a-fe7f-9c3b128089bd",
        "colab": {
          "base_uri": "https://localhost:8080/",
          "height": 34
        }
      },
      "source": [
        "ls corpus/fulltext/ | wc -l"
      ],
      "execution_count": 0,
      "outputs": [
        {
          "output_type": "stream",
          "text": [
            "3890\n"
          ],
          "name": "stdout"
        }
      ]
    },
    {
      "cell_type": "code",
      "metadata": {
        "id": "PQcLSXsQabLY",
        "colab_type": "code",
        "colab": {}
      },
      "source": [
        "import os,sys"
      ],
      "execution_count": 0,
      "outputs": []
    },
    {
      "cell_type": "code",
      "metadata": {
        "id": "mUIjP1mCaawV",
        "colab_type": "code",
        "colab": {}
      },
      "source": [
        "import spacy\n",
        "!python -m spacy download en_core_web_lg # big model"
      ],
      "execution_count": 0,
      "outputs": []
    },
    {
      "cell_type": "code",
      "metadata": {
        "id": "f99fyPMqPm6h",
        "colab_type": "code",
        "colab": {}
      },
      "source": [
        "import re\n",
        "import pandas as pd\n",
        "import spacy\n",
        "nlp = spacy.load('en_core_web_lg')"
      ],
      "execution_count": 0,
      "outputs": []
    },
    {
      "cell_type": "code",
      "metadata": {
        "id": "rhYeum2KeW3K",
        "colab_type": "code",
        "colab": {}
      },
      "source": [
        "def read_and_add_text_fromXML_inPath(path):\n",
        "  l_sum = os.listdir(path)\n",
        "  list_return = [['file','text']]\n",
        "  for file_name in l_sum:\n",
        "    f = open(path+file_name, \"r\",encoding=\"latin-1\") # silly me\n",
        "    cleaned_text = [re.sub('<.+?>',' ',w) for w in f.readlines()]\n",
        "    cleaned_text = [re.sub('&amp;','',w) for w in cleaned_text]\n",
        "    cleaned_text = [w.rstrip(\"\\n\\r\") for w in cleaned_text]\n",
        "    cleaned_text = [re.sub('\\s+?',' ',w) for w in cleaned_text]\n",
        "    text = ''.join(cleaned_text)\n",
        "    list_temp = [file_name,text]\n",
        "    list_return.append(list_temp)\n",
        "  return list_return"
      ],
      "execution_count": 0,
      "outputs": []
    },
    {
      "cell_type": "code",
      "metadata": {
        "id": "_H7yQBwVfTWO",
        "colab_type": "code",
        "colab": {}
      },
      "source": [
        "list_citations_summary = read_and_add_text_fromXML_inPath('corpus/citations_summ/')"
      ],
      "execution_count": 0,
      "outputs": []
    },
    {
      "cell_type": "code",
      "metadata": {
        "id": "KZKAqaNHf0-9",
        "colab_type": "code",
        "colab": {}
      },
      "source": [
        "df_summ = pd.DataFrame(list_citations_summary)"
      ],
      "execution_count": 0,
      "outputs": []
    },
    {
      "cell_type": "code",
      "metadata": {
        "id": "UmdHN3TG7lfc",
        "colab_type": "code",
        "colab": {}
      },
      "source": [
        "list_citations_fulltext = read_and_add_text_fromXML_inPath('corpus/fulltext/')"
      ],
      "execution_count": 0,
      "outputs": []
    },
    {
      "cell_type": "code",
      "metadata": {
        "id": "kGM7SdLvQpfh",
        "colab_type": "code",
        "colab": {}
      },
      "source": [
        "df_full = pd.DataFrame(list_citations_fulltext)"
      ],
      "execution_count": 0,
      "outputs": []
    },
    {
      "cell_type": "code",
      "metadata": {
        "id": "QIgfpEpWQoMz",
        "colab_type": "code",
        "colab": {
          "base_uri": "https://localhost:8080/",
          "height": 402
        },
        "outputId": "8c1f6675-01dd-4efa-dc44-52ce6b7da2ee"
      },
      "source": [
        "df_summ = df_summ[1:];df_summ.columns= ['fileName','summary'];df_summ"
      ],
      "execution_count": 11,
      "outputs": [
        {
          "output_type": "execute_result",
          "data": {
            "text/html": [
              "<div>\n",
              "<style scoped>\n",
              "    .dataframe tbody tr th:only-of-type {\n",
              "        vertical-align: middle;\n",
              "    }\n",
              "\n",
              "    .dataframe tbody tr th {\n",
              "        vertical-align: top;\n",
              "    }\n",
              "\n",
              "    .dataframe thead th {\n",
              "        text-align: right;\n",
              "    }\n",
              "</style>\n",
              "<table border=\"1\" class=\"dataframe\">\n",
              "  <thead>\n",
              "    <tr style=\"text-align: right;\">\n",
              "      <th></th>\n",
              "      <th>fileName</th>\n",
              "      <th>summary</th>\n",
              "    </tr>\n",
              "  </thead>\n",
              "  <tbody>\n",
              "    <tr>\n",
              "      <th>1</th>\n",
              "      <td>06_1362.xml</td>\n",
              "      <td>Rahman v Dayeh [2006] FCA 1362 (11 October ...</td>\n",
              "    </tr>\n",
              "    <tr>\n",
              "      <th>2</th>\n",
              "      <td>07_301.xml</td>\n",
              "      <td>Military Rehabilitation and Compensation Co...</td>\n",
              "    </tr>\n",
              "    <tr>\n",
              "      <th>3</th>\n",
              "      <td>08_904.xml</td>\n",
              "      <td>SZLAN v Minister for Immigration and Citize...</td>\n",
              "    </tr>\n",
              "    <tr>\n",
              "      <th>4</th>\n",
              "      <td>06_1803.xml</td>\n",
              "      <td>SZICO v Minister for Immigration and Multic...</td>\n",
              "    </tr>\n",
              "    <tr>\n",
              "      <th>5</th>\n",
              "      <td>08_1960.xml</td>\n",
              "      <td>33 South Pty Ltd v Fitzgerald [2008] FCA 19...</td>\n",
              "    </tr>\n",
              "    <tr>\n",
              "      <th>...</th>\n",
              "      <td>...</td>\n",
              "      <td>...</td>\n",
              "    </tr>\n",
              "    <tr>\n",
              "      <th>3886</th>\n",
              "      <td>07_1705.xml</td>\n",
              "      <td>SZKET v Minister for Immigration  Citizensh...</td>\n",
              "    </tr>\n",
              "    <tr>\n",
              "      <th>3887</th>\n",
              "      <td>07_2089.xml</td>\n",
              "      <td>Haslam v Money for Living (No 3) [2007] FCA...</td>\n",
              "    </tr>\n",
              "    <tr>\n",
              "      <th>3888</th>\n",
              "      <td>06_1046.xml</td>\n",
              "      <td>Nine Films  Television Pty Limited v Ninox ...</td>\n",
              "    </tr>\n",
              "    <tr>\n",
              "      <th>3889</th>\n",
              "      <td>08_702.xml</td>\n",
              "      <td>Sterling Commerce (Australia) Pty Ltd v Ili...</td>\n",
              "    </tr>\n",
              "    <tr>\n",
              "      <th>3890</th>\n",
              "      <td>06_277.xml</td>\n",
              "      <td>In the matter of Ansett Australia Limited (...</td>\n",
              "    </tr>\n",
              "  </tbody>\n",
              "</table>\n",
              "<p>3890 rows × 2 columns</p>\n",
              "</div>"
            ],
            "text/plain": [
              "         fileName                                            summary\n",
              "1     06_1362.xml     Rahman v Dayeh [2006] FCA 1362 (11 October ...\n",
              "2      07_301.xml     Military Rehabilitation and Compensation Co...\n",
              "3      08_904.xml     SZLAN v Minister for Immigration and Citize...\n",
              "4     06_1803.xml     SZICO v Minister for Immigration and Multic...\n",
              "5     08_1960.xml     33 South Pty Ltd v Fitzgerald [2008] FCA 19...\n",
              "...           ...                                                ...\n",
              "3886  07_1705.xml     SZKET v Minister for Immigration  Citizensh...\n",
              "3887  07_2089.xml     Haslam v Money for Living (No 3) [2007] FCA...\n",
              "3888  06_1046.xml     Nine Films  Television Pty Limited v Ninox ...\n",
              "3889   08_702.xml     Sterling Commerce (Australia) Pty Ltd v Ili...\n",
              "3890   06_277.xml     In the matter of Ansett Australia Limited (...\n",
              "\n",
              "[3890 rows x 2 columns]"
            ]
          },
          "metadata": {
            "tags": []
          },
          "execution_count": 11
        }
      ]
    },
    {
      "cell_type": "code",
      "metadata": {
        "id": "ygIjsg-4QC6p",
        "colab_type": "code",
        "colab": {
          "base_uri": "https://localhost:8080/",
          "height": 402
        },
        "outputId": "5fe76866-dbd2-4101-e570-df696a0bb512"
      },
      "source": [
        "df_full = df_full[1:]; df_full.columns= ['fileName','text'];df_full"
      ],
      "execution_count": 12,
      "outputs": [
        {
          "output_type": "execute_result",
          "data": {
            "text/html": [
              "<div>\n",
              "<style scoped>\n",
              "    .dataframe tbody tr th:only-of-type {\n",
              "        vertical-align: middle;\n",
              "    }\n",
              "\n",
              "    .dataframe tbody tr th {\n",
              "        vertical-align: top;\n",
              "    }\n",
              "\n",
              "    .dataframe thead th {\n",
              "        text-align: right;\n",
              "    }\n",
              "</style>\n",
              "<table border=\"1\" class=\"dataframe\">\n",
              "  <thead>\n",
              "    <tr style=\"text-align: right;\">\n",
              "      <th></th>\n",
              "      <th>fileName</th>\n",
              "      <th>text</th>\n",
              "    </tr>\n",
              "  </thead>\n",
              "  <tbody>\n",
              "    <tr>\n",
              "      <th>1</th>\n",
              "      <td>06_1362.xml</td>\n",
              "      <td>Rahman v Dayeh [2006] FCA 1362 (11 October ...</td>\n",
              "    </tr>\n",
              "    <tr>\n",
              "      <th>2</th>\n",
              "      <td>07_301.xml</td>\n",
              "      <td>Military Rehabilitation and Compensation Co...</td>\n",
              "    </tr>\n",
              "    <tr>\n",
              "      <th>3</th>\n",
              "      <td>08_904.xml</td>\n",
              "      <td>SZLAN v Minister for Immigration and Citize...</td>\n",
              "    </tr>\n",
              "    <tr>\n",
              "      <th>4</th>\n",
              "      <td>06_1803.xml</td>\n",
              "      <td>SZICO v Minister for Immigration and Multic...</td>\n",
              "    </tr>\n",
              "    <tr>\n",
              "      <th>5</th>\n",
              "      <td>08_1960.xml</td>\n",
              "      <td>33 South Pty Ltd v Fitzgerald [2008] FCA 19...</td>\n",
              "    </tr>\n",
              "    <tr>\n",
              "      <th>...</th>\n",
              "      <td>...</td>\n",
              "      <td>...</td>\n",
              "    </tr>\n",
              "    <tr>\n",
              "      <th>3886</th>\n",
              "      <td>07_1705.xml</td>\n",
              "      <td>SZKET v Minister for Immigration  Citizensh...</td>\n",
              "    </tr>\n",
              "    <tr>\n",
              "      <th>3887</th>\n",
              "      <td>07_2089.xml</td>\n",
              "      <td>Haslam v Money for Living (No 3) [2007] FCA...</td>\n",
              "    </tr>\n",
              "    <tr>\n",
              "      <th>3888</th>\n",
              "      <td>06_1046.xml</td>\n",
              "      <td>Nine Films  Television Pty Limited v Ninox ...</td>\n",
              "    </tr>\n",
              "    <tr>\n",
              "      <th>3889</th>\n",
              "      <td>08_702.xml</td>\n",
              "      <td>Sterling Commerce (Australia) Pty Ltd v Ili...</td>\n",
              "    </tr>\n",
              "    <tr>\n",
              "      <th>3890</th>\n",
              "      <td>06_277.xml</td>\n",
              "      <td>In the matter of Ansett Australia Limited (...</td>\n",
              "    </tr>\n",
              "  </tbody>\n",
              "</table>\n",
              "<p>3890 rows × 2 columns</p>\n",
              "</div>"
            ],
            "text/plain": [
              "         fileName                                               text\n",
              "1     06_1362.xml     Rahman v Dayeh [2006] FCA 1362 (11 October ...\n",
              "2      07_301.xml     Military Rehabilitation and Compensation Co...\n",
              "3      08_904.xml     SZLAN v Minister for Immigration and Citize...\n",
              "4     06_1803.xml     SZICO v Minister for Immigration and Multic...\n",
              "5     08_1960.xml     33 South Pty Ltd v Fitzgerald [2008] FCA 19...\n",
              "...           ...                                                ...\n",
              "3886  07_1705.xml     SZKET v Minister for Immigration  Citizensh...\n",
              "3887  07_2089.xml     Haslam v Money for Living (No 3) [2007] FCA...\n",
              "3888  06_1046.xml     Nine Films  Television Pty Limited v Ninox ...\n",
              "3889   08_702.xml     Sterling Commerce (Australia) Pty Ltd v Ili...\n",
              "3890   06_277.xml     In the matter of Ansett Australia Limited (...\n",
              "\n",
              "[3890 rows x 2 columns]"
            ]
          },
          "metadata": {
            "tags": []
          },
          "execution_count": 12
        }
      ]
    },
    {
      "cell_type": "code",
      "metadata": {
        "id": "uFXpPl8vMFp_",
        "colab_type": "code",
        "colab": {}
      },
      "source": [
        "df_combined = pd.merge(df_full, df_summ, on='fileName', how='outer')"
      ],
      "execution_count": 0,
      "outputs": []
    },
    {
      "cell_type": "code",
      "metadata": {
        "id": "QEHOQxKQhs5B",
        "colab_type": "code",
        "colab": {
          "base_uri": "https://localhost:8080/",
          "height": 402
        },
        "outputId": "7e49a902-952f-4752-a3d7-52f3ea89ac8d"
      },
      "source": [
        "df_combined"
      ],
      "execution_count": 14,
      "outputs": [
        {
          "output_type": "execute_result",
          "data": {
            "text/html": [
              "<div>\n",
              "<style scoped>\n",
              "    .dataframe tbody tr th:only-of-type {\n",
              "        vertical-align: middle;\n",
              "    }\n",
              "\n",
              "    .dataframe tbody tr th {\n",
              "        vertical-align: top;\n",
              "    }\n",
              "\n",
              "    .dataframe thead th {\n",
              "        text-align: right;\n",
              "    }\n",
              "</style>\n",
              "<table border=\"1\" class=\"dataframe\">\n",
              "  <thead>\n",
              "    <tr style=\"text-align: right;\">\n",
              "      <th></th>\n",
              "      <th>fileName</th>\n",
              "      <th>text</th>\n",
              "      <th>summary</th>\n",
              "    </tr>\n",
              "  </thead>\n",
              "  <tbody>\n",
              "    <tr>\n",
              "      <th>0</th>\n",
              "      <td>06_1362.xml</td>\n",
              "      <td>Rahman v Dayeh [2006] FCA 1362 (11 October ...</td>\n",
              "      <td>Rahman v Dayeh [2006] FCA 1362 (11 October ...</td>\n",
              "    </tr>\n",
              "    <tr>\n",
              "      <th>1</th>\n",
              "      <td>07_301.xml</td>\n",
              "      <td>Military Rehabilitation and Compensation Co...</td>\n",
              "      <td>Military Rehabilitation and Compensation Co...</td>\n",
              "    </tr>\n",
              "    <tr>\n",
              "      <th>2</th>\n",
              "      <td>08_904.xml</td>\n",
              "      <td>SZLAN v Minister for Immigration and Citize...</td>\n",
              "      <td>SZLAN v Minister for Immigration and Citize...</td>\n",
              "    </tr>\n",
              "    <tr>\n",
              "      <th>3</th>\n",
              "      <td>06_1803.xml</td>\n",
              "      <td>SZICO v Minister for Immigration and Multic...</td>\n",
              "      <td>SZICO v Minister for Immigration and Multic...</td>\n",
              "    </tr>\n",
              "    <tr>\n",
              "      <th>4</th>\n",
              "      <td>08_1960.xml</td>\n",
              "      <td>33 South Pty Ltd v Fitzgerald [2008] FCA 19...</td>\n",
              "      <td>33 South Pty Ltd v Fitzgerald [2008] FCA 19...</td>\n",
              "    </tr>\n",
              "    <tr>\n",
              "      <th>...</th>\n",
              "      <td>...</td>\n",
              "      <td>...</td>\n",
              "      <td>...</td>\n",
              "    </tr>\n",
              "    <tr>\n",
              "      <th>3885</th>\n",
              "      <td>07_1705.xml</td>\n",
              "      <td>SZKET v Minister for Immigration  Citizensh...</td>\n",
              "      <td>SZKET v Minister for Immigration  Citizensh...</td>\n",
              "    </tr>\n",
              "    <tr>\n",
              "      <th>3886</th>\n",
              "      <td>07_2089.xml</td>\n",
              "      <td>Haslam v Money for Living (No 3) [2007] FCA...</td>\n",
              "      <td>Haslam v Money for Living (No 3) [2007] FCA...</td>\n",
              "    </tr>\n",
              "    <tr>\n",
              "      <th>3887</th>\n",
              "      <td>06_1046.xml</td>\n",
              "      <td>Nine Films  Television Pty Limited v Ninox ...</td>\n",
              "      <td>Nine Films  Television Pty Limited v Ninox ...</td>\n",
              "    </tr>\n",
              "    <tr>\n",
              "      <th>3888</th>\n",
              "      <td>08_702.xml</td>\n",
              "      <td>Sterling Commerce (Australia) Pty Ltd v Ili...</td>\n",
              "      <td>Sterling Commerce (Australia) Pty Ltd v Ili...</td>\n",
              "    </tr>\n",
              "    <tr>\n",
              "      <th>3889</th>\n",
              "      <td>06_277.xml</td>\n",
              "      <td>In the matter of Ansett Australia Limited (...</td>\n",
              "      <td>In the matter of Ansett Australia Limited (...</td>\n",
              "    </tr>\n",
              "  </tbody>\n",
              "</table>\n",
              "<p>3890 rows × 3 columns</p>\n",
              "</div>"
            ],
            "text/plain": [
              "         fileName  ...                                            summary\n",
              "0     06_1362.xml  ...     Rahman v Dayeh [2006] FCA 1362 (11 October ...\n",
              "1      07_301.xml  ...     Military Rehabilitation and Compensation Co...\n",
              "2      08_904.xml  ...     SZLAN v Minister for Immigration and Citize...\n",
              "3     06_1803.xml  ...     SZICO v Minister for Immigration and Multic...\n",
              "4     08_1960.xml  ...     33 South Pty Ltd v Fitzgerald [2008] FCA 19...\n",
              "...           ...  ...                                                ...\n",
              "3885  07_1705.xml  ...     SZKET v Minister for Immigration  Citizensh...\n",
              "3886  07_2089.xml  ...     Haslam v Money for Living (No 3) [2007] FCA...\n",
              "3887  06_1046.xml  ...     Nine Films  Television Pty Limited v Ninox ...\n",
              "3888   08_702.xml  ...     Sterling Commerce (Australia) Pty Ltd v Ili...\n",
              "3889   06_277.xml  ...     In the matter of Ansett Australia Limited (...\n",
              "\n",
              "[3890 rows x 3 columns]"
            ]
          },
          "metadata": {
            "tags": []
          },
          "execution_count": 14
        }
      ]
    },
    {
      "cell_type": "markdown",
      "metadata": {
        "id": "X3JNTdLPhz5l",
        "colab_type": "text"
      },
      "source": [
        "1. Remove punctuations and special characters from the text\n",
        "2. Convert all the alphabets into lower case\n",
        "3. Remove STOPWORDS\n",
        "4. Do not remove numbers and dates, they can be very important for a legal case"
      ]
    },
    {
      "cell_type": "code",
      "metadata": {
        "id": "Om7RBaffht7B",
        "colab_type": "code",
        "colab": {}
      },
      "source": [
        "df_combined[\"summary\"]= df_combined[\"summary\"].str.replace(\"[^a-zA-z0-9]\", \" \") \n",
        "df_combined[\"text\"]= df_combined[\"text\"].str.replace(\"[^a-zA-z0-9]\", \" \") # apply tot both..?"
      ],
      "execution_count": 0,
      "outputs": []
    },
    {
      "cell_type": "code",
      "metadata": {
        "id": "fc-74NuCikZQ",
        "colab_type": "code",
        "colab": {}
      },
      "source": [
        "clean_text = df_combined[\"summary\"].str.replace(\"[^a-zA-z0-9\\.]\", \" \") "
      ],
      "execution_count": 0,
      "outputs": []
    },
    {
      "cell_type": "code",
      "metadata": {
        "id": "Iv6VmJ79i3ZI",
        "colab_type": "code",
        "colab": {}
      },
      "source": [
        "clean_text = [s.lower() for s in clean_text]"
      ],
      "execution_count": 0,
      "outputs": []
    },
    {
      "cell_type": "code",
      "metadata": {
        "id": "NHHdWQ_LkuBy",
        "colab_type": "code",
        "colab": {}
      },
      "source": [
        ""
      ],
      "execution_count": 0,
      "outputs": []
    },
    {
      "cell_type": "code",
      "metadata": {
        "id": "XM5wftUCjQC_",
        "colab_type": "code",
        "colab": {
          "base_uri": "https://localhost:8080/",
          "height": 67
        },
        "outputId": "3fe842fe-86cd-412f-9de3-7e10cfa47b54"
      },
      "source": [
        "import nltk\n",
        "nltk.download('stopwords')"
      ],
      "execution_count": 17,
      "outputs": [
        {
          "output_type": "stream",
          "text": [
            "[nltk_data] Downloading package stopwords to /root/nltk_data...\n",
            "[nltk_data]   Package stopwords is already up-to-date!\n"
          ],
          "name": "stdout"
        },
        {
          "output_type": "execute_result",
          "data": {
            "text/plain": [
              "True"
            ]
          },
          "metadata": {
            "tags": []
          },
          "execution_count": 17
        }
      ]
    },
    {
      "cell_type": "code",
      "metadata": {
        "id": "FbNYFwT7k02S",
        "colab_type": "code",
        "colab": {}
      },
      "source": [
        "from nltk.corpus import stopwords"
      ],
      "execution_count": 0,
      "outputs": []
    },
    {
      "cell_type": "code",
      "metadata": {
        "id": "MYz8jdx_jAff",
        "colab_type": "code",
        "colab": {}
      },
      "source": [
        "stopwords = set(stopwords.words('english'))"
      ],
      "execution_count": 0,
      "outputs": []
    },
    {
      "cell_type": "code",
      "metadata": {
        "id": "-A_F5uFYk9LK",
        "colab_type": "code",
        "colab": {}
      },
      "source": [
        "#stopwords"
      ],
      "execution_count": 0,
      "outputs": []
    },
    {
      "cell_type": "code",
      "metadata": {
        "id": "ClP0sqVAlUA4",
        "colab_type": "code",
        "colab": {
          "base_uri": "https://localhost:8080/",
          "height": 54
        },
        "outputId": "23a70449-f3f9-45d2-b41e-7b83ffb01cab"
      },
      "source": [
        " \" \".join([i for i in  clean_text[10].split() if i not in stopwords])"
      ],
      "execution_count": 21,
      "outputs": [
        {
          "output_type": "execute_result",
          "data": {
            "text/plain": [
              "'moloney v new zealand 2 [2006] fca 603 1 may 2006 http www austlii edu au au cases cth fca 2006 603 html extradition overseas new zealand eligibility application review old allegations sexual offences vulnerable children alleged members religious order whether age charges circumstances made unjust oppressive surrender review magistrate decision differences australian new zealand criminal law procedure principle bannister v new zealand 1999 86 fcr 417 costs magistrates courts information dismissal discretion award costs defendant relevant considerations magistrates summary proceedings act 1975 vict 97 b extradition act 1988 federal court australia act 1976 federal court australia act 1976 sect 43 costs'"
            ]
          },
          "metadata": {
            "tags": []
          },
          "execution_count": 21
        }
      ]
    },
    {
      "cell_type": "code",
      "metadata": {
        "id": "hVNBr57ajEvq",
        "colab_type": "code",
        "colab": {}
      },
      "source": [
        "def remove_stopwords(txt):\n",
        "  return \" \".join([i for i in txt if i not in stopwords ])"
      ],
      "execution_count": 0,
      "outputs": []
    },
    {
      "cell_type": "code",
      "metadata": {
        "id": "ukkwch02j_S_",
        "colab_type": "code",
        "colab": {}
      },
      "source": [
        "clean_text_stopped = [remove_stopwords(r.split()) for r in clean_text]"
      ],
      "execution_count": 0,
      "outputs": []
    },
    {
      "cell_type": "code",
      "metadata": {
        "id": "4VUuAVDKkHVs",
        "colab_type": "code",
        "colab": {
          "base_uri": "https://localhost:8080/",
          "height": 54
        },
        "outputId": "a0780f14-c157-4055-b8ce-4251344c7549"
      },
      "source": [
        "clean_text [11]"
      ],
      "execution_count": 51,
      "outputs": [
        {
          "output_type": "execute_result",
          "data": {
            "text/plain": [
              "'   qaai v minister for immigration and multicultural and indigenous affairs [2006] fca 4  10 january 2006   http   www.austlii.edu.au au cases cth fca 2006 4.html   applicant veal of 2002 v minister for immigration and multicultural and indigenous affairs  immigration  application for protection visa  decision of refugee review tribunal  procedural fairness  where tribunal reviewed an unsolicited letter received by the department of immigration and multicultural and indigenous affairs  which made allegations against the appellant  where tribunal did not inform the appellant of the existence of the letter or its contents  where tribunal affirmed decision under review and said that in reaching its decision it gave no weight to the letter  whether procedural fairness required the tribunal to inform the appellant of the existence of the letter or its contents.  minister for immigration and multicultural and indigenous affairs v sglb  immigration  refugees  procedural fairness  refugee review tribunal  jurisdictional error  expert medical advice  psychological state of applicant assumed to be possible explanation for unsatisfactory evidence  whether denial of procedural fairness by failing to order further psychological assessment of applicant  whether denial of procedural fairness by accepting that applicant suffered stress disorder  whether denial of procedural fairness by acceptance of effects of disorder on applicant without expert medical advice.  statutes  construction  privative clause  whether putative errors of the refugee review tribunal fell within the operation of s 474 of the migration act 1958  cth .  re minister for immigration and multicultural affairs  ex parte applicant s20 2002  appellant s106 2002 v minister for immigration and multicultural affairs  immigration  refugees  temporary protection visas  application for certiorari  prohibition and mandamus under s 75 v  of the constitution  where refugee review tribunal found that applicant was an unreliable witness and discounted evidence said to be corroborative  whether tribunal s decision was  irrational  illogical and not based upon findings or inferences of fact supported by logical grounds   whether tribunal s decision was affected by actual bias or by a reasonable apprehension of bias  whether tribunal s decision was vitiated by jurisdictional error  distinction between discretionary decisions and decisions involving the finding of facts essential to the exercise of jurisdiction  whether tribunal s decision evidenced an erroneous approach to the finding of jurisdictional facts.  constitutional law  section 75 v  of the constitution  review of administrative decisions  jurisdictional error  bias  extent to which the content of the constitutional writs is affected by common law developments in administrative law  availability of constitutional writs in proceedings that include an appeal concerning related issues.  administrative law  judicial review  whether tribunal s decision was  irrational  illogical and not based upon findings or inferences of fact supported by logical grounds   unavailability of review of factual or evidentiary merits  whether relief available under migration act 1958  cth    the act    or under the constitution   s 75 v   whether tribunal had no jurisdiction to make the decision  whether the decision was not authorised by the act  whether the decision was marred by error of law  whether the decision was so unreasonable that no reasonable tribunal would have made it.  re refugee review tribunal  ex parte aala  immigration  refugees  review tribunal  failure to afford procedural fairness  prosecutor denied opportunity to be heard on matters affecting credibility  whether prosecutor denied possibility of a successful outcome.  administrative law  constitutional writs  nature of constitutional writ of prohibition  procedural fairness  availability of writ of prohibition for failure to accord procedural fairness  whether prohibition available as of right or by discretion  whether application should be rejected due to delay.  constitutional law  construction of constitution  meaning to be given to words in s 75 v   relevance of meaning at time of commencement of constitution .  re the minister for immigration and multicultural affairs  ex parte durairajasingham  immigration law and administrative law  refugee  refugee review tribunal decision refusing to grant protection visa  application in original jurisdiction of high court for prerogative relief  whether tribunal failed to take into account relevant considerations and evidence  whether tribunal failed to consider all available inferences from evidence  whether s 430 1  of the migration act 1958  cth  required the tribunal to refer to evidence contrary to its findings  whether a breach of s 430 1  amounts to a jurisdictional error grounding prerogative relief.  constitutional law  federal jurisdiction  role of the high court under the constitution  extent of high court s jurisdiction to grant certiorari pursuant to s 75 v  of the constitution .  administrative law  natural justice  criminal justice commission  requirement to report to parliamentary committee  speaker of legislative assembly and minister  report on gaming machine concerns and regulations  recommendation to exclude certain persons from gaming machine industry in state  no opportunity given to answer matters raised in reports  whether duty of procedural fairness  whether right or interest adversely affected  legitimate expectation  mandamus  certiorari  declaration  criminal justice act 1989  q.   ss 2.1 1   2.14  2.15  2.18  3.17  3.21 2   gaming machine act 1991  q.   s. 6.16 1 .  coroners  w.a.   inquest  right of parents of deceased to be heard  extent of right  coroners act 1920  w.a.   s. 24.  administrative law  natural justice  application to coronial inquest  right of parents of deceased to be heard  extent of right  coroners act 1920  w.a.   s. 24.  administrative law  natural justice  appointment of judicial officers  abolition of one set of inferior courts and substitution of another  policy to appoint stipendiary magistrates of former courts as magistrates of new courts unless unfit for judicial office  decision not to appoint former stipendiary magistrate set aside for failure to accord natural justice  reconsideration of case  change of appointment policy  applicants to be judged on merit  whether former stipendiary magistrate entitled to reconsideration of application on basis of former or current policy  local courts act 1982  n.s.w.   s. 12.  immigration and aliens  deportation  power of minister  principles of natural justice  whether applicable  standing as australian citizen of infant daughter of aliens  intended deportation order  whether notice required  migration act 1958  cth   ss. 6   6a  7   18 .  administrative law  decision  natural justice  procedural fairness  order for deportation of aliens  review of decision  administrative decisions  judicial review  act 1977  cth   ss. 5   13 .  migration  application to review decision of refugee review tribunal  whether tribunal overlooked or ignored evidence  whether findings irrational or illogical  whether tribunal failed to have regard to corroborative evidence.  migration  review of rrt decision   8722  where persecution claimed on grounds of ethnicity   8722  whether rrt provided female applicant with private hearing under s.429 given presence of male applicant   8722  whether failure to afford natural justice   8722  where rrt found male applicant s claims that his ethnicity amended on official documents not to be credible   8722  where failure to put to male applicant adverse information regarding official documents   8722  whether adverse information was credible  relevant and significant to decision making process   8722  whether female applicant provided with meaningful hearing under s.425.    reference was made to a number of recent cases in the federal court in which it was said that illogicality had been recognised and or applied as a ground of review  szapc v mimia [2005] fca 995 at [50] to [57]  qaai v mimia [2006] fca 4 at [65]     [85] in particular at [81]  and tran v mima [2006] fca 1229 at [16]     [38] in particular at [25] and [34].  this is in accordance with ss.420 and 424 of the migration act  see also nais  ors v minister for immigration  2005  223 alr 171 as per kirby j at [74]  hong v minister for immigration [2004] fca 1308 as per finn j at [40]  qaai v minister for immigration [2006] fca 4 as per greenwood j at [101] . the applicant relies on what fell from the high court in veal v minister for immigration [2005] hca 72   which was applied in qaai v minister for immigration [2006] fca 4.    judiciary act 1903   judiciary act 1903   sect 36 new trials  judiciary act 1903   sect 39b original jurisdiction of federal court of australia  judiciary act 1903   sect 65 no execution against commonwealth or a state  migration act 1958   migration act 1958   sect 36 protection visas  migration act 1958   sect 65 decision to grant or refuse to grant visa  migration act 1958   sect 91r persecution  migration act 1958   sect 414 refugee review tribunal must review decisions  migration act 1958   sect 415 powers of refugee review tribunal  migration act 1958   sect 424a information and invitation given in writing by tribunal  migration act 1958   sect 430 refugee review tribunal to record its decisions etc.  federal court rules 1979    '"
            ]
          },
          "metadata": {
            "tags": []
          },
          "execution_count": 51
        }
      ]
    },
    {
      "cell_type": "code",
      "metadata": {
        "id": "yASwsJJGkQLj",
        "colab_type": "code",
        "colab": {
          "base_uri": "https://localhost:8080/",
          "height": 54
        },
        "outputId": "748817d8-5d65-42e5-8f77-c8bbd50110c1"
      },
      "source": [
        "clean_text_stopped[11]"
      ],
      "execution_count": 25,
      "outputs": [
        {
          "output_type": "execute_result",
          "data": {
            "text/plain": [
              "'qaai v minister immigration multicultural indigenous affairs [2006] fca 4 10 january 2006 http www austlii edu au au cases cth fca 2006 4 html applicant veal 2002 v minister immigration multicultural indigenous affairs immigration application protection visa decision refugee review tribunal procedural fairness tribunal reviewed unsolicited letter received department immigration multicultural indigenous affairs made allegations appellant tribunal inform appellant existence letter contents tribunal affirmed decision review said reaching decision gave weight letter whether procedural fairness required tribunal inform appellant existence letter contents minister immigration multicultural indigenous affairs v sglb immigration refugees procedural fairness refugee review tribunal jurisdictional error expert medical advice psychological state applicant assumed possible explanation unsatisfactory evidence whether denial procedural fairness failing order psychological assessment applicant whether denial procedural fairness accepting applicant suffered stress disorder whether denial procedural fairness acceptance effects disorder applicant without expert medical advice statutes construction privative clause whether putative errors refugee review tribunal fell within operation 474 migration act 1958 cth minister immigration multicultural affairs ex parte applicant s20 2002 appellant s106 2002 v minister immigration multicultural affairs immigration refugees temporary protection visas application certiorari prohibition mandamus 75 v constitution refugee review tribunal found applicant unreliable witness discounted evidence said corroborative whether tribunal decision irrational illogical based upon findings inferences fact supported logical grounds whether tribunal decision affected actual bias reasonable apprehension bias whether tribunal decision vitiated jurisdictional error distinction discretionary decisions decisions involving finding facts essential exercise jurisdiction whether tribunal decision evidenced erroneous approach finding jurisdictional facts constitutional law section 75 v constitution review administrative decisions jurisdictional error bias extent content constitutional writs affected common law developments administrative law availability constitutional writs proceedings include appeal concerning related issues administrative law judicial review whether tribunal decision irrational illogical based upon findings inferences fact supported logical grounds unavailability review factual evidentiary merits whether relief available migration act 1958 cth act constitution 75 v whether tribunal jurisdiction make decision whether decision authorised act whether decision marred error law whether decision unreasonable reasonable tribunal would made refugee review tribunal ex parte aala immigration refugees review tribunal failure afford procedural fairness prosecutor denied opportunity heard matters affecting credibility whether prosecutor denied possibility successful outcome administrative law constitutional writs nature constitutional writ prohibition procedural fairness availability writ prohibition failure accord procedural fairness whether prohibition available right discretion whether application rejected due delay constitutional law construction constitution meaning given words 75 v relevance meaning time commencement constitution minister immigration multicultural affairs ex parte durairajasingham immigration law administrative law refugee refugee review tribunal decision refusing grant protection visa application original jurisdiction high court prerogative relief whether tribunal failed take account relevant considerations evidence whether tribunal failed consider available inferences evidence whether 430 1 migration act 1958 cth required tribunal refer evidence contrary findings whether breach 430 1 amounts jurisdictional error grounding prerogative relief constitutional law federal jurisdiction role high court constitution extent high court jurisdiction grant certiorari pursuant 75 v constitution administrative law natural justice criminal justice commission requirement report parliamentary committee speaker legislative assembly minister report gaming machine concerns regulations recommendation exclude certain persons gaming machine industry state opportunity given answer matters raised reports whether duty procedural fairness whether right interest adversely affected legitimate expectation mandamus certiorari declaration criminal justice act 1989 q ss 2 1 1 2 14 2 15 2 18 3 17 3 21 2 gaming machine act 1991 q 6 16 1 coroners w inquest right parents deceased heard extent right coroners act 1920 w 24 administrative law natural justice application coronial inquest right parents deceased heard extent right coroners act 1920 w 24 administrative law natural justice appointment judicial officers abolition one set inferior courts substitution another policy appoint stipendiary magistrates former courts magistrates new courts unless unfit judicial office decision appoint former stipendiary magistrate set aside failure accord natural justice reconsideration case change appointment policy applicants judged merit whether former stipendiary magistrate entitled reconsideration application basis former current policy local courts act 1982 n w 12 immigration aliens deportation power minister principles natural justice whether applicable standing australian citizen infant daughter aliens intended deportation order whether notice required migration act 1958 cth ss 6 6a 7 18 administrative law decision natural justice procedural fairness order deportation aliens review decision administrative decisions judicial review act 1977 cth ss 5 13 migration application review decision refugee review tribunal whether tribunal overlooked ignored evidence whether findings irrational illogical whether tribunal failed regard corroborative evidence migration review rrt decision 8722 persecution claimed grounds ethnicity 8722 whether rrt provided female applicant private hearing 429 given presence male applicant 8722 whether failure afford natural justice 8722 rrt found male applicant claims ethnicity amended official documents credible 8722 failure put male applicant adverse information regarding official documents 8722 whether adverse information credible relevant significant decision making process 8722 whether female applicant provided meaningful hearing 425 reference made number recent cases federal court said illogicality recognised applied ground review szapc v mimia [2005] fca 995 [50] [57] qaai v mimia [2006] fca 4 [65] [85] particular [81] tran v mima [2006] fca 1229 [16] [38] particular [25] [34] accordance ss 420 424 migration act see also nais ors v minister immigration 2005 223 alr 171 per kirby j [74] hong v minister immigration [2004] fca 1308 per finn j [40] qaai v minister immigration [2006] fca 4 per greenwood j [101] applicant relies fell high court veal v minister immigration [2005] hca 72 applied qaai v minister immigration [2006] fca 4 judiciary act 1903 judiciary act 1903 sect 36 new trials judiciary act 1903 sect 39b original jurisdiction federal court australia judiciary act 1903 sect 65 execution commonwealth state migration act 1958 migration act 1958 sect 36 protection visas migration act 1958 sect 65 decision grant refuse grant visa migration act 1958 sect 91r persecution migration act 1958 sect 414 refugee review tribunal must review decisions migration act 1958 sect 415 powers refugee review tribunal migration act 1958 sect 424a information invitation given writing tribunal migration act 1958 sect 430 refugee review tribunal record decisions etc federal court rules 1979'"
            ]
          },
          "metadata": {
            "tags": []
          },
          "execution_count": 25
        }
      ]
    },
    {
      "cell_type": "code",
      "metadata": {
        "id": "fKEiUPkMmG8W",
        "colab_type": "code",
        "colab": {}
      },
      "source": [
        ""
      ],
      "execution_count": 0,
      "outputs": []
    },
    {
      "cell_type": "code",
      "metadata": {
        "id": "u2EiTa3mmXXv",
        "colab_type": "code",
        "colab": {}
      },
      "source": [
        "nlp_lm = spacy.load('en_core_web_lg')"
      ],
      "execution_count": 0,
      "outputs": []
    },
    {
      "cell_type": "code",
      "metadata": {
        "id": "nJ0MwDzLm2CZ",
        "colab_type": "code",
        "colab": {}
      },
      "source": [
        "text = clean_text_stopped[1]# save point kinda"
      ],
      "execution_count": 0,
      "outputs": []
    },
    {
      "cell_type": "code",
      "metadata": {
        "id": "mx4TgxtGmePh",
        "colab_type": "code",
        "colab": {}
      },
      "source": [
        "doc = nlp_lm(text)"
      ],
      "execution_count": 0,
      "outputs": []
    },
    {
      "cell_type": "code",
      "metadata": {
        "id": "j2kq5kh3m4vc",
        "colab_type": "code",
        "colab": {
          "base_uri": "https://localhost:8080/",
          "height": 168
        },
        "outputId": "8bb366bd-33ef-487f-96f3-5377b522f835"
      },
      "source": [
        "counter =0\n",
        "for entity in doc.ents:\n",
        "  if counter >8:\n",
        "    break\n",
        "  print(f'{entity.text} :: {entity.label_}')\n",
        "  counter +=1"
      ],
      "execution_count": 36,
      "outputs": [
        {
          "output_type": "stream",
          "text": [
            "2007 :: DATE\n",
            "301 13 march :: TIME\n",
            "2007 :: DATE\n",
            "1989 :: DATE\n",
            "62 :: CARDINAL\n",
            "169 :: CARDINAL\n",
            "379 :: CARDINAL\n",
            "period years :: DATE\n",
            "1936 :: DATE\n"
          ],
          "name": "stdout"
        }
      ]
    },
    {
      "cell_type": "code",
      "metadata": {
        "id": "JtouzuiGotO9",
        "colab_type": "code",
        "colab": {}
      },
      "source": [
        "import gensim"
      ],
      "execution_count": 0,
      "outputs": []
    },
    {
      "cell_type": "code",
      "metadata": {
        "id": "qP7NcWXmpZvl",
        "colab_type": "code",
        "colab": {}
      },
      "source": [
        "from gensim.summarization.summarizer import summarize"
      ],
      "execution_count": 0,
      "outputs": []
    },
    {
      "cell_type": "code",
      "metadata": {
        "id": "60z0SamzqMgh",
        "colab_type": "code",
        "colab": {
          "base_uri": "https://localhost:8080/",
          "height": 54
        },
        "outputId": "5815f43b-db69-4342-a84b-69c81e075c94"
      },
      "source": [
        "clean_text_stopped[2]"
      ],
      "execution_count": 46,
      "outputs": [
        {
          "output_type": "execute_result",
          "data": {
            "text/plain": [
              "'szlan v minister immigration citizenship [2008] fca 904 13 june 2008 http www austlii edu au au cases cth fca 2008 904 html migration decision upholding refusal protection class xa visa whether tribunal entitled base finding demeanour tribunal entitled regard demeanour tribunal rejection claims based several strands reasoning one demeanour whether tribunal obliged ask questions tribunal obliged frame questions findings adverse appellant indicate bias apprehended bias jurisdictional error migration test well founded fear persecution whether tribunal applied wrong test probability test whether real chance test chan v minister immigration ethnic affairs [1989] hca 62 1989 169 clr 379 applied past persecutory event claimed findings past events category assessment future events tribunal reasons findings past events attended doubt tribunal required consider past event applying real chance test migration review decision refugee review tribunal whether refugee review tribunal decision affected jurisdictional error whether finding convention nexus separate alternative finding whether using words tribunal wrong refugee review tribunal expressing doubt findings whether rajalingam application refugee review tribunal accepted facts asserted applicant concluded harm convention nexus szatv v minister immigration citizenship immigration refugees appellant ukrainian national faced persecution home region account expression political beliefs journalism whether principle internal relocation consistent convention relating status refugees whether refugee review tribunal erred holding reasonable appellant relocate elsewhere ukraine whether postulated relocation involves denial fundamental right free expression political beliefs protected convention immigration refugees well founded fear persecution whether well founded fear persecution may confined particular region country whether persecution may reasonably avoided relocation whether persecution may reasonably avoided living discreetly relevance practicability relevance territorial distinctions migration rrt decision nepalese trade unionist subject extortion threats maoists error tribunal finding convention nexus finding right entry residence india failure consider whether legally enforceable rescheduling tribunal hearing day facsimile notice deemed received whether non compliance mandatory procedure matter remitted nagv nagw 2002 v minister immigration multicultural indigenous affairs immigration refugees refugee review tribunal decision judicial review tribunal found appellants genuine fear persecution returned russia tribunal concluded israel third country appellants would effective protection protection visa refused whether tribunal failed observe requirements ss 36 65 migration act 1958 cth whether appellant non citizen australia australia protection obligations convention relating status refugees amended protocol relating status refugees whether means anything refugee within meaning art 1 convention relating status refugees amended protocol relating status refugees immigration refugees international law construction convention relating status refugees amended protocol relating status refugees whether non refoulement obligation precludes removal safe third country minister immigration multicultural affairs v respondents s152 2003 immigration refugees applications protection visas de facto husband wife nationals ukraine well founded fear persecution husband claimed suffer religious persecution jehovah witness refugee review tribunal found incidents husband complained individual random incidents amount persecution chance would suffer persecution future remote tribunal rejected claim state encouraged condoned persecution jehovah witnesses whether full court federal court erred concluding tribunal committed jurisdictional error failing consider different claim whether husband might suffer future harm private individuals religious belief whether government ukraine able practical sense stop harm occurring absence evidence tribunal support conclusion ukraine provide level protection required immigration refugees applications protection visas relevance attitude capacity state whether fear harm well founded whether persecution whether person outside country nationality owing well founded fear persecution unwillingness person seek protection state protection theory accountability theory non state actor harm non state actors persecution non state actors state complicity persecution persecution tolerated condoned state failure state protection unwilling unable provide protection international law treaty interpretation refugees convention persecution different theories persecution meaning treaty provisions proper approach meaning primacy text approaches courts countries refuge protection theory accountability theory whether third theory applicable minister immigration multicultural affairs ex parte applicant s154 2002 immigration refugees refugee review tribunal procedural fairness whether tribunal misled applicant believing factual claim accepted true whether tribunal relied evidence tendered earlier disbelieve factual claim without giving applicant opportunity demonstrate evidence inconsistent factual claim whether tribunal relied belated disclosure rape incident disbelieve factual claim circumstances belated disclosure might explicable whether subsequent hearing provision written submissions cured earlier breach requirements procedural fairness inquisitorial hearing tribunal whether failure tribunal afford procedural fairness amounting jurisdictional error minister immigration multicultural affairs v khawar immigration refugees application protection visa well founded fear persecution applicant citizen pakistan allegedly victim domestic violence hands husband family whether failure state provide effective police protection domestic violence capable constituting persecution convention reason feared violence perpetrated non state agents non convention reasons whether convention requirement putative refugee unwilling avail protection country nationality refers protection state within country origin diplomatic consular protection available citizens outside country origin whether selective discriminatory failure state enforce criminal law non state actors assault members particular social group capable constituting persecution convention immigration refugees application protection visa membership particular social group applicant citizen pakistan allegedly victim domestic violence hands husband family whether women pakistan particular social group whether applicant may fall within narrowly defined social group chen shi hai v minister immigration multicultural affairs immigration law refugees appeal decision refugee review tribunal application behalf minor next friend grant protection visa application refused appellant black child one child policy people republic china unchallenged finding refugee review tribunal appellant would suffer serious disadvantage amounting persecution whether black children constituted particular social group purposes convention relating status refugees whether appellant faced persecution reasons membership group reason parents conduct contravening one child policy whether persecution arise absence enmity malignity word phrases persecution reasons membership particular social group immigration refugee status construction words convention embraced 4 migration act 1958 persecuted reasons membership particular social group whether wealthy sikhs villagers returned punjab foreign country money formed particular social group approach construction convention reference canadian authorities administrative law judicial review decision refuse application resident status whether decision unreasonable grounds factual errors may reviewed natural justice material decision maker must consider application entry permit immigration de facto marraige alleged whether basis reject permanence relationship migration rrt decision application judicial review lodged beyond 35 days decision jurisdictional error conceded inadequate explanations lengthy delay public interest challenges validity administrative actions brought promptly extension time refused application dismissed incompetent migration statutory interpretation meaning right reside within 36 3 migration act 1958 cth appellant citizen czech republic roma ethnicity citizen european union tribunal found appellant citizen european union right enter reside spain within meaning 36 3 act whether right reside includes right participate country system social welfare practical capacity establish residence held right enter reside 36 3 include right receive social welfare right enter reside comfortably country entitlement reside particular period migration jurisdictional error protection visas 36 2 migration act 1958 cth whether finding period unemployment would suffered appellant spain would short lived open tribunal evidence held tribunal conclusion open evidence jurisdictional error administrative law procedural fairness whether tribunal failed raise issues appellant depositive review appellant availed opportunity advance materials made submissions support claim migration review decisions refugee review tribunal visa protection visa migration citizen bangladesh right enter reside singapore chance persecution convention reason refusal refugee status practice procedure grounds appeal different advanced federal magistrate leave raise new grounds refused migration persecution review refugee review tribunal decision visa protection visa refusal 36 3 migration act 1958 read 36 4 5 statutory embodiment alteration concept effective protection 36 3 concerned person standard living length residence third country effective protection available migration persecution review refugee review tribunal decision visa protection visa refusal operation 36 3 migration act 1958 legally enforceable right entry another country right need mirrored correlative duty state right entry residence another country may demonstrated migration review rrt decision applicant nepali businessman significant non convention reason applicant travel australia whether tribunal relied dismiss claims persecution without considering merit meaning phrase give weight considered multi faceted nature extortion whether tribunal failed consider might multiple reasons extortion migration consideration right enter reside another country 36 3 migration act migration review decision rrt applicant found availed rights enter another country whether tribunal made errors understanding legislation nature mistake independent ground decision migration rrt decision nepalese applicant claimed fear persecution forced recruitment maoists tribunal found right entry residence india evidence right 1950 treaty nepal india whether finding supported evidence alternative finding tribunal applicant could live safely kathmandu material jurisdictional error application dismissed migration act 1958 cth 36 attorney general canada v attorney general ontario [1937] ac 326 attorney general canada v cain [1906] ac 542 minister sought uphold tribunal decision basis made findings fact could sufficient tribunal addressed issues ss 36 3 4 5 compare earlier decisions szeas v minister immigration [2005] fmca 1776 szfkd v minister immigration [2006] fmca 46 minister submit applicant would inevitably failed tribunal made findings 36 3 4 5 consider could make finding circumstances indian domestic laws immigration practices relating india nepal treaty friendship appear clear compare judgments cited szgxk v minister immigration [2008] fmca 822 also szgxk v minister immigration citizenship [2008] fca 1891 szgxk v minister immigration citizenship [2009] hcasl 170 wagh v minister immigration multicultural indigenous affairs [2003] fcafc 194 2003 131 fcr 269 szlan v minister immigration citizenship [2008] fca 904 2008 171 fcr 145 szmwq v minister immigration citizenship [2010] fcafc 97 99 views thus expressed whether term right refers existing legally enforceable right wagh v minister immigration multicultural indigenous affairs [2003] fcafc 194 [32] [2003] fcafc 194 131 fcr 269 wagh 278 per lee j szlan v minister immigration citizenship [2008] fca 904 [68] [2008] fca 904 171 fcr 145 162 per graham j practical ability enter reside country obtain protection minister immigration multicultural affairs v applicant c [2001] fca 1332 [20] [21] [2001] fca 1332 116 fcr 154 161 applicant c per stone j gray lee jj agreeing wagh [54] per hill j phrase 36 3 however right arose expressed relied upon allsop j v856 00a v minister immigration multicultural affairs [2001] fca 1018 114 fcr 408 indicating source incidents right diverse honour continued [31] also assists recognition right intended wide conception especially light phrase see reason restrict meaning word right right strict sense legally enforceable found reflected positive law state question exclude meaning notion liberty permission privilege lawfully given albeit capable withdrawal capable particular enforcement exclude meaning liberty permission privilege give rise particular duty upon state question liberty permission privilege would obtain effective substance grant thereafter lack withdrawal lack existing prohibition law contrary exercise rather existence within positive law state question correlative duty justiciable enforceable law recognise right may many cases right survive outside divorced residence country question may well right strict sense think conclusion follows matter statutory construction 75 section 36 3 4 5 incorporated way amendments effected border protection legislation amendment act 1999 cth szlan v minister immigration citizenship [2008] fca 904 [51] [52] [2008] fca 904 171 fcr 145 158 szlan graham j helpfully set forth extracts supplementary explanatory memorandum tabling speech parliamentary secretary minister immigration multicultural affairs introduced amendments extracted supplementary explanatory memorandum stated follows 3 new subsection 36 3 interpretive provision relating australia protection obligations provision provides australia owe protection obligations non citizen taken possible steps avail right enter reside another country support ground 1 counsel applicant referred decision gray j szlan v minister immigration citizenship [2008] fca 904 [2008] fca 904 2008 171 fcr 145 2008 102 ald 131 honour said [79] would seem tribunal identified relevant particular social group wealthy nepalis failed address whether extortionate demands placed upon first appellant simply perceived personal capacity provide advantage self interested extorting party whether extortionate demands placed upon first appellant belonged particular social group [80] extortion case indicated possibility extortive activity dual character may motivated personal interest perpetrator part also may convention related given demands placed upon first appellant said demands maoist union tribunal opinion addressed whether persecution first appellant convention related reason member particular social group made wealthy nepalis simply motivated personal interest perpetrator behalf recognised extortive activity dual character considered whether essential significant reason activity convention based questioned applicant acknowledged right return singapore permanent resident based tribunal finds applicant right entry residence singapore time submissions advanced present appeal appellant ability enter singapore right within meaning purposes 36 3 cf minister immigration multicultural affairs v applicant c [2001] fca 1332 116 fcr 154 szlan v minister immigration citizenship [2008] fca 904 171 fcr 145 effect 36 3 applicant fails demonstrate taken reasonable steps exercise legally enforceable entry residency rights may another country australia taken protection obligations person minister immigration multicultural affairs v applicant c [2001] fca 1332 2001 116 fcr 154 szlan v minister immigration citizenship [2008] fca 904 2008 171 fcr 145 159 [58] given applicant sought travel take residence spain 36 3 required tribunal determine whether rights applicant go spain remain period amounted right enter reside australia protection obligations excluded 36 3 applicant fails demonstrate taken reasonable steps exercise entry residency rights may hold another country szlan v minister immigration citizenship [2008] fca 904 [58] plain extortion may amount persecution rajaratnam v minister immigration multicultural affairs [2000] fca 1111 rajaratnam minister immigration multicultural affairs [1999] fca 1134 1999 95 fcr 517 however graham j noted szlan v minister immigration citizenship [2008] fca 904 [40] needs recognised reason extorting party interest another may may foundation convention reason person upon extortionate demands placed may become subject extortion belongs social group identified convention criterion multi faceted nature extortion also considered graham j appeal court szlan v minister immigration [2008] fca 904 first relation 91r migration act 1958 cth [37] [41] relation particular facts case similar one currently [76] [80] honour found tribunal identified applicant member particular social group wealthy nepalis addressed whether persecution applicant convention related reason member social group simply motivated personal interest perpetrator behalf regards tribunal finding relation 36 3 migration act 1958 cth act namely appellant taken possible steps avail right enter reside another eu country federal magistrate approved observations graham j szlan v minister immigration citizenship [2008] fca 904 2008 171 fcr 145 [158] [53] szlan following effect section 36 3 act directs attention taking steps avail oneself right enter reside country directed consequences entering residing country relevant right respect non citizen must take possible steps avail bare right exists enter reside country right enter reside comfortably country 24 earlier judgment szlan v minister immigration citizenship [2008] fca 904 szlan referred 65 migration act 1958 cth act 420 act 36 2 act convention relating status refugees done geneva 28 july 1951 protocol relating status refugees done new york 31 january 1967 collectively referred convention introduction act ss 36 3 7 ss 91m 91r inserted act border protection legislation amendment act 1999 cth szlan attempted analyse 36 3 act addressing three separate questions set [56] reasons judgment second questions b subsection engaged right enter reside another country legally enforceable right 19 agree observations tribunal regard draw attention said particular social group szlan v minister immigration citizenship [2008] fca 904 particular [43] [46] may numerous individuals could identified triad betrayers opinion make cognisable group society nothing unite individuals social group kind contemplated convention relating status refugees done geneva 28 july 1951 amended protocol relating status refugees done new york 21 january 1967 refugees convention sake completeness would also indicate fully accept views expressed graham j szlan szlao v minister immigration [2008] fca 904 [53] honour says section 36 3 act directs attention taking steps avail oneself right enter reside country directed consequences entering residing country relevant right respect non citizen must take possible steps avail bare right exists enter reside country right enter reside comfortably country statutory exclusion applies applicant taken possible steps avail right enter reside whether temporarily permanently however right arose expressed country apart australia full court authority binding reference right enter reside country means legally enforceable right applicant recognised country domestic laws effect stone j judgment minister immigration multicultural affairs v applicant c [2001] fca 1332 2001 116 fcr 154 [62] gray lee jj agreed approved interpretation primary judge set [35] [36] doubts expressed federal court justices relation interpretation recently graham j szlan v minister immigration [2008] fca 904 [60] [67] able identify subsequent opinion bound prefer cf szgme v minister immigration citizenship [2008] fcafc 91 [42] migration act 1958 migration act 1958 sect 36 protection visas migration act 1958 sect 65 decision grant refuse grant visa migration act 1958 sect 91m reason subdivision migration act 1958 sect 91r persecution migration act 1958 sect 411 decisions reviewable refugee review tribunal migration act 1958 sect 412 application review refugee review tribunal migration act 1958 sect 415 powers refugee review tribunal migration act 1958 sect 420 refugee review tribunal way operating federal court rules border protection legislation amendment act 1999'"
            ]
          },
          "metadata": {
            "tags": []
          },
          "execution_count": 46
        }
      ]
    },
    {
      "cell_type": "code",
      "metadata": {
        "id": "YSKRb058pf6h",
        "colab_type": "code",
        "colab": {
          "base_uri": "https://localhost:8080/",
          "height": 54
        },
        "outputId": "17e6a469-bfc9-4772-dcde-91b410b77aa4"
      },
      "source": [
        "summarize( clean_text_stopped[2], word_count = 100)"
      ],
      "execution_count": 52,
      "outputs": [
        {
          "output_type": "execute_result",
          "data": {
            "text/plain": [
              "'effect s.36 3 applicant fails demonstrate taken reasonable steps exercise legally enforceable entry residency rights may another country australia taken protection obligations person minister immigration multicultural affairs v applicant c [2001] fca 1332 2001 116 fcr 154 szlan v minister immigration citizenship [2008] fca 904 2008 171 fcr 145 159 [58] .'"
            ]
          },
          "metadata": {
            "tags": []
          },
          "execution_count": 52
        }
      ]
    },
    {
      "cell_type": "code",
      "metadata": {
        "id": "pR6Q5-TFpmDY",
        "colab_type": "code",
        "colab": {
          "base_uri": "https://localhost:8080/",
          "height": 34
        },
        "outputId": "cd1ecf8d-585f-4d90-cc73-fc169b25d629"
      },
      "source": [
        "# terrible actually"
      ],
      "execution_count": 44,
      "outputs": [
        {
          "output_type": "execute_result",
          "data": {
            "text/plain": [
              "''"
            ]
          },
          "metadata": {
            "tags": []
          },
          "execution_count": 44
        }
      ]
    },
    {
      "cell_type": "code",
      "metadata": {
        "id": "RgSz0HRxrMCw",
        "colab_type": "code",
        "colab": {}
      },
      "source": [
        ""
      ],
      "execution_count": 0,
      "outputs": []
    }
  ]
}