{
  "nbformat": 4,
  "nbformat_minor": 0,
  "metadata": {
    "colab": {
      "name": "H20_multiClass_newsGroups_AutoML_V3.ipynb",
      "provenance": [],
      "collapsed_sections": [],
      "include_colab_link": true
    },
    "kernelspec": {
      "name": "python3",
      "display_name": "Python 3"
    }
  },
  "cells": [
    {
      "cell_type": "markdown",
      "metadata": {
        "id": "view-in-github",
        "colab_type": "text"
      },
      "source": [
        "<a href=\"https://colab.research.google.com/github/ronykroy/DNN-NLP-and-other-stuff/blob/master/H20_multiClass_newsGroups_AutoML_V3.ipynb\" target=\"_parent\"><img src=\"https://colab.research.google.com/assets/colab-badge.svg\" alt=\"Open In Colab\"/></a>"
      ]
    },
    {
      "cell_type": "code",
      "metadata": {
        "id": "4h8LRTyotp7c",
        "colab_type": "code",
        "colab": {}
      },
      "source": [
        "# v3: removed the text column in x: predictors"
      ],
      "execution_count": 0,
      "outputs": []
    },
    {
      "cell_type": "code",
      "metadata": {
        "id": "FfMSV-aHdf0h",
        "colab_type": "code",
        "outputId": "697410f3-3ca1-42f4-826f-a583f0f65fa1",
        "colab": {
          "base_uri": "https://localhost:8080/",
          "height": 168
        }
      },
      "source": [
        "!apt-get install default-jre\n",
        "!java -version\n",
        "# install Java.. because.. there is nothing in this colab VM"
      ],
      "execution_count": 2,
      "outputs": [
        {
          "output_type": "stream",
          "text": [
            "Reading package lists... Done\n",
            "Building dependency tree       \n",
            "Reading state information... Done\n",
            "default-jre is already the newest version (2:1.11-68ubuntu1~18.04.1).\n",
            "default-jre set to manually installed.\n",
            "0 upgraded, 0 newly installed, 0 to remove and 28 not upgraded.\n",
            "openjdk version \"11.0.4\" 2019-07-16\n",
            "OpenJDK Runtime Environment (build 11.0.4+11-post-Ubuntu-1ubuntu218.04.3)\n",
            "OpenJDK 64-Bit Server VM (build 11.0.4+11-post-Ubuntu-1ubuntu218.04.3, mixed mode, sharing)\n"
          ],
          "name": "stdout"
        }
      ]
    },
    {
      "cell_type": "code",
      "metadata": {
        "id": "S4JgdiQodh-D",
        "colab_type": "code",
        "outputId": "dd156cc9-acdf-4803-f527-9d60cf2c212d",
        "colab": {
          "base_uri": "https://localhost:8080/",
          "height": 336
        }
      },
      "source": [
        "! pip install h2o\n",
        "# H2O too to be installed SMH"
      ],
      "execution_count": 3,
      "outputs": [
        {
          "output_type": "stream",
          "text": [
            "Collecting h2o\n",
            "\u001b[?25l  Downloading https://files.pythonhosted.org/packages/64/38/78742b2b34718869e0918b678030e87e081d0aadf859a8356a5fa3840f56/h2o-3.26.0.8.tar.gz (123.6MB)\n",
            "\u001b[K     |████████████████████████████████| 123.6MB 81kB/s \n",
            "\u001b[?25hRequirement already satisfied: requests in /usr/local/lib/python3.6/dist-packages (from h2o) (2.21.0)\n",
            "Requirement already satisfied: tabulate in /usr/local/lib/python3.6/dist-packages (from h2o) (0.8.5)\n",
            "Requirement already satisfied: future in /usr/local/lib/python3.6/dist-packages (from h2o) (0.16.0)\n",
            "Collecting colorama>=0.3.8\n",
            "  Downloading https://files.pythonhosted.org/packages/4f/a6/728666f39bfff1719fc94c481890b2106837da9318031f71a8424b662e12/colorama-0.4.1-py2.py3-none-any.whl\n",
            "Requirement already satisfied: urllib3<1.25,>=1.21.1 in /usr/local/lib/python3.6/dist-packages (from requests->h2o) (1.24.3)\n",
            "Requirement already satisfied: idna<2.9,>=2.5 in /usr/local/lib/python3.6/dist-packages (from requests->h2o) (2.8)\n",
            "Requirement already satisfied: chardet<3.1.0,>=3.0.2 in /usr/local/lib/python3.6/dist-packages (from requests->h2o) (3.0.4)\n",
            "Requirement already satisfied: certifi>=2017.4.17 in /usr/local/lib/python3.6/dist-packages (from requests->h2o) (2019.9.11)\n",
            "Building wheels for collected packages: h2o\n",
            "  Building wheel for h2o (setup.py) ... \u001b[?25l\u001b[?25hdone\n",
            "  Created wheel for h2o: filename=h2o-3.26.0.8-py2.py3-none-any.whl size=123708939 sha256=c0469fb66486f6fa1f1ed0d51c67954d88eea30cd203ff81ee85bc6224a9ce6e\n",
            "  Stored in directory: /root/.cache/pip/wheels/f7/4c/2f/367de2996c0c2621a9e2e19624be0ea0e4b766df3cd597d916\n",
            "Successfully built h2o\n",
            "Installing collected packages: colorama, h2o\n",
            "Successfully installed colorama-0.4.1 h2o-3.26.0.8\n"
          ],
          "name": "stdout"
        }
      ]
    },
    {
      "cell_type": "code",
      "metadata": {
        "id": "66yG3tV0dnMC",
        "colab_type": "code",
        "colab": {}
      },
      "source": [
        "import h2o"
      ],
      "execution_count": 0,
      "outputs": []
    },
    {
      "cell_type": "code",
      "metadata": {
        "id": "Y36AZbp5do3E",
        "colab_type": "code",
        "outputId": "0577f099-4710-4973-a50a-93025ffc9981",
        "colab": {
          "base_uri": "https://localhost:8080/",
          "height": 510
        }
      },
      "source": [
        "h2o.init(max_mem_size=\"4G\")"
      ],
      "execution_count": 5,
      "outputs": [
        {
          "output_type": "stream",
          "text": [
            "Checking whether there is an H2O instance running at http://localhost:54321 ..... not found.\n",
            "Attempting to start a local H2O server...\n",
            "  Java Version: openjdk version \"11.0.4\" 2019-07-16; OpenJDK Runtime Environment (build 11.0.4+11-post-Ubuntu-1ubuntu218.04.3); OpenJDK 64-Bit Server VM (build 11.0.4+11-post-Ubuntu-1ubuntu218.04.3, mixed mode, sharing)\n",
            "  Starting server from /usr/local/lib/python3.6/dist-packages/h2o/backend/bin/h2o.jar\n",
            "  Ice root: /tmp/tmpfg6w7wxn\n",
            "  JVM stdout: /tmp/tmpfg6w7wxn/h2o_unknownUser_started_from_python.out\n",
            "  JVM stderr: /tmp/tmpfg6w7wxn/h2o_unknownUser_started_from_python.err\n",
            "  Server is running at http://127.0.0.1:54321\n",
            "Connecting to H2O server at http://127.0.0.1:54321 ... successful.\n"
          ],
          "name": "stdout"
        },
        {
          "output_type": "display_data",
          "data": {
            "text/html": [
              "<div style=\"overflow:auto\"><table style=\"width:50%\"><tr><td>H2O cluster uptime:</td>\n",
              "<td>02 secs</td></tr>\n",
              "<tr><td>H2O cluster timezone:</td>\n",
              "<td>Etc/UTC</td></tr>\n",
              "<tr><td>H2O data parsing timezone:</td>\n",
              "<td>UTC</td></tr>\n",
              "<tr><td>H2O cluster version:</td>\n",
              "<td>3.26.0.8</td></tr>\n",
              "<tr><td>H2O cluster version age:</td>\n",
              "<td>7 days and 2 hours </td></tr>\n",
              "<tr><td>H2O cluster name:</td>\n",
              "<td>H2O_from_python_unknownUser_i67adb</td></tr>\n",
              "<tr><td>H2O cluster total nodes:</td>\n",
              "<td>1</td></tr>\n",
              "<tr><td>H2O cluster free memory:</td>\n",
              "<td>4 Gb</td></tr>\n",
              "<tr><td>H2O cluster total cores:</td>\n",
              "<td>2</td></tr>\n",
              "<tr><td>H2O cluster allowed cores:</td>\n",
              "<td>2</td></tr>\n",
              "<tr><td>H2O cluster status:</td>\n",
              "<td>accepting new members, healthy</td></tr>\n",
              "<tr><td>H2O connection url:</td>\n",
              "<td>http://127.0.0.1:54321</td></tr>\n",
              "<tr><td>H2O connection proxy:</td>\n",
              "<td>{'http': None, 'https': None}</td></tr>\n",
              "<tr><td>H2O internal security:</td>\n",
              "<td>False</td></tr>\n",
              "<tr><td>H2O API Extensions:</td>\n",
              "<td>Amazon S3, XGBoost, Algos, AutoML, Core V3, TargetEncoder, Core V4</td></tr>\n",
              "<tr><td>Python version:</td>\n",
              "<td>3.6.8 final</td></tr></table></div>"
            ],
            "text/plain": [
              "--------------------------  ------------------------------------------------------------------\n",
              "H2O cluster uptime:         02 secs\n",
              "H2O cluster timezone:       Etc/UTC\n",
              "H2O data parsing timezone:  UTC\n",
              "H2O cluster version:        3.26.0.8\n",
              "H2O cluster version age:    7 days and 2 hours\n",
              "H2O cluster name:           H2O_from_python_unknownUser_i67adb\n",
              "H2O cluster total nodes:    1\n",
              "H2O cluster free memory:    4 Gb\n",
              "H2O cluster total cores:    2\n",
              "H2O cluster allowed cores:  2\n",
              "H2O cluster status:         accepting new members, healthy\n",
              "H2O connection url:         http://127.0.0.1:54321\n",
              "H2O connection proxy:       {'http': None, 'https': None}\n",
              "H2O internal security:      False\n",
              "H2O API Extensions:         Amazon S3, XGBoost, Algos, AutoML, Core V3, TargetEncoder, Core V4\n",
              "Python version:             3.6.8 final\n",
              "--------------------------  ------------------------------------------------------------------"
            ]
          },
          "metadata": {
            "tags": []
          }
        }
      ]
    },
    {
      "cell_type": "code",
      "metadata": {
        "id": "kRt1xkd8dqNi",
        "colab_type": "code",
        "colab": {
          "base_uri": "https://localhost:8080/",
          "height": 84
        },
        "outputId": "12b8f928-5e09-4393-9de2-a45e6404239c"
      },
      "source": [
        "from sklearn.datasets import fetch_20newsgroups\n",
        "dataset = fetch_20newsgroups(shuffle=True, random_state=1, remove=('headers', 'footers', 'quotes'))\n",
        "documents = dataset.data"
      ],
      "execution_count": 6,
      "outputs": [
        {
          "output_type": "stream",
          "text": [
            "Downloading 20news dataset. This may take a few minutes.\n",
            "INFO:sklearn.datasets.twenty_newsgroups:Downloading 20news dataset. This may take a few minutes.\n",
            "Downloading dataset from https://ndownloader.figshare.com/files/5975967 (14 MB)\n",
            "INFO:sklearn.datasets.twenty_newsgroups:Downloading dataset from https://ndownloader.figshare.com/files/5975967 (14 MB)\n"
          ],
          "name": "stderr"
        }
      ]
    },
    {
      "cell_type": "code",
      "metadata": {
        "id": "7lfuAJ5Yd7Ep",
        "colab_type": "code",
        "colab": {}
      },
      "source": [
        "import pandas as pd\n",
        "import numpy as np"
      ],
      "execution_count": 0,
      "outputs": []
    },
    {
      "cell_type": "code",
      "metadata": {
        "id": "vAewuduGdvvS",
        "colab_type": "code",
        "colab": {}
      },
      "source": [
        "df = pd.DataFrame({'label':dataset.target, 'text':dataset.data})"
      ],
      "execution_count": 0,
      "outputs": []
    },
    {
      "cell_type": "code",
      "metadata": {
        "id": "lX3hcDxViwEP",
        "colab_type": "code",
        "colab": {}
      },
      "source": [
        "df[\"Train\"] = np.random.rand(len(df)) < 0.8 # get a col full of train boolean "
      ],
      "execution_count": 0,
      "outputs": []
    },
    {
      "cell_type": "code",
      "metadata": {
        "id": "TA8sG4d-i0m8",
        "colab_type": "code",
        "outputId": "9cf71f23-011d-4b78-d13a-93fef859a2ac",
        "colab": {
          "base_uri": "https://localhost:8080/",
          "height": 67
        }
      },
      "source": [
        "df.Train.value_counts()"
      ],
      "execution_count": 10,
      "outputs": [
        {
          "output_type": "execute_result",
          "data": {
            "text/plain": [
              "True     8984\n",
              "False    2330\n",
              "Name: Train, dtype: int64"
            ]
          },
          "metadata": {
            "tags": []
          },
          "execution_count": 10
        }
      ]
    },
    {
      "cell_type": "code",
      "metadata": {
        "id": "v9GCvPAqfilx",
        "colab_type": "code",
        "outputId": "b0eb679a-b8fc-479a-8125-ada0ce73f534",
        "colab": {
          "base_uri": "https://localhost:8080/",
          "height": 34
        }
      },
      "source": [
        "reviews = h2o.H2OFrame(df)"
      ],
      "execution_count": 11,
      "outputs": [
        {
          "output_type": "stream",
          "text": [
            "Parse progress: |█████████████████████████████████████████████████████████| 100%\n"
          ],
          "name": "stdout"
        }
      ]
    },
    {
      "cell_type": "code",
      "metadata": {
        "id": "uXwph48wdyCt",
        "colab_type": "code",
        "colab": {}
      },
      "source": [
        "train = reviews[reviews[\"Train\"] == \"True\"]\n",
        "test = reviews[reviews[\"Train\"] == \"False\"]"
      ],
      "execution_count": 0,
      "outputs": []
    },
    {
      "cell_type": "code",
      "metadata": {
        "id": "lDiFtke_XSYK",
        "colab_type": "code",
        "colab": {
          "base_uri": "https://localhost:8080/",
          "height": 34
        },
        "outputId": "3c1d6d5c-96d4-4be7-bfd4-604752b1c2d5"
      },
      "source": [
        "test.shape"
      ],
      "execution_count": 52,
      "outputs": [
        {
          "output_type": "execute_result",
          "data": {
            "text/plain": [
              "(2330, 3)"
            ]
          },
          "metadata": {
            "tags": []
          },
          "execution_count": 52
        }
      ]
    },
    {
      "cell_type": "code",
      "metadata": {
        "id": "P3WnviL1eIJw",
        "colab_type": "code",
        "outputId": "077c4fd2-6a22-48d6-a319-5172487f67ef",
        "colab": {
          "base_uri": "https://localhost:8080/",
          "height": 179
        }
      },
      "source": [
        "train.head(2)"
      ],
      "execution_count": 13,
      "outputs": [
        {
          "output_type": "display_data",
          "data": {
            "text/html": [
              "<table>\n",
              "<thead>\n",
              "<tr><th style=\"text-align: right;\">  label</th><th>text  </th><th>Train  </th></tr>\n",
              "</thead>\n",
              "<tbody>\n",
              "<tr><td style=\"text-align: right;\">     17</td><td>Well i'm not sure about the story nad it did seem biased. What\n",
              "I disagree with is your statement that the U.S. Media is out to\n",
              "ruin Israels reputation. That is rediculous. The U.S. media is\n",
              "the most pro-israeli media in the world. Having lived in Europe\n",
              "I realize that incidences such as the one described in the\n",
              "letter have occured. The U.S. media as a whole seem to try to\n",
              "ignore them. The U.S. is subsidizing Israels existance and the\n",
              "Europeans are not (at least not to the same degree). So I think\n",
              "that might be a reason they report more clearly on the\n",
              "atrocities.\n",
              "\tWhat is a shame is that in Austria, daily reports of\n",
              "the inhuman acts commited by Israeli soldiers and the blessing\n",
              "received from the Government makes some of the Holocaust guilt\n",
              "go away. After all, look how the Jews are treating other races\n",
              "when they got power. It is unfortunate.       </td><td>True   </td></tr>\n",
              "<tr><td style=\"text-align: right;\">      0</td><td>Yeah, do you expect people to read the FAQ, etc. and actually accept hard\n",
              "atheism?  No, you need a little leap of faith, Jimmy.  Your logic runs out\n",
              "of steam!\n",
              "\n",
              "\n",
              "\n",
              "\n",
              "\n",
              "\n",
              "\n",
              "Jim,\n",
              "\n",
              "Sorry I can't pity you, Jim.  And I'm sorry that you have these feelings of\n",
              "denial about the faith you need to get by.  Oh well, just pretend that it will\n",
              "all end happily ever after anyway.  Maybe if you start a new newsgroup,\n",
              "alt.atheist.hard, you won't be bummin' so much?\n",
              "\n",
              "\n",
              "\n",
              "\n",
              "\n",
              "\n",
              "Bye-Bye, Big Jim.  Don't forget your Flintstone's Chewables!  :) \n",
              "--\n",
              "Bake Timmons, III       </td><td>True   </td></tr>\n",
              "</tbody>\n",
              "</table>"
            ]
          },
          "metadata": {
            "tags": []
          }
        },
        {
          "output_type": "execute_result",
          "data": {
            "text/plain": [
              ""
            ]
          },
          "metadata": {
            "tags": []
          },
          "execution_count": 13
        }
      ]
    },
    {
      "cell_type": "code",
      "metadata": {
        "id": "SjHHA5Gke6Px",
        "colab_type": "code",
        "colab": {}
      },
      "source": [
        "# Set Stop Words\n",
        "# The STOP WORDS we are importing are from the nltk package\n",
        "import pandas as pd\n",
        "import os\n",
        "\n",
        "# Use local data file or download from GitHub\n",
        "docker_data_path = \"/home/h2o/data/nlp/stopwords.csv\"\n",
        "if os.path.isfile(docker_data_path):\n",
        "  data_path = docker_data_path\n",
        "else:\n",
        "  data_path = \"https://raw.githubusercontent.com/h2oai/h2o-tutorials/master/h2o-world-2017/nlp/stopwords.csv\"\n",
        "\n",
        "STOP_WORDS = pd.read_csv(data_path, header=0)\n",
        "STOP_WORDS = list(STOP_WORDS['STOP_WORD'])"
      ],
      "execution_count": 0,
      "outputs": []
    },
    {
      "cell_type": "code",
      "metadata": {
        "id": "mXpsXLbrfGyN",
        "colab_type": "code",
        "colab": {}
      },
      "source": [
        "# TODO: review how effective this is in removing junk \\r \\n etc\n",
        "def tokenize(sentences, stop_word = STOP_WORDS):\n",
        "    tokenized = sentences.tokenize(\"\\\\W+\")\n",
        "    tokenized_lower = tokenized.tolower()\n",
        "    tokenized_filtered = tokenized_lower[(tokenized_lower.nchar() >= 2) | (tokenized_lower.isna()),:]\n",
        "    tokenized_words = tokenized_filtered[tokenized_filtered.grep(\"[0-9]\",invert=True,output_logical=True),:]\n",
        "    tokenized_words = tokenized_words[(tokenized_words.isna()) | (~ tokenized_words.isin(STOP_WORDS)),:]\n",
        "    return tokenized_words"
      ],
      "execution_count": 0,
      "outputs": []
    },
    {
      "cell_type": "code",
      "metadata": {
        "id": "6is87Ly4fKSZ",
        "colab_type": "code",
        "outputId": "c1b88211-8096-4b1f-f3d5-fa273903962c",
        "colab": {
          "base_uri": "https://localhost:8080/",
          "height": 50
        }
      },
      "source": [
        "%%time\n",
        "# Break reviews into sequence of words\n",
        "words = tokenize(reviews[\"text\"]) # not sure if there is some sort of leakage here..."
      ],
      "execution_count": 16,
      "outputs": [
        {
          "output_type": "stream",
          "text": [
            "CPU times: user 3.6 s, sys: 72.7 ms, total: 3.67 s\n",
            "Wall time: 18 s\n"
          ],
          "name": "stdout"
        }
      ]
    },
    {
      "cell_type": "code",
      "metadata": {
        "id": "AN_ZlE70fp1y",
        "colab_type": "code",
        "outputId": "0c5ae7a9-9b2a-4fe5-f5e9-051629c122dd",
        "colab": {
          "base_uri": "https://localhost:8080/",
          "height": 238
        }
      },
      "source": [
        "words.head()"
      ],
      "execution_count": 17,
      "outputs": [
        {
          "output_type": "display_data",
          "data": {
            "text/html": [
              "<table>\n",
              "<thead>\n",
              "<tr><th>C1       </th></tr>\n",
              "</thead>\n",
              "<tbody>\n",
              "<tr><td>well     </td></tr>\n",
              "<tr><td>sure     </td></tr>\n",
              "<tr><td>story    </td></tr>\n",
              "<tr><td>nad      </td></tr>\n",
              "<tr><td>seem     </td></tr>\n",
              "<tr><td>biased   </td></tr>\n",
              "<tr><td>disagree </td></tr>\n",
              "<tr><td>statement</td></tr>\n",
              "<tr><td>media    </td></tr>\n",
              "<tr><td>ruin     </td></tr>\n",
              "</tbody>\n",
              "</table>"
            ]
          },
          "metadata": {
            "tags": []
          }
        },
        {
          "output_type": "execute_result",
          "data": {
            "text/plain": [
              ""
            ]
          },
          "metadata": {
            "tags": []
          },
          "execution_count": 17
        }
      ]
    },
    {
      "cell_type": "code",
      "metadata": {
        "id": "UA2kvjbBZYmp",
        "colab_type": "code",
        "colab": {
          "base_uri": "https://localhost:8080/",
          "height": 34
        },
        "outputId": "5e9fc92e-98c9-4e35-96a7-99a237130a84"
      },
      "source": [
        "words.shape"
      ],
      "execution_count": 53,
      "outputs": [
        {
          "output_type": "execute_result",
          "data": {
            "text/plain": [
              "(1195324, 1)"
            ]
          },
          "metadata": {
            "tags": []
          },
          "execution_count": 53
        }
      ]
    },
    {
      "cell_type": "code",
      "metadata": {
        "id": "t5pnBHOAfzua",
        "colab_type": "code",
        "outputId": "269c2b53-8a8a-4928-90ab-0379b7858f76",
        "colab": {
          "base_uri": "https://localhost:8080/",
          "height": 34
        }
      },
      "source": [
        "# Train Word2Vec Model\n",
        "from h2o.estimators.word2vec import H2OWord2vecEstimator\n",
        "\n",
        "# This takes time to run - left commented out\n",
        "w2v_model = H2OWord2vecEstimator(vec_size = 100, model_id = \"w2v.hex\")\n",
        "w2v_model.train(training_frame=words) # train on the words thing we just got"
      ],
      "execution_count": 18,
      "outputs": [
        {
          "output_type": "stream",
          "text": [
            "word2vec Model Build progress: |██████████████████████████████████████████| 100%\n"
          ],
          "name": "stdout"
        }
      ]
    },
    {
      "cell_type": "code",
      "metadata": {
        "id": "wTE3aw2fgHWl",
        "colab_type": "code",
        "outputId": "ad82fa87-dc40-4157-ebda-18627081dc21",
        "colab": {
          "base_uri": "https://localhost:8080/",
          "height": 101
        }
      },
      "source": [
        "# Sanity check - find synonyms for the word 'president'\n",
        "w2v_model.find_synonyms(\"president\", count = 5) # not bad actually :)"
      ],
      "execution_count": 19,
      "outputs": [
        {
          "output_type": "execute_result",
          "data": {
            "text/plain": [
              "OrderedDict([('yeltsin', 0.839710533618927),\n",
              "             ('mubarak', 0.8223352432250977),\n",
              "             ('stephanopoulos', 0.7830407619476318),\n",
              "             ('miyazawa', 0.7741147875785828),\n",
              "             ('dole', 0.7653542160987854)])"
            ]
          },
          "metadata": {
            "tags": []
          },
          "execution_count": 19
        }
      ]
    },
    {
      "cell_type": "code",
      "metadata": {
        "id": "PrRlKjA8hBl6",
        "colab_type": "code",
        "colab": {}
      },
      "source": [
        "# Calculate a vector for each review\n",
        "review_vecs = w2v_model.transform(words, aggregate_method = \"AVERAGE\")"
      ],
      "execution_count": 0,
      "outputs": []
    },
    {
      "cell_type": "code",
      "metadata": {
        "id": "jKXOFtkGhLv4",
        "colab_type": "code",
        "outputId": "c47b6fbc-1d78-49d9-b975-d21b0c6572c7",
        "colab": {
          "base_uri": "https://localhost:8080/",
          "height": 258
        }
      },
      "source": [
        "review_vecs"
      ],
      "execution_count": 21,
      "outputs": [
        {
          "output_type": "display_data",
          "data": {
            "text/html": [
              "<table>\n",
              "<thead>\n",
              "<tr><th style=\"text-align: right;\">       C1</th><th style=\"text-align: right;\">        C2</th><th style=\"text-align: right;\">        C3</th><th style=\"text-align: right;\">        C4</th><th style=\"text-align: right;\">         C5</th><th style=\"text-align: right;\">        C6</th><th style=\"text-align: right;\">       C7</th><th style=\"text-align: right;\">         C8</th><th style=\"text-align: right;\">       C9</th><th style=\"text-align: right;\">       C10</th><th style=\"text-align: right;\">        C11</th><th style=\"text-align: right;\">       C12</th><th style=\"text-align: right;\">       C13</th><th style=\"text-align: right;\">       C14</th><th style=\"text-align: right;\">       C15</th><th style=\"text-align: right;\">       C16</th><th style=\"text-align: right;\">       C17</th><th style=\"text-align: right;\">       C18</th><th style=\"text-align: right;\">       C19</th><th style=\"text-align: right;\">        C20</th><th style=\"text-align: right;\">       C21</th><th style=\"text-align: right;\">       C22</th><th style=\"text-align: right;\">        C23</th><th style=\"text-align: right;\">       C24</th><th style=\"text-align: right;\">       C25</th><th style=\"text-align: right;\">         C26</th><th style=\"text-align: right;\">        C27</th><th style=\"text-align: right;\">        C28</th><th style=\"text-align: right;\">         C29</th><th style=\"text-align: right;\">        C30</th><th style=\"text-align: right;\">        C31</th><th style=\"text-align: right;\">      C32</th><th style=\"text-align: right;\">        C33</th><th style=\"text-align: right;\">       C34</th><th style=\"text-align: right;\">       C35</th><th style=\"text-align: right;\">         C36</th><th style=\"text-align: right;\">      C37</th><th style=\"text-align: right;\">        C38</th><th style=\"text-align: right;\">       C39</th><th style=\"text-align: right;\">       C40</th><th style=\"text-align: right;\">         C41</th><th style=\"text-align: right;\">       C42</th><th style=\"text-align: right;\">       C43</th><th style=\"text-align: right;\">       C44</th><th style=\"text-align: right;\">        C45</th><th style=\"text-align: right;\">       C46</th><th style=\"text-align: right;\">        C47</th><th style=\"text-align: right;\">         C48</th><th style=\"text-align: right;\">        C49</th><th style=\"text-align: right;\">         C50</th><th style=\"text-align: right;\">        C51</th><th style=\"text-align: right;\">       C52</th><th style=\"text-align: right;\">       C53</th><th style=\"text-align: right;\">       C54</th><th style=\"text-align: right;\">        C55</th><th style=\"text-align: right;\">      C56</th><th style=\"text-align: right;\">         C57</th><th style=\"text-align: right;\">       C58</th><th style=\"text-align: right;\">       C59</th><th style=\"text-align: right;\">         C60</th><th style=\"text-align: right;\">        C61</th><th style=\"text-align: right;\">       C62</th><th style=\"text-align: right;\">        C63</th><th style=\"text-align: right;\">        C64</th><th style=\"text-align: right;\">        C65</th><th style=\"text-align: right;\">        C66</th><th style=\"text-align: right;\">        C67</th><th style=\"text-align: right;\">       C68</th><th style=\"text-align: right;\">       C69</th><th style=\"text-align: right;\">       C70</th><th style=\"text-align: right;\">     C71</th><th style=\"text-align: right;\">      C72</th><th style=\"text-align: right;\">       C73</th><th style=\"text-align: right;\">       C74</th><th style=\"text-align: right;\">        C75</th><th style=\"text-align: right;\">       C76</th><th style=\"text-align: right;\">        C77</th><th style=\"text-align: right;\">       C78</th><th style=\"text-align: right;\">       C79</th><th style=\"text-align: right;\">        C80</th><th style=\"text-align: right;\">       C81</th><th style=\"text-align: right;\">       C82</th><th style=\"text-align: right;\">      C83</th><th style=\"text-align: right;\">       C84</th><th style=\"text-align: right;\">        C85</th><th style=\"text-align: right;\">       C86</th><th style=\"text-align: right;\">         C87</th><th style=\"text-align: right;\">        C88</th><th style=\"text-align: right;\">         C89</th><th style=\"text-align: right;\">        C90</th><th style=\"text-align: right;\">       C91</th><th style=\"text-align: right;\">       C92</th><th style=\"text-align: right;\">       C93</th><th style=\"text-align: right;\">      C94</th><th style=\"text-align: right;\">      C95</th><th style=\"text-align: right;\">       C96</th><th style=\"text-align: right;\">         C97</th><th style=\"text-align: right;\">       C98</th><th style=\"text-align: right;\">        C99</th><th style=\"text-align: right;\">       C100</th></tr>\n",
              "</thead>\n",
              "<tbody>\n",
              "<tr><td style=\"text-align: right;\">0.100854 </td><td style=\"text-align: right;\"> 0.214922 </td><td style=\"text-align: right;\">-0.0053391</td><td style=\"text-align: right;\">-0.124211 </td><td style=\"text-align: right;\"> 0.14442   </td><td style=\"text-align: right;\"> 0.12438  </td><td style=\"text-align: right;\">0.0355313</td><td style=\"text-align: right;\">-0.0458748 </td><td style=\"text-align: right;\">0.184274 </td><td style=\"text-align: right;\">-0.224204 </td><td style=\"text-align: right;\">-0.0230852 </td><td style=\"text-align: right;\">-0.0970359</td><td style=\"text-align: right;\"> 0.0635722</td><td style=\"text-align: right;\"> 0.109533 </td><td style=\"text-align: right;\">-0.220632 </td><td style=\"text-align: right;\">-0.0662296</td><td style=\"text-align: right;\">-0.119612 </td><td style=\"text-align: right;\"> 0.0475104</td><td style=\"text-align: right;\"> 0.0277557</td><td style=\"text-align: right;\"> 0.0519785 </td><td style=\"text-align: right;\">-0.0219031</td><td style=\"text-align: right;\"> 0.16842  </td><td style=\"text-align: right;\">-0.0309362 </td><td style=\"text-align: right;\"> 0.0906608</td><td style=\"text-align: right;\">-0.070722 </td><td style=\"text-align: right;\"> 0.0365411  </td><td style=\"text-align: right;\"> 0.00327185</td><td style=\"text-align: right;\">-0.0328439 </td><td style=\"text-align: right;\">-0.107563   </td><td style=\"text-align: right;\"> 0.0289882 </td><td style=\"text-align: right;\">-0.0894871 </td><td style=\"text-align: right;\">0.162283 </td><td style=\"text-align: right;\"> 0.0454493 </td><td style=\"text-align: right;\">-0.200985 </td><td style=\"text-align: right;\">-0.0213758</td><td style=\"text-align: right;\"> 0.000782951</td><td style=\"text-align: right;\">0.0256638</td><td style=\"text-align: right;\"> 0.0313324 </td><td style=\"text-align: right;\">-0.094772 </td><td style=\"text-align: right;\">-0.194929 </td><td style=\"text-align: right;\"> 0.00821524 </td><td style=\"text-align: right;\">-0.0240408</td><td style=\"text-align: right;\"> 0.107015 </td><td style=\"text-align: right;\">-0.0514314</td><td style=\"text-align: right;\"> 0.0975042 </td><td style=\"text-align: right;\">-0.0520109</td><td style=\"text-align: right;\"> 0.0847034 </td><td style=\"text-align: right;\">-0.0814614  </td><td style=\"text-align: right;\"> 0.00743687</td><td style=\"text-align: right;\">-0.0398653  </td><td style=\"text-align: right;\"> 0.0526427 </td><td style=\"text-align: right;\">-0.0643699</td><td style=\"text-align: right;\">-0.117195 </td><td style=\"text-align: right;\"> 0.0013163</td><td style=\"text-align: right;\">-0.00257694</td><td style=\"text-align: right;\">0.156557 </td><td style=\"text-align: right;\"> 0.0664971  </td><td style=\"text-align: right;\"> 0.0427845</td><td style=\"text-align: right;\">-0.170556 </td><td style=\"text-align: right;\"> 0.000775099</td><td style=\"text-align: right;\">-0.0425123 </td><td style=\"text-align: right;\">-0.132781 </td><td style=\"text-align: right;\"> 0.0695853 </td><td style=\"text-align: right;\"> 0.00850185</td><td style=\"text-align: right;\"> 0.00435632</td><td style=\"text-align: right;\"> 0.128878  </td><td style=\"text-align: right;\"> 0.00670197</td><td style=\"text-align: right;\">-0.101024 </td><td style=\"text-align: right;\"> 0.0912273</td><td style=\"text-align: right;\"> 0.0684253</td><td style=\"text-align: right;\">0.242761</td><td style=\"text-align: right;\">0.0464683</td><td style=\"text-align: right;\"> 0.141925 </td><td style=\"text-align: right;\">-0.0495965</td><td style=\"text-align: right;\"> 0.00734458</td><td style=\"text-align: right;\">-0.168379 </td><td style=\"text-align: right;\"> 0.0423112 </td><td style=\"text-align: right;\"> 0.037217 </td><td style=\"text-align: right;\">0.00871311</td><td style=\"text-align: right;\"> 0.0339592 </td><td style=\"text-align: right;\">-0.0721132</td><td style=\"text-align: right;\"> 0.129192 </td><td style=\"text-align: right;\">0.044666 </td><td style=\"text-align: right;\">-0.158464 </td><td style=\"text-align: right;\"> 0.0221064 </td><td style=\"text-align: right;\">0.179761  </td><td style=\"text-align: right;\"> 0.0784063  </td><td style=\"text-align: right;\">-0.00577739</td><td style=\"text-align: right;\">-0.016471   </td><td style=\"text-align: right;\"> 0.0362513 </td><td style=\"text-align: right;\">-0.063352 </td><td style=\"text-align: right;\">-0.146119 </td><td style=\"text-align: right;\"> 0.0380497</td><td style=\"text-align: right;\">0.12456  </td><td style=\"text-align: right;\">0.133647 </td><td style=\"text-align: right;\"> 0.135837 </td><td style=\"text-align: right;\"> 0.0156643  </td><td style=\"text-align: right;\"> 0.167766 </td><td style=\"text-align: right;\">-0.00729291</td><td style=\"text-align: right;\"> 0.143896  </td></tr>\n",
              "<tr><td style=\"text-align: right;\">0.0362181</td><td style=\"text-align: right;\"> 0.164987 </td><td style=\"text-align: right;\"> 0.0729429</td><td style=\"text-align: right;\">-0.0898479</td><td style=\"text-align: right;\"> 0.020675  </td><td style=\"text-align: right;\"> 0.0149356</td><td style=\"text-align: right;\">0.168858 </td><td style=\"text-align: right;\"> 0.0602448 </td><td style=\"text-align: right;\">0.146316 </td><td style=\"text-align: right;\">-0.137834 </td><td style=\"text-align: right;\">-0.0869655 </td><td style=\"text-align: right;\">-0.0830728</td><td style=\"text-align: right;\"> 0.107615 </td><td style=\"text-align: right;\"> 0.0847902</td><td style=\"text-align: right;\">-0.172672 </td><td style=\"text-align: right;\">-0.0970542</td><td style=\"text-align: right;\">-0.0508258</td><td style=\"text-align: right;\"> 0.0537213</td><td style=\"text-align: right;\">-0.0655368</td><td style=\"text-align: right;\">-0.00169887</td><td style=\"text-align: right;\"> 0.115304 </td><td style=\"text-align: right;\"> 0.11543  </td><td style=\"text-align: right;\"> 0.0865985 </td><td style=\"text-align: right;\"> 0.119164 </td><td style=\"text-align: right;\">-0.101527 </td><td style=\"text-align: right;\"> 0.00956957 </td><td style=\"text-align: right;\"> 0.027875  </td><td style=\"text-align: right;\">-0.100589  </td><td style=\"text-align: right;\">-0.0403508  </td><td style=\"text-align: right;\"> 0.0486699 </td><td style=\"text-align: right;\">-0.00698765</td><td style=\"text-align: right;\">0.0233108</td><td style=\"text-align: right;\"> 0.00391913</td><td style=\"text-align: right;\">-0.0773472</td><td style=\"text-align: right;\">-0.166856 </td><td style=\"text-align: right;\">-0.0381865  </td><td style=\"text-align: right;\">0.0985916</td><td style=\"text-align: right;\"> 0.0127571 </td><td style=\"text-align: right;\">-0.262964 </td><td style=\"text-align: right;\">-0.0138162</td><td style=\"text-align: right;\">-0.0505553  </td><td style=\"text-align: right;\">-0.0135379</td><td style=\"text-align: right;\"> 0.158761 </td><td style=\"text-align: right;\">-0.0785561</td><td style=\"text-align: right;\">-0.00285893</td><td style=\"text-align: right;\">-0.0213931</td><td style=\"text-align: right;\">-0.0409348 </td><td style=\"text-align: right;\">-0.0291074  </td><td style=\"text-align: right;\"> 0.0195055 </td><td style=\"text-align: right;\"> 0.00614189 </td><td style=\"text-align: right;\"> 0.0489927 </td><td style=\"text-align: right;\">-0.143281 </td><td style=\"text-align: right;\">-0.0613934</td><td style=\"text-align: right;\">-0.0128986</td><td style=\"text-align: right;\"> 0.0436563 </td><td style=\"text-align: right;\">0.17227  </td><td style=\"text-align: right;\">-0.0457168  </td><td style=\"text-align: right;\">-0.0792358</td><td style=\"text-align: right;\">-0.101557 </td><td style=\"text-align: right;\"> 0.00235433 </td><td style=\"text-align: right;\">-0.0758121 </td><td style=\"text-align: right;\">-0.167949 </td><td style=\"text-align: right;\"> 0.0107867 </td><td style=\"text-align: right;\">-0.0459107 </td><td style=\"text-align: right;\">-0.00322157</td><td style=\"text-align: right;\"> 0.0439873 </td><td style=\"text-align: right;\"> 0.00926035</td><td style=\"text-align: right;\">-0.129737 </td><td style=\"text-align: right;\"> 0.155288 </td><td style=\"text-align: right;\"> 0.0457352</td><td style=\"text-align: right;\">0.121833</td><td style=\"text-align: right;\">0.0652034</td><td style=\"text-align: right;\"> 0.0693419</td><td style=\"text-align: right;\">-0.0421772</td><td style=\"text-align: right;\">-0.0916163 </td><td style=\"text-align: right;\">-0.110365 </td><td style=\"text-align: right;\">-0.0778806 </td><td style=\"text-align: right;\"> 0.023084 </td><td style=\"text-align: right;\">0.0362972 </td><td style=\"text-align: right;\">-0.00223716</td><td style=\"text-align: right;\"> 0.0730762</td><td style=\"text-align: right;\"> 0.121226 </td><td style=\"text-align: right;\">0.144198 </td><td style=\"text-align: right;\">-0.210575 </td><td style=\"text-align: right;\">-0.0280286 </td><td style=\"text-align: right;\">0.0941898 </td><td style=\"text-align: right;\">-0.0428202  </td><td style=\"text-align: right;\"> 0.0403882 </td><td style=\"text-align: right;\">-0.0723411  </td><td style=\"text-align: right;\"> 0.0437352 </td><td style=\"text-align: right;\">-0.041142 </td><td style=\"text-align: right;\">-0.0778141</td><td style=\"text-align: right;\"> 0.0184774</td><td style=\"text-align: right;\">0.114751 </td><td style=\"text-align: right;\">0.0819018</td><td style=\"text-align: right;\"> 0.0146247</td><td style=\"text-align: right;\">-0.0660108  </td><td style=\"text-align: right;\"> 0.217936 </td><td style=\"text-align: right;\"> 0.0627516 </td><td style=\"text-align: right;\"> 0.180888  </td></tr>\n",
              "<tr><td style=\"text-align: right;\">0.0988381</td><td style=\"text-align: right;\"> 0.256946 </td><td style=\"text-align: right;\"> 0.0331323</td><td style=\"text-align: right;\">-0.133568 </td><td style=\"text-align: right;\"> 0.115861  </td><td style=\"text-align: right;\"> 0.189089 </td><td style=\"text-align: right;\">0.101659 </td><td style=\"text-align: right;\"> 0.0556763 </td><td style=\"text-align: right;\">0.129551 </td><td style=\"text-align: right;\">-0.224236 </td><td style=\"text-align: right;\">-0.0315448 </td><td style=\"text-align: right;\">-0.146719 </td><td style=\"text-align: right;\"> 0.0939309</td><td style=\"text-align: right;\"> 0.0542385</td><td style=\"text-align: right;\">-0.171682 </td><td style=\"text-align: right;\">-0.0938371</td><td style=\"text-align: right;\">-0.0941245</td><td style=\"text-align: right;\"> 0.0197775</td><td style=\"text-align: right;\"> 0.0226496</td><td style=\"text-align: right;\"> 0.0273754 </td><td style=\"text-align: right;\"> 0.0535092</td><td style=\"text-align: right;\"> 0.153357 </td><td style=\"text-align: right;\"> 0.0594746 </td><td style=\"text-align: right;\"> 0.150377 </td><td style=\"text-align: right;\">-0.0665057</td><td style=\"text-align: right;\"> 0.0942774  </td><td style=\"text-align: right;\">-0.00140912</td><td style=\"text-align: right;\">-0.0473077 </td><td style=\"text-align: right;\">-0.138532   </td><td style=\"text-align: right;\"> 0.109204  </td><td style=\"text-align: right;\">-0.0838873 </td><td style=\"text-align: right;\">0.174318 </td><td style=\"text-align: right;\"> 0.0802655 </td><td style=\"text-align: right;\">-0.148358 </td><td style=\"text-align: right;\">-0.0119261</td><td style=\"text-align: right;\"> 0.0160297  </td><td style=\"text-align: right;\">0.0505047</td><td style=\"text-align: right;\"> 0.0705209 </td><td style=\"text-align: right;\">-0.101979 </td><td style=\"text-align: right;\">-0.147643 </td><td style=\"text-align: right;\">-0.00569729 </td><td style=\"text-align: right;\"> 0.0388345</td><td style=\"text-align: right;\"> 0.0725605</td><td style=\"text-align: right;\">-0.0523381</td><td style=\"text-align: right;\"> 0.0364518 </td><td style=\"text-align: right;\">-0.0130085</td><td style=\"text-align: right;\"> 0.0209813 </td><td style=\"text-align: right;\">-0.0352256  </td><td style=\"text-align: right;\">-0.00112299</td><td style=\"text-align: right;\">-0.0500736  </td><td style=\"text-align: right;\"> 0.101632  </td><td style=\"text-align: right;\">-0.0548145</td><td style=\"text-align: right;\">-0.0431246</td><td style=\"text-align: right;\">-0.0128474</td><td style=\"text-align: right;\"> 0.0311164 </td><td style=\"text-align: right;\">0.1855   </td><td style=\"text-align: right;\">-0.000722028</td><td style=\"text-align: right;\">-0.0212071</td><td style=\"text-align: right;\">-0.130361 </td><td style=\"text-align: right;\"> 0.0105748  </td><td style=\"text-align: right;\">-0.0153413 </td><td style=\"text-align: right;\">-0.0759837</td><td style=\"text-align: right;\"> 0.0499137 </td><td style=\"text-align: right;\">-0.0176868 </td><td style=\"text-align: right;\"> 0.0243714 </td><td style=\"text-align: right;\"> 0.125821  </td><td style=\"text-align: right;\"> 0.0269336 </td><td style=\"text-align: right;\">-0.0991248</td><td style=\"text-align: right;\"> 0.137349 </td><td style=\"text-align: right;\"> 0.0703539</td><td style=\"text-align: right;\">0.1991  </td><td style=\"text-align: right;\">0.0802391</td><td style=\"text-align: right;\"> 0.0911705</td><td style=\"text-align: right;\">-0.0636531</td><td style=\"text-align: right;\">-0.0286031 </td><td style=\"text-align: right;\">-0.216047 </td><td style=\"text-align: right;\">-0.0223152 </td><td style=\"text-align: right;\"> 0.100835 </td><td style=\"text-align: right;\">0.0080052 </td><td style=\"text-align: right;\">-0.0395069 </td><td style=\"text-align: right;\"> 0.0165128</td><td style=\"text-align: right;\"> 0.131669 </td><td style=\"text-align: right;\">0.0280348</td><td style=\"text-align: right;\">-0.158216 </td><td style=\"text-align: right;\">-0.0142503 </td><td style=\"text-align: right;\">0.186228  </td><td style=\"text-align: right;\"> 0.103309   </td><td style=\"text-align: right;\"> 0.0362085 </td><td style=\"text-align: right;\">-0.0154862  </td><td style=\"text-align: right;\"> 0.10218   </td><td style=\"text-align: right;\">-0.0895763</td><td style=\"text-align: right;\">-0.171741 </td><td style=\"text-align: right;\"> 0.039964 </td><td style=\"text-align: right;\">0.0251542</td><td style=\"text-align: right;\">0.0439658</td><td style=\"text-align: right;\"> 0.0952155</td><td style=\"text-align: right;\">-0.0175536  </td><td style=\"text-align: right;\"> 0.122696 </td><td style=\"text-align: right;\"> 0.00151233</td><td style=\"text-align: right;\"> 0.148789  </td></tr>\n",
              "<tr><td style=\"text-align: right;\">0.179661 </td><td style=\"text-align: right;\"> 0.0438153</td><td style=\"text-align: right;\"> 0.0276789</td><td style=\"text-align: right;\">-0.0316723</td><td style=\"text-align: right;\"> 0.139103  </td><td style=\"text-align: right;\"> 0.148313 </td><td style=\"text-align: right;\">0.115865 </td><td style=\"text-align: right;\"> 0.108354  </td><td style=\"text-align: right;\">0.0579854</td><td style=\"text-align: right;\">-0.152428 </td><td style=\"text-align: right;\">-0.0447966 </td><td style=\"text-align: right;\">-0.119619 </td><td style=\"text-align: right;\"> 0.130039 </td><td style=\"text-align: right;\">-0.0888611</td><td style=\"text-align: right;\">-0.162869 </td><td style=\"text-align: right;\">-0.131771 </td><td style=\"text-align: right;\">-0.108584 </td><td style=\"text-align: right;\">-0.0081567</td><td style=\"text-align: right;\">-0.200367 </td><td style=\"text-align: right;\">-0.0726017 </td><td style=\"text-align: right;\"> 0.0019702</td><td style=\"text-align: right;\"> 0.196503 </td><td style=\"text-align: right;\">-0.0114817 </td><td style=\"text-align: right;\"> 0.15413  </td><td style=\"text-align: right;\">-0.0230258</td><td style=\"text-align: right;\">-0.000105817</td><td style=\"text-align: right;\"> 0.0851186 </td><td style=\"text-align: right;\">-0.0818888 </td><td style=\"text-align: right;\"> 0.000278688</td><td style=\"text-align: right;\"> 0.00708339</td><td style=\"text-align: right;\">-0.0820923 </td><td style=\"text-align: right;\">0.0939512</td><td style=\"text-align: right;\"> 0.0102506 </td><td style=\"text-align: right;\">-0.117568 </td><td style=\"text-align: right;\">-0.0415668</td><td style=\"text-align: right;\">-0.0826144  </td><td style=\"text-align: right;\">0.116524 </td><td style=\"text-align: right;\"> 0.130626  </td><td style=\"text-align: right;\">-0.154154 </td><td style=\"text-align: right;\">-0.111644 </td><td style=\"text-align: right;\">-0.0234984  </td><td style=\"text-align: right;\">-0.0554113</td><td style=\"text-align: right;\"> 0.0570883</td><td style=\"text-align: right;\">-0.0759876</td><td style=\"text-align: right;\"> 0.0643332 </td><td style=\"text-align: right;\"> 0.0143783</td><td style=\"text-align: right;\">-0.0766481 </td><td style=\"text-align: right;\"> 0.0490793  </td><td style=\"text-align: right;\">-0.005918  </td><td style=\"text-align: right;\">-0.000355499</td><td style=\"text-align: right;\"> 0.142617  </td><td style=\"text-align: right;\">-0.088382 </td><td style=\"text-align: right;\"> 0.0062889</td><td style=\"text-align: right;\">-0.0391375</td><td style=\"text-align: right;\"> 0.135717  </td><td style=\"text-align: right;\">0.117231 </td><td style=\"text-align: right;\">-0.0691412  </td><td style=\"text-align: right;\">-0.0240134</td><td style=\"text-align: right;\">-0.141883 </td><td style=\"text-align: right;\">-0.029186   </td><td style=\"text-align: right;\">-0.106444  </td><td style=\"text-align: right;\">-0.0511723</td><td style=\"text-align: right;\">-0.00938725</td><td style=\"text-align: right;\">-0.0649805 </td><td style=\"text-align: right;\"> 0.0517662 </td><td style=\"text-align: right;\"> 0.0649631 </td><td style=\"text-align: right;\"> 0.0198036 </td><td style=\"text-align: right;\">-0.0617674</td><td style=\"text-align: right;\"> 0.0929464</td><td style=\"text-align: right;\"> 0.122531 </td><td style=\"text-align: right;\">0.170235</td><td style=\"text-align: right;\">0.0219585</td><td style=\"text-align: right;\"> 0.0173307</td><td style=\"text-align: right;\">-0.016328 </td><td style=\"text-align: right;\">-0.0063871 </td><td style=\"text-align: right;\">-0.101906 </td><td style=\"text-align: right;\">-0.0868363 </td><td style=\"text-align: right;\">-0.01873  </td><td style=\"text-align: right;\">0.0670533 </td><td style=\"text-align: right;\">-0.0523686 </td><td style=\"text-align: right;\"> 0.0606709</td><td style=\"text-align: right;\"> 0.0155336</td><td style=\"text-align: right;\">0.0915936</td><td style=\"text-align: right;\">-0.16844  </td><td style=\"text-align: right;\">-0.0325586 </td><td style=\"text-align: right;\">0.0818212 </td><td style=\"text-align: right;\"> 0.0339904  </td><td style=\"text-align: right;\"> 0.0419001 </td><td style=\"text-align: right;\"> 0.0147951  </td><td style=\"text-align: right;\"> 0.122948  </td><td style=\"text-align: right;\">-0.0579777</td><td style=\"text-align: right;\">-0.0594984</td><td style=\"text-align: right;\"> 0.0329581</td><td style=\"text-align: right;\">0.068708 </td><td style=\"text-align: right;\">0.0274721</td><td style=\"text-align: right;\">-0.0197208</td><td style=\"text-align: right;\"> 0.0166626  </td><td style=\"text-align: right;\"> 0.117144 </td><td style=\"text-align: right;\">-0.0306368 </td><td style=\"text-align: right;\"> 0.171346  </td></tr>\n",
              "<tr><td style=\"text-align: right;\">0.200481 </td><td style=\"text-align: right;\">-0.0323975</td><td style=\"text-align: right;\">-0.0328264</td><td style=\"text-align: right;\">-0.0123091</td><td style=\"text-align: right;\">-0.116554  </td><td style=\"text-align: right;\"> 0.0663996</td><td style=\"text-align: right;\">0.104453 </td><td style=\"text-align: right;\">-0.00698309</td><td style=\"text-align: right;\">0.161785 </td><td style=\"text-align: right;\">-0.0660954</td><td style=\"text-align: right;\">-0.0459674 </td><td style=\"text-align: right;\">-0.0277605</td><td style=\"text-align: right;\">-0.0327662</td><td style=\"text-align: right;\">-0.0476339</td><td style=\"text-align: right;\">-0.151315 </td><td style=\"text-align: right;\">-0.076606 </td><td style=\"text-align: right;\">-0.103409 </td><td style=\"text-align: right;\">-0.0499234</td><td style=\"text-align: right;\"> 0.0167597</td><td style=\"text-align: right;\"> 0.0492481 </td><td style=\"text-align: right;\"> 0.0729447</td><td style=\"text-align: right;\"> 0.0424256</td><td style=\"text-align: right;\"> 0.0994683 </td><td style=\"text-align: right;\"> 0.0698943</td><td style=\"text-align: right;\">-0.418615 </td><td style=\"text-align: right;\">-0.045295   </td><td style=\"text-align: right;\">-0.0411773 </td><td style=\"text-align: right;\">-0.114427  </td><td style=\"text-align: right;\"> 0.0585933  </td><td style=\"text-align: right;\"> 0.2073    </td><td style=\"text-align: right;\"> 0.163073  </td><td style=\"text-align: right;\">0.121227 </td><td style=\"text-align: right;\"> 0.250906  </td><td style=\"text-align: right;\">-0.0623279</td><td style=\"text-align: right;\">-0.13841  </td><td style=\"text-align: right;\">-0.0433363  </td><td style=\"text-align: right;\">0.243531 </td><td style=\"text-align: right;\"> 0.170834  </td><td style=\"text-align: right;\">-0.250816 </td><td style=\"text-align: right;\">-0.190133 </td><td style=\"text-align: right;\">-0.0627421  </td><td style=\"text-align: right;\"> 0.0587868</td><td style=\"text-align: right;\"> 0.115908 </td><td style=\"text-align: right;\">-0.033074 </td><td style=\"text-align: right;\"> 0.110016  </td><td style=\"text-align: right;\">-0.0449371</td><td style=\"text-align: right;\">-0.103295  </td><td style=\"text-align: right;\"> 0.0850794  </td><td style=\"text-align: right;\"> 0.0322662 </td><td style=\"text-align: right;\"> 0.0501034  </td><td style=\"text-align: right;\">-0.0156156 </td><td style=\"text-align: right;\">-0.112856 </td><td style=\"text-align: right;\"> 0.0631362</td><td style=\"text-align: right;\">-0.0753724</td><td style=\"text-align: right;\">-0.103073  </td><td style=\"text-align: right;\">0.112203 </td><td style=\"text-align: right;\"> 0.0538414  </td><td style=\"text-align: right;\">-0.2332   </td><td style=\"text-align: right;\">-0.0139939</td><td style=\"text-align: right;\"> 0.169975   </td><td style=\"text-align: right;\"> 0.075727  </td><td style=\"text-align: right;\">-0.0817618</td><td style=\"text-align: right;\"> 0.134081  </td><td style=\"text-align: right;\">-0.149318  </td><td style=\"text-align: right;\"> 0.0987714 </td><td style=\"text-align: right;\"> 0.165327  </td><td style=\"text-align: right;\"> 0.096588  </td><td style=\"text-align: right;\"> 0.0533167</td><td style=\"text-align: right;\"> 0.336327 </td><td style=\"text-align: right;\">-0.100753 </td><td style=\"text-align: right;\">0.219519</td><td style=\"text-align: right;\">0.0553495</td><td style=\"text-align: right;\"> 0.217352 </td><td style=\"text-align: right;\"> 0.162643 </td><td style=\"text-align: right;\">-0.0162381 </td><td style=\"text-align: right;\">-0.0332051</td><td style=\"text-align: right;\"> 0.0109791 </td><td style=\"text-align: right;\">-0.0618142</td><td style=\"text-align: right;\">0.0639222 </td><td style=\"text-align: right;\">-0.222743  </td><td style=\"text-align: right;\"> 0.0242047</td><td style=\"text-align: right;\"> 0.262519 </td><td style=\"text-align: right;\">0.234335 </td><td style=\"text-align: right;\"> 0.0102074</td><td style=\"text-align: right;\">-0.0305088 </td><td style=\"text-align: right;\">0.207513  </td><td style=\"text-align: right;\"> 7.17748e-05</td><td style=\"text-align: right;\"> 0.10752   </td><td style=\"text-align: right;\">-0.154087   </td><td style=\"text-align: right;\"> 0.139899  </td><td style=\"text-align: right;\"> 0.0811542</td><td style=\"text-align: right;\">-0.096317 </td><td style=\"text-align: right;\"> 0.220261 </td><td style=\"text-align: right;\">0.286039 </td><td style=\"text-align: right;\">0.440771 </td><td style=\"text-align: right;\">-0.158803 </td><td style=\"text-align: right;\">-0.0770528  </td><td style=\"text-align: right;\">-0.0325758</td><td style=\"text-align: right;\"> 0.0510788 </td><td style=\"text-align: right;\">-0.00262566</td></tr>\n",
              "<tr><td style=\"text-align: right;\">0.05301  </td><td style=\"text-align: right;\"> 0.15107  </td><td style=\"text-align: right;\"> 0.0513817</td><td style=\"text-align: right;\">-0.136637 </td><td style=\"text-align: right;\">-0.00549268</td><td style=\"text-align: right;\"> 0.0213372</td><td style=\"text-align: right;\">0.158159 </td><td style=\"text-align: right;\">-0.0490722 </td><td style=\"text-align: right;\">0.0801905</td><td style=\"text-align: right;\">-0.0926597</td><td style=\"text-align: right;\"> 0.00229586</td><td style=\"text-align: right;\">-0.0298926</td><td style=\"text-align: right;\"> 0.119411 </td><td style=\"text-align: right;\"> 0.0534069</td><td style=\"text-align: right;\">-0.279512 </td><td style=\"text-align: right;\">-0.171049 </td><td style=\"text-align: right;\"> 0.0407439</td><td style=\"text-align: right;\"> 0.0901192</td><td style=\"text-align: right;\">-0.0372133</td><td style=\"text-align: right;\"> 0.0269144 </td><td style=\"text-align: right;\"> 0.0685874</td><td style=\"text-align: right;\"> 0.098019 </td><td style=\"text-align: right;\"> 0.0414416 </td><td style=\"text-align: right;\"> 0.0477329</td><td style=\"text-align: right;\"> 0.0170845</td><td style=\"text-align: right;\">-0.086893   </td><td style=\"text-align: right;\"> 0.0410566 </td><td style=\"text-align: right;\">-0.00223534</td><td style=\"text-align: right;\">-0.00436892 </td><td style=\"text-align: right;\"> 0.019184  </td><td style=\"text-align: right;\">-0.102387  </td><td style=\"text-align: right;\">0.0682591</td><td style=\"text-align: right;\">-0.0430666 </td><td style=\"text-align: right;\">-0.148485 </td><td style=\"text-align: right;\">-0.106895 </td><td style=\"text-align: right;\">-0.0378131  </td><td style=\"text-align: right;\">0.0600733</td><td style=\"text-align: right;\"> 0.056137  </td><td style=\"text-align: right;\">-0.276704 </td><td style=\"text-align: right;\">-0.0935721</td><td style=\"text-align: right;\"> 0.000407683</td><td style=\"text-align: right;\">-0.0410696</td><td style=\"text-align: right;\"> 0.141498 </td><td style=\"text-align: right;\">-0.053112 </td><td style=\"text-align: right;\"> 0.0968311 </td><td style=\"text-align: right;\">-0.0922778</td><td style=\"text-align: right;\">-0.0769995 </td><td style=\"text-align: right;\"> 0.002771   </td><td style=\"text-align: right;\"> 0.0848046 </td><td style=\"text-align: right;\">-0.0334787  </td><td style=\"text-align: right;\"> 0.00520818</td><td style=\"text-align: right;\">-0.0447943</td><td style=\"text-align: right;\"> 0.0199875</td><td style=\"text-align: right;\">-0.0345438</td><td style=\"text-align: right;\"> 0.0342722 </td><td style=\"text-align: right;\">0.0682358</td><td style=\"text-align: right;\"> 0.120612   </td><td style=\"text-align: right;\">-0.0907402</td><td style=\"text-align: right;\">-0.170348 </td><td style=\"text-align: right;\">-0.00432175 </td><td style=\"text-align: right;\">-0.168866  </td><td style=\"text-align: right;\">-0.198338 </td><td style=\"text-align: right;\">-0.0244063 </td><td style=\"text-align: right;\">-0.13843   </td><td style=\"text-align: right;\"> 0.0152211 </td><td style=\"text-align: right;\"> 0.0888577 </td><td style=\"text-align: right;\">-0.0287564 </td><td style=\"text-align: right;\">-0.0485923</td><td style=\"text-align: right;\"> 0.115243 </td><td style=\"text-align: right;\"> 0.129985 </td><td style=\"text-align: right;\">0.21973 </td><td style=\"text-align: right;\">0.0861227</td><td style=\"text-align: right;\"> 0.0856031</td><td style=\"text-align: right;\">-0.0654185</td><td style=\"text-align: right;\">-0.05601   </td><td style=\"text-align: right;\">-0.180627 </td><td style=\"text-align: right;\">-0.0463215 </td><td style=\"text-align: right;\"> 0.0422035</td><td style=\"text-align: right;\">0.0655442 </td><td style=\"text-align: right;\"> 0.0264517 </td><td style=\"text-align: right;\">-0.0193555</td><td style=\"text-align: right;\"> 0.1919   </td><td style=\"text-align: right;\">0.0931135</td><td style=\"text-align: right;\">-0.0649796</td><td style=\"text-align: right;\"> 0.155308  </td><td style=\"text-align: right;\">0.150905  </td><td style=\"text-align: right;\">-0.0491434  </td><td style=\"text-align: right;\">-0.0384615 </td><td style=\"text-align: right;\"> 0.000663112</td><td style=\"text-align: right;\">-0.0112391 </td><td style=\"text-align: right;\">-0.0433828</td><td style=\"text-align: right;\">-0.102427 </td><td style=\"text-align: right;\"> 0.0790031</td><td style=\"text-align: right;\">0.0891071</td><td style=\"text-align: right;\">0.0926406</td><td style=\"text-align: right;\"> 0.0377242</td><td style=\"text-align: right;\"> 0.0184911  </td><td style=\"text-align: right;\"> 0.120769 </td><td style=\"text-align: right;\"> 0.0908454 </td><td style=\"text-align: right;\"> 0.204258  </td></tr>\n",
              "<tr><td style=\"text-align: right;\">0.0899812</td><td style=\"text-align: right;\"> 0.102666 </td><td style=\"text-align: right;\"> 0.16049  </td><td style=\"text-align: right;\">-0.0209923</td><td style=\"text-align: right;\">-0.145406  </td><td style=\"text-align: right;\">-0.0943894</td><td style=\"text-align: right;\">0.115625 </td><td style=\"text-align: right;\"> 0.127368  </td><td style=\"text-align: right;\">0.13959  </td><td style=\"text-align: right;\">-0.134336 </td><td style=\"text-align: right;\">-0.138783  </td><td style=\"text-align: right;\">-0.0752897</td><td style=\"text-align: right;\"> 0.0215045</td><td style=\"text-align: right;\"> 0.144781 </td><td style=\"text-align: right;\">-0.0723683</td><td style=\"text-align: right;\">-0.0530991</td><td style=\"text-align: right;\">-0.115231 </td><td style=\"text-align: right;\"> 0.125207 </td><td style=\"text-align: right;\">-0.265063 </td><td style=\"text-align: right;\">-0.201916  </td><td style=\"text-align: right;\"> 0.256836 </td><td style=\"text-align: right;\"> 0.0837447</td><td style=\"text-align: right;\">-0.0220396 </td><td style=\"text-align: right;\">-0.0174168</td><td style=\"text-align: right;\">-0.0999671</td><td style=\"text-align: right;\">-0.0998365  </td><td style=\"text-align: right;\"> 0.0565959 </td><td style=\"text-align: right;\">-0.162583  </td><td style=\"text-align: right;\">-0.0309725  </td><td style=\"text-align: right;\"> 0.0444391 </td><td style=\"text-align: right;\">-0.0456216 </td><td style=\"text-align: right;\">0.103023 </td><td style=\"text-align: right;\">-0.0192374 </td><td style=\"text-align: right;\">-0.156875 </td><td style=\"text-align: right;\"> 0.0212025</td><td style=\"text-align: right;\">-0.104429   </td><td style=\"text-align: right;\">0.142929 </td><td style=\"text-align: right;\">-0.00632458</td><td style=\"text-align: right;\">-0.168003 </td><td style=\"text-align: right;\"> 0.120751 </td><td style=\"text-align: right;\">-0.0197712  </td><td style=\"text-align: right;\"> 0.042743 </td><td style=\"text-align: right;\">-0.213797 </td><td style=\"text-align: right;\">-0.0367053</td><td style=\"text-align: right;\">-0.0309309 </td><td style=\"text-align: right;\">-0.0210144</td><td style=\"text-align: right;\"> 0.00859201</td><td style=\"text-align: right;\"> 0.016994   </td><td style=\"text-align: right;\">-0.0524563 </td><td style=\"text-align: right;\">-0.0263205  </td><td style=\"text-align: right;\"> 0.0789851 </td><td style=\"text-align: right;\"> 0.0199749</td><td style=\"text-align: right;\"> 0.0254037</td><td style=\"text-align: right;\">-0.0137153</td><td style=\"text-align: right;\">-0.009362  </td><td style=\"text-align: right;\">0.110115 </td><td style=\"text-align: right;\"> 0.049914   </td><td style=\"text-align: right;\"> 0.0566438</td><td style=\"text-align: right;\"> 0.0721883</td><td style=\"text-align: right;\">-0.0390442  </td><td style=\"text-align: right;\"> 0.0518664 </td><td style=\"text-align: right;\"> 0.0284744</td><td style=\"text-align: right;\">-0.245028  </td><td style=\"text-align: right;\">-0.0725894 </td><td style=\"text-align: right;\"> 0.177488  </td><td style=\"text-align: right;\"> 0.0433132 </td><td style=\"text-align: right;\"> 0.0187423 </td><td style=\"text-align: right;\"> 0.147523 </td><td style=\"text-align: right;\">-0.0470187</td><td style=\"text-align: right;\"> 0.0401185</td><td style=\"text-align: right;\">0.113857</td><td style=\"text-align: right;\">0.0106108</td><td style=\"text-align: right;\"> 0.214525 </td><td style=\"text-align: right;\">-0.0023785</td><td style=\"text-align: right;\">-0.00938104</td><td style=\"text-align: right;\">-0.0677466</td><td style=\"text-align: right;\">-0.134178  </td><td style=\"text-align: right;\"> 0.0705418</td><td style=\"text-align: right;\">0.0994758 </td><td style=\"text-align: right;\">-0.116086  </td><td style=\"text-align: right;\"> 0.155668 </td><td style=\"text-align: right;\">-0.0515709</td><td style=\"text-align: right;\">0.103333 </td><td style=\"text-align: right;\">-0.149447 </td><td style=\"text-align: right;\">-0.00574583</td><td style=\"text-align: right;\">0.00743348</td><td style=\"text-align: right;\">-0.0499079  </td><td style=\"text-align: right;\"> 0.0224148 </td><td style=\"text-align: right;\"> 0.0378503  </td><td style=\"text-align: right;\">-0.00341617</td><td style=\"text-align: right;\"> 0.0310062</td><td style=\"text-align: right;\">-0.0733733</td><td style=\"text-align: right;\">-0.171153 </td><td style=\"text-align: right;\">0.120056 </td><td style=\"text-align: right;\">0.0706343</td><td style=\"text-align: right;\"> 0.0215314</td><td style=\"text-align: right;\"> 0.0310857  </td><td style=\"text-align: right;\"> 0.118591 </td><td style=\"text-align: right;\">-0.0696333 </td><td style=\"text-align: right;\">-0.0379553 </td></tr>\n",
              "<tr><td style=\"text-align: right;\">0.116801 </td><td style=\"text-align: right;\"> 0.240956 </td><td style=\"text-align: right;\"> 0.0401359</td><td style=\"text-align: right;\">-0.116546 </td><td style=\"text-align: right;\"> 0.106909  </td><td style=\"text-align: right;\"> 0.128792 </td><td style=\"text-align: right;\">0.111115 </td><td style=\"text-align: right;\"> 0.066999  </td><td style=\"text-align: right;\">0.103756 </td><td style=\"text-align: right;\">-0.200217 </td><td style=\"text-align: right;\">-0.0722098 </td><td style=\"text-align: right;\">-0.113443 </td><td style=\"text-align: right;\"> 0.105016 </td><td style=\"text-align: right;\"> 0.0370666</td><td style=\"text-align: right;\">-0.173344 </td><td style=\"text-align: right;\">-0.100724 </td><td style=\"text-align: right;\">-0.0930097</td><td style=\"text-align: right;\"> 0.0904423</td><td style=\"text-align: right;\">-0.0538424</td><td style=\"text-align: right;\"> 0.0279893 </td><td style=\"text-align: right;\"> 0.0166694</td><td style=\"text-align: right;\"> 0.116306 </td><td style=\"text-align: right;\"> 0.0822881 </td><td style=\"text-align: right;\"> 0.154477 </td><td style=\"text-align: right;\">-0.0411598</td><td style=\"text-align: right;\"> 0.0943785  </td><td style=\"text-align: right;\">-0.00798437</td><td style=\"text-align: right;\">-0.045161  </td><td style=\"text-align: right;\">-0.0925167  </td><td style=\"text-align: right;\"> 0.0698799 </td><td style=\"text-align: right;\">-0.0806604 </td><td style=\"text-align: right;\">0.149987 </td><td style=\"text-align: right;\"> 0.0247091 </td><td style=\"text-align: right;\">-0.191977 </td><td style=\"text-align: right;\">-0.0684382</td><td style=\"text-align: right;\">-0.0398048  </td><td style=\"text-align: right;\">0.0640357</td><td style=\"text-align: right;\"> 0.00983749</td><td style=\"text-align: right;\">-0.118737 </td><td style=\"text-align: right;\">-0.10329  </td><td style=\"text-align: right;\">-0.00892719 </td><td style=\"text-align: right;\">-0.0288588</td><td style=\"text-align: right;\"> 0.0998017</td><td style=\"text-align: right;\">-0.0858925</td><td style=\"text-align: right;\"> 0.0305834 </td><td style=\"text-align: right;\">-0.0051627</td><td style=\"text-align: right;\">-0.0169146 </td><td style=\"text-align: right;\">-0.0277444  </td><td style=\"text-align: right;\"> 0.0367639 </td><td style=\"text-align: right;\">-0.0264157  </td><td style=\"text-align: right;\"> 0.0560195 </td><td style=\"text-align: right;\">-0.0684435</td><td style=\"text-align: right;\">-0.0608963</td><td style=\"text-align: right;\">-0.0223952</td><td style=\"text-align: right;\">-0.0096765 </td><td style=\"text-align: right;\">0.170178 </td><td style=\"text-align: right;\"> 0.00243235 </td><td style=\"text-align: right;\">-0.0166794</td><td style=\"text-align: right;\">-0.131527 </td><td style=\"text-align: right;\"> 0.0118714  </td><td style=\"text-align: right;\">-0.0606514 </td><td style=\"text-align: right;\">-0.0884417</td><td style=\"text-align: right;\"> 0.0256987 </td><td style=\"text-align: right;\">-0.0328149 </td><td style=\"text-align: right;\">-0.0197144 </td><td style=\"text-align: right;\"> 0.169391  </td><td style=\"text-align: right;\">-0.010193  </td><td style=\"text-align: right;\">-0.109693 </td><td style=\"text-align: right;\"> 0.137503 </td><td style=\"text-align: right;\"> 0.0888572</td><td style=\"text-align: right;\">0.168466</td><td style=\"text-align: right;\">0.0291782</td><td style=\"text-align: right;\"> 0.0505097</td><td style=\"text-align: right;\">-0.0225596</td><td style=\"text-align: right;\">-0.0855034 </td><td style=\"text-align: right;\">-0.160045 </td><td style=\"text-align: right;\">-0.00328033</td><td style=\"text-align: right;\"> 0.0635763</td><td style=\"text-align: right;\">0.00878868</td><td style=\"text-align: right;\">-0.0680559 </td><td style=\"text-align: right;\"> 0.0228917</td><td style=\"text-align: right;\"> 0.179679 </td><td style=\"text-align: right;\">0.0687512</td><td style=\"text-align: right;\">-0.151974 </td><td style=\"text-align: right;\"> 0.0036358 </td><td style=\"text-align: right;\">0.161381  </td><td style=\"text-align: right;\"> 0.0589007  </td><td style=\"text-align: right;\"> 0.104746  </td><td style=\"text-align: right;\">-0.0879602  </td><td style=\"text-align: right;\"> 0.0673622 </td><td style=\"text-align: right;\">-0.0421919</td><td style=\"text-align: right;\">-0.170583 </td><td style=\"text-align: right;\"> 0.0845804</td><td style=\"text-align: right;\">0.105819 </td><td style=\"text-align: right;\">0.06678  </td><td style=\"text-align: right;\"> 0.0682963</td><td style=\"text-align: right;\">-0.0206672  </td><td style=\"text-align: right;\"> 0.140995 </td><td style=\"text-align: right;\">-0.00688666</td><td style=\"text-align: right;\"> 0.137818  </td></tr>\n",
              "<tr><td style=\"text-align: right;\">0.100112 </td><td style=\"text-align: right;\"> 0.12203  </td><td style=\"text-align: right;\"> 0.0866066</td><td style=\"text-align: right;\">-0.0155224</td><td style=\"text-align: right;\">-0.00818124</td><td style=\"text-align: right;\"> 0.0539942</td><td style=\"text-align: right;\">0.0206964</td><td style=\"text-align: right;\"> 0.0224956 </td><td style=\"text-align: right;\">0.0703493</td><td style=\"text-align: right;\">-0.117677 </td><td style=\"text-align: right;\">-0.0432707 </td><td style=\"text-align: right;\">-0.122658 </td><td style=\"text-align: right;\"> 0.11335  </td><td style=\"text-align: right;\">-0.0270618</td><td style=\"text-align: right;\">-0.0802148</td><td style=\"text-align: right;\">-0.101597 </td><td style=\"text-align: right;\">-0.0886077</td><td style=\"text-align: right;\">-0.0619624</td><td style=\"text-align: right;\">-0.122392 </td><td style=\"text-align: right;\"> 0.0496727 </td><td style=\"text-align: right;\"> 0.112768 </td><td style=\"text-align: right;\">-0.0243667</td><td style=\"text-align: right;\"> 0.0940214 </td><td style=\"text-align: right;\"> 0.187385 </td><td style=\"text-align: right;\">-0.0156817</td><td style=\"text-align: right;\"> 0.0748674  </td><td style=\"text-align: right;\"> 0.125119  </td><td style=\"text-align: right;\">-0.106629  </td><td style=\"text-align: right;\">-0.0603385  </td><td style=\"text-align: right;\">-0.00749574</td><td style=\"text-align: right;\">-0.0485141 </td><td style=\"text-align: right;\">0.182383 </td><td style=\"text-align: right;\">-0.0303823 </td><td style=\"text-align: right;\">-0.0650449</td><td style=\"text-align: right;\">-0.0515533</td><td style=\"text-align: right;\">-0.0759879  </td><td style=\"text-align: right;\">0.0928323</td><td style=\"text-align: right;\">-0.0614738 </td><td style=\"text-align: right;\"> 0.049733 </td><td style=\"text-align: right;\">-0.140665 </td><td style=\"text-align: right;\">-0.0681183  </td><td style=\"text-align: right;\"> 0.0274325</td><td style=\"text-align: right;\"> 0.081198 </td><td style=\"text-align: right;\">-0.106016 </td><td style=\"text-align: right;\"> 0.120334  </td><td style=\"text-align: right;\"> 0.0150138</td><td style=\"text-align: right;\">-0.00782513</td><td style=\"text-align: right;\"> 0.000324051</td><td style=\"text-align: right;\">-0.0364335 </td><td style=\"text-align: right;\">-0.128098   </td><td style=\"text-align: right;\"> 0.0790645 </td><td style=\"text-align: right;\">-0.134414 </td><td style=\"text-align: right;\"> 0.0334176</td><td style=\"text-align: right;\">-0.0704766</td><td style=\"text-align: right;\"> 0.0551765 </td><td style=\"text-align: right;\">0.118148 </td><td style=\"text-align: right;\"> 0.0470417  </td><td style=\"text-align: right;\"> 0.0308041</td><td style=\"text-align: right;\">-0.146225 </td><td style=\"text-align: right;\"> 0.0697019  </td><td style=\"text-align: right;\">-0.0269936 </td><td style=\"text-align: right;\">-0.162136 </td><td style=\"text-align: right;\">-0.00953924</td><td style=\"text-align: right;\">-0.152728  </td><td style=\"text-align: right;\"> 0.125836  </td><td style=\"text-align: right;\">-0.00429445</td><td style=\"text-align: right;\">-0.0426695 </td><td style=\"text-align: right;\"> 0.0201581</td><td style=\"text-align: right;\"> 0.178001 </td><td style=\"text-align: right;\"> 0.211196 </td><td style=\"text-align: right;\">0.122727</td><td style=\"text-align: right;\">0.06521  </td><td style=\"text-align: right;\"> 0.100462 </td><td style=\"text-align: right;\"> 0.0345158</td><td style=\"text-align: right;\">-0.171904  </td><td style=\"text-align: right;\">-0.165898 </td><td style=\"text-align: right;\">-0.0978981 </td><td style=\"text-align: right;\"> 0.0736647</td><td style=\"text-align: right;\">0.0131372 </td><td style=\"text-align: right;\">-0.119636  </td><td style=\"text-align: right;\"> 0.118283 </td><td style=\"text-align: right;\"> 0.156906 </td><td style=\"text-align: right;\">0.0994009</td><td style=\"text-align: right;\">-0.203817 </td><td style=\"text-align: right;\"> 0.07477   </td><td style=\"text-align: right;\">0.242956  </td><td style=\"text-align: right;\">-0.000771486</td><td style=\"text-align: right;\">-0.0391084 </td><td style=\"text-align: right;\">-0.0525487  </td><td style=\"text-align: right;\"> 0.0270267 </td><td style=\"text-align: right;\">-0.0797558</td><td style=\"text-align: right;\">-0.171125 </td><td style=\"text-align: right;\"> 0.0666885</td><td style=\"text-align: right;\">0.0448118</td><td style=\"text-align: right;\">0.154017 </td><td style=\"text-align: right;\">-0.0432194</td><td style=\"text-align: right;\"> 0.000896571</td><td style=\"text-align: right;\"> 0.139327 </td><td style=\"text-align: right;\">-0.21345   </td><td style=\"text-align: right;\"> 0.252397  </td></tr>\n",
              "<tr><td style=\"text-align: right;\">0.0242327</td><td style=\"text-align: right;\"> 0.168285 </td><td style=\"text-align: right;\"> 0.0617056</td><td style=\"text-align: right;\">-0.120653 </td><td style=\"text-align: right;\"> 0.01357   </td><td style=\"text-align: right;\"> 0.124778 </td><td style=\"text-align: right;\">0.10061  </td><td style=\"text-align: right;\"> 0.063397  </td><td style=\"text-align: right;\">0.0763907</td><td style=\"text-align: right;\">-0.231259 </td><td style=\"text-align: right;\">-0.0457845 </td><td style=\"text-align: right;\">-0.0971441</td><td style=\"text-align: right;\"> 0.166194 </td><td style=\"text-align: right;\"> 0.0614172</td><td style=\"text-align: right;\">-0.122506 </td><td style=\"text-align: right;\">-0.114796 </td><td style=\"text-align: right;\">-0.0447849</td><td style=\"text-align: right;\">-0.0247835</td><td style=\"text-align: right;\">-0.222964 </td><td style=\"text-align: right;\">-0.0772406 </td><td style=\"text-align: right;\"> 0.0776567</td><td style=\"text-align: right;\"> 0.0886628</td><td style=\"text-align: right;\"> 0.00129793</td><td style=\"text-align: right;\"> 0.200314 </td><td style=\"text-align: right;\">-0.0917589</td><td style=\"text-align: right;\"> 0.0141752  </td><td style=\"text-align: right;\"> 0.117207  </td><td style=\"text-align: right;\">-0.0801852 </td><td style=\"text-align: right;\">-0.0357852  </td><td style=\"text-align: right;\">-0.0139667 </td><td style=\"text-align: right;\">-0.0692132 </td><td style=\"text-align: right;\">0.134605 </td><td style=\"text-align: right;\">-0.0525262 </td><td style=\"text-align: right;\">-0.100915 </td><td style=\"text-align: right;\">-0.0617908</td><td style=\"text-align: right;\">-0.090321   </td><td style=\"text-align: right;\">0.0396421</td><td style=\"text-align: right;\"> 0.105913  </td><td style=\"text-align: right;\">-0.0945513</td><td style=\"text-align: right;\">-0.0592224</td><td style=\"text-align: right;\"> 0.0175017  </td><td style=\"text-align: right;\">-0.0492124</td><td style=\"text-align: right;\"> 0.113455 </td><td style=\"text-align: right;\">-0.0130809</td><td style=\"text-align: right;\"> 0.0521756 </td><td style=\"text-align: right;\"> 0.0204008</td><td style=\"text-align: right;\">-0.0630649 </td><td style=\"text-align: right;\"> 0.101288   </td><td style=\"text-align: right;\"> 0.0161376 </td><td style=\"text-align: right;\">-0.0555478  </td><td style=\"text-align: right;\"> 0.0752182 </td><td style=\"text-align: right;\">-0.0524053</td><td style=\"text-align: right;\">-0.0714261</td><td style=\"text-align: right;\">-0.067319 </td><td style=\"text-align: right;\"> 0.125319  </td><td style=\"text-align: right;\">0.116366 </td><td style=\"text-align: right;\">-0.000243673</td><td style=\"text-align: right;\">-0.0104579</td><td style=\"text-align: right;\">-0.13236  </td><td style=\"text-align: right;\"> 0.0382245  </td><td style=\"text-align: right;\">-0.00809758</td><td style=\"text-align: right;\">-0.0895109</td><td style=\"text-align: right;\">-0.0676903 </td><td style=\"text-align: right;\">-0.10243   </td><td style=\"text-align: right;\"> 0.00412249</td><td style=\"text-align: right;\"> 0.0733362 </td><td style=\"text-align: right;\"> 0.00454084</td><td style=\"text-align: right;\">-0.0899517</td><td style=\"text-align: right;\"> 0.0853475</td><td style=\"text-align: right;\"> 0.0300295</td><td style=\"text-align: right;\">0.170088</td><td style=\"text-align: right;\">0.0622122</td><td style=\"text-align: right;\">-0.0305765</td><td style=\"text-align: right;\"> 0.0564803</td><td style=\"text-align: right;\"> 0.001865  </td><td style=\"text-align: right;\">-0.0802389</td><td style=\"text-align: right;\">-0.0894276 </td><td style=\"text-align: right;\"> 0.0483569</td><td style=\"text-align: right;\">0.115649  </td><td style=\"text-align: right;\">-0.0453301 </td><td style=\"text-align: right;\"> 0.104452 </td><td style=\"text-align: right;\"> 0.0896096</td><td style=\"text-align: right;\">0.114936 </td><td style=\"text-align: right;\">-0.187028 </td><td style=\"text-align: right;\">-0.015626  </td><td style=\"text-align: right;\">0.0980676 </td><td style=\"text-align: right;\"> 0.0709953  </td><td style=\"text-align: right;\"> 0.0709231 </td><td style=\"text-align: right;\">-0.0417185  </td><td style=\"text-align: right;\"> 0.125299  </td><td style=\"text-align: right;\">-0.0632827</td><td style=\"text-align: right;\">-0.070129 </td><td style=\"text-align: right;\"> 0.068468 </td><td style=\"text-align: right;\">0.15978  </td><td style=\"text-align: right;\">0.0632577</td><td style=\"text-align: right;\"> 0.0325111</td><td style=\"text-align: right;\"> 0.0564913  </td><td style=\"text-align: right;\"> 0.183909 </td><td style=\"text-align: right;\">-0.0135215 </td><td style=\"text-align: right;\"> 0.170209  </td></tr>\n",
              "</tbody>\n",
              "</table>"
            ]
          },
          "metadata": {
            "tags": []
          }
        },
        {
          "output_type": "execute_result",
          "data": {
            "text/plain": [
              ""
            ]
          },
          "metadata": {
            "tags": []
          },
          "execution_count": 21
        }
      ]
    },
    {
      "cell_type": "code",
      "metadata": {
        "id": "Llgo_yZChNkU",
        "colab_type": "code",
        "colab": {}
      },
      "source": [
        "# Add aggregated word embeddings \n",
        "ext_reviews = reviews.cbind(review_vecs)\n",
        "# rename may be... all 'reviews' to 'news'\n",
        "# ext becaus ewe are extending the reviews df with the vectors"
      ],
      "execution_count": 0,
      "outputs": []
    },
    {
      "cell_type": "code",
      "metadata": {
        "id": "wCRqaA-suTlx",
        "colab_type": "code",
        "colab": {}
      },
      "source": [
        "ext_reviews[\"label_f\"]  = ext_reviews[\"label\"] .asfactor()"
      ],
      "execution_count": 0,
      "outputs": []
    },
    {
      "cell_type": "code",
      "metadata": {
        "id": "d73uj-4GhzKZ",
        "colab_type": "code",
        "colab": {}
      },
      "source": [
        "# Splitting to test train.. along with the review vecs is difficult without the 'Train' boolean column\n",
        "# hence redoing it from that stage..\n",
        "# so that we'll be able to do this following cell"
      ],
      "execution_count": 0,
      "outputs": []
    },
    {
      "cell_type": "code",
      "metadata": {
        "id": "6xGhP5nuhlW5",
        "colab_type": "code",
        "colab": {}
      },
      "source": [
        "ext_train = ext_reviews[ext_reviews[\"Train\"] == \"True\"]\n",
        "ext_test = ext_reviews[ext_reviews[\"Train\"] == \"True\"]"
      ],
      "execution_count": 0,
      "outputs": []
    },
    {
      "cell_type": "code",
      "metadata": {
        "id": "_YXUIUMyjoBy",
        "colab_type": "code",
        "colab": {}
      },
      "source": [
        "#review_vecs.names\n",
        "# had a 100 cols\n",
        "# may be more would give a better model ..?"
      ],
      "execution_count": 0,
      "outputs": []
    },
    {
      "cell_type": "code",
      "metadata": {
        "id": "zGtBQJT-jzTb",
        "colab_type": "code",
        "colab": {}
      },
      "source": [
        "predictors =  review_vecs.names"
      ],
      "execution_count": 0,
      "outputs": []
    },
    {
      "cell_type": "code",
      "metadata": {
        "id": "AB6ADqI1uFja",
        "colab_type": "code",
        "colab": {}
      },
      "source": [
        "response = 'label_f'"
      ],
      "execution_count": 0,
      "outputs": []
    },
    {
      "cell_type": "code",
      "metadata": {
        "id": "FiPk1R1rEYvN",
        "colab_type": "code",
        "colab": {}
      },
      "source": [
        "from h2o.automl import H2OAutoML"
      ],
      "execution_count": 0,
      "outputs": []
    },
    {
      "cell_type": "code",
      "metadata": {
        "id": "XWhtPh21lt7U",
        "colab_type": "code",
        "colab": {}
      },
      "source": [
        "x = ext_train.columns"
      ],
      "execution_count": 0,
      "outputs": []
    },
    {
      "cell_type": "code",
      "metadata": {
        "id": "L1AukzKrmP3s",
        "colab_type": "code",
        "colab": {}
      },
      "source": [
        "# x= [x for x in ext_train.columns if x not in ['label', 'Train']]"
      ],
      "execution_count": 0,
      "outputs": []
    },
    {
      "cell_type": "code",
      "metadata": {
        "id": "NiXINVZalvb5",
        "colab_type": "code",
        "outputId": "b9e3dd07-f48c-4f42-c632-c19cfe7e3904",
        "colab": {
          "base_uri": "https://localhost:8080/",
          "height": 54
        }
      },
      "source": [
        "print(x)"
      ],
      "execution_count": 32,
      "outputs": [
        {
          "output_type": "stream",
          "text": [
            "['label', 'text', 'Train', 'C1', 'C2', 'C3', 'C4', 'C5', 'C6', 'C7', 'C8', 'C9', 'C10', 'C11', 'C12', 'C13', 'C14', 'C15', 'C16', 'C17', 'C18', 'C19', 'C20', 'C21', 'C22', 'C23', 'C24', 'C25', 'C26', 'C27', 'C28', 'C29', 'C30', 'C31', 'C32', 'C33', 'C34', 'C35', 'C36', 'C37', 'C38', 'C39', 'C40', 'C41', 'C42', 'C43', 'C44', 'C45', 'C46', 'C47', 'C48', 'C49', 'C50', 'C51', 'C52', 'C53', 'C54', 'C55', 'C56', 'C57', 'C58', 'C59', 'C60', 'C61', 'C62', 'C63', 'C64', 'C65', 'C66', 'C67', 'C68', 'C69', 'C70', 'C71', 'C72', 'C73', 'C74', 'C75', 'C76', 'C77', 'C78', 'C79', 'C80', 'C81', 'C82', 'C83', 'C84', 'C85', 'C86', 'C87', 'C88', 'C89', 'C90', 'C91', 'C92', 'C93', 'C94', 'C95', 'C96', 'C97', 'C98', 'C99', 'C100', 'label_f']\n"
          ],
          "name": "stdout"
        }
      ]
    },
    {
      "cell_type": "code",
      "metadata": {
        "id": "aQemjfjfEEKP",
        "colab_type": "code",
        "colab": {}
      },
      "source": [
        "# Identify predictors and response\n",
        "x = ext_train.columns\n",
        "x = [x for x in ext_train.columns if x not in ['label', 'Train','text']] # remove columns that can leak data\n",
        "y = \"label_f\"\n",
        "# other_cols = \"\"\n",
        "# x.remove(y)\n",
        "\n",
        "# For binary classification, response should be a factor\n",
        "#train[y] = train[y].asfactor()\n",
        "#test[y] = test[y].asfactor()\n",
        "# Already done"
      ],
      "execution_count": 0,
      "outputs": []
    },
    {
      "cell_type": "code",
      "metadata": {
        "id": "e1xOQtjp4CH6",
        "colab_type": "code",
        "outputId": "f648ddec-ef2d-42dc-986d-1f7fa832ac46",
        "colab": {
          "base_uri": "https://localhost:8080/",
          "height": 54
        }
      },
      "source": [
        "print(x)"
      ],
      "execution_count": 34,
      "outputs": [
        {
          "output_type": "stream",
          "text": [
            "['C1', 'C2', 'C3', 'C4', 'C5', 'C6', 'C7', 'C8', 'C9', 'C10', 'C11', 'C12', 'C13', 'C14', 'C15', 'C16', 'C17', 'C18', 'C19', 'C20', 'C21', 'C22', 'C23', 'C24', 'C25', 'C26', 'C27', 'C28', 'C29', 'C30', 'C31', 'C32', 'C33', 'C34', 'C35', 'C36', 'C37', 'C38', 'C39', 'C40', 'C41', 'C42', 'C43', 'C44', 'C45', 'C46', 'C47', 'C48', 'C49', 'C50', 'C51', 'C52', 'C53', 'C54', 'C55', 'C56', 'C57', 'C58', 'C59', 'C60', 'C61', 'C62', 'C63', 'C64', 'C65', 'C66', 'C67', 'C68', 'C69', 'C70', 'C71', 'C72', 'C73', 'C74', 'C75', 'C76', 'C77', 'C78', 'C79', 'C80', 'C81', 'C82', 'C83', 'C84', 'C85', 'C86', 'C87', 'C88', 'C89', 'C90', 'C91', 'C92', 'C93', 'C94', 'C95', 'C96', 'C97', 'C98', 'C99', 'C100', 'label_f']\n"
          ],
          "name": "stdout"
        }
      ]
    },
    {
      "cell_type": "code",
      "metadata": {
        "id": "Q-fkoBnYEEFR",
        "colab_type": "code",
        "outputId": "13a4b740-4763-4f91-b857-81e37662761d",
        "colab": {
          "base_uri": "https://localhost:8080/",
          "height": 67
        }
      },
      "source": [
        "%%time\n",
        "# Run AutoML for 20 base models (limited to 1 hour max runtime by default)\n",
        "aml = H2OAutoML(max_models=20, seed=1)#, max_runtime_secs =1200)\n",
        "aml.train(x=x, y=y, training_frame=ext_train)"
      ],
      "execution_count": 35,
      "outputs": [
        {
          "output_type": "stream",
          "text": [
            "AutoML progress: |████████████████████████████████████████████████████████| 100%\n",
            "CPU times: user 33.8 s, sys: 2.2 s, total: 36 s\n",
            "Wall time: 1h 47min 34s\n"
          ],
          "name": "stdout"
        }
      ]
    },
    {
      "cell_type": "code",
      "metadata": {
        "id": "p6DzSYbYED-a",
        "colab_type": "code",
        "outputId": "192301e9-e075-4ab9-aedc-d12f3d06541f",
        "colab": {
          "base_uri": "https://localhost:8080/",
          "height": 258
        }
      },
      "source": [
        "# View the AutoML Leaderboard\n",
        "lb = aml.leaderboard\n",
        "lb.head(rows=lb.nrows)  # Print all rows instead of default (10 rows)"
      ],
      "execution_count": 36,
      "outputs": [
        {
          "output_type": "display_data",
          "data": {
            "text/html": [
              "<table>\n",
              "<thead>\n",
              "<tr><th>model_id                                           </th><th style=\"text-align: right;\">  mean_per_class_error</th><th style=\"text-align: right;\">  logloss</th><th style=\"text-align: right;\">    rmse</th><th style=\"text-align: right;\">     mse</th></tr>\n",
              "</thead>\n",
              "<tbody>\n",
              "<tr><td>StackedEnsemble_AllModels_AutoML_20191025_033536   </td><td style=\"text-align: right;\">              0.336151</td><td style=\"text-align: right;\">  1.19965</td><td style=\"text-align: right;\">0.604542</td><td style=\"text-align: right;\">0.365471</td></tr>\n",
              "<tr><td>DRF_1_AutoML_20191025_033536                       </td><td style=\"text-align: right;\">              0.344238</td><td style=\"text-align: right;\">  1.83829</td><td style=\"text-align: right;\">0.679328</td><td style=\"text-align: right;\">0.461486</td></tr>\n",
              "<tr><td>StackedEnsemble_BestOfFamily_AutoML_20191025_033536</td><td style=\"text-align: right;\">              0.350187</td><td style=\"text-align: right;\">  1.57471</td><td style=\"text-align: right;\">0.718045</td><td style=\"text-align: right;\">0.515589</td></tr>\n",
              "<tr><td>GBM_5_AutoML_20191025_033536                       </td><td style=\"text-align: right;\">              0.354237</td><td style=\"text-align: right;\">  1.31927</td><td style=\"text-align: right;\">0.639196</td><td style=\"text-align: right;\">0.408571</td></tr>\n",
              "<tr><td>GBM_1_AutoML_20191025_033536                       </td><td style=\"text-align: right;\">              0.358553</td><td style=\"text-align: right;\">  1.39241</td><td style=\"text-align: right;\">0.609991</td><td style=\"text-align: right;\">0.372089</td></tr>\n",
              "<tr><td>GBM_3_AutoML_20191025_033536                       </td><td style=\"text-align: right;\">              0.360415</td><td style=\"text-align: right;\">  1.47198</td><td style=\"text-align: right;\">0.61559 </td><td style=\"text-align: right;\">0.37895 </td></tr>\n",
              "<tr><td>GBM_2_AutoML_20191025_033536                       </td><td style=\"text-align: right;\">              0.365299</td><td style=\"text-align: right;\">  1.42248</td><td style=\"text-align: right;\">0.619295</td><td style=\"text-align: right;\">0.383527</td></tr>\n",
              "<tr><td>GBM_4_AutoML_20191025_033536                       </td><td style=\"text-align: right;\">              0.377476</td><td style=\"text-align: right;\">  1.50195</td><td style=\"text-align: right;\">0.631326</td><td style=\"text-align: right;\">0.398573</td></tr>\n",
              "<tr><td>DeepLearning_1_AutoML_20191025_033536              </td><td style=\"text-align: right;\">              0.414942</td><td style=\"text-align: right;\">  1.48419</td><td style=\"text-align: right;\">0.656409</td><td style=\"text-align: right;\">0.430873</td></tr>\n",
              "<tr><td>GLM_grid_1_AutoML_20191025_033536_model_1          </td><td style=\"text-align: right;\">              0.435804</td><td style=\"text-align: right;\">  2.36177</td><td style=\"text-align: right;\">0.895749</td><td style=\"text-align: right;\">0.802366</td></tr>\n",
              "<tr><td>XRT_1_AutoML_20191025_033536                       </td><td style=\"text-align: right;\">              0.470165</td><td style=\"text-align: right;\">  7.31135</td><td style=\"text-align: right;\">0.696067</td><td style=\"text-align: right;\">0.48451 </td></tr>\n",
              "</tbody>\n",
              "</table>"
            ]
          },
          "metadata": {
            "tags": []
          }
        },
        {
          "output_type": "execute_result",
          "data": {
            "text/plain": [
              ""
            ]
          },
          "metadata": {
            "tags": []
          },
          "execution_count": 36
        }
      ]
    },
    {
      "cell_type": "code",
      "metadata": {
        "id": "LnchaGEVED8i",
        "colab_type": "code",
        "outputId": "1c9f6d42-d72f-44ae-d1ae-472b39590209",
        "colab": {
          "base_uri": "https://localhost:8080/",
          "height": 336
        }
      },
      "source": [
        "#aml.leader.confusion_matrix()\n",
        "aml.leader.cross_validation_metrics_summary"
      ],
      "execution_count": 37,
      "outputs": [
        {
          "output_type": "stream",
          "text": [
            "Model Details\n",
            "=============\n",
            "H2OStackedEnsembleEstimator :  Stacked Ensemble\n",
            "Model Key:  StackedEnsemble_AllModels_AutoML_20191025_033536\n",
            "\n",
            "No model summary for this model\n",
            "\n",
            "ModelMetricsMultinomialGLM: stackedensemble\n",
            "** Reported on train data. **\n",
            "\n",
            "MSE: 0.054410590942894\n",
            "RMSE: 0.23326077883539273\n",
            "\n",
            "ModelMetricsMultinomialGLM: stackedensemble\n",
            "** Reported on cross-validation data. **\n",
            "\n",
            "MSE: 0.365470999889789\n",
            "RMSE: 0.6045419752918643\n"
          ],
          "name": "stdout"
        },
        {
          "output_type": "execute_result",
          "data": {
            "text/plain": [
              "<bound method ModelBase.cross_validation_metrics_summary of >"
            ]
          },
          "metadata": {
            "tags": []
          },
          "execution_count": 37
        }
      ]
    },
    {
      "cell_type": "code",
      "metadata": {
        "id": "E1aEd__OED29",
        "colab_type": "code",
        "outputId": "5bf45ba7-ee2c-4444-ebf0-63822349d0a3",
        "colab": {
          "base_uri": "https://localhost:8080/",
          "height": 706
        }
      },
      "source": [
        "aml.leader.confusion_matrix(ext_test) # "
      ],
      "execution_count": 38,
      "outputs": [
        {
          "output_type": "stream",
          "text": [
            "\n",
            "Confusion Matrix: Row labels: Actual class; Column labels: Predicted class\n"
          ],
          "name": "stdout"
        },
        {
          "output_type": "display_data",
          "data": {
            "text/html": [
              "<div>\n",
              "<style scoped>\n",
              "    .dataframe tbody tr th:only-of-type {\n",
              "        vertical-align: middle;\n",
              "    }\n",
              "\n",
              "    .dataframe tbody tr th {\n",
              "        vertical-align: top;\n",
              "    }\n",
              "\n",
              "    .dataframe thead th {\n",
              "        text-align: right;\n",
              "    }\n",
              "</style>\n",
              "<table border=\"1\" class=\"dataframe\">\n",
              "  <thead>\n",
              "    <tr style=\"text-align: right;\">\n",
              "      <th></th>\n",
              "      <th>0</th>\n",
              "      <th>1</th>\n",
              "      <th>2</th>\n",
              "      <th>3</th>\n",
              "      <th>4</th>\n",
              "      <th>5</th>\n",
              "      <th>6</th>\n",
              "      <th>7</th>\n",
              "      <th>8</th>\n",
              "      <th>9</th>\n",
              "      <th>10</th>\n",
              "      <th>11</th>\n",
              "      <th>12</th>\n",
              "      <th>13</th>\n",
              "      <th>14</th>\n",
              "      <th>15</th>\n",
              "      <th>16</th>\n",
              "      <th>17</th>\n",
              "      <th>18</th>\n",
              "      <th>19</th>\n",
              "      <th>115</th>\n",
              "      <th>460</th>\n",
              "      <th>Error</th>\n",
              "      <th>Rate</th>\n",
              "    </tr>\n",
              "  </thead>\n",
              "  <tbody>\n",
              "    <tr>\n",
              "      <th>0</th>\n",
              "      <td>376.0</td>\n",
              "      <td>0.0</td>\n",
              "      <td>0.0</td>\n",
              "      <td>0.0</td>\n",
              "      <td>0.0</td>\n",
              "      <td>0.0</td>\n",
              "      <td>0.0</td>\n",
              "      <td>10.0</td>\n",
              "      <td>0.0</td>\n",
              "      <td>0.0</td>\n",
              "      <td>0.0</td>\n",
              "      <td>0.0</td>\n",
              "      <td>0.0</td>\n",
              "      <td>0.0</td>\n",
              "      <td>0.0</td>\n",
              "      <td>0.0</td>\n",
              "      <td>0.0</td>\n",
              "      <td>0.0</td>\n",
              "      <td>0.0</td>\n",
              "      <td>0.0</td>\n",
              "      <td>0.0</td>\n",
              "      <td>0.0</td>\n",
              "      <td>0.025907</td>\n",
              "      <td>10 / 386</td>\n",
              "    </tr>\n",
              "    <tr>\n",
              "      <th>1</th>\n",
              "      <td>0.0</td>\n",
              "      <td>408.0</td>\n",
              "      <td>4.0</td>\n",
              "      <td>0.0</td>\n",
              "      <td>14.0</td>\n",
              "      <td>4.0</td>\n",
              "      <td>2.0</td>\n",
              "      <td>13.0</td>\n",
              "      <td>1.0</td>\n",
              "      <td>1.0</td>\n",
              "      <td>0.0</td>\n",
              "      <td>0.0</td>\n",
              "      <td>0.0</td>\n",
              "      <td>0.0</td>\n",
              "      <td>1.0</td>\n",
              "      <td>0.0</td>\n",
              "      <td>0.0</td>\n",
              "      <td>0.0</td>\n",
              "      <td>0.0</td>\n",
              "      <td>0.0</td>\n",
              "      <td>0.0</td>\n",
              "      <td>0.0</td>\n",
              "      <td>0.089286</td>\n",
              "      <td>40 / 448</td>\n",
              "    </tr>\n",
              "    <tr>\n",
              "      <th>2</th>\n",
              "      <td>0.0</td>\n",
              "      <td>0.0</td>\n",
              "      <td>441.0</td>\n",
              "      <td>0.0</td>\n",
              "      <td>0.0</td>\n",
              "      <td>0.0</td>\n",
              "      <td>1.0</td>\n",
              "      <td>17.0</td>\n",
              "      <td>0.0</td>\n",
              "      <td>0.0</td>\n",
              "      <td>0.0</td>\n",
              "      <td>0.0</td>\n",
              "      <td>0.0</td>\n",
              "      <td>0.0</td>\n",
              "      <td>0.0</td>\n",
              "      <td>0.0</td>\n",
              "      <td>0.0</td>\n",
              "      <td>0.0</td>\n",
              "      <td>0.0</td>\n",
              "      <td>0.0</td>\n",
              "      <td>0.0</td>\n",
              "      <td>0.0</td>\n",
              "      <td>0.039216</td>\n",
              "      <td>18 / 459</td>\n",
              "    </tr>\n",
              "    <tr>\n",
              "      <th>3</th>\n",
              "      <td>0.0</td>\n",
              "      <td>0.0</td>\n",
              "      <td>0.0</td>\n",
              "      <td>455.0</td>\n",
              "      <td>0.0</td>\n",
              "      <td>0.0</td>\n",
              "      <td>2.0</td>\n",
              "      <td>10.0</td>\n",
              "      <td>0.0</td>\n",
              "      <td>0.0</td>\n",
              "      <td>0.0</td>\n",
              "      <td>0.0</td>\n",
              "      <td>0.0</td>\n",
              "      <td>0.0</td>\n",
              "      <td>0.0</td>\n",
              "      <td>0.0</td>\n",
              "      <td>0.0</td>\n",
              "      <td>0.0</td>\n",
              "      <td>0.0</td>\n",
              "      <td>0.0</td>\n",
              "      <td>0.0</td>\n",
              "      <td>0.0</td>\n",
              "      <td>0.025696</td>\n",
              "      <td>12 / 467</td>\n",
              "    </tr>\n",
              "    <tr>\n",
              "      <th>4</th>\n",
              "      <td>0.0</td>\n",
              "      <td>0.0</td>\n",
              "      <td>0.0</td>\n",
              "      <td>0.0</td>\n",
              "      <td>448.0</td>\n",
              "      <td>0.0</td>\n",
              "      <td>0.0</td>\n",
              "      <td>17.0</td>\n",
              "      <td>0.0</td>\n",
              "      <td>0.0</td>\n",
              "      <td>0.0</td>\n",
              "      <td>0.0</td>\n",
              "      <td>0.0</td>\n",
              "      <td>0.0</td>\n",
              "      <td>0.0</td>\n",
              "      <td>0.0</td>\n",
              "      <td>0.0</td>\n",
              "      <td>0.0</td>\n",
              "      <td>0.0</td>\n",
              "      <td>0.0</td>\n",
              "      <td>0.0</td>\n",
              "      <td>0.0</td>\n",
              "      <td>0.036559</td>\n",
              "      <td>17 / 465</td>\n",
              "    </tr>\n",
              "    <tr>\n",
              "      <th>5</th>\n",
              "      <td>0.0</td>\n",
              "      <td>0.0</td>\n",
              "      <td>0.0</td>\n",
              "      <td>0.0</td>\n",
              "      <td>0.0</td>\n",
              "      <td>461.0</td>\n",
              "      <td>0.0</td>\n",
              "      <td>3.0</td>\n",
              "      <td>0.0</td>\n",
              "      <td>0.0</td>\n",
              "      <td>0.0</td>\n",
              "      <td>0.0</td>\n",
              "      <td>0.0</td>\n",
              "      <td>0.0</td>\n",
              "      <td>0.0</td>\n",
              "      <td>0.0</td>\n",
              "      <td>0.0</td>\n",
              "      <td>0.0</td>\n",
              "      <td>0.0</td>\n",
              "      <td>0.0</td>\n",
              "      <td>0.0</td>\n",
              "      <td>0.0</td>\n",
              "      <td>0.006466</td>\n",
              "      <td>3 / 464</td>\n",
              "    </tr>\n",
              "    <tr>\n",
              "      <th>6</th>\n",
              "      <td>0.0</td>\n",
              "      <td>0.0</td>\n",
              "      <td>0.0</td>\n",
              "      <td>0.0</td>\n",
              "      <td>0.0</td>\n",
              "      <td>0.0</td>\n",
              "      <td>463.0</td>\n",
              "      <td>6.0</td>\n",
              "      <td>0.0</td>\n",
              "      <td>0.0</td>\n",
              "      <td>0.0</td>\n",
              "      <td>0.0</td>\n",
              "      <td>0.0</td>\n",
              "      <td>0.0</td>\n",
              "      <td>0.0</td>\n",
              "      <td>0.0</td>\n",
              "      <td>0.0</td>\n",
              "      <td>0.0</td>\n",
              "      <td>0.0</td>\n",
              "      <td>0.0</td>\n",
              "      <td>0.0</td>\n",
              "      <td>0.0</td>\n",
              "      <td>0.012793</td>\n",
              "      <td>6 / 469</td>\n",
              "    </tr>\n",
              "    <tr>\n",
              "      <th>7</th>\n",
              "      <td>0.0</td>\n",
              "      <td>0.0</td>\n",
              "      <td>0.0</td>\n",
              "      <td>0.0</td>\n",
              "      <td>0.0</td>\n",
              "      <td>0.0</td>\n",
              "      <td>0.0</td>\n",
              "      <td>483.0</td>\n",
              "      <td>2.0</td>\n",
              "      <td>0.0</td>\n",
              "      <td>0.0</td>\n",
              "      <td>0.0</td>\n",
              "      <td>0.0</td>\n",
              "      <td>0.0</td>\n",
              "      <td>0.0</td>\n",
              "      <td>0.0</td>\n",
              "      <td>0.0</td>\n",
              "      <td>0.0</td>\n",
              "      <td>0.0</td>\n",
              "      <td>0.0</td>\n",
              "      <td>0.0</td>\n",
              "      <td>0.0</td>\n",
              "      <td>0.004124</td>\n",
              "      <td>2 / 485</td>\n",
              "    </tr>\n",
              "    <tr>\n",
              "      <th>8</th>\n",
              "      <td>0.0</td>\n",
              "      <td>0.0</td>\n",
              "      <td>0.0</td>\n",
              "      <td>0.0</td>\n",
              "      <td>1.0</td>\n",
              "      <td>0.0</td>\n",
              "      <td>0.0</td>\n",
              "      <td>14.0</td>\n",
              "      <td>458.0</td>\n",
              "      <td>0.0</td>\n",
              "      <td>0.0</td>\n",
              "      <td>0.0</td>\n",
              "      <td>0.0</td>\n",
              "      <td>0.0</td>\n",
              "      <td>0.0</td>\n",
              "      <td>0.0</td>\n",
              "      <td>0.0</td>\n",
              "      <td>0.0</td>\n",
              "      <td>0.0</td>\n",
              "      <td>0.0</td>\n",
              "      <td>0.0</td>\n",
              "      <td>0.0</td>\n",
              "      <td>0.031712</td>\n",
              "      <td>15 / 473</td>\n",
              "    </tr>\n",
              "    <tr>\n",
              "      <th>9</th>\n",
              "      <td>0.0</td>\n",
              "      <td>0.0</td>\n",
              "      <td>0.0</td>\n",
              "      <td>0.0</td>\n",
              "      <td>0.0</td>\n",
              "      <td>0.0</td>\n",
              "      <td>0.0</td>\n",
              "      <td>25.0</td>\n",
              "      <td>0.0</td>\n",
              "      <td>458.0</td>\n",
              "      <td>0.0</td>\n",
              "      <td>0.0</td>\n",
              "      <td>0.0</td>\n",
              "      <td>0.0</td>\n",
              "      <td>0.0</td>\n",
              "      <td>0.0</td>\n",
              "      <td>0.0</td>\n",
              "      <td>0.0</td>\n",
              "      <td>0.0</td>\n",
              "      <td>0.0</td>\n",
              "      <td>0.0</td>\n",
              "      <td>0.0</td>\n",
              "      <td>0.051760</td>\n",
              "      <td>25 / 483</td>\n",
              "    </tr>\n",
              "    <tr>\n",
              "      <th>10</th>\n",
              "      <td>0.0</td>\n",
              "      <td>0.0</td>\n",
              "      <td>0.0</td>\n",
              "      <td>0.0</td>\n",
              "      <td>0.0</td>\n",
              "      <td>0.0</td>\n",
              "      <td>0.0</td>\n",
              "      <td>12.0</td>\n",
              "      <td>0.0</td>\n",
              "      <td>0.0</td>\n",
              "      <td>461.0</td>\n",
              "      <td>0.0</td>\n",
              "      <td>0.0</td>\n",
              "      <td>0.0</td>\n",
              "      <td>0.0</td>\n",
              "      <td>0.0</td>\n",
              "      <td>0.0</td>\n",
              "      <td>0.0</td>\n",
              "      <td>0.0</td>\n",
              "      <td>0.0</td>\n",
              "      <td>0.0</td>\n",
              "      <td>0.0</td>\n",
              "      <td>0.025370</td>\n",
              "      <td>12 / 473</td>\n",
              "    </tr>\n",
              "    <tr>\n",
              "      <th>11</th>\n",
              "      <td>0.0</td>\n",
              "      <td>0.0</td>\n",
              "      <td>0.0</td>\n",
              "      <td>0.0</td>\n",
              "      <td>0.0</td>\n",
              "      <td>0.0</td>\n",
              "      <td>0.0</td>\n",
              "      <td>10.0</td>\n",
              "      <td>0.0</td>\n",
              "      <td>0.0</td>\n",
              "      <td>0.0</td>\n",
              "      <td>467.0</td>\n",
              "      <td>0.0</td>\n",
              "      <td>0.0</td>\n",
              "      <td>0.0</td>\n",
              "      <td>0.0</td>\n",
              "      <td>0.0</td>\n",
              "      <td>0.0</td>\n",
              "      <td>0.0</td>\n",
              "      <td>0.0</td>\n",
              "      <td>0.0</td>\n",
              "      <td>0.0</td>\n",
              "      <td>0.020964</td>\n",
              "      <td>10 / 477</td>\n",
              "    </tr>\n",
              "    <tr>\n",
              "      <th>12</th>\n",
              "      <td>0.0</td>\n",
              "      <td>0.0</td>\n",
              "      <td>0.0</td>\n",
              "      <td>0.0</td>\n",
              "      <td>0.0</td>\n",
              "      <td>0.0</td>\n",
              "      <td>1.0</td>\n",
              "      <td>15.0</td>\n",
              "      <td>0.0</td>\n",
              "      <td>0.0</td>\n",
              "      <td>0.0</td>\n",
              "      <td>0.0</td>\n",
              "      <td>448.0</td>\n",
              "      <td>0.0</td>\n",
              "      <td>0.0</td>\n",
              "      <td>0.0</td>\n",
              "      <td>0.0</td>\n",
              "      <td>0.0</td>\n",
              "      <td>0.0</td>\n",
              "      <td>0.0</td>\n",
              "      <td>0.0</td>\n",
              "      <td>0.0</td>\n",
              "      <td>0.034483</td>\n",
              "      <td>16 / 464</td>\n",
              "    </tr>\n",
              "    <tr>\n",
              "      <th>13</th>\n",
              "      <td>0.0</td>\n",
              "      <td>0.0</td>\n",
              "      <td>0.0</td>\n",
              "      <td>0.0</td>\n",
              "      <td>0.0</td>\n",
              "      <td>0.0</td>\n",
              "      <td>0.0</td>\n",
              "      <td>14.0</td>\n",
              "      <td>0.0</td>\n",
              "      <td>0.0</td>\n",
              "      <td>0.0</td>\n",
              "      <td>0.0</td>\n",
              "      <td>0.0</td>\n",
              "      <td>462.0</td>\n",
              "      <td>0.0</td>\n",
              "      <td>0.0</td>\n",
              "      <td>0.0</td>\n",
              "      <td>0.0</td>\n",
              "      <td>0.0</td>\n",
              "      <td>0.0</td>\n",
              "      <td>0.0</td>\n",
              "      <td>0.0</td>\n",
              "      <td>0.029412</td>\n",
              "      <td>14 / 476</td>\n",
              "    </tr>\n",
              "    <tr>\n",
              "      <th>14</th>\n",
              "      <td>0.0</td>\n",
              "      <td>0.0</td>\n",
              "      <td>0.0</td>\n",
              "      <td>0.0</td>\n",
              "      <td>0.0</td>\n",
              "      <td>0.0</td>\n",
              "      <td>0.0</td>\n",
              "      <td>13.0</td>\n",
              "      <td>0.0</td>\n",
              "      <td>0.0</td>\n",
              "      <td>0.0</td>\n",
              "      <td>0.0</td>\n",
              "      <td>0.0</td>\n",
              "      <td>0.0</td>\n",
              "      <td>474.0</td>\n",
              "      <td>0.0</td>\n",
              "      <td>0.0</td>\n",
              "      <td>0.0</td>\n",
              "      <td>0.0</td>\n",
              "      <td>0.0</td>\n",
              "      <td>0.0</td>\n",
              "      <td>0.0</td>\n",
              "      <td>0.026694</td>\n",
              "      <td>13 / 487</td>\n",
              "    </tr>\n",
              "    <tr>\n",
              "      <th>15</th>\n",
              "      <td>0.0</td>\n",
              "      <td>0.0</td>\n",
              "      <td>0.0</td>\n",
              "      <td>0.0</td>\n",
              "      <td>0.0</td>\n",
              "      <td>0.0</td>\n",
              "      <td>0.0</td>\n",
              "      <td>8.0</td>\n",
              "      <td>0.0</td>\n",
              "      <td>0.0</td>\n",
              "      <td>0.0</td>\n",
              "      <td>0.0</td>\n",
              "      <td>0.0</td>\n",
              "      <td>0.0</td>\n",
              "      <td>0.0</td>\n",
              "      <td>464.0</td>\n",
              "      <td>0.0</td>\n",
              "      <td>0.0</td>\n",
              "      <td>0.0</td>\n",
              "      <td>0.0</td>\n",
              "      <td>0.0</td>\n",
              "      <td>0.0</td>\n",
              "      <td>0.016949</td>\n",
              "      <td>8 / 472</td>\n",
              "    </tr>\n",
              "    <tr>\n",
              "      <th>16</th>\n",
              "      <td>0.0</td>\n",
              "      <td>0.0</td>\n",
              "      <td>0.0</td>\n",
              "      <td>0.0</td>\n",
              "      <td>0.0</td>\n",
              "      <td>0.0</td>\n",
              "      <td>0.0</td>\n",
              "      <td>12.0</td>\n",
              "      <td>0.0</td>\n",
              "      <td>0.0</td>\n",
              "      <td>0.0</td>\n",
              "      <td>0.0</td>\n",
              "      <td>0.0</td>\n",
              "      <td>0.0</td>\n",
              "      <td>0.0</td>\n",
              "      <td>0.0</td>\n",
              "      <td>422.0</td>\n",
              "      <td>0.0</td>\n",
              "      <td>0.0</td>\n",
              "      <td>0.0</td>\n",
              "      <td>0.0</td>\n",
              "      <td>0.0</td>\n",
              "      <td>0.027650</td>\n",
              "      <td>12 / 434</td>\n",
              "    </tr>\n",
              "    <tr>\n",
              "      <th>17</th>\n",
              "      <td>0.0</td>\n",
              "      <td>0.0</td>\n",
              "      <td>0.0</td>\n",
              "      <td>0.0</td>\n",
              "      <td>0.0</td>\n",
              "      <td>0.0</td>\n",
              "      <td>0.0</td>\n",
              "      <td>14.0</td>\n",
              "      <td>0.0</td>\n",
              "      <td>0.0</td>\n",
              "      <td>0.0</td>\n",
              "      <td>0.0</td>\n",
              "      <td>0.0</td>\n",
              "      <td>0.0</td>\n",
              "      <td>0.0</td>\n",
              "      <td>0.0</td>\n",
              "      <td>0.0</td>\n",
              "      <td>407.0</td>\n",
              "      <td>0.0</td>\n",
              "      <td>0.0</td>\n",
              "      <td>0.0</td>\n",
              "      <td>0.0</td>\n",
              "      <td>0.033254</td>\n",
              "      <td>14 / 421</td>\n",
              "    </tr>\n",
              "    <tr>\n",
              "      <th>18</th>\n",
              "      <td>0.0</td>\n",
              "      <td>0.0</td>\n",
              "      <td>0.0</td>\n",
              "      <td>0.0</td>\n",
              "      <td>0.0</td>\n",
              "      <td>0.0</td>\n",
              "      <td>0.0</td>\n",
              "      <td>9.0</td>\n",
              "      <td>0.0</td>\n",
              "      <td>0.0</td>\n",
              "      <td>0.0</td>\n",
              "      <td>0.0</td>\n",
              "      <td>0.0</td>\n",
              "      <td>0.0</td>\n",
              "      <td>0.0</td>\n",
              "      <td>0.0</td>\n",
              "      <td>0.0</td>\n",
              "      <td>0.0</td>\n",
              "      <td>369.0</td>\n",
              "      <td>0.0</td>\n",
              "      <td>0.0</td>\n",
              "      <td>0.0</td>\n",
              "      <td>0.023810</td>\n",
              "      <td>9 / 378</td>\n",
              "    </tr>\n",
              "    <tr>\n",
              "      <th>19</th>\n",
              "      <td>0.0</td>\n",
              "      <td>0.0</td>\n",
              "      <td>0.0</td>\n",
              "      <td>0.0</td>\n",
              "      <td>0.0</td>\n",
              "      <td>0.0</td>\n",
              "      <td>0.0</td>\n",
              "      <td>17.0</td>\n",
              "      <td>0.0</td>\n",
              "      <td>0.0</td>\n",
              "      <td>0.0</td>\n",
              "      <td>0.0</td>\n",
              "      <td>0.0</td>\n",
              "      <td>0.0</td>\n",
              "      <td>0.0</td>\n",
              "      <td>0.0</td>\n",
              "      <td>0.0</td>\n",
              "      <td>0.0</td>\n",
              "      <td>0.0</td>\n",
              "      <td>285.0</td>\n",
              "      <td>0.0</td>\n",
              "      <td>0.0</td>\n",
              "      <td>0.056291</td>\n",
              "      <td>17 / 302</td>\n",
              "    </tr>\n",
              "  </tbody>\n",
              "</table>\n",
              "</div>"
            ],
            "text/plain": [
              "        0      1      2      3      4  ...     19  115  460     Error      Rate\n",
              "0   376.0    0.0    0.0    0.0    0.0  ...    0.0  0.0  0.0  0.025907  10 / 386\n",
              "1     0.0  408.0    4.0    0.0   14.0  ...    0.0  0.0  0.0  0.089286  40 / 448\n",
              "2     0.0    0.0  441.0    0.0    0.0  ...    0.0  0.0  0.0  0.039216  18 / 459\n",
              "3     0.0    0.0    0.0  455.0    0.0  ...    0.0  0.0  0.0  0.025696  12 / 467\n",
              "4     0.0    0.0    0.0    0.0  448.0  ...    0.0  0.0  0.0  0.036559  17 / 465\n",
              "5     0.0    0.0    0.0    0.0    0.0  ...    0.0  0.0  0.0  0.006466   3 / 464\n",
              "6     0.0    0.0    0.0    0.0    0.0  ...    0.0  0.0  0.0  0.012793   6 / 469\n",
              "7     0.0    0.0    0.0    0.0    0.0  ...    0.0  0.0  0.0  0.004124   2 / 485\n",
              "8     0.0    0.0    0.0    0.0    1.0  ...    0.0  0.0  0.0  0.031712  15 / 473\n",
              "9     0.0    0.0    0.0    0.0    0.0  ...    0.0  0.0  0.0  0.051760  25 / 483\n",
              "10    0.0    0.0    0.0    0.0    0.0  ...    0.0  0.0  0.0  0.025370  12 / 473\n",
              "11    0.0    0.0    0.0    0.0    0.0  ...    0.0  0.0  0.0  0.020964  10 / 477\n",
              "12    0.0    0.0    0.0    0.0    0.0  ...    0.0  0.0  0.0  0.034483  16 / 464\n",
              "13    0.0    0.0    0.0    0.0    0.0  ...    0.0  0.0  0.0  0.029412  14 / 476\n",
              "14    0.0    0.0    0.0    0.0    0.0  ...    0.0  0.0  0.0  0.026694  13 / 487\n",
              "15    0.0    0.0    0.0    0.0    0.0  ...    0.0  0.0  0.0  0.016949   8 / 472\n",
              "16    0.0    0.0    0.0    0.0    0.0  ...    0.0  0.0  0.0  0.027650  12 / 434\n",
              "17    0.0    0.0    0.0    0.0    0.0  ...    0.0  0.0  0.0  0.033254  14 / 421\n",
              "18    0.0    0.0    0.0    0.0    0.0  ...    0.0  0.0  0.0  0.023810   9 / 378\n",
              "19    0.0    0.0    0.0    0.0    0.0  ...  285.0  0.0  0.0  0.056291  17 / 302\n",
              "\n",
              "[20 rows x 24 columns]"
            ]
          },
          "metadata": {
            "tags": []
          }
        },
        {
          "output_type": "stream",
          "text": [
            "\n",
            "See the whole table with table.as_data_frame()\n"
          ],
          "name": "stdout"
        },
        {
          "output_type": "execute_result",
          "data": {
            "text/plain": [
              ""
            ]
          },
          "metadata": {
            "tags": []
          },
          "execution_count": 38
        }
      ]
    },
    {
      "cell_type": "code",
      "metadata": {
        "id": "qORWMUvFWzHt",
        "colab_type": "code",
        "colab": {}
      },
      "source": [
        "con_mat = aml.leader.confusion_matrix(ext_test).as_data_frame()"
      ],
      "execution_count": 0,
      "outputs": []
    },
    {
      "cell_type": "code",
      "metadata": {
        "id": "saB-IpkTzXSe",
        "colab_type": "code",
        "outputId": "4d18f168-4802-4649-d4f9-d378eb19af65",
        "colab": {
          "base_uri": "https://localhost:8080/",
          "height": 34
        }
      },
      "source": [
        "type(con_mat)"
      ],
      "execution_count": 40,
      "outputs": [
        {
          "output_type": "execute_result",
          "data": {
            "text/plain": [
              "pandas.core.frame.DataFrame"
            ]
          },
          "metadata": {
            "tags": []
          },
          "execution_count": 40
        }
      ]
    },
    {
      "cell_type": "code",
      "metadata": {
        "id": "btrQA8Dbzywa",
        "colab_type": "code",
        "outputId": "77511dd5-8b0b-445e-867f-2c1b720af23e",
        "colab": {
          "base_uri": "https://localhost:8080/",
          "height": 34
        }
      },
      "source": [
        "con_mat.index # 23..?"
      ],
      "execution_count": 41,
      "outputs": [
        {
          "output_type": "execute_result",
          "data": {
            "text/plain": [
              "RangeIndex(start=0, stop=23, step=1)"
            ]
          },
          "metadata": {
            "tags": []
          },
          "execution_count": 41
        }
      ]
    },
    {
      "cell_type": "code",
      "metadata": {
        "id": "-VCZyhRw0Kjh",
        "colab_type": "code",
        "outputId": "5894931e-179b-4b7c-ad65-8c689e229d5d",
        "colab": {
          "base_uri": "https://localhost:8080/",
          "height": 34
        }
      },
      "source": [
        "con_mat.iloc[19][19] #"
      ],
      "execution_count": 42,
      "outputs": [
        {
          "output_type": "execute_result",
          "data": {
            "text/plain": [
              "285.0"
            ]
          },
          "metadata": {
            "tags": []
          },
          "execution_count": 42
        }
      ]
    },
    {
      "cell_type": "code",
      "metadata": {
        "id": "Ir7U2ipU0ce1",
        "colab_type": "code",
        "outputId": "d5cc6c9b-a5f3-45f0-8828-348963a7a856",
        "colab": {
          "base_uri": "https://localhost:8080/",
          "height": 34
        }
      },
      "source": [
        "con_mat.iloc[19][22] #"
      ],
      "execution_count": 43,
      "outputs": [
        {
          "output_type": "execute_result",
          "data": {
            "text/plain": [
              "0.056291390728476824"
            ]
          },
          "metadata": {
            "tags": []
          },
          "execution_count": 43
        }
      ]
    },
    {
      "cell_type": "code",
      "metadata": {
        "id": "clJOJWiC092Z",
        "colab_type": "code",
        "outputId": "4bd29548-8d14-4926-ebf8-c26ea6bde2f1",
        "colab": {
          "base_uri": "https://localhost:8080/",
          "height": 639
        }
      },
      "source": [
        "con_mat.iloc[0:20,0:20]"
      ],
      "execution_count": 44,
      "outputs": [
        {
          "output_type": "execute_result",
          "data": {
            "text/html": [
              "<div>\n",
              "<style scoped>\n",
              "    .dataframe tbody tr th:only-of-type {\n",
              "        vertical-align: middle;\n",
              "    }\n",
              "\n",
              "    .dataframe tbody tr th {\n",
              "        vertical-align: top;\n",
              "    }\n",
              "\n",
              "    .dataframe thead th {\n",
              "        text-align: right;\n",
              "    }\n",
              "</style>\n",
              "<table border=\"1\" class=\"dataframe\">\n",
              "  <thead>\n",
              "    <tr style=\"text-align: right;\">\n",
              "      <th></th>\n",
              "      <th>0</th>\n",
              "      <th>1</th>\n",
              "      <th>2</th>\n",
              "      <th>3</th>\n",
              "      <th>4</th>\n",
              "      <th>5</th>\n",
              "      <th>6</th>\n",
              "      <th>7</th>\n",
              "      <th>8</th>\n",
              "      <th>9</th>\n",
              "      <th>10</th>\n",
              "      <th>11</th>\n",
              "      <th>12</th>\n",
              "      <th>13</th>\n",
              "      <th>14</th>\n",
              "      <th>15</th>\n",
              "      <th>16</th>\n",
              "      <th>17</th>\n",
              "      <th>18</th>\n",
              "      <th>19</th>\n",
              "    </tr>\n",
              "  </thead>\n",
              "  <tbody>\n",
              "    <tr>\n",
              "      <th>0</th>\n",
              "      <td>376.0</td>\n",
              "      <td>0.0</td>\n",
              "      <td>0.0</td>\n",
              "      <td>0.0</td>\n",
              "      <td>0.0</td>\n",
              "      <td>0.0</td>\n",
              "      <td>0.0</td>\n",
              "      <td>10.0</td>\n",
              "      <td>0.0</td>\n",
              "      <td>0.0</td>\n",
              "      <td>0.0</td>\n",
              "      <td>0.0</td>\n",
              "      <td>0.0</td>\n",
              "      <td>0.0</td>\n",
              "      <td>0.0</td>\n",
              "      <td>0.0</td>\n",
              "      <td>0.0</td>\n",
              "      <td>0.0</td>\n",
              "      <td>0.0</td>\n",
              "      <td>0.0</td>\n",
              "    </tr>\n",
              "    <tr>\n",
              "      <th>1</th>\n",
              "      <td>0.0</td>\n",
              "      <td>408.0</td>\n",
              "      <td>4.0</td>\n",
              "      <td>0.0</td>\n",
              "      <td>14.0</td>\n",
              "      <td>4.0</td>\n",
              "      <td>2.0</td>\n",
              "      <td>13.0</td>\n",
              "      <td>1.0</td>\n",
              "      <td>1.0</td>\n",
              "      <td>0.0</td>\n",
              "      <td>0.0</td>\n",
              "      <td>0.0</td>\n",
              "      <td>0.0</td>\n",
              "      <td>1.0</td>\n",
              "      <td>0.0</td>\n",
              "      <td>0.0</td>\n",
              "      <td>0.0</td>\n",
              "      <td>0.0</td>\n",
              "      <td>0.0</td>\n",
              "    </tr>\n",
              "    <tr>\n",
              "      <th>2</th>\n",
              "      <td>0.0</td>\n",
              "      <td>0.0</td>\n",
              "      <td>441.0</td>\n",
              "      <td>0.0</td>\n",
              "      <td>0.0</td>\n",
              "      <td>0.0</td>\n",
              "      <td>1.0</td>\n",
              "      <td>17.0</td>\n",
              "      <td>0.0</td>\n",
              "      <td>0.0</td>\n",
              "      <td>0.0</td>\n",
              "      <td>0.0</td>\n",
              "      <td>0.0</td>\n",
              "      <td>0.0</td>\n",
              "      <td>0.0</td>\n",
              "      <td>0.0</td>\n",
              "      <td>0.0</td>\n",
              "      <td>0.0</td>\n",
              "      <td>0.0</td>\n",
              "      <td>0.0</td>\n",
              "    </tr>\n",
              "    <tr>\n",
              "      <th>3</th>\n",
              "      <td>0.0</td>\n",
              "      <td>0.0</td>\n",
              "      <td>0.0</td>\n",
              "      <td>455.0</td>\n",
              "      <td>0.0</td>\n",
              "      <td>0.0</td>\n",
              "      <td>2.0</td>\n",
              "      <td>10.0</td>\n",
              "      <td>0.0</td>\n",
              "      <td>0.0</td>\n",
              "      <td>0.0</td>\n",
              "      <td>0.0</td>\n",
              "      <td>0.0</td>\n",
              "      <td>0.0</td>\n",
              "      <td>0.0</td>\n",
              "      <td>0.0</td>\n",
              "      <td>0.0</td>\n",
              "      <td>0.0</td>\n",
              "      <td>0.0</td>\n",
              "      <td>0.0</td>\n",
              "    </tr>\n",
              "    <tr>\n",
              "      <th>4</th>\n",
              "      <td>0.0</td>\n",
              "      <td>0.0</td>\n",
              "      <td>0.0</td>\n",
              "      <td>0.0</td>\n",
              "      <td>448.0</td>\n",
              "      <td>0.0</td>\n",
              "      <td>0.0</td>\n",
              "      <td>17.0</td>\n",
              "      <td>0.0</td>\n",
              "      <td>0.0</td>\n",
              "      <td>0.0</td>\n",
              "      <td>0.0</td>\n",
              "      <td>0.0</td>\n",
              "      <td>0.0</td>\n",
              "      <td>0.0</td>\n",
              "      <td>0.0</td>\n",
              "      <td>0.0</td>\n",
              "      <td>0.0</td>\n",
              "      <td>0.0</td>\n",
              "      <td>0.0</td>\n",
              "    </tr>\n",
              "    <tr>\n",
              "      <th>5</th>\n",
              "      <td>0.0</td>\n",
              "      <td>0.0</td>\n",
              "      <td>0.0</td>\n",
              "      <td>0.0</td>\n",
              "      <td>0.0</td>\n",
              "      <td>461.0</td>\n",
              "      <td>0.0</td>\n",
              "      <td>3.0</td>\n",
              "      <td>0.0</td>\n",
              "      <td>0.0</td>\n",
              "      <td>0.0</td>\n",
              "      <td>0.0</td>\n",
              "      <td>0.0</td>\n",
              "      <td>0.0</td>\n",
              "      <td>0.0</td>\n",
              "      <td>0.0</td>\n",
              "      <td>0.0</td>\n",
              "      <td>0.0</td>\n",
              "      <td>0.0</td>\n",
              "      <td>0.0</td>\n",
              "    </tr>\n",
              "    <tr>\n",
              "      <th>6</th>\n",
              "      <td>0.0</td>\n",
              "      <td>0.0</td>\n",
              "      <td>0.0</td>\n",
              "      <td>0.0</td>\n",
              "      <td>0.0</td>\n",
              "      <td>0.0</td>\n",
              "      <td>463.0</td>\n",
              "      <td>6.0</td>\n",
              "      <td>0.0</td>\n",
              "      <td>0.0</td>\n",
              "      <td>0.0</td>\n",
              "      <td>0.0</td>\n",
              "      <td>0.0</td>\n",
              "      <td>0.0</td>\n",
              "      <td>0.0</td>\n",
              "      <td>0.0</td>\n",
              "      <td>0.0</td>\n",
              "      <td>0.0</td>\n",
              "      <td>0.0</td>\n",
              "      <td>0.0</td>\n",
              "    </tr>\n",
              "    <tr>\n",
              "      <th>7</th>\n",
              "      <td>0.0</td>\n",
              "      <td>0.0</td>\n",
              "      <td>0.0</td>\n",
              "      <td>0.0</td>\n",
              "      <td>0.0</td>\n",
              "      <td>0.0</td>\n",
              "      <td>0.0</td>\n",
              "      <td>483.0</td>\n",
              "      <td>2.0</td>\n",
              "      <td>0.0</td>\n",
              "      <td>0.0</td>\n",
              "      <td>0.0</td>\n",
              "      <td>0.0</td>\n",
              "      <td>0.0</td>\n",
              "      <td>0.0</td>\n",
              "      <td>0.0</td>\n",
              "      <td>0.0</td>\n",
              "      <td>0.0</td>\n",
              "      <td>0.0</td>\n",
              "      <td>0.0</td>\n",
              "    </tr>\n",
              "    <tr>\n",
              "      <th>8</th>\n",
              "      <td>0.0</td>\n",
              "      <td>0.0</td>\n",
              "      <td>0.0</td>\n",
              "      <td>0.0</td>\n",
              "      <td>1.0</td>\n",
              "      <td>0.0</td>\n",
              "      <td>0.0</td>\n",
              "      <td>14.0</td>\n",
              "      <td>458.0</td>\n",
              "      <td>0.0</td>\n",
              "      <td>0.0</td>\n",
              "      <td>0.0</td>\n",
              "      <td>0.0</td>\n",
              "      <td>0.0</td>\n",
              "      <td>0.0</td>\n",
              "      <td>0.0</td>\n",
              "      <td>0.0</td>\n",
              "      <td>0.0</td>\n",
              "      <td>0.0</td>\n",
              "      <td>0.0</td>\n",
              "    </tr>\n",
              "    <tr>\n",
              "      <th>9</th>\n",
              "      <td>0.0</td>\n",
              "      <td>0.0</td>\n",
              "      <td>0.0</td>\n",
              "      <td>0.0</td>\n",
              "      <td>0.0</td>\n",
              "      <td>0.0</td>\n",
              "      <td>0.0</td>\n",
              "      <td>25.0</td>\n",
              "      <td>0.0</td>\n",
              "      <td>458.0</td>\n",
              "      <td>0.0</td>\n",
              "      <td>0.0</td>\n",
              "      <td>0.0</td>\n",
              "      <td>0.0</td>\n",
              "      <td>0.0</td>\n",
              "      <td>0.0</td>\n",
              "      <td>0.0</td>\n",
              "      <td>0.0</td>\n",
              "      <td>0.0</td>\n",
              "      <td>0.0</td>\n",
              "    </tr>\n",
              "    <tr>\n",
              "      <th>10</th>\n",
              "      <td>0.0</td>\n",
              "      <td>0.0</td>\n",
              "      <td>0.0</td>\n",
              "      <td>0.0</td>\n",
              "      <td>0.0</td>\n",
              "      <td>0.0</td>\n",
              "      <td>0.0</td>\n",
              "      <td>12.0</td>\n",
              "      <td>0.0</td>\n",
              "      <td>0.0</td>\n",
              "      <td>461.0</td>\n",
              "      <td>0.0</td>\n",
              "      <td>0.0</td>\n",
              "      <td>0.0</td>\n",
              "      <td>0.0</td>\n",
              "      <td>0.0</td>\n",
              "      <td>0.0</td>\n",
              "      <td>0.0</td>\n",
              "      <td>0.0</td>\n",
              "      <td>0.0</td>\n",
              "    </tr>\n",
              "    <tr>\n",
              "      <th>11</th>\n",
              "      <td>0.0</td>\n",
              "      <td>0.0</td>\n",
              "      <td>0.0</td>\n",
              "      <td>0.0</td>\n",
              "      <td>0.0</td>\n",
              "      <td>0.0</td>\n",
              "      <td>0.0</td>\n",
              "      <td>10.0</td>\n",
              "      <td>0.0</td>\n",
              "      <td>0.0</td>\n",
              "      <td>0.0</td>\n",
              "      <td>467.0</td>\n",
              "      <td>0.0</td>\n",
              "      <td>0.0</td>\n",
              "      <td>0.0</td>\n",
              "      <td>0.0</td>\n",
              "      <td>0.0</td>\n",
              "      <td>0.0</td>\n",
              "      <td>0.0</td>\n",
              "      <td>0.0</td>\n",
              "    </tr>\n",
              "    <tr>\n",
              "      <th>12</th>\n",
              "      <td>0.0</td>\n",
              "      <td>0.0</td>\n",
              "      <td>0.0</td>\n",
              "      <td>0.0</td>\n",
              "      <td>0.0</td>\n",
              "      <td>0.0</td>\n",
              "      <td>1.0</td>\n",
              "      <td>15.0</td>\n",
              "      <td>0.0</td>\n",
              "      <td>0.0</td>\n",
              "      <td>0.0</td>\n",
              "      <td>0.0</td>\n",
              "      <td>448.0</td>\n",
              "      <td>0.0</td>\n",
              "      <td>0.0</td>\n",
              "      <td>0.0</td>\n",
              "      <td>0.0</td>\n",
              "      <td>0.0</td>\n",
              "      <td>0.0</td>\n",
              "      <td>0.0</td>\n",
              "    </tr>\n",
              "    <tr>\n",
              "      <th>13</th>\n",
              "      <td>0.0</td>\n",
              "      <td>0.0</td>\n",
              "      <td>0.0</td>\n",
              "      <td>0.0</td>\n",
              "      <td>0.0</td>\n",
              "      <td>0.0</td>\n",
              "      <td>0.0</td>\n",
              "      <td>14.0</td>\n",
              "      <td>0.0</td>\n",
              "      <td>0.0</td>\n",
              "      <td>0.0</td>\n",
              "      <td>0.0</td>\n",
              "      <td>0.0</td>\n",
              "      <td>462.0</td>\n",
              "      <td>0.0</td>\n",
              "      <td>0.0</td>\n",
              "      <td>0.0</td>\n",
              "      <td>0.0</td>\n",
              "      <td>0.0</td>\n",
              "      <td>0.0</td>\n",
              "    </tr>\n",
              "    <tr>\n",
              "      <th>14</th>\n",
              "      <td>0.0</td>\n",
              "      <td>0.0</td>\n",
              "      <td>0.0</td>\n",
              "      <td>0.0</td>\n",
              "      <td>0.0</td>\n",
              "      <td>0.0</td>\n",
              "      <td>0.0</td>\n",
              "      <td>13.0</td>\n",
              "      <td>0.0</td>\n",
              "      <td>0.0</td>\n",
              "      <td>0.0</td>\n",
              "      <td>0.0</td>\n",
              "      <td>0.0</td>\n",
              "      <td>0.0</td>\n",
              "      <td>474.0</td>\n",
              "      <td>0.0</td>\n",
              "      <td>0.0</td>\n",
              "      <td>0.0</td>\n",
              "      <td>0.0</td>\n",
              "      <td>0.0</td>\n",
              "    </tr>\n",
              "    <tr>\n",
              "      <th>15</th>\n",
              "      <td>0.0</td>\n",
              "      <td>0.0</td>\n",
              "      <td>0.0</td>\n",
              "      <td>0.0</td>\n",
              "      <td>0.0</td>\n",
              "      <td>0.0</td>\n",
              "      <td>0.0</td>\n",
              "      <td>8.0</td>\n",
              "      <td>0.0</td>\n",
              "      <td>0.0</td>\n",
              "      <td>0.0</td>\n",
              "      <td>0.0</td>\n",
              "      <td>0.0</td>\n",
              "      <td>0.0</td>\n",
              "      <td>0.0</td>\n",
              "      <td>464.0</td>\n",
              "      <td>0.0</td>\n",
              "      <td>0.0</td>\n",
              "      <td>0.0</td>\n",
              "      <td>0.0</td>\n",
              "    </tr>\n",
              "    <tr>\n",
              "      <th>16</th>\n",
              "      <td>0.0</td>\n",
              "      <td>0.0</td>\n",
              "      <td>0.0</td>\n",
              "      <td>0.0</td>\n",
              "      <td>0.0</td>\n",
              "      <td>0.0</td>\n",
              "      <td>0.0</td>\n",
              "      <td>12.0</td>\n",
              "      <td>0.0</td>\n",
              "      <td>0.0</td>\n",
              "      <td>0.0</td>\n",
              "      <td>0.0</td>\n",
              "      <td>0.0</td>\n",
              "      <td>0.0</td>\n",
              "      <td>0.0</td>\n",
              "      <td>0.0</td>\n",
              "      <td>422.0</td>\n",
              "      <td>0.0</td>\n",
              "      <td>0.0</td>\n",
              "      <td>0.0</td>\n",
              "    </tr>\n",
              "    <tr>\n",
              "      <th>17</th>\n",
              "      <td>0.0</td>\n",
              "      <td>0.0</td>\n",
              "      <td>0.0</td>\n",
              "      <td>0.0</td>\n",
              "      <td>0.0</td>\n",
              "      <td>0.0</td>\n",
              "      <td>0.0</td>\n",
              "      <td>14.0</td>\n",
              "      <td>0.0</td>\n",
              "      <td>0.0</td>\n",
              "      <td>0.0</td>\n",
              "      <td>0.0</td>\n",
              "      <td>0.0</td>\n",
              "      <td>0.0</td>\n",
              "      <td>0.0</td>\n",
              "      <td>0.0</td>\n",
              "      <td>0.0</td>\n",
              "      <td>407.0</td>\n",
              "      <td>0.0</td>\n",
              "      <td>0.0</td>\n",
              "    </tr>\n",
              "    <tr>\n",
              "      <th>18</th>\n",
              "      <td>0.0</td>\n",
              "      <td>0.0</td>\n",
              "      <td>0.0</td>\n",
              "      <td>0.0</td>\n",
              "      <td>0.0</td>\n",
              "      <td>0.0</td>\n",
              "      <td>0.0</td>\n",
              "      <td>9.0</td>\n",
              "      <td>0.0</td>\n",
              "      <td>0.0</td>\n",
              "      <td>0.0</td>\n",
              "      <td>0.0</td>\n",
              "      <td>0.0</td>\n",
              "      <td>0.0</td>\n",
              "      <td>0.0</td>\n",
              "      <td>0.0</td>\n",
              "      <td>0.0</td>\n",
              "      <td>0.0</td>\n",
              "      <td>369.0</td>\n",
              "      <td>0.0</td>\n",
              "    </tr>\n",
              "    <tr>\n",
              "      <th>19</th>\n",
              "      <td>0.0</td>\n",
              "      <td>0.0</td>\n",
              "      <td>0.0</td>\n",
              "      <td>0.0</td>\n",
              "      <td>0.0</td>\n",
              "      <td>0.0</td>\n",
              "      <td>0.0</td>\n",
              "      <td>17.0</td>\n",
              "      <td>0.0</td>\n",
              "      <td>0.0</td>\n",
              "      <td>0.0</td>\n",
              "      <td>0.0</td>\n",
              "      <td>0.0</td>\n",
              "      <td>0.0</td>\n",
              "      <td>0.0</td>\n",
              "      <td>0.0</td>\n",
              "      <td>0.0</td>\n",
              "      <td>0.0</td>\n",
              "      <td>0.0</td>\n",
              "      <td>285.0</td>\n",
              "    </tr>\n",
              "  </tbody>\n",
              "</table>\n",
              "</div>"
            ],
            "text/plain": [
              "        0      1      2      3      4  ...     15     16     17     18     19\n",
              "0   376.0    0.0    0.0    0.0    0.0  ...    0.0    0.0    0.0    0.0    0.0\n",
              "1     0.0  408.0    4.0    0.0   14.0  ...    0.0    0.0    0.0    0.0    0.0\n",
              "2     0.0    0.0  441.0    0.0    0.0  ...    0.0    0.0    0.0    0.0    0.0\n",
              "3     0.0    0.0    0.0  455.0    0.0  ...    0.0    0.0    0.0    0.0    0.0\n",
              "4     0.0    0.0    0.0    0.0  448.0  ...    0.0    0.0    0.0    0.0    0.0\n",
              "5     0.0    0.0    0.0    0.0    0.0  ...    0.0    0.0    0.0    0.0    0.0\n",
              "6     0.0    0.0    0.0    0.0    0.0  ...    0.0    0.0    0.0    0.0    0.0\n",
              "7     0.0    0.0    0.0    0.0    0.0  ...    0.0    0.0    0.0    0.0    0.0\n",
              "8     0.0    0.0    0.0    0.0    1.0  ...    0.0    0.0    0.0    0.0    0.0\n",
              "9     0.0    0.0    0.0    0.0    0.0  ...    0.0    0.0    0.0    0.0    0.0\n",
              "10    0.0    0.0    0.0    0.0    0.0  ...    0.0    0.0    0.0    0.0    0.0\n",
              "11    0.0    0.0    0.0    0.0    0.0  ...    0.0    0.0    0.0    0.0    0.0\n",
              "12    0.0    0.0    0.0    0.0    0.0  ...    0.0    0.0    0.0    0.0    0.0\n",
              "13    0.0    0.0    0.0    0.0    0.0  ...    0.0    0.0    0.0    0.0    0.0\n",
              "14    0.0    0.0    0.0    0.0    0.0  ...    0.0    0.0    0.0    0.0    0.0\n",
              "15    0.0    0.0    0.0    0.0    0.0  ...  464.0    0.0    0.0    0.0    0.0\n",
              "16    0.0    0.0    0.0    0.0    0.0  ...    0.0  422.0    0.0    0.0    0.0\n",
              "17    0.0    0.0    0.0    0.0    0.0  ...    0.0    0.0  407.0    0.0    0.0\n",
              "18    0.0    0.0    0.0    0.0    0.0  ...    0.0    0.0    0.0  369.0    0.0\n",
              "19    0.0    0.0    0.0    0.0    0.0  ...    0.0    0.0    0.0    0.0  285.0\n",
              "\n",
              "[20 rows x 20 columns]"
            ]
          },
          "metadata": {
            "tags": []
          },
          "execution_count": 44
        }
      ]
    },
    {
      "cell_type": "code",
      "metadata": {
        "id": "5io3MV1A0h_B",
        "colab_type": "code",
        "outputId": "db3292f0-51dc-4cd4-b488-a9a5d351c9cc",
        "colab": {
          "base_uri": "https://localhost:8080/",
          "height": 34
        }
      },
      "source": [
        "np.sum(np.diag(con_mat.iloc[0:20,0:20]))/(con_mat.iloc[0:20,0:20].values.sum()) # sum of diagnoal elements/ sum of all in the matrix # 38733477 & SO 53762743"
      ],
      "execution_count": 45,
      "outputs": [
        {
          "output_type": "execute_result",
          "data": {
            "text/plain": [
              "0.9696092619392185"
            ]
          },
          "metadata": {
            "tags": []
          },
          "execution_count": 45
        }
      ]
    },
    {
      "cell_type": "code",
      "metadata": {
        "id": "aUqReQMN3H2G",
        "colab_type": "code",
        "colab": {}
      },
      "source": [
        "# getting the absolute accuracy  as above"
      ],
      "execution_count": 0,
      "outputs": []
    },
    {
      "cell_type": "code",
      "metadata": {
        "id": "ScCiUBYe3WtT",
        "colab_type": "code",
        "outputId": "893d44b3-625d-4aad-e522-0d5da4d035ab",
        "colab": {
          "base_uri": "https://localhost:8080/",
          "height": 34
        }
      },
      "source": [
        "con_mat.iloc[0:20,0:20].values.sum()"
      ],
      "execution_count": 47,
      "outputs": [
        {
          "output_type": "execute_result",
          "data": {
            "text/plain": [
              "8983.0"
            ]
          },
          "metadata": {
            "tags": []
          },
          "execution_count": 47
        }
      ]
    },
    {
      "cell_type": "code",
      "metadata": {
        "id": "C4IMp5Pe3gKb",
        "colab_type": "code",
        "outputId": "b62d1522-4d97-41c5-a151-1269f23b8195",
        "colab": {
          "base_uri": "https://localhost:8080/",
          "height": 34
        }
      },
      "source": [
        "ext_test.shape # hmmmm"
      ],
      "execution_count": 48,
      "outputs": [
        {
          "output_type": "execute_result",
          "data": {
            "text/plain": [
              "(8984, 104)"
            ]
          },
          "metadata": {
            "tags": []
          },
          "execution_count": 48
        }
      ]
    },
    {
      "cell_type": "code",
      "metadata": {
        "id": "W4doGN9P3oFk",
        "colab_type": "code",
        "colab": {}
      },
      "source": [
        "#ext_test.head(2)\n",
        "#ext_test.col_names"
      ],
      "execution_count": 0,
      "outputs": []
    },
    {
      "cell_type": "code",
      "metadata": {
        "id": "DFtbcpI4Hlic",
        "colab_type": "code",
        "colab": {}
      },
      "source": [
        "con_mat.to_csv('confusion_matrix.csv')"
      ],
      "execution_count": 0,
      "outputs": []
    },
    {
      "cell_type": "code",
      "metadata": {
        "id": "Y2qIqRIWHs9i",
        "colab_type": "code",
        "outputId": "f6f94946-ea63-4bdc-d73d-dcdcf727f3ab",
        "colab": {
          "base_uri": "https://localhost:8080/",
          "height": 343
        }
      },
      "source": [
        "aml.leader.hit_ratio_table().as_data_frame() # SO 53762743"
      ],
      "execution_count": 51,
      "outputs": [
        {
          "output_type": "execute_result",
          "data": {
            "text/html": [
              "<div>\n",
              "<style scoped>\n",
              "    .dataframe tbody tr th:only-of-type {\n",
              "        vertical-align: middle;\n",
              "    }\n",
              "\n",
              "    .dataframe tbody tr th {\n",
              "        vertical-align: top;\n",
              "    }\n",
              "\n",
              "    .dataframe thead th {\n",
              "        text-align: right;\n",
              "    }\n",
              "</style>\n",
              "<table border=\"1\" class=\"dataframe\">\n",
              "  <thead>\n",
              "    <tr style=\"text-align: right;\">\n",
              "      <th></th>\n",
              "      <th>k</th>\n",
              "      <th>hit_ratio</th>\n",
              "    </tr>\n",
              "  </thead>\n",
              "  <tbody>\n",
              "    <tr>\n",
              "      <th>0</th>\n",
              "      <td>1</td>\n",
              "      <td>0.969609</td>\n",
              "    </tr>\n",
              "    <tr>\n",
              "      <th>1</th>\n",
              "      <td>2</td>\n",
              "      <td>0.974285</td>\n",
              "    </tr>\n",
              "    <tr>\n",
              "      <th>2</th>\n",
              "      <td>3</td>\n",
              "      <td>0.977736</td>\n",
              "    </tr>\n",
              "    <tr>\n",
              "      <th>3</th>\n",
              "      <td>4</td>\n",
              "      <td>0.979294</td>\n",
              "    </tr>\n",
              "    <tr>\n",
              "      <th>4</th>\n",
              "      <td>5</td>\n",
              "      <td>0.980630</td>\n",
              "    </tr>\n",
              "    <tr>\n",
              "      <th>5</th>\n",
              "      <td>6</td>\n",
              "      <td>0.982077</td>\n",
              "    </tr>\n",
              "    <tr>\n",
              "      <th>6</th>\n",
              "      <td>7</td>\n",
              "      <td>0.983970</td>\n",
              "    </tr>\n",
              "    <tr>\n",
              "      <th>7</th>\n",
              "      <td>8</td>\n",
              "      <td>0.985083</td>\n",
              "    </tr>\n",
              "    <tr>\n",
              "      <th>8</th>\n",
              "      <td>9</td>\n",
              "      <td>0.986196</td>\n",
              "    </tr>\n",
              "    <tr>\n",
              "      <th>9</th>\n",
              "      <td>10</td>\n",
              "      <td>0.988089</td>\n",
              "    </tr>\n",
              "  </tbody>\n",
              "</table>\n",
              "</div>"
            ],
            "text/plain": [
              "    k  hit_ratio\n",
              "0   1   0.969609\n",
              "1   2   0.974285\n",
              "2   3   0.977736\n",
              "3   4   0.979294\n",
              "4   5   0.980630\n",
              "5   6   0.982077\n",
              "6   7   0.983970\n",
              "7   8   0.985083\n",
              "8   9   0.986196\n",
              "9  10   0.988089"
            ]
          },
          "metadata": {
            "tags": []
          },
          "execution_count": 51
        }
      ]
    },
    {
      "cell_type": "code",
      "metadata": {
        "id": "t39uT_hbbU0T",
        "colab_type": "code",
        "colab": {
          "base_uri": "https://localhost:8080/",
          "height": 106
        },
        "outputId": "37a1cae2-86ff-4b80-9fa1-9f9edfd22daf"
      },
      "source": [
        "#train.label.head()\n",
        "# easier to get pd data and cast it to h2o frame\n",
        "df.head(2)"
      ],
      "execution_count": 61,
      "outputs": [
        {
          "output_type": "execute_result",
          "data": {
            "text/html": [
              "<div>\n",
              "<style scoped>\n",
              "    .dataframe tbody tr th:only-of-type {\n",
              "        vertical-align: middle;\n",
              "    }\n",
              "\n",
              "    .dataframe tbody tr th {\n",
              "        vertical-align: top;\n",
              "    }\n",
              "\n",
              "    .dataframe thead th {\n",
              "        text-align: right;\n",
              "    }\n",
              "</style>\n",
              "<table border=\"1\" class=\"dataframe\">\n",
              "  <thead>\n",
              "    <tr style=\"text-align: right;\">\n",
              "      <th></th>\n",
              "      <th>label</th>\n",
              "      <th>text</th>\n",
              "      <th>Train</th>\n",
              "    </tr>\n",
              "  </thead>\n",
              "  <tbody>\n",
              "    <tr>\n",
              "      <th>0</th>\n",
              "      <td>17</td>\n",
              "      <td>Well i'm not sure about the story nad it did seem biased. What\\nI ...</td>\n",
              "      <td>True</td>\n",
              "    </tr>\n",
              "    <tr>\n",
              "      <th>1</th>\n",
              "      <td>0</td>\n",
              "      <td>\\n\\n\\n\\n\\n\\n\\nYeah, do you expect people to read the FAQ, etc. and...</td>\n",
              "      <td>True</td>\n",
              "    </tr>\n",
              "  </tbody>\n",
              "</table>\n",
              "</div>"
            ],
            "text/plain": [
              "   label  ... Train\n",
              "0     17  ...  True\n",
              "1      0  ...  True\n",
              "\n",
              "[2 rows x 3 columns]"
            ]
          },
          "metadata": {
            "tags": []
          },
          "execution_count": 61
        }
      ]
    },
    {
      "cell_type": "code",
      "metadata": {
        "id": "ZTk96JxwccR5",
        "colab_type": "code",
        "colab": {
          "base_uri": "https://localhost:8080/",
          "height": 34
        },
        "outputId": "4d94e06e-a11a-4691-bfee-951fa3281c69"
      },
      "source": [
        "random_news  = h2o.H2OFrame(df.iloc[0:1,0:2])"
      ],
      "execution_count": 68,
      "outputs": [
        {
          "output_type": "stream",
          "text": [
            "Parse progress: |█████████████████████████████████████████████████████████| 100%\n"
          ],
          "name": "stdout"
        }
      ]
    },
    {
      "cell_type": "code",
      "metadata": {
        "id": "E3YAUKXRaV6V",
        "colab_type": "code",
        "colab": {
          "base_uri": "https://localhost:8080/",
          "height": 34
        },
        "outputId": "f3656ab8-c990-42ef-e821-e8a708fb589c"
      },
      "source": [
        "p_words = tokenize(random_news[\"text\"].ascharacter())\n",
        "p_words.shape"
      ],
      "execution_count": 70,
      "outputs": [
        {
          "output_type": "execute_result",
          "data": {
            "text/plain": [
              "(68, 1)"
            ]
          },
          "metadata": {
            "tags": []
          },
          "execution_count": 70
        }
      ]
    },
    {
      "cell_type": "code",
      "metadata": {
        "id": "BI03n_yEdGii",
        "colab_type": "code",
        "colab": {}
      },
      "source": [
        "# how to predict...\n",
        "p_reviews_vec = w2v_model.transform(p_words, aggregate_method=\"AVERAGE\")"
      ],
      "execution_count": 0,
      "outputs": []
    },
    {
      "cell_type": "code",
      "metadata": {
        "id": "GURO19r6xx_M",
        "colab_type": "code",
        "colab": {
          "base_uri": "https://localhost:8080/",
          "height": 112
        },
        "outputId": "50359d20-4643-490c-b080-098dbe3a65db"
      },
      "source": [
        "aml.leader.predict(p_reviews_vec)"
      ],
      "execution_count": 79,
      "outputs": [
        {
          "output_type": "stream",
          "text": [
            "stackedensemble prediction progress: |████████████████████████████████████| 100%\n"
          ],
          "name": "stdout"
        },
        {
          "output_type": "display_data",
          "data": {
            "text/html": [
              "<table>\n",
              "<thead>\n",
              "<tr><th style=\"text-align: right;\">  predict</th><th style=\"text-align: right;\">        p0</th><th style=\"text-align: right;\">         p1</th><th style=\"text-align: right;\">         p2</th><th style=\"text-align: right;\">         p3</th><th style=\"text-align: right;\">         p4</th><th style=\"text-align: right;\">        p5</th><th style=\"text-align: right;\">        p6</th><th style=\"text-align: right;\">         p7</th><th style=\"text-align: right;\">         p8</th><th style=\"text-align: right;\">         p9</th><th style=\"text-align: right;\">        p10</th><th style=\"text-align: right;\">        p11</th><th style=\"text-align: right;\">       p12</th><th style=\"text-align: right;\">        p13</th><th style=\"text-align: right;\">        p14</th><th style=\"text-align: right;\">        p15</th><th style=\"text-align: right;\">       p16</th><th style=\"text-align: right;\">     p17</th><th style=\"text-align: right;\">       p18</th><th style=\"text-align: right;\">       p19</th><th style=\"text-align: right;\">  p115</th><th style=\"text-align: right;\">  p460</th></tr>\n",
              "</thead>\n",
              "<tbody>\n",
              "<tr><td style=\"text-align: right;\">       17</td><td style=\"text-align: right;\">0.00418369</td><td style=\"text-align: right;\">4.23821e-05</td><td style=\"text-align: right;\">4.49216e-05</td><td style=\"text-align: right;\">4.20622e-05</td><td style=\"text-align: right;\">4.05516e-05</td><td style=\"text-align: right;\">4.2095e-05</td><td style=\"text-align: right;\">4.2274e-05</td><td style=\"text-align: right;\">0.000125282</td><td style=\"text-align: right;\">0.000236057</td><td style=\"text-align: right;\">0.000805391</td><td style=\"text-align: right;\">4.03504e-05</td><td style=\"text-align: right;\">0.000208443</td><td style=\"text-align: right;\">5.3969e-05</td><td style=\"text-align: right;\">5.29381e-05</td><td style=\"text-align: right;\">4.82158e-05</td><td style=\"text-align: right;\">0.000821521</td><td style=\"text-align: right;\">0.00122994</td><td style=\"text-align: right;\">0.988846</td><td style=\"text-align: right;\">0.00135474</td><td style=\"text-align: right;\">0.00173867</td><td style=\"text-align: right;\">     0</td><td style=\"text-align: right;\">     0</td></tr>\n",
              "</tbody>\n",
              "</table>"
            ]
          },
          "metadata": {
            "tags": []
          }
        },
        {
          "output_type": "execute_result",
          "data": {
            "text/plain": [
              ""
            ]
          },
          "metadata": {
            "tags": []
          },
          "execution_count": 79
        }
      ]
    },
    {
      "cell_type": "code",
      "metadata": {
        "id": "llH6sFzseI8j",
        "colab_type": "code",
        "colab": {}
      },
      "source": [
        "# p17 has the max... so you know it works.. "
      ],
      "execution_count": 0,
      "outputs": []
    }
  ]
}