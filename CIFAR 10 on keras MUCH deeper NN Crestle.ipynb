{
    "nbformat": 4, 
    "metadata": {
        "language_info": {
            "version": "2.7.11", 
            "nbconvert_exporter": "python", 
            "name": "python", 
            "pygments_lexer": "ipython2", 
            "mimetype": "text/x-python", 
            "codemirror_mode": {
                "version": 2, 
                "name": "ipython"
            }, 
            "file_extension": ".py"
        }, 
        "kernelspec": {
            "language": "python", 
            "name": "python2", 
            "display_name": "Python 2 with Spark 1.6 (Unsupported)"
        }
    }, 
    "cells": [
        {
            "execution_count": 1, 
            "metadata": {}, 
            "source": "#observe that this was a larger denser model than the base line model..\n#GPUs hosted on crestle took 1/10th the time per epoch", 
            "outputs": [], 
            "cell_type": "code"
        }, 
        {
            "execution_count": 3, 
            "metadata": {}, 
            "source": "# Large CNN model for the CIFAR-10 Dataset\nimport numpy\nfrom keras.datasets import cifar10\nfrom keras.models import Sequential\nfrom keras.layers import Dense\nfrom keras.layers import Dropout\nfrom keras.layers import Flatten\nfrom keras.constraints import maxnorm\nfrom keras.optimizers import SGD\nfrom keras.layers.convolutional import Conv2D\nfrom keras.layers.convolutional import MaxPooling2D\nfrom keras.utils import np_utils\nfrom keras import backend as K\nK.set_image_dim_ordering('th')\n# fix random seed for reproducibility\nseed = 7\nnumpy.random.seed(seed)\n# load data\n(X_train, y_train), (X_test, y_test) = cifar10.load_data()\n# normalize inputs from 0-255 to 0.0-1.0\nX_train = X_train.astype('float32')\nX_test = X_test.astype('float32')\nX_train = X_train / 255.0\nX_test = X_test / 255.0\n# one hot encode outputs\ny_train = np_utils.to_categorical(y_train)\ny_test = np_utils.to_categorical(y_test)\nnum_classes = y_test.shape[1]", 
            "outputs": [
                {
                    "name": "stderr", 
                    "output_type": "stream", 
                    "text": "/usr/local/lib/python2.7/dist-packages/h5py/__init__.py:36: FutureWarning: Conversion of the second argument of issubdtype from `float` to `np.floating` is deprecated. In future, it will be treated as `np.float64 == np.dtype(float).type`.\n  from ._conv import register_converters as _register_converters\nUsing TensorFlow backend.\n"
                }, 
                {
                    "name": "stdout", 
                    "output_type": "stream", 
                    "text": "Downloading data from https://www.cs.toronto.edu/~kriz/cifar-10-python.tar.gz\n170500096/170498071 [==============================] - 21s 0us/step\n170508288/170498071 [==============================] - 21s 0us/step\n"
                }
            ], 
            "cell_type": "code"
        }, 
        {
            "execution_count": 4, 
            "metadata": {}, 
            "source": "# Create the model\nmodel = Sequential()\nmodel.add(Conv2D(32, (3, 3), input_shape=(3, 32, 32), activation='relu', padding='same'))\nmodel.add(Dropout(0.2))\nmodel.add(Conv2D(32, (3, 3), activation='relu', padding='same'))\nmodel.add(MaxPooling2D(pool_size=(2, 2)))\nmodel.add(Conv2D(64, (3, 3), activation='relu', padding='same'))\nmodel.add(Dropout(0.2))\nmodel.add(Conv2D(64, (3, 3), activation='relu', padding='same'))\nmodel.add(MaxPooling2D(pool_size=(2, 2)))\nmodel.add(Conv2D(128, (3, 3), activation='relu', padding='same'))\nmodel.add(Dropout(0.2))\nmodel.add(Conv2D(128, (3, 3), activation='relu', padding='same'))\nmodel.add(MaxPooling2D(pool_size=(2, 2)))\nmodel.add(Flatten())\nmodel.add(Dropout(0.2))\nmodel.add(Dense(1024, activation='relu', kernel_constraint=maxnorm(3)))\nmodel.add(Dropout(0.2))\nmodel.add(Dense(512, activation='relu', kernel_constraint=maxnorm(3)))\nmodel.add(Dropout(0.2))\nmodel.add(Dense(num_classes, activation='softmax'))", 
            "outputs": [], 
            "cell_type": "code"
        }, 
        {
            "execution_count": 5, 
            "metadata": {}, 
            "source": "# Compile model\nepochs = 25\nlrate = 0.01\ndecay = lrate/epochs\nsgd = SGD(lr=lrate, momentum=0.9, decay=decay, nesterov=False)\nmodel.compile(loss='categorical_crossentropy', optimizer=sgd, metrics=['accuracy'])\nprint(model.summary())", 
            "outputs": [
                {
                    "name": "stdout", 
                    "output_type": "stream", 
                    "text": "_________________________________________________________________\nLayer (type)                 Output Shape              Param #   \n=================================================================\nconv2d_1 (Conv2D)            (None, 32, 32, 32)        896       \n_________________________________________________________________\ndropout_1 (Dropout)          (None, 32, 32, 32)        0         \n_________________________________________________________________\nconv2d_2 (Conv2D)            (None, 32, 32, 32)        9248      \n_________________________________________________________________\nmax_pooling2d_1 (MaxPooling2 (None, 32, 16, 16)        0         \n_________________________________________________________________\nconv2d_3 (Conv2D)            (None, 64, 16, 16)        18496     \n_________________________________________________________________\ndropout_2 (Dropout)          (None, 64, 16, 16)        0         \n_________________________________________________________________\nconv2d_4 (Conv2D)            (None, 64, 16, 16)        36928     \n_________________________________________________________________\nmax_pooling2d_2 (MaxPooling2 (None, 64, 8, 8)          0         \n_________________________________________________________________\nconv2d_5 (Conv2D)            (None, 128, 8, 8)         73856     \n_________________________________________________________________\ndropout_3 (Dropout)          (None, 128, 8, 8)         0         \n_________________________________________________________________\nconv2d_6 (Conv2D)            (None, 128, 8, 8)         147584    \n_________________________________________________________________\nmax_pooling2d_3 (MaxPooling2 (None, 128, 4, 4)         0         \n_________________________________________________________________\nflatten_1 (Flatten)          (None, 2048)              0         \n_________________________________________________________________\ndropout_4 (Dropout)          (None, 2048)              0         \n_________________________________________________________________\ndense_1 (Dense)              (None, 1024)              2098176   \n_________________________________________________________________\ndropout_5 (Dropout)          (None, 1024)              0         \n_________________________________________________________________\ndense_2 (Dense)              (None, 512)               524800    \n_________________________________________________________________\ndropout_6 (Dropout)          (None, 512)               0         \n_________________________________________________________________\ndense_3 (Dense)              (None, 10)                5130      \n=================================================================\nTotal params: 2,915,114\nTrainable params: 2,915,114\nNon-trainable params: 0\n_________________________________________________________________\nNone\n"
                }
            ], 
            "cell_type": "code"
        }, 
        {
            "execution_count": 6, 
            "metadata": {}, 
            "source": "# Fit the model\nmodel.fit(X_train, y_train, validation_data=(X_test, y_test), epochs=epochs, batch_size=64)\n", 
            "outputs": [
                {
                    "name": "stdout", 
                    "output_type": "stream", 
                    "text": "Train on 50000 samples, validate on 10000 samples\nEpoch 1/25\n50000/50000 [==============================] - 62s 1ms/step - loss: 1.9449 - acc: 0.2846 - val_loss: 1.8258 - val_acc: 0.3734\nEpoch 2/25\n50000/50000 [==============================] - 22s 431us/step - loss: 1.5305 - acc: 0.4409 - val_loss: 1.3636 - val_acc: 0.4995\nEpoch 3/25\n50000/50000 [==============================] - 22s 431us/step - loss: 1.3560 - acc: 0.5091 - val_loss: 1.2748 - val_acc: 0.5355\nEpoch 4/25\n50000/50000 [==============================] - 22s 433us/step - loss: 1.2272 - acc: 0.5579 - val_loss: 1.1746 - val_acc: 0.5811\nEpoch 5/25\n50000/50000 [==============================] - 22s 432us/step - loss: 1.1192 - acc: 0.5979 - val_loss: 1.0544 - val_acc: 0.6261\nEpoch 6/25\n50000/50000 [==============================] - 22s 432us/step - loss: 1.0243 - acc: 0.6338 - val_loss: 0.9931 - val_acc: 0.6491\nEpoch 7/25\n50000/50000 [==============================] - 22s 431us/step - loss: 0.9456 - acc: 0.6638 - val_loss: 0.8818 - val_acc: 0.6856\nEpoch 8/25\n50000/50000 [==============================] - 22s 431us/step - loss: 0.8769 - acc: 0.6894 - val_loss: 0.8522 - val_acc: 0.6996\nEpoch 9/25\n50000/50000 [==============================] - 22s 432us/step - loss: 0.8210 - acc: 0.7084 - val_loss: 0.8079 - val_acc: 0.7151\nEpoch 10/25\n50000/50000 [==============================] - 22s 432us/step - loss: 0.7713 - acc: 0.7266 - val_loss: 0.7746 - val_acc: 0.7287\nEpoch 11/25\n50000/50000 [==============================] - 22s 432us/step - loss: 0.7352 - acc: 0.7415 - val_loss: 0.7694 - val_acc: 0.7331\nEpoch 12/25\n50000/50000 [==============================] - 22s 432us/step - loss: 0.6994 - acc: 0.7505 - val_loss: 0.7286 - val_acc: 0.7499\nEpoch 13/25\n50000/50000 [==============================] - 22s 431us/step - loss: 0.6684 - acc: 0.7637 - val_loss: 0.7173 - val_acc: 0.7514\nEpoch 14/25\n50000/50000 [==============================] - 22s 431us/step - loss: 0.6373 - acc: 0.7746 - val_loss: 0.7001 - val_acc: 0.7542\nEpoch 15/25\n50000/50000 [==============================] - 22s 431us/step - loss: 0.6102 - acc: 0.7856 - val_loss: 0.6861 - val_acc: 0.7613\nEpoch 16/25\n50000/50000 [==============================] - 22s 431us/step - loss: 0.5827 - acc: 0.7951 - val_loss: 0.6669 - val_acc: 0.7696\nEpoch 17/25\n50000/50000 [==============================] - 22s 432us/step - loss: 0.5644 - acc: 0.8001 - val_loss: 0.6548 - val_acc: 0.7727\nEpoch 18/25\n50000/50000 [==============================] - 22s 431us/step - loss: 0.5422 - acc: 0.8077 - val_loss: 0.6584 - val_acc: 0.7741\nEpoch 19/25\n50000/50000 [==============================] - 22s 431us/step - loss: 0.5280 - acc: 0.8140 - val_loss: 0.6603 - val_acc: 0.7742\nEpoch 20/25\n50000/50000 [==============================] - 22s 431us/step - loss: 0.5058 - acc: 0.8210 - val_loss: 0.6387 - val_acc: 0.7790\nEpoch 21/25\n50000/50000 [==============================] - 22s 431us/step - loss: 0.4885 - acc: 0.8273 - val_loss: 0.6471 - val_acc: 0.7807\nEpoch 22/25\n50000/50000 [==============================] - 22s 431us/step - loss: 0.4756 - acc: 0.8306 - val_loss: 0.6450 - val_acc: 0.7816\nEpoch 23/25\n50000/50000 [==============================] - 22s 432us/step - loss: 0.4552 - acc: 0.8380 - val_loss: 0.6344 - val_acc: 0.7841\nEpoch 24/25\n50000/50000 [==============================] - 22s 431us/step - loss: 0.4442 - acc: 0.8416 - val_loss: 0.6257 - val_acc: 0.7860\nEpoch 25/25\n50000/50000 [==============================] - 22s 431us/step - loss: 0.4309 - acc: 0.8465 - val_loss: 0.6133 - val_acc: 0.7904\n"
                }, 
                {
                    "execution_count": 6, 
                    "data": {
                        "text/plain": "<keras.callbacks.History at 0x7f9c38b0f050>"
                    }, 
                    "metadata": {}, 
                    "output_type": "execute_result"
                }
            ], 
            "cell_type": "code"
        }, 
        {
            "execution_count": 7, 
            "metadata": {}, 
            "source": "# Final evaluation of the model\nscores = model.evaluate(X_test, y_test, verbose=0)\nprint(\"Accuracy: %.2f%%\" % (scores[1]*100))", 
            "outputs": [
                {
                    "name": "stdout", 
                    "output_type": "stream", 
                    "text": "Accuracy: 79.04%\n"
                }
            ], 
            "cell_type": "code"
        }, 
        {
            "execution_count": null, 
            "metadata": {}, 
            "source": "", 
            "outputs": [], 
            "cell_type": "code"
        }, 
        {
            "execution_count": null, 
            "metadata": {}, 
            "source": "", 
            "outputs": [], 
            "cell_type": "code"
        }
    ], 
    "nbformat_minor": 2
}