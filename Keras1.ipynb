{
    "cells": [
        {
            "cell_type": "markdown", 
            "source": "# keras\n\n1. Defne Network.\n2. Compile Network.\n3. Fit Network.\n4. Evaluate Network.\n5. Make Predictions.", 
            "metadata": {
                "collapsed": true
            }
        }, 
        {
            "cell_type": "code", 
            "execution_count": 5, 
            "metadata": {}, 
            "source": "!pip install keras", 
            "outputs": [
                {
                    "output_type": "stream", 
                    "text": "Requirement already satisfied (use --upgrade to upgrade): keras in /usr/local/src/conda3_runtime.v27/4.1.1/lib/python3.5/site-packages\nRequirement already satisfied (use --upgrade to upgrade): pyyaml in /gpfs/global_fs01/sym_shared/YPProdSpark/user/sa0d-218294071c3031-cf228a6161b9/.local/lib/python3.5/site-packages (from keras)\nRequirement already satisfied (use --upgrade to upgrade): theano in /usr/local/src/conda3_runtime.v27/4.1.1/lib/python3.5/site-packages (from keras)\nRequirement already satisfied (use --upgrade to upgrade): six in /gpfs/global_fs01/sym_shared/YPProdSpark/user/sa0d-218294071c3031-cf228a6161b9/.local/lib/python3.5/site-packages (from keras)\nRequirement already satisfied (use --upgrade to upgrade): numpy>=1.7.1 in /gpfs/global_fs01/sym_shared/YPProdSpark/user/sa0d-218294071c3031-cf228a6161b9/.local/lib/python3.5/site-packages (from theano->keras)\nRequirement already satisfied (use --upgrade to upgrade): scipy>=0.11 in /usr/local/src/conda3_runtime.v27/4.1.1/lib/python3.5/site-packages (from theano->keras)\n", 
                    "name": "stdout"
                }
            ]
        }, 
        {
            "cell_type": "code", 
            "execution_count": 1, 
            "metadata": {}, 
            "source": "import keras\nfrom keras.models import Sequential\n", 
            "outputs": [
                {
                    "output_type": "stream", 
                    "text": "Using TensorFlow backend.\n", 
                    "name": "stderr"
                }
            ]
        }, 
        {
            "cell_type": "code", 
            "execution_count": 8, 
            "metadata": {}, 
            "source": "! rm -f pima-indians-diabetes.csv\n!wget http://archive.ics.uci.edu/ml/machine-learning-databases/pima-indians-diabetes/pima-indians-diabetes.data -O pima-indians-diabetes.csv", 
            "outputs": [
                {
                    "output_type": "stream", 
                    "text": "--2018-01-30 01:43:16--  http://archive.ics.uci.edu/ml/machine-learning-databases/pima-indians-diabetes/pima-indians-diabetes.data\nResolving archive.ics.uci.edu (archive.ics.uci.edu)... 128.195.10.249\nConnecting to archive.ics.uci.edu (archive.ics.uci.edu)|128.195.10.249|:80... connected.\nHTTP request sent, awaiting response... 200 OK\nLength: 23279 (23K) [text/plain]\nSaving to: \u2018pima-indians-diabetes.csv\u2019\n\n100%[======================================>] 23,279      --.-K/s   in 0.03s   \n\n2018-01-30 01:43:17 (723 KB/s) - \u2018pima-indians-diabetes.csv\u2019 saved [23279/23279]\n\n", 
                    "name": "stdout"
                }
            ]
        }, 
        {
            "cell_type": "code", 
            "execution_count": 9, 
            "metadata": {}, 
            "source": "from keras.models import Sequential\nfrom keras.layers import Dense\nimport numpy\n\nnumpy.random.seed(7)", 
            "outputs": []
        }, 
        {
            "cell_type": "code", 
            "execution_count": 10, 
            "metadata": {}, 
            "source": "dataset = numpy.loadtxt(\"pima-indians-diabetes.csv\", delimiter=\",\")\nX = dataset[:,0:8]\nY = dataset[:,8]", 
            "outputs": []
        }, 
        {
            "cell_type": "code", 
            "execution_count": 11, 
            "metadata": {}, 
            "source": "# create model\nmodel = Sequential() # seq.. and keep adding layers\nmodel.add(Dense(12, input_dim=8, activation='relu')) # becaus ethe number of inputs is 8... look above # hiddle layer 1\nmodel.add(Dense(8, activation='relu')) # relu # hidden layer 2\nmodel.add(Dense(1, activation='sigmoid')) # op.. 1", 
            "outputs": []
        }, 
        {
            "cell_type": "code", 
            "execution_count": 12, 
            "metadata": {}, 
            "source": "# Compile model\nmodel.compile(loss='binary_crossentropy', optimizer='adam', metrics=['accuracy']) # check out adam optimizaiton method..", 
            "outputs": []
        }, 
        {
            "cell_type": "code", 
            "execution_count": 13, 
            "metadata": {}, 
            "source": "# Fit the model\nmodel.fit(X, Y, epochs=150, batch_size=10)", 
            "outputs": [
                {
                    "output_type": "stream", 
                    "text": "Epoch 1/150\n768/768 [==============================] - 0s - loss: 3.7357 - acc: 0.5990     \nEpoch 2/150\n768/768 [==============================] - 0s - loss: 0.9400 - acc: 0.5911     \nEpoch 3/150\n768/768 [==============================] - 0s - loss: 0.7509 - acc: 0.6393     \nEpoch 4/150\n768/768 [==============================] - 0s - loss: 0.7113 - acc: 0.6589     \nEpoch 5/150\n768/768 [==============================] - 0s - loss: 0.6801 - acc: 0.6758     \nEpoch 6/150\n768/768 [==============================] - 0s - loss: 0.6493 - acc: 0.6810     \nEpoch 7/150\n768/768 [==============================] - 0s - loss: 0.6489 - acc: 0.6693     \nEpoch 8/150\n768/768 [==============================] - 0s - loss: 0.6360 - acc: 0.6862     \nEpoch 9/150\n768/768 [==============================] - 0s - loss: 0.6233 - acc: 0.6888     \nEpoch 10/150\n768/768 [==============================] - 0s - loss: 0.6291 - acc: 0.6745     \nEpoch 11/150\n768/768 [==============================] - 0s - loss: 0.6451 - acc: 0.6732     \nEpoch 12/150\n768/768 [==============================] - 0s - loss: 0.6396 - acc: 0.6758     \nEpoch 13/150\n768/768 [==============================] - 0s - loss: 0.6263 - acc: 0.6823     \nEpoch 14/150\n768/768 [==============================] - 0s - loss: 0.6184 - acc: 0.6992     \nEpoch 15/150\n768/768 [==============================] - 0s - loss: 0.6024 - acc: 0.6940     \nEpoch 16/150\n768/768 [==============================] - 0s - loss: 0.5876 - acc: 0.7005     \nEpoch 17/150\n768/768 [==============================] - 0s - loss: 0.5847 - acc: 0.6979     \nEpoch 18/150\n768/768 [==============================] - 0s - loss: 0.5997 - acc: 0.6901     \nEpoch 19/150\n768/768 [==============================] - 0s - loss: 0.5800 - acc: 0.7122     \nEpoch 20/150\n768/768 [==============================] - 0s - loss: 0.5798 - acc: 0.7161     \nEpoch 21/150\n768/768 [==============================] - 0s - loss: 0.5686 - acc: 0.7174     \nEpoch 22/150\n768/768 [==============================] - 0s - loss: 0.5821 - acc: 0.6953     \nEpoch 23/150\n768/768 [==============================] - 0s - loss: 0.5734 - acc: 0.7148     \nEpoch 24/150\n768/768 [==============================] - 0s - loss: 0.5674 - acc: 0.7292     \nEpoch 25/150\n768/768 [==============================] - 0s - loss: 0.5576 - acc: 0.7383     \nEpoch 26/150\n768/768 [==============================] - 0s - loss: 0.5701 - acc: 0.7057     \nEpoch 27/150\n768/768 [==============================] - 0s - loss: 0.5559 - acc: 0.7201     \nEpoch 28/150\n768/768 [==============================] - 0s - loss: 0.5553 - acc: 0.7292     \nEpoch 29/150\n768/768 [==============================] - 0s - loss: 0.5743 - acc: 0.7148     \nEpoch 30/150\n768/768 [==============================] - 0s - loss: 0.5612 - acc: 0.7240     \nEpoch 31/150\n768/768 [==============================] - 0s - loss: 0.5689 - acc: 0.7122     \nEpoch 32/150\n768/768 [==============================] - 0s - loss: 0.5645 - acc: 0.7109     \nEpoch 33/150\n768/768 [==============================] - 0s - loss: 0.5522 - acc: 0.7148     \nEpoch 34/150\n768/768 [==============================] - 0s - loss: 0.5498 - acc: 0.7331     \nEpoch 35/150\n768/768 [==============================] - 0s - loss: 0.5505 - acc: 0.7240     \nEpoch 36/150\n768/768 [==============================] - 0s - loss: 0.5607 - acc: 0.7070     \nEpoch 37/150\n768/768 [==============================] - 0s - loss: 0.5357 - acc: 0.7396     \nEpoch 38/150\n768/768 [==============================] - 0s - loss: 0.5405 - acc: 0.7227     \nEpoch 39/150\n768/768 [==============================] - 0s - loss: 0.5457 - acc: 0.7266     \nEpoch 40/150\n768/768 [==============================] - 0s - loss: 0.5447 - acc: 0.7253     \nEpoch 41/150\n768/768 [==============================] - 0s - loss: 0.5436 - acc: 0.7331     \nEpoch 42/150\n768/768 [==============================] - 0s - loss: 0.5377 - acc: 0.7448     \nEpoch 43/150\n768/768 [==============================] - 0s - loss: 0.5299 - acc: 0.7487     \nEpoch 44/150\n768/768 [==============================] - 0s - loss: 0.5336 - acc: 0.7435     \nEpoch 45/150\n768/768 [==============================] - 0s - loss: 0.5310 - acc: 0.7565     \nEpoch 46/150\n768/768 [==============================] - 0s - loss: 0.5275 - acc: 0.7500     \nEpoch 47/150\n768/768 [==============================] - 0s - loss: 0.5322 - acc: 0.7383     \nEpoch 48/150\n768/768 [==============================] - 0s - loss: 0.5332 - acc: 0.7435     \nEpoch 49/150\n768/768 [==============================] - 0s - loss: 0.5335 - acc: 0.7500     \nEpoch 50/150\n768/768 [==============================] - 0s - loss: 0.5265 - acc: 0.7357     \nEpoch 51/150\n768/768 [==============================] - 0s - loss: 0.5269 - acc: 0.7461     \nEpoch 52/150\n768/768 [==============================] - 0s - loss: 0.5324 - acc: 0.7487     \nEpoch 53/150\n768/768 [==============================] - 0s - loss: 0.5386 - acc: 0.7474     \nEpoch 54/150\n768/768 [==============================] - 0s - loss: 0.5376 - acc: 0.7292     \nEpoch 55/150\n768/768 [==============================] - 0s - loss: 0.5220 - acc: 0.7552     \nEpoch 56/150\n768/768 [==============================] - 0s - loss: 0.5284 - acc: 0.7448     \nEpoch 57/150\n768/768 [==============================] - 0s - loss: 0.5314 - acc: 0.7357     \nEpoch 58/150\n768/768 [==============================] - 0s - loss: 0.5222 - acc: 0.7552     \nEpoch 59/150\n768/768 [==============================] - 0s - loss: 0.5132 - acc: 0.7604     \nEpoch 60/150\n768/768 [==============================] - 0s - loss: 0.5358 - acc: 0.7344     \nEpoch 61/150\n768/768 [==============================] - 0s - loss: 0.5270 - acc: 0.7357     \nEpoch 62/150\n768/768 [==============================] - 0s - loss: 0.5169 - acc: 0.7461     \nEpoch 63/150\n768/768 [==============================] - 0s - loss: 0.5422 - acc: 0.7305     \nEpoch 64/150\n768/768 [==============================] - 0s - loss: 0.5325 - acc: 0.7409     \nEpoch 65/150\n768/768 [==============================] - 0s - loss: 0.5202 - acc: 0.7474     \nEpoch 66/150\n768/768 [==============================] - 0s - loss: 0.5068 - acc: 0.7474     \nEpoch 67/150\n768/768 [==============================] - 0s - loss: 0.5153 - acc: 0.7396     \nEpoch 68/150\n768/768 [==============================] - 0s - loss: 0.5131 - acc: 0.7552     \nEpoch 69/150\n768/768 [==============================] - 0s - loss: 0.5126 - acc: 0.7500     \nEpoch 70/150\n768/768 [==============================] - 0s - loss: 0.5377 - acc: 0.7161     \nEpoch 71/150\n768/768 [==============================] - 0s - loss: 0.5176 - acc: 0.7396     \nEpoch 72/150\n768/768 [==============================] - 0s - loss: 0.5171 - acc: 0.7448     \nEpoch 73/150\n768/768 [==============================] - 0s - loss: 0.5162 - acc: 0.7500     \nEpoch 74/150\n768/768 [==============================] - 0s - loss: 0.5104 - acc: 0.7604     \nEpoch 75/150\n768/768 [==============================] - 0s - loss: 0.5092 - acc: 0.7617     \nEpoch 76/150\n768/768 [==============================] - 0s - loss: 0.5124 - acc: 0.7526     \nEpoch 77/150\n768/768 [==============================] - 0s - loss: 0.5155 - acc: 0.7630     \nEpoch 78/150\n768/768 [==============================] - 0s - loss: 0.5133 - acc: 0.7474     \nEpoch 79/150\n768/768 [==============================] - 0s - loss: 0.5142 - acc: 0.7318     \nEpoch 80/150\n768/768 [==============================] - 0s - loss: 0.5104 - acc: 0.7565     \nEpoch 81/150\n768/768 [==============================] - 0s - loss: 0.5077 - acc: 0.7682     \nEpoch 82/150\n768/768 [==============================] - 0s - loss: 0.5047 - acc: 0.7539     \nEpoch 83/150\n768/768 [==============================] - 0s - loss: 0.5002 - acc: 0.7578     \nEpoch 84/150\n768/768 [==============================] - 0s - loss: 0.4989 - acc: 0.7630     \nEpoch 85/150\n768/768 [==============================] - 0s - loss: 0.5072 - acc: 0.7487     \nEpoch 86/150\n768/768 [==============================] - 0s - loss: 0.5073 - acc: 0.7539     \nEpoch 87/150\n768/768 [==============================] - 0s - loss: 0.5003 - acc: 0.7500     \nEpoch 88/150\n768/768 [==============================] - 0s - loss: 0.5036 - acc: 0.7656     \nEpoch 89/150\n768/768 [==============================] - 0s - loss: 0.5063 - acc: 0.7565     \nEpoch 90/150\n768/768 [==============================] - 0s - loss: 0.5092 - acc: 0.7539     \nEpoch 91/150\n768/768 [==============================] - 0s - loss: 0.5021 - acc: 0.7552     \nEpoch 92/150\n768/768 [==============================] - 0s - loss: 0.5061 - acc: 0.7409     \nEpoch 93/150\n768/768 [==============================] - 0s - loss: 0.4983 - acc: 0.7604     \nEpoch 94/150\n768/768 [==============================] - 0s - loss: 0.4991 - acc: 0.7604     \nEpoch 95/150\n768/768 [==============================] - 0s - loss: 0.5050 - acc: 0.7461     \nEpoch 96/150\n768/768 [==============================] - 0s - loss: 0.4965 - acc: 0.7578     \nEpoch 97/150\n768/768 [==============================] - 0s - loss: 0.5000 - acc: 0.7734     \nEpoch 98/150\n768/768 [==============================] - 0s - loss: 0.4907 - acc: 0.7604     \nEpoch 99/150\n768/768 [==============================] - 0s - loss: 0.4916 - acc: 0.7591     \nEpoch 100/150\n768/768 [==============================] - 0s - loss: 0.4846 - acc: 0.7812     \nEpoch 101/150\n768/768 [==============================] - 0s - loss: 0.4893 - acc: 0.7695     \nEpoch 102/150\n768/768 [==============================] - 0s - loss: 0.4978 - acc: 0.7591     \nEpoch 103/150\n768/768 [==============================] - ETA: 0s - loss: 0.5158 - acc: 0.748 - 0s - loss: 0.4988 - acc: 0.7617     \nEpoch 104/150\n768/768 [==============================] - 0s - loss: 0.4916 - acc: 0.7865     \nEpoch 105/150\n768/768 [==============================] - 0s - loss: 0.5280 - acc: 0.7487     \nEpoch 106/150\n768/768 [==============================] - 0s - loss: 0.4895 - acc: 0.7734     \nEpoch 107/150\n768/768 [==============================] - 0s - loss: 0.4900 - acc: 0.7734     \nEpoch 108/150\n768/768 [==============================] - 0s - loss: 0.4967 - acc: 0.7747     \nEpoch 109/150\n768/768 [==============================] - 0s - loss: 0.4881 - acc: 0.7630     \nEpoch 110/150\n768/768 [==============================] - 0s - loss: 0.4920 - acc: 0.7734     \nEpoch 111/150\n768/768 [==============================] - 0s - loss: 0.4838 - acc: 0.7760     \nEpoch 112/150\n768/768 [==============================] - 0s - loss: 0.4950 - acc: 0.7786     \nEpoch 113/150\n768/768 [==============================] - 0s - loss: 0.4938 - acc: 0.7604     \nEpoch 114/150\n768/768 [==============================] - 0s - loss: 0.4922 - acc: 0.7604     \nEpoch 115/150\n768/768 [==============================] - 0s - loss: 0.4901 - acc: 0.7760     \nEpoch 116/150\n768/768 [==============================] - 0s - loss: 0.4948 - acc: 0.7669     \nEpoch 117/150\n768/768 [==============================] - 0s - loss: 0.4906 - acc: 0.7669     \nEpoch 118/150\n768/768 [==============================] - 0s - loss: 0.4885 - acc: 0.7799     \nEpoch 119/150\n768/768 [==============================] - 0s - loss: 0.4824 - acc: 0.7708     \nEpoch 120/150\n768/768 [==============================] - 0s - loss: 0.4937 - acc: 0.7734     \nEpoch 121/150\n768/768 [==============================] - 0s - loss: 0.4925 - acc: 0.7708     \nEpoch 122/150\n768/768 [==============================] - 0s - loss: 0.4864 - acc: 0.7773     \nEpoch 123/150\n768/768 [==============================] - 0s - loss: 0.4802 - acc: 0.7721     \nEpoch 124/150\n768/768 [==============================] - 0s - loss: 0.4837 - acc: 0.7786     \nEpoch 125/150\n768/768 [==============================] - 0s - loss: 0.4869 - acc: 0.7812     \nEpoch 126/150\n768/768 [==============================] - 0s - loss: 0.4812 - acc: 0.7799     \nEpoch 127/150\n768/768 [==============================] - 0s - loss: 0.4904 - acc: 0.7682     \nEpoch 128/150\n768/768 [==============================] - 0s - loss: 0.4721 - acc: 0.7760     \nEpoch 129/150\n768/768 [==============================] - 0s - loss: 0.4812 - acc: 0.7721     \nEpoch 130/150\n768/768 [==============================] - 0s - loss: 0.4751 - acc: 0.7839     \nEpoch 131/150\n768/768 [==============================] - 0s - loss: 0.4813 - acc: 0.7695     \nEpoch 132/150\n768/768 [==============================] - 0s - loss: 0.4811 - acc: 0.7826     \nEpoch 133/150\n768/768 [==============================] - 0s - loss: 0.4837 - acc: 0.7695     \nEpoch 134/150\n768/768 [==============================] - 0s - loss: 0.4840 - acc: 0.7747     \nEpoch 135/150\n768/768 [==============================] - 0s - loss: 0.4793 - acc: 0.7760     \nEpoch 136/150\n768/768 [==============================] - 0s - loss: 0.4737 - acc: 0.7799     \nEpoch 137/150\n768/768 [==============================] - 0s - loss: 0.4688 - acc: 0.7786     \nEpoch 138/150\n768/768 [==============================] - 0s - loss: 0.4813 - acc: 0.7786     \nEpoch 139/150\n768/768 [==============================] - 0s - loss: 0.4659 - acc: 0.7904     \nEpoch 140/150\n768/768 [==============================] - 0s - loss: 0.4812 - acc: 0.7786     \nEpoch 141/150\n768/768 [==============================] - 0s - loss: 0.4734 - acc: 0.7839     \nEpoch 142/150\n768/768 [==============================] - 0s - loss: 0.4844 - acc: 0.7708     \nEpoch 143/150\n768/768 [==============================] - 0s - loss: 0.4750 - acc: 0.7721     \nEpoch 144/150\n768/768 [==============================] - 0s - loss: 0.4760 - acc: 0.7721     \nEpoch 145/150\n768/768 [==============================] - 0s - loss: 0.4893 - acc: 0.7643     \nEpoch 146/150\n768/768 [==============================] - 0s - loss: 0.4926 - acc: 0.7708     \nEpoch 147/150\n768/768 [==============================] - 0s - loss: 0.4833 - acc: 0.7760     \nEpoch 148/150\n768/768 [==============================] - 0s - loss: 0.4711 - acc: 0.7747     \nEpoch 149/150\n768/768 [==============================] - 0s - loss: 0.4757 - acc: 0.7708     \nEpoch 150/150\n768/768 [==============================] - 0s - loss: 0.4755 - acc: 0.7721     \n", 
                    "name": "stdout"
                }, 
                {
                    "output_type": "execute_result", 
                    "execution_count": 13, 
                    "metadata": {}, 
                    "data": {
                        "text/plain": "<keras.callbacks.History at 0x7f1b12739fd0>"
                    }
                }
            ]
        }, 
        {
            "cell_type": "code", 
            "execution_count": 14, 
            "metadata": {}, 
            "source": "# evaluate the model\nscores = model.evaluate(X, Y)\nprint(\"\\n%s: %.2f%%\" % (model.metrics_names[1], scores[1]*100))", 
            "outputs": [
                {
                    "output_type": "stream", 
                    "text": " 32/768 [>.............................] - ETA: 0s\nacc: 80.21%\n", 
                    "name": "stdout"
                }
            ]
        }, 
        {
            "cell_type": "markdown", 
            "source": "## Last shot with the old algorithms..\nLR: 0.769515 (0.048411)   [log r]  \nLDA: 0.773462 (0.051592)  \nKNN: 0.726555 (0.061821)  \nCART: 0.691353 (0.060083)  \nNB: 0.755178 (0.042766)  \nSVM: 0.651025 (0.072141)  ", 
            "metadata": {}
        }, 
        {
            "cell_type": "code", 
            "execution_count": null, 
            "metadata": {}, 
            "source": "", 
            "outputs": []
        }, 
        {
            "cell_type": "code", 
            "execution_count": null, 
            "metadata": {}, 
            "source": "", 
            "outputs": []
        }, 
        {
            "cell_type": "code", 
            "execution_count": null, 
            "metadata": {}, 
            "source": "", 
            "outputs": []
        }, 
        {
            "cell_type": "code", 
            "execution_count": null, 
            "metadata": {}, 
            "source": "", 
            "outputs": []
        }, 
        {
            "cell_type": "code", 
            "execution_count": null, 
            "metadata": {}, 
            "source": "", 
            "outputs": []
        }, 
        {
            "cell_type": "code", 
            "execution_count": null, 
            "metadata": {}, 
            "source": "", 
            "outputs": []
        }
    ], 
    "nbformat": 4, 
    "nbformat_minor": 1, 
    "metadata": {
        "kernelspec": {
            "language": "python", 
            "display_name": "Python 3.5 (Experimental) with Spark 2.1", 
            "name": "python3-spark21"
        }, 
        "language_info": {
            "pygments_lexer": "ipython3", 
            "mimetype": "text/x-python", 
            "nbconvert_exporter": "python", 
            "name": "python", 
            "file_extension": ".py", 
            "version": "3.5.2", 
            "codemirror_mode": {
                "version": 3, 
                "name": "ipython"
            }
        }
    }
}