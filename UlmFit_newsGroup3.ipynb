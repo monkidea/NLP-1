{
  "nbformat": 4,
  "nbformat_minor": 0,
  "metadata": {
    "colab": {
      "name": "UlmFit_newsGroup3.ipynb",
      "provenance": [],
      "collapsed_sections": [],
      "include_colab_link": true
    },
    "kernelspec": {
      "name": "python3",
      "display_name": "Python 3"
    },
    "accelerator": "GPU"
  },
  "cells": [
    {
      "cell_type": "markdown",
      "metadata": {
        "id": "view-in-github",
        "colab_type": "text"
      },
      "source": [
        "<a href=\"https://colab.research.google.com/github/ronykroy/DNN-NLP-and-other-stuff/blob/master/UlmFit_newsGroup3.ipynb\" target=\"_parent\"><img src=\"https://colab.research.google.com/assets/colab-badge.svg\" alt=\"Open In Colab\"/></a>"
      ]
    },
    {
      "cell_type": "code",
      "metadata": {
        "id": "mN-c0d1Wbone",
        "colab_type": "code",
        "colab": {}
      },
      "source": [
        "# 3is the base line 4 is deeper training\n",
        "# based on https://github.com/fastai/course-v3/blob/master/nbs/dl1/lesson3-imdb.ipynb\n",
        "# but usgin newsgroups data..."
      ],
      "execution_count": 0,
      "outputs": []
    },
    {
      "cell_type": "code",
      "metadata": {
        "id": "BtoluY-3XIWd",
        "colab_type": "code",
        "colab": {}
      },
      "source": [
        "%reload_ext autoreload\n",
        "%autoreload 2\n",
        "%matplotlib inline"
      ],
      "execution_count": 0,
      "outputs": []
    },
    {
      "cell_type": "code",
      "metadata": {
        "id": "z3sW77aLXAjQ",
        "colab_type": "code",
        "colab": {}
      },
      "source": [
        "import fastai\n",
        "from fastai import *\n",
        "from fastai.text import * \n",
        "import pandas as pd\n",
        "import numpy as np\n",
        "from functools import partial\n",
        "import io\n",
        "import os"
      ],
      "execution_count": 0,
      "outputs": []
    },
    {
      "cell_type": "code",
      "metadata": {
        "id": "EnnjWjFpXKOx",
        "colab_type": "code",
        "colab": {}
      },
      "source": [
        "from sklearn.datasets import fetch_20newsgroups\n",
        "dataset = fetch_20newsgroups(shuffle=True, random_state=1, remove=('headers', 'footers', 'quotes'))\n",
        "documents = dataset.data"
      ],
      "execution_count": 0,
      "outputs": []
    },
    {
      "cell_type": "code",
      "metadata": {
        "id": "_ZAiOxKjXaPh",
        "colab_type": "code",
        "outputId": "09f1f415-779d-43ee-c943-066133e0cd1f",
        "colab": {
          "base_uri": "https://localhost:8080/",
          "height": 34
        }
      },
      "source": [
        "type(documents)"
      ],
      "execution_count": 83,
      "outputs": [
        {
          "output_type": "execute_result",
          "data": {
            "text/plain": [
              "list"
            ]
          },
          "metadata": {
            "tags": []
          },
          "execution_count": 83
        }
      ]
    },
    {
      "cell_type": "code",
      "metadata": {
        "id": "ZOx8QifIXd15",
        "colab_type": "code",
        "colab": {}
      },
      "source": [
        "df = pd.DataFrame({'label':dataset.target, 'text':dataset.data})"
      ],
      "execution_count": 0,
      "outputs": []
    },
    {
      "cell_type": "code",
      "metadata": {
        "id": "imuBy_qwptXg",
        "colab_type": "code",
        "outputId": "626af104-b325-4366-eeb9-179a4e526c21",
        "colab": {
          "base_uri": "https://localhost:8080/",
          "height": 34
        }
      },
      "source": [
        "df.shape"
      ],
      "execution_count": 85,
      "outputs": [
        {
          "output_type": "execute_result",
          "data": {
            "text/plain": [
              "(11314, 2)"
            ]
          },
          "metadata": {
            "tags": []
          },
          "execution_count": 85
        }
      ]
    },
    {
      "cell_type": "code",
      "metadata": {
        "id": "2f_JnhOWpmnW",
        "colab_type": "code",
        "colab": {}
      },
      "source": [
        "df.dropna(inplace=True)"
      ],
      "execution_count": 0,
      "outputs": []
    },
    {
      "cell_type": "code",
      "metadata": {
        "id": "32faljnbpvhe",
        "colab_type": "code",
        "outputId": "925dbf18-e885-43d1-a952-f654989cef66",
        "colab": {
          "base_uri": "https://localhost:8080/",
          "height": 34
        }
      },
      "source": [
        "df.shape"
      ],
      "execution_count": 87,
      "outputs": [
        {
          "output_type": "execute_result",
          "data": {
            "text/plain": [
              "(11314, 2)"
            ]
          },
          "metadata": {
            "tags": []
          },
          "execution_count": 87
        }
      ]
    },
    {
      "cell_type": "code",
      "metadata": {
        "id": "vc8XKu-wae7x",
        "colab_type": "code",
        "colab": {}
      },
      "source": [
        "path_d  = pathlib.PosixPath('/sample_data2')"
      ],
      "execution_count": 0,
      "outputs": []
    },
    {
      "cell_type": "code",
      "metadata": {
        "id": "5C3NBiATw_DC",
        "colab_type": "code",
        "outputId": "b9eebde3-68fb-4c77-cc09-23afeb540c85",
        "colab": {
          "base_uri": "https://localhost:8080/",
          "height": 34
        }
      },
      "source": [
        "os.path.exists(path_d)"
      ],
      "execution_count": 89,
      "outputs": [
        {
          "output_type": "execute_result",
          "data": {
            "text/plain": [
              "True"
            ]
          },
          "metadata": {
            "tags": []
          },
          "execution_count": 89
        }
      ]
    },
    {
      "cell_type": "code",
      "metadata": {
        "id": "OQgheLlxxBTG",
        "colab_type": "code",
        "outputId": "d6ed3821-bd85-4404-f09c-86c7c57dac51",
        "colab": {
          "base_uri": "https://localhost:8080/",
          "height": 34
        }
      },
      "source": [
        "path_d"
      ],
      "execution_count": 90,
      "outputs": [
        {
          "output_type": "execute_result",
          "data": {
            "text/plain": [
              "PosixPath('/sample_data2')"
            ]
          },
          "metadata": {
            "tags": []
          },
          "execution_count": 90
        }
      ]
    },
    {
      "cell_type": "code",
      "metadata": {
        "id": "CT-VkljhhyV5",
        "colab_type": "code",
        "colab": {}
      },
      "source": [
        "if not os.path.exists(path_d):\n",
        "    os.mkdir(path_d) # if the path doesnt exist make it..."
      ],
      "execution_count": 0,
      "outputs": []
    },
    {
      "cell_type": "code",
      "metadata": {
        "id": "pse9KdrHhcXE",
        "colab_type": "code",
        "outputId": "6cf5bc6d-0c55-4850-ca8b-09ffd58083bf",
        "colab": {
          "base_uri": "https://localhost:8080/",
          "height": 34
        }
      },
      "source": [
        "path_d/'texts.csv'"
      ],
      "execution_count": 92,
      "outputs": [
        {
          "output_type": "execute_result",
          "data": {
            "text/plain": [
              "PosixPath('/sample_data2/texts.csv')"
            ]
          },
          "metadata": {
            "tags": []
          },
          "execution_count": 92
        }
      ]
    },
    {
      "cell_type": "code",
      "metadata": {
        "id": "gsFGzqDciaEf",
        "colab_type": "code",
        "colab": {}
      },
      "source": [
        "df.rename({'label':'target','text':text},inplace=True)"
      ],
      "execution_count": 0,
      "outputs": []
    },
    {
      "cell_type": "code",
      "metadata": {
        "id": "E0_6NKfvZ3b3",
        "colab_type": "code",
        "colab": {}
      },
      "source": [
        "df.to_csv(path_d/'texts.csv',index=False)"
      ],
      "execution_count": 0,
      "outputs": []
    },
    {
      "cell_type": "code",
      "metadata": {
        "id": "79_hPn4Bi42l",
        "colab_type": "code",
        "colab": {}
      },
      "source": [
        "bs=16# reduced from 48"
      ],
      "execution_count": 0,
      "outputs": []
    },
    {
      "cell_type": "code",
      "metadata": {
        "id": "DFmNXF7LperX",
        "colab_type": "code",
        "colab": {}
      },
      "source": [
        "# path"
      ],
      "execution_count": 0,
      "outputs": []
    },
    {
      "cell_type": "code",
      "metadata": {
        "id": "YmzyC55cs97i",
        "colab_type": "code",
        "colab": {}
      },
      "source": [
        "from sklearn.model_selection import train_test_split\n",
        "df_trn, df_val = train_test_split(df, stratify = df['label'], test_size = 0.4, random_state = 12) # test_size is name sake\n",
        "# test train split gives you just that test and train\n",
        "# use twice.. 2nd time on train to get a separate test nd val set..."
      ],
      "execution_count": 0,
      "outputs": []
    },
    {
      "cell_type": "code",
      "metadata": {
        "id": "4PYKcu7DXoXY",
        "colab_type": "code",
        "colab": {}
      },
      "source": [
        "data_lm = TextLMDataBunch.from_df(train_df = df_trn, valid_df = df_val, path = path_d)"
      ],
      "execution_count": 0,
      "outputs": []
    },
    {
      "cell_type": "code",
      "metadata": {
        "id": "OPsuE3nwYNu1",
        "colab_type": "code",
        "outputId": "27505e9a-dac6-4cdc-8233-7387799c94c9",
        "colab": {
          "base_uri": "https://localhost:8080/",
          "height": 70
        }
      },
      "source": [
        "data_lm.save( path_d/'data_lm.pkl') # saving as a back stop"
      ],
      "execution_count": 99,
      "outputs": [
        {
          "output_type": "stream",
          "text": [
            "/usr/local/lib/python3.6/dist-packages/torch/serialization.py:292: UserWarning: Couldn't retrieve source code for container of type CrossEntropyLoss. It won't be checked for correctness upon loading.\n",
            "  \"type \" + obj.__name__ + \". It won't be checked \"\n"
          ],
          "name": "stderr"
        }
      ]
    },
    {
      "cell_type": "code",
      "metadata": {
        "id": "khxbyXAcwlzR",
        "colab_type": "code",
        "outputId": "65aff43e-9f89-4a15-9e8d-3b5d2736c142",
        "colab": {
          "base_uri": "https://localhost:8080/",
          "height": 34
        }
      },
      "source": [
        "ls /sample_data2/"
      ],
      "execution_count": 100,
      "outputs": [
        {
          "output_type": "stream",
          "text": [
            "data_lm.pkl  \u001b[0m\u001b[01;34mmodels\u001b[0m/  texts.csv\n"
          ],
          "name": "stdout"
        }
      ]
    },
    {
      "cell_type": "code",
      "metadata": {
        "id": "tyKet0ZatiiK",
        "colab_type": "code",
        "colab": {}
      },
      "source": [
        "data_lm = load_data( '/sample_data2','data_lm.pkl', bs=bs) # jesus... give the path and the file in to which this was saved earlier.. "
      ],
      "execution_count": 0,
      "outputs": []
    },
    {
      "cell_type": "code",
      "metadata": {
        "id": "65QLsCDRYOQw",
        "colab_type": "code",
        "outputId": "66ba6dd6-e3b2-4415-ab52-efe88e749bab",
        "colab": {
          "base_uri": "https://localhost:8080/",
          "height": 279
        }
      },
      "source": [
        "data_lm.show_batch()"
      ],
      "execution_count": 102,
      "outputs": [
        {
          "output_type": "display_data",
          "data": {
            "text/html": [
              "<table border=\"1\" class=\"dataframe\">\n",
              "  <thead>\n",
              "    <tr style=\"text-align: right;\">\n",
              "      <th>idx</th>\n",
              "      <th>text</th>\n",
              "    </tr>\n",
              "  </thead>\n",
              "  <tbody>\n",
              "    <tr>\n",
              "      <td>0</td>\n",
              "      <td>abuse \" and such , or course . \\n  xxmaj nobody seems to have noticed that the xxmaj treasury department has nothing \\n  to do with sex crimes . xxmaj or maybe the feds have recently instituted a \\n  xxup tax on sex crimes ... xxmaj yeah , that 's why the xxup batf was there , looking for \\n  unregistered * guns * ( \"</td>\n",
              "    </tr>\n",
              "    <tr>\n",
              "      <td>1</td>\n",
              "      <td>forward essentially . \\n \\t \\n \\t  xxmaj but in terms of what is coming out of this weekend , \\n  i do n't yet know . xxmaj in a couple hours we 'll know . \\n \\t \\n \\t  q ? \\t  xxmaj just a follow - up on the financing here . xxmaj is \\n  any of this robbing xxmaj peter to pay</td>\n",
              "    </tr>\n",
              "    <tr>\n",
              "      <td>2</td>\n",
              "      <td>have helped a little \\n  and good luck with the _ xxmaj oxygen sensor _ ? \\n \\n \\t\\t\\t\\t - xxmaj thomas - xxbos xxmaj for those of you interested , i just finished talking with a \\n  representative of xxmaj senator xxmaj bob xxmaj krueger 's xxunk campaign about his \\n  position on the xxup rtkba . xxmaj krueger was appointed by the xxmaj democratic xxmaj</td>\n",
              "    </tr>\n",
              "    <tr>\n",
              "      <td>3</td>\n",
              "      <td>project on xxunk performance , and have a \\n  wealth of data on particle size and output which we are going to use \\n  to xxunk a contract next week . \\n \\n  xxmaj although the output data is easy for us to present , there seems to be \\n  little concensus on the optimum diameter of the xxunk droplets for \\n  straightforward inhalation therapy</td>\n",
              "    </tr>\n",
              "    <tr>\n",
              "      <td>4</td>\n",
              "      <td>- 870 - 0300 ) include a multi - font xxup xxunk document composer ; for several \\n  systems . \\n \\n \\t arbortext , xxmaj inc. provides an xxup x11 version of its xxmaj electronic xxmaj publishing \\n  program called \" xxmaj the xxmaj publisher \" . xxmaj the xxmaj publisher is available on xxmaj sun , xxup hp and \\n  xxmaj apollo workstations . xxmaj</td>\n",
              "    </tr>\n",
              "  </tbody>\n",
              "</table>"
            ],
            "text/plain": [
              "<IPython.core.display.HTML object>"
            ]
          },
          "metadata": {
            "tags": []
          }
        }
      ]
    },
    {
      "cell_type": "code",
      "metadata": {
        "id": "bb5qlPynYPZM",
        "colab_type": "code",
        "colab": {}
      },
      "source": [
        "learn = language_model_learner(data_lm, AWD_LSTM, drop_mult=0.7) # was 0.3\n",
        "# drop_mult ::hyper-parameter \n",
        "# used for regularization, sets the amount of dropout{duh}\n",
        "#If the model is over-fitting increase it, if under-fitting, you can decrease the number{again duh} but just a reminder if you are confounded by it again\n",
        "# source:: https://www.analyticsvidhya.com/blog/2018/11/tutorial-text-classification-ulmfit-fastai-library/"
      ],
      "execution_count": 0,
      "outputs": []
    },
    {
      "cell_type": "code",
      "metadata": {
        "id": "Z7KaRyQ-YQmI",
        "colab_type": "code",
        "outputId": "816444c6-e4e4-4527-90b0-823d60d435ac",
        "colab": {
          "base_uri": "https://localhost:8080/",
          "height": 34
        }
      },
      "source": [
        "learn.lr_find()"
      ],
      "execution_count": 104,
      "outputs": [
        {
          "output_type": "display_data",
          "data": {
            "text/html": [
              ""
            ],
            "text/plain": [
              "<IPython.core.display.HTML object>"
            ]
          },
          "metadata": {
            "tags": []
          }
        },
        {
          "output_type": "stream",
          "text": [
            "LR Finder is complete, type {learner_name}.recorder.plot() to see the graph.\n"
          ],
          "name": "stdout"
        }
      ]
    },
    {
      "cell_type": "code",
      "metadata": {
        "id": "f9_1I7xaaF42",
        "colab_type": "code",
        "outputId": "7e0a6454-1447-42ac-9d33-8921fbe17ac6",
        "colab": {
          "base_uri": "https://localhost:8080/",
          "height": 283
        }
      },
      "source": [
        "learn.recorder.plot(skip_end=15)"
      ],
      "execution_count": 105,
      "outputs": [
        {
          "output_type": "display_data",
          "data": {
            "image/png": "[encoded data removed]",
            "text/plain": [
              "<Figure size 432x288 with 1 Axes>"
            ]
          },
          "metadata": {
            "tags": []
          }
        }
      ]
    },
    {
      "cell_type": "code",
      "metadata": {
        "id": "qOlRvNPFaIVU",
        "colab_type": "code",
        "outputId": "aca414fa-5c35-4a80-955b-ca09925c4b4f",
        "colab": {
          "base_uri": "https://localhost:8080/",
          "height": 136
        }
      },
      "source": [
        "learn.fit_one_cycle(3, 1e-2, moms=(0.8,0.7)) # 1e-2 works fair enough as usual\n",
        "# theoretically you keep training for as long as the loss keeps decreasing...\n",
        "# the accuracy's [or any other metric] calcualtion is done to show where your model stands after that epoch\n",
        "#  overfitting udnerfitting is a concern.. when you are doing a lot of epochs.. for a few epochs go by the above"
      ],
      "execution_count": 110,
      "outputs": [
        {
          "output_type": "display_data",
          "data": {
            "text/html": [
              "<table border=\"1\" class=\"dataframe\">\n",
              "  <thead>\n",
              "    <tr style=\"text-align: left;\">\n",
              "      <th>epoch</th>\n",
              "      <th>train_loss</th>\n",
              "      <th>valid_loss</th>\n",
              "      <th>accuracy</th>\n",
              "      <th>time</th>\n",
              "    </tr>\n",
              "  </thead>\n",
              "  <tbody>\n",
              "    <tr>\n",
              "      <td>0</td>\n",
              "      <td>4.385291</td>\n",
              "      <td>4.233065</td>\n",
              "      <td>0.270084</td>\n",
              "      <td>09:48</td>\n",
              "    </tr>\n",
              "    <tr>\n",
              "      <td>1</td>\n",
              "      <td>4.544013</td>\n",
              "      <td>4.118543</td>\n",
              "      <td>0.278826</td>\n",
              "      <td>09:40</td>\n",
              "    </tr>\n",
              "    <tr>\n",
              "      <td>2</td>\n",
              "      <td>4.285003</td>\n",
              "      <td>4.020329</td>\n",
              "      <td>0.292102</td>\n",
              "      <td>09:39</td>\n",
              "    </tr>\n",
              "  </tbody>\n",
              "</table>"
            ],
            "text/plain": [
              "<IPython.core.display.HTML object>"
            ]
          },
          "metadata": {
            "tags": []
          }
        }
      ]
    },
    {
      "cell_type": "markdown",
      "metadata": {
        "id": "1wSzjXCo0I5k",
        "colab_type": "text"
      },
      "source": [
        "For a language model the accuracy being low is fine.."
      ]
    },
    {
      "cell_type": "code",
      "metadata": {
        "id": "JkPe_fULup7n",
        "colab_type": "code",
        "colab": {}
      },
      "source": [
        "learn.save('fit_head') # fit_head nomenclature: etymology: because we trained only for th last layer.. head of the model...?maybe so"
      ],
      "execution_count": 0,
      "outputs": []
    },
    {
      "cell_type": "code",
      "metadata": {
        "id": "sp-9-J7NurlY",
        "colab_type": "code",
        "colab": {}
      },
      "source": [
        "learn.load('fit_head');"
      ],
      "execution_count": 0,
      "outputs": []
    },
    {
      "cell_type": "code",
      "metadata": {
        "id": "4pSxeSx-us5L",
        "colab_type": "code",
        "colab": {}
      },
      "source": [
        "learn.unfreeze() # unfreeze all layers to compete the training of full model"
      ],
      "execution_count": 0,
      "outputs": []
    },
    {
      "cell_type": "code",
      "metadata": {
        "id": "YGLkeVUjwiPm",
        "colab_type": "code",
        "outputId": "f3819ae5-d849-4470-bbf2-4be8fa1ac785",
        "colab": {
          "base_uri": "https://localhost:8080/",
          "height": 225
        }
      },
      "source": [
        "learn.fit_one_cycle(6, 1e-3, moms=(0.8,0.7)) # originally 10 cycles but we dont have time :)"
      ],
      "execution_count": 114,
      "outputs": [
        {
          "output_type": "display_data",
          "data": {
            "text/html": [
              "<table border=\"1\" class=\"dataframe\">\n",
              "  <thead>\n",
              "    <tr style=\"text-align: left;\">\n",
              "      <th>epoch</th>\n",
              "      <th>train_loss</th>\n",
              "      <th>valid_loss</th>\n",
              "      <th>accuracy</th>\n",
              "      <th>time</th>\n",
              "    </tr>\n",
              "  </thead>\n",
              "  <tbody>\n",
              "    <tr>\n",
              "      <td>0</td>\n",
              "      <td>3.791799</td>\n",
              "      <td>3.842836</td>\n",
              "      <td>0.317264</td>\n",
              "      <td>10:53</td>\n",
              "    </tr>\n",
              "    <tr>\n",
              "      <td>1</td>\n",
              "      <td>3.743700</td>\n",
              "      <td>3.821657</td>\n",
              "      <td>0.326245</td>\n",
              "      <td>10:53</td>\n",
              "    </tr>\n",
              "    <tr>\n",
              "      <td>2</td>\n",
              "      <td>3.570505</td>\n",
              "      <td>3.724357</td>\n",
              "      <td>0.342541</td>\n",
              "      <td>10:58</td>\n",
              "    </tr>\n",
              "    <tr>\n",
              "      <td>3</td>\n",
              "      <td>3.482038</td>\n",
              "      <td>3.674882</td>\n",
              "      <td>0.351830</td>\n",
              "      <td>11:00</td>\n",
              "    </tr>\n",
              "    <tr>\n",
              "      <td>4</td>\n",
              "      <td>3.350525</td>\n",
              "      <td>3.643360</td>\n",
              "      <td>0.357335</td>\n",
              "      <td>11:01</td>\n",
              "    </tr>\n",
              "    <tr>\n",
              "      <td>5</td>\n",
              "      <td>3.077419</td>\n",
              "      <td>3.649883</td>\n",
              "      <td>0.357677</td>\n",
              "      <td>11:02</td>\n",
              "    </tr>\n",
              "  </tbody>\n",
              "</table>"
            ],
            "text/plain": [
              "<IPython.core.display.HTML object>"
            ]
          },
          "metadata": {
            "tags": []
          }
        }
      ]
    },
    {
      "cell_type": "code",
      "metadata": {
        "id": "QrWK-8bv7DQP",
        "colab_type": "code",
        "colab": {}
      },
      "source": [
        "learn.fit_one_cycle(2, 1e-3, moms=(0.8,0.7)) # lets do two more because we are feeling generous :P"
      ],
      "execution_count": 0,
      "outputs": []
    },
    {
      "cell_type": "code",
      "metadata": {
        "id": "09iBIDOHwqnk",
        "colab_type": "code",
        "colab": {}
      },
      "source": [
        "learn.save('fine_tuned') # save # stop gap"
      ],
      "execution_count": 0,
      "outputs": []
    },
    {
      "cell_type": "code",
      "metadata": {
        "id": "EQFzVeb4wsIW",
        "colab_type": "code",
        "colab": {}
      },
      "source": [
        "learn.load('fine_tuned');"
      ],
      "execution_count": 0,
      "outputs": []
    },
    {
      "cell_type": "code",
      "metadata": {
        "id": "gWjoRXTAwtfZ",
        "colab_type": "code",
        "colab": {}
      },
      "source": [
        "TEXT = \"and today\"\n",
        "N_WORDS = 40\n",
        "N_SENTENCES = 2 # test how good the model is at predicting the next few words"
      ],
      "execution_count": 0,
      "outputs": []
    },
    {
      "cell_type": "code",
      "metadata": {
        "id": "EFpqJFomwySW",
        "colab_type": "code",
        "outputId": "047efcc5-ecfe-496b-8419-f0669c880433",
        "colab": {
          "base_uri": "https://localhost:8080/",
          "height": 168
        }
      },
      "source": [
        "print(\"\\n\".join(learn.predict(TEXT, N_WORDS, temperature=0.75) for _ in range(N_SENTENCES)))"
      ],
      "execution_count": 119,
      "outputs": [
        {
          "output_type": "stream",
          "text": [
            "and today they 're in the process of iraqi control over the \n",
            "  Fbi and other criminals . \n",
            " \n",
            "  The Fbi , who are now going to be there , will be the \n",
            "  FBI 's .\n",
            "and today i got a very good news message which developed a \n",
            "  simple way to make the Clipper algorithm work , but it ca n't \n",
            "  be easily realized by anyone . i have n't heard of any decent \n",
            " \n"
          ],
          "name": "stdout"
        }
      ]
    },
    {
      "cell_type": "code",
      "metadata": {
        "id": "EQhObiecwzyw",
        "colab_type": "code",
        "colab": {}
      },
      "source": [
        "learn.save_encoder('fine_tuned_enc') # we need the encoder in particular.. not exactly the model that predicts next word"
      ],
      "execution_count": 0,
      "outputs": []
    },
    {
      "cell_type": "markdown",
      "metadata": {
        "id": "BOzGi3dcX6YN",
        "colab_type": "text"
      },
      "source": [
        "### The Actual Classifier"
      ]
    },
    {
      "cell_type": "code",
      "metadata": {
        "id": "QyjOp2IzE0MB",
        "colab_type": "code",
        "colab": {}
      },
      "source": [
        "# Classifier model data\n",
        "data_clas = TextClasDataBunch.from_df(path = path_d, train_df = df_trn, valid_df = df_val, vocab=data_lm.train_ds.vocab, bs=bs)"
      ],
      "execution_count": 0,
      "outputs": []
    },
    {
      "cell_type": "code",
      "metadata": {
        "id": "pt9KG8sSEnjS",
        "colab_type": "code",
        "colab": {}
      },
      "source": [
        "learn = text_classifier_learner(data_clas, AWD_LSTM, drop_mult=0.5) # the actual classifier"
      ],
      "execution_count": 0,
      "outputs": []
    },
    {
      "cell_type": "code",
      "metadata": {
        "id": "JuBQhtt0FZr0",
        "colab_type": "code",
        "colab": {
          "base_uri": "https://localhost:8080/",
          "height": 1000
        },
        "outputId": "44f3244f-8eff-495e-c642-6aaa94748d47"
      },
      "source": [
        "learn.load_encoder('fine_tuned_enc')"
      ],
      "execution_count": 123,
      "outputs": [
        {
          "output_type": "execute_result",
          "data": {
            "text/plain": [
              "RNNLearner(data=TextClasDataBunch;\n",
              "\n",
              "Train: LabelList (6788 items)\n",
              "x: TextList\n",
              "xxbos \n",
              " \n",
              "  xxup cnn just claimed he bought 104 \" semi - automatic assault rifles \" . xxmaj and \n",
              "  they say xxmaj koresh was n't god - like ... xxmaj he managed to buy or build a \n",
              "  collection of fully - automatic semi - automatic rifles ... xxmaj quite a feat , \n",
              "  i would say . ;-) \n",
              " \n",
              "  xxmaj they 're still making charges of \" sexual abuse \" and such , or course . \n",
              "  xxmaj nobody seems to have noticed that the xxmaj treasury department has nothing \n",
              "  to do with sex crimes . xxmaj or maybe the feds have recently instituted a \n",
              "  xxup tax on sex crimes ... xxmaj yeah , that 's why the xxup batf was there , looking for \n",
              "  unregistered * guns * ( \" this is my weapon , this is my gun , this is for \n",
              "  fighting , this is for ... \" ) . \n",
              " \n",
              " \n",
              "  i also heard that they 're claiming to be cautious because of xxmaj koresh 's \n",
              "  \" heated ammunition stockpile \" . i seem to recall that smokeless powder \n",
              "  tends to decompose at even moderate temperatures . i would be rather \n",
              "  surprised , after a fire of that nature , if * any * of his \" stockpile \" is \n",
              "  xxunk , or xxunk . \n",
              " \n",
              " \n",
              "  i seem to recall that aluminum powder is a common component of \n",
              "  xxunk ... xxmaj the folks on xxunk could probably tell you . \n",
              " \n",
              " \n",
              "  i think * anything * is legal if you have the proper license . xxmaj if he had \n",
              "  a \" xxunk and relics \" permit , i believe he could legally own \n",
              "  xxunk to go with his launcher . \n",
              " \n",
              "  -- \n",
              "  xxmaj charles xxmaj scripter * cescript@phy.mtu.edu \n",
              "  xxmaj dept of xxmaj physics , xxmaj michigan xxmaj tech , xxmaj houghton , xxup mi 49931,xxbos xxmaj hi , \n",
              " \t i am looking for some help in choosing a package \n",
              "  for a high - speed silicon xxup adc ( 100mhz ) currently being \n",
              "  fabricated . xxmaj this is a phd research project and i have to test \n",
              "  the chip at speed on a xxup pcb . i expect to have roughly 100 \n",
              "  packaged circuits and will do xxup dc , low - speed and high - speed \n",
              "  testing using 3 different set - ups for the test chip . \n",
              " \t \n",
              " \t i know for sure that a xxup dip will not work \n",
              "  ( the long lead lines have too high an inductance ) . \n",
              "  xxmaj getting a custom - made package is too expensive , so \n",
              "  i am trying to choose between a xxunk and a \n",
              "  leadless chip carrier . xxmaj the xxunk would be hard \n",
              "  to test since it has to be soldered on to the test \n",
              "  setup and i would spend loads of time soldering \n",
              "  as i kept changing the test chip . xxmaj the leadless chip \n",
              "  carrier sockets also have long lead lines and may \n",
              "  not work at high speeds . \n",
              " \n",
              " \t xxmaj does anyone out there have experience / knowledge \n",
              "  of this field ? i would greatly appreciate help ! xxmaj any ideas / \n",
              "  names of companies manufacturing holders / sockets / packages \n",
              "  would help . \n",
              " \n",
              "  xxup p.s. xxmaj the multi - layer fancy gaas packages seem like a bit \n",
              "  of overkill ( ? ),xxbos \n",
              "  i really do n't understand all this ! i watched on satellite network feeds as \n",
              "  perhaps 90 people died before my eyes , while the two xxmaj xxunk 's fanned the flames , \n",
              "  and the xxup fbi stopped the xxunk at the gate . \n",
              " \n",
              "  xxmaj something was xxup very wrong with that scene . \n",
              " \n",
              "  xxmaj perhaps if i 'd watched xxup rambo movies , i might 've been xxunk to the pain of \n",
              "  fellow humans dying . \n",
              " \n",
              "  xxmaj thank xxup god i still feel . i 'm very sorry for you who do n't . xxmaj for you who think \n",
              "  they got what they deserved . xxmaj can you really believe that ? xxmaj even if xxmaj koresh was \n",
              "  the xxunk mad man they said he was , did the others deserve his fate ? xxmaj if , \n",
              "  in fact , he was mad , was n't that even more reason to believe he duped his \n",
              "  followers , and therefore they were innocent , brainwashed , victims ? xxmaj is there \n",
              "  any xxunk that justifies all that death ? \n",
              " \n",
              "  xxmaj and if not , it is clear that the deaths would not have occured if the xxup batf has \n",
              "  not xxup fucked xxup up initially , and now the xxup fbi got xxunk and pushed xxmaj xxunk over \n",
              "  the edge . \n",
              " \n",
              "  xxmaj and that 's if you buy the latest version of the \" story \" hook , line , and xxunk . \n",
              "  i have believed all along that they could not let them live , the embarrassment \n",
              "  to the xxup batf and the xxup fbi would 've been too severe . \n",
              " \n",
              "  xxmaj remember , this was a suspicion of tax - evasion warrant . xxmaj there were no \n",
              "  witnesses , except the xxup fbi . xxmaj all information filtered through the xxup fbi . xxmaj all they \n",
              "  had to do was allow one remote controlled pool camera be installed near the \n",
              "  building , and the press could 've done their job , and would 've been able to back \n",
              "  the xxup fbi 's story with close up video , while xxunk no risk to the press . \n",
              "  xxmaj unless they did not want the public to see something . xxmaj the complete lack of any \n",
              "  other source of information other than the xxup fbi really causes me concern . \n",
              " \n",
              " \n",
              "  xxmaj sick to my stomach , and getting xxunk from all the xxmaj government apologists \n",
              "  -- \n",
              "  jmd@handheld.com,xxbos xxmaj however , this has nothing to do with motorcycling , unless you consider \n",
              "  the xxmaj xxunk a bike .,xxbos i have a novell xxunk that i will sell for $ 692 which can be upgraded to 3.11 \n",
              "  for $ 460 . xxmaj the novell has complete documentation but no network cards except \n",
              "  the xxup id card . \n",
              " \n",
              " \n",
              "  --\n",
              "y: CategoryList\n",
              "16,12,16,8,6\n",
              "Path: /sample_data2;\n",
              "\n",
              "Valid: LabelList (4526 items)\n",
              "x: TextList\n",
              "xxbos \n",
              " \n",
              " \n",
              "  xxmaj and still we wonder why they stereotype us ...,xxbos \n",
              "  i 've been a member of the xxup nra for several years and recently \" joined \" \n",
              "  xxup hci . i wanted to see what they were up to and paid the minimum ( $ 15 ) \n",
              "  to get a membership . i also sent the xxup nra another $ 120 . \n",
              " ,xxbos i have n't seen much info about how to add an extra internal disk to a \n",
              "  mac . xxmaj we would like to try it , and i wonder if someone had some good \n",
              "  advice . \n",
              " \n",
              "  xxmaj we have a xxmaj mac iicx with the original internal xxmaj quantum 40 xxup mb hard disk , \n",
              "  and an unusable floppy drive . xxmaj we also have a new spare xxmaj connor 40 xxup mb \n",
              "  disk which we would like to use . xxmaj the idea is to replace the broken \n",
              "  floppy drive with the new hard disk , but there seems to be some \n",
              "  problems : \n",
              " \n",
              "  xxmaj the internal xxup scsi cable and power cable inside the cx has only \n",
              "  connectors for one single hard disk drive . \n",
              " \n",
              "  xxmaj if i made a ribbon cable and a power cable with three connectors each \n",
              "  ( 1 for motherboard , 1 for each of the 2 disks ) , would it work ? \n",
              " \n",
              "  xxmaj is the iicx able to supply the extra power to the extra disk ? \n",
              " \n",
              "  xxmaj what about xxunk ? i suppose that i should remove the resistor \n",
              "  packs from the disk that is closest to the motherboard , but leave them \n",
              "  installed in the other disk . \n",
              " \n",
              "  xxmaj the xxup scsi xxup id jumpers should also be changed so that the new disk gets \n",
              "  xxup id # 1 . xxmaj the old one should have xxup id # 0 . \n",
              " \n",
              "  xxmaj it is no problem for us to remove the floppy drive , as we have an \n",
              "  external floppy that we can use if it wo n't boot of the hard disk . \n",
              " \n",
              "  xxmaj thank you ! \n",
              " ,xxbos \t  xxrep 6 ^ what the hell xxunk a ' xxunk ' ? ? ( xxunk ( sp ) ) ? ? \n",
              " ,xxbos a question regarding the xxmaj islamic view towards homosexuality came up in a \n",
              "  discussion group that i participate in , and i 'd like to ask the question here , \n",
              " \n",
              "  \" xxmaj what is the xxmaj islamic view towards homosexuality ? \"\n",
              "y: CategoryList\n",
              "8,16,4,6,19\n",
              "Path: /sample_data2;\n",
              "\n",
              "Test: None, model=SequentialRNN(\n",
              "  (0): MultiBatchEncoder(\n",
              "    (module): AWD_LSTM(\n",
              "      (encoder): Embedding(33120, 400, padding_idx=1)\n",
              "      (encoder_dp): EmbeddingDropout(\n",
              "        (emb): Embedding(33120, 400, padding_idx=1)\n",
              "      )\n",
              "      (rnns): ModuleList(\n",
              "        (0): WeightDropout(\n",
              "          (module): LSTM(400, 1152, batch_first=True)\n",
              "        )\n",
              "        (1): WeightDropout(\n",
              "          (module): LSTM(1152, 1152, batch_first=True)\n",
              "        )\n",
              "        (2): WeightDropout(\n",
              "          (module): LSTM(1152, 400, batch_first=True)\n",
              "        )\n",
              "      )\n",
              "      (input_dp): RNNDropout()\n",
              "      (hidden_dps): ModuleList(\n",
              "        (0): RNNDropout()\n",
              "        (1): RNNDropout()\n",
              "        (2): RNNDropout()\n",
              "      )\n",
              "    )\n",
              "  )\n",
              "  (1): PoolingLinearClassifier(\n",
              "    (layers): Sequential(\n",
              "      (0): BatchNorm1d(1200, eps=1e-05, momentum=0.1, affine=True, track_running_stats=True)\n",
              "      (1): Dropout(p=0.2, inplace=False)\n",
              "      (2): Linear(in_features=1200, out_features=50, bias=True)\n",
              "      (3): ReLU(inplace=True)\n",
              "      (4): BatchNorm1d(50, eps=1e-05, momentum=0.1, affine=True, track_running_stats=True)\n",
              "      (5): Dropout(p=0.1, inplace=False)\n",
              "      (6): Linear(in_features=50, out_features=20, bias=True)\n",
              "    )\n",
              "  )\n",
              "), opt_func=functools.partial(<class 'torch.optim.adam.Adam'>, betas=(0.9, 0.99)), loss_func=FlattenedLoss of CrossEntropyLoss(), metrics=[<function accuracy at 0x7f66ddb72ea0>], true_wd=True, bn_wd=True, wd=0.01, train_bn=True, path=PosixPath('/sample_data2'), model_dir='models', callback_fns=[functools.partial(<class 'fastai.basic_train.Recorder'>, add_time=True, silent=False)], callbacks=[RNNTrainer\n",
              "learn: RNNLearner(data=TextClasDataBunch;\n",
              "\n",
              "Train: LabelList (6788 items)\n",
              "x: TextList\n",
              "xxbos \n",
              " \n",
              "  xxup cnn just claimed he bought 104 \" semi - automatic assault rifles \" . xxmaj and \n",
              "  they say xxmaj koresh was n't god - like ... xxmaj he managed to buy or build a \n",
              "  collection of fully - automatic semi - automatic rifles ... xxmaj quite a feat , \n",
              "  i would say . ;-) \n",
              " \n",
              "  xxmaj they 're still making charges of \" sexual abuse \" and such , or course . \n",
              "  xxmaj nobody seems to have noticed that the xxmaj treasury department has nothing \n",
              "  to do with sex crimes . xxmaj or maybe the feds have recently instituted a \n",
              "  xxup tax on sex crimes ... xxmaj yeah , that 's why the xxup batf was there , looking for \n",
              "  unregistered * guns * ( \" this is my weapon , this is my gun , this is for \n",
              "  fighting , this is for ... \" ) . \n",
              " \n",
              " \n",
              "  i also heard that they 're claiming to be cautious because of xxmaj koresh 's \n",
              "  \" heated ammunition stockpile \" . i seem to recall that smokeless powder \n",
              "  tends to decompose at even moderate temperatures . i would be rather \n",
              "  surprised , after a fire of that nature , if * any * of his \" stockpile \" is \n",
              "  xxunk , or xxunk . \n",
              " \n",
              " \n",
              "  i seem to recall that aluminum powder is a common component of \n",
              "  xxunk ... xxmaj the folks on xxunk could probably tell you . \n",
              " \n",
              " \n",
              "  i think * anything * is legal if you have the proper license . xxmaj if he had \n",
              "  a \" xxunk and relics \" permit , i believe he could legally own \n",
              "  xxunk to go with his launcher . \n",
              " \n",
              "  -- \n",
              "  xxmaj charles xxmaj scripter * cescript@phy.mtu.edu \n",
              "  xxmaj dept of xxmaj physics , xxmaj michigan xxmaj tech , xxmaj houghton , xxup mi 49931,xxbos xxmaj hi , \n",
              " \t i am looking for some help in choosing a package \n",
              "  for a high - speed silicon xxup adc ( 100mhz ) currently being \n",
              "  fabricated . xxmaj this is a phd research project and i have to test \n",
              "  the chip at speed on a xxup pcb . i expect to have roughly 100 \n",
              "  packaged circuits and will do xxup dc , low - speed and high - speed \n",
              "  testing using 3 different set - ups for the test chip . \n",
              " \t \n",
              " \t i know for sure that a xxup dip will not work \n",
              "  ( the long lead lines have too high an inductance ) . \n",
              "  xxmaj getting a custom - made package is too expensive , so \n",
              "  i am trying to choose between a xxunk and a \n",
              "  leadless chip carrier . xxmaj the xxunk would be hard \n",
              "  to test since it has to be soldered on to the test \n",
              "  setup and i would spend loads of time soldering \n",
              "  as i kept changing the test chip . xxmaj the leadless chip \n",
              "  carrier sockets also have long lead lines and may \n",
              "  not work at high speeds . \n",
              " \n",
              " \t xxmaj does anyone out there have experience / knowledge \n",
              "  of this field ? i would greatly appreciate help ! xxmaj any ideas / \n",
              "  names of companies manufacturing holders / sockets / packages \n",
              "  would help . \n",
              " \n",
              "  xxup p.s. xxmaj the multi - layer fancy gaas packages seem like a bit \n",
              "  of overkill ( ? ),xxbos \n",
              "  i really do n't understand all this ! i watched on satellite network feeds as \n",
              "  perhaps 90 people died before my eyes , while the two xxmaj xxunk 's fanned the flames , \n",
              "  and the xxup fbi stopped the xxunk at the gate . \n",
              " \n",
              "  xxmaj something was xxup very wrong with that scene . \n",
              " \n",
              "  xxmaj perhaps if i 'd watched xxup rambo movies , i might 've been xxunk to the pain of \n",
              "  fellow humans dying . \n",
              " \n",
              "  xxmaj thank xxup god i still feel . i 'm very sorry for you who do n't . xxmaj for you who think \n",
              "  they got what they deserved . xxmaj can you really believe that ? xxmaj even if xxmaj koresh was \n",
              "  the xxunk mad man they said he was , did the others deserve his fate ? xxmaj if , \n",
              "  in fact , he was mad , was n't that even more reason to believe he duped his \n",
              "  followers , and therefore they were innocent , brainwashed , victims ? xxmaj is there \n",
              "  any xxunk that justifies all that death ? \n",
              " \n",
              "  xxmaj and if not , it is clear that the deaths would not have occured if the xxup batf has \n",
              "  not xxup fucked xxup up initially , and now the xxup fbi got xxunk and pushed xxmaj xxunk over \n",
              "  the edge . \n",
              " \n",
              "  xxmaj and that 's if you buy the latest version of the \" story \" hook , line , and xxunk . \n",
              "  i have believed all along that they could not let them live , the embarrassment \n",
              "  to the xxup batf and the xxup fbi would 've been too severe . \n",
              " \n",
              "  xxmaj remember , this was a suspicion of tax - evasion warrant . xxmaj there were no \n",
              "  witnesses , except the xxup fbi . xxmaj all information filtered through the xxup fbi . xxmaj all they \n",
              "  had to do was allow one remote controlled pool camera be installed near the \n",
              "  building , and the press could 've done their job , and would 've been able to back \n",
              "  the xxup fbi 's story with close up video , while xxunk no risk to the press . \n",
              "  xxmaj unless they did not want the public to see something . xxmaj the complete lack of any \n",
              "  other source of information other than the xxup fbi really causes me concern . \n",
              " \n",
              " \n",
              "  xxmaj sick to my stomach , and getting xxunk from all the xxmaj government apologists \n",
              "  -- \n",
              "  jmd@handheld.com,xxbos xxmaj however , this has nothing to do with motorcycling , unless you consider \n",
              "  the xxmaj xxunk a bike .,xxbos i have a novell xxunk that i will sell for $ 692 which can be upgraded to 3.11 \n",
              "  for $ 460 . xxmaj the novell has complete documentation but no network cards except \n",
              "  the xxup id card . \n",
              " \n",
              " \n",
              "  --\n",
              "y: CategoryList\n",
              "16,12,16,8,6\n",
              "Path: /sample_data2;\n",
              "\n",
              "Valid: LabelList (4526 items)\n",
              "x: TextList\n",
              "xxbos \n",
              " \n",
              " \n",
              "  xxmaj and still we wonder why they stereotype us ...,xxbos \n",
              "  i 've been a member of the xxup nra for several years and recently \" joined \" \n",
              "  xxup hci . i wanted to see what they were up to and paid the minimum ( $ 15 ) \n",
              "  to get a membership . i also sent the xxup nra another $ 120 . \n",
              " ,xxbos i have n't seen much info about how to add an extra internal disk to a \n",
              "  mac . xxmaj we would like to try it , and i wonder if someone had some good \n",
              "  advice . \n",
              " \n",
              "  xxmaj we have a xxmaj mac iicx with the original internal xxmaj quantum 40 xxup mb hard disk , \n",
              "  and an unusable floppy drive . xxmaj we also have a new spare xxmaj connor 40 xxup mb \n",
              "  disk which we would like to use . xxmaj the idea is to replace the broken \n",
              "  floppy drive with the new hard disk , but there seems to be some \n",
              "  problems : \n",
              " \n",
              "  xxmaj the internal xxup scsi cable and power cable inside the cx has only \n",
              "  connectors for one single hard disk drive . \n",
              " \n",
              "  xxmaj if i made a ribbon cable and a power cable with three connectors each \n",
              "  ( 1 for motherboard , 1 for each of the 2 disks ) , would it work ? \n",
              " \n",
              "  xxmaj is the iicx able to supply the extra power to the extra disk ? \n",
              " \n",
              "  xxmaj what about xxunk ? i suppose that i should remove the resistor \n",
              "  packs from the disk that is closest to the motherboard , but leave them \n",
              "  installed in the other disk . \n",
              " \n",
              "  xxmaj the xxup scsi xxup id jumpers should also be changed so that the new disk gets \n",
              "  xxup id # 1 . xxmaj the old one should have xxup id # 0 . \n",
              " \n",
              "  xxmaj it is no problem for us to remove the floppy drive , as we have an \n",
              "  external floppy that we can use if it wo n't boot of the hard disk . \n",
              " \n",
              "  xxmaj thank you ! \n",
              " ,xxbos \t  xxrep 6 ^ what the hell xxunk a ' xxunk ' ? ? ( xxunk ( sp ) ) ? ? \n",
              " ,xxbos a question regarding the xxmaj islamic view towards homosexuality came up in a \n",
              "  discussion group that i participate in , and i 'd like to ask the question here , \n",
              " \n",
              "  \" xxmaj what is the xxmaj islamic view towards homosexuality ? \"\n",
              "y: CategoryList\n",
              "8,16,4,6,19\n",
              "Path: /sample_data2;\n",
              "\n",
              "Test: None, model=SequentialRNN(\n",
              "  (0): MultiBatchEncoder(\n",
              "    (module): AWD_LSTM(\n",
              "      (encoder): Embedding(33120, 400, padding_idx=1)\n",
              "      (encoder_dp): EmbeddingDropout(\n",
              "        (emb): Embedding(33120, 400, padding_idx=1)\n",
              "      )\n",
              "      (rnns): ModuleList(\n",
              "        (0): WeightDropout(\n",
              "          (module): LSTM(400, 1152, batch_first=True)\n",
              "        )\n",
              "        (1): WeightDropout(\n",
              "          (module): LSTM(1152, 1152, batch_first=True)\n",
              "        )\n",
              "        (2): WeightDropout(\n",
              "          (module): LSTM(1152, 400, batch_first=True)\n",
              "        )\n",
              "      )\n",
              "      (input_dp): RNNDropout()\n",
              "      (hidden_dps): ModuleList(\n",
              "        (0): RNNDropout()\n",
              "        (1): RNNDropout()\n",
              "        (2): RNNDropout()\n",
              "      )\n",
              "    )\n",
              "  )\n",
              "  (1): PoolingLinearClassifier(\n",
              "    (layers): Sequential(\n",
              "      (0): BatchNorm1d(1200, eps=1e-05, momentum=0.1, affine=True, track_running_stats=True)\n",
              "      (1): Dropout(p=0.2, inplace=False)\n",
              "      (2): Linear(in_features=1200, out_features=50, bias=True)\n",
              "      (3): ReLU(inplace=True)\n",
              "      (4): BatchNorm1d(50, eps=1e-05, momentum=0.1, affine=True, track_running_stats=True)\n",
              "      (5): Dropout(p=0.1, inplace=False)\n",
              "      (6): Linear(in_features=50, out_features=20, bias=True)\n",
              "    )\n",
              "  )\n",
              "), opt_func=functools.partial(<class 'torch.optim.adam.Adam'>, betas=(0.9, 0.99)), loss_func=FlattenedLoss of CrossEntropyLoss(), metrics=[<function accuracy at 0x7f66ddb72ea0>], true_wd=True, bn_wd=True, wd=0.01, train_bn=True, path=PosixPath('/sample_data2'), model_dir='models', callback_fns=[functools.partial(<class 'fastai.basic_train.Recorder'>, add_time=True, silent=False)], callbacks=[...], layer_groups=[Sequential(\n",
              "  (0): Embedding(33120, 400, padding_idx=1)\n",
              "  (1): EmbeddingDropout(\n",
              "    (emb): Embedding(33120, 400, padding_idx=1)\n",
              "  )\n",
              "), Sequential(\n",
              "  (0): WeightDropout(\n",
              "    (module): LSTM(400, 1152, batch_first=True)\n",
              "  )\n",
              "  (1): RNNDropout()\n",
              "), Sequential(\n",
              "  (0): WeightDropout(\n",
              "    (module): LSTM(1152, 1152, batch_first=True)\n",
              "  )\n",
              "  (1): RNNDropout()\n",
              "), Sequential(\n",
              "  (0): WeightDropout(\n",
              "    (module): LSTM(1152, 400, batch_first=True)\n",
              "  )\n",
              "  (1): RNNDropout()\n",
              "), Sequential(\n",
              "  (0): PoolingLinearClassifier(\n",
              "    (layers): Sequential(\n",
              "      (0): BatchNorm1d(1200, eps=1e-05, momentum=0.1, affine=True, track_running_stats=True)\n",
              "      (1): Dropout(p=0.2, inplace=False)\n",
              "      (2): Linear(in_features=1200, out_features=50, bias=True)\n",
              "      (3): ReLU(inplace=True)\n",
              "      (4): BatchNorm1d(50, eps=1e-05, momentum=0.1, affine=True, track_running_stats=True)\n",
              "      (5): Dropout(p=0.1, inplace=False)\n",
              "      (6): Linear(in_features=50, out_features=20, bias=True)\n",
              "    )\n",
              "  )\n",
              ")], add_time=True, silent=False)\n",
              "alpha: 2.0\n",
              "beta: 1.0], layer_groups=[Sequential(\n",
              "  (0): Embedding(33120, 400, padding_idx=1)\n",
              "  (1): EmbeddingDropout(\n",
              "    (emb): Embedding(33120, 400, padding_idx=1)\n",
              "  )\n",
              "), Sequential(\n",
              "  (0): WeightDropout(\n",
              "    (module): LSTM(400, 1152, batch_first=True)\n",
              "  )\n",
              "  (1): RNNDropout()\n",
              "), Sequential(\n",
              "  (0): WeightDropout(\n",
              "    (module): LSTM(1152, 1152, batch_first=True)\n",
              "  )\n",
              "  (1): RNNDropout()\n",
              "), Sequential(\n",
              "  (0): WeightDropout(\n",
              "    (module): LSTM(1152, 400, batch_first=True)\n",
              "  )\n",
              "  (1): RNNDropout()\n",
              "), Sequential(\n",
              "  (0): PoolingLinearClassifier(\n",
              "    (layers): Sequential(\n",
              "      (0): BatchNorm1d(1200, eps=1e-05, momentum=0.1, affine=True, track_running_stats=True)\n",
              "      (1): Dropout(p=0.2, inplace=False)\n",
              "      (2): Linear(in_features=1200, out_features=50, bias=True)\n",
              "      (3): ReLU(inplace=True)\n",
              "      (4): BatchNorm1d(50, eps=1e-05, momentum=0.1, affine=True, track_running_stats=True)\n",
              "      (5): Dropout(p=0.1, inplace=False)\n",
              "      (6): Linear(in_features=50, out_features=20, bias=True)\n",
              "    )\n",
              "  )\n",
              ")], add_time=True, silent=False)"
            ]
          },
          "metadata": {
            "tags": []
          },
          "execution_count": 123
        }
      ]
    },
    {
      "cell_type": "code",
      "metadata": {
        "id": "DF9-_oOhGGQD",
        "colab_type": "code",
        "outputId": "9500f1fd-ba9a-422c-c8ab-359e2720e5d9",
        "colab": {
          "base_uri": "https://localhost:8080/",
          "height": 34
        }
      },
      "source": [
        "learn.lr_find()"
      ],
      "execution_count": 124,
      "outputs": [
        {
          "output_type": "display_data",
          "data": {
            "text/html": [
              ""
            ],
            "text/plain": [
              "<IPython.core.display.HTML object>"
            ]
          },
          "metadata": {
            "tags": []
          }
        },
        {
          "output_type": "stream",
          "text": [
            "LR Finder is complete, type {learner_name}.recorder.plot() to see the graph.\n"
          ],
          "name": "stdout"
        }
      ]
    },
    {
      "cell_type": "code",
      "metadata": {
        "id": "atI5lUqzGign",
        "colab_type": "code",
        "outputId": "a819d0b1-78c4-45ea-ab89-01cb876f8194",
        "colab": {
          "base_uri": "https://localhost:8080/",
          "height": 283
        }
      },
      "source": [
        "learn.recorder.plot()"
      ],
      "execution_count": 125,
      "outputs": [
        {
          "output_type": "display_data",
          "data": {
            "image/png": "[encoded data removed]",
            "text/plain": [
              "<Figure size 432x288 with 1 Axes>"
            ]
          },
          "metadata": {
            "tags": []
          }
        }
      ]
    },
    {
      "cell_type": "code",
      "metadata": {
        "id": "CVa5YbFCGzkz",
        "colab_type": "code",
        "outputId": "18487bf2-8d8a-48dd-9b0c-cba6421204a1",
        "colab": {
          "base_uri": "https://localhost:8080/",
          "height": 168
        }
      },
      "source": [
        "#list(range(1e-2,1e-1,10)) # range does only int\n",
        "import numpy as np\n",
        "for i in np.arange(1e-2,1e-1,1e-2):\n",
        "  print(i);"
      ],
      "execution_count": 126,
      "outputs": [
        {
          "output_type": "stream",
          "text": [
            "0.01\n",
            "0.02\n",
            "0.03\n",
            "0.04\n",
            "0.05\n",
            "0.060000000000000005\n",
            "0.06999999999999999\n",
            "0.08\n",
            "0.09\n"
          ],
          "name": "stdout"
        }
      ]
    },
    {
      "cell_type": "code",
      "metadata": {
        "id": "Dno8wWgCFZms",
        "colab_type": "code",
        "outputId": "bc9578a3-da3a-4f2e-f883-ec5f0413fc62",
        "colab": {
          "base_uri": "https://localhost:8080/",
          "height": 77
        }
      },
      "source": [
        "learn.fit_one_cycle(1, 5e-2, moms=(0.8,0.7)) #was 1e-2 updated based on graph above"
      ],
      "execution_count": 127,
      "outputs": [
        {
          "output_type": "display_data",
          "data": {
            "text/html": [
              "<table border=\"1\" class=\"dataframe\">\n",
              "  <thead>\n",
              "    <tr style=\"text-align: left;\">\n",
              "      <th>epoch</th>\n",
              "      <th>train_loss</th>\n",
              "      <th>valid_loss</th>\n",
              "      <th>accuracy</th>\n",
              "      <th>time</th>\n",
              "    </tr>\n",
              "  </thead>\n",
              "  <tbody>\n",
              "    <tr>\n",
              "      <td>0</td>\n",
              "      <td>1.446844</td>\n",
              "      <td>1.233551</td>\n",
              "      <td>0.610031</td>\n",
              "      <td>07:29</td>\n",
              "    </tr>\n",
              "  </tbody>\n",
              "</table>"
            ],
            "text/plain": [
              "<IPython.core.display.HTML object>"
            ]
          },
          "metadata": {
            "tags": []
          }
        }
      ]
    },
    {
      "cell_type": "code",
      "metadata": {
        "id": "4LcKNYTeIkqS",
        "colab_type": "code",
        "colab": {}
      },
      "source": [
        "learn.save('first')"
      ],
      "execution_count": 0,
      "outputs": []
    },
    {
      "cell_type": "code",
      "metadata": {
        "id": "fe2EemEYIluN",
        "colab_type": "code",
        "colab": {}
      },
      "source": [
        "learn.load('first'); # save and load the state where the last layer alone is what has been retrained.."
      ],
      "execution_count": 0,
      "outputs": []
    },
    {
      "cell_type": "code",
      "metadata": {
        "id": "_jStsmgGTikV",
        "colab_type": "code",
        "outputId": "9b899d76-5855-4101-ef9b-c44c7f38878b",
        "colab": {
          "base_uri": "https://localhost:8080/",
          "height": 34
        }
      },
      "source": [
        "slice(1e-2/(2.6**4),1e-2) # refer lecture for how that 2.6**4 was arrived at... apparently its emperically arrived at"
      ],
      "execution_count": 130,
      "outputs": [
        {
          "output_type": "execute_result",
          "data": {
            "text/plain": [
              "slice(0.00021882987290360977, 0.01, None)"
            ]
          },
          "metadata": {
            "tags": []
          },
          "execution_count": 130
        }
      ]
    },
    {
      "cell_type": "code",
      "metadata": {
        "id": "0ESAxaca8VBe",
        "colab_type": "code",
        "colab": {
          "base_uri": "https://localhost:8080/",
          "height": 958
        },
        "outputId": "615d179c-fc64-49e0-f227-a0a7f227393e"
      },
      "source": [
        "from fastai.utils.show_install import show_install\n",
        "show_install(1)"
      ],
      "execution_count": 131,
      "outputs": [
        {
          "output_type": "stream",
          "text": [
            "\n",
            "\n",
            "```text\n",
            "=== Software === \n",
            "python        : 3.6.8\n",
            "fastai        : 1.0.58\n",
            "fastprogress  : 0.1.21\n",
            "torch         : 1.3.0+cu100\n",
            "nvidia driver : 418.67\n",
            "torch cuda    : 10.0.130 / is available\n",
            "torch cudnn   : 7603 / is enabled\n",
            "\n",
            "=== Hardware === \n",
            "nvidia gpus   : 1\n",
            "torch devices : 1\n",
            "  - gpu0      : 11441MB | Tesla K80\n",
            "\n",
            "=== Environment === \n",
            "platform      : Linux-4.14.137+-x86_64-with-Ubuntu-18.04-bionic\n",
            "distro        : #1 SMP Thu Aug 8 02:47:02 PDT 2019\n",
            "conda env     : Unknown\n",
            "python        : /usr/bin/python3\n",
            "sys.path      : \n",
            "/env/python\n",
            "/usr/lib/python36.zip\n",
            "/usr/lib/python3.6\n",
            "/usr/lib/python3.6/lib-dynload\n",
            "/usr/local/lib/python3.6/dist-packages\n",
            "/usr/lib/python3/dist-packages\n",
            "/usr/local/lib/python3.6/dist-packages/IPython/extensions\n",
            "/root/.ipython\n",
            "\n",
            "Sun Oct 20 16:12:56 2019       \n",
            "+-----------------------------------------------------------------------------+\n",
            "| NVIDIA-SMI 430.40       Driver Version: 418.67       CUDA Version: 10.1     |\n",
            "|-------------------------------+----------------------+----------------------+\n",
            "| GPU  Name        Persistence-M| Bus-Id        Disp.A | Volatile Uncorr. ECC |\n",
            "| Fan  Temp  Perf  Pwr:Usage/Cap|         Memory-Usage | GPU-Util  Compute M. |\n",
            "|===============================+======================+======================|\n",
            "|   0  Tesla K80           Off  | 00000000:00:04.0 Off |                    0 |\n",
            "| N/A   49C    P0    57W / 149W |   3950MiB / 11441MiB |      0%      Default |\n",
            "+-------------------------------+----------------------+----------------------+\n",
            "                                                                               \n",
            "+-----------------------------------------------------------------------------+\n",
            "| Processes:                                                       GPU Memory |\n",
            "|  GPU       PID   Type   Process name                             Usage      |\n",
            "|=============================================================================|\n",
            "+-----------------------------------------------------------------------------+\n",
            "\n",
            "```\n",
            "\n",
            "Please make sure to include opening/closing ``` when you paste into forums/github to make the reports appear formatted as code sections.\n",
            "\n",
            "Optional package(s) to enhance the diagnostics can be installed with:\n",
            "pip install distro\n",
            "Once installed, re-run this utility to get the additional information\n"
          ],
          "name": "stdout"
        }
      ]
    },
    {
      "cell_type": "code",
      "metadata": {
        "id": "H7yJqNpUVXUy",
        "colab_type": "code",
        "colab": {}
      },
      "source": [
        "# https://github.com/fastai/fastai/issues/1383"
      ],
      "execution_count": 0,
      "outputs": []
    },
    {
      "cell_type": "code",
      "metadata": {
        "id": "iQiClwYK_2Gp",
        "colab_type": "code",
        "colab": {}
      },
      "source": [
        "learn.freeze_to(-2) # unfreeze all but last 2 layers\n",
        "#learn.fit_one_cycle(2, 1e-2, moms=(0.8,0.7))# and then train them\n",
        "# BLUNDER : you do not train them at the same rate\n",
        "# instead you train them using a much lower RL as below \n",
        "# if you use the same lr as in above case.. accuracy drops .. loss explodes\n",
        "# good that there was a back up\n"
      ],
      "execution_count": 0,
      "outputs": []
    },
    {
      "cell_type": "code",
      "metadata": {
        "id": "WtRBlAZh82fr",
        "colab_type": "code",
        "colab": {
          "base_uri": "https://localhost:8080/",
          "height": 77
        },
        "outputId": "ab43ed2f-4ffa-482f-d514-117d4d44f4a9"
      },
      "source": [
        "learn.fit_one_cycle(1, slice(1e-2/(2.6**4),1e-2), moms=(0.8,0.7))"
      ],
      "execution_count": 133,
      "outputs": [
        {
          "output_type": "display_data",
          "data": {
            "text/html": [
              "<table border=\"1\" class=\"dataframe\">\n",
              "  <thead>\n",
              "    <tr style=\"text-align: left;\">\n",
              "      <th>epoch</th>\n",
              "      <th>train_loss</th>\n",
              "      <th>valid_loss</th>\n",
              "      <th>accuracy</th>\n",
              "      <th>time</th>\n",
              "    </tr>\n",
              "  </thead>\n",
              "  <tbody>\n",
              "    <tr>\n",
              "      <td>0</td>\n",
              "      <td>1.421653</td>\n",
              "      <td>1.141120</td>\n",
              "      <td>0.635440</td>\n",
              "      <td>07:58</td>\n",
              "    </tr>\n",
              "  </tbody>\n",
              "</table>"
            ],
            "text/plain": [
              "<IPython.core.display.HTML object>"
            ]
          },
          "metadata": {
            "tags": []
          }
        }
      ]
    },
    {
      "cell_type": "code",
      "metadata": {
        "id": "xq6Cz2gcQdHy",
        "colab_type": "code",
        "colab": {}
      },
      "source": [
        ""
      ],
      "execution_count": 0,
      "outputs": []
    },
    {
      "cell_type": "code",
      "metadata": {
        "id": "4O5P1MsiIPHe",
        "colab_type": "code",
        "colab": {}
      },
      "source": [
        "# https://forums.fast.ai/t/continue-training-an-already-trained-model/34790\n",
        "# learn.fit_one_cycle(2, 1e-2) # Another 2 cycles\n",
        "# with ls of 5e-2 the val loss explodes.. and accuracy drops...\n",
        "# the comment above is not exactly true... the loss exploded.. because the lr was not reduced.. as seen in the cell above"
      ],
      "execution_count": 0,
      "outputs": []
    },
    {
      "cell_type": "code",
      "metadata": {
        "id": "moT93NzGEsHr",
        "colab_type": "code",
        "colab": {}
      },
      "source": [
        "learn.save('second')"
      ],
      "execution_count": 0,
      "outputs": []
    },
    {
      "cell_type": "code",
      "metadata": {
        "id": "9y4ADh44Exr6",
        "colab_type": "code",
        "colab": {}
      },
      "source": [
        "learn.load('second');"
      ],
      "execution_count": 0,
      "outputs": []
    },
    {
      "cell_type": "code",
      "metadata": {
        "id": "sF_xqXdy_Pba",
        "colab_type": "code",
        "colab": {
          "base_uri": "https://localhost:8080/",
          "height": 77
        },
        "outputId": "8f8b9a58-8983-4f66-8f31-86956f6225c4"
      },
      "source": [
        "learn.freeze_to(-3)\n",
        "learn.fit_one_cycle(1, slice(5e-3/(2.6**4),5e-3), moms=(0.8,0.7)) # almost half an order lower in range this time"
      ],
      "execution_count": 137,
      "outputs": [
        {
          "output_type": "display_data",
          "data": {
            "text/html": [
              "<table border=\"1\" class=\"dataframe\">\n",
              "  <thead>\n",
              "    <tr style=\"text-align: left;\">\n",
              "      <th>epoch</th>\n",
              "      <th>train_loss</th>\n",
              "      <th>valid_loss</th>\n",
              "      <th>accuracy</th>\n",
              "      <th>time</th>\n",
              "    </tr>\n",
              "  </thead>\n",
              "  <tbody>\n",
              "    <tr>\n",
              "      <td>0</td>\n",
              "      <td>1.189231</td>\n",
              "      <td>1.069476</td>\n",
              "      <td>0.667256</td>\n",
              "      <td>09:14</td>\n",
              "    </tr>\n",
              "  </tbody>\n",
              "</table>"
            ],
            "text/plain": [
              "<IPython.core.display.HTML object>"
            ]
          },
          "metadata": {
            "tags": []
          }
        }
      ]
    },
    {
      "cell_type": "code",
      "metadata": {
        "id": "uB1psjN8NLf2",
        "colab_type": "code",
        "colab": {}
      },
      "source": [
        "learn.save('third')# some other steps.. and possibly a callback"
      ],
      "execution_count": 0,
      "outputs": []
    },
    {
      "cell_type": "code",
      "metadata": {
        "id": "BDI5k00z_bfQ",
        "colab_type": "code",
        "colab": {
          "base_uri": "https://localhost:8080/",
          "height": 1000
        },
        "outputId": "0668206b-29d8-4746-97da-492cfd031168"
      },
      "source": [
        "learn.load('third')"
      ],
      "execution_count": 139,
      "outputs": [
        {
          "output_type": "execute_result",
          "data": {
            "text/plain": [
              "RNNLearner(data=TextClasDataBunch;\n",
              "\n",
              "Train: LabelList (6788 items)\n",
              "x: TextList\n",
              "xxbos \n",
              " \n",
              "  xxup cnn just claimed he bought 104 \" semi - automatic assault rifles \" . xxmaj and \n",
              "  they say xxmaj koresh was n't god - like ... xxmaj he managed to buy or build a \n",
              "  collection of fully - automatic semi - automatic rifles ... xxmaj quite a feat , \n",
              "  i would say . ;-) \n",
              " \n",
              "  xxmaj they 're still making charges of \" sexual abuse \" and such , or course . \n",
              "  xxmaj nobody seems to have noticed that the xxmaj treasury department has nothing \n",
              "  to do with sex crimes . xxmaj or maybe the feds have recently instituted a \n",
              "  xxup tax on sex crimes ... xxmaj yeah , that 's why the xxup batf was there , looking for \n",
              "  unregistered * guns * ( \" this is my weapon , this is my gun , this is for \n",
              "  fighting , this is for ... \" ) . \n",
              " \n",
              " \n",
              "  i also heard that they 're claiming to be cautious because of xxmaj koresh 's \n",
              "  \" heated ammunition stockpile \" . i seem to recall that smokeless powder \n",
              "  tends to decompose at even moderate temperatures . i would be rather \n",
              "  surprised , after a fire of that nature , if * any * of his \" stockpile \" is \n",
              "  xxunk , or xxunk . \n",
              " \n",
              " \n",
              "  i seem to recall that aluminum powder is a common component of \n",
              "  xxunk ... xxmaj the folks on xxunk could probably tell you . \n",
              " \n",
              " \n",
              "  i think * anything * is legal if you have the proper license . xxmaj if he had \n",
              "  a \" xxunk and relics \" permit , i believe he could legally own \n",
              "  xxunk to go with his launcher . \n",
              " \n",
              "  -- \n",
              "  xxmaj charles xxmaj scripter * cescript@phy.mtu.edu \n",
              "  xxmaj dept of xxmaj physics , xxmaj michigan xxmaj tech , xxmaj houghton , xxup mi 49931,xxbos xxmaj hi , \n",
              " \t i am looking for some help in choosing a package \n",
              "  for a high - speed silicon xxup adc ( 100mhz ) currently being \n",
              "  fabricated . xxmaj this is a phd research project and i have to test \n",
              "  the chip at speed on a xxup pcb . i expect to have roughly 100 \n",
              "  packaged circuits and will do xxup dc , low - speed and high - speed \n",
              "  testing using 3 different set - ups for the test chip . \n",
              " \t \n",
              " \t i know for sure that a xxup dip will not work \n",
              "  ( the long lead lines have too high an inductance ) . \n",
              "  xxmaj getting a custom - made package is too expensive , so \n",
              "  i am trying to choose between a xxunk and a \n",
              "  leadless chip carrier . xxmaj the xxunk would be hard \n",
              "  to test since it has to be soldered on to the test \n",
              "  setup and i would spend loads of time soldering \n",
              "  as i kept changing the test chip . xxmaj the leadless chip \n",
              "  carrier sockets also have long lead lines and may \n",
              "  not work at high speeds . \n",
              " \n",
              " \t xxmaj does anyone out there have experience / knowledge \n",
              "  of this field ? i would greatly appreciate help ! xxmaj any ideas / \n",
              "  names of companies manufacturing holders / sockets / packages \n",
              "  would help . \n",
              " \n",
              "  xxup p.s. xxmaj the multi - layer fancy gaas packages seem like a bit \n",
              "  of overkill ( ? ),xxbos \n",
              "  i really do n't understand all this ! i watched on satellite network feeds as \n",
              "  perhaps 90 people died before my eyes , while the two xxmaj xxunk 's fanned the flames , \n",
              "  and the xxup fbi stopped the xxunk at the gate . \n",
              " \n",
              "  xxmaj something was xxup very wrong with that scene . \n",
              " \n",
              "  xxmaj perhaps if i 'd watched xxup rambo movies , i might 've been xxunk to the pain of \n",
              "  fellow humans dying . \n",
              " \n",
              "  xxmaj thank xxup god i still feel . i 'm very sorry for you who do n't . xxmaj for you who think \n",
              "  they got what they deserved . xxmaj can you really believe that ? xxmaj even if xxmaj koresh was \n",
              "  the xxunk mad man they said he was , did the others deserve his fate ? xxmaj if , \n",
              "  in fact , he was mad , was n't that even more reason to believe he duped his \n",
              "  followers , and therefore they were innocent , brainwashed , victims ? xxmaj is there \n",
              "  any xxunk that justifies all that death ? \n",
              " \n",
              "  xxmaj and if not , it is clear that the deaths would not have occured if the xxup batf has \n",
              "  not xxup fucked xxup up initially , and now the xxup fbi got xxunk and pushed xxmaj xxunk over \n",
              "  the edge . \n",
              " \n",
              "  xxmaj and that 's if you buy the latest version of the \" story \" hook , line , and xxunk . \n",
              "  i have believed all along that they could not let them live , the embarrassment \n",
              "  to the xxup batf and the xxup fbi would 've been too severe . \n",
              " \n",
              "  xxmaj remember , this was a suspicion of tax - evasion warrant . xxmaj there were no \n",
              "  witnesses , except the xxup fbi . xxmaj all information filtered through the xxup fbi . xxmaj all they \n",
              "  had to do was allow one remote controlled pool camera be installed near the \n",
              "  building , and the press could 've done their job , and would 've been able to back \n",
              "  the xxup fbi 's story with close up video , while xxunk no risk to the press . \n",
              "  xxmaj unless they did not want the public to see something . xxmaj the complete lack of any \n",
              "  other source of information other than the xxup fbi really causes me concern . \n",
              " \n",
              " \n",
              "  xxmaj sick to my stomach , and getting xxunk from all the xxmaj government apologists \n",
              "  -- \n",
              "  jmd@handheld.com,xxbos xxmaj however , this has nothing to do with motorcycling , unless you consider \n",
              "  the xxmaj xxunk a bike .,xxbos i have a novell xxunk that i will sell for $ 692 which can be upgraded to 3.11 \n",
              "  for $ 460 . xxmaj the novell has complete documentation but no network cards except \n",
              "  the xxup id card . \n",
              " \n",
              " \n",
              "  --\n",
              "y: CategoryList\n",
              "16,12,16,8,6\n",
              "Path: /sample_data2;\n",
              "\n",
              "Valid: LabelList (4526 items)\n",
              "x: TextList\n",
              "xxbos \n",
              " \n",
              " \n",
              "  xxmaj and still we wonder why they stereotype us ...,xxbos \n",
              "  i 've been a member of the xxup nra for several years and recently \" joined \" \n",
              "  xxup hci . i wanted to see what they were up to and paid the minimum ( $ 15 ) \n",
              "  to get a membership . i also sent the xxup nra another $ 120 . \n",
              " ,xxbos i have n't seen much info about how to add an extra internal disk to a \n",
              "  mac . xxmaj we would like to try it , and i wonder if someone had some good \n",
              "  advice . \n",
              " \n",
              "  xxmaj we have a xxmaj mac iicx with the original internal xxmaj quantum 40 xxup mb hard disk , \n",
              "  and an unusable floppy drive . xxmaj we also have a new spare xxmaj connor 40 xxup mb \n",
              "  disk which we would like to use . xxmaj the idea is to replace the broken \n",
              "  floppy drive with the new hard disk , but there seems to be some \n",
              "  problems : \n",
              " \n",
              "  xxmaj the internal xxup scsi cable and power cable inside the cx has only \n",
              "  connectors for one single hard disk drive . \n",
              " \n",
              "  xxmaj if i made a ribbon cable and a power cable with three connectors each \n",
              "  ( 1 for motherboard , 1 for each of the 2 disks ) , would it work ? \n",
              " \n",
              "  xxmaj is the iicx able to supply the extra power to the extra disk ? \n",
              " \n",
              "  xxmaj what about xxunk ? i suppose that i should remove the resistor \n",
              "  packs from the disk that is closest to the motherboard , but leave them \n",
              "  installed in the other disk . \n",
              " \n",
              "  xxmaj the xxup scsi xxup id jumpers should also be changed so that the new disk gets \n",
              "  xxup id # 1 . xxmaj the old one should have xxup id # 0 . \n",
              " \n",
              "  xxmaj it is no problem for us to remove the floppy drive , as we have an \n",
              "  external floppy that we can use if it wo n't boot of the hard disk . \n",
              " \n",
              "  xxmaj thank you ! \n",
              " ,xxbos \t  xxrep 6 ^ what the hell xxunk a ' xxunk ' ? ? ( xxunk ( sp ) ) ? ? \n",
              " ,xxbos a question regarding the xxmaj islamic view towards homosexuality came up in a \n",
              "  discussion group that i participate in , and i 'd like to ask the question here , \n",
              " \n",
              "  \" xxmaj what is the xxmaj islamic view towards homosexuality ? \"\n",
              "y: CategoryList\n",
              "8,16,4,6,19\n",
              "Path: /sample_data2;\n",
              "\n",
              "Test: None, model=SequentialRNN(\n",
              "  (0): MultiBatchEncoder(\n",
              "    (module): AWD_LSTM(\n",
              "      (encoder): Embedding(33120, 400, padding_idx=1)\n",
              "      (encoder_dp): EmbeddingDropout(\n",
              "        (emb): Embedding(33120, 400, padding_idx=1)\n",
              "      )\n",
              "      (rnns): ModuleList(\n",
              "        (0): WeightDropout(\n",
              "          (module): LSTM(400, 1152, batch_first=True)\n",
              "        )\n",
              "        (1): WeightDropout(\n",
              "          (module): LSTM(1152, 1152, batch_first=True)\n",
              "        )\n",
              "        (2): WeightDropout(\n",
              "          (module): LSTM(1152, 400, batch_first=True)\n",
              "        )\n",
              "      )\n",
              "      (input_dp): RNNDropout()\n",
              "      (hidden_dps): ModuleList(\n",
              "        (0): RNNDropout()\n",
              "        (1): RNNDropout()\n",
              "        (2): RNNDropout()\n",
              "      )\n",
              "    )\n",
              "  )\n",
              "  (1): PoolingLinearClassifier(\n",
              "    (layers): Sequential(\n",
              "      (0): BatchNorm1d(1200, eps=1e-05, momentum=0.1, affine=True, track_running_stats=True)\n",
              "      (1): Dropout(p=0.2, inplace=False)\n",
              "      (2): Linear(in_features=1200, out_features=50, bias=True)\n",
              "      (3): ReLU(inplace=True)\n",
              "      (4): BatchNorm1d(50, eps=1e-05, momentum=0.1, affine=True, track_running_stats=True)\n",
              "      (5): Dropout(p=0.1, inplace=False)\n",
              "      (6): Linear(in_features=50, out_features=20, bias=True)\n",
              "    )\n",
              "  )\n",
              "), opt_func=functools.partial(<class 'torch.optim.adam.Adam'>, betas=(0.9, 0.99)), loss_func=FlattenedLoss of CrossEntropyLoss(), metrics=[<function accuracy at 0x7f66ddb72ea0>], true_wd=True, bn_wd=True, wd=0.01, train_bn=True, path=PosixPath('/sample_data2'), model_dir='models', callback_fns=[functools.partial(<class 'fastai.basic_train.Recorder'>, add_time=True, silent=False)], callbacks=[RNNTrainer\n",
              "learn: RNNLearner(data=TextClasDataBunch;\n",
              "\n",
              "Train: LabelList (6788 items)\n",
              "x: TextList\n",
              "xxbos \n",
              " \n",
              "  xxup cnn just claimed he bought 104 \" semi - automatic assault rifles \" . xxmaj and \n",
              "  they say xxmaj koresh was n't god - like ... xxmaj he managed to buy or build a \n",
              "  collection of fully - automatic semi - automatic rifles ... xxmaj quite a feat , \n",
              "  i would say . ;-) \n",
              " \n",
              "  xxmaj they 're still making charges of \" sexual abuse \" and such , or course . \n",
              "  xxmaj nobody seems to have noticed that the xxmaj treasury department has nothing \n",
              "  to do with sex crimes . xxmaj or maybe the feds have recently instituted a \n",
              "  xxup tax on sex crimes ... xxmaj yeah , that 's why the xxup batf was there , looking for \n",
              "  unregistered * guns * ( \" this is my weapon , this is my gun , this is for \n",
              "  fighting , this is for ... \" ) . \n",
              " \n",
              " \n",
              "  i also heard that they 're claiming to be cautious because of xxmaj koresh 's \n",
              "  \" heated ammunition stockpile \" . i seem to recall that smokeless powder \n",
              "  tends to decompose at even moderate temperatures . i would be rather \n",
              "  surprised , after a fire of that nature , if * any * of his \" stockpile \" is \n",
              "  xxunk , or xxunk . \n",
              " \n",
              " \n",
              "  i seem to recall that aluminum powder is a common component of \n",
              "  xxunk ... xxmaj the folks on xxunk could probably tell you . \n",
              " \n",
              " \n",
              "  i think * anything * is legal if you have the proper license . xxmaj if he had \n",
              "  a \" xxunk and relics \" permit , i believe he could legally own \n",
              "  xxunk to go with his launcher . \n",
              " \n",
              "  -- \n",
              "  xxmaj charles xxmaj scripter * cescript@phy.mtu.edu \n",
              "  xxmaj dept of xxmaj physics , xxmaj michigan xxmaj tech , xxmaj houghton , xxup mi 49931,xxbos xxmaj hi , \n",
              " \t i am looking for some help in choosing a package \n",
              "  for a high - speed silicon xxup adc ( 100mhz ) currently being \n",
              "  fabricated . xxmaj this is a phd research project and i have to test \n",
              "  the chip at speed on a xxup pcb . i expect to have roughly 100 \n",
              "  packaged circuits and will do xxup dc , low - speed and high - speed \n",
              "  testing using 3 different set - ups for the test chip . \n",
              " \t \n",
              " \t i know for sure that a xxup dip will not work \n",
              "  ( the long lead lines have too high an inductance ) . \n",
              "  xxmaj getting a custom - made package is too expensive , so \n",
              "  i am trying to choose between a xxunk and a \n",
              "  leadless chip carrier . xxmaj the xxunk would be hard \n",
              "  to test since it has to be soldered on to the test \n",
              "  setup and i would spend loads of time soldering \n",
              "  as i kept changing the test chip . xxmaj the leadless chip \n",
              "  carrier sockets also have long lead lines and may \n",
              "  not work at high speeds . \n",
              " \n",
              " \t xxmaj does anyone out there have experience / knowledge \n",
              "  of this field ? i would greatly appreciate help ! xxmaj any ideas / \n",
              "  names of companies manufacturing holders / sockets / packages \n",
              "  would help . \n",
              " \n",
              "  xxup p.s. xxmaj the multi - layer fancy gaas packages seem like a bit \n",
              "  of overkill ( ? ),xxbos \n",
              "  i really do n't understand all this ! i watched on satellite network feeds as \n",
              "  perhaps 90 people died before my eyes , while the two xxmaj xxunk 's fanned the flames , \n",
              "  and the xxup fbi stopped the xxunk at the gate . \n",
              " \n",
              "  xxmaj something was xxup very wrong with that scene . \n",
              " \n",
              "  xxmaj perhaps if i 'd watched xxup rambo movies , i might 've been xxunk to the pain of \n",
              "  fellow humans dying . \n",
              " \n",
              "  xxmaj thank xxup god i still feel . i 'm very sorry for you who do n't . xxmaj for you who think \n",
              "  they got what they deserved . xxmaj can you really believe that ? xxmaj even if xxmaj koresh was \n",
              "  the xxunk mad man they said he was , did the others deserve his fate ? xxmaj if , \n",
              "  in fact , he was mad , was n't that even more reason to believe he duped his \n",
              "  followers , and therefore they were innocent , brainwashed , victims ? xxmaj is there \n",
              "  any xxunk that justifies all that death ? \n",
              " \n",
              "  xxmaj and if not , it is clear that the deaths would not have occured if the xxup batf has \n",
              "  not xxup fucked xxup up initially , and now the xxup fbi got xxunk and pushed xxmaj xxunk over \n",
              "  the edge . \n",
              " \n",
              "  xxmaj and that 's if you buy the latest version of the \" story \" hook , line , and xxunk . \n",
              "  i have believed all along that they could not let them live , the embarrassment \n",
              "  to the xxup batf and the xxup fbi would 've been too severe . \n",
              " \n",
              "  xxmaj remember , this was a suspicion of tax - evasion warrant . xxmaj there were no \n",
              "  witnesses , except the xxup fbi . xxmaj all information filtered through the xxup fbi . xxmaj all they \n",
              "  had to do was allow one remote controlled pool camera be installed near the \n",
              "  building , and the press could 've done their job , and would 've been able to back \n",
              "  the xxup fbi 's story with close up video , while xxunk no risk to the press . \n",
              "  xxmaj unless they did not want the public to see something . xxmaj the complete lack of any \n",
              "  other source of information other than the xxup fbi really causes me concern . \n",
              " \n",
              " \n",
              "  xxmaj sick to my stomach , and getting xxunk from all the xxmaj government apologists \n",
              "  -- \n",
              "  jmd@handheld.com,xxbos xxmaj however , this has nothing to do with motorcycling , unless you consider \n",
              "  the xxmaj xxunk a bike .,xxbos i have a novell xxunk that i will sell for $ 692 which can be upgraded to 3.11 \n",
              "  for $ 460 . xxmaj the novell has complete documentation but no network cards except \n",
              "  the xxup id card . \n",
              " \n",
              " \n",
              "  --\n",
              "y: CategoryList\n",
              "16,12,16,8,6\n",
              "Path: /sample_data2;\n",
              "\n",
              "Valid: LabelList (4526 items)\n",
              "x: TextList\n",
              "xxbos \n",
              " \n",
              " \n",
              "  xxmaj and still we wonder why they stereotype us ...,xxbos \n",
              "  i 've been a member of the xxup nra for several years and recently \" joined \" \n",
              "  xxup hci . i wanted to see what they were up to and paid the minimum ( $ 15 ) \n",
              "  to get a membership . i also sent the xxup nra another $ 120 . \n",
              " ,xxbos i have n't seen much info about how to add an extra internal disk to a \n",
              "  mac . xxmaj we would like to try it , and i wonder if someone had some good \n",
              "  advice . \n",
              " \n",
              "  xxmaj we have a xxmaj mac iicx with the original internal xxmaj quantum 40 xxup mb hard disk , \n",
              "  and an unusable floppy drive . xxmaj we also have a new spare xxmaj connor 40 xxup mb \n",
              "  disk which we would like to use . xxmaj the idea is to replace the broken \n",
              "  floppy drive with the new hard disk , but there seems to be some \n",
              "  problems : \n",
              " \n",
              "  xxmaj the internal xxup scsi cable and power cable inside the cx has only \n",
              "  connectors for one single hard disk drive . \n",
              " \n",
              "  xxmaj if i made a ribbon cable and a power cable with three connectors each \n",
              "  ( 1 for motherboard , 1 for each of the 2 disks ) , would it work ? \n",
              " \n",
              "  xxmaj is the iicx able to supply the extra power to the extra disk ? \n",
              " \n",
              "  xxmaj what about xxunk ? i suppose that i should remove the resistor \n",
              "  packs from the disk that is closest to the motherboard , but leave them \n",
              "  installed in the other disk . \n",
              " \n",
              "  xxmaj the xxup scsi xxup id jumpers should also be changed so that the new disk gets \n",
              "  xxup id # 1 . xxmaj the old one should have xxup id # 0 . \n",
              " \n",
              "  xxmaj it is no problem for us to remove the floppy drive , as we have an \n",
              "  external floppy that we can use if it wo n't boot of the hard disk . \n",
              " \n",
              "  xxmaj thank you ! \n",
              " ,xxbos \t  xxrep 6 ^ what the hell xxunk a ' xxunk ' ? ? ( xxunk ( sp ) ) ? ? \n",
              " ,xxbos a question regarding the xxmaj islamic view towards homosexuality came up in a \n",
              "  discussion group that i participate in , and i 'd like to ask the question here , \n",
              " \n",
              "  \" xxmaj what is the xxmaj islamic view towards homosexuality ? \"\n",
              "y: CategoryList\n",
              "8,16,4,6,19\n",
              "Path: /sample_data2;\n",
              "\n",
              "Test: None, model=SequentialRNN(\n",
              "  (0): MultiBatchEncoder(\n",
              "    (module): AWD_LSTM(\n",
              "      (encoder): Embedding(33120, 400, padding_idx=1)\n",
              "      (encoder_dp): EmbeddingDropout(\n",
              "        (emb): Embedding(33120, 400, padding_idx=1)\n",
              "      )\n",
              "      (rnns): ModuleList(\n",
              "        (0): WeightDropout(\n",
              "          (module): LSTM(400, 1152, batch_first=True)\n",
              "        )\n",
              "        (1): WeightDropout(\n",
              "          (module): LSTM(1152, 1152, batch_first=True)\n",
              "        )\n",
              "        (2): WeightDropout(\n",
              "          (module): LSTM(1152, 400, batch_first=True)\n",
              "        )\n",
              "      )\n",
              "      (input_dp): RNNDropout()\n",
              "      (hidden_dps): ModuleList(\n",
              "        (0): RNNDropout()\n",
              "        (1): RNNDropout()\n",
              "        (2): RNNDropout()\n",
              "      )\n",
              "    )\n",
              "  )\n",
              "  (1): PoolingLinearClassifier(\n",
              "    (layers): Sequential(\n",
              "      (0): BatchNorm1d(1200, eps=1e-05, momentum=0.1, affine=True, track_running_stats=True)\n",
              "      (1): Dropout(p=0.2, inplace=False)\n",
              "      (2): Linear(in_features=1200, out_features=50, bias=True)\n",
              "      (3): ReLU(inplace=True)\n",
              "      (4): BatchNorm1d(50, eps=1e-05, momentum=0.1, affine=True, track_running_stats=True)\n",
              "      (5): Dropout(p=0.1, inplace=False)\n",
              "      (6): Linear(in_features=50, out_features=20, bias=True)\n",
              "    )\n",
              "  )\n",
              "), opt_func=functools.partial(<class 'torch.optim.adam.Adam'>, betas=(0.9, 0.99)), loss_func=FlattenedLoss of CrossEntropyLoss(), metrics=[<function accuracy at 0x7f66ddb72ea0>], true_wd=True, bn_wd=True, wd=0.01, train_bn=True, path=PosixPath('/sample_data2'), model_dir='models', callback_fns=[functools.partial(<class 'fastai.basic_train.Recorder'>, add_time=True, silent=False)], callbacks=[...], layer_groups=[Sequential(\n",
              "  (0): Embedding(33120, 400, padding_idx=1)\n",
              "  (1): EmbeddingDropout(\n",
              "    (emb): Embedding(33120, 400, padding_idx=1)\n",
              "  )\n",
              "), Sequential(\n",
              "  (0): WeightDropout(\n",
              "    (module): LSTM(400, 1152, batch_first=True)\n",
              "  )\n",
              "  (1): RNNDropout()\n",
              "), Sequential(\n",
              "  (0): WeightDropout(\n",
              "    (module): LSTM(1152, 1152, batch_first=True)\n",
              "  )\n",
              "  (1): RNNDropout()\n",
              "), Sequential(\n",
              "  (0): WeightDropout(\n",
              "    (module): LSTM(1152, 400, batch_first=True)\n",
              "  )\n",
              "  (1): RNNDropout()\n",
              "), Sequential(\n",
              "  (0): PoolingLinearClassifier(\n",
              "    (layers): Sequential(\n",
              "      (0): BatchNorm1d(1200, eps=1e-05, momentum=0.1, affine=True, track_running_stats=True)\n",
              "      (1): Dropout(p=0.2, inplace=False)\n",
              "      (2): Linear(in_features=1200, out_features=50, bias=True)\n",
              "      (3): ReLU(inplace=True)\n",
              "      (4): BatchNorm1d(50, eps=1e-05, momentum=0.1, affine=True, track_running_stats=True)\n",
              "      (5): Dropout(p=0.1, inplace=False)\n",
              "      (6): Linear(in_features=50, out_features=20, bias=True)\n",
              "    )\n",
              "  )\n",
              ")], add_time=True, silent=False)\n",
              "alpha: 2.0\n",
              "beta: 1.0], layer_groups=[Sequential(\n",
              "  (0): Embedding(33120, 400, padding_idx=1)\n",
              "  (1): EmbeddingDropout(\n",
              "    (emb): Embedding(33120, 400, padding_idx=1)\n",
              "  )\n",
              "), Sequential(\n",
              "  (0): WeightDropout(\n",
              "    (module): LSTM(400, 1152, batch_first=True)\n",
              "  )\n",
              "  (1): RNNDropout()\n",
              "), Sequential(\n",
              "  (0): WeightDropout(\n",
              "    (module): LSTM(1152, 1152, batch_first=True)\n",
              "  )\n",
              "  (1): RNNDropout()\n",
              "), Sequential(\n",
              "  (0): WeightDropout(\n",
              "    (module): LSTM(1152, 400, batch_first=True)\n",
              "  )\n",
              "  (1): RNNDropout()\n",
              "), Sequential(\n",
              "  (0): PoolingLinearClassifier(\n",
              "    (layers): Sequential(\n",
              "      (0): BatchNorm1d(1200, eps=1e-05, momentum=0.1, affine=True, track_running_stats=True)\n",
              "      (1): Dropout(p=0.2, inplace=False)\n",
              "      (2): Linear(in_features=1200, out_features=50, bias=True)\n",
              "      (3): ReLU(inplace=True)\n",
              "      (4): BatchNorm1d(50, eps=1e-05, momentum=0.1, affine=True, track_running_stats=True)\n",
              "      (5): Dropout(p=0.1, inplace=False)\n",
              "      (6): Linear(in_features=50, out_features=20, bias=True)\n",
              "    )\n",
              "  )\n",
              ")], add_time=True, silent=False)"
            ]
          },
          "metadata": {
            "tags": []
          },
          "execution_count": 139
        }
      ]
    },
    {
      "cell_type": "code",
      "metadata": {
        "id": "0XLM9mLv_lVn",
        "colab_type": "code",
        "colab": {
          "base_uri": "https://localhost:8080/",
          "height": 106
        },
        "outputId": "4a6497c7-ffc6-4420-9602-037c31bd9f8a"
      },
      "source": [
        "learn.unfreeze() # unfreze all\n",
        "learn.fit_one_cycle(2, slice(1e-3/(2.6**4),1e-3), moms=(0.8,0.7))"
      ],
      "execution_count": 140,
      "outputs": [
        {
          "output_type": "display_data",
          "data": {
            "text/html": [
              "<table border=\"1\" class=\"dataframe\">\n",
              "  <thead>\n",
              "    <tr style=\"text-align: left;\">\n",
              "      <th>epoch</th>\n",
              "      <th>train_loss</th>\n",
              "      <th>valid_loss</th>\n",
              "      <th>accuracy</th>\n",
              "      <th>time</th>\n",
              "    </tr>\n",
              "  </thead>\n",
              "  <tbody>\n",
              "    <tr>\n",
              "      <td>0</td>\n",
              "      <td>0.943186</td>\n",
              "      <td>1.033650</td>\n",
              "      <td>0.674547</td>\n",
              "      <td>11:37</td>\n",
              "    </tr>\n",
              "    <tr>\n",
              "      <td>1</td>\n",
              "      <td>0.779844</td>\n",
              "      <td>1.019502</td>\n",
              "      <td>0.684048</td>\n",
              "      <td>12:11</td>\n",
              "    </tr>\n",
              "  </tbody>\n",
              "</table>"
            ],
            "text/plain": [
              "<IPython.core.display.HTML object>"
            ]
          },
          "metadata": {
            "tags": []
          }
        }
      ]
    },
    {
      "cell_type": "code",
      "metadata": {
        "id": "9uL9aBgkBzVw",
        "colab_type": "code",
        "colab": {}
      },
      "source": [
        "learn.save('unfreeze_all')"
      ],
      "execution_count": 0,
      "outputs": []
    },
    {
      "cell_type": "code",
      "metadata": {
        "id": "GAHYB_TDB2qv",
        "colab_type": "code",
        "colab": {}
      },
      "source": [
        "learn.load('unfreeze_all')"
      ],
      "execution_count": 0,
      "outputs": []
    },
    {
      "cell_type": "code",
      "metadata": {
        "id": "pLDQnAO0G9qc",
        "colab_type": "code",
        "colab": {}
      },
      "source": [
        "# 60-> 67% improvement in accuracy"
      ],
      "execution_count": 0,
      "outputs": []
    },
    {
      "cell_type": "code",
      "metadata": {
        "id": "sZacni0oHD49",
        "colab_type": "code",
        "colab": {}
      },
      "source": [
        "# next steps \n",
        "# learn deeper at the LM stage.. and the classifier model too 10 cycles see its effect on the  percentage above\n",
        "# throw in a pd.cross tab for a confusion matrix\n",
        "# and possibly a rank n accuracy matric"
      ],
      "execution_count": 0,
      "outputs": []
    },
    {
      "cell_type": "code",
      "metadata": {
        "id": "WfqC2JbVQZLB",
        "colab_type": "code",
        "colab": {}
      },
      "source": [
        "preds, targets = learn.get_preds()"
      ],
      "execution_count": 0,
      "outputs": []
    },
    {
      "cell_type": "code",
      "metadata": {
        "id": "j9z4nTJARenO",
        "colab_type": "code",
        "colab": {
          "base_uri": "https://localhost:8080/",
          "height": 669
        },
        "outputId": "48e90591-4cbd-4f42-cfc6-a38346335d9a"
      },
      "source": [
        "predictions = np.argmax(preds, axis = 1)\n",
        "pd.crosstab(predictions, targets)"
      ],
      "execution_count": 144,
      "outputs": [
        {
          "output_type": "execute_result",
          "data": {
            "text/html": [
              "<div>\n",
              "<style scoped>\n",
              "    .dataframe tbody tr th:only-of-type {\n",
              "        vertical-align: middle;\n",
              "    }\n",
              "\n",
              "    .dataframe tbody tr th {\n",
              "        vertical-align: top;\n",
              "    }\n",
              "\n",
              "    .dataframe thead th {\n",
              "        text-align: right;\n",
              "    }\n",
              "</style>\n",
              "<table border=\"1\" class=\"dataframe\">\n",
              "  <thead>\n",
              "    <tr style=\"text-align: right;\">\n",
              "      <th>col_0</th>\n",
              "      <th>0</th>\n",
              "      <th>1</th>\n",
              "      <th>2</th>\n",
              "      <th>3</th>\n",
              "      <th>4</th>\n",
              "      <th>5</th>\n",
              "      <th>6</th>\n",
              "      <th>7</th>\n",
              "      <th>8</th>\n",
              "      <th>9</th>\n",
              "      <th>10</th>\n",
              "      <th>11</th>\n",
              "      <th>12</th>\n",
              "      <th>13</th>\n",
              "      <th>14</th>\n",
              "      <th>15</th>\n",
              "      <th>16</th>\n",
              "      <th>17</th>\n",
              "      <th>18</th>\n",
              "      <th>19</th>\n",
              "    </tr>\n",
              "    <tr>\n",
              "      <th>row_0</th>\n",
              "      <th></th>\n",
              "      <th></th>\n",
              "      <th></th>\n",
              "      <th></th>\n",
              "      <th></th>\n",
              "      <th></th>\n",
              "      <th></th>\n",
              "      <th></th>\n",
              "      <th></th>\n",
              "      <th></th>\n",
              "      <th></th>\n",
              "      <th></th>\n",
              "      <th></th>\n",
              "      <th></th>\n",
              "      <th></th>\n",
              "      <th></th>\n",
              "      <th></th>\n",
              "      <th></th>\n",
              "      <th></th>\n",
              "      <th></th>\n",
              "    </tr>\n",
              "  </thead>\n",
              "  <tbody>\n",
              "    <tr>\n",
              "      <th>0</th>\n",
              "      <td>97</td>\n",
              "      <td>2</td>\n",
              "      <td>0</td>\n",
              "      <td>1</td>\n",
              "      <td>0</td>\n",
              "      <td>0</td>\n",
              "      <td>0</td>\n",
              "      <td>0</td>\n",
              "      <td>3</td>\n",
              "      <td>1</td>\n",
              "      <td>2</td>\n",
              "      <td>2</td>\n",
              "      <td>0</td>\n",
              "      <td>5</td>\n",
              "      <td>4</td>\n",
              "      <td>13</td>\n",
              "      <td>3</td>\n",
              "      <td>10</td>\n",
              "      <td>14</td>\n",
              "      <td>31</td>\n",
              "    </tr>\n",
              "    <tr>\n",
              "      <th>1</th>\n",
              "      <td>0</td>\n",
              "      <td>147</td>\n",
              "      <td>16</td>\n",
              "      <td>11</td>\n",
              "      <td>9</td>\n",
              "      <td>27</td>\n",
              "      <td>2</td>\n",
              "      <td>0</td>\n",
              "      <td>2</td>\n",
              "      <td>1</td>\n",
              "      <td>1</td>\n",
              "      <td>4</td>\n",
              "      <td>9</td>\n",
              "      <td>5</td>\n",
              "      <td>6</td>\n",
              "      <td>2</td>\n",
              "      <td>0</td>\n",
              "      <td>0</td>\n",
              "      <td>2</td>\n",
              "      <td>0</td>\n",
              "    </tr>\n",
              "    <tr>\n",
              "      <th>2</th>\n",
              "      <td>0</td>\n",
              "      <td>24</td>\n",
              "      <td>160</td>\n",
              "      <td>27</td>\n",
              "      <td>9</td>\n",
              "      <td>9</td>\n",
              "      <td>4</td>\n",
              "      <td>1</td>\n",
              "      <td>1</td>\n",
              "      <td>0</td>\n",
              "      <td>1</td>\n",
              "      <td>6</td>\n",
              "      <td>4</td>\n",
              "      <td>0</td>\n",
              "      <td>4</td>\n",
              "      <td>0</td>\n",
              "      <td>2</td>\n",
              "      <td>0</td>\n",
              "      <td>0</td>\n",
              "      <td>0</td>\n",
              "    </tr>\n",
              "    <tr>\n",
              "      <th>3</th>\n",
              "      <td>0</td>\n",
              "      <td>10</td>\n",
              "      <td>22</td>\n",
              "      <td>130</td>\n",
              "      <td>20</td>\n",
              "      <td>2</td>\n",
              "      <td>10</td>\n",
              "      <td>0</td>\n",
              "      <td>0</td>\n",
              "      <td>0</td>\n",
              "      <td>0</td>\n",
              "      <td>1</td>\n",
              "      <td>13</td>\n",
              "      <td>0</td>\n",
              "      <td>0</td>\n",
              "      <td>0</td>\n",
              "      <td>0</td>\n",
              "      <td>1</td>\n",
              "      <td>0</td>\n",
              "      <td>0</td>\n",
              "    </tr>\n",
              "    <tr>\n",
              "      <th>4</th>\n",
              "      <td>0</td>\n",
              "      <td>4</td>\n",
              "      <td>9</td>\n",
              "      <td>28</td>\n",
              "      <td>159</td>\n",
              "      <td>4</td>\n",
              "      <td>6</td>\n",
              "      <td>3</td>\n",
              "      <td>0</td>\n",
              "      <td>2</td>\n",
              "      <td>0</td>\n",
              "      <td>2</td>\n",
              "      <td>11</td>\n",
              "      <td>0</td>\n",
              "      <td>3</td>\n",
              "      <td>0</td>\n",
              "      <td>0</td>\n",
              "      <td>1</td>\n",
              "      <td>0</td>\n",
              "      <td>0</td>\n",
              "    </tr>\n",
              "    <tr>\n",
              "      <th>5</th>\n",
              "      <td>0</td>\n",
              "      <td>9</td>\n",
              "      <td>8</td>\n",
              "      <td>0</td>\n",
              "      <td>2</td>\n",
              "      <td>181</td>\n",
              "      <td>2</td>\n",
              "      <td>0</td>\n",
              "      <td>0</td>\n",
              "      <td>0</td>\n",
              "      <td>0</td>\n",
              "      <td>4</td>\n",
              "      <td>0</td>\n",
              "      <td>0</td>\n",
              "      <td>0</td>\n",
              "      <td>1</td>\n",
              "      <td>0</td>\n",
              "      <td>2</td>\n",
              "      <td>0</td>\n",
              "      <td>0</td>\n",
              "    </tr>\n",
              "    <tr>\n",
              "      <th>6</th>\n",
              "      <td>0</td>\n",
              "      <td>5</td>\n",
              "      <td>1</td>\n",
              "      <td>5</td>\n",
              "      <td>3</td>\n",
              "      <td>2</td>\n",
              "      <td>177</td>\n",
              "      <td>6</td>\n",
              "      <td>5</td>\n",
              "      <td>2</td>\n",
              "      <td>1</td>\n",
              "      <td>2</td>\n",
              "      <td>10</td>\n",
              "      <td>1</td>\n",
              "      <td>1</td>\n",
              "      <td>2</td>\n",
              "      <td>3</td>\n",
              "      <td>1</td>\n",
              "      <td>0</td>\n",
              "      <td>0</td>\n",
              "    </tr>\n",
              "    <tr>\n",
              "      <th>7</th>\n",
              "      <td>1</td>\n",
              "      <td>0</td>\n",
              "      <td>1</td>\n",
              "      <td>2</td>\n",
              "      <td>3</td>\n",
              "      <td>0</td>\n",
              "      <td>6</td>\n",
              "      <td>163</td>\n",
              "      <td>25</td>\n",
              "      <td>2</td>\n",
              "      <td>2</td>\n",
              "      <td>1</td>\n",
              "      <td>10</td>\n",
              "      <td>1</td>\n",
              "      <td>4</td>\n",
              "      <td>0</td>\n",
              "      <td>4</td>\n",
              "      <td>0</td>\n",
              "      <td>2</td>\n",
              "      <td>3</td>\n",
              "    </tr>\n",
              "    <tr>\n",
              "      <th>8</th>\n",
              "      <td>12</td>\n",
              "      <td>4</td>\n",
              "      <td>2</td>\n",
              "      <td>8</td>\n",
              "      <td>2</td>\n",
              "      <td>1</td>\n",
              "      <td>7</td>\n",
              "      <td>25</td>\n",
              "      <td>179</td>\n",
              "      <td>7</td>\n",
              "      <td>3</td>\n",
              "      <td>4</td>\n",
              "      <td>5</td>\n",
              "      <td>7</td>\n",
              "      <td>9</td>\n",
              "      <td>1</td>\n",
              "      <td>12</td>\n",
              "      <td>3</td>\n",
              "      <td>7</td>\n",
              "      <td>6</td>\n",
              "    </tr>\n",
              "    <tr>\n",
              "      <th>9</th>\n",
              "      <td>5</td>\n",
              "      <td>3</td>\n",
              "      <td>2</td>\n",
              "      <td>1</td>\n",
              "      <td>4</td>\n",
              "      <td>6</td>\n",
              "      <td>3</td>\n",
              "      <td>5</td>\n",
              "      <td>6</td>\n",
              "      <td>201</td>\n",
              "      <td>24</td>\n",
              "      <td>3</td>\n",
              "      <td>3</td>\n",
              "      <td>7</td>\n",
              "      <td>10</td>\n",
              "      <td>2</td>\n",
              "      <td>6</td>\n",
              "      <td>7</td>\n",
              "      <td>4</td>\n",
              "      <td>10</td>\n",
              "    </tr>\n",
              "    <tr>\n",
              "      <th>10</th>\n",
              "      <td>0</td>\n",
              "      <td>0</td>\n",
              "      <td>0</td>\n",
              "      <td>0</td>\n",
              "      <td>1</td>\n",
              "      <td>0</td>\n",
              "      <td>1</td>\n",
              "      <td>2</td>\n",
              "      <td>1</td>\n",
              "      <td>8</td>\n",
              "      <td>195</td>\n",
              "      <td>1</td>\n",
              "      <td>0</td>\n",
              "      <td>0</td>\n",
              "      <td>0</td>\n",
              "      <td>2</td>\n",
              "      <td>1</td>\n",
              "      <td>2</td>\n",
              "      <td>3</td>\n",
              "      <td>0</td>\n",
              "    </tr>\n",
              "    <tr>\n",
              "      <th>11</th>\n",
              "      <td>9</td>\n",
              "      <td>9</td>\n",
              "      <td>7</td>\n",
              "      <td>2</td>\n",
              "      <td>5</td>\n",
              "      <td>1</td>\n",
              "      <td>7</td>\n",
              "      <td>9</td>\n",
              "      <td>4</td>\n",
              "      <td>7</td>\n",
              "      <td>6</td>\n",
              "      <td>178</td>\n",
              "      <td>11</td>\n",
              "      <td>8</td>\n",
              "      <td>13</td>\n",
              "      <td>5</td>\n",
              "      <td>7</td>\n",
              "      <td>6</td>\n",
              "      <td>10</td>\n",
              "      <td>3</td>\n",
              "    </tr>\n",
              "    <tr>\n",
              "      <th>12</th>\n",
              "      <td>0</td>\n",
              "      <td>7</td>\n",
              "      <td>4</td>\n",
              "      <td>15</td>\n",
              "      <td>10</td>\n",
              "      <td>4</td>\n",
              "      <td>5</td>\n",
              "      <td>7</td>\n",
              "      <td>2</td>\n",
              "      <td>1</td>\n",
              "      <td>0</td>\n",
              "      <td>4</td>\n",
              "      <td>143</td>\n",
              "      <td>4</td>\n",
              "      <td>4</td>\n",
              "      <td>0</td>\n",
              "      <td>2</td>\n",
              "      <td>1</td>\n",
              "      <td>0</td>\n",
              "      <td>0</td>\n",
              "    </tr>\n",
              "    <tr>\n",
              "      <th>13</th>\n",
              "      <td>3</td>\n",
              "      <td>5</td>\n",
              "      <td>3</td>\n",
              "      <td>1</td>\n",
              "      <td>0</td>\n",
              "      <td>0</td>\n",
              "      <td>0</td>\n",
              "      <td>1</td>\n",
              "      <td>0</td>\n",
              "      <td>3</td>\n",
              "      <td>2</td>\n",
              "      <td>4</td>\n",
              "      <td>3</td>\n",
              "      <td>191</td>\n",
              "      <td>1</td>\n",
              "      <td>1</td>\n",
              "      <td>2</td>\n",
              "      <td>5</td>\n",
              "      <td>5</td>\n",
              "      <td>1</td>\n",
              "    </tr>\n",
              "    <tr>\n",
              "      <th>14</th>\n",
              "      <td>8</td>\n",
              "      <td>4</td>\n",
              "      <td>1</td>\n",
              "      <td>2</td>\n",
              "      <td>0</td>\n",
              "      <td>0</td>\n",
              "      <td>1</td>\n",
              "      <td>1</td>\n",
              "      <td>0</td>\n",
              "      <td>2</td>\n",
              "      <td>2</td>\n",
              "      <td>2</td>\n",
              "      <td>5</td>\n",
              "      <td>4</td>\n",
              "      <td>165</td>\n",
              "      <td>3</td>\n",
              "      <td>3</td>\n",
              "      <td>1</td>\n",
              "      <td>3</td>\n",
              "      <td>4</td>\n",
              "    </tr>\n",
              "    <tr>\n",
              "      <th>15</th>\n",
              "      <td>30</td>\n",
              "      <td>0</td>\n",
              "      <td>0</td>\n",
              "      <td>0</td>\n",
              "      <td>0</td>\n",
              "      <td>0</td>\n",
              "      <td>0</td>\n",
              "      <td>1</td>\n",
              "      <td>1</td>\n",
              "      <td>0</td>\n",
              "      <td>0</td>\n",
              "      <td>1</td>\n",
              "      <td>0</td>\n",
              "      <td>1</td>\n",
              "      <td>3</td>\n",
              "      <td>180</td>\n",
              "      <td>1</td>\n",
              "      <td>1</td>\n",
              "      <td>2</td>\n",
              "      <td>46</td>\n",
              "    </tr>\n",
              "    <tr>\n",
              "      <th>16</th>\n",
              "      <td>10</td>\n",
              "      <td>0</td>\n",
              "      <td>0</td>\n",
              "      <td>0</td>\n",
              "      <td>1</td>\n",
              "      <td>0</td>\n",
              "      <td>1</td>\n",
              "      <td>5</td>\n",
              "      <td>5</td>\n",
              "      <td>1</td>\n",
              "      <td>0</td>\n",
              "      <td>9</td>\n",
              "      <td>7</td>\n",
              "      <td>1</td>\n",
              "      <td>1</td>\n",
              "      <td>2</td>\n",
              "      <td>151</td>\n",
              "      <td>4</td>\n",
              "      <td>14</td>\n",
              "      <td>15</td>\n",
              "    </tr>\n",
              "    <tr>\n",
              "      <th>17</th>\n",
              "      <td>7</td>\n",
              "      <td>0</td>\n",
              "      <td>0</td>\n",
              "      <td>0</td>\n",
              "      <td>1</td>\n",
              "      <td>0</td>\n",
              "      <td>1</td>\n",
              "      <td>1</td>\n",
              "      <td>0</td>\n",
              "      <td>0</td>\n",
              "      <td>0</td>\n",
              "      <td>1</td>\n",
              "      <td>1</td>\n",
              "      <td>1</td>\n",
              "      <td>1</td>\n",
              "      <td>5</td>\n",
              "      <td>4</td>\n",
              "      <td>172</td>\n",
              "      <td>8</td>\n",
              "      <td>9</td>\n",
              "    </tr>\n",
              "    <tr>\n",
              "      <th>18</th>\n",
              "      <td>3</td>\n",
              "      <td>1</td>\n",
              "      <td>0</td>\n",
              "      <td>3</td>\n",
              "      <td>2</td>\n",
              "      <td>0</td>\n",
              "      <td>1</td>\n",
              "      <td>5</td>\n",
              "      <td>3</td>\n",
              "      <td>1</td>\n",
              "      <td>1</td>\n",
              "      <td>9</td>\n",
              "      <td>1</td>\n",
              "      <td>1</td>\n",
              "      <td>8</td>\n",
              "      <td>5</td>\n",
              "      <td>12</td>\n",
              "      <td>8</td>\n",
              "      <td>108</td>\n",
              "      <td>4</td>\n",
              "    </tr>\n",
              "    <tr>\n",
              "      <th>19</th>\n",
              "      <td>7</td>\n",
              "      <td>0</td>\n",
              "      <td>0</td>\n",
              "      <td>0</td>\n",
              "      <td>0</td>\n",
              "      <td>0</td>\n",
              "      <td>0</td>\n",
              "      <td>3</td>\n",
              "      <td>2</td>\n",
              "      <td>0</td>\n",
              "      <td>0</td>\n",
              "      <td>0</td>\n",
              "      <td>0</td>\n",
              "      <td>1</td>\n",
              "      <td>0</td>\n",
              "      <td>16</td>\n",
              "      <td>5</td>\n",
              "      <td>1</td>\n",
              "      <td>4</td>\n",
              "      <td>19</td>\n",
              "    </tr>\n",
              "  </tbody>\n",
              "</table>\n",
              "</div>"
            ],
            "text/plain": [
              "col_0  0    1    2    3    4    5    6   ...   13   14   15   16   17   18  19\n",
              "row_0                                    ...                                  \n",
              "0      97    2    0    1    0    0    0  ...    5    4   13    3   10   14  31\n",
              "1       0  147   16   11    9   27    2  ...    5    6    2    0    0    2   0\n",
              "2       0   24  160   27    9    9    4  ...    0    4    0    2    0    0   0\n",
              "3       0   10   22  130   20    2   10  ...    0    0    0    0    1    0   0\n",
              "4       0    4    9   28  159    4    6  ...    0    3    0    0    1    0   0\n",
              "5       0    9    8    0    2  181    2  ...    0    0    1    0    2    0   0\n",
              "6       0    5    1    5    3    2  177  ...    1    1    2    3    1    0   0\n",
              "7       1    0    1    2    3    0    6  ...    1    4    0    4    0    2   3\n",
              "8      12    4    2    8    2    1    7  ...    7    9    1   12    3    7   6\n",
              "9       5    3    2    1    4    6    3  ...    7   10    2    6    7    4  10\n",
              "10      0    0    0    0    1    0    1  ...    0    0    2    1    2    3   0\n",
              "11      9    9    7    2    5    1    7  ...    8   13    5    7    6   10   3\n",
              "12      0    7    4   15   10    4    5  ...    4    4    0    2    1    0   0\n",
              "13      3    5    3    1    0    0    0  ...  191    1    1    2    5    5   1\n",
              "14      8    4    1    2    0    0    1  ...    4  165    3    3    1    3   4\n",
              "15     30    0    0    0    0    0    0  ...    1    3  180    1    1    2  46\n",
              "16     10    0    0    0    1    0    1  ...    1    1    2  151    4   14  15\n",
              "17      7    0    0    0    1    0    1  ...    1    1    5    4  172    8   9\n",
              "18      3    1    0    3    2    0    1  ...    1    8    5   12    8  108   4\n",
              "19      7    0    0    0    0    0    0  ...    1    0   16    5    1    4  19\n",
              "\n",
              "[20 rows x 20 columns]"
            ]
          },
          "metadata": {
            "tags": []
          },
          "execution_count": 144
        }
      ]
    },
    {
      "cell_type": "code",
      "metadata": {
        "id": "ke7kR4qBRiql",
        "colab_type": "code",
        "colab": {}
      },
      "source": [
        "#np.mean(predictions==targets)"
      ],
      "execution_count": 0,
      "outputs": []
    },
    {
      "cell_type": "code",
      "metadata": {
        "id": "cVDkVyfqJAbc",
        "colab_type": "code",
        "colab": {}
      },
      "source": [
        ""
      ],
      "execution_count": 0,
      "outputs": []
    }
  ]
}