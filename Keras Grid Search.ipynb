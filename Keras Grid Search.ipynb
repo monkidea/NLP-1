{
    "metadata": {
        "language_info": {
            "codemirror_mode": {
                "name": "ipython", 
                "version": 3
            }, 
            "pygments_lexer": "ipython3", 
            "file_extension": ".py", 
            "name": "python", 
            "version": "3.5.2", 
            "mimetype": "text/x-python", 
            "nbconvert_exporter": "python"
        }, 
        "kernelspec": {
            "language": "python", 
            "display_name": "Python 3.5 (Experimental) with Spark 2.1", 
            "name": "python3-spark21"
        }
    }, 
    "nbformat": 4, 
    "cells": [
        {
            "metadata": {}, 
            "execution_count": 1, 
            "cell_type": "code", 
            "source": " # blank for imports", 
            "outputs": []
        }, 
        {
            "metadata": {}, 
            "execution_count": 5, 
            "cell_type": "code", 
            "source": "# MLP for Pima Indians Dataset with grid search via sklearn\nfrom keras.models import Sequential\nfrom keras.layers import Dense\nfrom keras.wrappers.scikit_learn import KerasClassifier\nfrom sklearn.model_selection import GridSearchCV\nimport numpy", 
            "outputs": []
        }, 
        {
            "metadata": {}, 
            "execution_count": 6, 
            "cell_type": "code", 
            "source": "# Function to create model, required for KerasClassifier\ndef create_model(optimizer='rmsprop', init='glorot_uniform'):\n# create model\n    model = Sequential()\n    model.add(Dense(12, input_dim=8, kernel_initializer=init, activation='relu'))\n    model.add(Dense(8, kernel_initializer=init, activation='relu'))\n    model.add(Dense(1, kernel_initializer=init, activation='sigmoid'))\n    \n# Compile model\n    model.compile(loss='binary_crossentropy', optimizer=optimizer, metrics=['accuracy'])\n    return model\n    # end of fun\n# end of fun", 
            "outputs": []
        }, 
        {
            "metadata": {}, 
            "execution_count": 7, 
            "cell_type": "code", 
            "source": "# fix random seed for reproducibility\nseed = 7\nnumpy.random.seed(seed)\n\n# load pima indians dataset\ndataset = numpy.loadtxt(\"pima-indians-diabetes.csv\", delimiter=\",\")\n\n# split into input (X) and output (Y) variables\nX = dataset[:,0:8]\nY = dataset[:,8]\n\n# create model\nmodel = KerasClassifier(build_fn=create_model, verbose=0)\n", 
            "outputs": []
        }, 
        {
            "metadata": {}, 
            "execution_count": 8, 
            "cell_type": "code", 
            "source": "\n# grid search epochs, batch size and optimizer\noptimizers = ['rmsprop', 'adam']\ninits = ['glorot_uniform', 'normal', 'uniform']\nepochs = [50, 100, 150]\nbatches = [5, 10, 20]\nparam_grid = dict(optimizer=optimizers, epochs=epochs, batch_size=batches, init=inits)\ngrid = GridSearchCV(estimator=model, param_grid=param_grid)\ngrid_result = grid.fit(X, Y)\n", 
            "outputs": []
        }, 
        {
            "metadata": {}, 
            "execution_count": 9, 
            "cell_type": "code", 
            "source": "\n# summarize results\nprint(\"Best: %f using %s\" % (grid_result.best_score_, grid_result.best_params_))\nmeans = grid_result.cv_results_['mean_test_score']\nstds = grid_result.cv_results_['std_test_score']\nparams = grid_result.cv_results_['params']\n\nfor mean, stdev, param in zip(means, stds, params):\n    print(\"%f (%f) with: %r\" % (mean, stdev, param))", 
            "outputs": [
                {
                    "name": "stdout", 
                    "output_type": "stream", 
                    "text": "Best: 0.757813 using {'batch_size': 5, 'optimizer': 'adam', 'epochs': 150, 'init': 'uniform'}\n0.688802 (0.013279) with: {'batch_size': 5, 'optimizer': 'rmsprop', 'epochs': 50, 'init': 'glorot_uniform'}\n0.669271 (0.043067) with: {'batch_size': 5, 'optimizer': 'adam', 'epochs': 50, 'init': 'glorot_uniform'}\n0.699219 (0.016573) with: {'batch_size': 5, 'optimizer': 'rmsprop', 'epochs': 50, 'init': 'normal'}\n0.709635 (0.012890) with: {'batch_size': 5, 'optimizer': 'adam', 'epochs': 50, 'init': 'normal'}\n0.720052 (0.006639) with: {'batch_size': 5, 'optimizer': 'rmsprop', 'epochs': 50, 'init': 'uniform'}\n0.721354 (0.007366) with: {'batch_size': 5, 'optimizer': 'adam', 'epochs': 50, 'init': 'uniform'}\n0.695313 (0.015947) with: {'batch_size': 5, 'optimizer': 'rmsprop', 'epochs': 100, 'init': 'glorot_uniform'}\n0.675781 (0.044194) with: {'batch_size': 5, 'optimizer': 'adam', 'epochs': 100, 'init': 'glorot_uniform'}\n0.735677 (0.012890) with: {'batch_size': 5, 'optimizer': 'rmsprop', 'epochs': 100, 'init': 'normal'}\n0.726563 (0.019918) with: {'batch_size': 5, 'optimizer': 'adam', 'epochs': 100, 'init': 'normal'}\n0.726563 (0.011500) with: {'batch_size': 5, 'optimizer': 'rmsprop', 'epochs': 100, 'init': 'uniform'}\n0.735677 (0.023939) with: {'batch_size': 5, 'optimizer': 'adam', 'epochs': 100, 'init': 'uniform'}\n0.700521 (0.044804) with: {'batch_size': 5, 'optimizer': 'rmsprop', 'epochs': 150, 'init': 'glorot_uniform'}\n0.707031 (0.043146) with: {'batch_size': 5, 'optimizer': 'adam', 'epochs': 150, 'init': 'glorot_uniform'}\n0.750000 (0.022326) with: {'batch_size': 5, 'optimizer': 'rmsprop', 'epochs': 150, 'init': 'normal'}\n0.740885 (0.021236) with: {'batch_size': 5, 'optimizer': 'adam', 'epochs': 150, 'init': 'normal'}\n0.747396 (0.020505) with: {'batch_size': 5, 'optimizer': 'rmsprop', 'epochs': 150, 'init': 'uniform'}\n0.757813 (0.026107) with: {'batch_size': 5, 'optimizer': 'adam', 'epochs': 150, 'init': 'uniform'}\n0.651042 (0.028940) with: {'batch_size': 10, 'optimizer': 'rmsprop', 'epochs': 50, 'init': 'glorot_uniform'}\n0.653646 (0.022628) with: {'batch_size': 10, 'optimizer': 'adam', 'epochs': 50, 'init': 'glorot_uniform'}\n0.687500 (0.011500) with: {'batch_size': 10, 'optimizer': 'rmsprop', 'epochs': 50, 'init': 'normal'}\n0.708333 (0.020752) with: {'batch_size': 10, 'optimizer': 'adam', 'epochs': 50, 'init': 'normal'}\n0.703125 (0.025315) with: {'batch_size': 10, 'optimizer': 'rmsprop', 'epochs': 50, 'init': 'uniform'}\n0.697917 (0.020505) with: {'batch_size': 10, 'optimizer': 'adam', 'epochs': 50, 'init': 'uniform'}\n0.673177 (0.027498) with: {'batch_size': 10, 'optimizer': 'rmsprop', 'epochs': 100, 'init': 'glorot_uniform'}\n0.558594 (0.167681) with: {'batch_size': 10, 'optimizer': 'adam', 'epochs': 100, 'init': 'glorot_uniform'}\n0.717448 (0.016367) with: {'batch_size': 10, 'optimizer': 'rmsprop', 'epochs': 100, 'init': 'normal'}\n0.729167 (0.021236) with: {'batch_size': 10, 'optimizer': 'adam', 'epochs': 100, 'init': 'normal'}\n0.722656 (0.006379) with: {'batch_size': 10, 'optimizer': 'rmsprop', 'epochs': 100, 'init': 'uniform'}\n0.695313 (0.030758) with: {'batch_size': 10, 'optimizer': 'adam', 'epochs': 100, 'init': 'uniform'}\n0.692708 (0.012890) with: {'batch_size': 10, 'optimizer': 'rmsprop', 'epochs': 150, 'init': 'glorot_uniform'}\n0.700521 (0.019225) with: {'batch_size': 10, 'optimizer': 'adam', 'epochs': 150, 'init': 'glorot_uniform'}\n0.743490 (0.022628) with: {'batch_size': 10, 'optimizer': 'rmsprop', 'epochs': 150, 'init': 'normal'}\n0.734375 (0.014616) with: {'batch_size': 10, 'optimizer': 'adam', 'epochs': 150, 'init': 'normal'}\n0.746094 (0.022999) with: {'batch_size': 10, 'optimizer': 'rmsprop', 'epochs': 150, 'init': 'uniform'}\n0.722656 (0.014616) with: {'batch_size': 10, 'optimizer': 'adam', 'epochs': 150, 'init': 'uniform'}\n0.587240 (0.144982) with: {'batch_size': 20, 'optimizer': 'rmsprop', 'epochs': 50, 'init': 'glorot_uniform'}\n0.660156 (0.025516) with: {'batch_size': 20, 'optimizer': 'adam', 'epochs': 50, 'init': 'glorot_uniform'}\n0.670573 (0.018688) with: {'batch_size': 20, 'optimizer': 'rmsprop', 'epochs': 50, 'init': 'normal'}\n0.692708 (0.021236) with: {'batch_size': 20, 'optimizer': 'adam', 'epochs': 50, 'init': 'normal'}\n0.690104 (0.012075) with: {'batch_size': 20, 'optimizer': 'rmsprop', 'epochs': 50, 'init': 'uniform'}\n0.686198 (0.021710) with: {'batch_size': 20, 'optimizer': 'adam', 'epochs': 50, 'init': 'uniform'}\n0.666667 (0.038582) with: {'batch_size': 20, 'optimizer': 'rmsprop', 'epochs': 100, 'init': 'glorot_uniform'}\n0.677083 (0.014731) with: {'batch_size': 20, 'optimizer': 'adam', 'epochs': 100, 'init': 'glorot_uniform'}\n0.713542 (0.011201) with: {'batch_size': 20, 'optimizer': 'rmsprop', 'epochs': 100, 'init': 'normal'}\n0.720052 (0.012890) with: {'batch_size': 20, 'optimizer': 'adam', 'epochs': 100, 'init': 'normal'}\n0.722656 (0.011500) with: {'batch_size': 20, 'optimizer': 'rmsprop', 'epochs': 100, 'init': 'uniform'}\n0.716146 (0.022402) with: {'batch_size': 20, 'optimizer': 'adam', 'epochs': 100, 'init': 'uniform'}\n0.682292 (0.019225) with: {'batch_size': 20, 'optimizer': 'rmsprop', 'epochs': 150, 'init': 'glorot_uniform'}\n0.710937 (0.022999) with: {'batch_size': 20, 'optimizer': 'adam', 'epochs': 150, 'init': 'glorot_uniform'}\n0.726563 (0.022999) with: {'batch_size': 20, 'optimizer': 'rmsprop', 'epochs': 150, 'init': 'normal'}\n0.725260 (0.022628) with: {'batch_size': 20, 'optimizer': 'adam', 'epochs': 150, 'init': 'normal'}\n0.727865 (0.014382) with: {'batch_size': 20, 'optimizer': 'rmsprop', 'epochs': 150, 'init': 'uniform'}\n0.721354 (0.013279) with: {'batch_size': 20, 'optimizer': 'adam', 'epochs': 150, 'init': 'uniform'}\n"
                }
            ]
        }, 
        {
            "metadata": {}, 
            "execution_count": null, 
            "cell_type": "code", 
            "source": "", 
            "outputs": []
        }, 
        {
            "metadata": {}, 
            "execution_count": null, 
            "cell_type": "code", 
            "source": "", 
            "outputs": []
        }, 
        {
            "metadata": {}, 
            "execution_count": null, 
            "cell_type": "code", 
            "source": "", 
            "outputs": []
        }, 
        {
            "metadata": {}, 
            "execution_count": null, 
            "cell_type": "code", 
            "source": "", 
            "outputs": []
        }, 
        {
            "metadata": {}, 
            "execution_count": null, 
            "cell_type": "code", 
            "source": "", 
            "outputs": []
        }, 
        {
            "metadata": {}, 
            "execution_count": null, 
            "cell_type": "code", 
            "source": "", 
            "outputs": []
        }, 
        {
            "metadata": {}, 
            "execution_count": null, 
            "cell_type": "code", 
            "source": "", 
            "outputs": []
        }
    ], 
    "nbformat_minor": 1
}