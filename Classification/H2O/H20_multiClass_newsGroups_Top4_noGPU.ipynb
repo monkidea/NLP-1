{
  "nbformat": 4,
  "nbformat_minor": 0,
  "metadata": {
    "colab": {
      "name": "H20_multiClass_newsGroups_Top4_noGPU.ipynb",
      "provenance": [],
      "collapsed_sections": [],
      "include_colab_link": true
    },
    "kernelspec": {
      "name": "python3",
      "display_name": "Python 3"
    }
  },
  "cells": [
    {
      "cell_type": "markdown",
      "metadata": {
        "id": "view-in-github",
        "colab_type": "text"
      },
      "source": [
        "<a href=\"https://colab.research.google.com/github/ronykroy/NLP/blob/master/H20_multiClass_newsGroups_Top4_noGPU.ipynb\" target=\"_parent\"><img src=\"https://colab.research.google.com/assets/colab-badge.svg\" alt=\"Open In Colab\"/></a>"
      ]
    },
    {
      "cell_type": "code",
      "metadata": {
        "id": "4h8LRTyotp7c",
        "colab_type": "code",
        "colab": {}
      },
      "source": [
        "# No GPU excluded deeplearning models"
      ],
      "execution_count": 0,
      "outputs": []
    },
    {
      "cell_type": "code",
      "metadata": {
        "id": "FfMSV-aHdf0h",
        "colab_type": "code",
        "outputId": "036d24fd-9603-452e-a936-87ca7237c1f1",
        "colab": {
          "base_uri": "https://localhost:8080/",
          "height": 168
        }
      },
      "source": [
        "!apt-get install default-jre\n",
        "!java -version\n",
        "# install Java.. because.. there is nothing in this colab VM"
      ],
      "execution_count": 0,
      "outputs": [
        {
          "output_type": "stream",
          "text": [
            "Reading package lists... Done\n",
            "Building dependency tree       \n",
            "Reading state information... Done\n",
            "default-jre is already the newest version (2:1.11-68ubuntu1~18.04.1).\n",
            "default-jre set to manually installed.\n",
            "0 upgraded, 0 newly installed, 0 to remove and 28 not upgraded.\n",
            "openjdk version \"11.0.4\" 2019-07-16\n",
            "OpenJDK Runtime Environment (build 11.0.4+11-post-Ubuntu-1ubuntu218.04.3)\n",
            "OpenJDK 64-Bit Server VM (build 11.0.4+11-post-Ubuntu-1ubuntu218.04.3, mixed mode, sharing)\n"
          ],
          "name": "stdout"
        }
      ]
    },
    {
      "cell_type": "code",
      "metadata": {
        "id": "S4JgdiQodh-D",
        "colab_type": "code",
        "outputId": "aefc0d2b-2f0f-4b1d-9753-06305353bdab",
        "colab": {
          "base_uri": "https://localhost:8080/",
          "height": 336
        }
      },
      "source": [
        "! pip install h2o\n",
        "# H2O too to be installed SMH"
      ],
      "execution_count": 0,
      "outputs": [
        {
          "output_type": "stream",
          "text": [
            "Collecting h2o\n",
            "\u001b[?25l  Downloading https://files.pythonhosted.org/packages/26/50/74c2d1393d657b7cbf2ff38bb8338f4c83db36d2013e5d6e497a6f5021a3/h2o-3.26.0.9.tar.gz (123.7MB)\n",
            "\u001b[K     |████████████████████████████████| 123.7MB 88kB/s \n",
            "\u001b[?25hRequirement already satisfied: requests in /usr/local/lib/python3.6/dist-packages (from h2o) (2.21.0)\n",
            "Requirement already satisfied: tabulate in /usr/local/lib/python3.6/dist-packages (from h2o) (0.8.5)\n",
            "Requirement already satisfied: future in /usr/local/lib/python3.6/dist-packages (from h2o) (0.16.0)\n",
            "Collecting colorama>=0.3.8\n",
            "  Downloading https://files.pythonhosted.org/packages/4f/a6/728666f39bfff1719fc94c481890b2106837da9318031f71a8424b662e12/colorama-0.4.1-py2.py3-none-any.whl\n",
            "Requirement already satisfied: chardet<3.1.0,>=3.0.2 in /usr/local/lib/python3.6/dist-packages (from requests->h2o) (3.0.4)\n",
            "Requirement already satisfied: idna<2.9,>=2.5 in /usr/local/lib/python3.6/dist-packages (from requests->h2o) (2.8)\n",
            "Requirement already satisfied: certifi>=2017.4.17 in /usr/local/lib/python3.6/dist-packages (from requests->h2o) (2019.9.11)\n",
            "Requirement already satisfied: urllib3<1.25,>=1.21.1 in /usr/local/lib/python3.6/dist-packages (from requests->h2o) (1.24.3)\n",
            "Building wheels for collected packages: h2o\n",
            "  Building wheel for h2o (setup.py) ... \u001b[?25l\u001b[?25hdone\n",
            "  Created wheel for h2o: filename=h2o-3.26.0.9-py2.py3-none-any.whl size=123719079 sha256=034e9de11698719783d75caa171186369ffe11221013b3beb73713db5fa5db04\n",
            "  Stored in directory: /root/.cache/pip/wheels/ff/a9/36/487108894572fb92f9262ef16b3db700601992274b9705b214\n",
            "Successfully built h2o\n",
            "Installing collected packages: colorama, h2o\n",
            "Successfully installed colorama-0.4.1 h2o-3.26.0.9\n"
          ],
          "name": "stdout"
        }
      ]
    },
    {
      "cell_type": "code",
      "metadata": {
        "id": "66yG3tV0dnMC",
        "colab_type": "code",
        "colab": {}
      },
      "source": [
        "import h2o\n",
        "import pandas as pd\n",
        "import numpy as np\n",
        "from sklearn.model_selection import train_test_split"
      ],
      "execution_count": 0,
      "outputs": []
    },
    {
      "cell_type": "code",
      "metadata": {
        "id": "Y36AZbp5do3E",
        "colab_type": "code",
        "outputId": "62b3cae4-ac31-4ce4-8656-52d1e6daf684",
        "colab": {
          "base_uri": "https://localhost:8080/",
          "height": 510
        }
      },
      "source": [
        "h2o.init(max_mem_size=\"4G\")"
      ],
      "execution_count": 0,
      "outputs": [
        {
          "output_type": "stream",
          "text": [
            "Checking whether there is an H2O instance running at http://localhost:54321 ..... not found.\n",
            "Attempting to start a local H2O server...\n",
            "  Java Version: openjdk version \"11.0.4\" 2019-07-16; OpenJDK Runtime Environment (build 11.0.4+11-post-Ubuntu-1ubuntu218.04.3); OpenJDK 64-Bit Server VM (build 11.0.4+11-post-Ubuntu-1ubuntu218.04.3, mixed mode, sharing)\n",
            "  Starting server from /usr/local/lib/python3.6/dist-packages/h2o/backend/bin/h2o.jar\n",
            "  Ice root: /tmp/tmpmz02m0xy\n",
            "  JVM stdout: /tmp/tmpmz02m0xy/h2o_unknownUser_started_from_python.out\n",
            "  JVM stderr: /tmp/tmpmz02m0xy/h2o_unknownUser_started_from_python.err\n",
            "  Server is running at http://127.0.0.1:54321\n",
            "Connecting to H2O server at http://127.0.0.1:54321 ... successful.\n"
          ],
          "name": "stdout"
        },
        {
          "output_type": "display_data",
          "data": {
            "text/html": [
              "<div style=\"overflow:auto\"><table style=\"width:50%\"><tr><td>H2O cluster uptime:</td>\n",
              "<td>02 secs</td></tr>\n",
              "<tr><td>H2O cluster timezone:</td>\n",
              "<td>Etc/UTC</td></tr>\n",
              "<tr><td>H2O data parsing timezone:</td>\n",
              "<td>UTC</td></tr>\n",
              "<tr><td>H2O cluster version:</td>\n",
              "<td>3.26.0.9</td></tr>\n",
              "<tr><td>H2O cluster version age:</td>\n",
              "<td>6 days </td></tr>\n",
              "<tr><td>H2O cluster name:</td>\n",
              "<td>H2O_from_python_unknownUser_q26nfd</td></tr>\n",
              "<tr><td>H2O cluster total nodes:</td>\n",
              "<td>1</td></tr>\n",
              "<tr><td>H2O cluster free memory:</td>\n",
              "<td>4 Gb</td></tr>\n",
              "<tr><td>H2O cluster total cores:</td>\n",
              "<td>2</td></tr>\n",
              "<tr><td>H2O cluster allowed cores:</td>\n",
              "<td>2</td></tr>\n",
              "<tr><td>H2O cluster status:</td>\n",
              "<td>accepting new members, healthy</td></tr>\n",
              "<tr><td>H2O connection url:</td>\n",
              "<td>http://127.0.0.1:54321</td></tr>\n",
              "<tr><td>H2O connection proxy:</td>\n",
              "<td>{'http': None, 'https': None}</td></tr>\n",
              "<tr><td>H2O internal security:</td>\n",
              "<td>False</td></tr>\n",
              "<tr><td>H2O API Extensions:</td>\n",
              "<td>Amazon S3, XGBoost, Algos, AutoML, Core V3, TargetEncoder, Core V4</td></tr>\n",
              "<tr><td>Python version:</td>\n",
              "<td>3.6.8 final</td></tr></table></div>"
            ],
            "text/plain": [
              "--------------------------  ------------------------------------------------------------------\n",
              "H2O cluster uptime:         02 secs\n",
              "H2O cluster timezone:       Etc/UTC\n",
              "H2O data parsing timezone:  UTC\n",
              "H2O cluster version:        3.26.0.9\n",
              "H2O cluster version age:    6 days\n",
              "H2O cluster name:           H2O_from_python_unknownUser_q26nfd\n",
              "H2O cluster total nodes:    1\n",
              "H2O cluster free memory:    4 Gb\n",
              "H2O cluster total cores:    2\n",
              "H2O cluster allowed cores:  2\n",
              "H2O cluster status:         accepting new members, healthy\n",
              "H2O connection url:         http://127.0.0.1:54321\n",
              "H2O connection proxy:       {'http': None, 'https': None}\n",
              "H2O internal security:      False\n",
              "H2O API Extensions:         Amazon S3, XGBoost, Algos, AutoML, Core V3, TargetEncoder, Core V4\n",
              "Python version:             3.6.8 final\n",
              "--------------------------  ------------------------------------------------------------------"
            ]
          },
          "metadata": {
            "tags": []
          }
        }
      ]
    },
    {
      "cell_type": "code",
      "metadata": {
        "id": "kRt1xkd8dqNi",
        "colab_type": "code",
        "outputId": "3168fd5e-b444-4a82-b81c-868685e802e5",
        "colab": {
          "base_uri": "https://localhost:8080/",
          "height": 84
        }
      },
      "source": [
        "from sklearn.datasets import fetch_20newsgroups\n",
        "dataset = fetch_20newsgroups(shuffle=True, random_state=1, remove=('headers', 'footers', 'quotes'))\n",
        "documents = dataset.data"
      ],
      "execution_count": 0,
      "outputs": [
        {
          "output_type": "stream",
          "text": [
            "Downloading 20news dataset. This may take a few minutes.\n",
            "INFO:sklearn.datasets.twenty_newsgroups:Downloading 20news dataset. This may take a few minutes.\n",
            "Downloading dataset from https://ndownloader.figshare.com/files/5975967 (14 MB)\n",
            "INFO:sklearn.datasets.twenty_newsgroups:Downloading dataset from https://ndownloader.figshare.com/files/5975967 (14 MB)\n"
          ],
          "name": "stderr"
        }
      ]
    },
    {
      "cell_type": "code",
      "metadata": {
        "id": "vAewuduGdvvS",
        "colab_type": "code",
        "colab": {}
      },
      "source": [
        "df = pd.DataFrame({'label':dataset.target, 'text':dataset.data})\n",
        "df_trn, df_test = train_test_split(df, stratify = df['label'], test_size = 0.15, random_state = 11) "
      ],
      "execution_count": 0,
      "outputs": []
    },
    {
      "cell_type": "code",
      "metadata": {
        "id": "v9GCvPAqfilx",
        "colab_type": "code",
        "outputId": "93a283b5-59e2-4c75-ae2a-f67d7e9a4f9e",
        "colab": {
          "base_uri": "https://localhost:8080/",
          "height": 67
        }
      },
      "source": [
        "reviews = h2o.H2OFrame(df)\n",
        "reviews_train = h2o.H2OFrame(df_trn)\n",
        "reviews_test = h2o.H2OFrame(df_test)"
      ],
      "execution_count": 0,
      "outputs": [
        {
          "output_type": "stream",
          "text": [
            "Parse progress: |█████████████████████████████████████████████████████████| 100%\n",
            "Parse progress: |█████████████████████████████████████████████████████████| 100%\n",
            "Parse progress: |█████████████████████████████████████████████████████████| 100%\n"
          ],
          "name": "stdout"
        }
      ]
    },
    {
      "cell_type": "code",
      "metadata": {
        "id": "P3WnviL1eIJw",
        "colab_type": "code",
        "outputId": "16ca56fe-9836-42a2-9caf-7ada0524647f",
        "colab": {
          "base_uri": "https://localhost:8080/",
          "height": 129
        }
      },
      "source": [
        "reviews_train.head(2)"
      ],
      "execution_count": 0,
      "outputs": [
        {
          "output_type": "display_data",
          "data": {
            "text/html": [
              "<table>\n",
              "<thead>\n",
              "<tr><th style=\"text-align: right;\">  label</th><th>text  </th></tr>\n",
              "</thead>\n",
              "<tbody>\n",
              "<tr><td style=\"text-align: right;\">      0</td><td>In <lsran6INN14a@exodus.Eng.Sun.COM> emarsh@hernes-sun.Eng.Sun.COM (Eric \n",
              "\n",
              "\n",
              "\n",
              "\n",
              "\n",
              "\n",
              "\n",
              "\n",
              "\n",
              "\n",
              "\n",
              "Huh?  Please explain.  Is there a problem because I based my morality on \n",
              "something that COULD be wrong?  Gosh, there's a heck of a lot of stuff that I \n",
              "believe that COULD be wrong, and that comes from sources that COULD be wrong. \n",
              "What do you base your belief on atheism on?  Your knowledge and reasoning? \n",
              "COuldn't that be wrong?\n",
              "\n",
              "MAC\n",
              "--\n",
              "****************************************************************\n",
              "                                                    Michael A. Cobb\n",
              " \"...and I won't raise taxes on the middle     University of Illinois\n",
              "    class to pay for my programs.\"                 Champaign-Urbana\n",
              "          -Bill Clinton 3rd Debate             cobb@alexia.lis.uiuc.edu       </td></tr>\n",
              "<tr><td style=\"text-align: right;\">      6</td><td>Nintendo 8 bit system, power pad, light gun (zapper), 2 controllers\n",
              "\n",
              "Games: Supermario, duck hunt, power field, and wings.\n",
              "\n",
              "Asking $80.       </td></tr>\n",
              "</tbody>\n",
              "</table>"
            ]
          },
          "metadata": {
            "tags": []
          }
        },
        {
          "output_type": "execute_result",
          "data": {
            "text/plain": [
              ""
            ]
          },
          "metadata": {
            "tags": []
          },
          "execution_count": 9
        }
      ]
    },
    {
      "cell_type": "code",
      "metadata": {
        "id": "SjHHA5Gke6Px",
        "colab_type": "code",
        "colab": {}
      },
      "source": [
        "# Set Stop Words\n",
        "# The STOP WORDS we are importing are from the nltk package\n",
        "import pandas as pd\n",
        "import os\n",
        "\n",
        "# Use local data file or download from GitHub\n",
        "docker_data_path = \"/home/h2o/data/nlp/stopwords.csv\"\n",
        "if os.path.isfile(docker_data_path):\n",
        "  data_path = docker_data_path\n",
        "else:\n",
        "  data_path = \"https://raw.githubusercontent.com/h2oai/h2o-tutorials/master/h2o-world-2017/nlp/stopwords.csv\"\n",
        "\n",
        "STOP_WORDS = pd.read_csv(data_path, header=0)\n",
        "STOP_WORDS = list(STOP_WORDS['STOP_WORD'])"
      ],
      "execution_count": 0,
      "outputs": []
    },
    {
      "cell_type": "code",
      "metadata": {
        "id": "mXpsXLbrfGyN",
        "colab_type": "code",
        "colab": {}
      },
      "source": [
        "# TODO: review how effective this is in removing junk \\r \\n etc\n",
        "def tokenize(sentences, stop_word = STOP_WORDS):\n",
        "    tokenized = sentences.tokenize(\"\\\\W+\")\n",
        "    tokenized_lower = tokenized.tolower()\n",
        "    tokenized_filtered = tokenized_lower[(tokenized_lower.nchar() >= 2) | (tokenized_lower.isna()),:]\n",
        "    tokenized_words = tokenized_filtered[tokenized_filtered.grep(\"[0-9]\",invert=True,output_logical=True),:]\n",
        "    tokenized_words = tokenized_words[(tokenized_words.isna()) | (~ tokenized_words.isin(STOP_WORDS)),:]\n",
        "    return tokenized_words"
      ],
      "execution_count": 0,
      "outputs": []
    },
    {
      "cell_type": "code",
      "metadata": {
        "id": "6is87Ly4fKSZ",
        "colab_type": "code",
        "outputId": "6513cc7f-b204-47b1-af5d-be8c3cf2c919",
        "colab": {
          "base_uri": "https://localhost:8080/",
          "height": 50
        }
      },
      "source": [
        "%%time\n",
        "# Break reviews into sequence of words\n",
        "words_train = tokenize(reviews_train[\"text\"]) # to check against leakage here...\n",
        "words_test = tokenize(reviews_test[\"text\"]) "
      ],
      "execution_count": 0,
      "outputs": [
        {
          "output_type": "stream",
          "text": [
            "CPU times: user 6.83 s, sys: 140 ms, total: 6.97 s\n",
            "Wall time: 23.6 s\n"
          ],
          "name": "stdout"
        }
      ]
    },
    {
      "cell_type": "code",
      "metadata": {
        "id": "AN_ZlE70fp1y",
        "colab_type": "code",
        "outputId": "6f683779-b876-48c6-d334-926894a3e197",
        "colab": {
          "base_uri": "https://localhost:8080/",
          "height": 238
        }
      },
      "source": [
        "words_train.head()"
      ],
      "execution_count": 0,
      "outputs": [
        {
          "output_type": "display_data",
          "data": {
            "text/html": [
              "<table>\n",
              "<thead>\n",
              "<tr><th>C1    </th></tr>\n",
              "</thead>\n",
              "<tbody>\n",
              "<tr><td>exodus</td></tr>\n",
              "<tr><td>eng   </td></tr>\n",
              "<tr><td>sun   </td></tr>\n",
              "<tr><td>com   </td></tr>\n",
              "<tr><td>emarsh</td></tr>\n",
              "<tr><td>hernes</td></tr>\n",
              "<tr><td>sun   </td></tr>\n",
              "<tr><td>eng   </td></tr>\n",
              "<tr><td>sun   </td></tr>\n",
              "<tr><td>com   </td></tr>\n",
              "</tbody>\n",
              "</table>"
            ]
          },
          "metadata": {
            "tags": []
          }
        },
        {
          "output_type": "execute_result",
          "data": {
            "text/plain": [
              ""
            ]
          },
          "metadata": {
            "tags": []
          },
          "execution_count": 13
        }
      ]
    },
    {
      "cell_type": "code",
      "metadata": {
        "id": "t5pnBHOAfzua",
        "colab_type": "code",
        "outputId": "74e7969f-b313-404d-a800-74259ea882b7",
        "colab": {
          "base_uri": "https://localhost:8080/",
          "height": 67
        }
      },
      "source": [
        "%%time\n",
        "# Train Word2Vec Model\n",
        "from h2o.estimators.word2vec import H2OWord2vecEstimator\n",
        "\n",
        "w2v_model = H2OWord2vecEstimator(vec_size = 200, model_id = \"w2v.hex\")\n",
        "w2v_model.train(training_frame=words_train) # train only on  the train_words  we just got"
      ],
      "execution_count": 0,
      "outputs": [
        {
          "output_type": "stream",
          "text": [
            "word2vec Model Build progress: |██████████████████████████████████████████| 100%\n",
            "CPU times: user 1.84 s, sys: 187 ms, total: 2.03 s\n",
            "Wall time: 4min 39s\n"
          ],
          "name": "stdout"
        }
      ]
    },
    {
      "cell_type": "code",
      "metadata": {
        "id": "wTE3aw2fgHWl",
        "colab_type": "code",
        "outputId": "922fa15a-8f8d-4acf-c5c9-05796e490969",
        "colab": {
          "base_uri": "https://localhost:8080/",
          "height": 101
        }
      },
      "source": [
        "# Sanity check - find synonyms for the word 'president'\n",
        "w2v_model.find_synonyms(\"president\", count = 5) "
      ],
      "execution_count": 0,
      "outputs": [
        {
          "output_type": "execute_result",
          "data": {
            "text/plain": [
              "OrderedDict([('mubarak', 0.7638683915138245),\n",
              "             ('yeltsin', 0.747818648815155),\n",
              "             ('stephanopoulos', 0.7300563454627991),\n",
              "             ('miyazawa', 0.7019920945167542),\n",
              "             ('dole', 0.6614255309104919)])"
            ]
          },
          "metadata": {
            "tags": []
          },
          "execution_count": 15
        }
      ]
    },
    {
      "cell_type": "code",
      "metadata": {
        "id": "PrRlKjA8hBl6",
        "colab_type": "code",
        "colab": {}
      },
      "source": [
        "# Calculate a vector for each review in each data set\n",
        "review_vecs_train = w2v_model.transform(words_train, aggregate_method = \"AVERAGE\")\n",
        "review_vecs_test = w2v_model.transform(words_test, aggregate_method = \"AVERAGE\")"
      ],
      "execution_count": 0,
      "outputs": []
    },
    {
      "cell_type": "code",
      "metadata": {
        "id": "jKXOFtkGhLv4",
        "colab_type": "code",
        "outputId": "41adfec2-f8d7-40b0-8eb7-8cae70787530",
        "colab": {
          "base_uri": "https://localhost:8080/",
          "height": 275
        }
      },
      "source": [
        "review_vecs_train"
      ],
      "execution_count": 0,
      "outputs": [
        {
          "output_type": "display_data",
          "data": {
            "text/html": [
              "<table>\n",
              "<thead>\n",
              "<tr><th style=\"text-align: right;\">         C1</th><th style=\"text-align: right;\">        C2</th><th style=\"text-align: right;\">         C3</th><th style=\"text-align: right;\">         C4</th><th style=\"text-align: right;\">         C5</th><th style=\"text-align: right;\">        C6</th><th style=\"text-align: right;\">        C7</th><th style=\"text-align: right;\">         C8</th><th style=\"text-align: right;\">          C9</th><th style=\"text-align: right;\">        C10</th><th style=\"text-align: right;\">        C11</th><th style=\"text-align: right;\">         C12</th><th style=\"text-align: right;\">        C13</th><th style=\"text-align: right;\">       C14</th><th style=\"text-align: right;\">       C15</th><th style=\"text-align: right;\">        C16</th><th style=\"text-align: right;\">       C17</th><th style=\"text-align: right;\">      C18</th><th style=\"text-align: right;\">        C19</th><th style=\"text-align: right;\">        C20</th><th style=\"text-align: right;\">        C21</th><th style=\"text-align: right;\">        C22</th><th style=\"text-align: right;\">        C23</th><th style=\"text-align: right;\">        C24</th><th style=\"text-align: right;\">        C25</th><th style=\"text-align: right;\">       C26</th><th style=\"text-align: right;\">        C27</th><th style=\"text-align: right;\">        C28</th><th style=\"text-align: right;\">        C29</th><th style=\"text-align: right;\">       C30</th><th style=\"text-align: right;\">         C31</th><th style=\"text-align: right;\">       C32</th><th style=\"text-align: right;\">        C33</th><th style=\"text-align: right;\">        C34</th><th style=\"text-align: right;\">        C35</th><th style=\"text-align: right;\">       C36</th><th style=\"text-align: right;\">       C37</th><th style=\"text-align: right;\">        C38</th><th style=\"text-align: right;\">        C39</th><th style=\"text-align: right;\">         C40</th><th style=\"text-align: right;\">        C41</th><th style=\"text-align: right;\">       C42</th><th style=\"text-align: right;\">       C43</th><th style=\"text-align: right;\">      C44</th><th style=\"text-align: right;\">       C45</th><th style=\"text-align: right;\">        C46</th><th style=\"text-align: right;\">        C47</th><th style=\"text-align: right;\">        C48</th><th style=\"text-align: right;\">       C49</th><th style=\"text-align: right;\">       C50</th><th style=\"text-align: right;\">        C51</th><th style=\"text-align: right;\">      C52</th><th style=\"text-align: right;\">        C53</th><th style=\"text-align: right;\">        C54</th><th style=\"text-align: right;\">      C55</th><th style=\"text-align: right;\">        C56</th><th style=\"text-align: right;\">       C57</th><th style=\"text-align: right;\">       C58</th><th style=\"text-align: right;\">        C59</th><th style=\"text-align: right;\">        C60</th><th style=\"text-align: right;\">         C61</th><th style=\"text-align: right;\">       C62</th><th style=\"text-align: right;\">        C63</th><th style=\"text-align: right;\">        C64</th><th style=\"text-align: right;\">       C65</th><th style=\"text-align: right;\">      C66</th><th style=\"text-align: right;\">       C67</th><th style=\"text-align: right;\">     C68</th><th style=\"text-align: right;\">        C69</th><th style=\"text-align: right;\">       C70</th><th style=\"text-align: right;\">        C71</th><th style=\"text-align: right;\">        C72</th><th style=\"text-align: right;\">      C73</th><th style=\"text-align: right;\">        C74</th><th style=\"text-align: right;\">       C75</th><th style=\"text-align: right;\">       C76</th><th style=\"text-align: right;\">        C77</th><th style=\"text-align: right;\">        C78</th><th style=\"text-align: right;\">       C79</th><th style=\"text-align: right;\">        C80</th><th style=\"text-align: right;\">        C81</th><th style=\"text-align: right;\">       C82</th><th style=\"text-align: right;\">        C83</th><th style=\"text-align: right;\">      C84</th><th style=\"text-align: right;\">       C85</th><th style=\"text-align: right;\">       C86</th><th style=\"text-align: right;\">         C87</th><th style=\"text-align: right;\">         C88</th><th style=\"text-align: right;\">       C89</th><th style=\"text-align: right;\">        C90</th><th style=\"text-align: right;\">        C91</th><th style=\"text-align: right;\">       C92</th><th style=\"text-align: right;\">       C93</th><th style=\"text-align: right;\">        C94</th><th style=\"text-align: right;\">        C95</th><th style=\"text-align: right;\">        C96</th><th style=\"text-align: right;\">        C97</th><th style=\"text-align: right;\">       C98</th><th style=\"text-align: right;\">      C99</th><th style=\"text-align: right;\">       C100</th><th style=\"text-align: right;\">      C101</th><th style=\"text-align: right;\">      C102</th><th style=\"text-align: right;\">      C103</th><th style=\"text-align: right;\">       C104</th><th style=\"text-align: right;\">      C105</th><th style=\"text-align: right;\">      C106</th><th style=\"text-align: right;\">      C107</th><th style=\"text-align: right;\">       C108</th><th style=\"text-align: right;\">       C109</th><th style=\"text-align: right;\">       C110</th><th style=\"text-align: right;\">      C111</th><th style=\"text-align: right;\">       C112</th><th style=\"text-align: right;\">      C113</th><th style=\"text-align: right;\">       C114</th><th style=\"text-align: right;\">       C115</th><th style=\"text-align: right;\">      C116</th><th style=\"text-align: right;\">       C117</th><th style=\"text-align: right;\">      C118</th><th style=\"text-align: right;\">      C119</th><th style=\"text-align: right;\">      C120</th><th style=\"text-align: right;\">       C121</th><th style=\"text-align: right;\">      C122</th><th style=\"text-align: right;\">       C123</th><th style=\"text-align: right;\">       C124</th><th style=\"text-align: right;\">       C125</th><th style=\"text-align: right;\">       C126</th><th style=\"text-align: right;\">       C127</th><th style=\"text-align: right;\">      C128</th><th style=\"text-align: right;\">      C129</th><th style=\"text-align: right;\">    C130</th><th style=\"text-align: right;\">       C131</th><th style=\"text-align: right;\">       C132</th><th style=\"text-align: right;\">       C133</th><th style=\"text-align: right;\">       C134</th><th style=\"text-align: right;\">      C135</th><th style=\"text-align: right;\">       C136</th><th style=\"text-align: right;\">       C137</th><th style=\"text-align: right;\">      C138</th><th style=\"text-align: right;\">       C139</th><th style=\"text-align: right;\">       C140</th><th style=\"text-align: right;\">      C141</th><th style=\"text-align: right;\">      C142</th><th style=\"text-align: right;\">        C143</th><th style=\"text-align: right;\">       C144</th><th style=\"text-align: right;\">      C145</th><th style=\"text-align: right;\">       C146</th><th style=\"text-align: right;\">      C147</th><th style=\"text-align: right;\">      C148</th><th style=\"text-align: right;\">      C149</th><th style=\"text-align: right;\">       C150</th><th style=\"text-align: right;\">       C151</th><th style=\"text-align: right;\">      C152</th><th style=\"text-align: right;\">      C153</th><th style=\"text-align: right;\">      C154</th><th style=\"text-align: right;\">       C155</th><th style=\"text-align: right;\">      C156</th><th style=\"text-align: right;\">      C157</th><th style=\"text-align: right;\">      C158</th><th style=\"text-align: right;\">      C159</th><th style=\"text-align: right;\">       C160</th><th style=\"text-align: right;\">      C161</th><th style=\"text-align: right;\">      C162</th><th style=\"text-align: right;\">      C163</th><th style=\"text-align: right;\">       C164</th><th style=\"text-align: right;\">      C165</th><th style=\"text-align: right;\">       C166</th><th style=\"text-align: right;\">     C167</th><th style=\"text-align: right;\">      C168</th><th style=\"text-align: right;\">      C169</th><th style=\"text-align: right;\">       C170</th><th style=\"text-align: right;\">       C171</th><th style=\"text-align: right;\">      C172</th><th style=\"text-align: right;\">       C173</th><th style=\"text-align: right;\">        C174</th><th style=\"text-align: right;\">       C175</th><th style=\"text-align: right;\">       C176</th><th style=\"text-align: right;\">       C177</th><th style=\"text-align: right;\">        C178</th><th style=\"text-align: right;\">      C179</th><th style=\"text-align: right;\">       C180</th><th style=\"text-align: right;\">      C181</th><th style=\"text-align: right;\">       C182</th><th style=\"text-align: right;\">     C183</th><th style=\"text-align: right;\">       C184</th><th style=\"text-align: right;\">       C185</th><th style=\"text-align: right;\">       C186</th><th style=\"text-align: right;\">        C187</th><th style=\"text-align: right;\">       C188</th><th style=\"text-align: right;\">       C189</th><th style=\"text-align: right;\">       C190</th><th style=\"text-align: right;\">       C191</th><th style=\"text-align: right;\">        C192</th><th style=\"text-align: right;\">        C193</th><th style=\"text-align: right;\">      C194</th><th style=\"text-align: right;\">      C195</th><th style=\"text-align: right;\">       C196</th><th style=\"text-align: right;\">       C197</th><th style=\"text-align: right;\">     C198</th><th style=\"text-align: right;\">       C199</th><th style=\"text-align: right;\">     C200</th></tr>\n",
              "</thead>\n",
              "<tbody>\n",
              "<tr><td style=\"text-align: right;\">-0.0272315 </td><td style=\"text-align: right;\"> 0.0447182</td><td style=\"text-align: right;\"> 0.00395584</td><td style=\"text-align: right;\">-0.00103804</td><td style=\"text-align: right;\"> 0.0161892 </td><td style=\"text-align: right;\">-0.0812052</td><td style=\"text-align: right;\">0.133627  </td><td style=\"text-align: right;\">-0.0511577 </td><td style=\"text-align: right;\">-0.0889799  </td><td style=\"text-align: right;\"> 0.124263  </td><td style=\"text-align: right;\">-0.0453859 </td><td style=\"text-align: right;\"> 0.0762203  </td><td style=\"text-align: right;\"> 0.118014  </td><td style=\"text-align: right;\">-0.0685731</td><td style=\"text-align: right;\"> 0.0200657</td><td style=\"text-align: right;\"> 0.00333286</td><td style=\"text-align: right;\">-0.0163878</td><td style=\"text-align: right;\">0.0765017</td><td style=\"text-align: right;\"> 0.0154177 </td><td style=\"text-align: right;\"> 0.0251768 </td><td style=\"text-align: right;\">-0.00729409</td><td style=\"text-align: right;\">-0.0181911 </td><td style=\"text-align: right;\"> 0.0336502 </td><td style=\"text-align: right;\"> 0.047907  </td><td style=\"text-align: right;\">-0.0903314 </td><td style=\"text-align: right;\">-0.15147  </td><td style=\"text-align: right;\">0.000226911</td><td style=\"text-align: right;\">-0.0614119 </td><td style=\"text-align: right;\"> 0.0239938 </td><td style=\"text-align: right;\">-0.0540347</td><td style=\"text-align: right;\"> 0.0250888  </td><td style=\"text-align: right;\"> 0.0465415</td><td style=\"text-align: right;\">-0.0356307 </td><td style=\"text-align: right;\">-0.0455423 </td><td style=\"text-align: right;\">-0.101829  </td><td style=\"text-align: right;\"> 0.0218434</td><td style=\"text-align: right;\"> 0.0511463</td><td style=\"text-align: right;\">-0.0762411 </td><td style=\"text-align: right;\">-0.0752921 </td><td style=\"text-align: right;\"> 0.069794   </td><td style=\"text-align: right;\"> 0.0275509 </td><td style=\"text-align: right;\"> 0.0741611</td><td style=\"text-align: right;\">-0.067279 </td><td style=\"text-align: right;\">0.0570024</td><td style=\"text-align: right;\"> 0.0515592</td><td style=\"text-align: right;\">-0.0528615 </td><td style=\"text-align: right;\"> 0.0482564 </td><td style=\"text-align: right;\">-0.0355378 </td><td style=\"text-align: right;\"> 0.0301782</td><td style=\"text-align: right;\">-0.0603858</td><td style=\"text-align: right;\"> 0.00109951</td><td style=\"text-align: right;\">0.140561 </td><td style=\"text-align: right;\">-0.0918544 </td><td style=\"text-align: right;\">-0.0632122 </td><td style=\"text-align: right;\">0.164667 </td><td style=\"text-align: right;\"> 0.135907  </td><td style=\"text-align: right;\">-0.0863429</td><td style=\"text-align: right;\"> 0.0774204</td><td style=\"text-align: right;\"> 0.105685  </td><td style=\"text-align: right;\">-0.0409307 </td><td style=\"text-align: right;\">-0.0462632  </td><td style=\"text-align: right;\"> 0.0389658</td><td style=\"text-align: right;\">-0.0287536 </td><td style=\"text-align: right;\"> 0.00582462</td><td style=\"text-align: right;\">-0.0721771</td><td style=\"text-align: right;\">0.0746741</td><td style=\"text-align: right;\"> 0.0123911</td><td style=\"text-align: right;\">0.134425</td><td style=\"text-align: right;\">-0.0152183 </td><td style=\"text-align: right;\">-0.0455991</td><td style=\"text-align: right;\"> 0.0565641 </td><td style=\"text-align: right;\">-0.0527641 </td><td style=\"text-align: right;\">0.0991426</td><td style=\"text-align: right;\"> 0.022165  </td><td style=\"text-align: right;\">-0.0336743</td><td style=\"text-align: right;\">-0.0717936</td><td style=\"text-align: right;\"> 0.0503688 </td><td style=\"text-align: right;\">-0.0602452 </td><td style=\"text-align: right;\">-0.06796  </td><td style=\"text-align: right;\">-0.0550818 </td><td style=\"text-align: right;\">-0.0623226 </td><td style=\"text-align: right;\"> 0.0889786</td><td style=\"text-align: right;\"> 0.00203583</td><td style=\"text-align: right;\">0.0957947</td><td style=\"text-align: right;\"> 0.127679 </td><td style=\"text-align: right;\"> 0.010302 </td><td style=\"text-align: right;\"> 0.198284   </td><td style=\"text-align: right;\">-0.021792   </td><td style=\"text-align: right;\">-0.0911999</td><td style=\"text-align: right;\"> 0.0279977 </td><td style=\"text-align: right;\">-0.103313  </td><td style=\"text-align: right;\">0.0586636 </td><td style=\"text-align: right;\"> 0.112513 </td><td style=\"text-align: right;\"> 0.014047  </td><td style=\"text-align: right;\"> 0.0616726 </td><td style=\"text-align: right;\">-0.0105398 </td><td style=\"text-align: right;\"> 0.0555735 </td><td style=\"text-align: right;\"> 0.0260148</td><td style=\"text-align: right;\">0.0207946</td><td style=\"text-align: right;\">-0.00799799</td><td style=\"text-align: right;\"> 0.038423 </td><td style=\"text-align: right;\">-0.0310265</td><td style=\"text-align: right;\"> 0.0636431</td><td style=\"text-align: right;\">-0.0952039 </td><td style=\"text-align: right;\"> 0.0467242</td><td style=\"text-align: right;\"> 0.068347 </td><td style=\"text-align: right;\"> 0.0649849</td><td style=\"text-align: right;\">-0.034794  </td><td style=\"text-align: right;\">-0.0982516 </td><td style=\"text-align: right;\"> 0.00314061</td><td style=\"text-align: right;\">0.127926  </td><td style=\"text-align: right;\">-0.00404314</td><td style=\"text-align: right;\"> 0.0510209</td><td style=\"text-align: right;\"> 0.199456  </td><td style=\"text-align: right;\"> 0.0740701 </td><td style=\"text-align: right;\">0.00275927</td><td style=\"text-align: right;\">-0.111597  </td><td style=\"text-align: right;\">-0.0873825</td><td style=\"text-align: right;\">-0.0567772</td><td style=\"text-align: right;\"> 0.0433345</td><td style=\"text-align: right;\">-0.0169983 </td><td style=\"text-align: right;\">-0.100543 </td><td style=\"text-align: right;\">-0.0399619 </td><td style=\"text-align: right;\">-0.00381621</td><td style=\"text-align: right;\">-0.00923826</td><td style=\"text-align: right;\">-0.0256027 </td><td style=\"text-align: right;\">-0.0589539 </td><td style=\"text-align: right;\">-0.064184 </td><td style=\"text-align: right;\"> 0.0888876</td><td style=\"text-align: right;\">0.186126</td><td style=\"text-align: right;\">-0.0741492 </td><td style=\"text-align: right;\">-0.127809  </td><td style=\"text-align: right;\">-0.0564379 </td><td style=\"text-align: right;\">-0.00374483</td><td style=\"text-align: right;\"> 0.0338251</td><td style=\"text-align: right;\"> 0.0459947 </td><td style=\"text-align: right;\"> 0.106609  </td><td style=\"text-align: right;\">-0.0224484</td><td style=\"text-align: right;\">-0.00248351</td><td style=\"text-align: right;\">-0.0562611 </td><td style=\"text-align: right;\"> 0.0064511</td><td style=\"text-align: right;\"> 0.065706 </td><td style=\"text-align: right;\"> 0.0441077  </td><td style=\"text-align: right;\">-0.102793  </td><td style=\"text-align: right;\">-0.159998 </td><td style=\"text-align: right;\">-0.0893802 </td><td style=\"text-align: right;\"> 0.0308431</td><td style=\"text-align: right;\"> 0.0277686</td><td style=\"text-align: right;\">-0.0381355</td><td style=\"text-align: right;\"> 0.100356  </td><td style=\"text-align: right;\">-0.0286807 </td><td style=\"text-align: right;\">-0.0705123</td><td style=\"text-align: right;\">-0.0216143</td><td style=\"text-align: right;\">-0.0725225</td><td style=\"text-align: right;\">-0.0239273 </td><td style=\"text-align: right;\"> 0.0937567</td><td style=\"text-align: right;\">-0.0628295</td><td style=\"text-align: right;\"> 0.04349  </td><td style=\"text-align: right;\"> 0.0225817</td><td style=\"text-align: right;\">-0.00681961</td><td style=\"text-align: right;\">-0.0885676</td><td style=\"text-align: right;\">-0.0892715</td><td style=\"text-align: right;\">0.0253703 </td><td style=\"text-align: right;\">-0.109605  </td><td style=\"text-align: right;\"> 0.0839432</td><td style=\"text-align: right;\"> 0.0330573 </td><td style=\"text-align: right;\">0.203927 </td><td style=\"text-align: right;\"> 0.0980184</td><td style=\"text-align: right;\"> 0.0382779</td><td style=\"text-align: right;\">-0.0333602 </td><td style=\"text-align: right;\">-0.00591795</td><td style=\"text-align: right;\">-0.107682 </td><td style=\"text-align: right;\">-0.0848641 </td><td style=\"text-align: right;\"> 0.0466326  </td><td style=\"text-align: right;\">-0.0366818 </td><td style=\"text-align: right;\"> 0.021661  </td><td style=\"text-align: right;\">-0.0774358 </td><td style=\"text-align: right;\"> 0.0591447  </td><td style=\"text-align: right;\">-0.0550754</td><td style=\"text-align: right;\"> 0.0125347 </td><td style=\"text-align: right;\">-0.119023 </td><td style=\"text-align: right;\"> 0.039204  </td><td style=\"text-align: right;\">0.063504 </td><td style=\"text-align: right;\">-0.0371309 </td><td style=\"text-align: right;\"> 0.0531926 </td><td style=\"text-align: right;\">-0.0274357 </td><td style=\"text-align: right;\"> 0.00724841 </td><td style=\"text-align: right;\"> 0.142316  </td><td style=\"text-align: right;\">-0.104463  </td><td style=\"text-align: right;\">-0.0149134 </td><td style=\"text-align: right;\">-0.0388674 </td><td style=\"text-align: right;\">-0.159046   </td><td style=\"text-align: right;\"> 0.000339531</td><td style=\"text-align: right;\">-0.169874 </td><td style=\"text-align: right;\">-0.0795961</td><td style=\"text-align: right;\"> 0.0393183 </td><td style=\"text-align: right;\"> 0.0320037 </td><td style=\"text-align: right;\">0.0653553</td><td style=\"text-align: right;\"> 0.0579398 </td><td style=\"text-align: right;\">0.12861  </td></tr>\n",
              "<tr><td style=\"text-align: right;\"> 0.0800445 </td><td style=\"text-align: right;\"> 0.0590833</td><td style=\"text-align: right;\"> 0.0151346 </td><td style=\"text-align: right;\">-0.0733125 </td><td style=\"text-align: right;\"> 0.0955426 </td><td style=\"text-align: right;\">-0.117895 </td><td style=\"text-align: right;\">0.103903  </td><td style=\"text-align: right;\"> 0.108374  </td><td style=\"text-align: right;\"> 0.109424   </td><td style=\"text-align: right;\">-0.0164071 </td><td style=\"text-align: right;\">-0.0451256 </td><td style=\"text-align: right;\"> 0.00187026 </td><td style=\"text-align: right;\">-0.0223735 </td><td style=\"text-align: right;\">-0.0577826</td><td style=\"text-align: right;\"> 0.0764738</td><td style=\"text-align: right;\">-0.0146111 </td><td style=\"text-align: right;\">-0.0539079</td><td style=\"text-align: right;\">0.0605723</td><td style=\"text-align: right;\">-0.0149315 </td><td style=\"text-align: right;\"> 0.0670648 </td><td style=\"text-align: right;\">-0.0277649 </td><td style=\"text-align: right;\"> 0.0539545 </td><td style=\"text-align: right;\"> 0.00246655</td><td style=\"text-align: right;\"> 0.0173048 </td><td style=\"text-align: right;\">-0.127877  </td><td style=\"text-align: right;\">-0.22268  </td><td style=\"text-align: right;\">0.135818   </td><td style=\"text-align: right;\"> 0.00133058</td><td style=\"text-align: right;\"> 0.0713047 </td><td style=\"text-align: right;\"> 0.0175792</td><td style=\"text-align: right;\"> 0.0055055  </td><td style=\"text-align: right;\">-0.072241 </td><td style=\"text-align: right;\"> 0.0936847 </td><td style=\"text-align: right;\">-0.0356662 </td><td style=\"text-align: right;\">-0.0525955 </td><td style=\"text-align: right;\">-0.114564 </td><td style=\"text-align: right;\"> 0.0838199</td><td style=\"text-align: right;\">-0.00792547</td><td style=\"text-align: right;\">-0.087195  </td><td style=\"text-align: right;\"> 0.0817973  </td><td style=\"text-align: right;\">-0.0268595 </td><td style=\"text-align: right;\">-0.0372004</td><td style=\"text-align: right;\"> 0.0147953</td><td style=\"text-align: right;\">0.0689144</td><td style=\"text-align: right;\"> 0.0448704</td><td style=\"text-align: right;\"> 0.0218123 </td><td style=\"text-align: right;\">-0.0301167 </td><td style=\"text-align: right;\">-0.0664948 </td><td style=\"text-align: right;\">-0.16284  </td><td style=\"text-align: right;\">-0.0647832</td><td style=\"text-align: right;\">-0.00667036</td><td style=\"text-align: right;\">0.201666 </td><td style=\"text-align: right;\"> 0.150103  </td><td style=\"text-align: right;\">-0.00324253</td><td style=\"text-align: right;\">0.107105 </td><td style=\"text-align: right;\"> 0.00944501</td><td style=\"text-align: right;\"> 0.0033579</td><td style=\"text-align: right;\"> 0.206254 </td><td style=\"text-align: right;\"> 0.0355031 </td><td style=\"text-align: right;\">-0.0488562 </td><td style=\"text-align: right;\">-0.0077531  </td><td style=\"text-align: right;\">-0.0298783</td><td style=\"text-align: right;\">-0.0915779 </td><td style=\"text-align: right;\">-0.00866011</td><td style=\"text-align: right;\">-0.0675547</td><td style=\"text-align: right;\">0.148874 </td><td style=\"text-align: right;\">-0.132939 </td><td style=\"text-align: right;\">0.17287 </td><td style=\"text-align: right;\"> 0.152048  </td><td style=\"text-align: right;\">-0.108804 </td><td style=\"text-align: right;\">-0.0181375 </td><td style=\"text-align: right;\"> 0.0523616 </td><td style=\"text-align: right;\">0.0226256</td><td style=\"text-align: right;\"> 0.0567301 </td><td style=\"text-align: right;\">-0.0869163</td><td style=\"text-align: right;\"> 0.0058073</td><td style=\"text-align: right;\"> 0.0162543 </td><td style=\"text-align: right;\">-0.130478  </td><td style=\"text-align: right;\">-0.111549 </td><td style=\"text-align: right;\">-0.0181861 </td><td style=\"text-align: right;\"> 0.0082291 </td><td style=\"text-align: right;\">-0.0113235</td><td style=\"text-align: right;\">-0.0217565 </td><td style=\"text-align: right;\">0.124349 </td><td style=\"text-align: right;\"> 0.126417 </td><td style=\"text-align: right;\">-0.143386 </td><td style=\"text-align: right;\">-0.126618   </td><td style=\"text-align: right;\"> 0.00674707 </td><td style=\"text-align: right;\"> 0.033905 </td><td style=\"text-align: right;\">-0.0456417 </td><td style=\"text-align: right;\"> 0.0755728 </td><td style=\"text-align: right;\">0.0854103 </td><td style=\"text-align: right;\"> 0.0809062</td><td style=\"text-align: right;\"> 0.0186368 </td><td style=\"text-align: right;\">-0.0552429 </td><td style=\"text-align: right;\">-0.00569071</td><td style=\"text-align: right;\"> 0.0426481 </td><td style=\"text-align: right;\">-0.0586837</td><td style=\"text-align: right;\">0.0544269</td><td style=\"text-align: right;\">-0.0308588 </td><td style=\"text-align: right;\"> 0.0756087</td><td style=\"text-align: right;\">-0.131912 </td><td style=\"text-align: right;\">-0.015325 </td><td style=\"text-align: right;\"> 0.00891239</td><td style=\"text-align: right;\"> 0.0398517</td><td style=\"text-align: right;\"> 0.045199 </td><td style=\"text-align: right;\"> 0.102059 </td><td style=\"text-align: right;\"> 0.0466479 </td><td style=\"text-align: right;\">-0.0373668 </td><td style=\"text-align: right;\"> 0.0147415 </td><td style=\"text-align: right;\">0.073189  </td><td style=\"text-align: right;\"> 0.116457  </td><td style=\"text-align: right;\"> 0.018986 </td><td style=\"text-align: right;\">-0.0578916 </td><td style=\"text-align: right;\"> 0.0737612 </td><td style=\"text-align: right;\">0.148622  </td><td style=\"text-align: right;\">-0.129443  </td><td style=\"text-align: right;\"> 0.16394  </td><td style=\"text-align: right;\"> 0.0659685</td><td style=\"text-align: right;\">-0.0762294</td><td style=\"text-align: right;\">-0.0246813 </td><td style=\"text-align: right;\">-0.0914266</td><td style=\"text-align: right;\">-0.0542205 </td><td style=\"text-align: right;\"> 0.0243378 </td><td style=\"text-align: right;\"> 0.0917069 </td><td style=\"text-align: right;\"> 0.0402178 </td><td style=\"text-align: right;\">-0.0123304 </td><td style=\"text-align: right;\">-0.0504344</td><td style=\"text-align: right;\">-0.0221901</td><td style=\"text-align: right;\">0.167964</td><td style=\"text-align: right;\">-0.0782997 </td><td style=\"text-align: right;\">-0.068052  </td><td style=\"text-align: right;\"> 0.0294093 </td><td style=\"text-align: right;\">-0.122847  </td><td style=\"text-align: right;\"> 0.0454935</td><td style=\"text-align: right;\">-0.0636922 </td><td style=\"text-align: right;\"> 0.0351849 </td><td style=\"text-align: right;\"> 0.0133652</td><td style=\"text-align: right;\"> 0.00754629</td><td style=\"text-align: right;\">-0.0701795 </td><td style=\"text-align: right;\"> 0.0376798</td><td style=\"text-align: right;\"> 0.0813155</td><td style=\"text-align: right;\"> 0.194378   </td><td style=\"text-align: right;\"> 0.0217211 </td><td style=\"text-align: right;\">-0.0453238</td><td style=\"text-align: right;\">-0.0473691 </td><td style=\"text-align: right;\">-0.040636 </td><td style=\"text-align: right;\">-0.0873511</td><td style=\"text-align: right;\">-0.0326465</td><td style=\"text-align: right;\">-0.00335348</td><td style=\"text-align: right;\"> 0.0994023 </td><td style=\"text-align: right;\">-0.0948416</td><td style=\"text-align: right;\"> 0.0538935</td><td style=\"text-align: right;\">-0.0068152</td><td style=\"text-align: right;\"> 0.0331677 </td><td style=\"text-align: right;\">-0.156376 </td><td style=\"text-align: right;\">-0.055804 </td><td style=\"text-align: right;\"> 0.0351876</td><td style=\"text-align: right;\"> 0.0667746</td><td style=\"text-align: right;\">-0.0636476 </td><td style=\"text-align: right;\">-0.11388  </td><td style=\"text-align: right;\"> 0.0253078</td><td style=\"text-align: right;\">0.134076  </td><td style=\"text-align: right;\">-0.0215879 </td><td style=\"text-align: right;\">-0.0602627</td><td style=\"text-align: right;\"> 0.0888844 </td><td style=\"text-align: right;\">0.0765407</td><td style=\"text-align: right;\">-0.0670132</td><td style=\"text-align: right;\"> 0.0460921</td><td style=\"text-align: right;\">-0.043661  </td><td style=\"text-align: right;\">-0.084583  </td><td style=\"text-align: right;\">-0.187665 </td><td style=\"text-align: right;\">-0.00215217</td><td style=\"text-align: right;\">-0.105042   </td><td style=\"text-align: right;\">-0.0798604 </td><td style=\"text-align: right;\"> 0.0784217 </td><td style=\"text-align: right;\">-0.0686278 </td><td style=\"text-align: right;\"> 0.027738   </td><td style=\"text-align: right;\"> 0.0506441</td><td style=\"text-align: right;\"> 0.00730186</td><td style=\"text-align: right;\">-0.144645 </td><td style=\"text-align: right;\">-0.133915  </td><td style=\"text-align: right;\">0.0742195</td><td style=\"text-align: right;\">-0.0429425 </td><td style=\"text-align: right;\">-0.0646168 </td><td style=\"text-align: right;\"> 0.00542552</td><td style=\"text-align: right;\">-0.0341886  </td><td style=\"text-align: right;\"> 0.0143531 </td><td style=\"text-align: right;\">-0.0319627 </td><td style=\"text-align: right;\">-0.0511309 </td><td style=\"text-align: right;\">-0.0845162 </td><td style=\"text-align: right;\"> 0.0303099  </td><td style=\"text-align: right;\"> 0.00325969 </td><td style=\"text-align: right;\">-0.156958 </td><td style=\"text-align: right;\"> 0.14315  </td><td style=\"text-align: right;\">-0.0991244 </td><td style=\"text-align: right;\">-0.0211064 </td><td style=\"text-align: right;\">0.0986572</td><td style=\"text-align: right;\"> 0.0528855 </td><td style=\"text-align: right;\">0.142808 </td></tr>\n",
              "<tr><td style=\"text-align: right;\">-0.120744  </td><td style=\"text-align: right;\"> 0.0751777</td><td style=\"text-align: right;\">-0.00458897</td><td style=\"text-align: right;\">-0.0115224 </td><td style=\"text-align: right;\"> 0.0658624 </td><td style=\"text-align: right;\">-0.0559108</td><td style=\"text-align: right;\">0.0334489 </td><td style=\"text-align: right;\"> 0.0789023 </td><td style=\"text-align: right;\"> 0.0152253  </td><td style=\"text-align: right;\">-0.00740579</td><td style=\"text-align: right;\">-0.0746145 </td><td style=\"text-align: right;\"> 0.0539147  </td><td style=\"text-align: right;\"> 0.0855177 </td><td style=\"text-align: right;\">-0.024335 </td><td style=\"text-align: right;\">-0.0168727</td><td style=\"text-align: right;\">-0.0263968 </td><td style=\"text-align: right;\"> 0.0103184</td><td style=\"text-align: right;\">0.0637614</td><td style=\"text-align: right;\">-0.0670475 </td><td style=\"text-align: right;\">-0.0622857 </td><td style=\"text-align: right;\"> 0.101534  </td><td style=\"text-align: right;\"> 0.0526518 </td><td style=\"text-align: right;\"> 0.0388434 </td><td style=\"text-align: right;\">-0.00608268</td><td style=\"text-align: right;\">-0.0466589 </td><td style=\"text-align: right;\">-0.125656 </td><td style=\"text-align: right;\">0.0336355  </td><td style=\"text-align: right;\">-0.0117607 </td><td style=\"text-align: right;\">-0.0287648 </td><td style=\"text-align: right;\">-0.0988596</td><td style=\"text-align: right;\">-0.000668472</td><td style=\"text-align: right;\">-0.061159 </td><td style=\"text-align: right;\"> 0.00731956</td><td style=\"text-align: right;\">-0.0505767 </td><td style=\"text-align: right;\">-0.0411021 </td><td style=\"text-align: right;\"> 0.0209722</td><td style=\"text-align: right;\"> 0.0392869</td><td style=\"text-align: right;\">-0.077268  </td><td style=\"text-align: right;\"> 0.0317507 </td><td style=\"text-align: right;\"> 0.00721988 </td><td style=\"text-align: right;\"> 0.0530802 </td><td style=\"text-align: right;\"> 0.0762754</td><td style=\"text-align: right;\">-0.0164375</td><td style=\"text-align: right;\">0.0548579</td><td style=\"text-align: right;\"> 0.0496241</td><td style=\"text-align: right;\"> 0.0113222 </td><td style=\"text-align: right;\"> 0.0761094 </td><td style=\"text-align: right;\">-0.0142565 </td><td style=\"text-align: right;\">-0.0963025</td><td style=\"text-align: right;\">-0.0168754</td><td style=\"text-align: right;\"> 0.0382311 </td><td style=\"text-align: right;\">0.0909511</td><td style=\"text-align: right;\">-0.0451048 </td><td style=\"text-align: right;\"> 0.0150049 </td><td style=\"text-align: right;\">0.0689112</td><td style=\"text-align: right;\">-0.00891947</td><td style=\"text-align: right;\">-0.0666484</td><td style=\"text-align: right;\">-0.0356329</td><td style=\"text-align: right;\"> 0.145493  </td><td style=\"text-align: right;\"> 0.018086  </td><td style=\"text-align: right;\">-0.0586417  </td><td style=\"text-align: right;\">-0.0986327</td><td style=\"text-align: right;\"> 0.00359952</td><td style=\"text-align: right;\"> 0.0607223 </td><td style=\"text-align: right;\"> 0.069532 </td><td style=\"text-align: right;\">0.0408302</td><td style=\"text-align: right;\"> 0.0255684</td><td style=\"text-align: right;\">0.100981</td><td style=\"text-align: right;\"> 0.0039983 </td><td style=\"text-align: right;\"> 0.0195439</td><td style=\"text-align: right;\">-0.0219465 </td><td style=\"text-align: right;\"> 0.0127265 </td><td style=\"text-align: right;\">0.0827387</td><td style=\"text-align: right;\"> 0.0160256 </td><td style=\"text-align: right;\"> 0.0123448</td><td style=\"text-align: right;\"> 0.0188811</td><td style=\"text-align: right;\"> 0.0271704 </td><td style=\"text-align: right;\">-0.00879528</td><td style=\"text-align: right;\">-0.0789571</td><td style=\"text-align: right;\"> 0.00990153</td><td style=\"text-align: right;\">-0.0511868 </td><td style=\"text-align: right;\"> 0.0743117</td><td style=\"text-align: right;\">-0.0225885 </td><td style=\"text-align: right;\">0.127949 </td><td style=\"text-align: right;\"> 0.108658 </td><td style=\"text-align: right;\">-0.0418086</td><td style=\"text-align: right;\"> 0.0774551  </td><td style=\"text-align: right;\">-0.0118992  </td><td style=\"text-align: right;\">-0.0456461</td><td style=\"text-align: right;\"> 0.0349879 </td><td style=\"text-align: right;\">-0.126703  </td><td style=\"text-align: right;\">0.0306751 </td><td style=\"text-align: right;\"> 0.072832 </td><td style=\"text-align: right;\">-0.0016114 </td><td style=\"text-align: right;\"> 0.0431619 </td><td style=\"text-align: right;\"> 0.00103275</td><td style=\"text-align: right;\">-0.00145456</td><td style=\"text-align: right;\">-0.0539078</td><td style=\"text-align: right;\">0.101237 </td><td style=\"text-align: right;\">-0.0431295 </td><td style=\"text-align: right;\"> 0.0652127</td><td style=\"text-align: right;\">-0.0925515</td><td style=\"text-align: right;\"> 0.086382 </td><td style=\"text-align: right;\"> 0.0405636 </td><td style=\"text-align: right;\"> 0.142066 </td><td style=\"text-align: right;\"> 0.016213 </td><td style=\"text-align: right;\"> 0.125797 </td><td style=\"text-align: right;\"> 0.0139173 </td><td style=\"text-align: right;\">-0.11907   </td><td style=\"text-align: right;\">-0.00556923</td><td style=\"text-align: right;\">0.0975871 </td><td style=\"text-align: right;\">-0.0765365 </td><td style=\"text-align: right;\"> 0.0119335</td><td style=\"text-align: right;\"> 0.0929378 </td><td style=\"text-align: right;\"> 0.0776357 </td><td style=\"text-align: right;\">0.122148  </td><td style=\"text-align: right;\">-0.0901727 </td><td style=\"text-align: right;\"> 0.0103789</td><td style=\"text-align: right;\">-0.0205807</td><td style=\"text-align: right;\"> 0.0375704</td><td style=\"text-align: right;\"> 0.0461961 </td><td style=\"text-align: right;\">-0.0743731</td><td style=\"text-align: right;\">-0.0211523 </td><td style=\"text-align: right;\"> 0.0499155 </td><td style=\"text-align: right;\">-0.00837127</td><td style=\"text-align: right;\"> 0.0200299 </td><td style=\"text-align: right;\">-0.0463102 </td><td style=\"text-align: right;\">-0.0659529</td><td style=\"text-align: right;\"> 0.0743547</td><td style=\"text-align: right;\">0.240039</td><td style=\"text-align: right;\">-0.0282651 </td><td style=\"text-align: right;\">-0.0555845 </td><td style=\"text-align: right;\"> 0.030066  </td><td style=\"text-align: right;\">-0.0986895 </td><td style=\"text-align: right;\"> 0.0103082</td><td style=\"text-align: right;\"> 0.00357127</td><td style=\"text-align: right;\"> 0.00569345</td><td style=\"text-align: right;\">-0.0222893</td><td style=\"text-align: right;\">-0.0332657 </td><td style=\"text-align: right;\">-0.00838256</td><td style=\"text-align: right;\"> 0.0094128</td><td style=\"text-align: right;\"> 0.0841025</td><td style=\"text-align: right;\">-0.0122858  </td><td style=\"text-align: right;\"> 0.110437  </td><td style=\"text-align: right;\">-0.0725245</td><td style=\"text-align: right;\">-0.0418041 </td><td style=\"text-align: right;\">-0.0938783</td><td style=\"text-align: right;\">-0.0412863</td><td style=\"text-align: right;\"> 0.042649 </td><td style=\"text-align: right;\"> 0.130677  </td><td style=\"text-align: right;\"> 0.0311837 </td><td style=\"text-align: right;\">-0.119482 </td><td style=\"text-align: right;\"> 0.0563165</td><td style=\"text-align: right;\">-0.0301644</td><td style=\"text-align: right;\">-0.0290705 </td><td style=\"text-align: right;\"> 0.0805789</td><td style=\"text-align: right;\">-0.124396 </td><td style=\"text-align: right;\"> 0.087555 </td><td style=\"text-align: right;\"> 0.0732704</td><td style=\"text-align: right;\">-0.0471546 </td><td style=\"text-align: right;\">-0.0673181</td><td style=\"text-align: right;\">-0.0331377</td><td style=\"text-align: right;\">0.0176442 </td><td style=\"text-align: right;\"> 0.0121512 </td><td style=\"text-align: right;\"> 0.107451 </td><td style=\"text-align: right;\">-0.0265343 </td><td style=\"text-align: right;\">0.108343 </td><td style=\"text-align: right;\"> 0.0817836</td><td style=\"text-align: right;\">-0.0204426</td><td style=\"text-align: right;\">-0.0349767 </td><td style=\"text-align: right;\">-0.0282286 </td><td style=\"text-align: right;\">-0.0921635</td><td style=\"text-align: right;\">-0.123257  </td><td style=\"text-align: right;\">-0.0223185  </td><td style=\"text-align: right;\">-0.0566368 </td><td style=\"text-align: right;\">-0.00148679</td><td style=\"text-align: right;\">-0.0563449 </td><td style=\"text-align: right;\"> 0.051977   </td><td style=\"text-align: right;\"> 0.120489 </td><td style=\"text-align: right;\"> 0.0891579 </td><td style=\"text-align: right;\">-0.262537 </td><td style=\"text-align: right;\">-0.0281554 </td><td style=\"text-align: right;\">0.114493 </td><td style=\"text-align: right;\">-0.0308641 </td><td style=\"text-align: right;\"> 0.00276007</td><td style=\"text-align: right;\">-0.0639832 </td><td style=\"text-align: right;\">-0.0544448  </td><td style=\"text-align: right;\"> 0.0878224 </td><td style=\"text-align: right;\">-0.134162  </td><td style=\"text-align: right;\">-0.00801113</td><td style=\"text-align: right;\"> 0.0266631 </td><td style=\"text-align: right;\">-0.138586   </td><td style=\"text-align: right;\"> 0.00467544 </td><td style=\"text-align: right;\">-0.0914762</td><td style=\"text-align: right;\"> 0.0397158</td><td style=\"text-align: right;\"> 0.00145393</td><td style=\"text-align: right;\">-0.0665682 </td><td style=\"text-align: right;\">0.0517376</td><td style=\"text-align: right;\">-0.0347125 </td><td style=\"text-align: right;\">0.0759224</td></tr>\n",
              "<tr><td style=\"text-align: right;\">-0.0943877 </td><td style=\"text-align: right;\">-0.0080507</td><td style=\"text-align: right;\"> 0.0245366 </td><td style=\"text-align: right;\">-0.0190407 </td><td style=\"text-align: right;\"> 0.00389963</td><td style=\"text-align: right;\">-0.064633 </td><td style=\"text-align: right;\">0.0545047 </td><td style=\"text-align: right;\"> 0.0320964 </td><td style=\"text-align: right;\">-0.000638144</td><td style=\"text-align: right;\"> 0.0462    </td><td style=\"text-align: right;\"> 0.00639773</td><td style=\"text-align: right;\"> 0.0599444  </td><td style=\"text-align: right;\"> 0.0450712 </td><td style=\"text-align: right;\">-0.0663624</td><td style=\"text-align: right;\"> 0.0405415</td><td style=\"text-align: right;\">-0.0511291 </td><td style=\"text-align: right;\">-0.0715854</td><td style=\"text-align: right;\">0.0205166</td><td style=\"text-align: right;\">-0.0365722 </td><td style=\"text-align: right;\"> 0.00131022</td><td style=\"text-align: right;\"> 0.00786875</td><td style=\"text-align: right;\"> 0.0456963 </td><td style=\"text-align: right;\"> 0.0151385 </td><td style=\"text-align: right;\"> 0.0204529 </td><td style=\"text-align: right;\">-0.0554186 </td><td style=\"text-align: right;\">-0.147386 </td><td style=\"text-align: right;\">0.006055   </td><td style=\"text-align: right;\">-0.0490306 </td><td style=\"text-align: right;\"> 0.061482  </td><td style=\"text-align: right;\">-0.0169875</td><td style=\"text-align: right;\"> 0.0171421  </td><td style=\"text-align: right;\">-0.0220237</td><td style=\"text-align: right;\">-0.0413026 </td><td style=\"text-align: right;\">-0.0418281 </td><td style=\"text-align: right;\">-0.00925165</td><td style=\"text-align: right;\">-0.041892 </td><td style=\"text-align: right;\"> 0.0071745</td><td style=\"text-align: right;\">-0.0149514 </td><td style=\"text-align: right;\"> 0.0094062 </td><td style=\"text-align: right;\"> 0.0449152  </td><td style=\"text-align: right;\"> 0.0199287 </td><td style=\"text-align: right;\"> 0.035893 </td><td style=\"text-align: right;\">-0.0525022</td><td style=\"text-align: right;\">0.153159 </td><td style=\"text-align: right;\"> 0.0721284</td><td style=\"text-align: right;\">-0.0208284 </td><td style=\"text-align: right;\"> 0.0365699 </td><td style=\"text-align: right;\">-0.0305959 </td><td style=\"text-align: right;\">-0.0289589</td><td style=\"text-align: right;\">-0.0398326</td><td style=\"text-align: right;\"> 0.07196   </td><td style=\"text-align: right;\">0.121417 </td><td style=\"text-align: right;\">-0.0292996 </td><td style=\"text-align: right;\">-0.0137418 </td><td style=\"text-align: right;\">0.0675914</td><td style=\"text-align: right;\"> 0.0374793 </td><td style=\"text-align: right;\">-0.130163 </td><td style=\"text-align: right;\"> 0.106054 </td><td style=\"text-align: right;\"> 0.0623213 </td><td style=\"text-align: right;\"> 0.0347576 </td><td style=\"text-align: right;\">-0.0322591  </td><td style=\"text-align: right;\">-0.0859687</td><td style=\"text-align: right;\">-0.0464726 </td><td style=\"text-align: right;\">-0.0173844 </td><td style=\"text-align: right;\"> 0.0360006</td><td style=\"text-align: right;\">0.13523  </td><td style=\"text-align: right;\">-0.068662 </td><td style=\"text-align: right;\">0.097914</td><td style=\"text-align: right;\">-0.00132051</td><td style=\"text-align: right;\">-0.0555479</td><td style=\"text-align: right;\">-0.0371785 </td><td style=\"text-align: right;\"> 0.00925696</td><td style=\"text-align: right;\">0.131589 </td><td style=\"text-align: right;\"> 0.0331884 </td><td style=\"text-align: right;\">-0.0125117</td><td style=\"text-align: right;\">-0.0139262</td><td style=\"text-align: right;\">-0.00995473</td><td style=\"text-align: right;\">-0.050009  </td><td style=\"text-align: right;\">-0.0105222</td><td style=\"text-align: right;\">-0.0563986 </td><td style=\"text-align: right;\"> 0.00624596</td><td style=\"text-align: right;\"> 0.0718966</td><td style=\"text-align: right;\"> 0.0680236 </td><td style=\"text-align: right;\">0.0578739</td><td style=\"text-align: right;\"> 0.0298584</td><td style=\"text-align: right;\">-0.0321379</td><td style=\"text-align: right;\"> 0.0537218  </td><td style=\"text-align: right;\"> 0.00735997 </td><td style=\"text-align: right;\">-0.0100689</td><td style=\"text-align: right;\"> 0.00884021</td><td style=\"text-align: right;\">-0.0316971 </td><td style=\"text-align: right;\">0.0266934 </td><td style=\"text-align: right;\"> 0.102398 </td><td style=\"text-align: right;\"> 0.00847053</td><td style=\"text-align: right;\">-0.025079  </td><td style=\"text-align: right;\"> 0.0627855 </td><td style=\"text-align: right;\"> 0.063071  </td><td style=\"text-align: right;\">-0.035702 </td><td style=\"text-align: right;\">0.0672337</td><td style=\"text-align: right;\"> 0.0367497 </td><td style=\"text-align: right;\"> 0.0881064</td><td style=\"text-align: right;\">-0.051863 </td><td style=\"text-align: right;\"> 0.0677754</td><td style=\"text-align: right;\"> 0.0268363 </td><td style=\"text-align: right;\"> 0.0505303</td><td style=\"text-align: right;\">-0.0426803</td><td style=\"text-align: right;\"> 0.0665931</td><td style=\"text-align: right;\">-0.0117714 </td><td style=\"text-align: right;\"> 0.00285432</td><td style=\"text-align: right;\">-0.0196673 </td><td style=\"text-align: right;\">0.101926  </td><td style=\"text-align: right;\"> 0.0885882 </td><td style=\"text-align: right;\">-0.0322223</td><td style=\"text-align: right;\"> 0.00069137</td><td style=\"text-align: right;\"> 0.00362863</td><td style=\"text-align: right;\">0.108031  </td><td style=\"text-align: right;\">-0.0100002 </td><td style=\"text-align: right;\"> 0.0562962</td><td style=\"text-align: right;\">-0.0235244</td><td style=\"text-align: right;\">-0.0640533</td><td style=\"text-align: right;\"> 0.0103846 </td><td style=\"text-align: right;\">-0.0575551</td><td style=\"text-align: right;\">-0.00794603</td><td style=\"text-align: right;\"> 0.0168315 </td><td style=\"text-align: right;\">-0.00734801</td><td style=\"text-align: right;\"> 0.00116686</td><td style=\"text-align: right;\">-0.00600085</td><td style=\"text-align: right;\">-0.0186947</td><td style=\"text-align: right;\"> 0.061332 </td><td style=\"text-align: right;\">0.197372</td><td style=\"text-align: right;\">-0.0171761 </td><td style=\"text-align: right;\">-0.108011  </td><td style=\"text-align: right;\"> 0.013079  </td><td style=\"text-align: right;\">-0.141206  </td><td style=\"text-align: right;\"> 0.0413128</td><td style=\"text-align: right;\">-0.0184116 </td><td style=\"text-align: right;\"> 0.0244646 </td><td style=\"text-align: right;\">-0.0657388</td><td style=\"text-align: right;\"> 0.0224071 </td><td style=\"text-align: right;\">-0.0293343 </td><td style=\"text-align: right;\"> 0.0574374</td><td style=\"text-align: right;\"> 0.0594337</td><td style=\"text-align: right;\"> 6.18436e-05</td><td style=\"text-align: right;\"> 0.076053  </td><td style=\"text-align: right;\">-0.134495 </td><td style=\"text-align: right;\">-0.0544602 </td><td style=\"text-align: right;\">-0.0314915</td><td style=\"text-align: right;\">-0.0379403</td><td style=\"text-align: right;\"> 0.0162142</td><td style=\"text-align: right;\"> 0.0494879 </td><td style=\"text-align: right;\">-0.0216376 </td><td style=\"text-align: right;\">-0.113108 </td><td style=\"text-align: right;\"> 0.0148087</td><td style=\"text-align: right;\">-0.0632256</td><td style=\"text-align: right;\"> 0.0520835 </td><td style=\"text-align: right;\"> 0.0543224</td><td style=\"text-align: right;\">-0.0771092</td><td style=\"text-align: right;\"> 0.0836959</td><td style=\"text-align: right;\"> 0.0543037</td><td style=\"text-align: right;\">-0.0765748 </td><td style=\"text-align: right;\">-0.0464138</td><td style=\"text-align: right;\">-0.0404516</td><td style=\"text-align: right;\">0.0752593 </td><td style=\"text-align: right;\">-0.00796745</td><td style=\"text-align: right;\"> 0.0019321</td><td style=\"text-align: right;\"> 0.00837169</td><td style=\"text-align: right;\">0.147367 </td><td style=\"text-align: right;\"> 0.0726945</td><td style=\"text-align: right;\"> 0.0600744</td><td style=\"text-align: right;\">-0.013075  </td><td style=\"text-align: right;\"> 0.0173331 </td><td style=\"text-align: right;\">-0.0484884</td><td style=\"text-align: right;\">-0.163405  </td><td style=\"text-align: right;\">-0.0263563  </td><td style=\"text-align: right;\"> 0.00761656</td><td style=\"text-align: right;\"> 0.0365922 </td><td style=\"text-align: right;\"> 0.0112135 </td><td style=\"text-align: right;\"> 0.038153   </td><td style=\"text-align: right;\">-0.022384 </td><td style=\"text-align: right;\">-0.00724338</td><td style=\"text-align: right;\">-0.22978  </td><td style=\"text-align: right;\">-0.00420727</td><td style=\"text-align: right;\">0.152033 </td><td style=\"text-align: right;\">-0.0614193 </td><td style=\"text-align: right;\">-0.0391631 </td><td style=\"text-align: right;\">-0.0159001 </td><td style=\"text-align: right;\"> 0.0233634  </td><td style=\"text-align: right;\"> 0.00925754</td><td style=\"text-align: right;\">-0.0310756 </td><td style=\"text-align: right;\">-0.0497289 </td><td style=\"text-align: right;\">-0.0336175 </td><td style=\"text-align: right;\">-0.000818284</td><td style=\"text-align: right;\"> 0.0258367  </td><td style=\"text-align: right;\">-0.140119 </td><td style=\"text-align: right;\"> 0.0937694</td><td style=\"text-align: right;\">-0.0185984 </td><td style=\"text-align: right;\">-0.0139088 </td><td style=\"text-align: right;\">0.100456 </td><td style=\"text-align: right;\">-0.0134689 </td><td style=\"text-align: right;\">0.0969004</td></tr>\n",
              "<tr><td style=\"text-align: right;\"> 0.00660753</td><td style=\"text-align: right;\"> 0.0330427</td><td style=\"text-align: right;\"> 0.00318791</td><td style=\"text-align: right;\">-0.0674797 </td><td style=\"text-align: right;\"> 0.0600787 </td><td style=\"text-align: right;\">-0.0614019</td><td style=\"text-align: right;\">0.087288  </td><td style=\"text-align: right;\"> 0.0374771 </td><td style=\"text-align: right;\">-0.0151277  </td><td style=\"text-align: right;\"> 0.0442676 </td><td style=\"text-align: right;\">-0.0048486 </td><td style=\"text-align: right;\">-0.000451391</td><td style=\"text-align: right;\"> 0.0642399 </td><td style=\"text-align: right;\">-0.122257 </td><td style=\"text-align: right;\"> 0.0402461</td><td style=\"text-align: right;\"> 0.00484773</td><td style=\"text-align: right;\">-0.107497 </td><td style=\"text-align: right;\">0.0630127</td><td style=\"text-align: right;\"> 0.00704154</td><td style=\"text-align: right;\"> 0.0210722 </td><td style=\"text-align: right;\">-0.00591304</td><td style=\"text-align: right;\"> 0.0335018 </td><td style=\"text-align: right;\"> 0.0130814 </td><td style=\"text-align: right;\"> 0.026361  </td><td style=\"text-align: right;\">-0.00313037</td><td style=\"text-align: right;\">-0.195407 </td><td style=\"text-align: right;\">0.0714762  </td><td style=\"text-align: right;\">-0.0169304 </td><td style=\"text-align: right;\"> 0.116798  </td><td style=\"text-align: right;\"> 0.0259796</td><td style=\"text-align: right;\"> 0.0219746  </td><td style=\"text-align: right;\">-0.0084081</td><td style=\"text-align: right;\">-0.0442234 </td><td style=\"text-align: right;\">-0.0495566 </td><td style=\"text-align: right;\">-0.055303  </td><td style=\"text-align: right;\">-0.0821846</td><td style=\"text-align: right;\"> 0.0239502</td><td style=\"text-align: right;\"> 0.00694926</td><td style=\"text-align: right;\">-0.0456943 </td><td style=\"text-align: right;\"> 0.0549031  </td><td style=\"text-align: right;\">-0.00513267</td><td style=\"text-align: right;\"> 0.0127103</td><td style=\"text-align: right;\">-0.0923363</td><td style=\"text-align: right;\">0.0976258</td><td style=\"text-align: right;\"> 0.0858251</td><td style=\"text-align: right;\">-0.030272  </td><td style=\"text-align: right;\">-0.00169867</td><td style=\"text-align: right;\">-0.0446336 </td><td style=\"text-align: right;\">-0.0552408</td><td style=\"text-align: right;\">-0.0160415</td><td style=\"text-align: right;\"> 0.109781  </td><td style=\"text-align: right;\">0.141345 </td><td style=\"text-align: right;\"> 0.057286  </td><td style=\"text-align: right;\">-0.0822606 </td><td style=\"text-align: right;\">0.0639089</td><td style=\"text-align: right;\"> 0.0368171 </td><td style=\"text-align: right;\">-0.0751576</td><td style=\"text-align: right;\"> 0.123756 </td><td style=\"text-align: right;\"> 0.0550246 </td><td style=\"text-align: right;\"> 0.0828862 </td><td style=\"text-align: right;\">-0.0456172  </td><td style=\"text-align: right;\">-0.0581157</td><td style=\"text-align: right;\">-0.118202  </td><td style=\"text-align: right;\">-0.0135123 </td><td style=\"text-align: right;\"> 0.0226645</td><td style=\"text-align: right;\">0.165302 </td><td style=\"text-align: right;\">-0.135815 </td><td style=\"text-align: right;\">0.192466</td><td style=\"text-align: right;\"> 0.0651091 </td><td style=\"text-align: right;\">-0.0300206</td><td style=\"text-align: right;\">-0.0414713 </td><td style=\"text-align: right;\">-0.0744684 </td><td style=\"text-align: right;\">0.110974 </td><td style=\"text-align: right;\">-0.0265665 </td><td style=\"text-align: right;\">-0.0383424</td><td style=\"text-align: right;\">-0.0029254</td><td style=\"text-align: right;\">-0.0159157 </td><td style=\"text-align: right;\">-0.0986836 </td><td style=\"text-align: right;\">-0.0679167</td><td style=\"text-align: right;\">-0.0740663 </td><td style=\"text-align: right;\">-0.0343615 </td><td style=\"text-align: right;\"> 0.0476044</td><td style=\"text-align: right;\"> 0.0525484 </td><td style=\"text-align: right;\">0.105219 </td><td style=\"text-align: right;\"> 0.0702687</td><td style=\"text-align: right;\">-0.0607764</td><td style=\"text-align: right;\">-0.000931489</td><td style=\"text-align: right;\"> 0.000932171</td><td style=\"text-align: right;\">-0.0168022</td><td style=\"text-align: right;\">-0.0256186 </td><td style=\"text-align: right;\"> 0.0271287 </td><td style=\"text-align: right;\">0.0665658 </td><td style=\"text-align: right;\"> 0.095672 </td><td style=\"text-align: right;\"> 0.00674418</td><td style=\"text-align: right;\">-0.0417216 </td><td style=\"text-align: right;\">-0.00262794</td><td style=\"text-align: right;\"> 0.0619643 </td><td style=\"text-align: right;\">-0.0567253</td><td style=\"text-align: right;\">0.0856435</td><td style=\"text-align: right;\"> 0.0989788 </td><td style=\"text-align: right;\"> 0.0595816</td><td style=\"text-align: right;\"> 0.0137392</td><td style=\"text-align: right;\"> 0.0430251</td><td style=\"text-align: right;\">-0.00714765</td><td style=\"text-align: right;\"> 0.0122868</td><td style=\"text-align: right;\"> 0.0213029</td><td style=\"text-align: right;\"> 0.068149 </td><td style=\"text-align: right;\">-0.0443321 </td><td style=\"text-align: right;\">-0.0544879 </td><td style=\"text-align: right;\"> 0.0212869 </td><td style=\"text-align: right;\">0.147615  </td><td style=\"text-align: right;\"> 0.110331  </td><td style=\"text-align: right;\">-0.0659393</td><td style=\"text-align: right;\">-0.0397252 </td><td style=\"text-align: right;\"> 0.0509189 </td><td style=\"text-align: right;\">0.0613958 </td><td style=\"text-align: right;\">-0.0465782 </td><td style=\"text-align: right;\"> 0.0268931</td><td style=\"text-align: right;\"> 0.0047385</td><td style=\"text-align: right;\">-0.0774523</td><td style=\"text-align: right;\">-0.00768598</td><td style=\"text-align: right;\">-0.0210723</td><td style=\"text-align: right;\">-0.0279504 </td><td style=\"text-align: right;\">-0.0414443 </td><td style=\"text-align: right;\">-0.00332789</td><td style=\"text-align: right;\"> 0.00242949</td><td style=\"text-align: right;\">-0.0367122 </td><td style=\"text-align: right;\">-0.0994014</td><td style=\"text-align: right;\">-0.0165319</td><td style=\"text-align: right;\">0.129019</td><td style=\"text-align: right;\">-0.068696  </td><td style=\"text-align: right;\">-0.133059  </td><td style=\"text-align: right;\"> 0.0130701 </td><td style=\"text-align: right;\">-0.117934  </td><td style=\"text-align: right;\"> 0.0905938</td><td style=\"text-align: right;\">-0.0292948 </td><td style=\"text-align: right;\">-0.0162033 </td><td style=\"text-align: right;\">-0.0346938</td><td style=\"text-align: right;\"> 0.0337197 </td><td style=\"text-align: right;\">-0.0203787 </td><td style=\"text-align: right;\"> 0.105201 </td><td style=\"text-align: right;\"> 0.0477619</td><td style=\"text-align: right;\"> 0.0504149  </td><td style=\"text-align: right;\"> 0.0475476 </td><td style=\"text-align: right;\">-0.0599288</td><td style=\"text-align: right;\">-0.0731158 </td><td style=\"text-align: right;\">-0.0292846</td><td style=\"text-align: right;\">-0.0423003</td><td style=\"text-align: right;\"> 0.0276951</td><td style=\"text-align: right;\"> 0.0220581 </td><td style=\"text-align: right;\">-0.00805662</td><td style=\"text-align: right;\">-0.0828271</td><td style=\"text-align: right;\"> 0.0149669</td><td style=\"text-align: right;\">-0.0817257</td><td style=\"text-align: right;\"> 0.0607808 </td><td style=\"text-align: right;\">-0.0180648</td><td style=\"text-align: right;\">-0.0693189</td><td style=\"text-align: right;\"> 0.0220932</td><td style=\"text-align: right;\"> 0.0124123</td><td style=\"text-align: right;\">-0.00152923</td><td style=\"text-align: right;\">-0.128402 </td><td style=\"text-align: right;\">-0.0810215</td><td style=\"text-align: right;\">0.0940141 </td><td style=\"text-align: right;\"> 0.0331586 </td><td style=\"text-align: right;\">-0.0979672</td><td style=\"text-align: right;\"> 0.0422497 </td><td style=\"text-align: right;\">0.118095 </td><td style=\"text-align: right;\"> 0.0390985</td><td style=\"text-align: right;\"> 0.0440245</td><td style=\"text-align: right;\">-0.0152542 </td><td style=\"text-align: right;\">-0.0226431 </td><td style=\"text-align: right;\">-0.0806397</td><td style=\"text-align: right;\">-0.0896599 </td><td style=\"text-align: right;\">-0.0473862  </td><td style=\"text-align: right;\">-0.0430969 </td><td style=\"text-align: right;\"> 0.0106688 </td><td style=\"text-align: right;\">-0.0313417 </td><td style=\"text-align: right;\"> 0.0120928  </td><td style=\"text-align: right;\"> 0.043704 </td><td style=\"text-align: right;\">-0.0582799 </td><td style=\"text-align: right;\">-0.13766  </td><td style=\"text-align: right;\">-0.0718728 </td><td style=\"text-align: right;\">0.11869  </td><td style=\"text-align: right;\">-0.0469242 </td><td style=\"text-align: right;\">-0.0194534 </td><td style=\"text-align: right;\"> 0.0389093 </td><td style=\"text-align: right;\"> 0.0381598  </td><td style=\"text-align: right;\"> 0.0297424 </td><td style=\"text-align: right;\"> 0.0145317 </td><td style=\"text-align: right;\">-0.0632556 </td><td style=\"text-align: right;\">-0.0616733 </td><td style=\"text-align: right;\"> 0.0133569  </td><td style=\"text-align: right;\"> 0.00420161 </td><td style=\"text-align: right;\">-0.182117 </td><td style=\"text-align: right;\"> 0.0638676</td><td style=\"text-align: right;\">-0.0104271 </td><td style=\"text-align: right;\"> 0.0561563 </td><td style=\"text-align: right;\">0.0326954</td><td style=\"text-align: right;\"> 0.0368609 </td><td style=\"text-align: right;\">0.131697 </td></tr>\n",
              "<tr><td style=\"text-align: right;\"> 0.0111854 </td><td style=\"text-align: right;\">-0.159615 </td><td style=\"text-align: right;\">-0.0833806 </td><td style=\"text-align: right;\">-0.0709463 </td><td style=\"text-align: right;\"> 0.0561005 </td><td style=\"text-align: right;\">-0.0455583</td><td style=\"text-align: right;\">0.0283928 </td><td style=\"text-align: right;\"> 0.102149  </td><td style=\"text-align: right;\">-0.0468914  </td><td style=\"text-align: right;\"> 0.0133589 </td><td style=\"text-align: right;\"> 0.0207642 </td><td style=\"text-align: right;\">-0.0177491  </td><td style=\"text-align: right;\">-0.00828357</td><td style=\"text-align: right;\">-0.0949987</td><td style=\"text-align: right;\"> 0.151008 </td><td style=\"text-align: right;\">-0.00816963</td><td style=\"text-align: right;\">-0.0643705</td><td style=\"text-align: right;\">0.117722 </td><td style=\"text-align: right;\"> 0.0371142 </td><td style=\"text-align: right;\"> 0.033482  </td><td style=\"text-align: right;\"> 0.0902772 </td><td style=\"text-align: right;\"> 0.0669452 </td><td style=\"text-align: right;\"> 0.0474585 </td><td style=\"text-align: right;\"> 0.0892183 </td><td style=\"text-align: right;\">-0.0467483 </td><td style=\"text-align: right;\">-0.0971535</td><td style=\"text-align: right;\">0.0675617  </td><td style=\"text-align: right;\"> 0.0483851 </td><td style=\"text-align: right;\"> 0.0640895 </td><td style=\"text-align: right;\"> 0.021573 </td><td style=\"text-align: right;\">-0.0165527  </td><td style=\"text-align: right;\">-0.0537257</td><td style=\"text-align: right;\"> 0.00254834</td><td style=\"text-align: right;\">-0.0101579 </td><td style=\"text-align: right;\">-0.0864826 </td><td style=\"text-align: right;\">-0.0835974</td><td style=\"text-align: right;\">-0.0250531</td><td style=\"text-align: right;\">-0.00716378</td><td style=\"text-align: right;\">-0.0735333 </td><td style=\"text-align: right;\">-0.000788824</td><td style=\"text-align: right;\">-0.0268871 </td><td style=\"text-align: right;\">-0.0129958</td><td style=\"text-align: right;\">-0.0471483</td><td style=\"text-align: right;\">0.136851 </td><td style=\"text-align: right;\">-0.0402972</td><td style=\"text-align: right;\"> 0.0716103 </td><td style=\"text-align: right;\">-0.0756028 </td><td style=\"text-align: right;\">-0.0408873 </td><td style=\"text-align: right;\">-0.186998 </td><td style=\"text-align: right;\">-0.0179872</td><td style=\"text-align: right;\"> 0.0470267 </td><td style=\"text-align: right;\">0.0968445</td><td style=\"text-align: right;\">-0.0344808 </td><td style=\"text-align: right;\">-0.0473719 </td><td style=\"text-align: right;\">0.0134926</td><td style=\"text-align: right;\"> 0.0479189 </td><td style=\"text-align: right;\">-0.139842 </td><td style=\"text-align: right;\"> 0.13376  </td><td style=\"text-align: right;\">-0.0233735 </td><td style=\"text-align: right;\"> 0.00686134</td><td style=\"text-align: right;\">-0.0928114  </td><td style=\"text-align: right;\">-0.0993355</td><td style=\"text-align: right;\">-0.0305237 </td><td style=\"text-align: right;\">-0.068831  </td><td style=\"text-align: right;\">-0.046108 </td><td style=\"text-align: right;\">0.0440396</td><td style=\"text-align: right;\">-0.132919 </td><td style=\"text-align: right;\">0.103852</td><td style=\"text-align: right;\"> 0.0832516 </td><td style=\"text-align: right;\">-0.112756 </td><td style=\"text-align: right;\">-0.0573346 </td><td style=\"text-align: right;\"> 0.136542  </td><td style=\"text-align: right;\">0.0598445</td><td style=\"text-align: right;\"> 0.0898261 </td><td style=\"text-align: right;\">-0.126566 </td><td style=\"text-align: right;\">-0.0245006</td><td style=\"text-align: right;\">-0.00789838</td><td style=\"text-align: right;\">-0.0728562 </td><td style=\"text-align: right;\">-0.113605 </td><td style=\"text-align: right;\">-0.0779675 </td><td style=\"text-align: right;\"> 0.0644695 </td><td style=\"text-align: right;\">-0.0119945</td><td style=\"text-align: right;\"> 0.0657701 </td><td style=\"text-align: right;\">0.126544 </td><td style=\"text-align: right;\"> 0.13633  </td><td style=\"text-align: right;\">-0.190995 </td><td style=\"text-align: right;\">-0.14475    </td><td style=\"text-align: right;\"> 0.094398   </td><td style=\"text-align: right;\"> 0.0371879</td><td style=\"text-align: right;\">-0.0133822 </td><td style=\"text-align: right;\">-0.0216612 </td><td style=\"text-align: right;\">0.00937261</td><td style=\"text-align: right;\"> 0.0635423</td><td style=\"text-align: right;\"> 0.0777775 </td><td style=\"text-align: right;\">-0.0723955 </td><td style=\"text-align: right;\"> 0.0617496 </td><td style=\"text-align: right;\"> 0.181692  </td><td style=\"text-align: right;\">-0.0106392</td><td style=\"text-align: right;\">0.0901014</td><td style=\"text-align: right;\"> 0.110226  </td><td style=\"text-align: right;\"> 0.068555 </td><td style=\"text-align: right;\">-0.101782 </td><td style=\"text-align: right;\">-0.0297185</td><td style=\"text-align: right;\"> 0.0361572 </td><td style=\"text-align: right;\"> 0.110258 </td><td style=\"text-align: right;\">-0.0276898</td><td style=\"text-align: right;\">-0.0272669</td><td style=\"text-align: right;\"> 0.0040596 </td><td style=\"text-align: right;\">-0.0111081 </td><td style=\"text-align: right;\"> 0.080285  </td><td style=\"text-align: right;\">0.0772359 </td><td style=\"text-align: right;\"> 0.0994648 </td><td style=\"text-align: right;\"> 0.115685 </td><td style=\"text-align: right;\">-0.0464339 </td><td style=\"text-align: right;\"> 0.0161992 </td><td style=\"text-align: right;\">0.198489  </td><td style=\"text-align: right;\">-0.0383871 </td><td style=\"text-align: right;\"> 0.0930338</td><td style=\"text-align: right;\"> 0.155624 </td><td style=\"text-align: right;\">-0.142173 </td><td style=\"text-align: right;\">-0.0760832 </td><td style=\"text-align: right;\">-0.163954 </td><td style=\"text-align: right;\"> 0.0354006 </td><td style=\"text-align: right;\"> 0.0160192 </td><td style=\"text-align: right;\"> 0.0529262 </td><td style=\"text-align: right;\"> 0.0339763 </td><td style=\"text-align: right;\">-0.0803441 </td><td style=\"text-align: right;\">-0.0381332</td><td style=\"text-align: right;\">-0.0600137</td><td style=\"text-align: right;\">0.175147</td><td style=\"text-align: right;\">-0.00399875</td><td style=\"text-align: right;\">-0.0200351 </td><td style=\"text-align: right;\">-0.0594953 </td><td style=\"text-align: right;\">-0.0894887 </td><td style=\"text-align: right;\">-0.0425293</td><td style=\"text-align: right;\">-0.0783404 </td><td style=\"text-align: right;\"> 0.112446  </td><td style=\"text-align: right;\">-0.0941064</td><td style=\"text-align: right;\"> 0.0988437 </td><td style=\"text-align: right;\">-0.0373064 </td><td style=\"text-align: right;\">-0.0425897</td><td style=\"text-align: right;\"> 0.0874162</td><td style=\"text-align: right;\"> 0.112661   </td><td style=\"text-align: right;\">-0.0441676 </td><td style=\"text-align: right;\">-0.0443476</td><td style=\"text-align: right;\"> 0.0260262 </td><td style=\"text-align: right;\"> 0.0208494</td><td style=\"text-align: right;\">-0.070984 </td><td style=\"text-align: right;\"> 0.0253663</td><td style=\"text-align: right;\">-0.0342027 </td><td style=\"text-align: right;\">-0.0379926 </td><td style=\"text-align: right;\">-0.189249 </td><td style=\"text-align: right;\">-0.148562 </td><td style=\"text-align: right;\">-0.0643795</td><td style=\"text-align: right;\">-0.0221798 </td><td style=\"text-align: right;\"> 0.0120705</td><td style=\"text-align: right;\">-0.0028958</td><td style=\"text-align: right;\"> 0.0824722</td><td style=\"text-align: right;\">-0.0105845</td><td style=\"text-align: right;\">-0.124315  </td><td style=\"text-align: right;\">-0.173155 </td><td style=\"text-align: right;\">-0.030939 </td><td style=\"text-align: right;\">0.097935  </td><td style=\"text-align: right;\"> 0.0270331 </td><td style=\"text-align: right;\">-0.0552431</td><td style=\"text-align: right;\"> 0.0596555 </td><td style=\"text-align: right;\">0.0941138</td><td style=\"text-align: right;\"> 0.0799782</td><td style=\"text-align: right;\"> 0.0839914</td><td style=\"text-align: right;\">-0.0676706 </td><td style=\"text-align: right;\">-0.0344278 </td><td style=\"text-align: right;\">-0.0638934</td><td style=\"text-align: right;\">-0.0191977 </td><td style=\"text-align: right;\">-0.0150267  </td><td style=\"text-align: right;\">-0.0969956 </td><td style=\"text-align: right;\"> 0.0788779 </td><td style=\"text-align: right;\">-0.144779  </td><td style=\"text-align: right;\">-0.0483119  </td><td style=\"text-align: right;\">-0.0310934</td><td style=\"text-align: right;\">-0.109745  </td><td style=\"text-align: right;\">-0.283033 </td><td style=\"text-align: right;\">-0.0931937 </td><td style=\"text-align: right;\">0.046987 </td><td style=\"text-align: right;\">-0.114917  </td><td style=\"text-align: right;\">-0.0522124 </td><td style=\"text-align: right;\">-0.0516085 </td><td style=\"text-align: right;\"> 0.066972   </td><td style=\"text-align: right;\">-0.091419  </td><td style=\"text-align: right;\">-0.0718597 </td><td style=\"text-align: right;\">-0.0112069 </td><td style=\"text-align: right;\">-0.00998017</td><td style=\"text-align: right;\">-0.0610804  </td><td style=\"text-align: right;\"> 0.111869   </td><td style=\"text-align: right;\">-0.104027 </td><td style=\"text-align: right;\">-0.030614 </td><td style=\"text-align: right;\">-0.134857  </td><td style=\"text-align: right;\">-0.00831249</td><td style=\"text-align: right;\">0.127681 </td><td style=\"text-align: right;\"> 0.00164678</td><td style=\"text-align: right;\">0.0194211</td></tr>\n",
              "<tr><td style=\"text-align: right;\">-0.149227  </td><td style=\"text-align: right;\"> 0.0850599</td><td style=\"text-align: right;\">-0.037362  </td><td style=\"text-align: right;\"> 0.016588  </td><td style=\"text-align: right;\">-0.0377121 </td><td style=\"text-align: right;\">-0.175098 </td><td style=\"text-align: right;\">0.00844284</td><td style=\"text-align: right;\"> 0.0736311 </td><td style=\"text-align: right;\"> 0.127256   </td><td style=\"text-align: right;\">-0.161102  </td><td style=\"text-align: right;\">-0.0638943 </td><td style=\"text-align: right;\"> 0.183794   </td><td style=\"text-align: right;\"> 0.00265452</td><td style=\"text-align: right;\">-0.0391895</td><td style=\"text-align: right;\">-0.0847231</td><td style=\"text-align: right;\">-0.0664323 </td><td style=\"text-align: right;\">-0.0463505</td><td style=\"text-align: right;\">0.138822 </td><td style=\"text-align: right;\">-0.0542668 </td><td style=\"text-align: right;\">-0.00874204</td><td style=\"text-align: right;\"> 0.16058   </td><td style=\"text-align: right;\"> 0.121888  </td><td style=\"text-align: right;\">-0.0562488 </td><td style=\"text-align: right;\">-0.0118105 </td><td style=\"text-align: right;\">-0.0697089 </td><td style=\"text-align: right;\">-0.101892 </td><td style=\"text-align: right;\">0.04328    </td><td style=\"text-align: right;\">-0.00235792</td><td style=\"text-align: right;\">-0.00900337</td><td style=\"text-align: right;\">-0.0291336</td><td style=\"text-align: right;\"> 0.0260927  </td><td style=\"text-align: right;\">-0.0281086</td><td style=\"text-align: right;\">-0.011706  </td><td style=\"text-align: right;\">-0.01682   </td><td style=\"text-align: right;\">-0.029491  </td><td style=\"text-align: right;\">-0.0462046</td><td style=\"text-align: right;\"> 0.0398847</td><td style=\"text-align: right;\"> 0.0444119 </td><td style=\"text-align: right;\"> 0.0686596 </td><td style=\"text-align: right;\">-0.00757276 </td><td style=\"text-align: right;\"> 0.0476101 </td><td style=\"text-align: right;\"> 0.100829 </td><td style=\"text-align: right;\"> 0.0652352</td><td style=\"text-align: right;\">0.0550923</td><td style=\"text-align: right;\"> 0.0139182</td><td style=\"text-align: right;\">-0.0344903 </td><td style=\"text-align: right;\"> 0.0554853 </td><td style=\"text-align: right;\">-0.154727  </td><td style=\"text-align: right;\">-0.012072 </td><td style=\"text-align: right;\"> 0.0469592</td><td style=\"text-align: right;\"> 0.0145566 </td><td style=\"text-align: right;\">0.07975  </td><td style=\"text-align: right;\"> 0.0232133 </td><td style=\"text-align: right;\"> 0.0354698 </td><td style=\"text-align: right;\">0.0394858</td><td style=\"text-align: right;\">-0.0244398 </td><td style=\"text-align: right;\">-0.202759 </td><td style=\"text-align: right;\">-0.0603708</td><td style=\"text-align: right;\"> 0.16633   </td><td style=\"text-align: right;\"> 0.0925391 </td><td style=\"text-align: right;\"> 0.046662   </td><td style=\"text-align: right;\">-0.0699628</td><td style=\"text-align: right;\"> 0.0189834 </td><td style=\"text-align: right;\"> 0.00869817</td><td style=\"text-align: right;\"> 0.266814 </td><td style=\"text-align: right;\">0.112208 </td><td style=\"text-align: right;\"> 0.108193 </td><td style=\"text-align: right;\">0.21875 </td><td style=\"text-align: right;\"> 0.00851566</td><td style=\"text-align: right;\"> 0.0706713</td><td style=\"text-align: right;\"> 0.0198626 </td><td style=\"text-align: right;\">-0.0926716 </td><td style=\"text-align: right;\">0.237368 </td><td style=\"text-align: right;\"> 0.0631896 </td><td style=\"text-align: right;\"> 0.0894888</td><td style=\"text-align: right;\"> 0.0614529</td><td style=\"text-align: right;\">-0.0117006 </td><td style=\"text-align: right;\">-0.00826017</td><td style=\"text-align: right;\">-0.0546852</td><td style=\"text-align: right;\">-0.101267  </td><td style=\"text-align: right;\">-0.0213228 </td><td style=\"text-align: right;\"> 0.0914176</td><td style=\"text-align: right;\"> 0.102732  </td><td style=\"text-align: right;\">0.219021 </td><td style=\"text-align: right;\">-0.0834702</td><td style=\"text-align: right;\">-0.0570977</td><td style=\"text-align: right;\"> 0.00795323 </td><td style=\"text-align: right;\">-0.0381792  </td><td style=\"text-align: right;\">-0.0447867</td><td style=\"text-align: right;\">-0.0974673 </td><td style=\"text-align: right;\">-0.0878044 </td><td style=\"text-align: right;\">0.176934  </td><td style=\"text-align: right;\"> 0.0582476</td><td style=\"text-align: right;\">-0.0504401 </td><td style=\"text-align: right;\"> 0.110165  </td><td style=\"text-align: right;\"> 0.0120341 </td><td style=\"text-align: right;\">-0.0452937 </td><td style=\"text-align: right;\"> 0.0254188</td><td style=\"text-align: right;\">0.0447494</td><td style=\"text-align: right;\"> 0.0295695 </td><td style=\"text-align: right;\">-0.0176507</td><td style=\"text-align: right;\">-0.071239 </td><td style=\"text-align: right;\"> 0.06025  </td><td style=\"text-align: right;\"> 0.07164   </td><td style=\"text-align: right;\"> 0.0370879</td><td style=\"text-align: right;\"> 0.0841977</td><td style=\"text-align: right;\"> 0.18459  </td><td style=\"text-align: right;\"> 0.117842  </td><td style=\"text-align: right;\">-0.0514188 </td><td style=\"text-align: right;\">-0.0175533 </td><td style=\"text-align: right;\">0.00408663</td><td style=\"text-align: right;\">-0.0411431 </td><td style=\"text-align: right;\"> 0.0159814</td><td style=\"text-align: right;\"> 0.123356  </td><td style=\"text-align: right;\">-0.0253552 </td><td style=\"text-align: right;\">0.100274  </td><td style=\"text-align: right;\">-0.0391526 </td><td style=\"text-align: right;\">-0.022717 </td><td style=\"text-align: right;\"> 0.0110721</td><td style=\"text-align: right;\"> 0.118611 </td><td style=\"text-align: right;\">-0.0265721 </td><td style=\"text-align: right;\">-0.162187 </td><td style=\"text-align: right;\">-0.00137639</td><td style=\"text-align: right;\">-0.0140572 </td><td style=\"text-align: right;\">-0.133783  </td><td style=\"text-align: right;\"> 0.0557673 </td><td style=\"text-align: right;\">-0.0948666 </td><td style=\"text-align: right;\">-0.0973752</td><td style=\"text-align: right;\"> 0.0678172</td><td style=\"text-align: right;\">0.162827</td><td style=\"text-align: right;\">-0.01586   </td><td style=\"text-align: right;\">-0.0883109 </td><td style=\"text-align: right;\">-0.00641063</td><td style=\"text-align: right;\">-0.0306558 </td><td style=\"text-align: right;\"> 0.127436 </td><td style=\"text-align: right;\">-0.13113   </td><td style=\"text-align: right;\"> 0.00290584</td><td style=\"text-align: right;\">-0.0195102</td><td style=\"text-align: right;\"> 0.0268862 </td><td style=\"text-align: right;\">-0.0196074 </td><td style=\"text-align: right;\">-0.0181384</td><td style=\"text-align: right;\"> 0.192565 </td><td style=\"text-align: right;\">-0.0343994  </td><td style=\"text-align: right;\"> 0.139459  </td><td style=\"text-align: right;\">-0.0209778</td><td style=\"text-align: right;\">-0.109807  </td><td style=\"text-align: right;\">-0.0200018</td><td style=\"text-align: right;\">-0.0156429</td><td style=\"text-align: right;\">-0.0839727</td><td style=\"text-align: right;\"> 0.0532588 </td><td style=\"text-align: right;\"> 0.0136358 </td><td style=\"text-align: right;\">-0.168113 </td><td style=\"text-align: right;\"> 0.0420485</td><td style=\"text-align: right;\"> 0.0820088</td><td style=\"text-align: right;\"> 0.137527  </td><td style=\"text-align: right;\"> 0.215825 </td><td style=\"text-align: right;\">-0.0624289</td><td style=\"text-align: right;\"> 0.0599249</td><td style=\"text-align: right;\"> 0.11608  </td><td style=\"text-align: right;\">-0.0357066 </td><td style=\"text-align: right;\">-0.0733433</td><td style=\"text-align: right;\">-0.0522397</td><td style=\"text-align: right;\">0.149592  </td><td style=\"text-align: right;\">-0.0300024 </td><td style=\"text-align: right;\"> 0.0946674</td><td style=\"text-align: right;\"> 0.0051675 </td><td style=\"text-align: right;\">0.102336 </td><td style=\"text-align: right;\"> 0.180766 </td><td style=\"text-align: right;\"> 0.0264611</td><td style=\"text-align: right;\"> 0.0461015 </td><td style=\"text-align: right;\"> 0.0555689 </td><td style=\"text-align: right;\"> 0.0191592</td><td style=\"text-align: right;\">-0.0269801 </td><td style=\"text-align: right;\">-0.000929032</td><td style=\"text-align: right;\"> 0.0275818 </td><td style=\"text-align: right;\">-0.0673423 </td><td style=\"text-align: right;\"> 0.0195536 </td><td style=\"text-align: right;\"> 0.0109925  </td><td style=\"text-align: right;\"> 0.0887564</td><td style=\"text-align: right;\"> 0.12788   </td><td style=\"text-align: right;\">-0.261329 </td><td style=\"text-align: right;\"> 0.077356  </td><td style=\"text-align: right;\">0.113406 </td><td style=\"text-align: right;\"> 0.00056892</td><td style=\"text-align: right;\">-0.0112419 </td><td style=\"text-align: right;\">-0.0885932 </td><td style=\"text-align: right;\"> 0.0830377  </td><td style=\"text-align: right;\"> 0.165915  </td><td style=\"text-align: right;\">-0.00624385</td><td style=\"text-align: right;\">-0.143422  </td><td style=\"text-align: right;\"> 0.0186803 </td><td style=\"text-align: right;\">-0.139756   </td><td style=\"text-align: right;\"> 0.0821823  </td><td style=\"text-align: right;\">-0.0961307</td><td style=\"text-align: right;\"> 0.053894 </td><td style=\"text-align: right;\">-0.0259132 </td><td style=\"text-align: right;\">-0.0939273 </td><td style=\"text-align: right;\">0.158619 </td><td style=\"text-align: right;\"> 0.00150739</td><td style=\"text-align: right;\">0.0409049</td></tr>\n",
              "<tr><td style=\"text-align: right;\">-0.00253625</td><td style=\"text-align: right;\"> 0.031676 </td><td style=\"text-align: right;\">-0.0385195 </td><td style=\"text-align: right;\">-0.094685  </td><td style=\"text-align: right;\"> 0.0380352 </td><td style=\"text-align: right;\">-0.0637742</td><td style=\"text-align: right;\">0.0395639 </td><td style=\"text-align: right;\"> 0.0937669 </td><td style=\"text-align: right;\"> 0.0527468  </td><td style=\"text-align: right;\"> 0.104013  </td><td style=\"text-align: right;\"> 0.0360068 </td><td style=\"text-align: right;\"> 0.0280969  </td><td style=\"text-align: right;\"> 0.120699  </td><td style=\"text-align: right;\">-0.123253 </td><td style=\"text-align: right;\"> 0.0563886</td><td style=\"text-align: right;\"> 0.0537311 </td><td style=\"text-align: right;\">-0.10589  </td><td style=\"text-align: right;\">0.0468237</td><td style=\"text-align: right;\">-0.0249391 </td><td style=\"text-align: right;\"> 0.0411454 </td><td style=\"text-align: right;\">-0.0705375 </td><td style=\"text-align: right;\"> 0.0437064 </td><td style=\"text-align: right;\"> 0.0133443 </td><td style=\"text-align: right;\"> 0.0378682 </td><td style=\"text-align: right;\">-0.0520639 </td><td style=\"text-align: right;\">-0.201944 </td><td style=\"text-align: right;\">0.0797853  </td><td style=\"text-align: right;\">-0.00858174</td><td style=\"text-align: right;\"> 0.0725408 </td><td style=\"text-align: right;\"> 0.145381 </td><td style=\"text-align: right;\"> 0.0159848  </td><td style=\"text-align: right;\">-0.0359984</td><td style=\"text-align: right;\"> 0.0083949 </td><td style=\"text-align: right;\">-0.00451526</td><td style=\"text-align: right;\">-0.0523213 </td><td style=\"text-align: right;\">-0.0285758</td><td style=\"text-align: right;\"> 0.0901698</td><td style=\"text-align: right;\"> 0.00269125</td><td style=\"text-align: right;\">-0.0391614 </td><td style=\"text-align: right;\">-0.0130012  </td><td style=\"text-align: right;\">-0.0622579 </td><td style=\"text-align: right;\">-0.0292644</td><td style=\"text-align: right;\">-0.110924 </td><td style=\"text-align: right;\">0.0880545</td><td style=\"text-align: right;\"> 0.121434 </td><td style=\"text-align: right;\"> 0.00500483</td><td style=\"text-align: right;\"> 0.0174772 </td><td style=\"text-align: right;\"> 0.0206096 </td><td style=\"text-align: right;\"> 0.0043772</td><td style=\"text-align: right;\">-0.0131978</td><td style=\"text-align: right;\"> 0.0710336 </td><td style=\"text-align: right;\">0.122042 </td><td style=\"text-align: right;\"> 0.00489888</td><td style=\"text-align: right;\">-0.0369354 </td><td style=\"text-align: right;\">0.0641024</td><td style=\"text-align: right;\"> 0.104131  </td><td style=\"text-align: right;\">-0.110517 </td><td style=\"text-align: right;\"> 0.0935899</td><td style=\"text-align: right;\"> 0.00842424</td><td style=\"text-align: right;\"> 0.0858896 </td><td style=\"text-align: right;\">-0.000322736</td><td style=\"text-align: right;\">-0.0723675</td><td style=\"text-align: right;\">-0.183287  </td><td style=\"text-align: right;\">-0.0810337 </td><td style=\"text-align: right;\"> 0.0340715</td><td style=\"text-align: right;\">0.096661 </td><td style=\"text-align: right;\">-0.178071 </td><td style=\"text-align: right;\">0.233216</td><td style=\"text-align: right;\"> 0.0664528 </td><td style=\"text-align: right;\"> 0.0343259</td><td style=\"text-align: right;\">-0.093983  </td><td style=\"text-align: right;\">-0.12196   </td><td style=\"text-align: right;\">0.029643 </td><td style=\"text-align: right;\">-0.0363621 </td><td style=\"text-align: right;\">-0.0942127</td><td style=\"text-align: right;\"> 0.0856543</td><td style=\"text-align: right;\"> 0.0192009 </td><td style=\"text-align: right;\">-0.142044  </td><td style=\"text-align: right;\">-0.10053  </td><td style=\"text-align: right;\">-0.0511246 </td><td style=\"text-align: right;\"> 0.0310011 </td><td style=\"text-align: right;\"> 0.0821639</td><td style=\"text-align: right;\"> 0.068947  </td><td style=\"text-align: right;\">0.0697392</td><td style=\"text-align: right;\"> 0.0704824</td><td style=\"text-align: right;\">-0.050505 </td><td style=\"text-align: right;\"> 0.0130085  </td><td style=\"text-align: right;\"> 0.0204229  </td><td style=\"text-align: right;\">-0.0623384</td><td style=\"text-align: right;\">-0.00248646</td><td style=\"text-align: right;\"> 0.00491353</td><td style=\"text-align: right;\">0.0867536 </td><td style=\"text-align: right;\"> 0.0253848</td><td style=\"text-align: right;\"> 0.114994  </td><td style=\"text-align: right;\"> 0.0365043 </td><td style=\"text-align: right;\"> 0.0745531 </td><td style=\"text-align: right;\"> 0.120616  </td><td style=\"text-align: right;\">-0.0806657</td><td style=\"text-align: right;\">0.102583 </td><td style=\"text-align: right;\"> 0.025601  </td><td style=\"text-align: right;\"> 0.0390499</td><td style=\"text-align: right;\">-0.0104215</td><td style=\"text-align: right;\"> 0.0632414</td><td style=\"text-align: right;\"> 0.00783644</td><td style=\"text-align: right;\">-0.0757187</td><td style=\"text-align: right;\"> 0.0182668</td><td style=\"text-align: right;\"> 0.0588489</td><td style=\"text-align: right;\">-0.0215959 </td><td style=\"text-align: right;\">-0.0430237 </td><td style=\"text-align: right;\"> 0.0579772 </td><td style=\"text-align: right;\">0.114756  </td><td style=\"text-align: right;\"> 0.153492  </td><td style=\"text-align: right;\"> 0.0366574</td><td style=\"text-align: right;\">-0.0832429 </td><td style=\"text-align: right;\"> 0.0671233 </td><td style=\"text-align: right;\">0.0407364 </td><td style=\"text-align: right;\">-0.00336162</td><td style=\"text-align: right;\"> 0.0607909</td><td style=\"text-align: right;\"> 0.0174152</td><td style=\"text-align: right;\">-0.0670126</td><td style=\"text-align: right;\">-0.0433279 </td><td style=\"text-align: right;\">-0.0632073</td><td style=\"text-align: right;\">-0.0619276 </td><td style=\"text-align: right;\">-0.016293  </td><td style=\"text-align: right;\"> 0.0481117 </td><td style=\"text-align: right;\">-0.0785677 </td><td style=\"text-align: right;\">-0.0231558 </td><td style=\"text-align: right;\">-0.11072  </td><td style=\"text-align: right;\">-0.0144094</td><td style=\"text-align: right;\">0.111092</td><td style=\"text-align: right;\">-0.00606075</td><td style=\"text-align: right;\">-0.0844024 </td><td style=\"text-align: right;\">-0.0589401 </td><td style=\"text-align: right;\">-0.166384  </td><td style=\"text-align: right;\"> 0.0508705</td><td style=\"text-align: right;\"> 0.00270034</td><td style=\"text-align: right;\"> 0.0224757 </td><td style=\"text-align: right;\">-0.117151 </td><td style=\"text-align: right;\">-0.0179168 </td><td style=\"text-align: right;\">-0.0540626 </td><td style=\"text-align: right;\"> 0.159469 </td><td style=\"text-align: right;\"> 0.0851425</td><td style=\"text-align: right;\"> 0.0950541  </td><td style=\"text-align: right;\"> 0.00888356</td><td style=\"text-align: right;\">-0.0835444</td><td style=\"text-align: right;\">-0.078135  </td><td style=\"text-align: right;\"> 0.0841058</td><td style=\"text-align: right;\">-0.144572 </td><td style=\"text-align: right;\"> 0.0423792</td><td style=\"text-align: right;\">-0.00618455</td><td style=\"text-align: right;\"> 0.0549611 </td><td style=\"text-align: right;\">-0.0481738</td><td style=\"text-align: right;\"> 0.0693373</td><td style=\"text-align: right;\">-0.0813847</td><td style=\"text-align: right;\"> 0.107361  </td><td style=\"text-align: right;\">-0.0609013</td><td style=\"text-align: right;\"> 0.0268122</td><td style=\"text-align: right;\">-0.0511653</td><td style=\"text-align: right;\"> 0.0757858</td><td style=\"text-align: right;\"> 0.00605781</td><td style=\"text-align: right;\">-0.14973  </td><td style=\"text-align: right;\">-0.0810819</td><td style=\"text-align: right;\">0.0956711 </td><td style=\"text-align: right;\"> 0.0565838 </td><td style=\"text-align: right;\">-0.106137 </td><td style=\"text-align: right;\"> 0.064495  </td><td style=\"text-align: right;\">0.1862   </td><td style=\"text-align: right;\"> 0.017298 </td><td style=\"text-align: right;\">-0.0119716</td><td style=\"text-align: right;\"> 0.103028  </td><td style=\"text-align: right;\"> 0.0193434 </td><td style=\"text-align: right;\">-0.100128 </td><td style=\"text-align: right;\">-0.0900217 </td><td style=\"text-align: right;\">-0.0364792  </td><td style=\"text-align: right;\">-0.0178272 </td><td style=\"text-align: right;\"> 0.00999293</td><td style=\"text-align: right;\">-0.00271807</td><td style=\"text-align: right;\">-0.0148685  </td><td style=\"text-align: right;\"> 0.0526698</td><td style=\"text-align: right;\">-0.0692902 </td><td style=\"text-align: right;\">-0.162288 </td><td style=\"text-align: right;\">-0.0756699 </td><td style=\"text-align: right;\">0.0721014</td><td style=\"text-align: right;\"> 0.071973  </td><td style=\"text-align: right;\">-0.0352825 </td><td style=\"text-align: right;\">-0.0537072 </td><td style=\"text-align: right;\">-0.00845841 </td><td style=\"text-align: right;\">-0.00239514</td><td style=\"text-align: right;\"> 0.0157766 </td><td style=\"text-align: right;\">-0.0229255 </td><td style=\"text-align: right;\">-0.0571337 </td><td style=\"text-align: right;\"> 0.0684559  </td><td style=\"text-align: right;\">-0.0248809  </td><td style=\"text-align: right;\">-0.221521 </td><td style=\"text-align: right;\"> 0.117214 </td><td style=\"text-align: right;\"> 0.0430092 </td><td style=\"text-align: right;\"> 0.0390694 </td><td style=\"text-align: right;\">0.0868047</td><td style=\"text-align: right;\">-0.00149588</td><td style=\"text-align: right;\">0.143266 </td></tr>\n",
              "<tr><td style=\"text-align: right;\">-0.0491143 </td><td style=\"text-align: right;\"> 0.0761182</td><td style=\"text-align: right;\">-0.0437152 </td><td style=\"text-align: right;\">-0.00701558</td><td style=\"text-align: right;\"> 0.0517877 </td><td style=\"text-align: right;\">-0.0612155</td><td style=\"text-align: right;\">0.0214166 </td><td style=\"text-align: right;\"> 0.00989434</td><td style=\"text-align: right;\">-0.110068   </td><td style=\"text-align: right;\"> 0.185639  </td><td style=\"text-align: right;\">-0.0726364 </td><td style=\"text-align: right;\">-0.0412728  </td><td style=\"text-align: right;\"> 0.0779537 </td><td style=\"text-align: right;\">-0.0564151</td><td style=\"text-align: right;\">-0.0563436</td><td style=\"text-align: right;\">-0.0446925 </td><td style=\"text-align: right;\">-0.0063694</td><td style=\"text-align: right;\">0.060149 </td><td style=\"text-align: right;\">-0.10726   </td><td style=\"text-align: right;\">-0.018543  </td><td style=\"text-align: right;\"> 0.00841881</td><td style=\"text-align: right;\"> 0.0604518 </td><td style=\"text-align: right;\"> 0.0495231 </td><td style=\"text-align: right;\"> 0.012539  </td><td style=\"text-align: right;\">-0.0526203 </td><td style=\"text-align: right;\">-0.104315 </td><td style=\"text-align: right;\">0.140013   </td><td style=\"text-align: right;\">-0.0630254 </td><td style=\"text-align: right;\"> 0.0792987 </td><td style=\"text-align: right;\">-0.113877 </td><td style=\"text-align: right;\">-0.0487549  </td><td style=\"text-align: right;\">-0.055177 </td><td style=\"text-align: right;\"> 0.0900943 </td><td style=\"text-align: right;\">-0.0916043 </td><td style=\"text-align: right;\">-0.0671017 </td><td style=\"text-align: right;\"> 0.0417962</td><td style=\"text-align: right;\"> 0.022885 </td><td style=\"text-align: right;\">-0.0547469 </td><td style=\"text-align: right;\"> 0.00233475</td><td style=\"text-align: right;\"> 0.0104496  </td><td style=\"text-align: right;\">-0.0362276 </td><td style=\"text-align: right;\"> 0.0282044</td><td style=\"text-align: right;\">-0.0829238</td><td style=\"text-align: right;\">0.166299 </td><td style=\"text-align: right;\"> 0.0238354</td><td style=\"text-align: right;\">-0.0734418 </td><td style=\"text-align: right;\"> 0.0336742 </td><td style=\"text-align: right;\"> 0.0310972 </td><td style=\"text-align: right;\">-0.0327346</td><td style=\"text-align: right;\"> 0.0306052</td><td style=\"text-align: right;\"> 0.118144  </td><td style=\"text-align: right;\">0.0944673</td><td style=\"text-align: right;\">-0.106761  </td><td style=\"text-align: right;\"> 0.0228397 </td><td style=\"text-align: right;\">0.0443953</td><td style=\"text-align: right;\"> 0.0444685 </td><td style=\"text-align: right;\">-0.101847 </td><td style=\"text-align: right;\"> 0.107078 </td><td style=\"text-align: right;\"> 0.0279094 </td><td style=\"text-align: right;\">-0.00997545</td><td style=\"text-align: right;\">-0.13081    </td><td style=\"text-align: right;\">-0.164969 </td><td style=\"text-align: right;\">-0.0192553 </td><td style=\"text-align: right;\">-0.0158059 </td><td style=\"text-align: right;\"> 0.0725672</td><td style=\"text-align: right;\">0.055781 </td><td style=\"text-align: right;\">-0.0482431</td><td style=\"text-align: right;\">0.134927</td><td style=\"text-align: right;\"> 0.0611303 </td><td style=\"text-align: right;\"> 0.0558655</td><td style=\"text-align: right;\">-0.00989985</td><td style=\"text-align: right;\"> 0.128221  </td><td style=\"text-align: right;\">0.0874727</td><td style=\"text-align: right;\"> 0.0560436 </td><td style=\"text-align: right;\">-0.0116766</td><td style=\"text-align: right;\"> 0.0641855</td><td style=\"text-align: right;\">-0.00869183</td><td style=\"text-align: right;\"> 0.0156532 </td><td style=\"text-align: right;\">-0.0952545</td><td style=\"text-align: right;\">-0.0451455 </td><td style=\"text-align: right;\">-0.0125794 </td><td style=\"text-align: right;\"> 0.0844578</td><td style=\"text-align: right;\">-0.0291781 </td><td style=\"text-align: right;\">0.155866 </td><td style=\"text-align: right;\"> 0.0910369</td><td style=\"text-align: right;\">-0.0687268</td><td style=\"text-align: right;\"> 0.0084417  </td><td style=\"text-align: right;\">-0.0181603  </td><td style=\"text-align: right;\">-0.0256971</td><td style=\"text-align: right;\">-0.02868   </td><td style=\"text-align: right;\">-0.128636  </td><td style=\"text-align: right;\">0.0552232 </td><td style=\"text-align: right;\">-0.0103991</td><td style=\"text-align: right;\">-0.00763487</td><td style=\"text-align: right;\">-0.00390561</td><td style=\"text-align: right;\"> 0.0728609 </td><td style=\"text-align: right;\"> 0.0477673 </td><td style=\"text-align: right;\">-0.133391 </td><td style=\"text-align: right;\">0.0444912</td><td style=\"text-align: right;\"> 0.0365872 </td><td style=\"text-align: right;\"> 0.0673036</td><td style=\"text-align: right;\">-0.0520783</td><td style=\"text-align: right;\">-0.046036 </td><td style=\"text-align: right;\"> 0.0622139 </td><td style=\"text-align: right;\"> 0.111466 </td><td style=\"text-align: right;\">-0.0466565</td><td style=\"text-align: right;\"> 0.141739 </td><td style=\"text-align: right;\"> 0.00331119</td><td style=\"text-align: right;\">-0.0814738 </td><td style=\"text-align: right;\"> 0.0136801 </td><td style=\"text-align: right;\">0.0330836 </td><td style=\"text-align: right;\">-0.030675  </td><td style=\"text-align: right;\"> 0.0751554</td><td style=\"text-align: right;\"> 0.0870528 </td><td style=\"text-align: right;\"> 0.141455  </td><td style=\"text-align: right;\">0.155476  </td><td style=\"text-align: right;\"> 0.00606857</td><td style=\"text-align: right;\">-0.0594467</td><td style=\"text-align: right;\"> 0.139064 </td><td style=\"text-align: right;\"> 0.050358 </td><td style=\"text-align: right;\"> 0.0540712 </td><td style=\"text-align: right;\">-0.142729 </td><td style=\"text-align: right;\">-0.0191668 </td><td style=\"text-align: right;\"> 0.0104543 </td><td style=\"text-align: right;\"> 0.0322745 </td><td style=\"text-align: right;\">-0.0317161 </td><td style=\"text-align: right;\">-0.10635   </td><td style=\"text-align: right;\">-0.0411452</td><td style=\"text-align: right;\">-0.0187393</td><td style=\"text-align: right;\">0.174764</td><td style=\"text-align: right;\"> 0.0244258 </td><td style=\"text-align: right;\">-0.00585258</td><td style=\"text-align: right;\"> 0.0124071 </td><td style=\"text-align: right;\"> 0.00377959</td><td style=\"text-align: right;\"> 0.0380354</td><td style=\"text-align: right;\"> 0.117298  </td><td style=\"text-align: right;\"> 0.00475843</td><td style=\"text-align: right;\">-0.0152139</td><td style=\"text-align: right;\"> 0.0145528 </td><td style=\"text-align: right;\">-0.0446419 </td><td style=\"text-align: right;\">-0.0319983</td><td style=\"text-align: right;\"> 0.119301 </td><td style=\"text-align: right;\">-0.0397824  </td><td style=\"text-align: right;\"> 0.139379  </td><td style=\"text-align: right;\">-0.107724 </td><td style=\"text-align: right;\">-0.0687073 </td><td style=\"text-align: right;\">-0.0263854</td><td style=\"text-align: right;\">-0.0378752</td><td style=\"text-align: right;\"> 0.110309 </td><td style=\"text-align: right;\">-0.0204936 </td><td style=\"text-align: right;\"> 0.0101668 </td><td style=\"text-align: right;\">-0.0535996</td><td style=\"text-align: right;\"> 0.0858437</td><td style=\"text-align: right;\">-0.040181 </td><td style=\"text-align: right;\"> 0.00096653</td><td style=\"text-align: right;\"> 0.0554274</td><td style=\"text-align: right;\">-0.0201809</td><td style=\"text-align: right;\"> 0.128797 </td><td style=\"text-align: right;\"> 0.0984567</td><td style=\"text-align: right;\">-0.0431941 </td><td style=\"text-align: right;\">-0.0799591</td><td style=\"text-align: right;\">-0.0311867</td><td style=\"text-align: right;\">0.178377  </td><td style=\"text-align: right;\">-0.043416  </td><td style=\"text-align: right;\">-0.0471835</td><td style=\"text-align: right;\"> 0.0270928 </td><td style=\"text-align: right;\">0.0923386</td><td style=\"text-align: right;\"> 0.0411609</td><td style=\"text-align: right;\"> 0.0251903</td><td style=\"text-align: right;\"> 0.00715345</td><td style=\"text-align: right;\">-0.00255996</td><td style=\"text-align: right;\">-0.137201 </td><td style=\"text-align: right;\">-0.132722  </td><td style=\"text-align: right;\">-0.116039   </td><td style=\"text-align: right;\"> 0.00847737</td><td style=\"text-align: right;\"> 0.0153519 </td><td style=\"text-align: right;\">-0.0466213 </td><td style=\"text-align: right;\"> 0.000334132</td><td style=\"text-align: right;\"> 0.0110684</td><td style=\"text-align: right;\">-0.062261  </td><td style=\"text-align: right;\">-0.233603 </td><td style=\"text-align: right;\">-0.0125159 </td><td style=\"text-align: right;\">0.118152 </td><td style=\"text-align: right;\">-0.135556  </td><td style=\"text-align: right;\">-0.00480616</td><td style=\"text-align: right;\">-0.0204019 </td><td style=\"text-align: right;\"> 0.0210192  </td><td style=\"text-align: right;\"> 0.0660306 </td><td style=\"text-align: right;\">-0.0392563 </td><td style=\"text-align: right;\">-0.0613572 </td><td style=\"text-align: right;\">-0.0565991 </td><td style=\"text-align: right;\">-0.041258   </td><td style=\"text-align: right;\">-0.0102962  </td><td style=\"text-align: right;\">-0.0990375</td><td style=\"text-align: right;\"> 0.0938658</td><td style=\"text-align: right;\">-0.029548  </td><td style=\"text-align: right;\">-0.0429246 </td><td style=\"text-align: right;\">0.0741193</td><td style=\"text-align: right;\"> 0.107105  </td><td style=\"text-align: right;\">0.143993 </td></tr>\n",
              "<tr><td style=\"text-align: right;\">-0.0432054 </td><td style=\"text-align: right;\"> 0.0391103</td><td style=\"text-align: right;\">-0.0468733 </td><td style=\"text-align: right;\">-0.04842   </td><td style=\"text-align: right;\"> 0.0725538 </td><td style=\"text-align: right;\">-0.0958073</td><td style=\"text-align: right;\">0.0118994 </td><td style=\"text-align: right;\">-0.0272587 </td><td style=\"text-align: right;\"> 0.105805   </td><td style=\"text-align: right;\"> 0.0383636 </td><td style=\"text-align: right;\">-0.0239137 </td><td style=\"text-align: right;\"> 0.16489    </td><td style=\"text-align: right;\"> 0.0276567 </td><td style=\"text-align: right;\">-0.0739734</td><td style=\"text-align: right;\"> 0.0693436</td><td style=\"text-align: right;\"> 0.0887953 </td><td style=\"text-align: right;\">-0.174738 </td><td style=\"text-align: right;\">0.0548646</td><td style=\"text-align: right;\">-0.0905994 </td><td style=\"text-align: right;\">-0.0261747 </td><td style=\"text-align: right;\"> 0.100978  </td><td style=\"text-align: right;\">-0.00318848</td><td style=\"text-align: right;\">-0.0123549 </td><td style=\"text-align: right;\">-0.0453557 </td><td style=\"text-align: right;\">-0.0512326 </td><td style=\"text-align: right;\">-0.213113 </td><td style=\"text-align: right;\">0.0744487  </td><td style=\"text-align: right;\">-0.0815208 </td><td style=\"text-align: right;\"> 0.081907  </td><td style=\"text-align: right;\">-0.0144851</td><td style=\"text-align: right;\">-0.0356811  </td><td style=\"text-align: right;\"> 0.0407774</td><td style=\"text-align: right;\"> 0.0112476 </td><td style=\"text-align: right;\">-0.166366  </td><td style=\"text-align: right;\">-0.0323006 </td><td style=\"text-align: right;\">-0.0498429</td><td style=\"text-align: right;\"> 0.0536742</td><td style=\"text-align: right;\">-0.0346233 </td><td style=\"text-align: right;\">-0.0505219 </td><td style=\"text-align: right;\"> 0.00935682 </td><td style=\"text-align: right;\"> 0.087309  </td><td style=\"text-align: right;\"> 0.0663767</td><td style=\"text-align: right;\">-0.0360181</td><td style=\"text-align: right;\">0.114395 </td><td style=\"text-align: right;\"> 0.0831795</td><td style=\"text-align: right;\">-0.0014326 </td><td style=\"text-align: right;\">-0.0076237 </td><td style=\"text-align: right;\">-0.00888112</td><td style=\"text-align: right;\"> 0.0233411</td><td style=\"text-align: right;\">-0.0795571</td><td style=\"text-align: right;\"> 0.0752449 </td><td style=\"text-align: right;\">0.194433 </td><td style=\"text-align: right;\">-0.0285883 </td><td style=\"text-align: right;\">-0.0558822 </td><td style=\"text-align: right;\">0.0606479</td><td style=\"text-align: right;\"> 0.0672507 </td><td style=\"text-align: right;\">-0.0568965</td><td style=\"text-align: right;\"> 0.21616  </td><td style=\"text-align: right;\"> 0.0467325 </td><td style=\"text-align: right;\"> 0.100183  </td><td style=\"text-align: right;\">-0.0778824  </td><td style=\"text-align: right;\">-0.0833197</td><td style=\"text-align: right;\">-0.115259  </td><td style=\"text-align: right;\">-0.0169012 </td><td style=\"text-align: right;\"> 0.0446352</td><td style=\"text-align: right;\">0.216633 </td><td style=\"text-align: right;\">-0.154826 </td><td style=\"text-align: right;\">0.130686</td><td style=\"text-align: right;\"> 0.143618  </td><td style=\"text-align: right;\"> 0.0289565</td><td style=\"text-align: right;\"> 0.0177518 </td><td style=\"text-align: right;\">-0.0455767 </td><td style=\"text-align: right;\">0.0888771</td><td style=\"text-align: right;\">-0.00894819</td><td style=\"text-align: right;\">-0.0799876</td><td style=\"text-align: right;\"> 0.147268 </td><td style=\"text-align: right;\"> 0.0611922 </td><td style=\"text-align: right;\">-0.133482  </td><td style=\"text-align: right;\">-0.0643687</td><td style=\"text-align: right;\">-0.0961056 </td><td style=\"text-align: right;\"> 0.0360485 </td><td style=\"text-align: right;\"> 0.0337643</td><td style=\"text-align: right;\"> 0.0119145 </td><td style=\"text-align: right;\">0.158239 </td><td style=\"text-align: right;\"> 0.064048 </td><td style=\"text-align: right;\">-0.0974458</td><td style=\"text-align: right;\"> 0.0949004  </td><td style=\"text-align: right;\"> 0.0466827  </td><td style=\"text-align: right;\">-0.0317334</td><td style=\"text-align: right;\">-0.0207295 </td><td style=\"text-align: right;\">-0.0135134 </td><td style=\"text-align: right;\">0.155824  </td><td style=\"text-align: right;\">-0.0180766</td><td style=\"text-align: right;\">-0.0286391 </td><td style=\"text-align: right;\">-0.0511044 </td><td style=\"text-align: right;\"> 0.0328922 </td><td style=\"text-align: right;\"> 0.0449355 </td><td style=\"text-align: right;\">-0.0314896</td><td style=\"text-align: right;\">0.0468017</td><td style=\"text-align: right;\"> 0.0449607 </td><td style=\"text-align: right;\">-0.0458581</td><td style=\"text-align: right;\"> 0.0789218</td><td style=\"text-align: right;\"> 0.0927876</td><td style=\"text-align: right;\">-0.0495384 </td><td style=\"text-align: right;\"> 0.105754 </td><td style=\"text-align: right;\"> 0.116544 </td><td style=\"text-align: right;\"> 0.0621214</td><td style=\"text-align: right;\">-0.171473  </td><td style=\"text-align: right;\">-0.0102207 </td><td style=\"text-align: right;\"> 0.0263057 </td><td style=\"text-align: right;\">0.0450398 </td><td style=\"text-align: right;\"> 0.102654  </td><td style=\"text-align: right;\">-0.0584879</td><td style=\"text-align: right;\">-0.0368769 </td><td style=\"text-align: right;\"> 0.114698  </td><td style=\"text-align: right;\">0.0982311 </td><td style=\"text-align: right;\">-0.121761  </td><td style=\"text-align: right;\">-0.0170277</td><td style=\"text-align: right;\"> 0.0577997</td><td style=\"text-align: right;\"> 0.069279 </td><td style=\"text-align: right;\"> 0.0261989 </td><td style=\"text-align: right;\">-0.0612155</td><td style=\"text-align: right;\">-0.0640051 </td><td style=\"text-align: right;\">-0.0289238 </td><td style=\"text-align: right;\">-0.0609408 </td><td style=\"text-align: right;\">-0.0878148 </td><td style=\"text-align: right;\"> 0.0348157 </td><td style=\"text-align: right;\">-0.149921 </td><td style=\"text-align: right;\"> 0.123055 </td><td style=\"text-align: right;\">0.093181</td><td style=\"text-align: right;\">-0.0468428 </td><td style=\"text-align: right;\">-0.0762945 </td><td style=\"text-align: right;\"> 0.0181648 </td><td style=\"text-align: right;\"> 0.00900058</td><td style=\"text-align: right;\"> 0.134874 </td><td style=\"text-align: right;\">-0.02611   </td><td style=\"text-align: right;\"> 0.0285253 </td><td style=\"text-align: right;\">-0.0755104</td><td style=\"text-align: right;\"> 0.00465383</td><td style=\"text-align: right;\">-0.0627044 </td><td style=\"text-align: right;\"> 0.126668 </td><td style=\"text-align: right;\">-0.0669069</td><td style=\"text-align: right;\">-0.0156791  </td><td style=\"text-align: right;\"> 0.0137963 </td><td style=\"text-align: right;\">-0.0488797</td><td style=\"text-align: right;\"> 0.00645003</td><td style=\"text-align: right;\">-0.0127105</td><td style=\"text-align: right;\">-0.173221 </td><td style=\"text-align: right;\"> 0.103638 </td><td style=\"text-align: right;\"> 0.00136994</td><td style=\"text-align: right;\"> 0.00289782</td><td style=\"text-align: right;\">-0.0811304</td><td style=\"text-align: right;\">-0.0818768</td><td style=\"text-align: right;\">-0.0844915</td><td style=\"text-align: right;\"> 0.0191148 </td><td style=\"text-align: right;\"> 0.0240411</td><td style=\"text-align: right;\">-0.0251604</td><td style=\"text-align: right;\">-0.0242273</td><td style=\"text-align: right;\"> 0.0970248</td><td style=\"text-align: right;\">-0.0125231 </td><td style=\"text-align: right;\">-0.188746 </td><td style=\"text-align: right;\">-0.0283086</td><td style=\"text-align: right;\">0.00758999</td><td style=\"text-align: right;\"> 0.0644145 </td><td style=\"text-align: right;\"> 0.0569533</td><td style=\"text-align: right;\">-0.0366194 </td><td style=\"text-align: right;\">0.202274 </td><td style=\"text-align: right;\"> 0.0975008</td><td style=\"text-align: right;\">-0.0693536</td><td style=\"text-align: right;\">-0.0408256 </td><td style=\"text-align: right;\"> 0.0381128 </td><td style=\"text-align: right;\">-0.100115 </td><td style=\"text-align: right;\">-0.120015  </td><td style=\"text-align: right;\">-0.0182722  </td><td style=\"text-align: right;\">-0.0529143 </td><td style=\"text-align: right;\">-0.0187704 </td><td style=\"text-align: right;\"> 0.0446548 </td><td style=\"text-align: right;\">-0.00102243 </td><td style=\"text-align: right;\"> 0.0656111</td><td style=\"text-align: right;\">-0.0942734 </td><td style=\"text-align: right;\">-0.0309099</td><td style=\"text-align: right;\">-0.103181  </td><td style=\"text-align: right;\">0.0940254</td><td style=\"text-align: right;\">-0.0554572 </td><td style=\"text-align: right;\"> 0.0345133 </td><td style=\"text-align: right;\">-0.0106908 </td><td style=\"text-align: right;\">-0.000863764</td><td style=\"text-align: right;\"> 0.0642891 </td><td style=\"text-align: right;\"> 0.0349596 </td><td style=\"text-align: right;\">-0.0304198 </td><td style=\"text-align: right;\">-0.0119811 </td><td style=\"text-align: right;\">-0.0831055  </td><td style=\"text-align: right;\">-0.0187957  </td><td style=\"text-align: right;\">-0.227816 </td><td style=\"text-align: right;\"> 0.0595312</td><td style=\"text-align: right;\"> 0.0342375 </td><td style=\"text-align: right;\"> 0.0114838 </td><td style=\"text-align: right;\">0.0713839</td><td style=\"text-align: right;\"> 0.00910417</td><td style=\"text-align: right;\">0.142373 </td></tr>\n",
              "</tbody>\n",
              "</table>"
            ]
          },
          "metadata": {
            "tags": []
          }
        },
        {
          "output_type": "execute_result",
          "data": {
            "text/plain": [
              ""
            ]
          },
          "metadata": {
            "tags": []
          },
          "execution_count": 17
        }
      ]
    },
    {
      "cell_type": "code",
      "metadata": {
        "id": "Llgo_yZChNkU",
        "colab_type": "code",
        "colab": {}
      },
      "source": [
        "# Add aggregated word embeddings \n",
        "ext_reviews_train = reviews_train.cbind(review_vecs_train)\n",
        "ext_reviews_test = reviews_test.cbind(review_vecs_test)\n",
        "# rename may be... all 'reviews' to 'news'\n",
        "# ext becaus ewe are extending the reviews df with the vectors"
      ],
      "execution_count": 0,
      "outputs": []
    },
    {
      "cell_type": "code",
      "metadata": {
        "id": "wCRqaA-suTlx",
        "colab_type": "code",
        "colab": {}
      },
      "source": [
        "ext_reviews_train[\"label_f\"]  = ext_reviews_train[\"label\"] .asfactor()\n"
      ],
      "execution_count": 0,
      "outputs": []
    },
    {
      "cell_type": "code",
      "metadata": {
        "id": "-V4NwCbfIMrd",
        "colab_type": "code",
        "colab": {}
      },
      "source": [
        "ext_reviews_test[\"label_f\"]  = ext_reviews_test[\"label\"] .asfactor() # need this too for the conf matrix"
      ],
      "execution_count": 0,
      "outputs": []
    },
    {
      "cell_type": "code",
      "metadata": {
        "id": "d73uj-4GhzKZ",
        "colab_type": "code",
        "colab": {}
      },
      "source": [
        "# Splitting to test train.. along with the review vecs is difficult without the 'Train' boolean column\n",
        "# hence redoing it from that stage..\n",
        "# so that we'll be able to do this following cell"
      ],
      "execution_count": 0,
      "outputs": []
    },
    {
      "cell_type": "code",
      "metadata": {
        "id": "6xGhP5nuhlW5",
        "colab_type": "code",
        "colab": {}
      },
      "source": [
        "#ext_train = ext_reviews[ext_reviews[\"Train\"] == \"True\"]\n",
        "#ext_test = ext_reviews[ext_reviews[\"Train\"] == \"False\"] \n",
        "# these are not needed now.. since these were already done..."
      ],
      "execution_count": 0,
      "outputs": []
    },
    {
      "cell_type": "code",
      "metadata": {
        "id": "_YXUIUMyjoBy",
        "colab_type": "code",
        "colab": {}
      },
      "source": [
        "#review_vecs.names\n",
        "# had a 100 cols\n",
        "# may be more would give a better model ..?"
      ],
      "execution_count": 0,
      "outputs": []
    },
    {
      "cell_type": "code",
      "metadata": {
        "id": "QzqR-bgyjYVL",
        "colab_type": "code",
        "outputId": "de759fb3-6672-4c0b-c8a8-8d91d9914578",
        "colab": {
          "base_uri": "https://localhost:8080/",
          "height": 34
        }
      },
      "source": [
        "reviews.shape[0]"
      ],
      "execution_count": 0,
      "outputs": [
        {
          "output_type": "execute_result",
          "data": {
            "text/plain": [
              "12291"
            ]
          },
          "metadata": {
            "tags": []
          },
          "execution_count": 24
        }
      ]
    },
    {
      "cell_type": "code",
      "metadata": {
        "id": "FiPk1R1rEYvN",
        "colab_type": "code",
        "colab": {}
      },
      "source": [
        "from h2o.automl import H2OAutoML"
      ],
      "execution_count": 0,
      "outputs": []
    },
    {
      "cell_type": "code",
      "metadata": {
        "id": "XWhtPh21lt7U",
        "colab_type": "code",
        "colab": {}
      },
      "source": [
        "x = ext_reviews_train.columns"
      ],
      "execution_count": 0,
      "outputs": []
    },
    {
      "cell_type": "code",
      "metadata": {
        "id": "L1AukzKrmP3s",
        "colab_type": "code",
        "colab": {}
      },
      "source": [
        "# x= [x for x in ext_train.columns if x not in ['label', 'Train']]"
      ],
      "execution_count": 0,
      "outputs": []
    },
    {
      "cell_type": "code",
      "metadata": {
        "id": "NiXINVZalvb5",
        "colab_type": "code",
        "outputId": "3f0c63cf-4383-496d-acbd-1f513d11cbe8",
        "colab": {
          "base_uri": "https://localhost:8080/",
          "height": 54
        }
      },
      "source": [
        "print(x)"
      ],
      "execution_count": 0,
      "outputs": [
        {
          "output_type": "stream",
          "text": [
            "['label', 'text', 'C1', 'C2', 'C3', 'C4', 'C5', 'C6', 'C7', 'C8', 'C9', 'C10', 'C11', 'C12', 'C13', 'C14', 'C15', 'C16', 'C17', 'C18', 'C19', 'C20', 'C21', 'C22', 'C23', 'C24', 'C25', 'C26', 'C27', 'C28', 'C29', 'C30', 'C31', 'C32', 'C33', 'C34', 'C35', 'C36', 'C37', 'C38', 'C39', 'C40', 'C41', 'C42', 'C43', 'C44', 'C45', 'C46', 'C47', 'C48', 'C49', 'C50', 'C51', 'C52', 'C53', 'C54', 'C55', 'C56', 'C57', 'C58', 'C59', 'C60', 'C61', 'C62', 'C63', 'C64', 'C65', 'C66', 'C67', 'C68', 'C69', 'C70', 'C71', 'C72', 'C73', 'C74', 'C75', 'C76', 'C77', 'C78', 'C79', 'C80', 'C81', 'C82', 'C83', 'C84', 'C85', 'C86', 'C87', 'C88', 'C89', 'C90', 'C91', 'C92', 'C93', 'C94', 'C95', 'C96', 'C97', 'C98', 'C99', 'C100', 'C101', 'C102', 'C103', 'C104', 'C105', 'C106', 'C107', 'C108', 'C109', 'C110', 'C111', 'C112', 'C113', 'C114', 'C115', 'C116', 'C117', 'C118', 'C119', 'C120', 'C121', 'C122', 'C123', 'C124', 'C125', 'C126', 'C127', 'C128', 'C129', 'C130', 'C131', 'C132', 'C133', 'C134', 'C135', 'C136', 'C137', 'C138', 'C139', 'C140', 'C141', 'C142', 'C143', 'C144', 'C145', 'C146', 'C147', 'C148', 'C149', 'C150', 'C151', 'C152', 'C153', 'C154', 'C155', 'C156', 'C157', 'C158', 'C159', 'C160', 'C161', 'C162', 'C163', 'C164', 'C165', 'C166', 'C167', 'C168', 'C169', 'C170', 'C171', 'C172', 'C173', 'C174', 'C175', 'C176', 'C177', 'C178', 'C179', 'C180', 'C181', 'C182', 'C183', 'C184', 'C185', 'C186', 'C187', 'C188', 'C189', 'C190', 'C191', 'C192', 'C193', 'C194', 'C195', 'C196', 'C197', 'C198', 'C199', 'C200', 'label_f']\n"
          ],
          "name": "stdout"
        }
      ]
    },
    {
      "cell_type": "code",
      "metadata": {
        "id": "aQemjfjfEEKP",
        "colab_type": "code",
        "colab": {}
      },
      "source": [
        "# Identify predictors and response\n",
        "x = ext_reviews_train.columns\n",
        "x = [x for x in ext_reviews_train.columns if x not in ['label', 'Train','text','label_f']] # remove columns that can leak data\n",
        "y = \"label_f\"\n",
        "# other_cols = \"\"\n",
        "# x.remove(y)\n",
        "\n",
        "# For binary classification, response should be a factor\n",
        "#train[y] = train[y].asfactor()\n",
        "#test[y] = test[y].asfactor()\n",
        "# Already done"
      ],
      "execution_count": 0,
      "outputs": []
    },
    {
      "cell_type": "code",
      "metadata": {
        "id": "e1xOQtjp4CH6",
        "colab_type": "code",
        "outputId": "40cfbb44-aff6-4568-e1da-8b086d90188d",
        "colab": {
          "base_uri": "https://localhost:8080/",
          "height": 54
        }
      },
      "source": [
        "print(x)"
      ],
      "execution_count": 0,
      "outputs": [
        {
          "output_type": "stream",
          "text": [
            "['C1', 'C2', 'C3', 'C4', 'C5', 'C6', 'C7', 'C8', 'C9', 'C10', 'C11', 'C12', 'C13', 'C14', 'C15', 'C16', 'C17', 'C18', 'C19', 'C20', 'C21', 'C22', 'C23', 'C24', 'C25', 'C26', 'C27', 'C28', 'C29', 'C30', 'C31', 'C32', 'C33', 'C34', 'C35', 'C36', 'C37', 'C38', 'C39', 'C40', 'C41', 'C42', 'C43', 'C44', 'C45', 'C46', 'C47', 'C48', 'C49', 'C50', 'C51', 'C52', 'C53', 'C54', 'C55', 'C56', 'C57', 'C58', 'C59', 'C60', 'C61', 'C62', 'C63', 'C64', 'C65', 'C66', 'C67', 'C68', 'C69', 'C70', 'C71', 'C72', 'C73', 'C74', 'C75', 'C76', 'C77', 'C78', 'C79', 'C80', 'C81', 'C82', 'C83', 'C84', 'C85', 'C86', 'C87', 'C88', 'C89', 'C90', 'C91', 'C92', 'C93', 'C94', 'C95', 'C96', 'C97', 'C98', 'C99', 'C100', 'C101', 'C102', 'C103', 'C104', 'C105', 'C106', 'C107', 'C108', 'C109', 'C110', 'C111', 'C112', 'C113', 'C114', 'C115', 'C116', 'C117', 'C118', 'C119', 'C120', 'C121', 'C122', 'C123', 'C124', 'C125', 'C126', 'C127', 'C128', 'C129', 'C130', 'C131', 'C132', 'C133', 'C134', 'C135', 'C136', 'C137', 'C138', 'C139', 'C140', 'C141', 'C142', 'C143', 'C144', 'C145', 'C146', 'C147', 'C148', 'C149', 'C150', 'C151', 'C152', 'C153', 'C154', 'C155', 'C156', 'C157', 'C158', 'C159', 'C160', 'C161', 'C162', 'C163', 'C164', 'C165', 'C166', 'C167', 'C168', 'C169', 'C170', 'C171', 'C172', 'C173', 'C174', 'C175', 'C176', 'C177', 'C178', 'C179', 'C180', 'C181', 'C182', 'C183', 'C184', 'C185', 'C186', 'C187', 'C188', 'C189', 'C190', 'C191', 'C192', 'C193', 'C194', 'C195', 'C196', 'C197', 'C198', 'C199', 'C200']\n"
          ],
          "name": "stdout"
        }
      ]
    },
    {
      "cell_type": "code",
      "metadata": {
        "id": "Q-fkoBnYEEFR",
        "colab_type": "code",
        "outputId": "e0cf16e6-c2b7-471f-bf69-abbd2d9a6ce6",
        "colab": {
          "base_uri": "https://localhost:8080/",
          "height": 67
        }
      },
      "source": [
        "%%time\n",
        "# Run AutoML for 20 base models (limited to 1 hour max runtime by default)\n",
        "aml = H2OAutoML(max_models=20, seed=1,exclude_algos=  [\"DeepLearning\"])#, max_runtime_secs =1200)\n",
        "aml.train(x=x, y=y, training_frame=ext_reviews_train)"
      ],
      "execution_count": 0,
      "outputs": [
        {
          "output_type": "stream",
          "text": [
            "AutoML progress: |████████████████████████████████████████████████████████| 100%\n",
            "CPU times: user 24.6 s, sys: 1.71 s, total: 26.3 s\n",
            "Wall time: 1h 26min 28s\n"
          ],
          "name": "stdout"
        }
      ]
    },
    {
      "cell_type": "code",
      "metadata": {
        "id": "p6DzSYbYED-a",
        "colab_type": "code",
        "outputId": "a13384d6-d6a2-4940-d04b-f1000d7801e4",
        "colab": {
          "base_uri": "https://localhost:8080/",
          "height": 178
        }
      },
      "source": [
        "# View the AutoML Leaderboard\n",
        "lb = aml.leaderboard\n",
        "lb.head(rows=lb.nrows)  # Print all rows instead of default (10 rows)"
      ],
      "execution_count": 0,
      "outputs": [
        {
          "output_type": "display_data",
          "data": {
            "text/html": [
              "<table>\n",
              "<thead>\n",
              "<tr><th>model_id                                           </th><th style=\"text-align: right;\">  mean_per_class_error</th><th style=\"text-align: right;\">  logloss</th><th style=\"text-align: right;\">    rmse</th><th style=\"text-align: right;\">     mse</th></tr>\n",
              "</thead>\n",
              "<tbody>\n",
              "<tr><td>StackedEnsemble_AllModels_AutoML_20191105_093933   </td><td style=\"text-align: right;\">              0.362748</td><td style=\"text-align: right;\">  1.18802</td><td style=\"text-align: right;\">0.604074</td><td style=\"text-align: right;\">0.364905</td></tr>\n",
              "<tr><td>StackedEnsemble_BestOfFamily_AutoML_20191105_093933</td><td style=\"text-align: right;\">              0.368098</td><td style=\"text-align: right;\">  1.24817</td><td style=\"text-align: right;\">0.62167 </td><td style=\"text-align: right;\">0.386473</td></tr>\n",
              "<tr><td>GBM_1_AutoML_20191105_093933                       </td><td style=\"text-align: right;\">              0.374453</td><td style=\"text-align: right;\">  1.22667</td><td style=\"text-align: right;\">0.585595</td><td style=\"text-align: right;\">0.342921</td></tr>\n",
              "<tr><td>GBM_2_AutoML_20191105_093933                       </td><td style=\"text-align: right;\">              0.377452</td><td style=\"text-align: right;\">  1.22584</td><td style=\"text-align: right;\">0.600862</td><td style=\"text-align: right;\">0.361035</td></tr>\n",
              "<tr><td>DRF_1_AutoML_20191105_093933                       </td><td style=\"text-align: right;\">              0.382185</td><td style=\"text-align: right;\">  1.86671</td><td style=\"text-align: right;\">0.685978</td><td style=\"text-align: right;\">0.470566</td></tr>\n",
              "<tr><td>GBM_3_AutoML_20191105_093933                       </td><td style=\"text-align: right;\">              0.44718 </td><td style=\"text-align: right;\">  1.75194</td><td style=\"text-align: right;\">0.758814</td><td style=\"text-align: right;\">0.575799</td></tr>\n",
              "<tr><td>GLM_grid_1_AutoML_20191105_093933_model_1          </td><td style=\"text-align: right;\">              0.527445</td><td style=\"text-align: right;\">  2.61496</td><td style=\"text-align: right;\">0.922908</td><td style=\"text-align: right;\">0.851759</td></tr>\n",
              "</tbody>\n",
              "</table>"
            ]
          },
          "metadata": {
            "tags": []
          }
        },
        {
          "output_type": "execute_result",
          "data": {
            "text/plain": [
              ""
            ]
          },
          "metadata": {
            "tags": []
          },
          "execution_count": 33
        }
      ]
    },
    {
      "cell_type": "code",
      "metadata": {
        "id": "LnchaGEVED8i",
        "colab_type": "code",
        "outputId": "9bea83c5-33ea-444c-dd81-67b76413b628",
        "colab": {
          "base_uri": "https://localhost:8080/",
          "height": 336
        }
      },
      "source": [
        "#aml.leader.confusion_matrix()\n",
        "aml.leader.cross_validation_metrics_summary"
      ],
      "execution_count": 0,
      "outputs": [
        {
          "output_type": "stream",
          "text": [
            "Model Details\n",
            "=============\n",
            "H2OStackedEnsembleEstimator :  Stacked Ensemble\n",
            "Model Key:  StackedEnsemble_AllModels_AutoML_20191105_093933\n",
            "\n",
            "No model summary for this model\n",
            "\n",
            "ModelMetricsMultinomialGLM: stackedensemble\n",
            "** Reported on train data. **\n",
            "\n",
            "MSE: 0.028458619049308367\n",
            "RMSE: 0.16869682584242174\n",
            "\n",
            "ModelMetricsMultinomialGLM: stackedensemble\n",
            "** Reported on cross-validation data. **\n",
            "\n",
            "MSE: 0.3649052337007442\n",
            "RMSE: 0.6040738644410502\n"
          ],
          "name": "stdout"
        },
        {
          "output_type": "execute_result",
          "data": {
            "text/plain": [
              "<bound method ModelBase.cross_validation_metrics_summary of >"
            ]
          },
          "metadata": {
            "tags": []
          },
          "execution_count": 34
        }
      ]
    },
    {
      "cell_type": "code",
      "metadata": {
        "id": "yAL9a4r3H_S2",
        "colab_type": "code",
        "colab": {}
      },
      "source": [
        "#ext_reviews_test.columns"
      ],
      "execution_count": 0,
      "outputs": []
    },
    {
      "cell_type": "code",
      "metadata": {
        "id": "E1aEd__OED29",
        "colab_type": "code",
        "outputId": "4abb602e-9ac0-474a-dbc2-46c2d2fc3c38",
        "colab": {
          "base_uri": "https://localhost:8080/",
          "height": 706
        }
      },
      "source": [
        "aml.leader.confusion_matrix(ext_reviews_test) # "
      ],
      "execution_count": 0,
      "outputs": [
        {
          "output_type": "stream",
          "text": [
            "\n",
            "Confusion Matrix: Row labels: Actual class; Column labels: Predicted class\n"
          ],
          "name": "stdout"
        },
        {
          "output_type": "display_data",
          "data": {
            "text/html": [
              "<div>\n",
              "<style scoped>\n",
              "    .dataframe tbody tr th:only-of-type {\n",
              "        vertical-align: middle;\n",
              "    }\n",
              "\n",
              "    .dataframe tbody tr th {\n",
              "        vertical-align: top;\n",
              "    }\n",
              "\n",
              "    .dataframe thead th {\n",
              "        text-align: right;\n",
              "    }\n",
              "</style>\n",
              "<table border=\"1\" class=\"dataframe\">\n",
              "  <thead>\n",
              "    <tr style=\"text-align: right;\">\n",
              "      <th></th>\n",
              "      <th>0</th>\n",
              "      <th>1</th>\n",
              "      <th>2</th>\n",
              "      <th>3</th>\n",
              "      <th>4</th>\n",
              "      <th>5</th>\n",
              "      <th>6</th>\n",
              "      <th>7</th>\n",
              "      <th>8</th>\n",
              "      <th>9</th>\n",
              "      <th>10</th>\n",
              "      <th>11</th>\n",
              "      <th>12</th>\n",
              "      <th>13</th>\n",
              "      <th>14</th>\n",
              "      <th>15</th>\n",
              "      <th>16</th>\n",
              "      <th>17</th>\n",
              "      <th>18</th>\n",
              "      <th>19</th>\n",
              "      <th>Error</th>\n",
              "      <th>Rate</th>\n",
              "    </tr>\n",
              "  </thead>\n",
              "  <tbody>\n",
              "    <tr>\n",
              "      <th>0</th>\n",
              "      <td>37.0</td>\n",
              "      <td>0.0</td>\n",
              "      <td>0.0</td>\n",
              "      <td>0.0</td>\n",
              "      <td>0.0</td>\n",
              "      <td>0.0</td>\n",
              "      <td>0.0</td>\n",
              "      <td>4.0</td>\n",
              "      <td>3.0</td>\n",
              "      <td>1.0</td>\n",
              "      <td>0.0</td>\n",
              "      <td>0.0</td>\n",
              "      <td>0.0</td>\n",
              "      <td>2.0</td>\n",
              "      <td>1.0</td>\n",
              "      <td>9.0</td>\n",
              "      <td>1.0</td>\n",
              "      <td>4.0</td>\n",
              "      <td>4.0</td>\n",
              "      <td>6.0</td>\n",
              "      <td>0.486111</td>\n",
              "      <td>35 / 72</td>\n",
              "    </tr>\n",
              "    <tr>\n",
              "      <th>1</th>\n",
              "      <td>0.0</td>\n",
              "      <td>51.0</td>\n",
              "      <td>8.0</td>\n",
              "      <td>3.0</td>\n",
              "      <td>3.0</td>\n",
              "      <td>3.0</td>\n",
              "      <td>1.0</td>\n",
              "      <td>4.0</td>\n",
              "      <td>2.0</td>\n",
              "      <td>0.0</td>\n",
              "      <td>0.0</td>\n",
              "      <td>0.0</td>\n",
              "      <td>1.0</td>\n",
              "      <td>1.0</td>\n",
              "      <td>9.0</td>\n",
              "      <td>0.0</td>\n",
              "      <td>0.0</td>\n",
              "      <td>1.0</td>\n",
              "      <td>0.0</td>\n",
              "      <td>1.0</td>\n",
              "      <td>0.420455</td>\n",
              "      <td>37 / 88</td>\n",
              "    </tr>\n",
              "    <tr>\n",
              "      <th>2</th>\n",
              "      <td>0.0</td>\n",
              "      <td>1.0</td>\n",
              "      <td>54.0</td>\n",
              "      <td>9.0</td>\n",
              "      <td>4.0</td>\n",
              "      <td>7.0</td>\n",
              "      <td>3.0</td>\n",
              "      <td>6.0</td>\n",
              "      <td>0.0</td>\n",
              "      <td>0.0</td>\n",
              "      <td>0.0</td>\n",
              "      <td>1.0</td>\n",
              "      <td>2.0</td>\n",
              "      <td>0.0</td>\n",
              "      <td>2.0</td>\n",
              "      <td>0.0</td>\n",
              "      <td>0.0</td>\n",
              "      <td>0.0</td>\n",
              "      <td>0.0</td>\n",
              "      <td>0.0</td>\n",
              "      <td>0.393258</td>\n",
              "      <td>35 / 89</td>\n",
              "    </tr>\n",
              "    <tr>\n",
              "      <th>3</th>\n",
              "      <td>0.0</td>\n",
              "      <td>2.0</td>\n",
              "      <td>9.0</td>\n",
              "      <td>48.0</td>\n",
              "      <td>15.0</td>\n",
              "      <td>0.0</td>\n",
              "      <td>4.0</td>\n",
              "      <td>2.0</td>\n",
              "      <td>0.0</td>\n",
              "      <td>0.0</td>\n",
              "      <td>0.0</td>\n",
              "      <td>0.0</td>\n",
              "      <td>8.0</td>\n",
              "      <td>0.0</td>\n",
              "      <td>0.0</td>\n",
              "      <td>0.0</td>\n",
              "      <td>0.0</td>\n",
              "      <td>0.0</td>\n",
              "      <td>0.0</td>\n",
              "      <td>0.0</td>\n",
              "      <td>0.454545</td>\n",
              "      <td>40 / 88</td>\n",
              "    </tr>\n",
              "    <tr>\n",
              "      <th>4</th>\n",
              "      <td>0.0</td>\n",
              "      <td>4.0</td>\n",
              "      <td>3.0</td>\n",
              "      <td>8.0</td>\n",
              "      <td>52.0</td>\n",
              "      <td>4.0</td>\n",
              "      <td>5.0</td>\n",
              "      <td>4.0</td>\n",
              "      <td>0.0</td>\n",
              "      <td>0.0</td>\n",
              "      <td>0.0</td>\n",
              "      <td>2.0</td>\n",
              "      <td>4.0</td>\n",
              "      <td>1.0</td>\n",
              "      <td>0.0</td>\n",
              "      <td>0.0</td>\n",
              "      <td>0.0</td>\n",
              "      <td>0.0</td>\n",
              "      <td>0.0</td>\n",
              "      <td>0.0</td>\n",
              "      <td>0.402299</td>\n",
              "      <td>35 / 87</td>\n",
              "    </tr>\n",
              "    <tr>\n",
              "      <th>5</th>\n",
              "      <td>0.0</td>\n",
              "      <td>6.0</td>\n",
              "      <td>4.0</td>\n",
              "      <td>0.0</td>\n",
              "      <td>0.0</td>\n",
              "      <td>75.0</td>\n",
              "      <td>2.0</td>\n",
              "      <td>1.0</td>\n",
              "      <td>0.0</td>\n",
              "      <td>0.0</td>\n",
              "      <td>0.0</td>\n",
              "      <td>0.0</td>\n",
              "      <td>0.0</td>\n",
              "      <td>0.0</td>\n",
              "      <td>1.0</td>\n",
              "      <td>0.0</td>\n",
              "      <td>0.0</td>\n",
              "      <td>0.0</td>\n",
              "      <td>0.0</td>\n",
              "      <td>0.0</td>\n",
              "      <td>0.157303</td>\n",
              "      <td>14 / 89</td>\n",
              "    </tr>\n",
              "    <tr>\n",
              "      <th>6</th>\n",
              "      <td>0.0</td>\n",
              "      <td>1.0</td>\n",
              "      <td>1.0</td>\n",
              "      <td>4.0</td>\n",
              "      <td>3.0</td>\n",
              "      <td>0.0</td>\n",
              "      <td>62.0</td>\n",
              "      <td>2.0</td>\n",
              "      <td>1.0</td>\n",
              "      <td>2.0</td>\n",
              "      <td>0.0</td>\n",
              "      <td>2.0</td>\n",
              "      <td>7.0</td>\n",
              "      <td>1.0</td>\n",
              "      <td>1.0</td>\n",
              "      <td>0.0</td>\n",
              "      <td>1.0</td>\n",
              "      <td>0.0</td>\n",
              "      <td>0.0</td>\n",
              "      <td>0.0</td>\n",
              "      <td>0.295455</td>\n",
              "      <td>26 / 88</td>\n",
              "    </tr>\n",
              "    <tr>\n",
              "      <th>7</th>\n",
              "      <td>0.0</td>\n",
              "      <td>2.0</td>\n",
              "      <td>0.0</td>\n",
              "      <td>0.0</td>\n",
              "      <td>2.0</td>\n",
              "      <td>0.0</td>\n",
              "      <td>0.0</td>\n",
              "      <td>59.0</td>\n",
              "      <td>11.0</td>\n",
              "      <td>0.0</td>\n",
              "      <td>0.0</td>\n",
              "      <td>0.0</td>\n",
              "      <td>5.0</td>\n",
              "      <td>1.0</td>\n",
              "      <td>1.0</td>\n",
              "      <td>0.0</td>\n",
              "      <td>5.0</td>\n",
              "      <td>0.0</td>\n",
              "      <td>1.0</td>\n",
              "      <td>2.0</td>\n",
              "      <td>0.337079</td>\n",
              "      <td>30 / 89</td>\n",
              "    </tr>\n",
              "    <tr>\n",
              "      <th>8</th>\n",
              "      <td>0.0</td>\n",
              "      <td>1.0</td>\n",
              "      <td>0.0</td>\n",
              "      <td>0.0</td>\n",
              "      <td>2.0</td>\n",
              "      <td>0.0</td>\n",
              "      <td>5.0</td>\n",
              "      <td>12.0</td>\n",
              "      <td>59.0</td>\n",
              "      <td>0.0</td>\n",
              "      <td>0.0</td>\n",
              "      <td>0.0</td>\n",
              "      <td>4.0</td>\n",
              "      <td>1.0</td>\n",
              "      <td>2.0</td>\n",
              "      <td>0.0</td>\n",
              "      <td>2.0</td>\n",
              "      <td>0.0</td>\n",
              "      <td>1.0</td>\n",
              "      <td>1.0</td>\n",
              "      <td>0.344444</td>\n",
              "      <td>31 / 90</td>\n",
              "    </tr>\n",
              "    <tr>\n",
              "      <th>9</th>\n",
              "      <td>0.0</td>\n",
              "      <td>2.0</td>\n",
              "      <td>0.0</td>\n",
              "      <td>0.0</td>\n",
              "      <td>1.0</td>\n",
              "      <td>0.0</td>\n",
              "      <td>0.0</td>\n",
              "      <td>4.0</td>\n",
              "      <td>3.0</td>\n",
              "      <td>73.0</td>\n",
              "      <td>4.0</td>\n",
              "      <td>0.0</td>\n",
              "      <td>0.0</td>\n",
              "      <td>0.0</td>\n",
              "      <td>0.0</td>\n",
              "      <td>0.0</td>\n",
              "      <td>0.0</td>\n",
              "      <td>1.0</td>\n",
              "      <td>1.0</td>\n",
              "      <td>0.0</td>\n",
              "      <td>0.179775</td>\n",
              "      <td>16 / 89</td>\n",
              "    </tr>\n",
              "    <tr>\n",
              "      <th>10</th>\n",
              "      <td>0.0</td>\n",
              "      <td>0.0</td>\n",
              "      <td>0.0</td>\n",
              "      <td>0.0</td>\n",
              "      <td>0.0</td>\n",
              "      <td>0.0</td>\n",
              "      <td>3.0</td>\n",
              "      <td>6.0</td>\n",
              "      <td>3.0</td>\n",
              "      <td>8.0</td>\n",
              "      <td>63.0</td>\n",
              "      <td>1.0</td>\n",
              "      <td>2.0</td>\n",
              "      <td>1.0</td>\n",
              "      <td>1.0</td>\n",
              "      <td>0.0</td>\n",
              "      <td>0.0</td>\n",
              "      <td>0.0</td>\n",
              "      <td>2.0</td>\n",
              "      <td>0.0</td>\n",
              "      <td>0.300000</td>\n",
              "      <td>27 / 90</td>\n",
              "    </tr>\n",
              "    <tr>\n",
              "      <th>11</th>\n",
              "      <td>0.0</td>\n",
              "      <td>0.0</td>\n",
              "      <td>1.0</td>\n",
              "      <td>0.0</td>\n",
              "      <td>0.0</td>\n",
              "      <td>2.0</td>\n",
              "      <td>1.0</td>\n",
              "      <td>4.0</td>\n",
              "      <td>0.0</td>\n",
              "      <td>0.0</td>\n",
              "      <td>0.0</td>\n",
              "      <td>68.0</td>\n",
              "      <td>1.0</td>\n",
              "      <td>0.0</td>\n",
              "      <td>4.0</td>\n",
              "      <td>0.0</td>\n",
              "      <td>1.0</td>\n",
              "      <td>1.0</td>\n",
              "      <td>6.0</td>\n",
              "      <td>0.0</td>\n",
              "      <td>0.235955</td>\n",
              "      <td>21 / 89</td>\n",
              "    </tr>\n",
              "    <tr>\n",
              "      <th>12</th>\n",
              "      <td>0.0</td>\n",
              "      <td>3.0</td>\n",
              "      <td>1.0</td>\n",
              "      <td>4.0</td>\n",
              "      <td>7.0</td>\n",
              "      <td>0.0</td>\n",
              "      <td>4.0</td>\n",
              "      <td>6.0</td>\n",
              "      <td>3.0</td>\n",
              "      <td>0.0</td>\n",
              "      <td>0.0</td>\n",
              "      <td>1.0</td>\n",
              "      <td>58.0</td>\n",
              "      <td>1.0</td>\n",
              "      <td>0.0</td>\n",
              "      <td>0.0</td>\n",
              "      <td>1.0</td>\n",
              "      <td>0.0</td>\n",
              "      <td>0.0</td>\n",
              "      <td>0.0</td>\n",
              "      <td>0.348315</td>\n",
              "      <td>31 / 89</td>\n",
              "    </tr>\n",
              "    <tr>\n",
              "      <th>13</th>\n",
              "      <td>4.0</td>\n",
              "      <td>3.0</td>\n",
              "      <td>0.0</td>\n",
              "      <td>0.0</td>\n",
              "      <td>1.0</td>\n",
              "      <td>0.0</td>\n",
              "      <td>0.0</td>\n",
              "      <td>6.0</td>\n",
              "      <td>6.0</td>\n",
              "      <td>0.0</td>\n",
              "      <td>0.0</td>\n",
              "      <td>0.0</td>\n",
              "      <td>3.0</td>\n",
              "      <td>59.0</td>\n",
              "      <td>3.0</td>\n",
              "      <td>0.0</td>\n",
              "      <td>1.0</td>\n",
              "      <td>0.0</td>\n",
              "      <td>2.0</td>\n",
              "      <td>1.0</td>\n",
              "      <td>0.337079</td>\n",
              "      <td>30 / 89</td>\n",
              "    </tr>\n",
              "    <tr>\n",
              "      <th>14</th>\n",
              "      <td>0.0</td>\n",
              "      <td>2.0</td>\n",
              "      <td>1.0</td>\n",
              "      <td>0.0</td>\n",
              "      <td>1.0</td>\n",
              "      <td>0.0</td>\n",
              "      <td>1.0</td>\n",
              "      <td>6.0</td>\n",
              "      <td>3.0</td>\n",
              "      <td>1.0</td>\n",
              "      <td>0.0</td>\n",
              "      <td>0.0</td>\n",
              "      <td>4.0</td>\n",
              "      <td>2.0</td>\n",
              "      <td>65.0</td>\n",
              "      <td>1.0</td>\n",
              "      <td>1.0</td>\n",
              "      <td>0.0</td>\n",
              "      <td>1.0</td>\n",
              "      <td>0.0</td>\n",
              "      <td>0.269663</td>\n",
              "      <td>24 / 89</td>\n",
              "    </tr>\n",
              "    <tr>\n",
              "      <th>15</th>\n",
              "      <td>11.0</td>\n",
              "      <td>0.0</td>\n",
              "      <td>0.0</td>\n",
              "      <td>0.0</td>\n",
              "      <td>0.0</td>\n",
              "      <td>0.0</td>\n",
              "      <td>0.0</td>\n",
              "      <td>0.0</td>\n",
              "      <td>0.0</td>\n",
              "      <td>1.0</td>\n",
              "      <td>0.0</td>\n",
              "      <td>0.0</td>\n",
              "      <td>0.0</td>\n",
              "      <td>3.0</td>\n",
              "      <td>1.0</td>\n",
              "      <td>67.0</td>\n",
              "      <td>0.0</td>\n",
              "      <td>0.0</td>\n",
              "      <td>1.0</td>\n",
              "      <td>6.0</td>\n",
              "      <td>0.255556</td>\n",
              "      <td>23 / 90</td>\n",
              "    </tr>\n",
              "    <tr>\n",
              "      <th>16</th>\n",
              "      <td>2.0</td>\n",
              "      <td>2.0</td>\n",
              "      <td>0.0</td>\n",
              "      <td>0.0</td>\n",
              "      <td>0.0</td>\n",
              "      <td>0.0</td>\n",
              "      <td>0.0</td>\n",
              "      <td>5.0</td>\n",
              "      <td>3.0</td>\n",
              "      <td>2.0</td>\n",
              "      <td>0.0</td>\n",
              "      <td>3.0</td>\n",
              "      <td>1.0</td>\n",
              "      <td>0.0</td>\n",
              "      <td>1.0</td>\n",
              "      <td>0.0</td>\n",
              "      <td>51.0</td>\n",
              "      <td>2.0</td>\n",
              "      <td>9.0</td>\n",
              "      <td>1.0</td>\n",
              "      <td>0.378049</td>\n",
              "      <td>31 / 82</td>\n",
              "    </tr>\n",
              "    <tr>\n",
              "      <th>17</th>\n",
              "      <td>7.0</td>\n",
              "      <td>0.0</td>\n",
              "      <td>0.0</td>\n",
              "      <td>0.0</td>\n",
              "      <td>0.0</td>\n",
              "      <td>0.0</td>\n",
              "      <td>0.0</td>\n",
              "      <td>5.0</td>\n",
              "      <td>1.0</td>\n",
              "      <td>1.0</td>\n",
              "      <td>1.0</td>\n",
              "      <td>1.0</td>\n",
              "      <td>1.0</td>\n",
              "      <td>1.0</td>\n",
              "      <td>0.0</td>\n",
              "      <td>0.0</td>\n",
              "      <td>1.0</td>\n",
              "      <td>63.0</td>\n",
              "      <td>3.0</td>\n",
              "      <td>0.0</td>\n",
              "      <td>0.258824</td>\n",
              "      <td>22 / 85</td>\n",
              "    </tr>\n",
              "    <tr>\n",
              "      <th>18</th>\n",
              "      <td>3.0</td>\n",
              "      <td>1.0</td>\n",
              "      <td>0.0</td>\n",
              "      <td>0.0</td>\n",
              "      <td>0.0</td>\n",
              "      <td>0.0</td>\n",
              "      <td>0.0</td>\n",
              "      <td>2.0</td>\n",
              "      <td>4.0</td>\n",
              "      <td>2.0</td>\n",
              "      <td>1.0</td>\n",
              "      <td>2.0</td>\n",
              "      <td>0.0</td>\n",
              "      <td>2.0</td>\n",
              "      <td>2.0</td>\n",
              "      <td>2.0</td>\n",
              "      <td>3.0</td>\n",
              "      <td>4.0</td>\n",
              "      <td>39.0</td>\n",
              "      <td>3.0</td>\n",
              "      <td>0.442857</td>\n",
              "      <td>31 / 70</td>\n",
              "    </tr>\n",
              "    <tr>\n",
              "      <th>19</th>\n",
              "      <td>12.0</td>\n",
              "      <td>0.0</td>\n",
              "      <td>0.0</td>\n",
              "      <td>0.0</td>\n",
              "      <td>0.0</td>\n",
              "      <td>0.0</td>\n",
              "      <td>0.0</td>\n",
              "      <td>2.0</td>\n",
              "      <td>1.0</td>\n",
              "      <td>1.0</td>\n",
              "      <td>0.0</td>\n",
              "      <td>0.0</td>\n",
              "      <td>0.0</td>\n",
              "      <td>1.0</td>\n",
              "      <td>3.0</td>\n",
              "      <td>14.0</td>\n",
              "      <td>10.0</td>\n",
              "      <td>0.0</td>\n",
              "      <td>1.0</td>\n",
              "      <td>11.0</td>\n",
              "      <td>0.803571</td>\n",
              "      <td>45 / 56</td>\n",
              "    </tr>\n",
              "  </tbody>\n",
              "</table>\n",
              "</div>"
            ],
            "text/plain": [
              "       0     1     2     3     4  ...    17    18    19     Error     Rate\n",
              "0   37.0   0.0   0.0   0.0   0.0  ...   4.0   4.0   6.0  0.486111  35 / 72\n",
              "1    0.0  51.0   8.0   3.0   3.0  ...   1.0   0.0   1.0  0.420455  37 / 88\n",
              "2    0.0   1.0  54.0   9.0   4.0  ...   0.0   0.0   0.0  0.393258  35 / 89\n",
              "3    0.0   2.0   9.0  48.0  15.0  ...   0.0   0.0   0.0  0.454545  40 / 88\n",
              "4    0.0   4.0   3.0   8.0  52.0  ...   0.0   0.0   0.0  0.402299  35 / 87\n",
              "5    0.0   6.0   4.0   0.0   0.0  ...   0.0   0.0   0.0  0.157303  14 / 89\n",
              "6    0.0   1.0   1.0   4.0   3.0  ...   0.0   0.0   0.0  0.295455  26 / 88\n",
              "7    0.0   2.0   0.0   0.0   2.0  ...   0.0   1.0   2.0  0.337079  30 / 89\n",
              "8    0.0   1.0   0.0   0.0   2.0  ...   0.0   1.0   1.0  0.344444  31 / 90\n",
              "9    0.0   2.0   0.0   0.0   1.0  ...   1.0   1.0   0.0  0.179775  16 / 89\n",
              "10   0.0   0.0   0.0   0.0   0.0  ...   0.0   2.0   0.0  0.300000  27 / 90\n",
              "11   0.0   0.0   1.0   0.0   0.0  ...   1.0   6.0   0.0  0.235955  21 / 89\n",
              "12   0.0   3.0   1.0   4.0   7.0  ...   0.0   0.0   0.0  0.348315  31 / 89\n",
              "13   4.0   3.0   0.0   0.0   1.0  ...   0.0   2.0   1.0  0.337079  30 / 89\n",
              "14   0.0   2.0   1.0   0.0   1.0  ...   0.0   1.0   0.0  0.269663  24 / 89\n",
              "15  11.0   0.0   0.0   0.0   0.0  ...   0.0   1.0   6.0  0.255556  23 / 90\n",
              "16   2.0   2.0   0.0   0.0   0.0  ...   2.0   9.0   1.0  0.378049  31 / 82\n",
              "17   7.0   0.0   0.0   0.0   0.0  ...  63.0   3.0   0.0  0.258824  22 / 85\n",
              "18   3.0   1.0   0.0   0.0   0.0  ...   4.0  39.0   3.0  0.442857  31 / 70\n",
              "19  12.0   0.0   0.0   0.0   0.0  ...   0.0   1.0  11.0  0.803571  45 / 56\n",
              "\n",
              "[20 rows x 22 columns]"
            ]
          },
          "metadata": {
            "tags": []
          }
        },
        {
          "output_type": "stream",
          "text": [
            "\n",
            "See the whole table with table.as_data_frame()\n"
          ],
          "name": "stdout"
        },
        {
          "output_type": "execute_result",
          "data": {
            "text/plain": [
              ""
            ]
          },
          "metadata": {
            "tags": []
          },
          "execution_count": 36
        }
      ]
    },
    {
      "cell_type": "code",
      "metadata": {
        "id": "qORWMUvFWzHt",
        "colab_type": "code",
        "colab": {}
      },
      "source": [
        "con_mat = aml.leader.confusion_matrix(ext_reviews_test).as_data_frame()"
      ],
      "execution_count": 0,
      "outputs": []
    },
    {
      "cell_type": "code",
      "metadata": {
        "id": "clJOJWiC092Z",
        "colab_type": "code",
        "outputId": "acc10021-067c-4b2c-b622-795750c6ba9b",
        "colab": {
          "base_uri": "https://localhost:8080/",
          "height": 639
        }
      },
      "source": [
        "con_mat.iloc[0:20,0:20]"
      ],
      "execution_count": 0,
      "outputs": [
        {
          "output_type": "execute_result",
          "data": {
            "text/html": [
              "<div>\n",
              "<style scoped>\n",
              "    .dataframe tbody tr th:only-of-type {\n",
              "        vertical-align: middle;\n",
              "    }\n",
              "\n",
              "    .dataframe tbody tr th {\n",
              "        vertical-align: top;\n",
              "    }\n",
              "\n",
              "    .dataframe thead th {\n",
              "        text-align: right;\n",
              "    }\n",
              "</style>\n",
              "<table border=\"1\" class=\"dataframe\">\n",
              "  <thead>\n",
              "    <tr style=\"text-align: right;\">\n",
              "      <th></th>\n",
              "      <th>0</th>\n",
              "      <th>1</th>\n",
              "      <th>2</th>\n",
              "      <th>3</th>\n",
              "      <th>4</th>\n",
              "      <th>5</th>\n",
              "      <th>6</th>\n",
              "      <th>7</th>\n",
              "      <th>8</th>\n",
              "      <th>9</th>\n",
              "      <th>10</th>\n",
              "      <th>11</th>\n",
              "      <th>12</th>\n",
              "      <th>13</th>\n",
              "      <th>14</th>\n",
              "      <th>15</th>\n",
              "      <th>16</th>\n",
              "      <th>17</th>\n",
              "      <th>18</th>\n",
              "      <th>19</th>\n",
              "    </tr>\n",
              "  </thead>\n",
              "  <tbody>\n",
              "    <tr>\n",
              "      <th>0</th>\n",
              "      <td>37.0</td>\n",
              "      <td>0.0</td>\n",
              "      <td>0.0</td>\n",
              "      <td>0.0</td>\n",
              "      <td>0.0</td>\n",
              "      <td>0.0</td>\n",
              "      <td>0.0</td>\n",
              "      <td>4.0</td>\n",
              "      <td>3.0</td>\n",
              "      <td>1.0</td>\n",
              "      <td>0.0</td>\n",
              "      <td>0.0</td>\n",
              "      <td>0.0</td>\n",
              "      <td>2.0</td>\n",
              "      <td>1.0</td>\n",
              "      <td>9.0</td>\n",
              "      <td>1.0</td>\n",
              "      <td>4.0</td>\n",
              "      <td>4.0</td>\n",
              "      <td>6.0</td>\n",
              "    </tr>\n",
              "    <tr>\n",
              "      <th>1</th>\n",
              "      <td>0.0</td>\n",
              "      <td>51.0</td>\n",
              "      <td>8.0</td>\n",
              "      <td>3.0</td>\n",
              "      <td>3.0</td>\n",
              "      <td>3.0</td>\n",
              "      <td>1.0</td>\n",
              "      <td>4.0</td>\n",
              "      <td>2.0</td>\n",
              "      <td>0.0</td>\n",
              "      <td>0.0</td>\n",
              "      <td>0.0</td>\n",
              "      <td>1.0</td>\n",
              "      <td>1.0</td>\n",
              "      <td>9.0</td>\n",
              "      <td>0.0</td>\n",
              "      <td>0.0</td>\n",
              "      <td>1.0</td>\n",
              "      <td>0.0</td>\n",
              "      <td>1.0</td>\n",
              "    </tr>\n",
              "    <tr>\n",
              "      <th>2</th>\n",
              "      <td>0.0</td>\n",
              "      <td>1.0</td>\n",
              "      <td>54.0</td>\n",
              "      <td>9.0</td>\n",
              "      <td>4.0</td>\n",
              "      <td>7.0</td>\n",
              "      <td>3.0</td>\n",
              "      <td>6.0</td>\n",
              "      <td>0.0</td>\n",
              "      <td>0.0</td>\n",
              "      <td>0.0</td>\n",
              "      <td>1.0</td>\n",
              "      <td>2.0</td>\n",
              "      <td>0.0</td>\n",
              "      <td>2.0</td>\n",
              "      <td>0.0</td>\n",
              "      <td>0.0</td>\n",
              "      <td>0.0</td>\n",
              "      <td>0.0</td>\n",
              "      <td>0.0</td>\n",
              "    </tr>\n",
              "    <tr>\n",
              "      <th>3</th>\n",
              "      <td>0.0</td>\n",
              "      <td>2.0</td>\n",
              "      <td>9.0</td>\n",
              "      <td>48.0</td>\n",
              "      <td>15.0</td>\n",
              "      <td>0.0</td>\n",
              "      <td>4.0</td>\n",
              "      <td>2.0</td>\n",
              "      <td>0.0</td>\n",
              "      <td>0.0</td>\n",
              "      <td>0.0</td>\n",
              "      <td>0.0</td>\n",
              "      <td>8.0</td>\n",
              "      <td>0.0</td>\n",
              "      <td>0.0</td>\n",
              "      <td>0.0</td>\n",
              "      <td>0.0</td>\n",
              "      <td>0.0</td>\n",
              "      <td>0.0</td>\n",
              "      <td>0.0</td>\n",
              "    </tr>\n",
              "    <tr>\n",
              "      <th>4</th>\n",
              "      <td>0.0</td>\n",
              "      <td>4.0</td>\n",
              "      <td>3.0</td>\n",
              "      <td>8.0</td>\n",
              "      <td>52.0</td>\n",
              "      <td>4.0</td>\n",
              "      <td>5.0</td>\n",
              "      <td>4.0</td>\n",
              "      <td>0.0</td>\n",
              "      <td>0.0</td>\n",
              "      <td>0.0</td>\n",
              "      <td>2.0</td>\n",
              "      <td>4.0</td>\n",
              "      <td>1.0</td>\n",
              "      <td>0.0</td>\n",
              "      <td>0.0</td>\n",
              "      <td>0.0</td>\n",
              "      <td>0.0</td>\n",
              "      <td>0.0</td>\n",
              "      <td>0.0</td>\n",
              "    </tr>\n",
              "    <tr>\n",
              "      <th>5</th>\n",
              "      <td>0.0</td>\n",
              "      <td>6.0</td>\n",
              "      <td>4.0</td>\n",
              "      <td>0.0</td>\n",
              "      <td>0.0</td>\n",
              "      <td>75.0</td>\n",
              "      <td>2.0</td>\n",
              "      <td>1.0</td>\n",
              "      <td>0.0</td>\n",
              "      <td>0.0</td>\n",
              "      <td>0.0</td>\n",
              "      <td>0.0</td>\n",
              "      <td>0.0</td>\n",
              "      <td>0.0</td>\n",
              "      <td>1.0</td>\n",
              "      <td>0.0</td>\n",
              "      <td>0.0</td>\n",
              "      <td>0.0</td>\n",
              "      <td>0.0</td>\n",
              "      <td>0.0</td>\n",
              "    </tr>\n",
              "    <tr>\n",
              "      <th>6</th>\n",
              "      <td>0.0</td>\n",
              "      <td>1.0</td>\n",
              "      <td>1.0</td>\n",
              "      <td>4.0</td>\n",
              "      <td>3.0</td>\n",
              "      <td>0.0</td>\n",
              "      <td>62.0</td>\n",
              "      <td>2.0</td>\n",
              "      <td>1.0</td>\n",
              "      <td>2.0</td>\n",
              "      <td>0.0</td>\n",
              "      <td>2.0</td>\n",
              "      <td>7.0</td>\n",
              "      <td>1.0</td>\n",
              "      <td>1.0</td>\n",
              "      <td>0.0</td>\n",
              "      <td>1.0</td>\n",
              "      <td>0.0</td>\n",
              "      <td>0.0</td>\n",
              "      <td>0.0</td>\n",
              "    </tr>\n",
              "    <tr>\n",
              "      <th>7</th>\n",
              "      <td>0.0</td>\n",
              "      <td>2.0</td>\n",
              "      <td>0.0</td>\n",
              "      <td>0.0</td>\n",
              "      <td>2.0</td>\n",
              "      <td>0.0</td>\n",
              "      <td>0.0</td>\n",
              "      <td>59.0</td>\n",
              "      <td>11.0</td>\n",
              "      <td>0.0</td>\n",
              "      <td>0.0</td>\n",
              "      <td>0.0</td>\n",
              "      <td>5.0</td>\n",
              "      <td>1.0</td>\n",
              "      <td>1.0</td>\n",
              "      <td>0.0</td>\n",
              "      <td>5.0</td>\n",
              "      <td>0.0</td>\n",
              "      <td>1.0</td>\n",
              "      <td>2.0</td>\n",
              "    </tr>\n",
              "    <tr>\n",
              "      <th>8</th>\n",
              "      <td>0.0</td>\n",
              "      <td>1.0</td>\n",
              "      <td>0.0</td>\n",
              "      <td>0.0</td>\n",
              "      <td>2.0</td>\n",
              "      <td>0.0</td>\n",
              "      <td>5.0</td>\n",
              "      <td>12.0</td>\n",
              "      <td>59.0</td>\n",
              "      <td>0.0</td>\n",
              "      <td>0.0</td>\n",
              "      <td>0.0</td>\n",
              "      <td>4.0</td>\n",
              "      <td>1.0</td>\n",
              "      <td>2.0</td>\n",
              "      <td>0.0</td>\n",
              "      <td>2.0</td>\n",
              "      <td>0.0</td>\n",
              "      <td>1.0</td>\n",
              "      <td>1.0</td>\n",
              "    </tr>\n",
              "    <tr>\n",
              "      <th>9</th>\n",
              "      <td>0.0</td>\n",
              "      <td>2.0</td>\n",
              "      <td>0.0</td>\n",
              "      <td>0.0</td>\n",
              "      <td>1.0</td>\n",
              "      <td>0.0</td>\n",
              "      <td>0.0</td>\n",
              "      <td>4.0</td>\n",
              "      <td>3.0</td>\n",
              "      <td>73.0</td>\n",
              "      <td>4.0</td>\n",
              "      <td>0.0</td>\n",
              "      <td>0.0</td>\n",
              "      <td>0.0</td>\n",
              "      <td>0.0</td>\n",
              "      <td>0.0</td>\n",
              "      <td>0.0</td>\n",
              "      <td>1.0</td>\n",
              "      <td>1.0</td>\n",
              "      <td>0.0</td>\n",
              "    </tr>\n",
              "    <tr>\n",
              "      <th>10</th>\n",
              "      <td>0.0</td>\n",
              "      <td>0.0</td>\n",
              "      <td>0.0</td>\n",
              "      <td>0.0</td>\n",
              "      <td>0.0</td>\n",
              "      <td>0.0</td>\n",
              "      <td>3.0</td>\n",
              "      <td>6.0</td>\n",
              "      <td>3.0</td>\n",
              "      <td>8.0</td>\n",
              "      <td>63.0</td>\n",
              "      <td>1.0</td>\n",
              "      <td>2.0</td>\n",
              "      <td>1.0</td>\n",
              "      <td>1.0</td>\n",
              "      <td>0.0</td>\n",
              "      <td>0.0</td>\n",
              "      <td>0.0</td>\n",
              "      <td>2.0</td>\n",
              "      <td>0.0</td>\n",
              "    </tr>\n",
              "    <tr>\n",
              "      <th>11</th>\n",
              "      <td>0.0</td>\n",
              "      <td>0.0</td>\n",
              "      <td>1.0</td>\n",
              "      <td>0.0</td>\n",
              "      <td>0.0</td>\n",
              "      <td>2.0</td>\n",
              "      <td>1.0</td>\n",
              "      <td>4.0</td>\n",
              "      <td>0.0</td>\n",
              "      <td>0.0</td>\n",
              "      <td>0.0</td>\n",
              "      <td>68.0</td>\n",
              "      <td>1.0</td>\n",
              "      <td>0.0</td>\n",
              "      <td>4.0</td>\n",
              "      <td>0.0</td>\n",
              "      <td>1.0</td>\n",
              "      <td>1.0</td>\n",
              "      <td>6.0</td>\n",
              "      <td>0.0</td>\n",
              "    </tr>\n",
              "    <tr>\n",
              "      <th>12</th>\n",
              "      <td>0.0</td>\n",
              "      <td>3.0</td>\n",
              "      <td>1.0</td>\n",
              "      <td>4.0</td>\n",
              "      <td>7.0</td>\n",
              "      <td>0.0</td>\n",
              "      <td>4.0</td>\n",
              "      <td>6.0</td>\n",
              "      <td>3.0</td>\n",
              "      <td>0.0</td>\n",
              "      <td>0.0</td>\n",
              "      <td>1.0</td>\n",
              "      <td>58.0</td>\n",
              "      <td>1.0</td>\n",
              "      <td>0.0</td>\n",
              "      <td>0.0</td>\n",
              "      <td>1.0</td>\n",
              "      <td>0.0</td>\n",
              "      <td>0.0</td>\n",
              "      <td>0.0</td>\n",
              "    </tr>\n",
              "    <tr>\n",
              "      <th>13</th>\n",
              "      <td>4.0</td>\n",
              "      <td>3.0</td>\n",
              "      <td>0.0</td>\n",
              "      <td>0.0</td>\n",
              "      <td>1.0</td>\n",
              "      <td>0.0</td>\n",
              "      <td>0.0</td>\n",
              "      <td>6.0</td>\n",
              "      <td>6.0</td>\n",
              "      <td>0.0</td>\n",
              "      <td>0.0</td>\n",
              "      <td>0.0</td>\n",
              "      <td>3.0</td>\n",
              "      <td>59.0</td>\n",
              "      <td>3.0</td>\n",
              "      <td>0.0</td>\n",
              "      <td>1.0</td>\n",
              "      <td>0.0</td>\n",
              "      <td>2.0</td>\n",
              "      <td>1.0</td>\n",
              "    </tr>\n",
              "    <tr>\n",
              "      <th>14</th>\n",
              "      <td>0.0</td>\n",
              "      <td>2.0</td>\n",
              "      <td>1.0</td>\n",
              "      <td>0.0</td>\n",
              "      <td>1.0</td>\n",
              "      <td>0.0</td>\n",
              "      <td>1.0</td>\n",
              "      <td>6.0</td>\n",
              "      <td>3.0</td>\n",
              "      <td>1.0</td>\n",
              "      <td>0.0</td>\n",
              "      <td>0.0</td>\n",
              "      <td>4.0</td>\n",
              "      <td>2.0</td>\n",
              "      <td>65.0</td>\n",
              "      <td>1.0</td>\n",
              "      <td>1.0</td>\n",
              "      <td>0.0</td>\n",
              "      <td>1.0</td>\n",
              "      <td>0.0</td>\n",
              "    </tr>\n",
              "    <tr>\n",
              "      <th>15</th>\n",
              "      <td>11.0</td>\n",
              "      <td>0.0</td>\n",
              "      <td>0.0</td>\n",
              "      <td>0.0</td>\n",
              "      <td>0.0</td>\n",
              "      <td>0.0</td>\n",
              "      <td>0.0</td>\n",
              "      <td>0.0</td>\n",
              "      <td>0.0</td>\n",
              "      <td>1.0</td>\n",
              "      <td>0.0</td>\n",
              "      <td>0.0</td>\n",
              "      <td>0.0</td>\n",
              "      <td>3.0</td>\n",
              "      <td>1.0</td>\n",
              "      <td>67.0</td>\n",
              "      <td>0.0</td>\n",
              "      <td>0.0</td>\n",
              "      <td>1.0</td>\n",
              "      <td>6.0</td>\n",
              "    </tr>\n",
              "    <tr>\n",
              "      <th>16</th>\n",
              "      <td>2.0</td>\n",
              "      <td>2.0</td>\n",
              "      <td>0.0</td>\n",
              "      <td>0.0</td>\n",
              "      <td>0.0</td>\n",
              "      <td>0.0</td>\n",
              "      <td>0.0</td>\n",
              "      <td>5.0</td>\n",
              "      <td>3.0</td>\n",
              "      <td>2.0</td>\n",
              "      <td>0.0</td>\n",
              "      <td>3.0</td>\n",
              "      <td>1.0</td>\n",
              "      <td>0.0</td>\n",
              "      <td>1.0</td>\n",
              "      <td>0.0</td>\n",
              "      <td>51.0</td>\n",
              "      <td>2.0</td>\n",
              "      <td>9.0</td>\n",
              "      <td>1.0</td>\n",
              "    </tr>\n",
              "    <tr>\n",
              "      <th>17</th>\n",
              "      <td>7.0</td>\n",
              "      <td>0.0</td>\n",
              "      <td>0.0</td>\n",
              "      <td>0.0</td>\n",
              "      <td>0.0</td>\n",
              "      <td>0.0</td>\n",
              "      <td>0.0</td>\n",
              "      <td>5.0</td>\n",
              "      <td>1.0</td>\n",
              "      <td>1.0</td>\n",
              "      <td>1.0</td>\n",
              "      <td>1.0</td>\n",
              "      <td>1.0</td>\n",
              "      <td>1.0</td>\n",
              "      <td>0.0</td>\n",
              "      <td>0.0</td>\n",
              "      <td>1.0</td>\n",
              "      <td>63.0</td>\n",
              "      <td>3.0</td>\n",
              "      <td>0.0</td>\n",
              "    </tr>\n",
              "    <tr>\n",
              "      <th>18</th>\n",
              "      <td>3.0</td>\n",
              "      <td>1.0</td>\n",
              "      <td>0.0</td>\n",
              "      <td>0.0</td>\n",
              "      <td>0.0</td>\n",
              "      <td>0.0</td>\n",
              "      <td>0.0</td>\n",
              "      <td>2.0</td>\n",
              "      <td>4.0</td>\n",
              "      <td>2.0</td>\n",
              "      <td>1.0</td>\n",
              "      <td>2.0</td>\n",
              "      <td>0.0</td>\n",
              "      <td>2.0</td>\n",
              "      <td>2.0</td>\n",
              "      <td>2.0</td>\n",
              "      <td>3.0</td>\n",
              "      <td>4.0</td>\n",
              "      <td>39.0</td>\n",
              "      <td>3.0</td>\n",
              "    </tr>\n",
              "    <tr>\n",
              "      <th>19</th>\n",
              "      <td>12.0</td>\n",
              "      <td>0.0</td>\n",
              "      <td>0.0</td>\n",
              "      <td>0.0</td>\n",
              "      <td>0.0</td>\n",
              "      <td>0.0</td>\n",
              "      <td>0.0</td>\n",
              "      <td>2.0</td>\n",
              "      <td>1.0</td>\n",
              "      <td>1.0</td>\n",
              "      <td>0.0</td>\n",
              "      <td>0.0</td>\n",
              "      <td>0.0</td>\n",
              "      <td>1.0</td>\n",
              "      <td>3.0</td>\n",
              "      <td>14.0</td>\n",
              "      <td>10.0</td>\n",
              "      <td>0.0</td>\n",
              "      <td>1.0</td>\n",
              "      <td>11.0</td>\n",
              "    </tr>\n",
              "  </tbody>\n",
              "</table>\n",
              "</div>"
            ],
            "text/plain": [
              "       0     1     2     3     4     5  ...    14    15    16    17    18    19\n",
              "0   37.0   0.0   0.0   0.0   0.0   0.0  ...   1.0   9.0   1.0   4.0   4.0   6.0\n",
              "1    0.0  51.0   8.0   3.0   3.0   3.0  ...   9.0   0.0   0.0   1.0   0.0   1.0\n",
              "2    0.0   1.0  54.0   9.0   4.0   7.0  ...   2.0   0.0   0.0   0.0   0.0   0.0\n",
              "3    0.0   2.0   9.0  48.0  15.0   0.0  ...   0.0   0.0   0.0   0.0   0.0   0.0\n",
              "4    0.0   4.0   3.0   8.0  52.0   4.0  ...   0.0   0.0   0.0   0.0   0.0   0.0\n",
              "5    0.0   6.0   4.0   0.0   0.0  75.0  ...   1.0   0.0   0.0   0.0   0.0   0.0\n",
              "6    0.0   1.0   1.0   4.0   3.0   0.0  ...   1.0   0.0   1.0   0.0   0.0   0.0\n",
              "7    0.0   2.0   0.0   0.0   2.0   0.0  ...   1.0   0.0   5.0   0.0   1.0   2.0\n",
              "8    0.0   1.0   0.0   0.0   2.0   0.0  ...   2.0   0.0   2.0   0.0   1.0   1.0\n",
              "9    0.0   2.0   0.0   0.0   1.0   0.0  ...   0.0   0.0   0.0   1.0   1.0   0.0\n",
              "10   0.0   0.0   0.0   0.0   0.0   0.0  ...   1.0   0.0   0.0   0.0   2.0   0.0\n",
              "11   0.0   0.0   1.0   0.0   0.0   2.0  ...   4.0   0.0   1.0   1.0   6.0   0.0\n",
              "12   0.0   3.0   1.0   4.0   7.0   0.0  ...   0.0   0.0   1.0   0.0   0.0   0.0\n",
              "13   4.0   3.0   0.0   0.0   1.0   0.0  ...   3.0   0.0   1.0   0.0   2.0   1.0\n",
              "14   0.0   2.0   1.0   0.0   1.0   0.0  ...  65.0   1.0   1.0   0.0   1.0   0.0\n",
              "15  11.0   0.0   0.0   0.0   0.0   0.0  ...   1.0  67.0   0.0   0.0   1.0   6.0\n",
              "16   2.0   2.0   0.0   0.0   0.0   0.0  ...   1.0   0.0  51.0   2.0   9.0   1.0\n",
              "17   7.0   0.0   0.0   0.0   0.0   0.0  ...   0.0   0.0   1.0  63.0   3.0   0.0\n",
              "18   3.0   1.0   0.0   0.0   0.0   0.0  ...   2.0   2.0   3.0   4.0  39.0   3.0\n",
              "19  12.0   0.0   0.0   0.0   0.0   0.0  ...   3.0  14.0  10.0   0.0   1.0  11.0\n",
              "\n",
              "[20 rows x 20 columns]"
            ]
          },
          "metadata": {
            "tags": []
          },
          "execution_count": 38
        }
      ]
    },
    {
      "cell_type": "code",
      "metadata": {
        "id": "5io3MV1A0h_B",
        "colab_type": "code",
        "outputId": "8c80107e-aa1f-4239-ffb4-64fc11b4d210",
        "colab": {
          "base_uri": "https://localhost:8080/",
          "height": 34
        }
      },
      "source": [
        "np.sum(np.diag(con_mat.iloc[0:20,0:20]))/(con_mat.iloc[0:20,0:20].values.sum()) # sum of diagnoal elements/ sum of all in the matrix # 38733477 & SO 53762743"
      ],
      "execution_count": 0,
      "outputs": [
        {
          "output_type": "execute_result",
          "data": {
            "text/plain": [
              "0.6560659599528857"
            ]
          },
          "metadata": {
            "tags": []
          },
          "execution_count": 39
        }
      ]
    },
    {
      "cell_type": "markdown",
      "metadata": {
        "id": "jCx3HGb0fs7o",
        "colab_type": "text"
      },
      "source": [
        "### before making w2v exlusively from train data set: 0.6607298001737619\n",
        "### after making w2v exlusively from train data set: 0.6395759717314488\n",
        "### for 200 w2v model: 0.6584216725559482"
      ]
    },
    {
      "cell_type": "code",
      "metadata": {
        "id": "6GBnPKj59lHG",
        "colab_type": "code",
        "outputId": "1b0286d9-071f-40e2-e0d7-94932c04b8f3",
        "colab": {
          "base_uri": "https://localhost:8080/",
          "height": 34
        }
      },
      "source": [
        "predictions = aml.leader.predict(ext_reviews_test)"
      ],
      "execution_count": 0,
      "outputs": [
        {
          "output_type": "stream",
          "text": [
            "stackedensemble prediction progress: |████████████████████████████████████| 100%\n"
          ],
          "name": "stdout"
        }
      ]
    },
    {
      "cell_type": "code",
      "metadata": {
        "id": "GoUH1NTu-Dwf",
        "colab_type": "code",
        "outputId": "5e07c5da-ac7b-4474-f880-a64cd4114bd8",
        "colab": {
          "base_uri": "https://localhost:8080/",
          "height": 238
        }
      },
      "source": [
        "predictions[:,:3]"
      ],
      "execution_count": 0,
      "outputs": [
        {
          "output_type": "display_data",
          "data": {
            "text/html": [
              "<table>\n",
              "<thead>\n",
              "<tr><th style=\"text-align: right;\">  predict</th><th style=\"text-align: right;\">         p0</th><th style=\"text-align: right;\">         p1</th></tr>\n",
              "</thead>\n",
              "<tbody>\n",
              "<tr><td style=\"text-align: right;\">        3</td><td style=\"text-align: right;\">0.000600703</td><td style=\"text-align: right;\">0.0157436  </td></tr>\n",
              "<tr><td style=\"text-align: right;\">       14</td><td style=\"text-align: right;\">0.00127965 </td><td style=\"text-align: right;\">0.00714145 </td></tr>\n",
              "<tr><td style=\"text-align: right;\">       11</td><td style=\"text-align: right;\">0.000263199</td><td style=\"text-align: right;\">0.00020103 </td></tr>\n",
              "<tr><td style=\"text-align: right;\">        9</td><td style=\"text-align: right;\">0.0246235  </td><td style=\"text-align: right;\">0.0383073  </td></tr>\n",
              "<tr><td style=\"text-align: right;\">        9</td><td style=\"text-align: right;\">0.000118379</td><td style=\"text-align: right;\">0.000172389</td></tr>\n",
              "<tr><td style=\"text-align: right;\">        2</td><td style=\"text-align: right;\">0.00724575 </td><td style=\"text-align: right;\">0.070791   </td></tr>\n",
              "<tr><td style=\"text-align: right;\">        7</td><td style=\"text-align: right;\">0.00247004 </td><td style=\"text-align: right;\">0.00278652 </td></tr>\n",
              "<tr><td style=\"text-align: right;\">        3</td><td style=\"text-align: right;\">0.00174441 </td><td style=\"text-align: right;\">0.0146932  </td></tr>\n",
              "<tr><td style=\"text-align: right;\">        9</td><td style=\"text-align: right;\">0.0101546  </td><td style=\"text-align: right;\">0.0123529  </td></tr>\n",
              "<tr><td style=\"text-align: right;\">        7</td><td style=\"text-align: right;\">0.0440112  </td><td style=\"text-align: right;\">0.0487843  </td></tr>\n",
              "</tbody>\n",
              "</table>"
            ]
          },
          "metadata": {
            "tags": []
          }
        },
        {
          "output_type": "execute_result",
          "data": {
            "text/plain": [
              ""
            ]
          },
          "metadata": {
            "tags": []
          },
          "execution_count": 41
        }
      ]
    },
    {
      "cell_type": "code",
      "metadata": {
        "id": "lrRV2cE4-Dqz",
        "colab_type": "code",
        "outputId": "15d506ff-2b82-4504-c272-86544428dd3f",
        "colab": {
          "base_uri": "https://localhost:8080/",
          "height": 422
        }
      },
      "source": [
        "predictions.as_data_frame().iloc[:,1:21] # all rows 1to 21 cols excluding last\n",
        " # predict colum gives the 1 hot notation of the answer"
      ],
      "execution_count": 0,
      "outputs": [
        {
          "output_type": "execute_result",
          "data": {
            "text/html": [
              "<div>\n",
              "<style scoped>\n",
              "    .dataframe tbody tr th:only-of-type {\n",
              "        vertical-align: middle;\n",
              "    }\n",
              "\n",
              "    .dataframe tbody tr th {\n",
              "        vertical-align: top;\n",
              "    }\n",
              "\n",
              "    .dataframe thead th {\n",
              "        text-align: right;\n",
              "    }\n",
              "</style>\n",
              "<table border=\"1\" class=\"dataframe\">\n",
              "  <thead>\n",
              "    <tr style=\"text-align: right;\">\n",
              "      <th></th>\n",
              "      <th>p0</th>\n",
              "      <th>p1</th>\n",
              "      <th>p2</th>\n",
              "      <th>p3</th>\n",
              "      <th>p4</th>\n",
              "      <th>p5</th>\n",
              "      <th>p6</th>\n",
              "      <th>p7</th>\n",
              "      <th>p8</th>\n",
              "      <th>p9</th>\n",
              "      <th>p10</th>\n",
              "      <th>p11</th>\n",
              "      <th>p12</th>\n",
              "      <th>p13</th>\n",
              "      <th>p14</th>\n",
              "      <th>p15</th>\n",
              "      <th>p16</th>\n",
              "      <th>p17</th>\n",
              "      <th>p18</th>\n",
              "      <th>p19</th>\n",
              "    </tr>\n",
              "  </thead>\n",
              "  <tbody>\n",
              "    <tr>\n",
              "      <th>0</th>\n",
              "      <td>0.000601</td>\n",
              "      <td>0.015744</td>\n",
              "      <td>0.040127</td>\n",
              "      <td>0.881029</td>\n",
              "      <td>0.035604</td>\n",
              "      <td>0.001165</td>\n",
              "      <td>0.010860</td>\n",
              "      <td>0.000622</td>\n",
              "      <td>0.000656</td>\n",
              "      <td>0.000625</td>\n",
              "      <td>0.000555</td>\n",
              "      <td>0.000627</td>\n",
              "      <td>0.007654</td>\n",
              "      <td>0.000598</td>\n",
              "      <td>0.000642</td>\n",
              "      <td>0.000578</td>\n",
              "      <td>0.000584</td>\n",
              "      <td>0.000581</td>\n",
              "      <td>0.000585</td>\n",
              "      <td>0.000565</td>\n",
              "    </tr>\n",
              "    <tr>\n",
              "      <th>1</th>\n",
              "      <td>0.001280</td>\n",
              "      <td>0.007141</td>\n",
              "      <td>0.001010</td>\n",
              "      <td>0.000918</td>\n",
              "      <td>0.001009</td>\n",
              "      <td>0.000933</td>\n",
              "      <td>0.001612</td>\n",
              "      <td>0.001657</td>\n",
              "      <td>0.001332</td>\n",
              "      <td>0.001124</td>\n",
              "      <td>0.000936</td>\n",
              "      <td>0.001261</td>\n",
              "      <td>0.001651</td>\n",
              "      <td>0.006126</td>\n",
              "      <td>0.963904</td>\n",
              "      <td>0.001219</td>\n",
              "      <td>0.001524</td>\n",
              "      <td>0.001587</td>\n",
              "      <td>0.001299</td>\n",
              "      <td>0.002476</td>\n",
              "    </tr>\n",
              "    <tr>\n",
              "      <th>2</th>\n",
              "      <td>0.000263</td>\n",
              "      <td>0.000201</td>\n",
              "      <td>0.000184</td>\n",
              "      <td>0.000163</td>\n",
              "      <td>0.000142</td>\n",
              "      <td>0.000234</td>\n",
              "      <td>0.000150</td>\n",
              "      <td>0.000144</td>\n",
              "      <td>0.000167</td>\n",
              "      <td>0.000149</td>\n",
              "      <td>0.000128</td>\n",
              "      <td>0.991691</td>\n",
              "      <td>0.002008</td>\n",
              "      <td>0.000238</td>\n",
              "      <td>0.000455</td>\n",
              "      <td>0.000162</td>\n",
              "      <td>0.002496</td>\n",
              "      <td>0.000485</td>\n",
              "      <td>0.000398</td>\n",
              "      <td>0.000143</td>\n",
              "    </tr>\n",
              "    <tr>\n",
              "      <th>3</th>\n",
              "      <td>0.024623</td>\n",
              "      <td>0.038307</td>\n",
              "      <td>0.016645</td>\n",
              "      <td>0.014828</td>\n",
              "      <td>0.016172</td>\n",
              "      <td>0.013226</td>\n",
              "      <td>0.029931</td>\n",
              "      <td>0.018254</td>\n",
              "      <td>0.020971</td>\n",
              "      <td>0.404877</td>\n",
              "      <td>0.179898</td>\n",
              "      <td>0.026095</td>\n",
              "      <td>0.024374</td>\n",
              "      <td>0.026821</td>\n",
              "      <td>0.034502</td>\n",
              "      <td>0.023782</td>\n",
              "      <td>0.019484</td>\n",
              "      <td>0.017757</td>\n",
              "      <td>0.023432</td>\n",
              "      <td>0.026019</td>\n",
              "    </tr>\n",
              "    <tr>\n",
              "      <th>4</th>\n",
              "      <td>0.000118</td>\n",
              "      <td>0.000172</td>\n",
              "      <td>0.000108</td>\n",
              "      <td>0.000101</td>\n",
              "      <td>0.000112</td>\n",
              "      <td>0.000102</td>\n",
              "      <td>0.000402</td>\n",
              "      <td>0.000198</td>\n",
              "      <td>0.000188</td>\n",
              "      <td>0.988880</td>\n",
              "      <td>0.008305</td>\n",
              "      <td>0.000108</td>\n",
              "      <td>0.000120</td>\n",
              "      <td>0.000105</td>\n",
              "      <td>0.000148</td>\n",
              "      <td>0.000117</td>\n",
              "      <td>0.000305</td>\n",
              "      <td>0.000124</td>\n",
              "      <td>0.000169</td>\n",
              "      <td>0.000118</td>\n",
              "    </tr>\n",
              "    <tr>\n",
              "      <th>...</th>\n",
              "      <td>...</td>\n",
              "      <td>...</td>\n",
              "      <td>...</td>\n",
              "      <td>...</td>\n",
              "      <td>...</td>\n",
              "      <td>...</td>\n",
              "      <td>...</td>\n",
              "      <td>...</td>\n",
              "      <td>...</td>\n",
              "      <td>...</td>\n",
              "      <td>...</td>\n",
              "      <td>...</td>\n",
              "      <td>...</td>\n",
              "      <td>...</td>\n",
              "      <td>...</td>\n",
              "      <td>...</td>\n",
              "      <td>...</td>\n",
              "      <td>...</td>\n",
              "      <td>...</td>\n",
              "      <td>...</td>\n",
              "    </tr>\n",
              "    <tr>\n",
              "      <th>1693</th>\n",
              "      <td>0.002872</td>\n",
              "      <td>0.001866</td>\n",
              "      <td>0.001850</td>\n",
              "      <td>0.001794</td>\n",
              "      <td>0.002732</td>\n",
              "      <td>0.001590</td>\n",
              "      <td>0.003930</td>\n",
              "      <td>0.078471</td>\n",
              "      <td>0.858530</td>\n",
              "      <td>0.004564</td>\n",
              "      <td>0.003370</td>\n",
              "      <td>0.002904</td>\n",
              "      <td>0.002197</td>\n",
              "      <td>0.006467</td>\n",
              "      <td>0.010861</td>\n",
              "      <td>0.002170</td>\n",
              "      <td>0.005056</td>\n",
              "      <td>0.003568</td>\n",
              "      <td>0.003336</td>\n",
              "      <td>0.001872</td>\n",
              "    </tr>\n",
              "    <tr>\n",
              "      <th>1694</th>\n",
              "      <td>0.044011</td>\n",
              "      <td>0.048784</td>\n",
              "      <td>0.051836</td>\n",
              "      <td>0.054011</td>\n",
              "      <td>0.059298</td>\n",
              "      <td>0.027214</td>\n",
              "      <td>0.049512</td>\n",
              "      <td>0.072580</td>\n",
              "      <td>0.063831</td>\n",
              "      <td>0.064726</td>\n",
              "      <td>0.040737</td>\n",
              "      <td>0.040769</td>\n",
              "      <td>0.065613</td>\n",
              "      <td>0.036203</td>\n",
              "      <td>0.051162</td>\n",
              "      <td>0.037457</td>\n",
              "      <td>0.050568</td>\n",
              "      <td>0.041107</td>\n",
              "      <td>0.049380</td>\n",
              "      <td>0.051199</td>\n",
              "    </tr>\n",
              "    <tr>\n",
              "      <th>1695</th>\n",
              "      <td>0.000860</td>\n",
              "      <td>0.000603</td>\n",
              "      <td>0.000602</td>\n",
              "      <td>0.000567</td>\n",
              "      <td>0.000801</td>\n",
              "      <td>0.000577</td>\n",
              "      <td>0.001584</td>\n",
              "      <td>0.145535</td>\n",
              "      <td>0.834886</td>\n",
              "      <td>0.001759</td>\n",
              "      <td>0.001354</td>\n",
              "      <td>0.000905</td>\n",
              "      <td>0.000857</td>\n",
              "      <td>0.001798</td>\n",
              "      <td>0.002935</td>\n",
              "      <td>0.000609</td>\n",
              "      <td>0.001730</td>\n",
              "      <td>0.000838</td>\n",
              "      <td>0.000623</td>\n",
              "      <td>0.000575</td>\n",
              "    </tr>\n",
              "    <tr>\n",
              "      <th>1696</th>\n",
              "      <td>0.002788</td>\n",
              "      <td>0.035638</td>\n",
              "      <td>0.067362</td>\n",
              "      <td>0.442744</td>\n",
              "      <td>0.350236</td>\n",
              "      <td>0.004862</td>\n",
              "      <td>0.016837</td>\n",
              "      <td>0.004339</td>\n",
              "      <td>0.004925</td>\n",
              "      <td>0.002916</td>\n",
              "      <td>0.002766</td>\n",
              "      <td>0.002961</td>\n",
              "      <td>0.042047</td>\n",
              "      <td>0.002832</td>\n",
              "      <td>0.003871</td>\n",
              "      <td>0.002554</td>\n",
              "      <td>0.002642</td>\n",
              "      <td>0.002583</td>\n",
              "      <td>0.002631</td>\n",
              "      <td>0.002466</td>\n",
              "    </tr>\n",
              "    <tr>\n",
              "      <th>1697</th>\n",
              "      <td>0.001072</td>\n",
              "      <td>0.000846</td>\n",
              "      <td>0.000831</td>\n",
              "      <td>0.000867</td>\n",
              "      <td>0.001127</td>\n",
              "      <td>0.000807</td>\n",
              "      <td>0.003496</td>\n",
              "      <td>0.073793</td>\n",
              "      <td>0.899042</td>\n",
              "      <td>0.002359</td>\n",
              "      <td>0.001930</td>\n",
              "      <td>0.001203</td>\n",
              "      <td>0.001212</td>\n",
              "      <td>0.002338</td>\n",
              "      <td>0.003429</td>\n",
              "      <td>0.000751</td>\n",
              "      <td>0.002246</td>\n",
              "      <td>0.001052</td>\n",
              "      <td>0.000789</td>\n",
              "      <td>0.000812</td>\n",
              "    </tr>\n",
              "  </tbody>\n",
              "</table>\n",
              "<p>1698 rows × 20 columns</p>\n",
              "</div>"
            ],
            "text/plain": [
              "            p0        p1        p2  ...       p17       p18       p19\n",
              "0     0.000601  0.015744  0.040127  ...  0.000581  0.000585  0.000565\n",
              "1     0.001280  0.007141  0.001010  ...  0.001587  0.001299  0.002476\n",
              "2     0.000263  0.000201  0.000184  ...  0.000485  0.000398  0.000143\n",
              "3     0.024623  0.038307  0.016645  ...  0.017757  0.023432  0.026019\n",
              "4     0.000118  0.000172  0.000108  ...  0.000124  0.000169  0.000118\n",
              "...        ...       ...       ...  ...       ...       ...       ...\n",
              "1693  0.002872  0.001866  0.001850  ...  0.003568  0.003336  0.001872\n",
              "1694  0.044011  0.048784  0.051836  ...  0.041107  0.049380  0.051199\n",
              "1695  0.000860  0.000603  0.000602  ...  0.000838  0.000623  0.000575\n",
              "1696  0.002788  0.035638  0.067362  ...  0.002583  0.002631  0.002466\n",
              "1697  0.001072  0.000846  0.000831  ...  0.001052  0.000789  0.000812\n",
              "\n",
              "[1698 rows x 20 columns]"
            ]
          },
          "metadata": {
            "tags": []
          },
          "execution_count": 42
        }
      ]
    },
    {
      "cell_type": "code",
      "metadata": {
        "id": "jxxv3fa2-DoK",
        "colab_type": "code",
        "outputId": "34d93ef3-870c-4dc1-c644-4e31969df0f4",
        "colab": {
          "base_uri": "https://localhost:8080/",
          "height": 134
        }
      },
      "source": [
        "np.argsort(-predictions.as_data_frame().iloc[:,1:21].values, axis=1)[:, :4] # SO 54923349"
      ],
      "execution_count": 0,
      "outputs": [
        {
          "output_type": "execute_result",
          "data": {
            "text/plain": [
              "array([[ 3,  2,  4,  1],\n",
              "       [14,  1, 13, 19],\n",
              "       [11, 16, 12, 17],\n",
              "       ...,\n",
              "       [ 8,  7, 14, 13],\n",
              "       [ 3,  4,  2, 12],\n",
              "       [ 8,  7,  6, 14]])"
            ]
          },
          "metadata": {
            "tags": []
          },
          "execution_count": 43
        }
      ]
    },
    {
      "cell_type": "code",
      "metadata": {
        "id": "_6Mfds-7A5Ca",
        "colab_type": "code",
        "colab": {}
      },
      "source": [
        "preds_top4 = pd.DataFrame(np.argsort(-predictions.as_data_frame().iloc[:,1:21].values, axis=1)[:, :4] )"
      ],
      "execution_count": 0,
      "outputs": []
    },
    {
      "cell_type": "code",
      "metadata": {
        "id": "aUqReQMN3H2G",
        "colab_type": "code",
        "colab": {}
      },
      "source": [
        "target_test = ext_reviews_test['label'].as_data_frame()"
      ],
      "execution_count": 0,
      "outputs": []
    },
    {
      "cell_type": "code",
      "metadata": {
        "id": "FfKwd4oJAAiP",
        "colab_type": "code",
        "outputId": "e9b07360-898e-4bb3-bf34-c7c1333d66ae",
        "colab": {
          "base_uri": "https://localhost:8080/",
          "height": 34
        }
      },
      "source": [
        "np.sum(target_test.label == preds_top4[0])/preds_top4.shape[0] # yup matches what we got a few cells higher up"
      ],
      "execution_count": 0,
      "outputs": [
        {
          "output_type": "execute_result",
          "data": {
            "text/plain": [
              "0.6560659599528857"
            ]
          },
          "metadata": {
            "tags": []
          },
          "execution_count": 46
        }
      ]
    },
    {
      "cell_type": "code",
      "metadata": {
        "id": "EQ5OAC0hbAo6",
        "colab_type": "code",
        "colab": {}
      },
      "source": [
        "match1 = np.sum(target_test.label == preds_top4[0])\n",
        "match2 = np.sum(target_test.label == preds_top4[1])\n",
        "match3 = np.sum(target_test.label == preds_top4[2])\n",
        "match4 = np.sum(target_test.label == preds_top4[3])"
      ],
      "execution_count": 0,
      "outputs": []
    },
    {
      "cell_type": "code",
      "metadata": {
        "id": "dKxDntK8DCqF",
        "colab_type": "code",
        "outputId": "d57b6010-d341-470c-e307-1b00b20a0423",
        "colab": {
          "base_uri": "https://localhost:8080/",
          "height": 34
        }
      },
      "source": [
        "# top 3\n",
        "(match1+match2+match3)/preds_top4.shape[0]"
      ],
      "execution_count": 0,
      "outputs": [
        {
          "output_type": "execute_result",
          "data": {
            "text/plain": [
              "0.842756183745583"
            ]
          },
          "metadata": {
            "tags": []
          },
          "execution_count": 48
        }
      ]
    },
    {
      "cell_type": "code",
      "metadata": {
        "id": "7vJkqlAzDvoT",
        "colab_type": "code",
        "outputId": "78eb4345-d6c8-416b-a329-0c808009e7b9",
        "colab": {
          "base_uri": "https://localhost:8080/",
          "height": 34
        }
      },
      "source": [
        "# Top 4\n",
        "(match1+match2+match3+match4)/preds_top4.shape[0]"
      ],
      "execution_count": 0,
      "outputs": [
        {
          "output_type": "execute_result",
          "data": {
            "text/plain": [
              "0.875736160188457"
            ]
          },
          "metadata": {
            "tags": []
          },
          "execution_count": 49
        }
      ]
    },
    {
      "cell_type": "code",
      "metadata": {
        "id": "hk1ZFmcM7t_V",
        "colab_type": "code",
        "colab": {}
      },
      "source": [
        "\n"
      ],
      "execution_count": 0,
      "outputs": []
    }
  ]
}
