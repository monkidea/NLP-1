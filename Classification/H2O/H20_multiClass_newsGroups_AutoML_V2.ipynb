{
  "nbformat": 4,
  "nbformat_minor": 0,
  "metadata": {
    "colab": {
      "name": "H20_multiClass_newsGroups_AutoML_V2.ipynb",
      "provenance": [],
      "collapsed_sections": [],
      "include_colab_link": true
    },
    "kernelspec": {
      "name": "python3",
      "display_name": "Python 3"
    }
  },
  "cells": [
    {
      "cell_type": "markdown",
      "metadata": {
        "id": "view-in-github",
        "colab_type": "text"
      },
      "source": [
        "<a href=\"https://colab.research.google.com/github/ronykroy/DNN-NLP-and-other-stuff/blob/master/H20_multiClass_newsGroups_AutoML_V2.ipynb\" target=\"_parent\"><img src=\"https://colab.research.google.com/assets/colab-badge.svg\" alt=\"Open In Colab\"/></a>"
      ]
    },
    {
      "cell_type": "code",
      "metadata": {
        "id": "4h8LRTyotp7c",
        "colab_type": "code",
        "colab": {}
      },
      "source": [
        "# V1 Vs V2\n",
        "# V1 had the issue that 'label was one of the predictor columns.. so data leaked that way...\n",
        "# v2 removes label n train columns\n",
        "# v3: remove the text too ?"
      ],
      "execution_count": 0,
      "outputs": []
    },
    {
      "cell_type": "code",
      "metadata": {
        "id": "FfMSV-aHdf0h",
        "colab_type": "code",
        "outputId": "9bd2438e-5581-44fd-90eb-6906149f78ba",
        "colab": {
          "base_uri": "https://localhost:8080/",
          "height": 151
        }
      },
      "source": [
        "!apt-get install default-jre\n",
        "!java -version\n",
        "# install Java.. because.. there is nothing in this colab VM"
      ],
      "execution_count": 0,
      "outputs": [
        {
          "output_type": "stream",
          "text": [
            "Reading package lists... Done\n",
            "Building dependency tree       \n",
            "Reading state information... Done\n",
            "default-jre is already the newest version (2:1.11-68ubuntu1~18.04.1).\n",
            "0 upgraded, 0 newly installed, 0 to remove and 28 not upgraded.\n",
            "openjdk version \"11.0.4\" 2019-07-16\n",
            "OpenJDK Runtime Environment (build 11.0.4+11-post-Ubuntu-1ubuntu218.04.3)\n",
            "OpenJDK 64-Bit Server VM (build 11.0.4+11-post-Ubuntu-1ubuntu218.04.3, mixed mode, sharing)\n"
          ],
          "name": "stdout"
        }
      ]
    },
    {
      "cell_type": "code",
      "metadata": {
        "id": "S4JgdiQodh-D",
        "colab_type": "code",
        "outputId": "c2882d0a-2574-433d-f433-2897fa4cbfc1",
        "colab": {
          "base_uri": "https://localhost:8080/",
          "height": 168
        }
      },
      "source": [
        "! pip install h2o\n",
        "# H2O too to be installed SMH"
      ],
      "execution_count": 0,
      "outputs": [
        {
          "output_type": "stream",
          "text": [
            "Requirement already satisfied: h2o in /usr/local/lib/python3.6/dist-packages (3.26.0.8)\n",
            "Requirement already satisfied: colorama>=0.3.8 in /usr/local/lib/python3.6/dist-packages (from h2o) (0.4.1)\n",
            "Requirement already satisfied: tabulate in /usr/local/lib/python3.6/dist-packages (from h2o) (0.8.5)\n",
            "Requirement already satisfied: requests in /usr/local/lib/python3.6/dist-packages (from h2o) (2.21.0)\n",
            "Requirement already satisfied: future in /usr/local/lib/python3.6/dist-packages (from h2o) (0.16.0)\n",
            "Requirement already satisfied: chardet<3.1.0,>=3.0.2 in /usr/local/lib/python3.6/dist-packages (from requests->h2o) (3.0.4)\n",
            "Requirement already satisfied: urllib3<1.25,>=1.21.1 in /usr/local/lib/python3.6/dist-packages (from requests->h2o) (1.24.3)\n",
            "Requirement already satisfied: idna<2.9,>=2.5 in /usr/local/lib/python3.6/dist-packages (from requests->h2o) (2.8)\n",
            "Requirement already satisfied: certifi>=2017.4.17 in /usr/local/lib/python3.6/dist-packages (from requests->h2o) (2019.9.11)\n"
          ],
          "name": "stdout"
        }
      ]
    },
    {
      "cell_type": "code",
      "metadata": {
        "id": "66yG3tV0dnMC",
        "colab_type": "code",
        "colab": {}
      },
      "source": [
        "import h2o"
      ],
      "execution_count": 0,
      "outputs": []
    },
    {
      "cell_type": "code",
      "metadata": {
        "id": "Y36AZbp5do3E",
        "colab_type": "code",
        "outputId": "4d697082-2f07-4c1b-d899-f22a06fb5f35",
        "colab": {
          "base_uri": "https://localhost:8080/",
          "height": 355
        }
      },
      "source": [
        "h2o.init(max_mem_size=\"4G\")"
      ],
      "execution_count": 0,
      "outputs": [
        {
          "output_type": "stream",
          "text": [
            "Checking whether there is an H2O instance running at http://localhost:54321 . connected.\n"
          ],
          "name": "stdout"
        },
        {
          "output_type": "display_data",
          "data": {
            "text/html": [
              "<div style=\"overflow:auto\"><table style=\"width:50%\"><tr><td>H2O cluster uptime:</td>\n",
              "<td>3 hours 28 mins</td></tr>\n",
              "<tr><td>H2O cluster timezone:</td>\n",
              "<td>Etc/UTC</td></tr>\n",
              "<tr><td>H2O data parsing timezone:</td>\n",
              "<td>UTC</td></tr>\n",
              "<tr><td>H2O cluster version:</td>\n",
              "<td>3.26.0.8</td></tr>\n",
              "<tr><td>H2O cluster version age:</td>\n",
              "<td>6 days </td></tr>\n",
              "<tr><td>H2O cluster name:</td>\n",
              "<td>H2O_from_python_unknownUser_0ghsh3</td></tr>\n",
              "<tr><td>H2O cluster total nodes:</td>\n",
              "<td>1</td></tr>\n",
              "<tr><td>H2O cluster free memory:</td>\n",
              "<td>3.326 Gb</td></tr>\n",
              "<tr><td>H2O cluster total cores:</td>\n",
              "<td>2</td></tr>\n",
              "<tr><td>H2O cluster allowed cores:</td>\n",
              "<td>2</td></tr>\n",
              "<tr><td>H2O cluster status:</td>\n",
              "<td>locked, healthy</td></tr>\n",
              "<tr><td>H2O connection url:</td>\n",
              "<td>http://localhost:54321</td></tr>\n",
              "<tr><td>H2O connection proxy:</td>\n",
              "<td>{'http': None, 'https': None}</td></tr>\n",
              "<tr><td>H2O internal security:</td>\n",
              "<td>False</td></tr>\n",
              "<tr><td>H2O API Extensions:</td>\n",
              "<td>Amazon S3, XGBoost, Algos, AutoML, Core V3, TargetEncoder, Core V4</td></tr>\n",
              "<tr><td>Python version:</td>\n",
              "<td>3.6.8 final</td></tr></table></div>"
            ],
            "text/plain": [
              "--------------------------  ------------------------------------------------------------------\n",
              "H2O cluster uptime:         3 hours 28 mins\n",
              "H2O cluster timezone:       Etc/UTC\n",
              "H2O data parsing timezone:  UTC\n",
              "H2O cluster version:        3.26.0.8\n",
              "H2O cluster version age:    6 days\n",
              "H2O cluster name:           H2O_from_python_unknownUser_0ghsh3\n",
              "H2O cluster total nodes:    1\n",
              "H2O cluster free memory:    3.326 Gb\n",
              "H2O cluster total cores:    2\n",
              "H2O cluster allowed cores:  2\n",
              "H2O cluster status:         locked, healthy\n",
              "H2O connection url:         http://localhost:54321\n",
              "H2O connection proxy:       {'http': None, 'https': None}\n",
              "H2O internal security:      False\n",
              "H2O API Extensions:         Amazon S3, XGBoost, Algos, AutoML, Core V3, TargetEncoder, Core V4\n",
              "Python version:             3.6.8 final\n",
              "--------------------------  ------------------------------------------------------------------"
            ]
          },
          "metadata": {
            "tags": []
          }
        }
      ]
    },
    {
      "cell_type": "code",
      "metadata": {
        "id": "kRt1xkd8dqNi",
        "colab_type": "code",
        "colab": {}
      },
      "source": [
        "from sklearn.datasets import fetch_20newsgroups\n",
        "dataset = fetch_20newsgroups(shuffle=True, random_state=1, remove=('headers', 'footers', 'quotes'))\n",
        "documents = dataset.data"
      ],
      "execution_count": 0,
      "outputs": []
    },
    {
      "cell_type": "code",
      "metadata": {
        "id": "7lfuAJ5Yd7Ep",
        "colab_type": "code",
        "colab": {}
      },
      "source": [
        "import pandas as pd\n",
        "import numpy as np"
      ],
      "execution_count": 0,
      "outputs": []
    },
    {
      "cell_type": "code",
      "metadata": {
        "id": "vAewuduGdvvS",
        "colab_type": "code",
        "colab": {}
      },
      "source": [
        "df = pd.DataFrame({'label':dataset.target, 'text':dataset.data})"
      ],
      "execution_count": 0,
      "outputs": []
    },
    {
      "cell_type": "code",
      "metadata": {
        "id": "lX3hcDxViwEP",
        "colab_type": "code",
        "colab": {}
      },
      "source": [
        "df[\"Train\"] = np.random.rand(len(df)) < 0.8 # get a col full of train boolean "
      ],
      "execution_count": 0,
      "outputs": []
    },
    {
      "cell_type": "code",
      "metadata": {
        "id": "TA8sG4d-i0m8",
        "colab_type": "code",
        "outputId": "60bf409f-15f6-4d62-cf7b-e1d02175044a",
        "colab": {
          "base_uri": "https://localhost:8080/",
          "height": 67
        }
      },
      "source": [
        "df.Train.value_counts()"
      ],
      "execution_count": 0,
      "outputs": [
        {
          "output_type": "execute_result",
          "data": {
            "text/plain": [
              "True     9053\n",
              "False    2261\n",
              "Name: Train, dtype: int64"
            ]
          },
          "metadata": {
            "tags": []
          },
          "execution_count": 59
        }
      ]
    },
    {
      "cell_type": "code",
      "metadata": {
        "id": "v9GCvPAqfilx",
        "colab_type": "code",
        "outputId": "e1fd0f9e-db55-426b-b2f8-c31d7663911b",
        "colab": {
          "base_uri": "https://localhost:8080/",
          "height": 34
        }
      },
      "source": [
        "reviews = h2o.H2OFrame(df)"
      ],
      "execution_count": 0,
      "outputs": [
        {
          "output_type": "stream",
          "text": [
            "Parse progress: |█████████████████████████████████████████████████████████| 100%\n"
          ],
          "name": "stdout"
        }
      ]
    },
    {
      "cell_type": "code",
      "metadata": {
        "id": "uXwph48wdyCt",
        "colab_type": "code",
        "colab": {}
      },
      "source": [
        "train = reviews[reviews[\"Train\"] == \"True\"]\n",
        "test = reviews[reviews[\"Train\"] == \"False\"]"
      ],
      "execution_count": 0,
      "outputs": []
    },
    {
      "cell_type": "code",
      "metadata": {
        "id": "P3WnviL1eIJw",
        "colab_type": "code",
        "outputId": "84b4a364-3bb3-48a9-97d8-13465c74c445",
        "colab": {
          "base_uri": "https://localhost:8080/",
          "height": 179
        }
      },
      "source": [
        "train.head(2)"
      ],
      "execution_count": 0,
      "outputs": [
        {
          "output_type": "display_data",
          "data": {
            "text/html": [
              "<table>\n",
              "<thead>\n",
              "<tr><th style=\"text-align: right;\">  label</th><th>text  </th><th>Train  </th></tr>\n",
              "</thead>\n",
              "<tbody>\n",
              "<tr><td style=\"text-align: right;\">     17</td><td>Well i'm not sure about the story nad it did seem biased. What\n",
              "I disagree with is your statement that the U.S. Media is out to\n",
              "ruin Israels reputation. That is rediculous. The U.S. media is\n",
              "the most pro-israeli media in the world. Having lived in Europe\n",
              "I realize that incidences such as the one described in the\n",
              "letter have occured. The U.S. media as a whole seem to try to\n",
              "ignore them. The U.S. is subsidizing Israels existance and the\n",
              "Europeans are not (at least not to the same degree). So I think\n",
              "that might be a reason they report more clearly on the\n",
              "atrocities.\n",
              "\tWhat is a shame is that in Austria, daily reports of\n",
              "the inhuman acts commited by Israeli soldiers and the blessing\n",
              "received from the Government makes some of the Holocaust guilt\n",
              "go away. After all, look how the Jews are treating other races\n",
              "when they got power. It is unfortunate.       </td><td>True   </td></tr>\n",
              "<tr><td style=\"text-align: right;\">      0</td><td>Yeah, do you expect people to read the FAQ, etc. and actually accept hard\n",
              "atheism?  No, you need a little leap of faith, Jimmy.  Your logic runs out\n",
              "of steam!\n",
              "\n",
              "\n",
              "\n",
              "\n",
              "\n",
              "\n",
              "\n",
              "Jim,\n",
              "\n",
              "Sorry I can't pity you, Jim.  And I'm sorry that you have these feelings of\n",
              "denial about the faith you need to get by.  Oh well, just pretend that it will\n",
              "all end happily ever after anyway.  Maybe if you start a new newsgroup,\n",
              "alt.atheist.hard, you won't be bummin' so much?\n",
              "\n",
              "\n",
              "\n",
              "\n",
              "\n",
              "\n",
              "Bye-Bye, Big Jim.  Don't forget your Flintstone's Chewables!  :) \n",
              "--\n",
              "Bake Timmons, III       </td><td>True   </td></tr>\n",
              "</tbody>\n",
              "</table>"
            ]
          },
          "metadata": {
            "tags": []
          }
        },
        {
          "output_type": "execute_result",
          "data": {
            "text/plain": [
              ""
            ]
          },
          "metadata": {
            "tags": []
          },
          "execution_count": 62
        }
      ]
    },
    {
      "cell_type": "code",
      "metadata": {
        "id": "SjHHA5Gke6Px",
        "colab_type": "code",
        "colab": {}
      },
      "source": [
        "# Set Stop Words\n",
        "# The STOP WORDS we are importing are from the nltk package\n",
        "import pandas as pd\n",
        "import os\n",
        "\n",
        "# Use local data file or download from GitHub\n",
        "docker_data_path = \"/home/h2o/data/nlp/stopwords.csv\"\n",
        "if os.path.isfile(docker_data_path):\n",
        "  data_path = docker_data_path\n",
        "else:\n",
        "  data_path = \"https://raw.githubusercontent.com/h2oai/h2o-tutorials/master/h2o-world-2017/nlp/stopwords.csv\"\n",
        "\n",
        "STOP_WORDS = pd.read_csv(data_path, header=0)\n",
        "STOP_WORDS = list(STOP_WORDS['STOP_WORD'])"
      ],
      "execution_count": 0,
      "outputs": []
    },
    {
      "cell_type": "code",
      "metadata": {
        "id": "mXpsXLbrfGyN",
        "colab_type": "code",
        "colab": {}
      },
      "source": [
        "# TODO: review how effective this is in removing junk \\r \\n etc\n",
        "def tokenize(sentences, stop_word = STOP_WORDS):\n",
        "    tokenized = sentences.tokenize(\"\\\\W+\")\n",
        "    tokenized_lower = tokenized.tolower()\n",
        "    tokenized_filtered = tokenized_lower[(tokenized_lower.nchar() >= 2) | (tokenized_lower.isna()),:]\n",
        "    tokenized_words = tokenized_filtered[tokenized_filtered.grep(\"[0-9]\",invert=True,output_logical=True),:]\n",
        "    tokenized_words = tokenized_words[(tokenized_words.isna()) | (~ tokenized_words.isin(STOP_WORDS)),:]\n",
        "    return tokenized_words"
      ],
      "execution_count": 0,
      "outputs": []
    },
    {
      "cell_type": "code",
      "metadata": {
        "id": "6is87Ly4fKSZ",
        "colab_type": "code",
        "outputId": "6bd5ab32-bd1b-4ecd-a94e-980f45ee0189",
        "colab": {
          "base_uri": "https://localhost:8080/",
          "height": 50
        }
      },
      "source": [
        "%%time\n",
        "# Break reviews into sequence of words\n",
        "words = tokenize(reviews[\"text\"]) # not sure if there is some sort of leakage here..."
      ],
      "execution_count": 0,
      "outputs": [
        {
          "output_type": "stream",
          "text": [
            "CPU times: user 4.25 s, sys: 74.3 ms, total: 4.33 s\n",
            "Wall time: 16.7 s\n"
          ],
          "name": "stdout"
        }
      ]
    },
    {
      "cell_type": "code",
      "metadata": {
        "id": "AN_ZlE70fp1y",
        "colab_type": "code",
        "outputId": "c21749bf-35af-4848-b1ff-9ce11a9de478",
        "colab": {
          "base_uri": "https://localhost:8080/",
          "height": 238
        }
      },
      "source": [
        "words.head()"
      ],
      "execution_count": 0,
      "outputs": [
        {
          "output_type": "display_data",
          "data": {
            "text/html": [
              "<table>\n",
              "<thead>\n",
              "<tr><th>C1       </th></tr>\n",
              "</thead>\n",
              "<tbody>\n",
              "<tr><td>well     </td></tr>\n",
              "<tr><td>sure     </td></tr>\n",
              "<tr><td>story    </td></tr>\n",
              "<tr><td>nad      </td></tr>\n",
              "<tr><td>seem     </td></tr>\n",
              "<tr><td>biased   </td></tr>\n",
              "<tr><td>disagree </td></tr>\n",
              "<tr><td>statement</td></tr>\n",
              "<tr><td>media    </td></tr>\n",
              "<tr><td>ruin     </td></tr>\n",
              "</tbody>\n",
              "</table>"
            ]
          },
          "metadata": {
            "tags": []
          }
        },
        {
          "output_type": "execute_result",
          "data": {
            "text/plain": [
              ""
            ]
          },
          "metadata": {
            "tags": []
          },
          "execution_count": 66
        }
      ]
    },
    {
      "cell_type": "code",
      "metadata": {
        "id": "t5pnBHOAfzua",
        "colab_type": "code",
        "outputId": "a0894ccf-df32-46e3-cb4d-7dd3b6859305",
        "colab": {
          "base_uri": "https://localhost:8080/",
          "height": 34
        }
      },
      "source": [
        "# Train Word2Vec Model\n",
        "from h2o.estimators.word2vec import H2OWord2vecEstimator\n",
        "\n",
        "# This takes time to run - left commented out\n",
        "w2v_model = H2OWord2vecEstimator(vec_size = 100, model_id = \"w2v.hex\")\n",
        "w2v_model.train(training_frame=words) # train on the words thing we just got"
      ],
      "execution_count": 0,
      "outputs": [
        {
          "output_type": "stream",
          "text": [
            "word2vec Model Build progress: |██████████████████████████████████████████| 100%\n"
          ],
          "name": "stdout"
        }
      ]
    },
    {
      "cell_type": "code",
      "metadata": {
        "id": "wTE3aw2fgHWl",
        "colab_type": "code",
        "outputId": "4fdf983c-ba2c-4289-84cd-7ad80e68a7a6",
        "colab": {
          "base_uri": "https://localhost:8080/",
          "height": 101
        }
      },
      "source": [
        "# Sanity check - find synonyms for the word 'president'\n",
        "w2v_model.find_synonyms(\"president\", count = 5) # not bad actually :)"
      ],
      "execution_count": 0,
      "outputs": [
        {
          "output_type": "execute_result",
          "data": {
            "text/plain": [
              "OrderedDict([('yeltsin', 0.8460185527801514),\n",
              "             ('mubarak', 0.8207446932792664),\n",
              "             ('stephanopoulos', 0.811212956905365),\n",
              "             ('miyazawa', 0.7764836549758911),\n",
              "             ('dole', 0.7588897347450256)])"
            ]
          },
          "metadata": {
            "tags": []
          },
          "execution_count": 68
        }
      ]
    },
    {
      "cell_type": "code",
      "metadata": {
        "id": "PrRlKjA8hBl6",
        "colab_type": "code",
        "colab": {}
      },
      "source": [
        "# Calculate a vector for each review\n",
        "review_vecs = w2v_model.transform(words, aggregate_method = \"AVERAGE\")"
      ],
      "execution_count": 0,
      "outputs": []
    },
    {
      "cell_type": "code",
      "metadata": {
        "id": "jKXOFtkGhLv4",
        "colab_type": "code",
        "outputId": "748c244f-1caf-40e7-9b83-9824384a121e",
        "colab": {
          "base_uri": "https://localhost:8080/",
          "height": 258
        }
      },
      "source": [
        "review_vecs"
      ],
      "execution_count": 0,
      "outputs": [
        {
          "output_type": "display_data",
          "data": {
            "text/html": [
              "<table>\n",
              "<thead>\n",
              "<tr><th style=\"text-align: right;\">        C1</th><th style=\"text-align: right;\">        C2</th><th style=\"text-align: right;\">         C3</th><th style=\"text-align: right;\">        C4</th><th style=\"text-align: right;\">         C5</th><th style=\"text-align: right;\">        C6</th><th style=\"text-align: right;\">         C7</th><th style=\"text-align: right;\">        C8</th><th style=\"text-align: right;\">        C9</th><th style=\"text-align: right;\">        C10</th><th style=\"text-align: right;\">         C11</th><th style=\"text-align: right;\">         C12</th><th style=\"text-align: right;\">       C13</th><th style=\"text-align: right;\">      C14</th><th style=\"text-align: right;\">      C15</th><th style=\"text-align: right;\">        C16</th><th style=\"text-align: right;\">       C17</th><th style=\"text-align: right;\">        C18</th><th style=\"text-align: right;\">       C19</th><th style=\"text-align: right;\">       C20</th><th style=\"text-align: right;\">       C21</th><th style=\"text-align: right;\">      C22</th><th style=\"text-align: right;\">       C23</th><th style=\"text-align: right;\">        C24</th><th style=\"text-align: right;\">        C25</th><th style=\"text-align: right;\">      C26</th><th style=\"text-align: right;\">      C27</th><th style=\"text-align: right;\">        C28</th><th style=\"text-align: right;\">       C29</th><th style=\"text-align: right;\">       C30</th><th style=\"text-align: right;\">       C31</th><th style=\"text-align: right;\">       C32</th><th style=\"text-align: right;\">        C33</th><th style=\"text-align: right;\">        C34</th><th style=\"text-align: right;\">        C35</th><th style=\"text-align: right;\">        C36</th><th style=\"text-align: right;\">         C37</th><th style=\"text-align: right;\">       C38</th><th style=\"text-align: right;\">       C39</th><th style=\"text-align: right;\">       C40</th><th style=\"text-align: right;\">      C41</th><th style=\"text-align: right;\">         C42</th><th style=\"text-align: right;\">       C43</th><th style=\"text-align: right;\">       C44</th><th style=\"text-align: right;\">       C45</th><th style=\"text-align: right;\">        C46</th><th style=\"text-align: right;\">        C47</th><th style=\"text-align: right;\">        C48</th><th style=\"text-align: right;\">        C49</th><th style=\"text-align: right;\">       C50</th><th style=\"text-align: right;\">      C51</th><th style=\"text-align: right;\">        C52</th><th style=\"text-align: right;\">        C53</th><th style=\"text-align: right;\">       C54</th><th style=\"text-align: right;\">        C55</th><th style=\"text-align: right;\">        C56</th><th style=\"text-align: right;\">        C57</th><th style=\"text-align: right;\">       C58</th><th style=\"text-align: right;\">        C59</th><th style=\"text-align: right;\">       C60</th><th style=\"text-align: right;\">       C61</th><th style=\"text-align: right;\">       C62</th><th style=\"text-align: right;\">       C63</th><th style=\"text-align: right;\">        C64</th><th style=\"text-align: right;\">       C65</th><th style=\"text-align: right;\">        C66</th><th style=\"text-align: right;\">         C67</th><th style=\"text-align: right;\">       C68</th><th style=\"text-align: right;\">       C69</th><th style=\"text-align: right;\">         C70</th><th style=\"text-align: right;\">        C71</th><th style=\"text-align: right;\">       C72</th><th style=\"text-align: right;\">      C73</th><th style=\"text-align: right;\">      C74</th><th style=\"text-align: right;\">        C75</th><th style=\"text-align: right;\">        C76</th><th style=\"text-align: right;\">       C77</th><th style=\"text-align: right;\">        C78</th><th style=\"text-align: right;\">        C79</th><th style=\"text-align: right;\">        C80</th><th style=\"text-align: right;\">      C81</th><th style=\"text-align: right;\">         C82</th><th style=\"text-align: right;\">        C83</th><th style=\"text-align: right;\">       C84</th><th style=\"text-align: right;\">       C85</th><th style=\"text-align: right;\">       C86</th><th style=\"text-align: right;\">        C87</th><th style=\"text-align: right;\">        C88</th><th style=\"text-align: right;\">     C89</th><th style=\"text-align: right;\">        C90</th><th style=\"text-align: right;\">        C91</th><th style=\"text-align: right;\">       C92</th><th style=\"text-align: right;\">       C93</th><th style=\"text-align: right;\">        C94</th><th style=\"text-align: right;\">       C95</th><th style=\"text-align: right;\">       C96</th><th style=\"text-align: right;\">       C97</th><th style=\"text-align: right;\">       C98</th><th style=\"text-align: right;\">       C99</th><th style=\"text-align: right;\">    C100</th></tr>\n",
              "</thead>\n",
              "<tbody>\n",
              "<tr><td style=\"text-align: right;\"> 0.0388161</td><td style=\"text-align: right;\"> 0.0433147</td><td style=\"text-align: right;\">-0.0671115 </td><td style=\"text-align: right;\">-0.168748 </td><td style=\"text-align: right;\"> 0.135832  </td><td style=\"text-align: right;\"> 0.161679 </td><td style=\"text-align: right;\"> 0.0361269 </td><td style=\"text-align: right;\"> 0.119345 </td><td style=\"text-align: right;\">-0.0642259</td><td style=\"text-align: right;\"> 0.0224799 </td><td style=\"text-align: right;\"> 0.000716771</td><td style=\"text-align: right;\">-0.000478264</td><td style=\"text-align: right;\"> 0.0584357</td><td style=\"text-align: right;\">0.121972 </td><td style=\"text-align: right;\">-0.338503</td><td style=\"text-align: right;\">-0.0317321 </td><td style=\"text-align: right;\">-0.258186 </td><td style=\"text-align: right;\"> 0.00356372</td><td style=\"text-align: right;\">-0.029555 </td><td style=\"text-align: right;\"> 0.0928804</td><td style=\"text-align: right;\">-0.0326285</td><td style=\"text-align: right;\">0.105699 </td><td style=\"text-align: right;\">-0.195085 </td><td style=\"text-align: right;\">-0.0682508 </td><td style=\"text-align: right;\"> 0.0411102 </td><td style=\"text-align: right;\">0.209399 </td><td style=\"text-align: right;\">0.0859861</td><td style=\"text-align: right;\">-0.0889125 </td><td style=\"text-align: right;\">-0.0159964</td><td style=\"text-align: right;\">0.10744   </td><td style=\"text-align: right;\">-0.0561944</td><td style=\"text-align: right;\"> 0.156689 </td><td style=\"text-align: right;\"> 0.0228213 </td><td style=\"text-align: right;\">-0.0302436 </td><td style=\"text-align: right;\">-0.0229776 </td><td style=\"text-align: right;\">-0.0101779 </td><td style=\"text-align: right;\"> 0.0340967  </td><td style=\"text-align: right;\"> 0.0853087</td><td style=\"text-align: right;\">-0.242132 </td><td style=\"text-align: right;\">-0.25744  </td><td style=\"text-align: right;\">0.0603646</td><td style=\"text-align: right;\">-0.0600112  </td><td style=\"text-align: right;\"> 0.108552 </td><td style=\"text-align: right;\">-0.0748304</td><td style=\"text-align: right;\"> 0.0766511</td><td style=\"text-align: right;\"> 0.00994602</td><td style=\"text-align: right;\"> 0.0140275 </td><td style=\"text-align: right;\"> 0.0776616 </td><td style=\"text-align: right;\"> 0.00908043</td><td style=\"text-align: right;\">-0.0110328</td><td style=\"text-align: right;\">0.107063 </td><td style=\"text-align: right;\">-0.0711367 </td><td style=\"text-align: right;\">-0.117333  </td><td style=\"text-align: right;\">0.122291  </td><td style=\"text-align: right;\">-0.127887  </td><td style=\"text-align: right;\"> 0.048512  </td><td style=\"text-align: right;\">-0.0255488 </td><td style=\"text-align: right;\">-0.0388489</td><td style=\"text-align: right;\"> 0.0359795 </td><td style=\"text-align: right;\"> 0.0423406</td><td style=\"text-align: right;\">-0.142347 </td><td style=\"text-align: right;\">-0.0220931</td><td style=\"text-align: right;\"> 0.10858  </td><td style=\"text-align: right;\"> 0.0204853 </td><td style=\"text-align: right;\"> 0.044563 </td><td style=\"text-align: right;\">-0.0338904 </td><td style=\"text-align: right;\"> 0.0589644  </td><td style=\"text-align: right;\">-0.106907 </td><td style=\"text-align: right;\">-0.0151874</td><td style=\"text-align: right;\">-0.1017     </td><td style=\"text-align: right;\"> 0.0171318 </td><td style=\"text-align: right;\">-0.0053127</td><td style=\"text-align: right;\">0.133991 </td><td style=\"text-align: right;\">0.0213216</td><td style=\"text-align: right;\">-0.00739897</td><td style=\"text-align: right;\">-0.00150762</td><td style=\"text-align: right;\">-0.0113215</td><td style=\"text-align: right;\"> 0.067952  </td><td style=\"text-align: right;\">-0.0634168 </td><td style=\"text-align: right;\">-0.00163656</td><td style=\"text-align: right;\">0.0629755</td><td style=\"text-align: right;\"> 0.0622206  </td><td style=\"text-align: right;\">-0.0223955 </td><td style=\"text-align: right;\">-0.0757768</td><td style=\"text-align: right;\"> 0.0801227</td><td style=\"text-align: right;\"> 0.203171 </td><td style=\"text-align: right;\"> 0.0369031 </td><td style=\"text-align: right;\">-0.0189166 </td><td style=\"text-align: right;\">0.165795</td><td style=\"text-align: right;\">-0.0110198 </td><td style=\"text-align: right;\">-0.00439393</td><td style=\"text-align: right;\">-0.0969211</td><td style=\"text-align: right;\">-0.0126158</td><td style=\"text-align: right;\"> 0.0514497 </td><td style=\"text-align: right;\">0.14552   </td><td style=\"text-align: right;\"> 0.113774 </td><td style=\"text-align: right;\">-0.0277334</td><td style=\"text-align: right;\"> 0.132128 </td><td style=\"text-align: right;\">-0.0123805</td><td style=\"text-align: right;\">0.17857 </td></tr>\n",
              "<tr><td style=\"text-align: right;\"> 0.0902982</td><td style=\"text-align: right;\">-0.0390844</td><td style=\"text-align: right;\">-0.0458691 </td><td style=\"text-align: right;\">-0.167126 </td><td style=\"text-align: right;\"> 0.114107  </td><td style=\"text-align: right;\"> 0.0496239</td><td style=\"text-align: right;\">-0.00843299</td><td style=\"text-align: right;\"> 0.0898202</td><td style=\"text-align: right;\">-0.0850967</td><td style=\"text-align: right;\">-0.00947367</td><td style=\"text-align: right;\"> 0.0973465  </td><td style=\"text-align: right;\">-0.116795   </td><td style=\"text-align: right;\"> 0.149379 </td><td style=\"text-align: right;\">0.154695 </td><td style=\"text-align: right;\">-0.240081</td><td style=\"text-align: right;\">-0.0444662 </td><td style=\"text-align: right;\">-0.184735 </td><td style=\"text-align: right;\">-0.0327223 </td><td style=\"text-align: right;\">-0.121734 </td><td style=\"text-align: right;\">-0.0116894</td><td style=\"text-align: right;\">-0.0199944</td><td style=\"text-align: right;\">0.0938716</td><td style=\"text-align: right;\">-0.171292 </td><td style=\"text-align: right;\">-0.0509831 </td><td style=\"text-align: right;\"> 0.0847219 </td><td style=\"text-align: right;\">0.0830923</td><td style=\"text-align: right;\">0.0636284</td><td style=\"text-align: right;\">-0.17799   </td><td style=\"text-align: right;\"> 0.0926193</td><td style=\"text-align: right;\">0.0887863 </td><td style=\"text-align: right;\">-0.117524 </td><td style=\"text-align: right;\">-0.0384156</td><td style=\"text-align: right;\">-0.0301427 </td><td style=\"text-align: right;\">-0.0148886 </td><td style=\"text-align: right;\"> 0.00800723</td><td style=\"text-align: right;\"> 0.00293339</td><td style=\"text-align: right;\"> 0.0638538  </td><td style=\"text-align: right;\"> 0.0424487</td><td style=\"text-align: right;\">-0.11034  </td><td style=\"text-align: right;\">-0.131078 </td><td style=\"text-align: right;\">0.0814415</td><td style=\"text-align: right;\">-0.00142114 </td><td style=\"text-align: right;\"> 0.14971  </td><td style=\"text-align: right;\">-0.0652322</td><td style=\"text-align: right;\"> 0.0967615</td><td style=\"text-align: right;\">-0.0215784 </td><td style=\"text-align: right;\">-0.0366854 </td><td style=\"text-align: right;\">-0.00876677</td><td style=\"text-align: right;\">-0.0750503 </td><td style=\"text-align: right;\">-0.0194402</td><td style=\"text-align: right;\">0.149285 </td><td style=\"text-align: right;\">-0.14217   </td><td style=\"text-align: right;\">-0.0981455 </td><td style=\"text-align: right;\">0.0719865 </td><td style=\"text-align: right;\"> 0.0792275 </td><td style=\"text-align: right;\">-0.035925  </td><td style=\"text-align: right;\">-0.00863693</td><td style=\"text-align: right;\">-0.0916927</td><td style=\"text-align: right;\">-0.00689619</td><td style=\"text-align: right;\">-0.0307563</td><td style=\"text-align: right;\">-0.196255 </td><td style=\"text-align: right;\">-0.0483425</td><td style=\"text-align: right;\">-0.0560411</td><td style=\"text-align: right;\">-0.00224286</td><td style=\"text-align: right;\">-0.0231206</td><td style=\"text-align: right;\"> 0.0751971 </td><td style=\"text-align: right;\"> 0.0744402  </td><td style=\"text-align: right;\">-0.109816 </td><td style=\"text-align: right;\"> 0.0535332</td><td style=\"text-align: right;\"> 0.000621746</td><td style=\"text-align: right;\">-0.128502  </td><td style=\"text-align: right;\"> 0.0114885</td><td style=\"text-align: right;\">0.0629995</td><td style=\"text-align: right;\">0.0811286</td><td style=\"text-align: right;\">-0.153731  </td><td style=\"text-align: right;\">-0.0243036 </td><td style=\"text-align: right;\">-0.0723219</td><td style=\"text-align: right;\"> 0.0633655 </td><td style=\"text-align: right;\">-0.0818336 </td><td style=\"text-align: right;\">-0.0533623 </td><td style=\"text-align: right;\">0.110762 </td><td style=\"text-align: right;\">-0.109733   </td><td style=\"text-align: right;\">-0.0164192 </td><td style=\"text-align: right;\">-0.0347722</td><td style=\"text-align: right;\"> 0.107725 </td><td style=\"text-align: right;\"> 0.15412  </td><td style=\"text-align: right;\">-0.112623  </td><td style=\"text-align: right;\"> 0.0113255 </td><td style=\"text-align: right;\">0.142008</td><td style=\"text-align: right;\"> 0.0248181 </td><td style=\"text-align: right;\">-0.112353  </td><td style=\"text-align: right;\">-0.0449256</td><td style=\"text-align: right;\"> 0.0178335</td><td style=\"text-align: right;\"> 0.0221197 </td><td style=\"text-align: right;\">0.0623327 </td><td style=\"text-align: right;\"> 0.0737877</td><td style=\"text-align: right;\">-0.0204318</td><td style=\"text-align: right;\"> 0.0824858</td><td style=\"text-align: right;\"> 0.0671591</td><td style=\"text-align: right;\">0.251788</td></tr>\n",
              "<tr><td style=\"text-align: right;\"> 0.0234295</td><td style=\"text-align: right;\"> 0.0604782</td><td style=\"text-align: right;\">-0.0279418 </td><td style=\"text-align: right;\">-0.208354 </td><td style=\"text-align: right;\"> 0.113017  </td><td style=\"text-align: right;\"> 0.174975 </td><td style=\"text-align: right;\"> 0.0671824 </td><td style=\"text-align: right;\"> 0.15635  </td><td style=\"text-align: right;\">-0.111997 </td><td style=\"text-align: right;\"> 0.0556891 </td><td style=\"text-align: right;\"> 0.0253962  </td><td style=\"text-align: right;\">-0.0568237  </td><td style=\"text-align: right;\"> 0.158468 </td><td style=\"text-align: right;\">0.119323 </td><td style=\"text-align: right;\">-0.257667</td><td style=\"text-align: right;\">-0.113459  </td><td style=\"text-align: right;\">-0.272687 </td><td style=\"text-align: right;\"> 0.00932919</td><td style=\"text-align: right;\">-0.0631726</td><td style=\"text-align: right;\"> 0.0607729</td><td style=\"text-align: right;\">-0.0719439</td><td style=\"text-align: right;\">0.0754415</td><td style=\"text-align: right;\">-0.113717 </td><td style=\"text-align: right;\">-0.016651  </td><td style=\"text-align: right;\">-0.00926196</td><td style=\"text-align: right;\">0.189643 </td><td style=\"text-align: right;\">0.142804 </td><td style=\"text-align: right;\">-0.0643157 </td><td style=\"text-align: right;\"> 0.013161 </td><td style=\"text-align: right;\">0.11369   </td><td style=\"text-align: right;\">-0.0981279</td><td style=\"text-align: right;\"> 0.172396 </td><td style=\"text-align: right;\"> 0.040464  </td><td style=\"text-align: right;\"> 0.00479784</td><td style=\"text-align: right;\"> 0.0119593 </td><td style=\"text-align: right;\">-0.0188519 </td><td style=\"text-align: right;\"> 0.0242818  </td><td style=\"text-align: right;\"> 0.0281751</td><td style=\"text-align: right;\">-0.169056 </td><td style=\"text-align: right;\">-0.271642 </td><td style=\"text-align: right;\">0.146099 </td><td style=\"text-align: right;\"> 0.00864597 </td><td style=\"text-align: right;\"> 0.0892739</td><td style=\"text-align: right;\">-0.0824431</td><td style=\"text-align: right;\"> 0.0386298</td><td style=\"text-align: right;\">-0.0389177 </td><td style=\"text-align: right;\">-0.0393564 </td><td style=\"text-align: right;\"> 0.0275586 </td><td style=\"text-align: right;\">-0.019826  </td><td style=\"text-align: right;\">-0.0238678</td><td style=\"text-align: right;\">0.0453329</td><td style=\"text-align: right;\">-0.105981  </td><td style=\"text-align: right;\">-0.0721034 </td><td style=\"text-align: right;\">0.145189  </td><td style=\"text-align: right;\">-0.00770893</td><td style=\"text-align: right;\"> 0.0532874 </td><td style=\"text-align: right;\">-0.00585818</td><td style=\"text-align: right;\">-0.0898943</td><td style=\"text-align: right;\"> 0.0397316 </td><td style=\"text-align: right;\"> 0.0211619</td><td style=\"text-align: right;\">-0.142987 </td><td style=\"text-align: right;\">-0.0870881</td><td style=\"text-align: right;\"> 0.0355105</td><td style=\"text-align: right;\">-0.00441325</td><td style=\"text-align: right;\"> 0.0882858</td><td style=\"text-align: right;\">-0.0184847 </td><td style=\"text-align: right;\"> 0.00900559 </td><td style=\"text-align: right;\">-0.0506014</td><td style=\"text-align: right;\"> 0.0270835</td><td style=\"text-align: right;\">-0.0772397  </td><td style=\"text-align: right;\">-0.00854661</td><td style=\"text-align: right;\"> 0.008197 </td><td style=\"text-align: right;\">0.0271407</td><td style=\"text-align: right;\">0.0859015</td><td style=\"text-align: right;\">-0.0196735 </td><td style=\"text-align: right;\"> 0.00309467</td><td style=\"text-align: right;\">-0.061586 </td><td style=\"text-align: right;\"> 0.129375  </td><td style=\"text-align: right;\">-0.0838474 </td><td style=\"text-align: right;\"> 0.0135679 </td><td style=\"text-align: right;\">0.108902 </td><td style=\"text-align: right;\"> 0.0454641  </td><td style=\"text-align: right;\">-0.0407603 </td><td style=\"text-align: right;\">-0.0423955</td><td style=\"text-align: right;\"> 0.0871443</td><td style=\"text-align: right;\"> 0.175314 </td><td style=\"text-align: right;\"> 0.0477649 </td><td style=\"text-align: right;\"> 0.0244942 </td><td style=\"text-align: right;\">0.204134</td><td style=\"text-align: right;\">-0.00446851</td><td style=\"text-align: right;\">-0.0460091 </td><td style=\"text-align: right;\">-0.137266 </td><td style=\"text-align: right;\"> 0.0220153</td><td style=\"text-align: right;\"> 0.0900441 </td><td style=\"text-align: right;\">0.0931049 </td><td style=\"text-align: right;\"> 0.148815 </td><td style=\"text-align: right;\">-0.0311285</td><td style=\"text-align: right;\"> 0.0873161</td><td style=\"text-align: right;\">-0.013034 </td><td style=\"text-align: right;\">0.197279</td></tr>\n",
              "<tr><td style=\"text-align: right;\"> 0.0366201</td><td style=\"text-align: right;\"> 0.0247941</td><td style=\"text-align: right;\">-0.0074406 </td><td style=\"text-align: right;\">-0.130307 </td><td style=\"text-align: right;\">-0.00454542</td><td style=\"text-align: right;\"> 0.0706722</td><td style=\"text-align: right;\"> 0.0580851 </td><td style=\"text-align: right;\"> 0.138726 </td><td style=\"text-align: right;\">-0.0612746</td><td style=\"text-align: right;\"> 0.0100098 </td><td style=\"text-align: right;\"> 0.0926442  </td><td style=\"text-align: right;\">-0.109872   </td><td style=\"text-align: right;\"> 0.188528 </td><td style=\"text-align: right;\">0.070107 </td><td style=\"text-align: right;\">-0.243018</td><td style=\"text-align: right;\">-0.0883422 </td><td style=\"text-align: right;\">-0.161722 </td><td style=\"text-align: right;\">-0.0430569 </td><td style=\"text-align: right;\">-0.108806 </td><td style=\"text-align: right;\"> 0.0445171</td><td style=\"text-align: right;\">-0.0938514</td><td style=\"text-align: right;\">0.0837879</td><td style=\"text-align: right;\">-0.101003 </td><td style=\"text-align: right;\"> 0.0923395 </td><td style=\"text-align: right;\"> 0.0367333 </td><td style=\"text-align: right;\">0.170955 </td><td style=\"text-align: right;\">0.0769589</td><td style=\"text-align: right;\">-0.0954282 </td><td style=\"text-align: right;\"> 0.0454559</td><td style=\"text-align: right;\">0.0225037 </td><td style=\"text-align: right;\">-0.142307 </td><td style=\"text-align: right;\"> 0.13265  </td><td style=\"text-align: right;\"> 0.0190565 </td><td style=\"text-align: right;\">-0.0331045 </td><td style=\"text-align: right;\">-0.0554242 </td><td style=\"text-align: right;\"> 0.0254117 </td><td style=\"text-align: right;\">-0.000773486</td><td style=\"text-align: right;\"> 0.0218308</td><td style=\"text-align: right;\">-0.072466 </td><td style=\"text-align: right;\">-0.234315 </td><td style=\"text-align: right;\">0.0475351</td><td style=\"text-align: right;\">-0.0336074  </td><td style=\"text-align: right;\">-0.0483978</td><td style=\"text-align: right;\">-0.070312 </td><td style=\"text-align: right;\"> 0.0852649</td><td style=\"text-align: right;\">-0.0661743 </td><td style=\"text-align: right;\"> 0.00752302</td><td style=\"text-align: right;\">-0.0380539 </td><td style=\"text-align: right;\"> 0.0101574 </td><td style=\"text-align: right;\">-0.117551 </td><td style=\"text-align: right;\">0.0856244</td><td style=\"text-align: right;\">-0.0168015 </td><td style=\"text-align: right;\"> 0.0140789 </td><td style=\"text-align: right;\">0.117468  </td><td style=\"text-align: right;\"> 0.124618  </td><td style=\"text-align: right;\">-0.00232125</td><td style=\"text-align: right;\"> 0.0287202 </td><td style=\"text-align: right;\">-0.0950537</td><td style=\"text-align: right;\">-0.025097  </td><td style=\"text-align: right;\"> 0.057387 </td><td style=\"text-align: right;\">-0.137313 </td><td style=\"text-align: right;\">-0.0993009</td><td style=\"text-align: right;\">-0.0313641</td><td style=\"text-align: right;\"> 0.036228  </td><td style=\"text-align: right;\"> 0.0099735</td><td style=\"text-align: right;\"> 0.00433222</td><td style=\"text-align: right;\"> 0.0439347  </td><td style=\"text-align: right;\">-0.0516882</td><td style=\"text-align: right;\"> 0.0557718</td><td style=\"text-align: right;\"> 0.0320741  </td><td style=\"text-align: right;\"> 0.0226069 </td><td style=\"text-align: right;\">-0.0527091</td><td style=\"text-align: right;\">0.0501081</td><td style=\"text-align: right;\">0.0998086</td><td style=\"text-align: right;\">-0.0262329 </td><td style=\"text-align: right;\">-0.131317  </td><td style=\"text-align: right;\">-0.154364 </td><td style=\"text-align: right;\">-0.00452474</td><td style=\"text-align: right;\">-0.00324405</td><td style=\"text-align: right;\">-0.0170006 </td><td style=\"text-align: right;\">0.115438 </td><td style=\"text-align: right;\">-0.0665554  </td><td style=\"text-align: right;\"> 0.0769433 </td><td style=\"text-align: right;\">-0.105944 </td><td style=\"text-align: right;\"> 0.0152153</td><td style=\"text-align: right;\"> 0.125066 </td><td style=\"text-align: right;\"> 0.00629138</td><td style=\"text-align: right;\">-0.0484736 </td><td style=\"text-align: right;\">0.123023</td><td style=\"text-align: right;\"> 0.0329402 </td><td style=\"text-align: right;\">-0.128637  </td><td style=\"text-align: right;\">-0.122475 </td><td style=\"text-align: right;\">-0.048285 </td><td style=\"text-align: right;\"> 0.0189482 </td><td style=\"text-align: right;\">0.0662344 </td><td style=\"text-align: right;\">-0.0683131</td><td style=\"text-align: right;\">-0.0299384</td><td style=\"text-align: right;\"> 0.162223 </td><td style=\"text-align: right;\"> 0.146317 </td><td style=\"text-align: right;\">0.209336</td></tr>\n",
              "<tr><td style=\"text-align: right;\"> 0.0969874</td><td style=\"text-align: right;\">-0.097808 </td><td style=\"text-align: right;\"> 0.00771275</td><td style=\"text-align: right;\">-0.105407 </td><td style=\"text-align: right;\"> 0.134469  </td><td style=\"text-align: right;\"> 0.124211 </td><td style=\"text-align: right;\"> 0.0759124 </td><td style=\"text-align: right;\"> 0.119389 </td><td style=\"text-align: right;\">-0.142618 </td><td style=\"text-align: right;\"> 0.022784  </td><td style=\"text-align: right;\"> 0.353423   </td><td style=\"text-align: right;\">-0.0963419  </td><td style=\"text-align: right;\">-0.0297023</td><td style=\"text-align: right;\">0.0697189</td><td style=\"text-align: right;\">-0.277864</td><td style=\"text-align: right;\">-0.0293936 </td><td style=\"text-align: right;\">-0.0862537</td><td style=\"text-align: right;\">-0.256194  </td><td style=\"text-align: right;\"> 0.0833183</td><td style=\"text-align: right;\">-0.061992 </td><td style=\"text-align: right;\"> 0.214476 </td><td style=\"text-align: right;\">0.123727 </td><td style=\"text-align: right;\">-0.386938 </td><td style=\"text-align: right;\">-0.0822444 </td><td style=\"text-align: right;\">-0.0537634 </td><td style=\"text-align: right;\">0.164872 </td><td style=\"text-align: right;\">0.192146 </td><td style=\"text-align: right;\">-0.164033  </td><td style=\"text-align: right;\"> 0.082798 </td><td style=\"text-align: right;\">0.00180423</td><td style=\"text-align: right;\">-0.0270739</td><td style=\"text-align: right;\"> 0.0870574</td><td style=\"text-align: right;\"> 0.0645601 </td><td style=\"text-align: right;\">-0.224079  </td><td style=\"text-align: right;\"> 0.263627  </td><td style=\"text-align: right;\">-0.0949036 </td><td style=\"text-align: right;\"> 0.264156   </td><td style=\"text-align: right;\"> 0.129321 </td><td style=\"text-align: right;\">-0.0268813</td><td style=\"text-align: right;\">-0.239443 </td><td style=\"text-align: right;\">0.145872 </td><td style=\"text-align: right;\">-0.0802831  </td><td style=\"text-align: right;\"> 0.0502853</td><td style=\"text-align: right;\">-0.0216416</td><td style=\"text-align: right;\"> 0.0785581</td><td style=\"text-align: right;\">-0.168725  </td><td style=\"text-align: right;\">-0.085057  </td><td style=\"text-align: right;\"> 0.0764492 </td><td style=\"text-align: right;\">-0.144418  </td><td style=\"text-align: right;\"> 0.0317176</td><td style=\"text-align: right;\">0.189882 </td><td style=\"text-align: right;\">-0.124275  </td><td style=\"text-align: right;\">-0.151345  </td><td style=\"text-align: right;\">0.00681332</td><td style=\"text-align: right;\"> 0.0261662 </td><td style=\"text-align: right;\"> 0.00434309</td><td style=\"text-align: right;\"> 0.0573547 </td><td style=\"text-align: right;\">-0.261973 </td><td style=\"text-align: right;\"> 0.11574   </td><td style=\"text-align: right;\"> 0.184454 </td><td style=\"text-align: right;\">-0.0583882</td><td style=\"text-align: right;\">-0.162446 </td><td style=\"text-align: right;\">-0.0328949</td><td style=\"text-align: right;\">-0.0180099 </td><td style=\"text-align: right;\">-0.106988 </td><td style=\"text-align: right;\"> 0.188212  </td><td style=\"text-align: right;\">-0.000841856</td><td style=\"text-align: right;\"> 0.123577 </td><td style=\"text-align: right;\"> 0.204189 </td><td style=\"text-align: right;\"> 0.00500152 </td><td style=\"text-align: right;\"> 0.056168  </td><td style=\"text-align: right;\">-0.032579 </td><td style=\"text-align: right;\">0.0167774</td><td style=\"text-align: right;\">0.155537 </td><td style=\"text-align: right;\"> 0.0419717 </td><td style=\"text-align: right;\">-0.00923712</td><td style=\"text-align: right;\">-0.10453  </td><td style=\"text-align: right;\"> 0.160677  </td><td style=\"text-align: right;\">-0.119515  </td><td style=\"text-align: right;\">-0.226362  </td><td style=\"text-align: right;\">0.0604188</td><td style=\"text-align: right;\"> 0.000221209</td><td style=\"text-align: right;\"> 0.0317967 </td><td style=\"text-align: right;\">-0.0614611</td><td style=\"text-align: right;\"> 0.0869344</td><td style=\"text-align: right;\">-0.0197845</td><td style=\"text-align: right;\">-0.063947  </td><td style=\"text-align: right;\">-0.219475  </td><td style=\"text-align: right;\">0.170392</td><td style=\"text-align: right;\"> 0.118015  </td><td style=\"text-align: right;\"> 0.00837199</td><td style=\"text-align: right;\"> 0.0277722</td><td style=\"text-align: right;\"> 0.215782 </td><td style=\"text-align: right;\"> 0.00531483</td><td style=\"text-align: right;\">0.00581819</td><td style=\"text-align: right;\">-0.184217 </td><td style=\"text-align: right;\">-0.185847 </td><td style=\"text-align: right;\">-0.203144 </td><td style=\"text-align: right;\">-0.0070515</td><td style=\"text-align: right;\">0.231072</td></tr>\n",
              "<tr><td style=\"text-align: right;\"> 0.0922644</td><td style=\"text-align: right;\"> 0.106131 </td><td style=\"text-align: right;\">-0.0654951 </td><td style=\"text-align: right;\">-0.0856273</td><td style=\"text-align: right;\"> 0.115423  </td><td style=\"text-align: right;\"> 0.0910396</td><td style=\"text-align: right;\">-0.0633231 </td><td style=\"text-align: right;\">-0.030352 </td><td style=\"text-align: right;\">-0.0250767</td><td style=\"text-align: right;\"> 0.0736326 </td><td style=\"text-align: right;\"> 0.106798   </td><td style=\"text-align: right;\"> 0.0439303  </td><td style=\"text-align: right;\"> 0.149158 </td><td style=\"text-align: right;\">0.0196025</td><td style=\"text-align: right;\">-0.303986</td><td style=\"text-align: right;\">-0.0732081 </td><td style=\"text-align: right;\">-0.175507 </td><td style=\"text-align: right;\">-0.00939095</td><td style=\"text-align: right;\"> 0.0263424</td><td style=\"text-align: right;\"> 0.0494549</td><td style=\"text-align: right;\">-0.0569341</td><td style=\"text-align: right;\">0.108818 </td><td style=\"text-align: right;\">-0.229423 </td><td style=\"text-align: right;\">-0.101238  </td><td style=\"text-align: right;\"> 0.0776296 </td><td style=\"text-align: right;\">0.0563674</td><td style=\"text-align: right;\">0.003152 </td><td style=\"text-align: right;\">-0.125486  </td><td style=\"text-align: right;\"> 0.104815 </td><td style=\"text-align: right;\">0.173601  </td><td style=\"text-align: right;\">-0.116435 </td><td style=\"text-align: right;\"> 0.051985 </td><td style=\"text-align: right;\">-0.0694345 </td><td style=\"text-align: right;\">-0.0708941 </td><td style=\"text-align: right;\">-0.0138716 </td><td style=\"text-align: right;\">-0.0684556 </td><td style=\"text-align: right;\"> 0.00614423 </td><td style=\"text-align: right;\"> 0.137458 </td><td style=\"text-align: right;\">-0.198694 </td><td style=\"text-align: right;\">-0.107336 </td><td style=\"text-align: right;\">0.0756214</td><td style=\"text-align: right;\">-0.0152738  </td><td style=\"text-align: right;\"> 0.040751 </td><td style=\"text-align: right;\">-0.141125 </td><td style=\"text-align: right;\"> 0.0892372</td><td style=\"text-align: right;\">-0.0279645 </td><td style=\"text-align: right;\"> 0.0530052 </td><td style=\"text-align: right;\"> 0.0816976 </td><td style=\"text-align: right;\">-0.0387057 </td><td style=\"text-align: right;\">-0.0611559</td><td style=\"text-align: right;\">0.156137 </td><td style=\"text-align: right;\">-0.101726  </td><td style=\"text-align: right;\">-0.139321  </td><td style=\"text-align: right;\">0.103817  </td><td style=\"text-align: right;\">-0.0574812 </td><td style=\"text-align: right;\">-0.0643009 </td><td style=\"text-align: right;\">-0.00380409</td><td style=\"text-align: right;\">-0.0381715</td><td style=\"text-align: right;\"> 0.072028  </td><td style=\"text-align: right;\">-0.05713  </td><td style=\"text-align: right;\">-0.149179 </td><td style=\"text-align: right;\">-0.0883644</td><td style=\"text-align: right;\">-0.035511 </td><td style=\"text-align: right;\">-0.0291754 </td><td style=\"text-align: right;\"> 0.020531 </td><td style=\"text-align: right;\"> 0.0957072 </td><td style=\"text-align: right;\"> 0.0298679  </td><td style=\"text-align: right;\">-0.0439398</td><td style=\"text-align: right;\"> 0.108944 </td><td style=\"text-align: right;\"> 0.0993266  </td><td style=\"text-align: right;\"> 0.117246  </td><td style=\"text-align: right;\"> 0.0424206</td><td style=\"text-align: right;\">0.160566 </td><td style=\"text-align: right;\">0.0261684</td><td style=\"text-align: right;\">-0.06318   </td><td style=\"text-align: right;\">-0.0484866 </td><td style=\"text-align: right;\">-0.111754 </td><td style=\"text-align: right;\"> 0.0593188 </td><td style=\"text-align: right;\">-0.0117227 </td><td style=\"text-align: right;\"> 0.052074  </td><td style=\"text-align: right;\">0.0288467</td><td style=\"text-align: right;\">-0.0449112  </td><td style=\"text-align: right;\">-0.118706  </td><td style=\"text-align: right;\">-0.100093 </td><td style=\"text-align: right;\"> 0.133391 </td><td style=\"text-align: right;\"> 0.199232 </td><td style=\"text-align: right;\">-0.0536586 </td><td style=\"text-align: right;\">-0.00657134</td><td style=\"text-align: right;\">0.125162</td><td style=\"text-align: right;\"> 0.0214967 </td><td style=\"text-align: right;\">-0.0801588 </td><td style=\"text-align: right;\">-0.0640928</td><td style=\"text-align: right;\">-0.0150293</td><td style=\"text-align: right;\">-0.00929866</td><td style=\"text-align: right;\">0.118733  </td><td style=\"text-align: right;\"> 0.0420145</td><td style=\"text-align: right;\"> 0.0264036</td><td style=\"text-align: right;\"> 0.0761234</td><td style=\"text-align: right;\"> 0.138624 </td><td style=\"text-align: right;\">0.269652</td></tr>\n",
              "<tr><td style=\"text-align: right;\"> 0.129551 </td><td style=\"text-align: right;\"> 0.0486546</td><td style=\"text-align: right;\"> 0.0232735 </td><td style=\"text-align: right;\">-0.0746265</td><td style=\"text-align: right;\">-0.0312145 </td><td style=\"text-align: right;\">-0.123455 </td><td style=\"text-align: right;\"> 0.0727657 </td><td style=\"text-align: right;\"> 0.104148 </td><td style=\"text-align: right;\"> 0.125472 </td><td style=\"text-align: right;\">-0.072565  </td><td style=\"text-align: right;\">-0.0911917  </td><td style=\"text-align: right;\">-0.120345   </td><td style=\"text-align: right;\"> 0.0566592</td><td style=\"text-align: right;\">0.106568 </td><td style=\"text-align: right;\">-0.188355</td><td style=\"text-align: right;\">-0.149595  </td><td style=\"text-align: right;\">-0.163901 </td><td style=\"text-align: right;\">-0.00216023</td><td style=\"text-align: right;\">-0.237014 </td><td style=\"text-align: right;\">-0.130699 </td><td style=\"text-align: right;\"> 0.173387 </td><td style=\"text-align: right;\">0.0277536</td><td style=\"text-align: right;\">-0.0837327</td><td style=\"text-align: right;\"> 0.0376859 </td><td style=\"text-align: right;\"> 0.0163522 </td><td style=\"text-align: right;\">0.0253448</td><td style=\"text-align: right;\">0.0249461</td><td style=\"text-align: right;\">-0.0715751 </td><td style=\"text-align: right;\"> 0.0526063</td><td style=\"text-align: right;\">0.0436294 </td><td style=\"text-align: right;\">-0.116425 </td><td style=\"text-align: right;\">-0.156207 </td><td style=\"text-align: right;\">-0.0186457 </td><td style=\"text-align: right;\">-0.0187966 </td><td style=\"text-align: right;\">-0.019832  </td><td style=\"text-align: right;\">-0.0541714 </td><td style=\"text-align: right;\"> 0.230267   </td><td style=\"text-align: right;\">-0.0353256</td><td style=\"text-align: right;\">-0.152369 </td><td style=\"text-align: right;\"> 0.0049793</td><td style=\"text-align: right;\">0.0827999</td><td style=\"text-align: right;\"> 0.121678   </td><td style=\"text-align: right;\">-0.157458 </td><td style=\"text-align: right;\"> 0.034197 </td><td style=\"text-align: right;\">-0.047235 </td><td style=\"text-align: right;\">-0.104635  </td><td style=\"text-align: right;\"> 0.00814462</td><td style=\"text-align: right;\">-0.104965  </td><td style=\"text-align: right;\">-0.0852272 </td><td style=\"text-align: right;\">-0.155712 </td><td style=\"text-align: right;\">0.0426112</td><td style=\"text-align: right;\">-0.00611155</td><td style=\"text-align: right;\">-0.00563307</td><td style=\"text-align: right;\">0.0293313 </td><td style=\"text-align: right;\"> 0.105636  </td><td style=\"text-align: right;\"> 0.0834948 </td><td style=\"text-align: right;\"> 0.0740782 </td><td style=\"text-align: right;\">-0.0249514</td><td style=\"text-align: right;\"> 0.0595207 </td><td style=\"text-align: right;\"> 0.0248598</td><td style=\"text-align: right;\"> 0.140351 </td><td style=\"text-align: right;\"> 0.114733 </td><td style=\"text-align: right;\">-0.318065 </td><td style=\"text-align: right;\">-0.072272  </td><td style=\"text-align: right;\"> 0.0934077</td><td style=\"text-align: right;\"> 0.146649  </td><td style=\"text-align: right;\"> 0.0521905  </td><td style=\"text-align: right;\"> 0.0801455</td><td style=\"text-align: right;\"> 0.043397 </td><td style=\"text-align: right;\">-0.00409453 </td><td style=\"text-align: right;\">-0.0832192 </td><td style=\"text-align: right;\"> 0.0103609</td><td style=\"text-align: right;\">0.166136 </td><td style=\"text-align: right;\">0.0919939</td><td style=\"text-align: right;\">-0.1379    </td><td style=\"text-align: right;\">-0.0600828 </td><td style=\"text-align: right;\">-0.0552158</td><td style=\"text-align: right;\"> 0.100782  </td><td style=\"text-align: right;\">-0.0293267 </td><td style=\"text-align: right;\">-0.0929812 </td><td style=\"text-align: right;\">0.176569 </td><td style=\"text-align: right;\">-0.0461244  </td><td style=\"text-align: right;\"> 0.150539  </td><td style=\"text-align: right;\">-0.125302 </td><td style=\"text-align: right;\">-0.0113449</td><td style=\"text-align: right;\"> 0.0416436</td><td style=\"text-align: right;\"> 0.0206014 </td><td style=\"text-align: right;\"> 0.0150463 </td><td style=\"text-align: right;\">0.117921</td><td style=\"text-align: right;\">-0.132705  </td><td style=\"text-align: right;\"> 0.0384696 </td><td style=\"text-align: right;\">-0.0845191</td><td style=\"text-align: right;\">-0.0663007</td><td style=\"text-align: right;\"> 0.0916293 </td><td style=\"text-align: right;\">0.114714  </td><td style=\"text-align: right;\">-0.0375091</td><td style=\"text-align: right;\"> 0.0590261</td><td style=\"text-align: right;\"> 0.112139 </td><td style=\"text-align: right;\"> 0.0898901</td><td style=\"text-align: right;\">0.13437 </td></tr>\n",
              "<tr><td style=\"text-align: right;\"> 0.0448135</td><td style=\"text-align: right;\"> 0.0268367</td><td style=\"text-align: right;\">-0.041389  </td><td style=\"text-align: right;\">-0.222244 </td><td style=\"text-align: right;\"> 0.120744  </td><td style=\"text-align: right;\"> 0.146803 </td><td style=\"text-align: right;\"> 0.0245187 </td><td style=\"text-align: right;\"> 0.12185  </td><td style=\"text-align: right;\">-0.0924286</td><td style=\"text-align: right;\"> 0.0730477 </td><td style=\"text-align: right;\"> 0.072465   </td><td style=\"text-align: right;\">-0.0322673  </td><td style=\"text-align: right;\"> 0.168936 </td><td style=\"text-align: right;\">0.117897 </td><td style=\"text-align: right;\">-0.301179</td><td style=\"text-align: right;\">-0.0955756 </td><td style=\"text-align: right;\">-0.222926 </td><td style=\"text-align: right;\"> 0.015913  </td><td style=\"text-align: right;\">-0.0677408</td><td style=\"text-align: right;\"> 0.0336307</td><td style=\"text-align: right;\">-0.0610703</td><td style=\"text-align: right;\">0.0871536</td><td style=\"text-align: right;\">-0.118986 </td><td style=\"text-align: right;\"> 0.00573619</td><td style=\"text-align: right;\"> 0.0161131 </td><td style=\"text-align: right;\">0.218049 </td><td style=\"text-align: right;\">0.108246 </td><td style=\"text-align: right;\">-0.0746457 </td><td style=\"text-align: right;\"> 0.0529888</td><td style=\"text-align: right;\">0.0720157 </td><td style=\"text-align: right;\">-0.100289 </td><td style=\"text-align: right;\"> 0.132396 </td><td style=\"text-align: right;\"> 0.00735089</td><td style=\"text-align: right;\"> 0.0338664 </td><td style=\"text-align: right;\"> 0.0245989 </td><td style=\"text-align: right;\">-0.0180112 </td><td style=\"text-align: right;\"> 0.0289351  </td><td style=\"text-align: right;\"> 0.0629306</td><td style=\"text-align: right;\">-0.172905 </td><td style=\"text-align: right;\">-0.149966 </td><td style=\"text-align: right;\">0.142619 </td><td style=\"text-align: right;\">-0.0203257  </td><td style=\"text-align: right;\"> 0.0957242</td><td style=\"text-align: right;\">-0.127334 </td><td style=\"text-align: right;\"> 0.107091 </td><td style=\"text-align: right;\">-0.0653697 </td><td style=\"text-align: right;\">-0.0429829 </td><td style=\"text-align: right;\"> 0.0243518 </td><td style=\"text-align: right;\"> 0.0252113 </td><td style=\"text-align: right;\">-0.0576246</td><td style=\"text-align: right;\">0.0421303</td><td style=\"text-align: right;\">-0.0792305 </td><td style=\"text-align: right;\">-0.115267  </td><td style=\"text-align: right;\">0.115248  </td><td style=\"text-align: right;\"> 0.00833014</td><td style=\"text-align: right;\"> 0.0405547 </td><td style=\"text-align: right;\">-0.0177236 </td><td style=\"text-align: right;\">-0.0975792</td><td style=\"text-align: right;\"> 0.0275761 </td><td style=\"text-align: right;\"> 0.0296312</td><td style=\"text-align: right;\">-0.12626  </td><td style=\"text-align: right;\">-0.0291185</td><td style=\"text-align: right;\"> 0.0622913</td><td style=\"text-align: right;\">-0.0220574 </td><td style=\"text-align: right;\"> 0.0101686</td><td style=\"text-align: right;\">-0.0164771 </td><td style=\"text-align: right;\"> 0.0506873  </td><td style=\"text-align: right;\">-0.0821311</td><td style=\"text-align: right;\">-0.0140755</td><td style=\"text-align: right;\">-0.0544748  </td><td style=\"text-align: right;\">-0.0203488 </td><td style=\"text-align: right;\"> 0.0513709</td><td style=\"text-align: right;\">0.0580364</td><td style=\"text-align: right;\">0.0795346</td><td style=\"text-align: right;\">-0.0869272 </td><td style=\"text-align: right;\">-0.0409215 </td><td style=\"text-align: right;\">-0.0438301</td><td style=\"text-align: right;\"> 0.115661  </td><td style=\"text-align: right;\">-0.0264976 </td><td style=\"text-align: right;\">-0.0556639 </td><td style=\"text-align: right;\">0.0903335</td><td style=\"text-align: right;\"> 0.0112118  </td><td style=\"text-align: right;\">-0.0102206 </td><td style=\"text-align: right;\">-0.0314771</td><td style=\"text-align: right;\"> 0.122687 </td><td style=\"text-align: right;\"> 0.165598 </td><td style=\"text-align: right;\"> 0.0141705 </td><td style=\"text-align: right;\">-0.0358314 </td><td style=\"text-align: right;\">0.191328</td><td style=\"text-align: right;\"> 0.00432107</td><td style=\"text-align: right;\">-0.0581117 </td><td style=\"text-align: right;\">-0.0994176</td><td style=\"text-align: right;\"> 0.0111941</td><td style=\"text-align: right;\"> 0.0541737 </td><td style=\"text-align: right;\">0.0748523 </td><td style=\"text-align: right;\"> 0.121056 </td><td style=\"text-align: right;\">-0.0287245</td><td style=\"text-align: right;\"> 0.0767266</td><td style=\"text-align: right;\"> 0.0629905</td><td style=\"text-align: right;\">0.249427</td></tr>\n",
              "<tr><td style=\"text-align: right;\">-0.0434314</td><td style=\"text-align: right;\"> 0.110142 </td><td style=\"text-align: right;\">-0.0807967 </td><td style=\"text-align: right;\">-0.0777291</td><td style=\"text-align: right;\"> 0.197803  </td><td style=\"text-align: right;\"> 0.0514196</td><td style=\"text-align: right;\"> 0.0101292 </td><td style=\"text-align: right;\"> 0.113896 </td><td style=\"text-align: right;\">-0.104332 </td><td style=\"text-align: right;\">-0.0299247 </td><td style=\"text-align: right;\"> 0.112218   </td><td style=\"text-align: right;\">-0.162215   </td><td style=\"text-align: right;\"> 0.124983 </td><td style=\"text-align: right;\">0.0315656</td><td style=\"text-align: right;\">-0.276473</td><td style=\"text-align: right;\"> 0.00461141</td><td style=\"text-align: right;\">-0.106961 </td><td style=\"text-align: right;\">-0.0948646 </td><td style=\"text-align: right;\">-0.0778775</td><td style=\"text-align: right;\">-0.0674077</td><td style=\"text-align: right;\"> 0.0684454</td><td style=\"text-align: right;\">0.0203238</td><td style=\"text-align: right;\">-0.189771 </td><td style=\"text-align: right;\">-0.0547863 </td><td style=\"text-align: right;\"> 0.124024  </td><td style=\"text-align: right;\">0.232029 </td><td style=\"text-align: right;\">0.0719895</td><td style=\"text-align: right;\"> 0.00450374</td><td style=\"text-align: right;\"> 0.018733 </td><td style=\"text-align: right;\">0.095437  </td><td style=\"text-align: right;\">-0.210351 </td><td style=\"text-align: right;\"> 0.0976854</td><td style=\"text-align: right;\">-0.213162  </td><td style=\"text-align: right;\"> 0.0205025 </td><td style=\"text-align: right;\"> 0.055375  </td><td style=\"text-align: right;\">-0.00306292</td><td style=\"text-align: right;\">-0.0294203  </td><td style=\"text-align: right;\">-0.0389532</td><td style=\"text-align: right;\">-0.136664 </td><td style=\"text-align: right;\">-0.0947721</td><td style=\"text-align: right;\">0.0198297</td><td style=\"text-align: right;\"> 0.0722417  </td><td style=\"text-align: right;\"> 0.0284239</td><td style=\"text-align: right;\">-0.123292 </td><td style=\"text-align: right;\"> 0.0871437</td><td style=\"text-align: right;\">-0.0794691 </td><td style=\"text-align: right;\"> 0.0591344 </td><td style=\"text-align: right;\">-0.00645752</td><td style=\"text-align: right;\"> 0.0606283 </td><td style=\"text-align: right;\">-0.0395205</td><td style=\"text-align: right;\">0.111302 </td><td style=\"text-align: right;\">-0.0601834 </td><td style=\"text-align: right;\"> 0.0051727 </td><td style=\"text-align: right;\">0.0643721 </td><td style=\"text-align: right;\"> 0.127433  </td><td style=\"text-align: right;\"> 0.0813184 </td><td style=\"text-align: right;\">-0.00171668</td><td style=\"text-align: right;\">-0.129369 </td><td style=\"text-align: right;\">-0.0104512 </td><td style=\"text-align: right;\"> 0.0120005</td><td style=\"text-align: right;\">-0.0838505</td><td style=\"text-align: right;\">-0.138972 </td><td style=\"text-align: right;\"> 0.0329647</td><td style=\"text-align: right;\">-0.103079  </td><td style=\"text-align: right;\">-0.0344841</td><td style=\"text-align: right;\"> 0.0111698 </td><td style=\"text-align: right;\"> 0.0433577  </td><td style=\"text-align: right;\"> 0.0218582</td><td style=\"text-align: right;\"> 0.0689036</td><td style=\"text-align: right;\"> 0.0329226  </td><td style=\"text-align: right;\"> 0.0918003 </td><td style=\"text-align: right;\">-0.0588447</td><td style=\"text-align: right;\">0.0731509</td><td style=\"text-align: right;\">0.103002 </td><td style=\"text-align: right;\">-0.0140539 </td><td style=\"text-align: right;\">-0.0526498 </td><td style=\"text-align: right;\">-0.0524187</td><td style=\"text-align: right;\"> 0.0605579 </td><td style=\"text-align: right;\">-0.0534928 </td><td style=\"text-align: right;\">-0.22588   </td><td style=\"text-align: right;\">0.0810674</td><td style=\"text-align: right;\"> 0.0369188  </td><td style=\"text-align: right;\">-0.00110955</td><td style=\"text-align: right;\">-0.145511 </td><td style=\"text-align: right;\"> 0.131244 </td><td style=\"text-align: right;\"> 0.127428 </td><td style=\"text-align: right;\"> 0.123194  </td><td style=\"text-align: right;\"> 0.0914144 </td><td style=\"text-align: right;\">0.106937</td><td style=\"text-align: right;\">-0.095481  </td><td style=\"text-align: right;\">-0.0671283 </td><td style=\"text-align: right;\">-0.141717 </td><td style=\"text-align: right;\">-0.0209283</td><td style=\"text-align: right;\"> 0.145627  </td><td style=\"text-align: right;\">0.0773665 </td><td style=\"text-align: right;\"> 0.0771574</td><td style=\"text-align: right;\">-0.0313403</td><td style=\"text-align: right;\"> 0.0827002</td><td style=\"text-align: right;\"> 0.0526423</td><td style=\"text-align: right;\">0.308394</td></tr>\n",
              "<tr><td style=\"text-align: right;\"> 0.0948922</td><td style=\"text-align: right;\"> 0.0204123</td><td style=\"text-align: right;\">-0.0949369 </td><td style=\"text-align: right;\">-0.204162 </td><td style=\"text-align: right;\"> 0.0282906 </td><td style=\"text-align: right;\"> 0.130502 </td><td style=\"text-align: right;\">-0.00814744</td><td style=\"text-align: right;\"> 0.0634592</td><td style=\"text-align: right;\">-0.0213771</td><td style=\"text-align: right;\">-0.0304002 </td><td style=\"text-align: right;\"> 0.0783811  </td><td style=\"text-align: right;\">-0.0846078  </td><td style=\"text-align: right;\"> 0.252196 </td><td style=\"text-align: right;\">0.137491 </td><td style=\"text-align: right;\">-0.282936</td><td style=\"text-align: right;\">-0.104793  </td><td style=\"text-align: right;\">-0.130031 </td><td style=\"text-align: right;\">-0.0294458 </td><td style=\"text-align: right;\">-0.181405 </td><td style=\"text-align: right;\">-0.0394359</td><td style=\"text-align: right;\">-0.0895514</td><td style=\"text-align: right;\">0.0697571</td><td style=\"text-align: right;\">-0.0989122</td><td style=\"text-align: right;\"> 0.027687  </td><td style=\"text-align: right;\"> 0.0421187 </td><td style=\"text-align: right;\">0.132351 </td><td style=\"text-align: right;\">0.119573 </td><td style=\"text-align: right;\">-0.110815  </td><td style=\"text-align: right;\"> 0.0414641</td><td style=\"text-align: right;\">0.0466066 </td><td style=\"text-align: right;\">-0.098008 </td><td style=\"text-align: right;\"> 0.0444727</td><td style=\"text-align: right;\">-0.0561868 </td><td style=\"text-align: right;\"> 0.0325307 </td><td style=\"text-align: right;\">-0.0100402 </td><td style=\"text-align: right;\"> 0.0534961 </td><td style=\"text-align: right;\"> 0.0425478  </td><td style=\"text-align: right;\"> 0.0539023</td><td style=\"text-align: right;\">-0.0690035</td><td style=\"text-align: right;\">-0.199826 </td><td style=\"text-align: right;\">0.136864 </td><td style=\"text-align: right;\">-0.000225184</td><td style=\"text-align: right;\"> 0.0499661</td><td style=\"text-align: right;\">-0.0472109</td><td style=\"text-align: right;\"> 0.119043 </td><td style=\"text-align: right;\">-0.0254633 </td><td style=\"text-align: right;\">-0.00772158</td><td style=\"text-align: right;\">-0.0667895 </td><td style=\"text-align: right;\"> 0.0418457 </td><td style=\"text-align: right;\">-0.101228 </td><td style=\"text-align: right;\">0.086992 </td><td style=\"text-align: right;\"> 0.0177847 </td><td style=\"text-align: right;\">-0.0590584 </td><td style=\"text-align: right;\">0.0265282 </td><td style=\"text-align: right;\"> 0.0672194 </td><td style=\"text-align: right;\">-0.0193975 </td><td style=\"text-align: right;\"> 0.0588899 </td><td style=\"text-align: right;\">-0.065855 </td><td style=\"text-align: right;\">-0.0273266 </td><td style=\"text-align: right;\"> 0.096669 </td><td style=\"text-align: right;\">-0.157372 </td><td style=\"text-align: right;\">-0.0913142</td><td style=\"text-align: right;\">-0.0585208</td><td style=\"text-align: right;\">-0.0448676 </td><td style=\"text-align: right;\">-0.0186368</td><td style=\"text-align: right;\"> 0.0384271 </td><td style=\"text-align: right;\"> 0.0994642  </td><td style=\"text-align: right;\">-0.0770185</td><td style=\"text-align: right;\"> 0.0481026</td><td style=\"text-align: right;\"> 0.111827   </td><td style=\"text-align: right;\">-0.0214759 </td><td style=\"text-align: right;\"> 0.0311296</td><td style=\"text-align: right;\">0.0453999</td><td style=\"text-align: right;\">0.0567196</td><td style=\"text-align: right;\">-0.0695845 </td><td style=\"text-align: right;\">-0.0353951 </td><td style=\"text-align: right;\">-0.128061 </td><td style=\"text-align: right;\"> 0.0147839 </td><td style=\"text-align: right;\"> 0.00316812</td><td style=\"text-align: right;\">-0.0671395 </td><td style=\"text-align: right;\">0.133214 </td><td style=\"text-align: right;\">-0.034581   </td><td style=\"text-align: right;\"> 0.0322664 </td><td style=\"text-align: right;\">-0.129711 </td><td style=\"text-align: right;\"> 0.0739766</td><td style=\"text-align: right;\"> 0.110261 </td><td style=\"text-align: right;\"> 0.0583717 </td><td style=\"text-align: right;\"> 0.0137583 </td><td style=\"text-align: right;\">0.151874</td><td style=\"text-align: right;\"> 0.107435  </td><td style=\"text-align: right;\">-0.00249466</td><td style=\"text-align: right;\">-0.164237 </td><td style=\"text-align: right;\">-0.036797 </td><td style=\"text-align: right;\"> 0.0877891 </td><td style=\"text-align: right;\">0.163578  </td><td style=\"text-align: right;\"> 0.0260697</td><td style=\"text-align: right;\">-0.0238485</td><td style=\"text-align: right;\"> 0.12202  </td><td style=\"text-align: right;\"> 0.0313371</td><td style=\"text-align: right;\">0.18549 </td></tr>\n",
              "</tbody>\n",
              "</table>"
            ]
          },
          "metadata": {
            "tags": []
          }
        },
        {
          "output_type": "execute_result",
          "data": {
            "text/plain": [
              ""
            ]
          },
          "metadata": {
            "tags": []
          },
          "execution_count": 70
        }
      ]
    },
    {
      "cell_type": "code",
      "metadata": {
        "id": "Llgo_yZChNkU",
        "colab_type": "code",
        "colab": {}
      },
      "source": [
        "# Add aggregated word embeddings \n",
        "ext_reviews = reviews.cbind(review_vecs)\n",
        "# rename may be... all 'reviews' to 'news'\n",
        "# ext becaus ewe are extending the reviews df with the vectors"
      ],
      "execution_count": 0,
      "outputs": []
    },
    {
      "cell_type": "code",
      "metadata": {
        "id": "wCRqaA-suTlx",
        "colab_type": "code",
        "colab": {}
      },
      "source": [
        "ext_reviews[\"label_f\"]  = ext_reviews[\"label\"] .asfactor()"
      ],
      "execution_count": 0,
      "outputs": []
    },
    {
      "cell_type": "code",
      "metadata": {
        "id": "d73uj-4GhzKZ",
        "colab_type": "code",
        "colab": {}
      },
      "source": [
        "# Splitting to test train.. along with the review vecs is difficult without the 'Train' boolean column\n",
        "# hence redoing it from that stage..\n",
        "# so that we'll be able to do this following cell"
      ],
      "execution_count": 0,
      "outputs": []
    },
    {
      "cell_type": "code",
      "metadata": {
        "id": "6xGhP5nuhlW5",
        "colab_type": "code",
        "colab": {}
      },
      "source": [
        "ext_train = ext_reviews[ext_reviews[\"Train\"] == \"True\"]\n",
        "ext_test = ext_reviews[ext_reviews[\"Train\"] == \"True\"]"
      ],
      "execution_count": 0,
      "outputs": []
    },
    {
      "cell_type": "code",
      "metadata": {
        "id": "_YXUIUMyjoBy",
        "colab_type": "code",
        "colab": {}
      },
      "source": [
        "#review_vecs.names\n",
        "# had a 100 cols\n",
        "# may be more would give a better model ..?"
      ],
      "execution_count": 0,
      "outputs": []
    },
    {
      "cell_type": "code",
      "metadata": {
        "id": "zGtBQJT-jzTb",
        "colab_type": "code",
        "colab": {}
      },
      "source": [
        "predictors =  review_vecs.names"
      ],
      "execution_count": 0,
      "outputs": []
    },
    {
      "cell_type": "code",
      "metadata": {
        "id": "AB6ADqI1uFja",
        "colab_type": "code",
        "colab": {}
      },
      "source": [
        "response = 'label_f'"
      ],
      "execution_count": 0,
      "outputs": []
    },
    {
      "cell_type": "code",
      "metadata": {
        "id": "FiPk1R1rEYvN",
        "colab_type": "code",
        "colab": {}
      },
      "source": [
        "from h2o.automl import H2OAutoML"
      ],
      "execution_count": 0,
      "outputs": []
    },
    {
      "cell_type": "code",
      "metadata": {
        "id": "XWhtPh21lt7U",
        "colab_type": "code",
        "colab": {}
      },
      "source": [
        "x = ext_train.columns"
      ],
      "execution_count": 0,
      "outputs": []
    },
    {
      "cell_type": "code",
      "metadata": {
        "id": "L1AukzKrmP3s",
        "colab_type": "code",
        "colab": {}
      },
      "source": [
        "# x= [x for x in ext_train.columns if x not in ['label', 'Train']]"
      ],
      "execution_count": 0,
      "outputs": []
    },
    {
      "cell_type": "code",
      "metadata": {
        "id": "NiXINVZalvb5",
        "colab_type": "code",
        "outputId": "5edbaebc-c3a2-4616-d2bc-74bd863c11d5",
        "colab": {
          "base_uri": "https://localhost:8080/",
          "height": 54
        }
      },
      "source": [
        "print(x)"
      ],
      "execution_count": 0,
      "outputs": [
        {
          "output_type": "stream",
          "text": [
            "['label', 'text', 'Train', 'C1', 'C2', 'C3', 'C4', 'C5', 'C6', 'C7', 'C8', 'C9', 'C10', 'C11', 'C12', 'C13', 'C14', 'C15', 'C16', 'C17', 'C18', 'C19', 'C20', 'C21', 'C22', 'C23', 'C24', 'C25', 'C26', 'C27', 'C28', 'C29', 'C30', 'C31', 'C32', 'C33', 'C34', 'C35', 'C36', 'C37', 'C38', 'C39', 'C40', 'C41', 'C42', 'C43', 'C44', 'C45', 'C46', 'C47', 'C48', 'C49', 'C50', 'C51', 'C52', 'C53', 'C54', 'C55', 'C56', 'C57', 'C58', 'C59', 'C60', 'C61', 'C62', 'C63', 'C64', 'C65', 'C66', 'C67', 'C68', 'C69', 'C70', 'C71', 'C72', 'C73', 'C74', 'C75', 'C76', 'C77', 'C78', 'C79', 'C80', 'C81', 'C82', 'C83', 'C84', 'C85', 'C86', 'C87', 'C88', 'C89', 'C90', 'C91', 'C92', 'C93', 'C94', 'C95', 'C96', 'C97', 'C98', 'C99', 'C100', 'label_f']\n"
          ],
          "name": "stdout"
        }
      ]
    },
    {
      "cell_type": "code",
      "metadata": {
        "id": "aQemjfjfEEKP",
        "colab_type": "code",
        "colab": {}
      },
      "source": [
        "# Identify predictors and response\n",
        "x = ext_train.columns\n",
        "x = [x for x in ext_train.columns if x not in ['label', 'Train']] # remove columns that can leak data\n",
        "y = \"label_f\"\n",
        "# other_cols = \"\"\n",
        "# x.remove(y)\n",
        "\n",
        "# For binary classification, response should be a factor\n",
        "#train[y] = train[y].asfactor()\n",
        "#test[y] = test[y].asfactor()\n",
        "# Already done"
      ],
      "execution_count": 0,
      "outputs": []
    },
    {
      "cell_type": "code",
      "metadata": {
        "id": "Q-fkoBnYEEFR",
        "colab_type": "code",
        "outputId": "59860f48-f4d1-4cf3-c069-802d95744a82",
        "colab": {
          "base_uri": "https://localhost:8080/",
          "height": 67
        }
      },
      "source": [
        "%%time\n",
        "# Run AutoML for 20 base models (limited to 1 hour max runtime by default)\n",
        "aml = H2OAutoML(max_models=20, seed=1)#, max_runtime_secs =1200)\n",
        "aml.train(x=x, y=y, training_frame=ext_train)"
      ],
      "execution_count": 84,
      "outputs": [
        {
          "output_type": "stream",
          "text": [
            "AutoML progress: |████████████████████████████████████████████████████████| 100%\n",
            "CPU times: user 41.4 s, sys: 3.24 s, total: 44.7 s\n",
            "Wall time: 1h 58min 49s\n"
          ],
          "name": "stdout"
        }
      ]
    },
    {
      "cell_type": "code",
      "metadata": {
        "id": "p6DzSYbYED-a",
        "colab_type": "code",
        "colab": {
          "base_uri": "https://localhost:8080/",
          "height": 238
        },
        "outputId": "de6de731-50b2-4067-cdf5-93402b3aba62"
      },
      "source": [
        "# View the AutoML Leaderboard\n",
        "lb = aml.leaderboard\n",
        "lb.head(rows=lb.nrows)  # Print all rows instead of default (10 rows)"
      ],
      "execution_count": 85,
      "outputs": [
        {
          "output_type": "display_data",
          "data": {
            "text/html": [
              "<table>\n",
              "<thead>\n",
              "<tr><th>model_id                                           </th><th style=\"text-align: right;\">  mean_per_class_error</th><th style=\"text-align: right;\">  logloss</th><th style=\"text-align: right;\">    rmse</th><th style=\"text-align: right;\">     mse</th></tr>\n",
              "</thead>\n",
              "<tbody>\n",
              "<tr><td>StackedEnsemble_BestOfFamily_AutoML_20191024_103322</td><td style=\"text-align: right;\">              0.324476</td><td style=\"text-align: right;\">  1.15571</td><td style=\"text-align: right;\">0.595409</td><td style=\"text-align: right;\">0.354511</td></tr>\n",
              "<tr><td>StackedEnsemble_AllModels_AutoML_20191024_103322   </td><td style=\"text-align: right;\">              0.324684</td><td style=\"text-align: right;\">  1.1683 </td><td style=\"text-align: right;\">0.597048</td><td style=\"text-align: right;\">0.356466</td></tr>\n",
              "<tr><td>DRF_1_AutoML_20191024_103322                       </td><td style=\"text-align: right;\">              0.344187</td><td style=\"text-align: right;\">  1.82987</td><td style=\"text-align: right;\">0.677304</td><td style=\"text-align: right;\">0.458741</td></tr>\n",
              "<tr><td>GBM_1_AutoML_20191024_103322                       </td><td style=\"text-align: right;\">              0.346206</td><td style=\"text-align: right;\">  1.3771 </td><td style=\"text-align: right;\">0.60089 </td><td style=\"text-align: right;\">0.361069</td></tr>\n",
              "<tr><td>GBM_2_AutoML_20191024_103322                       </td><td style=\"text-align: right;\">              0.352272</td><td style=\"text-align: right;\">  1.38817</td><td style=\"text-align: right;\">0.607581</td><td style=\"text-align: right;\">0.369155</td></tr>\n",
              "<tr><td>GBM_3_AutoML_20191024_103322                       </td><td style=\"text-align: right;\">              0.357094</td><td style=\"text-align: right;\">  1.43522</td><td style=\"text-align: right;\">0.61599 </td><td style=\"text-align: right;\">0.379444</td></tr>\n",
              "<tr><td>GBM_4_AutoML_20191024_103322                       </td><td style=\"text-align: right;\">              0.365243</td><td style=\"text-align: right;\">  1.50979</td><td style=\"text-align: right;\">0.622982</td><td style=\"text-align: right;\">0.388106</td></tr>\n",
              "<tr><td>GBM_5_AutoML_20191024_103322                       </td><td style=\"text-align: right;\">              0.381277</td><td style=\"text-align: right;\">  1.51495</td><td style=\"text-align: right;\">0.704841</td><td style=\"text-align: right;\">0.496801</td></tr>\n",
              "<tr><td>DeepLearning_1_AutoML_20191024_103322              </td><td style=\"text-align: right;\">              0.414469</td><td style=\"text-align: right;\">  1.47603</td><td style=\"text-align: right;\">0.657731</td><td style=\"text-align: right;\">0.43261 </td></tr>\n",
              "<tr><td>GLM_grid_1_AutoML_20191024_103322_model_1          </td><td style=\"text-align: right;\">              0.460027</td><td style=\"text-align: right;\">  2.47755</td><td style=\"text-align: right;\">0.909008</td><td style=\"text-align: right;\">0.826295</td></tr>\n",
              "</tbody>\n",
              "</table>"
            ]
          },
          "metadata": {
            "tags": []
          }
        },
        {
          "output_type": "execute_result",
          "data": {
            "text/plain": [
              ""
            ]
          },
          "metadata": {
            "tags": []
          },
          "execution_count": 85
        }
      ]
    },
    {
      "cell_type": "code",
      "metadata": {
        "id": "LnchaGEVED8i",
        "colab_type": "code",
        "colab": {
          "base_uri": "https://localhost:8080/",
          "height": 336
        },
        "outputId": "4bfdd409-3551-48b2-b8c9-d5ad80c70317"
      },
      "source": [
        "#aml.leader.confusion_matrix()\n",
        "aml.leader.cross_validation_metrics_summary"
      ],
      "execution_count": 86,
      "outputs": [
        {
          "output_type": "stream",
          "text": [
            "Model Details\n",
            "=============\n",
            "H2OStackedEnsembleEstimator :  Stacked Ensemble\n",
            "Model Key:  StackedEnsemble_BestOfFamily_AutoML_20191024_103322\n",
            "\n",
            "No model summary for this model\n",
            "\n",
            "ModelMetricsMultinomialGLM: stackedensemble\n",
            "** Reported on train data. **\n",
            "\n",
            "MSE: 0.03958210109769638\n",
            "RMSE: 0.1989525096541795\n",
            "\n",
            "ModelMetricsMultinomialGLM: stackedensemble\n",
            "** Reported on cross-validation data. **\n",
            "\n",
            "MSE: 0.3545113889522778\n",
            "RMSE: 0.5954085899214738\n"
          ],
          "name": "stdout"
        },
        {
          "output_type": "execute_result",
          "data": {
            "text/plain": [
              "<bound method ModelBase.cross_validation_metrics_summary of >"
            ]
          },
          "metadata": {
            "tags": []
          },
          "execution_count": 86
        }
      ]
    },
    {
      "cell_type": "code",
      "metadata": {
        "id": "E1aEd__OED29",
        "colab_type": "code",
        "colab": {
          "base_uri": "https://localhost:8080/",
          "height": 706
        },
        "outputId": "2aab0db4-0388-40a5-b2df-b30f100591d7"
      },
      "source": [
        "aml.leader.confusion_matrix(ext_test) # "
      ],
      "execution_count": 87,
      "outputs": [
        {
          "output_type": "stream",
          "text": [
            "\n",
            "Confusion Matrix: Row labels: Actual class; Column labels: Predicted class\n"
          ],
          "name": "stdout"
        },
        {
          "output_type": "display_data",
          "data": {
            "text/html": [
              "<div>\n",
              "<style scoped>\n",
              "    .dataframe tbody tr th:only-of-type {\n",
              "        vertical-align: middle;\n",
              "    }\n",
              "\n",
              "    .dataframe tbody tr th {\n",
              "        vertical-align: top;\n",
              "    }\n",
              "\n",
              "    .dataframe thead th {\n",
              "        text-align: right;\n",
              "    }\n",
              "</style>\n",
              "<table border=\"1\" class=\"dataframe\">\n",
              "  <thead>\n",
              "    <tr style=\"text-align: right;\">\n",
              "      <th></th>\n",
              "      <th>0</th>\n",
              "      <th>1</th>\n",
              "      <th>2</th>\n",
              "      <th>3</th>\n",
              "      <th>4</th>\n",
              "      <th>5</th>\n",
              "      <th>6</th>\n",
              "      <th>7</th>\n",
              "      <th>8</th>\n",
              "      <th>9</th>\n",
              "      <th>10</th>\n",
              "      <th>11</th>\n",
              "      <th>12</th>\n",
              "      <th>13</th>\n",
              "      <th>14</th>\n",
              "      <th>15</th>\n",
              "      <th>16</th>\n",
              "      <th>17</th>\n",
              "      <th>18</th>\n",
              "      <th>19</th>\n",
              "      <th>115</th>\n",
              "      <th>460</th>\n",
              "      <th>Error</th>\n",
              "      <th>Rate</th>\n",
              "    </tr>\n",
              "  </thead>\n",
              "  <tbody>\n",
              "    <tr>\n",
              "      <th>0</th>\n",
              "      <td>380.0</td>\n",
              "      <td>0.0</td>\n",
              "      <td>0.0</td>\n",
              "      <td>0.0</td>\n",
              "      <td>0.0</td>\n",
              "      <td>0.0</td>\n",
              "      <td>0.0</td>\n",
              "      <td>10.0</td>\n",
              "      <td>0.0</td>\n",
              "      <td>0.0</td>\n",
              "      <td>0.0</td>\n",
              "      <td>0.0</td>\n",
              "      <td>0.0</td>\n",
              "      <td>0.0</td>\n",
              "      <td>0.0</td>\n",
              "      <td>0.0</td>\n",
              "      <td>0.0</td>\n",
              "      <td>0.0</td>\n",
              "      <td>0.0</td>\n",
              "      <td>0.0</td>\n",
              "      <td>0.0</td>\n",
              "      <td>0.0</td>\n",
              "      <td>0.025641</td>\n",
              "      <td>10 / 390</td>\n",
              "    </tr>\n",
              "    <tr>\n",
              "      <th>1</th>\n",
              "      <td>0.0</td>\n",
              "      <td>446.0</td>\n",
              "      <td>1.0</td>\n",
              "      <td>0.0</td>\n",
              "      <td>0.0</td>\n",
              "      <td>0.0</td>\n",
              "      <td>0.0</td>\n",
              "      <td>12.0</td>\n",
              "      <td>2.0</td>\n",
              "      <td>1.0</td>\n",
              "      <td>0.0</td>\n",
              "      <td>0.0</td>\n",
              "      <td>0.0</td>\n",
              "      <td>1.0</td>\n",
              "      <td>0.0</td>\n",
              "      <td>0.0</td>\n",
              "      <td>0.0</td>\n",
              "      <td>0.0</td>\n",
              "      <td>0.0</td>\n",
              "      <td>0.0</td>\n",
              "      <td>0.0</td>\n",
              "      <td>0.0</td>\n",
              "      <td>0.036717</td>\n",
              "      <td>17 / 463</td>\n",
              "    </tr>\n",
              "    <tr>\n",
              "      <th>2</th>\n",
              "      <td>0.0</td>\n",
              "      <td>1.0</td>\n",
              "      <td>460.0</td>\n",
              "      <td>0.0</td>\n",
              "      <td>0.0</td>\n",
              "      <td>0.0</td>\n",
              "      <td>0.0</td>\n",
              "      <td>19.0</td>\n",
              "      <td>0.0</td>\n",
              "      <td>0.0</td>\n",
              "      <td>0.0</td>\n",
              "      <td>0.0</td>\n",
              "      <td>0.0</td>\n",
              "      <td>0.0</td>\n",
              "      <td>0.0</td>\n",
              "      <td>0.0</td>\n",
              "      <td>0.0</td>\n",
              "      <td>0.0</td>\n",
              "      <td>0.0</td>\n",
              "      <td>0.0</td>\n",
              "      <td>0.0</td>\n",
              "      <td>0.0</td>\n",
              "      <td>0.041667</td>\n",
              "      <td>20 / 480</td>\n",
              "    </tr>\n",
              "    <tr>\n",
              "      <th>3</th>\n",
              "      <td>0.0</td>\n",
              "      <td>0.0</td>\n",
              "      <td>1.0</td>\n",
              "      <td>463.0</td>\n",
              "      <td>0.0</td>\n",
              "      <td>0.0</td>\n",
              "      <td>0.0</td>\n",
              "      <td>12.0</td>\n",
              "      <td>0.0</td>\n",
              "      <td>0.0</td>\n",
              "      <td>0.0</td>\n",
              "      <td>0.0</td>\n",
              "      <td>1.0</td>\n",
              "      <td>0.0</td>\n",
              "      <td>0.0</td>\n",
              "      <td>0.0</td>\n",
              "      <td>0.0</td>\n",
              "      <td>0.0</td>\n",
              "      <td>0.0</td>\n",
              "      <td>0.0</td>\n",
              "      <td>0.0</td>\n",
              "      <td>0.0</td>\n",
              "      <td>0.029350</td>\n",
              "      <td>14 / 477</td>\n",
              "    </tr>\n",
              "    <tr>\n",
              "      <th>4</th>\n",
              "      <td>0.0</td>\n",
              "      <td>0.0</td>\n",
              "      <td>0.0</td>\n",
              "      <td>0.0</td>\n",
              "      <td>434.0</td>\n",
              "      <td>0.0</td>\n",
              "      <td>0.0</td>\n",
              "      <td>20.0</td>\n",
              "      <td>0.0</td>\n",
              "      <td>0.0</td>\n",
              "      <td>0.0</td>\n",
              "      <td>0.0</td>\n",
              "      <td>0.0</td>\n",
              "      <td>0.0</td>\n",
              "      <td>0.0</td>\n",
              "      <td>0.0</td>\n",
              "      <td>0.0</td>\n",
              "      <td>0.0</td>\n",
              "      <td>0.0</td>\n",
              "      <td>0.0</td>\n",
              "      <td>0.0</td>\n",
              "      <td>0.0</td>\n",
              "      <td>0.044053</td>\n",
              "      <td>20 / 454</td>\n",
              "    </tr>\n",
              "    <tr>\n",
              "      <th>5</th>\n",
              "      <td>0.0</td>\n",
              "      <td>0.0</td>\n",
              "      <td>0.0</td>\n",
              "      <td>0.0</td>\n",
              "      <td>0.0</td>\n",
              "      <td>465.0</td>\n",
              "      <td>0.0</td>\n",
              "      <td>3.0</td>\n",
              "      <td>0.0</td>\n",
              "      <td>0.0</td>\n",
              "      <td>0.0</td>\n",
              "      <td>0.0</td>\n",
              "      <td>0.0</td>\n",
              "      <td>0.0</td>\n",
              "      <td>0.0</td>\n",
              "      <td>0.0</td>\n",
              "      <td>0.0</td>\n",
              "      <td>0.0</td>\n",
              "      <td>0.0</td>\n",
              "      <td>0.0</td>\n",
              "      <td>0.0</td>\n",
              "      <td>0.0</td>\n",
              "      <td>0.006410</td>\n",
              "      <td>3 / 468</td>\n",
              "    </tr>\n",
              "    <tr>\n",
              "      <th>6</th>\n",
              "      <td>0.0</td>\n",
              "      <td>0.0</td>\n",
              "      <td>0.0</td>\n",
              "      <td>0.0</td>\n",
              "      <td>0.0</td>\n",
              "      <td>0.0</td>\n",
              "      <td>453.0</td>\n",
              "      <td>6.0</td>\n",
              "      <td>0.0</td>\n",
              "      <td>0.0</td>\n",
              "      <td>0.0</td>\n",
              "      <td>0.0</td>\n",
              "      <td>0.0</td>\n",
              "      <td>0.0</td>\n",
              "      <td>0.0</td>\n",
              "      <td>0.0</td>\n",
              "      <td>0.0</td>\n",
              "      <td>0.0</td>\n",
              "      <td>0.0</td>\n",
              "      <td>0.0</td>\n",
              "      <td>0.0</td>\n",
              "      <td>0.0</td>\n",
              "      <td>0.013072</td>\n",
              "      <td>6 / 459</td>\n",
              "    </tr>\n",
              "    <tr>\n",
              "      <th>7</th>\n",
              "      <td>0.0</td>\n",
              "      <td>0.0</td>\n",
              "      <td>0.0</td>\n",
              "      <td>0.0</td>\n",
              "      <td>0.0</td>\n",
              "      <td>0.0</td>\n",
              "      <td>1.0</td>\n",
              "      <td>472.0</td>\n",
              "      <td>0.0</td>\n",
              "      <td>0.0</td>\n",
              "      <td>0.0</td>\n",
              "      <td>0.0</td>\n",
              "      <td>0.0</td>\n",
              "      <td>0.0</td>\n",
              "      <td>0.0</td>\n",
              "      <td>0.0</td>\n",
              "      <td>0.0</td>\n",
              "      <td>0.0</td>\n",
              "      <td>0.0</td>\n",
              "      <td>0.0</td>\n",
              "      <td>0.0</td>\n",
              "      <td>0.0</td>\n",
              "      <td>0.002114</td>\n",
              "      <td>1 / 473</td>\n",
              "    </tr>\n",
              "    <tr>\n",
              "      <th>8</th>\n",
              "      <td>0.0</td>\n",
              "      <td>0.0</td>\n",
              "      <td>0.0</td>\n",
              "      <td>0.0</td>\n",
              "      <td>1.0</td>\n",
              "      <td>0.0</td>\n",
              "      <td>0.0</td>\n",
              "      <td>12.0</td>\n",
              "      <td>467.0</td>\n",
              "      <td>0.0</td>\n",
              "      <td>0.0</td>\n",
              "      <td>0.0</td>\n",
              "      <td>0.0</td>\n",
              "      <td>0.0</td>\n",
              "      <td>0.0</td>\n",
              "      <td>0.0</td>\n",
              "      <td>0.0</td>\n",
              "      <td>0.0</td>\n",
              "      <td>0.0</td>\n",
              "      <td>0.0</td>\n",
              "      <td>0.0</td>\n",
              "      <td>0.0</td>\n",
              "      <td>0.027083</td>\n",
              "      <td>13 / 480</td>\n",
              "    </tr>\n",
              "    <tr>\n",
              "      <th>9</th>\n",
              "      <td>0.0</td>\n",
              "      <td>0.0</td>\n",
              "      <td>0.0</td>\n",
              "      <td>0.0</td>\n",
              "      <td>0.0</td>\n",
              "      <td>0.0</td>\n",
              "      <td>0.0</td>\n",
              "      <td>22.0</td>\n",
              "      <td>0.0</td>\n",
              "      <td>456.0</td>\n",
              "      <td>0.0</td>\n",
              "      <td>0.0</td>\n",
              "      <td>0.0</td>\n",
              "      <td>0.0</td>\n",
              "      <td>0.0</td>\n",
              "      <td>0.0</td>\n",
              "      <td>0.0</td>\n",
              "      <td>0.0</td>\n",
              "      <td>0.0</td>\n",
              "      <td>0.0</td>\n",
              "      <td>0.0</td>\n",
              "      <td>0.0</td>\n",
              "      <td>0.046025</td>\n",
              "      <td>22 / 478</td>\n",
              "    </tr>\n",
              "    <tr>\n",
              "      <th>10</th>\n",
              "      <td>0.0</td>\n",
              "      <td>0.0</td>\n",
              "      <td>0.0</td>\n",
              "      <td>0.0</td>\n",
              "      <td>0.0</td>\n",
              "      <td>0.0</td>\n",
              "      <td>0.0</td>\n",
              "      <td>13.0</td>\n",
              "      <td>0.0</td>\n",
              "      <td>0.0</td>\n",
              "      <td>478.0</td>\n",
              "      <td>0.0</td>\n",
              "      <td>0.0</td>\n",
              "      <td>0.0</td>\n",
              "      <td>0.0</td>\n",
              "      <td>0.0</td>\n",
              "      <td>0.0</td>\n",
              "      <td>0.0</td>\n",
              "      <td>0.0</td>\n",
              "      <td>0.0</td>\n",
              "      <td>0.0</td>\n",
              "      <td>0.0</td>\n",
              "      <td>0.026477</td>\n",
              "      <td>13 / 491</td>\n",
              "    </tr>\n",
              "    <tr>\n",
              "      <th>11</th>\n",
              "      <td>0.0</td>\n",
              "      <td>0.0</td>\n",
              "      <td>0.0</td>\n",
              "      <td>0.0</td>\n",
              "      <td>0.0</td>\n",
              "      <td>0.0</td>\n",
              "      <td>0.0</td>\n",
              "      <td>11.0</td>\n",
              "      <td>0.0</td>\n",
              "      <td>0.0</td>\n",
              "      <td>0.0</td>\n",
              "      <td>462.0</td>\n",
              "      <td>0.0</td>\n",
              "      <td>0.0</td>\n",
              "      <td>0.0</td>\n",
              "      <td>0.0</td>\n",
              "      <td>0.0</td>\n",
              "      <td>0.0</td>\n",
              "      <td>0.0</td>\n",
              "      <td>0.0</td>\n",
              "      <td>0.0</td>\n",
              "      <td>0.0</td>\n",
              "      <td>0.023256</td>\n",
              "      <td>11 / 473</td>\n",
              "    </tr>\n",
              "    <tr>\n",
              "      <th>12</th>\n",
              "      <td>0.0</td>\n",
              "      <td>0.0</td>\n",
              "      <td>0.0</td>\n",
              "      <td>0.0</td>\n",
              "      <td>0.0</td>\n",
              "      <td>0.0</td>\n",
              "      <td>1.0</td>\n",
              "      <td>13.0</td>\n",
              "      <td>0.0</td>\n",
              "      <td>0.0</td>\n",
              "      <td>0.0</td>\n",
              "      <td>0.0</td>\n",
              "      <td>450.0</td>\n",
              "      <td>0.0</td>\n",
              "      <td>0.0</td>\n",
              "      <td>0.0</td>\n",
              "      <td>0.0</td>\n",
              "      <td>0.0</td>\n",
              "      <td>0.0</td>\n",
              "      <td>0.0</td>\n",
              "      <td>0.0</td>\n",
              "      <td>0.0</td>\n",
              "      <td>0.030172</td>\n",
              "      <td>14 / 464</td>\n",
              "    </tr>\n",
              "    <tr>\n",
              "      <th>13</th>\n",
              "      <td>0.0</td>\n",
              "      <td>0.0</td>\n",
              "      <td>0.0</td>\n",
              "      <td>0.0</td>\n",
              "      <td>0.0</td>\n",
              "      <td>0.0</td>\n",
              "      <td>0.0</td>\n",
              "      <td>13.0</td>\n",
              "      <td>0.0</td>\n",
              "      <td>0.0</td>\n",
              "      <td>0.0</td>\n",
              "      <td>0.0</td>\n",
              "      <td>0.0</td>\n",
              "      <td>445.0</td>\n",
              "      <td>0.0</td>\n",
              "      <td>0.0</td>\n",
              "      <td>0.0</td>\n",
              "      <td>0.0</td>\n",
              "      <td>0.0</td>\n",
              "      <td>0.0</td>\n",
              "      <td>0.0</td>\n",
              "      <td>0.0</td>\n",
              "      <td>0.028384</td>\n",
              "      <td>13 / 458</td>\n",
              "    </tr>\n",
              "    <tr>\n",
              "      <th>14</th>\n",
              "      <td>0.0</td>\n",
              "      <td>0.0</td>\n",
              "      <td>0.0</td>\n",
              "      <td>0.0</td>\n",
              "      <td>0.0</td>\n",
              "      <td>0.0</td>\n",
              "      <td>0.0</td>\n",
              "      <td>12.0</td>\n",
              "      <td>0.0</td>\n",
              "      <td>0.0</td>\n",
              "      <td>0.0</td>\n",
              "      <td>0.0</td>\n",
              "      <td>0.0</td>\n",
              "      <td>0.0</td>\n",
              "      <td>483.0</td>\n",
              "      <td>0.0</td>\n",
              "      <td>0.0</td>\n",
              "      <td>0.0</td>\n",
              "      <td>0.0</td>\n",
              "      <td>0.0</td>\n",
              "      <td>0.0</td>\n",
              "      <td>0.0</td>\n",
              "      <td>0.024242</td>\n",
              "      <td>12 / 495</td>\n",
              "    </tr>\n",
              "    <tr>\n",
              "      <th>15</th>\n",
              "      <td>0.0</td>\n",
              "      <td>0.0</td>\n",
              "      <td>0.0</td>\n",
              "      <td>0.0</td>\n",
              "      <td>0.0</td>\n",
              "      <td>0.0</td>\n",
              "      <td>0.0</td>\n",
              "      <td>8.0</td>\n",
              "      <td>0.0</td>\n",
              "      <td>0.0</td>\n",
              "      <td>0.0</td>\n",
              "      <td>0.0</td>\n",
              "      <td>0.0</td>\n",
              "      <td>0.0</td>\n",
              "      <td>0.0</td>\n",
              "      <td>460.0</td>\n",
              "      <td>0.0</td>\n",
              "      <td>0.0</td>\n",
              "      <td>0.0</td>\n",
              "      <td>1.0</td>\n",
              "      <td>0.0</td>\n",
              "      <td>0.0</td>\n",
              "      <td>0.019190</td>\n",
              "      <td>9 / 469</td>\n",
              "    </tr>\n",
              "    <tr>\n",
              "      <th>16</th>\n",
              "      <td>0.0</td>\n",
              "      <td>0.0</td>\n",
              "      <td>0.0</td>\n",
              "      <td>0.0</td>\n",
              "      <td>0.0</td>\n",
              "      <td>0.0</td>\n",
              "      <td>0.0</td>\n",
              "      <td>12.0</td>\n",
              "      <td>0.0</td>\n",
              "      <td>0.0</td>\n",
              "      <td>0.0</td>\n",
              "      <td>0.0</td>\n",
              "      <td>0.0</td>\n",
              "      <td>0.0</td>\n",
              "      <td>0.0</td>\n",
              "      <td>0.0</td>\n",
              "      <td>434.0</td>\n",
              "      <td>0.0</td>\n",
              "      <td>0.0</td>\n",
              "      <td>0.0</td>\n",
              "      <td>0.0</td>\n",
              "      <td>0.0</td>\n",
              "      <td>0.026906</td>\n",
              "      <td>12 / 446</td>\n",
              "    </tr>\n",
              "    <tr>\n",
              "      <th>17</th>\n",
              "      <td>0.0</td>\n",
              "      <td>0.0</td>\n",
              "      <td>0.0</td>\n",
              "      <td>0.0</td>\n",
              "      <td>0.0</td>\n",
              "      <td>0.0</td>\n",
              "      <td>0.0</td>\n",
              "      <td>13.0</td>\n",
              "      <td>0.0</td>\n",
              "      <td>0.0</td>\n",
              "      <td>0.0</td>\n",
              "      <td>0.0</td>\n",
              "      <td>0.0</td>\n",
              "      <td>0.0</td>\n",
              "      <td>0.0</td>\n",
              "      <td>0.0</td>\n",
              "      <td>0.0</td>\n",
              "      <td>450.0</td>\n",
              "      <td>0.0</td>\n",
              "      <td>0.0</td>\n",
              "      <td>0.0</td>\n",
              "      <td>0.0</td>\n",
              "      <td>0.028078</td>\n",
              "      <td>13 / 463</td>\n",
              "    </tr>\n",
              "    <tr>\n",
              "      <th>18</th>\n",
              "      <td>0.0</td>\n",
              "      <td>0.0</td>\n",
              "      <td>0.0</td>\n",
              "      <td>0.0</td>\n",
              "      <td>0.0</td>\n",
              "      <td>0.0</td>\n",
              "      <td>0.0</td>\n",
              "      <td>8.0</td>\n",
              "      <td>0.0</td>\n",
              "      <td>0.0</td>\n",
              "      <td>0.0</td>\n",
              "      <td>0.0</td>\n",
              "      <td>0.0</td>\n",
              "      <td>0.0</td>\n",
              "      <td>0.0</td>\n",
              "      <td>0.0</td>\n",
              "      <td>0.0</td>\n",
              "      <td>1.0</td>\n",
              "      <td>371.0</td>\n",
              "      <td>0.0</td>\n",
              "      <td>0.0</td>\n",
              "      <td>0.0</td>\n",
              "      <td>0.023684</td>\n",
              "      <td>9 / 380</td>\n",
              "    </tr>\n",
              "    <tr>\n",
              "      <th>19</th>\n",
              "      <td>0.0</td>\n",
              "      <td>0.0</td>\n",
              "      <td>0.0</td>\n",
              "      <td>0.0</td>\n",
              "      <td>0.0</td>\n",
              "      <td>0.0</td>\n",
              "      <td>0.0</td>\n",
              "      <td>14.0</td>\n",
              "      <td>0.0</td>\n",
              "      <td>0.0</td>\n",
              "      <td>0.0</td>\n",
              "      <td>0.0</td>\n",
              "      <td>0.0</td>\n",
              "      <td>0.0</td>\n",
              "      <td>0.0</td>\n",
              "      <td>0.0</td>\n",
              "      <td>0.0</td>\n",
              "      <td>0.0</td>\n",
              "      <td>0.0</td>\n",
              "      <td>277.0</td>\n",
              "      <td>0.0</td>\n",
              "      <td>0.0</td>\n",
              "      <td>0.048110</td>\n",
              "      <td>14 / 291</td>\n",
              "    </tr>\n",
              "  </tbody>\n",
              "</table>\n",
              "</div>"
            ],
            "text/plain": [
              "        0      1      2      3      4  ...     19  115  460     Error      Rate\n",
              "0   380.0    0.0    0.0    0.0    0.0  ...    0.0  0.0  0.0  0.025641  10 / 390\n",
              "1     0.0  446.0    1.0    0.0    0.0  ...    0.0  0.0  0.0  0.036717  17 / 463\n",
              "2     0.0    1.0  460.0    0.0    0.0  ...    0.0  0.0  0.0  0.041667  20 / 480\n",
              "3     0.0    0.0    1.0  463.0    0.0  ...    0.0  0.0  0.0  0.029350  14 / 477\n",
              "4     0.0    0.0    0.0    0.0  434.0  ...    0.0  0.0  0.0  0.044053  20 / 454\n",
              "5     0.0    0.0    0.0    0.0    0.0  ...    0.0  0.0  0.0  0.006410   3 / 468\n",
              "6     0.0    0.0    0.0    0.0    0.0  ...    0.0  0.0  0.0  0.013072   6 / 459\n",
              "7     0.0    0.0    0.0    0.0    0.0  ...    0.0  0.0  0.0  0.002114   1 / 473\n",
              "8     0.0    0.0    0.0    0.0    1.0  ...    0.0  0.0  0.0  0.027083  13 / 480\n",
              "9     0.0    0.0    0.0    0.0    0.0  ...    0.0  0.0  0.0  0.046025  22 / 478\n",
              "10    0.0    0.0    0.0    0.0    0.0  ...    0.0  0.0  0.0  0.026477  13 / 491\n",
              "11    0.0    0.0    0.0    0.0    0.0  ...    0.0  0.0  0.0  0.023256  11 / 473\n",
              "12    0.0    0.0    0.0    0.0    0.0  ...    0.0  0.0  0.0  0.030172  14 / 464\n",
              "13    0.0    0.0    0.0    0.0    0.0  ...    0.0  0.0  0.0  0.028384  13 / 458\n",
              "14    0.0    0.0    0.0    0.0    0.0  ...    0.0  0.0  0.0  0.024242  12 / 495\n",
              "15    0.0    0.0    0.0    0.0    0.0  ...    1.0  0.0  0.0  0.019190   9 / 469\n",
              "16    0.0    0.0    0.0    0.0    0.0  ...    0.0  0.0  0.0  0.026906  12 / 446\n",
              "17    0.0    0.0    0.0    0.0    0.0  ...    0.0  0.0  0.0  0.028078  13 / 463\n",
              "18    0.0    0.0    0.0    0.0    0.0  ...    0.0  0.0  0.0  0.023684   9 / 380\n",
              "19    0.0    0.0    0.0    0.0    0.0  ...  277.0  0.0  0.0  0.048110  14 / 291\n",
              "\n",
              "[20 rows x 24 columns]"
            ]
          },
          "metadata": {
            "tags": []
          }
        },
        {
          "output_type": "stream",
          "text": [
            "\n",
            "See the whole table with table.as_data_frame()\n"
          ],
          "name": "stdout"
        },
        {
          "output_type": "execute_result",
          "data": {
            "text/plain": [
              ""
            ]
          },
          "metadata": {
            "tags": []
          },
          "execution_count": 87
        }
      ]
    },
    {
      "cell_type": "code",
      "metadata": {
        "id": "qORWMUvFWzHt",
        "colab_type": "code",
        "colab": {}
      },
      "source": [
        "con_mat = aml.leader.confusion_matrix(ext_test).as_data_frame()"
      ],
      "execution_count": 0,
      "outputs": []
    },
    {
      "cell_type": "code",
      "metadata": {
        "id": "saB-IpkTzXSe",
        "colab_type": "code",
        "colab": {
          "base_uri": "https://localhost:8080/",
          "height": 34
        },
        "outputId": "01acf252-08b5-4724-fee2-3cabaae8e99f"
      },
      "source": [
        "type(con_mat)"
      ],
      "execution_count": 97,
      "outputs": [
        {
          "output_type": "execute_result",
          "data": {
            "text/plain": [
              "pandas.core.frame.DataFrame"
            ]
          },
          "metadata": {
            "tags": []
          },
          "execution_count": 97
        }
      ]
    },
    {
      "cell_type": "code",
      "metadata": {
        "id": "btrQA8Dbzywa",
        "colab_type": "code",
        "colab": {
          "base_uri": "https://localhost:8080/",
          "height": 34
        },
        "outputId": "87095be2-b8f8-492b-bde2-b82bc6971ed5"
      },
      "source": [
        "con_mat.index # 23..?"
      ],
      "execution_count": 100,
      "outputs": [
        {
          "output_type": "execute_result",
          "data": {
            "text/plain": [
              "RangeIndex(start=0, stop=23, step=1)"
            ]
          },
          "metadata": {
            "tags": []
          },
          "execution_count": 100
        }
      ]
    },
    {
      "cell_type": "code",
      "metadata": {
        "id": "-VCZyhRw0Kjh",
        "colab_type": "code",
        "colab": {
          "base_uri": "https://localhost:8080/",
          "height": 34
        },
        "outputId": "156f6644-b705-4dcc-c219-e4774dcea47b"
      },
      "source": [
        "con_mat.iloc[19][19] #"
      ],
      "execution_count": 103,
      "outputs": [
        {
          "output_type": "execute_result",
          "data": {
            "text/plain": [
              "277.0"
            ]
          },
          "metadata": {
            "tags": []
          },
          "execution_count": 103
        }
      ]
    },
    {
      "cell_type": "code",
      "metadata": {
        "id": "Ir7U2ipU0ce1",
        "colab_type": "code",
        "colab": {
          "base_uri": "https://localhost:8080/",
          "height": 34
        },
        "outputId": "44eb3837-7c78-4fed-9149-b16aead0f99e"
      },
      "source": [
        "con_mat.iloc[19][22] #"
      ],
      "execution_count": 104,
      "outputs": [
        {
          "output_type": "execute_result",
          "data": {
            "text/plain": [
              "0.048109965635738834"
            ]
          },
          "metadata": {
            "tags": []
          },
          "execution_count": 104
        }
      ]
    },
    {
      "cell_type": "code",
      "metadata": {
        "id": "clJOJWiC092Z",
        "colab_type": "code",
        "colab": {
          "base_uri": "https://localhost:8080/",
          "height": 639
        },
        "outputId": "049fd50a-b06a-4df1-85d6-232095c8ab80"
      },
      "source": [
        "con_mat.iloc[0:20,0:20]"
      ],
      "execution_count": 115,
      "outputs": [
        {
          "output_type": "execute_result",
          "data": {
            "text/html": [
              "<div>\n",
              "<style scoped>\n",
              "    .dataframe tbody tr th:only-of-type {\n",
              "        vertical-align: middle;\n",
              "    }\n",
              "\n",
              "    .dataframe tbody tr th {\n",
              "        vertical-align: top;\n",
              "    }\n",
              "\n",
              "    .dataframe thead th {\n",
              "        text-align: right;\n",
              "    }\n",
              "</style>\n",
              "<table border=\"1\" class=\"dataframe\">\n",
              "  <thead>\n",
              "    <tr style=\"text-align: right;\">\n",
              "      <th></th>\n",
              "      <th>0</th>\n",
              "      <th>1</th>\n",
              "      <th>2</th>\n",
              "      <th>3</th>\n",
              "      <th>4</th>\n",
              "      <th>5</th>\n",
              "      <th>6</th>\n",
              "      <th>7</th>\n",
              "      <th>8</th>\n",
              "      <th>9</th>\n",
              "      <th>10</th>\n",
              "      <th>11</th>\n",
              "      <th>12</th>\n",
              "      <th>13</th>\n",
              "      <th>14</th>\n",
              "      <th>15</th>\n",
              "      <th>16</th>\n",
              "      <th>17</th>\n",
              "      <th>18</th>\n",
              "      <th>19</th>\n",
              "    </tr>\n",
              "  </thead>\n",
              "  <tbody>\n",
              "    <tr>\n",
              "      <th>0</th>\n",
              "      <td>380.0</td>\n",
              "      <td>0.0</td>\n",
              "      <td>0.0</td>\n",
              "      <td>0.0</td>\n",
              "      <td>0.0</td>\n",
              "      <td>0.0</td>\n",
              "      <td>0.0</td>\n",
              "      <td>10.0</td>\n",
              "      <td>0.0</td>\n",
              "      <td>0.0</td>\n",
              "      <td>0.0</td>\n",
              "      <td>0.0</td>\n",
              "      <td>0.0</td>\n",
              "      <td>0.0</td>\n",
              "      <td>0.0</td>\n",
              "      <td>0.0</td>\n",
              "      <td>0.0</td>\n",
              "      <td>0.0</td>\n",
              "      <td>0.0</td>\n",
              "      <td>0.0</td>\n",
              "    </tr>\n",
              "    <tr>\n",
              "      <th>1</th>\n",
              "      <td>0.0</td>\n",
              "      <td>446.0</td>\n",
              "      <td>1.0</td>\n",
              "      <td>0.0</td>\n",
              "      <td>0.0</td>\n",
              "      <td>0.0</td>\n",
              "      <td>0.0</td>\n",
              "      <td>12.0</td>\n",
              "      <td>2.0</td>\n",
              "      <td>1.0</td>\n",
              "      <td>0.0</td>\n",
              "      <td>0.0</td>\n",
              "      <td>0.0</td>\n",
              "      <td>1.0</td>\n",
              "      <td>0.0</td>\n",
              "      <td>0.0</td>\n",
              "      <td>0.0</td>\n",
              "      <td>0.0</td>\n",
              "      <td>0.0</td>\n",
              "      <td>0.0</td>\n",
              "    </tr>\n",
              "    <tr>\n",
              "      <th>2</th>\n",
              "      <td>0.0</td>\n",
              "      <td>1.0</td>\n",
              "      <td>460.0</td>\n",
              "      <td>0.0</td>\n",
              "      <td>0.0</td>\n",
              "      <td>0.0</td>\n",
              "      <td>0.0</td>\n",
              "      <td>19.0</td>\n",
              "      <td>0.0</td>\n",
              "      <td>0.0</td>\n",
              "      <td>0.0</td>\n",
              "      <td>0.0</td>\n",
              "      <td>0.0</td>\n",
              "      <td>0.0</td>\n",
              "      <td>0.0</td>\n",
              "      <td>0.0</td>\n",
              "      <td>0.0</td>\n",
              "      <td>0.0</td>\n",
              "      <td>0.0</td>\n",
              "      <td>0.0</td>\n",
              "    </tr>\n",
              "    <tr>\n",
              "      <th>3</th>\n",
              "      <td>0.0</td>\n",
              "      <td>0.0</td>\n",
              "      <td>1.0</td>\n",
              "      <td>463.0</td>\n",
              "      <td>0.0</td>\n",
              "      <td>0.0</td>\n",
              "      <td>0.0</td>\n",
              "      <td>12.0</td>\n",
              "      <td>0.0</td>\n",
              "      <td>0.0</td>\n",
              "      <td>0.0</td>\n",
              "      <td>0.0</td>\n",
              "      <td>1.0</td>\n",
              "      <td>0.0</td>\n",
              "      <td>0.0</td>\n",
              "      <td>0.0</td>\n",
              "      <td>0.0</td>\n",
              "      <td>0.0</td>\n",
              "      <td>0.0</td>\n",
              "      <td>0.0</td>\n",
              "    </tr>\n",
              "    <tr>\n",
              "      <th>4</th>\n",
              "      <td>0.0</td>\n",
              "      <td>0.0</td>\n",
              "      <td>0.0</td>\n",
              "      <td>0.0</td>\n",
              "      <td>434.0</td>\n",
              "      <td>0.0</td>\n",
              "      <td>0.0</td>\n",
              "      <td>20.0</td>\n",
              "      <td>0.0</td>\n",
              "      <td>0.0</td>\n",
              "      <td>0.0</td>\n",
              "      <td>0.0</td>\n",
              "      <td>0.0</td>\n",
              "      <td>0.0</td>\n",
              "      <td>0.0</td>\n",
              "      <td>0.0</td>\n",
              "      <td>0.0</td>\n",
              "      <td>0.0</td>\n",
              "      <td>0.0</td>\n",
              "      <td>0.0</td>\n",
              "    </tr>\n",
              "    <tr>\n",
              "      <th>5</th>\n",
              "      <td>0.0</td>\n",
              "      <td>0.0</td>\n",
              "      <td>0.0</td>\n",
              "      <td>0.0</td>\n",
              "      <td>0.0</td>\n",
              "      <td>465.0</td>\n",
              "      <td>0.0</td>\n",
              "      <td>3.0</td>\n",
              "      <td>0.0</td>\n",
              "      <td>0.0</td>\n",
              "      <td>0.0</td>\n",
              "      <td>0.0</td>\n",
              "      <td>0.0</td>\n",
              "      <td>0.0</td>\n",
              "      <td>0.0</td>\n",
              "      <td>0.0</td>\n",
              "      <td>0.0</td>\n",
              "      <td>0.0</td>\n",
              "      <td>0.0</td>\n",
              "      <td>0.0</td>\n",
              "    </tr>\n",
              "    <tr>\n",
              "      <th>6</th>\n",
              "      <td>0.0</td>\n",
              "      <td>0.0</td>\n",
              "      <td>0.0</td>\n",
              "      <td>0.0</td>\n",
              "      <td>0.0</td>\n",
              "      <td>0.0</td>\n",
              "      <td>453.0</td>\n",
              "      <td>6.0</td>\n",
              "      <td>0.0</td>\n",
              "      <td>0.0</td>\n",
              "      <td>0.0</td>\n",
              "      <td>0.0</td>\n",
              "      <td>0.0</td>\n",
              "      <td>0.0</td>\n",
              "      <td>0.0</td>\n",
              "      <td>0.0</td>\n",
              "      <td>0.0</td>\n",
              "      <td>0.0</td>\n",
              "      <td>0.0</td>\n",
              "      <td>0.0</td>\n",
              "    </tr>\n",
              "    <tr>\n",
              "      <th>7</th>\n",
              "      <td>0.0</td>\n",
              "      <td>0.0</td>\n",
              "      <td>0.0</td>\n",
              "      <td>0.0</td>\n",
              "      <td>0.0</td>\n",
              "      <td>0.0</td>\n",
              "      <td>1.0</td>\n",
              "      <td>472.0</td>\n",
              "      <td>0.0</td>\n",
              "      <td>0.0</td>\n",
              "      <td>0.0</td>\n",
              "      <td>0.0</td>\n",
              "      <td>0.0</td>\n",
              "      <td>0.0</td>\n",
              "      <td>0.0</td>\n",
              "      <td>0.0</td>\n",
              "      <td>0.0</td>\n",
              "      <td>0.0</td>\n",
              "      <td>0.0</td>\n",
              "      <td>0.0</td>\n",
              "    </tr>\n",
              "    <tr>\n",
              "      <th>8</th>\n",
              "      <td>0.0</td>\n",
              "      <td>0.0</td>\n",
              "      <td>0.0</td>\n",
              "      <td>0.0</td>\n",
              "      <td>1.0</td>\n",
              "      <td>0.0</td>\n",
              "      <td>0.0</td>\n",
              "      <td>12.0</td>\n",
              "      <td>467.0</td>\n",
              "      <td>0.0</td>\n",
              "      <td>0.0</td>\n",
              "      <td>0.0</td>\n",
              "      <td>0.0</td>\n",
              "      <td>0.0</td>\n",
              "      <td>0.0</td>\n",
              "      <td>0.0</td>\n",
              "      <td>0.0</td>\n",
              "      <td>0.0</td>\n",
              "      <td>0.0</td>\n",
              "      <td>0.0</td>\n",
              "    </tr>\n",
              "    <tr>\n",
              "      <th>9</th>\n",
              "      <td>0.0</td>\n",
              "      <td>0.0</td>\n",
              "      <td>0.0</td>\n",
              "      <td>0.0</td>\n",
              "      <td>0.0</td>\n",
              "      <td>0.0</td>\n",
              "      <td>0.0</td>\n",
              "      <td>22.0</td>\n",
              "      <td>0.0</td>\n",
              "      <td>456.0</td>\n",
              "      <td>0.0</td>\n",
              "      <td>0.0</td>\n",
              "      <td>0.0</td>\n",
              "      <td>0.0</td>\n",
              "      <td>0.0</td>\n",
              "      <td>0.0</td>\n",
              "      <td>0.0</td>\n",
              "      <td>0.0</td>\n",
              "      <td>0.0</td>\n",
              "      <td>0.0</td>\n",
              "    </tr>\n",
              "    <tr>\n",
              "      <th>10</th>\n",
              "      <td>0.0</td>\n",
              "      <td>0.0</td>\n",
              "      <td>0.0</td>\n",
              "      <td>0.0</td>\n",
              "      <td>0.0</td>\n",
              "      <td>0.0</td>\n",
              "      <td>0.0</td>\n",
              "      <td>13.0</td>\n",
              "      <td>0.0</td>\n",
              "      <td>0.0</td>\n",
              "      <td>478.0</td>\n",
              "      <td>0.0</td>\n",
              "      <td>0.0</td>\n",
              "      <td>0.0</td>\n",
              "      <td>0.0</td>\n",
              "      <td>0.0</td>\n",
              "      <td>0.0</td>\n",
              "      <td>0.0</td>\n",
              "      <td>0.0</td>\n",
              "      <td>0.0</td>\n",
              "    </tr>\n",
              "    <tr>\n",
              "      <th>11</th>\n",
              "      <td>0.0</td>\n",
              "      <td>0.0</td>\n",
              "      <td>0.0</td>\n",
              "      <td>0.0</td>\n",
              "      <td>0.0</td>\n",
              "      <td>0.0</td>\n",
              "      <td>0.0</td>\n",
              "      <td>11.0</td>\n",
              "      <td>0.0</td>\n",
              "      <td>0.0</td>\n",
              "      <td>0.0</td>\n",
              "      <td>462.0</td>\n",
              "      <td>0.0</td>\n",
              "      <td>0.0</td>\n",
              "      <td>0.0</td>\n",
              "      <td>0.0</td>\n",
              "      <td>0.0</td>\n",
              "      <td>0.0</td>\n",
              "      <td>0.0</td>\n",
              "      <td>0.0</td>\n",
              "    </tr>\n",
              "    <tr>\n",
              "      <th>12</th>\n",
              "      <td>0.0</td>\n",
              "      <td>0.0</td>\n",
              "      <td>0.0</td>\n",
              "      <td>0.0</td>\n",
              "      <td>0.0</td>\n",
              "      <td>0.0</td>\n",
              "      <td>1.0</td>\n",
              "      <td>13.0</td>\n",
              "      <td>0.0</td>\n",
              "      <td>0.0</td>\n",
              "      <td>0.0</td>\n",
              "      <td>0.0</td>\n",
              "      <td>450.0</td>\n",
              "      <td>0.0</td>\n",
              "      <td>0.0</td>\n",
              "      <td>0.0</td>\n",
              "      <td>0.0</td>\n",
              "      <td>0.0</td>\n",
              "      <td>0.0</td>\n",
              "      <td>0.0</td>\n",
              "    </tr>\n",
              "    <tr>\n",
              "      <th>13</th>\n",
              "      <td>0.0</td>\n",
              "      <td>0.0</td>\n",
              "      <td>0.0</td>\n",
              "      <td>0.0</td>\n",
              "      <td>0.0</td>\n",
              "      <td>0.0</td>\n",
              "      <td>0.0</td>\n",
              "      <td>13.0</td>\n",
              "      <td>0.0</td>\n",
              "      <td>0.0</td>\n",
              "      <td>0.0</td>\n",
              "      <td>0.0</td>\n",
              "      <td>0.0</td>\n",
              "      <td>445.0</td>\n",
              "      <td>0.0</td>\n",
              "      <td>0.0</td>\n",
              "      <td>0.0</td>\n",
              "      <td>0.0</td>\n",
              "      <td>0.0</td>\n",
              "      <td>0.0</td>\n",
              "    </tr>\n",
              "    <tr>\n",
              "      <th>14</th>\n",
              "      <td>0.0</td>\n",
              "      <td>0.0</td>\n",
              "      <td>0.0</td>\n",
              "      <td>0.0</td>\n",
              "      <td>0.0</td>\n",
              "      <td>0.0</td>\n",
              "      <td>0.0</td>\n",
              "      <td>12.0</td>\n",
              "      <td>0.0</td>\n",
              "      <td>0.0</td>\n",
              "      <td>0.0</td>\n",
              "      <td>0.0</td>\n",
              "      <td>0.0</td>\n",
              "      <td>0.0</td>\n",
              "      <td>483.0</td>\n",
              "      <td>0.0</td>\n",
              "      <td>0.0</td>\n",
              "      <td>0.0</td>\n",
              "      <td>0.0</td>\n",
              "      <td>0.0</td>\n",
              "    </tr>\n",
              "    <tr>\n",
              "      <th>15</th>\n",
              "      <td>0.0</td>\n",
              "      <td>0.0</td>\n",
              "      <td>0.0</td>\n",
              "      <td>0.0</td>\n",
              "      <td>0.0</td>\n",
              "      <td>0.0</td>\n",
              "      <td>0.0</td>\n",
              "      <td>8.0</td>\n",
              "      <td>0.0</td>\n",
              "      <td>0.0</td>\n",
              "      <td>0.0</td>\n",
              "      <td>0.0</td>\n",
              "      <td>0.0</td>\n",
              "      <td>0.0</td>\n",
              "      <td>0.0</td>\n",
              "      <td>460.0</td>\n",
              "      <td>0.0</td>\n",
              "      <td>0.0</td>\n",
              "      <td>0.0</td>\n",
              "      <td>1.0</td>\n",
              "    </tr>\n",
              "    <tr>\n",
              "      <th>16</th>\n",
              "      <td>0.0</td>\n",
              "      <td>0.0</td>\n",
              "      <td>0.0</td>\n",
              "      <td>0.0</td>\n",
              "      <td>0.0</td>\n",
              "      <td>0.0</td>\n",
              "      <td>0.0</td>\n",
              "      <td>12.0</td>\n",
              "      <td>0.0</td>\n",
              "      <td>0.0</td>\n",
              "      <td>0.0</td>\n",
              "      <td>0.0</td>\n",
              "      <td>0.0</td>\n",
              "      <td>0.0</td>\n",
              "      <td>0.0</td>\n",
              "      <td>0.0</td>\n",
              "      <td>434.0</td>\n",
              "      <td>0.0</td>\n",
              "      <td>0.0</td>\n",
              "      <td>0.0</td>\n",
              "    </tr>\n",
              "    <tr>\n",
              "      <th>17</th>\n",
              "      <td>0.0</td>\n",
              "      <td>0.0</td>\n",
              "      <td>0.0</td>\n",
              "      <td>0.0</td>\n",
              "      <td>0.0</td>\n",
              "      <td>0.0</td>\n",
              "      <td>0.0</td>\n",
              "      <td>13.0</td>\n",
              "      <td>0.0</td>\n",
              "      <td>0.0</td>\n",
              "      <td>0.0</td>\n",
              "      <td>0.0</td>\n",
              "      <td>0.0</td>\n",
              "      <td>0.0</td>\n",
              "      <td>0.0</td>\n",
              "      <td>0.0</td>\n",
              "      <td>0.0</td>\n",
              "      <td>450.0</td>\n",
              "      <td>0.0</td>\n",
              "      <td>0.0</td>\n",
              "    </tr>\n",
              "    <tr>\n",
              "      <th>18</th>\n",
              "      <td>0.0</td>\n",
              "      <td>0.0</td>\n",
              "      <td>0.0</td>\n",
              "      <td>0.0</td>\n",
              "      <td>0.0</td>\n",
              "      <td>0.0</td>\n",
              "      <td>0.0</td>\n",
              "      <td>8.0</td>\n",
              "      <td>0.0</td>\n",
              "      <td>0.0</td>\n",
              "      <td>0.0</td>\n",
              "      <td>0.0</td>\n",
              "      <td>0.0</td>\n",
              "      <td>0.0</td>\n",
              "      <td>0.0</td>\n",
              "      <td>0.0</td>\n",
              "      <td>0.0</td>\n",
              "      <td>1.0</td>\n",
              "      <td>371.0</td>\n",
              "      <td>0.0</td>\n",
              "    </tr>\n",
              "    <tr>\n",
              "      <th>19</th>\n",
              "      <td>0.0</td>\n",
              "      <td>0.0</td>\n",
              "      <td>0.0</td>\n",
              "      <td>0.0</td>\n",
              "      <td>0.0</td>\n",
              "      <td>0.0</td>\n",
              "      <td>0.0</td>\n",
              "      <td>14.0</td>\n",
              "      <td>0.0</td>\n",
              "      <td>0.0</td>\n",
              "      <td>0.0</td>\n",
              "      <td>0.0</td>\n",
              "      <td>0.0</td>\n",
              "      <td>0.0</td>\n",
              "      <td>0.0</td>\n",
              "      <td>0.0</td>\n",
              "      <td>0.0</td>\n",
              "      <td>0.0</td>\n",
              "      <td>0.0</td>\n",
              "      <td>277.0</td>\n",
              "    </tr>\n",
              "  </tbody>\n",
              "</table>\n",
              "</div>"
            ],
            "text/plain": [
              "        0      1      2      3      4  ...     15     16     17     18     19\n",
              "0   380.0    0.0    0.0    0.0    0.0  ...    0.0    0.0    0.0    0.0    0.0\n",
              "1     0.0  446.0    1.0    0.0    0.0  ...    0.0    0.0    0.0    0.0    0.0\n",
              "2     0.0    1.0  460.0    0.0    0.0  ...    0.0    0.0    0.0    0.0    0.0\n",
              "3     0.0    0.0    1.0  463.0    0.0  ...    0.0    0.0    0.0    0.0    0.0\n",
              "4     0.0    0.0    0.0    0.0  434.0  ...    0.0    0.0    0.0    0.0    0.0\n",
              "5     0.0    0.0    0.0    0.0    0.0  ...    0.0    0.0    0.0    0.0    0.0\n",
              "6     0.0    0.0    0.0    0.0    0.0  ...    0.0    0.0    0.0    0.0    0.0\n",
              "7     0.0    0.0    0.0    0.0    0.0  ...    0.0    0.0    0.0    0.0    0.0\n",
              "8     0.0    0.0    0.0    0.0    1.0  ...    0.0    0.0    0.0    0.0    0.0\n",
              "9     0.0    0.0    0.0    0.0    0.0  ...    0.0    0.0    0.0    0.0    0.0\n",
              "10    0.0    0.0    0.0    0.0    0.0  ...    0.0    0.0    0.0    0.0    0.0\n",
              "11    0.0    0.0    0.0    0.0    0.0  ...    0.0    0.0    0.0    0.0    0.0\n",
              "12    0.0    0.0    0.0    0.0    0.0  ...    0.0    0.0    0.0    0.0    0.0\n",
              "13    0.0    0.0    0.0    0.0    0.0  ...    0.0    0.0    0.0    0.0    0.0\n",
              "14    0.0    0.0    0.0    0.0    0.0  ...    0.0    0.0    0.0    0.0    0.0\n",
              "15    0.0    0.0    0.0    0.0    0.0  ...  460.0    0.0    0.0    0.0    1.0\n",
              "16    0.0    0.0    0.0    0.0    0.0  ...    0.0  434.0    0.0    0.0    0.0\n",
              "17    0.0    0.0    0.0    0.0    0.0  ...    0.0    0.0  450.0    0.0    0.0\n",
              "18    0.0    0.0    0.0    0.0    0.0  ...    0.0    0.0    1.0  371.0    0.0\n",
              "19    0.0    0.0    0.0    0.0    0.0  ...    0.0    0.0    0.0    0.0  277.0\n",
              "\n",
              "[20 rows x 20 columns]"
            ]
          },
          "metadata": {
            "tags": []
          },
          "execution_count": 115
        }
      ]
    },
    {
      "cell_type": "code",
      "metadata": {
        "id": "5io3MV1A0h_B",
        "colab_type": "code",
        "colab": {
          "base_uri": "https://localhost:8080/",
          "height": 34
        },
        "outputId": "58a44809-637e-4c7c-a54b-2e1e81c81be2"
      },
      "source": [
        "np.sum(np.diag(con_mat.iloc[0:20,0:20]))/(con_mat.iloc[0:20,0:20].values.sum()) # sum of diagnoal elements/ sum of all in the matrix # 38733477 & SO 53762743"
      ],
      "execution_count": 121,
      "outputs": [
        {
          "output_type": "execute_result",
          "data": {
            "text/plain": [
              "0.9728236853733981"
            ]
          },
          "metadata": {
            "tags": []
          },
          "execution_count": 121
        }
      ]
    },
    {
      "cell_type": "code",
      "metadata": {
        "id": "aUqReQMN3H2G",
        "colab_type": "code",
        "colab": {}
      },
      "source": [
        "# getting the absolute accuracy  as above"
      ],
      "execution_count": 0,
      "outputs": []
    },
    {
      "cell_type": "code",
      "metadata": {
        "id": "DFtbcpI4Hlic",
        "colab_type": "code",
        "colab": {}
      },
      "source": [
        "con_mat.to_csv('confusion_matrix.csv')"
      ],
      "execution_count": 0,
      "outputs": []
    },
    {
      "cell_type": "code",
      "metadata": {
        "id": "Y2qIqRIWHs9i",
        "colab_type": "code",
        "colab": {
          "base_uri": "https://localhost:8080/",
          "height": 343
        },
        "outputId": "43837a71-1e43-4a09-f46f-0be133627332"
      },
      "source": [
        "aml.leader.hit_ratio_table().as_data_frame() # SO 53762743"
      ],
      "execution_count": 96,
      "outputs": [
        {
          "output_type": "execute_result",
          "data": {
            "text/html": [
              "<div>\n",
              "<style scoped>\n",
              "    .dataframe tbody tr th:only-of-type {\n",
              "        vertical-align: middle;\n",
              "    }\n",
              "\n",
              "    .dataframe tbody tr th {\n",
              "        vertical-align: top;\n",
              "    }\n",
              "\n",
              "    .dataframe thead th {\n",
              "        text-align: right;\n",
              "    }\n",
              "</style>\n",
              "<table border=\"1\" class=\"dataframe\">\n",
              "  <thead>\n",
              "    <tr style=\"text-align: right;\">\n",
              "      <th></th>\n",
              "      <th>k</th>\n",
              "      <th>hit_ratio</th>\n",
              "    </tr>\n",
              "  </thead>\n",
              "  <tbody>\n",
              "    <tr>\n",
              "      <th>0</th>\n",
              "      <td>1</td>\n",
              "      <td>0.972824</td>\n",
              "    </tr>\n",
              "    <tr>\n",
              "      <th>1</th>\n",
              "      <td>2</td>\n",
              "      <td>0.975475</td>\n",
              "    </tr>\n",
              "    <tr>\n",
              "      <th>2</th>\n",
              "      <td>3</td>\n",
              "      <td>0.977684</td>\n",
              "    </tr>\n",
              "    <tr>\n",
              "      <th>3</th>\n",
              "      <td>4</td>\n",
              "      <td>0.980004</td>\n",
              "    </tr>\n",
              "    <tr>\n",
              "      <th>4</th>\n",
              "      <td>5</td>\n",
              "      <td>0.981330</td>\n",
              "    </tr>\n",
              "    <tr>\n",
              "      <th>5</th>\n",
              "      <td>6</td>\n",
              "      <td>0.983761</td>\n",
              "    </tr>\n",
              "    <tr>\n",
              "      <th>6</th>\n",
              "      <td>7</td>\n",
              "      <td>0.985086</td>\n",
              "    </tr>\n",
              "    <tr>\n",
              "      <th>7</th>\n",
              "      <td>8</td>\n",
              "      <td>0.986412</td>\n",
              "    </tr>\n",
              "    <tr>\n",
              "      <th>8</th>\n",
              "      <td>9</td>\n",
              "      <td>0.987738</td>\n",
              "    </tr>\n",
              "    <tr>\n",
              "      <th>9</th>\n",
              "      <td>10</td>\n",
              "      <td>0.988953</td>\n",
              "    </tr>\n",
              "  </tbody>\n",
              "</table>\n",
              "</div>"
            ],
            "text/plain": [
              "    k  hit_ratio\n",
              "0   1   0.972824\n",
              "1   2   0.975475\n",
              "2   3   0.977684\n",
              "3   4   0.980004\n",
              "4   5   0.981330\n",
              "5   6   0.983761\n",
              "6   7   0.985086\n",
              "7   8   0.986412\n",
              "8   9   0.987738\n",
              "9  10   0.988953"
            ]
          },
          "metadata": {
            "tags": []
          },
          "execution_count": 96
        }
      ]
    },
    {
      "cell_type": "code",
      "metadata": {
        "id": "GURO19r6xx_M",
        "colab_type": "code",
        "colab": {}
      },
      "source": [
        ""
      ],
      "execution_count": 0,
      "outputs": []
    }
  ]
}
