{
  "nbformat": 4,
  "nbformat_minor": 0,
  "metadata": {
    "colab": {
      "name": "H20_multiClass_newsGroups_AutoML_V5.ipynb",
      "provenance": [],
      "collapsed_sections": [],
      "include_colab_link": true
    },
    "kernelspec": {
      "name": "python3",
      "display_name": "Python 3"
    }
  },
  "cells": [
    {
      "cell_type": "markdown",
      "metadata": {
        "id": "view-in-github",
        "colab_type": "text"
      },
      "source": [
        "<a href=\"https://colab.research.google.com/github/ronykroy/NLP/blob/master/H20_multiClass_newsGroups_AutoML_V5.ipynb\" target=\"_parent\"><img src=\"https://colab.research.google.com/assets/colab-badge.svg\" alt=\"Open In Colab\"/></a>"
      ]
    },
    {
      "cell_type": "code",
      "metadata": {
        "id": "4h8LRTyotp7c",
        "colab_type": "code",
        "colab": {}
      },
      "source": [
        "# v3: removed the text column in x: predictors\n",
        "# TODO: apply the w2v for just the train.. then apply that leanred w2v model to the training/test set\n",
        "#todo w2v take a 100 more as the lenth of the vector"
      ],
      "execution_count": 0,
      "outputs": []
    },
    {
      "cell_type": "code",
      "metadata": {
        "id": "FfMSV-aHdf0h",
        "colab_type": "code",
        "outputId": "6889128e-6f21-4b27-f1dc-6dcf1994ad82",
        "colab": {
          "base_uri": "https://localhost:8080/",
          "height": 168
        }
      },
      "source": [
        "!apt-get install default-jre\n",
        "!java -version\n",
        "# install Java.. because.. there is nothing in this colab VM"
      ],
      "execution_count": 2,
      "outputs": [
        {
          "output_type": "stream",
          "text": [
            "Reading package lists... Done\n",
            "Building dependency tree       \n",
            "Reading state information... Done\n",
            "default-jre is already the newest version (2:1.11-68ubuntu1~18.04.1).\n",
            "default-jre set to manually installed.\n",
            "0 upgraded, 0 newly installed, 0 to remove and 28 not upgraded.\n",
            "openjdk version \"11.0.4\" 2019-07-16\n",
            "OpenJDK Runtime Environment (build 11.0.4+11-post-Ubuntu-1ubuntu218.04.3)\n",
            "OpenJDK 64-Bit Server VM (build 11.0.4+11-post-Ubuntu-1ubuntu218.04.3, mixed mode, sharing)\n"
          ],
          "name": "stdout"
        }
      ]
    },
    {
      "cell_type": "code",
      "metadata": {
        "id": "S4JgdiQodh-D",
        "colab_type": "code",
        "outputId": "1543a3ff-15eb-4d24-fa2a-abeddbef401a",
        "colab": {
          "base_uri": "https://localhost:8080/",
          "height": 336
        }
      },
      "source": [
        "! pip install h2o\n",
        "# H2O too to be installed SMH"
      ],
      "execution_count": 3,
      "outputs": [
        {
          "output_type": "stream",
          "text": [
            "Collecting h2o\n",
            "\u001b[?25l  Downloading https://files.pythonhosted.org/packages/64/38/78742b2b34718869e0918b678030e87e081d0aadf859a8356a5fa3840f56/h2o-3.26.0.8.tar.gz (123.6MB)\n",
            "\u001b[K     |████████████████████████████████| 123.6MB 35kB/s \n",
            "\u001b[?25hRequirement already satisfied: requests in /usr/local/lib/python3.6/dist-packages (from h2o) (2.21.0)\n",
            "Requirement already satisfied: tabulate in /usr/local/lib/python3.6/dist-packages (from h2o) (0.8.5)\n",
            "Requirement already satisfied: future in /usr/local/lib/python3.6/dist-packages (from h2o) (0.16.0)\n",
            "Collecting colorama>=0.3.8\n",
            "  Downloading https://files.pythonhosted.org/packages/4f/a6/728666f39bfff1719fc94c481890b2106837da9318031f71a8424b662e12/colorama-0.4.1-py2.py3-none-any.whl\n",
            "Requirement already satisfied: certifi>=2017.4.17 in /usr/local/lib/python3.6/dist-packages (from requests->h2o) (2019.9.11)\n",
            "Requirement already satisfied: idna<2.9,>=2.5 in /usr/local/lib/python3.6/dist-packages (from requests->h2o) (2.8)\n",
            "Requirement already satisfied: urllib3<1.25,>=1.21.1 in /usr/local/lib/python3.6/dist-packages (from requests->h2o) (1.24.3)\n",
            "Requirement already satisfied: chardet<3.1.0,>=3.0.2 in /usr/local/lib/python3.6/dist-packages (from requests->h2o) (3.0.4)\n",
            "Building wheels for collected packages: h2o\n",
            "  Building wheel for h2o (setup.py) ... \u001b[?25l\u001b[?25hdone\n",
            "  Created wheel for h2o: filename=h2o-3.26.0.8-py2.py3-none-any.whl size=123708939 sha256=e6b11647e685261fd68dc55a948a17e417e12050a3d7972920adcb9adae33d61\n",
            "  Stored in directory: /root/.cache/pip/wheels/f7/4c/2f/367de2996c0c2621a9e2e19624be0ea0e4b766df3cd597d916\n",
            "Successfully built h2o\n",
            "Installing collected packages: colorama, h2o\n",
            "Successfully installed colorama-0.4.1 h2o-3.26.0.8\n"
          ],
          "name": "stdout"
        }
      ]
    },
    {
      "cell_type": "code",
      "metadata": {
        "id": "66yG3tV0dnMC",
        "colab_type": "code",
        "colab": {}
      },
      "source": [
        "import h2o\n",
        "import pandas as pd\n",
        "import numpy as np\n",
        "from sklearn.model_selection import train_test_split"
      ],
      "execution_count": 0,
      "outputs": []
    },
    {
      "cell_type": "code",
      "metadata": {
        "id": "Y36AZbp5do3E",
        "colab_type": "code",
        "outputId": "cb9543e6-c9bc-43d4-b02e-0c0e6d2170ed",
        "colab": {
          "base_uri": "https://localhost:8080/",
          "height": 510
        }
      },
      "source": [
        "h2o.init(max_mem_size=\"4G\")"
      ],
      "execution_count": 5,
      "outputs": [
        {
          "output_type": "stream",
          "text": [
            "Checking whether there is an H2O instance running at http://localhost:54321 ..... not found.\n",
            "Attempting to start a local H2O server...\n",
            "  Java Version: openjdk version \"11.0.4\" 2019-07-16; OpenJDK Runtime Environment (build 11.0.4+11-post-Ubuntu-1ubuntu218.04.3); OpenJDK 64-Bit Server VM (build 11.0.4+11-post-Ubuntu-1ubuntu218.04.3, mixed mode, sharing)\n",
            "  Starting server from /usr/local/lib/python3.6/dist-packages/h2o/backend/bin/h2o.jar\n",
            "  Ice root: /tmp/tmphl96s7i5\n",
            "  JVM stdout: /tmp/tmphl96s7i5/h2o_unknownUser_started_from_python.out\n",
            "  JVM stderr: /tmp/tmphl96s7i5/h2o_unknownUser_started_from_python.err\n",
            "  Server is running at http://127.0.0.1:54321\n",
            "Connecting to H2O server at http://127.0.0.1:54321 ... successful.\n"
          ],
          "name": "stdout"
        },
        {
          "output_type": "display_data",
          "data": {
            "text/html": [
              "<div style=\"overflow:auto\"><table style=\"width:50%\"><tr><td>H2O cluster uptime:</td>\n",
              "<td>02 secs</td></tr>\n",
              "<tr><td>H2O cluster timezone:</td>\n",
              "<td>Etc/UTC</td></tr>\n",
              "<tr><td>H2O data parsing timezone:</td>\n",
              "<td>UTC</td></tr>\n",
              "<tr><td>H2O cluster version:</td>\n",
              "<td>3.26.0.8</td></tr>\n",
              "<tr><td>H2O cluster version age:</td>\n",
              "<td>10 days </td></tr>\n",
              "<tr><td>H2O cluster name:</td>\n",
              "<td>H2O_from_python_unknownUser_kekk9c</td></tr>\n",
              "<tr><td>H2O cluster total nodes:</td>\n",
              "<td>1</td></tr>\n",
              "<tr><td>H2O cluster free memory:</td>\n",
              "<td>4 Gb</td></tr>\n",
              "<tr><td>H2O cluster total cores:</td>\n",
              "<td>2</td></tr>\n",
              "<tr><td>H2O cluster allowed cores:</td>\n",
              "<td>2</td></tr>\n",
              "<tr><td>H2O cluster status:</td>\n",
              "<td>accepting new members, healthy</td></tr>\n",
              "<tr><td>H2O connection url:</td>\n",
              "<td>http://127.0.0.1:54321</td></tr>\n",
              "<tr><td>H2O connection proxy:</td>\n",
              "<td>{'http': None, 'https': None}</td></tr>\n",
              "<tr><td>H2O internal security:</td>\n",
              "<td>False</td></tr>\n",
              "<tr><td>H2O API Extensions:</td>\n",
              "<td>Amazon S3, XGBoost, Algos, AutoML, Core V3, TargetEncoder, Core V4</td></tr>\n",
              "<tr><td>Python version:</td>\n",
              "<td>3.6.8 final</td></tr></table></div>"
            ],
            "text/plain": [
              "--------------------------  ------------------------------------------------------------------\n",
              "H2O cluster uptime:         02 secs\n",
              "H2O cluster timezone:       Etc/UTC\n",
              "H2O data parsing timezone:  UTC\n",
              "H2O cluster version:        3.26.0.8\n",
              "H2O cluster version age:    10 days\n",
              "H2O cluster name:           H2O_from_python_unknownUser_kekk9c\n",
              "H2O cluster total nodes:    1\n",
              "H2O cluster free memory:    4 Gb\n",
              "H2O cluster total cores:    2\n",
              "H2O cluster allowed cores:  2\n",
              "H2O cluster status:         accepting new members, healthy\n",
              "H2O connection url:         http://127.0.0.1:54321\n",
              "H2O connection proxy:       {'http': None, 'https': None}\n",
              "H2O internal security:      False\n",
              "H2O API Extensions:         Amazon S3, XGBoost, Algos, AutoML, Core V3, TargetEncoder, Core V4\n",
              "Python version:             3.6.8 final\n",
              "--------------------------  ------------------------------------------------------------------"
            ]
          },
          "metadata": {
            "tags": []
          }
        }
      ]
    },
    {
      "cell_type": "code",
      "metadata": {
        "id": "kRt1xkd8dqNi",
        "colab_type": "code",
        "colab": {
          "base_uri": "https://localhost:8080/",
          "height": 84
        },
        "outputId": "b0c30c49-6d0b-47bd-d3c8-968e83c2b230"
      },
      "source": [
        "from sklearn.datasets import fetch_20newsgroups\n",
        "dataset = fetch_20newsgroups(shuffle=True, random_state=1, remove=('headers', 'footers', 'quotes'))\n",
        "documents = dataset.data"
      ],
      "execution_count": 6,
      "outputs": [
        {
          "output_type": "stream",
          "text": [
            "Downloading 20news dataset. This may take a few minutes.\n",
            "INFO:sklearn.datasets.twenty_newsgroups:Downloading 20news dataset. This may take a few minutes.\n",
            "Downloading dataset from https://ndownloader.figshare.com/files/5975967 (14 MB)\n",
            "INFO:sklearn.datasets.twenty_newsgroups:Downloading dataset from https://ndownloader.figshare.com/files/5975967 (14 MB)\n"
          ],
          "name": "stderr"
        }
      ]
    },
    {
      "cell_type": "code",
      "metadata": {
        "id": "vAewuduGdvvS",
        "colab_type": "code",
        "colab": {}
      },
      "source": [
        "df = pd.DataFrame({'label':dataset.target, 'text':dataset.data})\n",
        "df_trn, df_test = train_test_split(df, stratify = df['label'], test_size = 0.15, random_state = 11) "
      ],
      "execution_count": 0,
      "outputs": []
    },
    {
      "cell_type": "code",
      "metadata": {
        "id": "v9GCvPAqfilx",
        "colab_type": "code",
        "outputId": "6f45f5e0-0874-450a-c31e-4b8597f9cd1c",
        "colab": {
          "base_uri": "https://localhost:8080/",
          "height": 67
        }
      },
      "source": [
        "reviews = h2o.H2OFrame(df)\n",
        "reviews_train = h2o.H2OFrame(df_trn)\n",
        "reviews_test = h2o.H2OFrame(df_test)"
      ],
      "execution_count": 8,
      "outputs": [
        {
          "output_type": "stream",
          "text": [
            "Parse progress: |█████████████████████████████████████████████████████████| 100%\n",
            "Parse progress: |█████████████████████████████████████████████████████████| 100%\n",
            "Parse progress: |█████████████████████████████████████████████████████████| 100%\n"
          ],
          "name": "stdout"
        }
      ]
    },
    {
      "cell_type": "code",
      "metadata": {
        "id": "P3WnviL1eIJw",
        "colab_type": "code",
        "outputId": "422f9c9e-d502-4eaa-a809-03eb4685744a",
        "colab": {
          "base_uri": "https://localhost:8080/",
          "height": 129
        }
      },
      "source": [
        "reviews_train.head(2)"
      ],
      "execution_count": 9,
      "outputs": [
        {
          "output_type": "display_data",
          "data": {
            "text/html": [
              "<table>\n",
              "<thead>\n",
              "<tr><th style=\"text-align: right;\">  label</th><th>text  </th></tr>\n",
              "</thead>\n",
              "<tbody>\n",
              "<tr><td style=\"text-align: right;\">      0</td><td>In <lsran6INN14a@exodus.Eng.Sun.COM> emarsh@hernes-sun.Eng.Sun.COM (Eric \n",
              "\n",
              "\n",
              "\n",
              "\n",
              "\n",
              "\n",
              "\n",
              "\n",
              "\n",
              "\n",
              "\n",
              "Huh?  Please explain.  Is there a problem because I based my morality on \n",
              "something that COULD be wrong?  Gosh, there's a heck of a lot of stuff that I \n",
              "believe that COULD be wrong, and that comes from sources that COULD be wrong. \n",
              "What do you base your belief on atheism on?  Your knowledge and reasoning? \n",
              "COuldn't that be wrong?\n",
              "\n",
              "MAC\n",
              "--\n",
              "****************************************************************\n",
              "                                                    Michael A. Cobb\n",
              " \"...and I won't raise taxes on the middle     University of Illinois\n",
              "    class to pay for my programs.\"                 Champaign-Urbana\n",
              "          -Bill Clinton 3rd Debate             cobb@alexia.lis.uiuc.edu       </td></tr>\n",
              "<tr><td style=\"text-align: right;\">      6</td><td>Nintendo 8 bit system, power pad, light gun (zapper), 2 controllers\n",
              "\n",
              "Games: Supermario, duck hunt, power field, and wings.\n",
              "\n",
              "Asking $80.       </td></tr>\n",
              "</tbody>\n",
              "</table>"
            ]
          },
          "metadata": {
            "tags": []
          }
        },
        {
          "output_type": "execute_result",
          "data": {
            "text/plain": [
              ""
            ]
          },
          "metadata": {
            "tags": []
          },
          "execution_count": 9
        }
      ]
    },
    {
      "cell_type": "code",
      "metadata": {
        "id": "SjHHA5Gke6Px",
        "colab_type": "code",
        "colab": {}
      },
      "source": [
        "# Set Stop Words\n",
        "# The STOP WORDS we are importing are from the nltk package\n",
        "import pandas as pd\n",
        "import os\n",
        "\n",
        "# Use local data file or download from GitHub\n",
        "docker_data_path = \"/home/h2o/data/nlp/stopwords.csv\"\n",
        "if os.path.isfile(docker_data_path):\n",
        "  data_path = docker_data_path\n",
        "else:\n",
        "  data_path = \"https://raw.githubusercontent.com/h2oai/h2o-tutorials/master/h2o-world-2017/nlp/stopwords.csv\"\n",
        "\n",
        "STOP_WORDS = pd.read_csv(data_path, header=0)\n",
        "STOP_WORDS = list(STOP_WORDS['STOP_WORD'])"
      ],
      "execution_count": 0,
      "outputs": []
    },
    {
      "cell_type": "code",
      "metadata": {
        "id": "mXpsXLbrfGyN",
        "colab_type": "code",
        "colab": {}
      },
      "source": [
        "# TODO: review how effective this is in removing junk \\r \\n etc\n",
        "def tokenize(sentences, stop_word = STOP_WORDS):\n",
        "    tokenized = sentences.tokenize(\"\\\\W+\")\n",
        "    tokenized_lower = tokenized.tolower()\n",
        "    tokenized_filtered = tokenized_lower[(tokenized_lower.nchar() >= 2) | (tokenized_lower.isna()),:]\n",
        "    tokenized_words = tokenized_filtered[tokenized_filtered.grep(\"[0-9]\",invert=True,output_logical=True),:]\n",
        "    tokenized_words = tokenized_words[(tokenized_words.isna()) | (~ tokenized_words.isin(STOP_WORDS)),:]\n",
        "    return tokenized_words"
      ],
      "execution_count": 0,
      "outputs": []
    },
    {
      "cell_type": "code",
      "metadata": {
        "id": "6is87Ly4fKSZ",
        "colab_type": "code",
        "outputId": "4426d90f-4ff5-41fb-e014-864d26819ac6",
        "colab": {
          "base_uri": "https://localhost:8080/",
          "height": 50
        }
      },
      "source": [
        "%%time\n",
        "# Break reviews into sequence of words\n",
        "words_train = tokenize(reviews_train[\"text\"]) # to check against leakage here...\n",
        "words_test = tokenize(reviews_test[\"text\"]) "
      ],
      "execution_count": 12,
      "outputs": [
        {
          "output_type": "stream",
          "text": [
            "CPU times: user 7.14 s, sys: 128 ms, total: 7.27 s\n",
            "Wall time: 24.8 s\n"
          ],
          "name": "stdout"
        }
      ]
    },
    {
      "cell_type": "code",
      "metadata": {
        "id": "AN_ZlE70fp1y",
        "colab_type": "code",
        "outputId": "499de22f-3857-4a79-9bdb-31b3122fdb74",
        "colab": {
          "base_uri": "https://localhost:8080/",
          "height": 238
        }
      },
      "source": [
        "words_train.head()"
      ],
      "execution_count": 13,
      "outputs": [
        {
          "output_type": "display_data",
          "data": {
            "text/html": [
              "<table>\n",
              "<thead>\n",
              "<tr><th>C1    </th></tr>\n",
              "</thead>\n",
              "<tbody>\n",
              "<tr><td>exodus</td></tr>\n",
              "<tr><td>eng   </td></tr>\n",
              "<tr><td>sun   </td></tr>\n",
              "<tr><td>com   </td></tr>\n",
              "<tr><td>emarsh</td></tr>\n",
              "<tr><td>hernes</td></tr>\n",
              "<tr><td>sun   </td></tr>\n",
              "<tr><td>eng   </td></tr>\n",
              "<tr><td>sun   </td></tr>\n",
              "<tr><td>com   </td></tr>\n",
              "</tbody>\n",
              "</table>"
            ]
          },
          "metadata": {
            "tags": []
          }
        },
        {
          "output_type": "execute_result",
          "data": {
            "text/plain": [
              ""
            ]
          },
          "metadata": {
            "tags": []
          },
          "execution_count": 13
        }
      ]
    },
    {
      "cell_type": "code",
      "metadata": {
        "id": "t5pnBHOAfzua",
        "colab_type": "code",
        "outputId": "690f33b8-3de5-439b-f357-846e48629dfa",
        "colab": {
          "base_uri": "https://localhost:8080/",
          "height": 67
        }
      },
      "source": [
        "%%time\n",
        "# Train Word2Vec Model\n",
        "from h2o.estimators.word2vec import H2OWord2vecEstimator\n",
        "\n",
        "w2v_model = H2OWord2vecEstimator(vec_size = 200, model_id = \"w2v.hex\")\n",
        "w2v_model.train(training_frame=words_train) # train only on  the train_words  we just got"
      ],
      "execution_count": 14,
      "outputs": [
        {
          "output_type": "stream",
          "text": [
            "word2vec Model Build progress: |██████████████████████████████████████████| 100%\n",
            "CPU times: user 1.93 s, sys: 214 ms, total: 2.14 s\n",
            "Wall time: 4min 40s\n"
          ],
          "name": "stdout"
        }
      ]
    },
    {
      "cell_type": "code",
      "metadata": {
        "id": "wTE3aw2fgHWl",
        "colab_type": "code",
        "outputId": "da68abba-68c9-41e5-c78b-ad0a96f3c57f",
        "colab": {
          "base_uri": "https://localhost:8080/",
          "height": 101
        }
      },
      "source": [
        "# Sanity check - find synonyms for the word 'president'\n",
        "w2v_model.find_synonyms(\"president\", count = 5) "
      ],
      "execution_count": 15,
      "outputs": [
        {
          "output_type": "execute_result",
          "data": {
            "text/plain": [
              "OrderedDict([('mubarak', 0.7497212886810303),\n",
              "             ('yeltsin', 0.7413913011550903),\n",
              "             ('stephanopoulos', 0.7083085775375366),\n",
              "             ('miyazawa', 0.6971884369850159),\n",
              "             ('clinton', 0.6502059102058411)])"
            ]
          },
          "metadata": {
            "tags": []
          },
          "execution_count": 15
        }
      ]
    },
    {
      "cell_type": "code",
      "metadata": {
        "id": "PrRlKjA8hBl6",
        "colab_type": "code",
        "colab": {}
      },
      "source": [
        "# Calculate a vector for each review in each data set\n",
        "review_vecs_train = w2v_model.transform(words_train, aggregate_method = \"AVERAGE\")\n",
        "review_vecs_test = w2v_model.transform(words_test, aggregate_method = \"AVERAGE\")"
      ],
      "execution_count": 0,
      "outputs": []
    },
    {
      "cell_type": "code",
      "metadata": {
        "id": "jKXOFtkGhLv4",
        "colab_type": "code",
        "outputId": "491acaa3-4c34-45d9-812f-e31b635bc513",
        "colab": {
          "base_uri": "https://localhost:8080/",
          "height": 258
        }
      },
      "source": [
        "review_vecs_train"
      ],
      "execution_count": 17,
      "outputs": [
        {
          "output_type": "display_data",
          "data": {
            "text/html": [
              "<table>\n",
              "<thead>\n",
              "<tr><th style=\"text-align: right;\">         C1</th><th style=\"text-align: right;\">        C2</th><th style=\"text-align: right;\">         C3</th><th style=\"text-align: right;\">         C4</th><th style=\"text-align: right;\">         C5</th><th style=\"text-align: right;\">        C6</th><th style=\"text-align: right;\">         C7</th><th style=\"text-align: right;\">          C8</th><th style=\"text-align: right;\">        C9</th><th style=\"text-align: right;\">       C10</th><th style=\"text-align: right;\">        C11</th><th style=\"text-align: right;\">        C12</th><th style=\"text-align: right;\">        C13</th><th style=\"text-align: right;\">       C14</th><th style=\"text-align: right;\">       C15</th><th style=\"text-align: right;\">        C16</th><th style=\"text-align: right;\">        C17</th><th style=\"text-align: right;\">        C18</th><th style=\"text-align: right;\">         C19</th><th style=\"text-align: right;\">       C20</th><th style=\"text-align: right;\">       C21</th><th style=\"text-align: right;\">       C22</th><th style=\"text-align: right;\">       C23</th><th style=\"text-align: right;\">      C24</th><th style=\"text-align: right;\">        C25</th><th style=\"text-align: right;\">       C26</th><th style=\"text-align: right;\">      C27</th><th style=\"text-align: right;\">        C28</th><th style=\"text-align: right;\">        C29</th><th style=\"text-align: right;\">        C30</th><th style=\"text-align: right;\">        C31</th><th style=\"text-align: right;\">         C32</th><th style=\"text-align: right;\">         C33</th><th style=\"text-align: right;\">       C34</th><th style=\"text-align: right;\">        C35</th><th style=\"text-align: right;\">       C36</th><th style=\"text-align: right;\">        C37</th><th style=\"text-align: right;\">        C38</th><th style=\"text-align: right;\">        C39</th><th style=\"text-align: right;\">        C40</th><th style=\"text-align: right;\">        C41</th><th style=\"text-align: right;\">         C42</th><th style=\"text-align: right;\">        C43</th><th style=\"text-align: right;\">      C44</th><th style=\"text-align: right;\">        C45</th><th style=\"text-align: right;\">        C46</th><th style=\"text-align: right;\">       C47</th><th style=\"text-align: right;\">       C48</th><th style=\"text-align: right;\">         C49</th><th style=\"text-align: right;\">        C50</th><th style=\"text-align: right;\">       C51</th><th style=\"text-align: right;\">      C52</th><th style=\"text-align: right;\">         C53</th><th style=\"text-align: right;\">        C54</th><th style=\"text-align: right;\">      C55</th><th style=\"text-align: right;\">        C56</th><th style=\"text-align: right;\">       C57</th><th style=\"text-align: right;\">        C58</th><th style=\"text-align: right;\">       C59</th><th style=\"text-align: right;\">         C60</th><th style=\"text-align: right;\">        C61</th><th style=\"text-align: right;\">       C62</th><th style=\"text-align: right;\">        C63</th><th style=\"text-align: right;\">        C64</th><th style=\"text-align: right;\">        C65</th><th style=\"text-align: right;\">      C66</th><th style=\"text-align: right;\">       C67</th><th style=\"text-align: right;\">        C68</th><th style=\"text-align: right;\">      C69</th><th style=\"text-align: right;\">       C70</th><th style=\"text-align: right;\">        C71</th><th style=\"text-align: right;\">        C72</th><th style=\"text-align: right;\">        C73</th><th style=\"text-align: right;\">        C74</th><th style=\"text-align: right;\">       C75</th><th style=\"text-align: right;\">        C76</th><th style=\"text-align: right;\">       C77</th><th style=\"text-align: right;\">        C78</th><th style=\"text-align: right;\">       C79</th><th style=\"text-align: right;\">        C80</th><th style=\"text-align: right;\">        C81</th><th style=\"text-align: right;\">        C82</th><th style=\"text-align: right;\">         C83</th><th style=\"text-align: right;\">      C84</th><th style=\"text-align: right;\">      C85</th><th style=\"text-align: right;\">       C86</th><th style=\"text-align: right;\">        C87</th><th style=\"text-align: right;\">        C88</th><th style=\"text-align: right;\">       C89</th><th style=\"text-align: right;\">        C90</th><th style=\"text-align: right;\">        C91</th><th style=\"text-align: right;\">       C92</th><th style=\"text-align: right;\">        C93</th><th style=\"text-align: right;\">       C94</th><th style=\"text-align: right;\">        C95</th><th style=\"text-align: right;\">        C96</th><th style=\"text-align: right;\">         C97</th><th style=\"text-align: right;\">        C98</th><th style=\"text-align: right;\">        C99</th><th style=\"text-align: right;\">      C100</th><th style=\"text-align: right;\">      C101</th><th style=\"text-align: right;\">      C102</th><th style=\"text-align: right;\">     C103</th><th style=\"text-align: right;\">      C104</th><th style=\"text-align: right;\">       C105</th><th style=\"text-align: right;\">      C106</th><th style=\"text-align: right;\">     C107</th><th style=\"text-align: right;\">      C108</th><th style=\"text-align: right;\">      C109</th><th style=\"text-align: right;\">      C110</th><th style=\"text-align: right;\">      C111</th><th style=\"text-align: right;\">       C112</th><th style=\"text-align: right;\">       C113</th><th style=\"text-align: right;\">      C114</th><th style=\"text-align: right;\">      C115</th><th style=\"text-align: right;\">     C116</th><th style=\"text-align: right;\">      C117</th><th style=\"text-align: right;\">      C118</th><th style=\"text-align: right;\">        C119</th><th style=\"text-align: right;\">      C120</th><th style=\"text-align: right;\">      C121</th><th style=\"text-align: right;\">       C122</th><th style=\"text-align: right;\">       C123</th><th style=\"text-align: right;\">       C124</th><th style=\"text-align: right;\">        C125</th><th style=\"text-align: right;\">       C126</th><th style=\"text-align: right;\">       C127</th><th style=\"text-align: right;\">      C128</th><th style=\"text-align: right;\">       C129</th><th style=\"text-align: right;\">    C130</th><th style=\"text-align: right;\">       C131</th><th style=\"text-align: right;\">      C132</th><th style=\"text-align: right;\">      C133</th><th style=\"text-align: right;\">       C134</th><th style=\"text-align: right;\">      C135</th><th style=\"text-align: right;\">      C136</th><th style=\"text-align: right;\">     C137</th><th style=\"text-align: right;\">       C138</th><th style=\"text-align: right;\">       C139</th><th style=\"text-align: right;\">      C140</th><th style=\"text-align: right;\">       C141</th><th style=\"text-align: right;\">       C142</th><th style=\"text-align: right;\">       C143</th><th style=\"text-align: right;\">       C144</th><th style=\"text-align: right;\">      C145</th><th style=\"text-align: right;\">      C146</th><th style=\"text-align: right;\">       C147</th><th style=\"text-align: right;\">        C148</th><th style=\"text-align: right;\">      C149</th><th style=\"text-align: right;\">       C150</th><th style=\"text-align: right;\">       C151</th><th style=\"text-align: right;\">      C152</th><th style=\"text-align: right;\">       C153</th><th style=\"text-align: right;\">      C154</th><th style=\"text-align: right;\">        C155</th><th style=\"text-align: right;\">       C156</th><th style=\"text-align: right;\">       C157</th><th style=\"text-align: right;\">       C158</th><th style=\"text-align: right;\">       C159</th><th style=\"text-align: right;\">      C160</th><th style=\"text-align: right;\">      C161</th><th style=\"text-align: right;\">       C162</th><th style=\"text-align: right;\">        C163</th><th style=\"text-align: right;\">       C164</th><th style=\"text-align: right;\">       C165</th><th style=\"text-align: right;\">       C166</th><th style=\"text-align: right;\">     C167</th><th style=\"text-align: right;\">       C168</th><th style=\"text-align: right;\">        C169</th><th style=\"text-align: right;\">      C170</th><th style=\"text-align: right;\">      C171</th><th style=\"text-align: right;\">      C172</th><th style=\"text-align: right;\">      C173</th><th style=\"text-align: right;\">      C174</th><th style=\"text-align: right;\">      C175</th><th style=\"text-align: right;\">       C176</th><th style=\"text-align: right;\">      C177</th><th style=\"text-align: right;\">      C178</th><th style=\"text-align: right;\">        C179</th><th style=\"text-align: right;\">      C180</th><th style=\"text-align: right;\">      C181</th><th style=\"text-align: right;\">       C182</th><th style=\"text-align: right;\">     C183</th><th style=\"text-align: right;\">       C184</th><th style=\"text-align: right;\">      C185</th><th style=\"text-align: right;\">      C186</th><th style=\"text-align: right;\">      C187</th><th style=\"text-align: right;\">       C188</th><th style=\"text-align: right;\">      C189</th><th style=\"text-align: right;\">       C190</th><th style=\"text-align: right;\">       C191</th><th style=\"text-align: right;\">        C192</th><th style=\"text-align: right;\">       C193</th><th style=\"text-align: right;\">      C194</th><th style=\"text-align: right;\">       C195</th><th style=\"text-align: right;\">       C196</th><th style=\"text-align: right;\">      C197</th><th style=\"text-align: right;\">     C198</th><th style=\"text-align: right;\">       C199</th><th style=\"text-align: right;\">       C200</th></tr>\n",
              "</thead>\n",
              "<tbody>\n",
              "<tr><td style=\"text-align: right;\">-0.158377  </td><td style=\"text-align: right;\"> 0.0942881</td><td style=\"text-align: right;\">-0.0483496 </td><td style=\"text-align: right;\">-0.0180819 </td><td style=\"text-align: right;\">-0.0351723 </td><td style=\"text-align: right;\">-0.144311 </td><td style=\"text-align: right;\"> 0.0447766 </td><td style=\"text-align: right;\">-0.0350037  </td><td style=\"text-align: right;\">-0.0143421</td><td style=\"text-align: right;\"> 0.0839209</td><td style=\"text-align: right;\"> 0.0427587 </td><td style=\"text-align: right;\">-0.00205427</td><td style=\"text-align: right;\"> 0.0902803 </td><td style=\"text-align: right;\">-0.0264904</td><td style=\"text-align: right;\">-0.0308397</td><td style=\"text-align: right;\"> 0.0291451 </td><td style=\"text-align: right;\"> 0.0372268 </td><td style=\"text-align: right;\"> 0.0310375 </td><td style=\"text-align: right;\"> 0.107697   </td><td style=\"text-align: right;\"> 0.0520165</td><td style=\"text-align: right;\">-0.0764475</td><td style=\"text-align: right;\">-0.100616 </td><td style=\"text-align: right;\">0.0621047 </td><td style=\"text-align: right;\">0.0925142</td><td style=\"text-align: right;\"> 0.0186486 </td><td style=\"text-align: right;\">-0.0758172</td><td style=\"text-align: right;\">0.0823149</td><td style=\"text-align: right;\">-0.072319  </td><td style=\"text-align: right;\">-0.180096  </td><td style=\"text-align: right;\">-0.0634054 </td><td style=\"text-align: right;\"> 0.00225585</td><td style=\"text-align: right;\"> 0.0287955  </td><td style=\"text-align: right;\"> 0.00282659 </td><td style=\"text-align: right;\">-0.118607 </td><td style=\"text-align: right;\">-0.027938  </td><td style=\"text-align: right;\"> 0.0508658</td><td style=\"text-align: right;\"> 0.0385519 </td><td style=\"text-align: right;\">-0.083683  </td><td style=\"text-align: right;\"> 0.0673957 </td><td style=\"text-align: right;\"> 0.0528579 </td><td style=\"text-align: right;\">-0.0299388 </td><td style=\"text-align: right;\"> 0.136309   </td><td style=\"text-align: right;\"> 0.0364779 </td><td style=\"text-align: right;\">0.0228412</td><td style=\"text-align: right;\"> 0.0779619 </td><td style=\"text-align: right;\">-0.049085  </td><td style=\"text-align: right;\"> 0.0378171</td><td style=\"text-align: right;\">-0.029006 </td><td style=\"text-align: right;\">-0.0103565  </td><td style=\"text-align: right;\">-0.0106277 </td><td style=\"text-align: right;\">-0.068934 </td><td style=\"text-align: right;\">0.138639 </td><td style=\"text-align: right;\">-0.11138    </td><td style=\"text-align: right;\"> 0.0349748 </td><td style=\"text-align: right;\">0.055441 </td><td style=\"text-align: right;\"> 0.0998898 </td><td style=\"text-align: right;\">-0.0433927</td><td style=\"text-align: right;\"> 0.00742945</td><td style=\"text-align: right;\">-0.0174346</td><td style=\"text-align: right;\">-0.0359516  </td><td style=\"text-align: right;\">-0.0116652 </td><td style=\"text-align: right;\">-0.017277 </td><td style=\"text-align: right;\">-0.0299007 </td><td style=\"text-align: right;\">-0.00572967</td><td style=\"text-align: right;\">-0.0221933 </td><td style=\"text-align: right;\">0.0234234</td><td style=\"text-align: right;\"> 0.055083 </td><td style=\"text-align: right;\">-0.00682111</td><td style=\"text-align: right;\">0.0647923</td><td style=\"text-align: right;\"> 0.019742 </td><td style=\"text-align: right;\">-0.0125749 </td><td style=\"text-align: right;\">-0.0813432 </td><td style=\"text-align: right;\"> 0.00199735</td><td style=\"text-align: right;\"> 0.0597675 </td><td style=\"text-align: right;\">-0.0511741</td><td style=\"text-align: right;\">-0.0943008 </td><td style=\"text-align: right;\"> 0.069585 </td><td style=\"text-align: right;\">-0.0180594 </td><td style=\"text-align: right;\">-0.073225 </td><td style=\"text-align: right;\">-0.0993245 </td><td style=\"text-align: right;\">-0.157401  </td><td style=\"text-align: right;\"> 0.0197472 </td><td style=\"text-align: right;\"> 0.0730079  </td><td style=\"text-align: right;\">0.0555541</td><td style=\"text-align: right;\">0.0656919</td><td style=\"text-align: right;\"> 0.0261537</td><td style=\"text-align: right;\"> 0.0796379 </td><td style=\"text-align: right;\">-0.119858  </td><td style=\"text-align: right;\">-0.0052979</td><td style=\"text-align: right;\"> 0.0147112 </td><td style=\"text-align: right;\">-0.119757  </td><td style=\"text-align: right;\"> 0.0303199</td><td style=\"text-align: right;\"> 0.112806  </td><td style=\"text-align: right;\"> 0.0563812</td><td style=\"text-align: right;\"> 0.0742114 </td><td style=\"text-align: right;\"> 0.0561358 </td><td style=\"text-align: right;\"> 0.0644193  </td><td style=\"text-align: right;\"> 0.0557822 </td><td style=\"text-align: right;\">-0.0412288 </td><td style=\"text-align: right;\">-0.0638677</td><td style=\"text-align: right;\"> 0.0762278</td><td style=\"text-align: right;\">-0.130016 </td><td style=\"text-align: right;\">0.0436997</td><td style=\"text-align: right;\"> 0.040398 </td><td style=\"text-align: right;\"> 0.0611341 </td><td style=\"text-align: right;\">0.0821323 </td><td style=\"text-align: right;\">0.098043 </td><td style=\"text-align: right;\">-0.0606368</td><td style=\"text-align: right;\">-0.0652929</td><td style=\"text-align: right;\">-0.0289674</td><td style=\"text-align: right;\"> 0.0644855</td><td style=\"text-align: right;\">-0.00522402</td><td style=\"text-align: right;\"> 0.0748285 </td><td style=\"text-align: right;\"> 0.101576 </td><td style=\"text-align: right;\">0.113605  </td><td style=\"text-align: right;\">0.0500773</td><td style=\"text-align: right;\"> 0.0121333</td><td style=\"text-align: right;\">-0.135094 </td><td style=\"text-align: right;\"> 0.0124906  </td><td style=\"text-align: right;\"> 0.0777823</td><td style=\"text-align: right;\">-0.0625292</td><td style=\"text-align: right;\">-0.0797545 </td><td style=\"text-align: right;\">-0.0314803 </td><td style=\"text-align: right;\"> 0.0854787 </td><td style=\"text-align: right;\">-0.0304192  </td><td style=\"text-align: right;\"> 0.0387167 </td><td style=\"text-align: right;\">-0.0753992 </td><td style=\"text-align: right;\">-0.0451342</td><td style=\"text-align: right;\"> 0.08937   </td><td style=\"text-align: right;\">0.161424</td><td style=\"text-align: right;\"> 0.0273829 </td><td style=\"text-align: right;\">-0.0853622</td><td style=\"text-align: right;\">-0.0582526</td><td style=\"text-align: right;\"> 0.082807  </td><td style=\"text-align: right;\"> 0.0724099</td><td style=\"text-align: right;\"> 0.0726295</td><td style=\"text-align: right;\">0.126067 </td><td style=\"text-align: right;\"> 0.0506533 </td><td style=\"text-align: right;\"> 0.00373752</td><td style=\"text-align: right;\">-0.0895739</td><td style=\"text-align: right;\"> 0.0109762 </td><td style=\"text-align: right;\"> 0.0365187 </td><td style=\"text-align: right;\"> 0.029136  </td><td style=\"text-align: right;\"> 0.0329148 </td><td style=\"text-align: right;\">-0.155535 </td><td style=\"text-align: right;\"> 0.0120959</td><td style=\"text-align: right;\"> 0.0305222 </td><td style=\"text-align: right;\">-0.0649331  </td><td style=\"text-align: right;\"> 0.051177 </td><td style=\"text-align: right;\"> 0.0773834 </td><td style=\"text-align: right;\"> 0.0150175 </td><td style=\"text-align: right;\">-0.0503769</td><td style=\"text-align: right;\"> 0.0602404 </td><td style=\"text-align: right;\">-0.0296882</td><td style=\"text-align: right;\">-0.0590036  </td><td style=\"text-align: right;\"> 0.0608915 </td><td style=\"text-align: right;\">-0.116041  </td><td style=\"text-align: right;\"> 0.0995201 </td><td style=\"text-align: right;\"> 0.0642689 </td><td style=\"text-align: right;\">-0.0958357</td><td style=\"text-align: right;\">-0.0348842</td><td style=\"text-align: right;\">-0.0442537 </td><td style=\"text-align: right;\">-0.0259808  </td><td style=\"text-align: right;\"> 0.00995596</td><td style=\"text-align: right;\"> 0.0138379 </td><td style=\"text-align: right;\">-0.0213475 </td><td style=\"text-align: right;\">0.168464 </td><td style=\"text-align: right;\">-0.0120742 </td><td style=\"text-align: right;\">-0.0504924  </td><td style=\"text-align: right;\">-0.0635328</td><td style=\"text-align: right;\">-0.038213 </td><td style=\"text-align: right;\">-0.120913 </td><td style=\"text-align: right;\">-0.0332195</td><td style=\"text-align: right;\">-0.0329549</td><td style=\"text-align: right;\">-0.155386 </td><td style=\"text-align: right;\"> 0.0233363 </td><td style=\"text-align: right;\">-0.221976 </td><td style=\"text-align: right;\"> 0.0948118</td><td style=\"text-align: right;\">-0.129662   </td><td style=\"text-align: right;\"> 0.0822599</td><td style=\"text-align: right;\">-0.0571596</td><td style=\"text-align: right;\"> 0.0195191 </td><td style=\"text-align: right;\">0.140683 </td><td style=\"text-align: right;\">-0.0220142 </td><td style=\"text-align: right;\">-0.0711455</td><td style=\"text-align: right;\">-0.0608414</td><td style=\"text-align: right;\"> 0.0453981</td><td style=\"text-align: right;\"> 0.0454547 </td><td style=\"text-align: right;\">-0.156911 </td><td style=\"text-align: right;\"> 0.0256244 </td><td style=\"text-align: right;\">-0.0888258 </td><td style=\"text-align: right;\">-0.0795334  </td><td style=\"text-align: right;\"> 0.087303  </td><td style=\"text-align: right;\">-0.165294 </td><td style=\"text-align: right;\">-0.080702  </td><td style=\"text-align: right;\">-0.139045  </td><td style=\"text-align: right;\"> 0.0278193</td><td style=\"text-align: right;\">0.0207571</td><td style=\"text-align: right;\"> 0.0240474 </td><td style=\"text-align: right;\"> 0.101919  </td></tr>\n",
              "<tr><td style=\"text-align: right;\"> 0.0664115 </td><td style=\"text-align: right;\"> 0.0755174</td><td style=\"text-align: right;\">-0.0105883 </td><td style=\"text-align: right;\">-0.00751137</td><td style=\"text-align: right;\"> 0.159169  </td><td style=\"text-align: right;\">-0.05036  </td><td style=\"text-align: right;\"> 0.104538  </td><td style=\"text-align: right;\"> 0.0835489  </td><td style=\"text-align: right;\"> 0.0268142</td><td style=\"text-align: right;\"> 0.023108 </td><td style=\"text-align: right;\"> 0.0438652 </td><td style=\"text-align: right;\">-0.0214539 </td><td style=\"text-align: right;\">-0.00669538</td><td style=\"text-align: right;\">-0.0570713</td><td style=\"text-align: right;\"> 0.0498712</td><td style=\"text-align: right;\">-0.0848482 </td><td style=\"text-align: right;\">-0.188714  </td><td style=\"text-align: right;\"> 0.0625769 </td><td style=\"text-align: right;\"> 0.000620642</td><td style=\"text-align: right;\"> 0.043261 </td><td style=\"text-align: right;\">-0.0710653</td><td style=\"text-align: right;\"> 0.0306171</td><td style=\"text-align: right;\">0.0800802 </td><td style=\"text-align: right;\">0.0507233</td><td style=\"text-align: right;\">-0.0673842 </td><td style=\"text-align: right;\">-0.147737 </td><td style=\"text-align: right;\">0.0553315</td><td style=\"text-align: right;\">-0.153421  </td><td style=\"text-align: right;\"> 0.00153268</td><td style=\"text-align: right;\">-0.0351984 </td><td style=\"text-align: right;\">-0.0541465 </td><td style=\"text-align: right;\">-0.0563368  </td><td style=\"text-align: right;\"> 0.0415996  </td><td style=\"text-align: right;\">-0.0401976</td><td style=\"text-align: right;\"> 0.0128446 </td><td style=\"text-align: right;\">-0.0404825</td><td style=\"text-align: right;\"> 0.032298  </td><td style=\"text-align: right;\">-0.0523354 </td><td style=\"text-align: right;\">-0.039835  </td><td style=\"text-align: right;\"> 0.0749611 </td><td style=\"text-align: right;\">-0.0579042 </td><td style=\"text-align: right;\">-0.0378207  </td><td style=\"text-align: right;\"> 0.019768  </td><td style=\"text-align: right;\">0.0678576</td><td style=\"text-align: right;\"> 0.0447483 </td><td style=\"text-align: right;\">-0.0735699 </td><td style=\"text-align: right;\">-0.088735 </td><td style=\"text-align: right;\"> 0.0154369</td><td style=\"text-align: right;\">-0.0439075  </td><td style=\"text-align: right;\">-0.0319716 </td><td style=\"text-align: right;\"> 0.0430231</td><td style=\"text-align: right;\">0.159598 </td><td style=\"text-align: right;\"> 0.114735   </td><td style=\"text-align: right;\">-0.00422784</td><td style=\"text-align: right;\">0.0620229</td><td style=\"text-align: right;\">-0.00250155</td><td style=\"text-align: right;\">-0.0927934</td><td style=\"text-align: right;\"> 0.10074   </td><td style=\"text-align: right;\"> 0.0248042</td><td style=\"text-align: right;\"> 0.129464   </td><td style=\"text-align: right;\"> 0.0380502 </td><td style=\"text-align: right;\">-0.129689 </td><td style=\"text-align: right;\">-0.206999  </td><td style=\"text-align: right;\">-0.116441  </td><td style=\"text-align: right;\">-0.0786592 </td><td style=\"text-align: right;\">0.096709 </td><td style=\"text-align: right;\">-0.0759541</td><td style=\"text-align: right;\"> 0.0901081 </td><td style=\"text-align: right;\">0.0794012</td><td style=\"text-align: right;\">-0.176557 </td><td style=\"text-align: right;\">-0.0477503 </td><td style=\"text-align: right;\">-0.0320803 </td><td style=\"text-align: right;\">-0.00638589</td><td style=\"text-align: right;\"> 0.0876108 </td><td style=\"text-align: right;\">-0.101558 </td><td style=\"text-align: right;\">-0.0145571 </td><td style=\"text-align: right;\"> 0.108868 </td><td style=\"text-align: right;\"> 0.00605792</td><td style=\"text-align: right;\">-0.0953846</td><td style=\"text-align: right;\"> 0.00904962</td><td style=\"text-align: right;\">-0.0266224 </td><td style=\"text-align: right;\">-0.0194396 </td><td style=\"text-align: right;\"> 0.000494304</td><td style=\"text-align: right;\">0.110467 </td><td style=\"text-align: right;\">0.122193 </td><td style=\"text-align: right;\">-0.121729 </td><td style=\"text-align: right;\">-0.0663041 </td><td style=\"text-align: right;\">-0.0109973 </td><td style=\"text-align: right;\">-0.0305815</td><td style=\"text-align: right;\">-0.0957564 </td><td style=\"text-align: right;\"> 0.0231727 </td><td style=\"text-align: right;\">-0.0690083</td><td style=\"text-align: right;\">-0.0181223 </td><td style=\"text-align: right;\">-0.0239139</td><td style=\"text-align: right;\">-0.0542136 </td><td style=\"text-align: right;\">-0.0311468 </td><td style=\"text-align: right;\"> 0.00822399 </td><td style=\"text-align: right;\">-0.11357   </td><td style=\"text-align: right;\"> 0.121809  </td><td style=\"text-align: right;\"> 0.0152614</td><td style=\"text-align: right;\"> 0.0179474</td><td style=\"text-align: right;\">-0.128914 </td><td style=\"text-align: right;\">0.0190788</td><td style=\"text-align: right;\"> 0.0375618</td><td style=\"text-align: right;\">-0.159708  </td><td style=\"text-align: right;\">0.142091  </td><td style=\"text-align: right;\">0.108136 </td><td style=\"text-align: right;\">-0.0796166</td><td style=\"text-align: right;\">-0.0183673</td><td style=\"text-align: right;\">-0.0537088</td><td style=\"text-align: right;\"> 0.0479214</td><td style=\"text-align: right;\"> 0.11846   </td><td style=\"text-align: right;\">-0.00563943</td><td style=\"text-align: right;\">-0.0257751</td><td style=\"text-align: right;\">0.00859673</td><td style=\"text-align: right;\">0.18493  </td><td style=\"text-align: right;\">-0.0933798</td><td style=\"text-align: right;\"> 0.0926008</td><td style=\"text-align: right;\">-0.00365193 </td><td style=\"text-align: right;\">-0.0623594</td><td style=\"text-align: right;\">-0.0255112</td><td style=\"text-align: right;\"> 0.0294215 </td><td style=\"text-align: right;\"> 0.00503914</td><td style=\"text-align: right;\"> 0.0906747 </td><td style=\"text-align: right;\"> 0.000354792</td><td style=\"text-align: right;\">-0.00422334</td><td style=\"text-align: right;\"> 0.0068431 </td><td style=\"text-align: right;\">-0.0885064</td><td style=\"text-align: right;\"> 0.0958674 </td><td style=\"text-align: right;\">0.169282</td><td style=\"text-align: right;\"> 0.0107977 </td><td style=\"text-align: right;\">-0.0953269</td><td style=\"text-align: right;\">-0.0408836</td><td style=\"text-align: right;\">-0.0746553 </td><td style=\"text-align: right;\"> 0.159796 </td><td style=\"text-align: right;\"> 0.162816 </td><td style=\"text-align: right;\">0.136774 </td><td style=\"text-align: right;\">-0.0119641 </td><td style=\"text-align: right;\">-0.0153232 </td><td style=\"text-align: right;\">-0.0778174</td><td style=\"text-align: right;\"> 0.0788451 </td><td style=\"text-align: right;\"> 0.0444504 </td><td style=\"text-align: right;\"> 0.192341  </td><td style=\"text-align: right;\">-0.0670978 </td><td style=\"text-align: right;\">-0.0873156</td><td style=\"text-align: right;\"> 0.0473116</td><td style=\"text-align: right;\">-0.129061  </td><td style=\"text-align: right;\">-0.0386182  </td><td style=\"text-align: right;\">-0.126059 </td><td style=\"text-align: right;\">-0.0375309 </td><td style=\"text-align: right;\">-0.00749861</td><td style=\"text-align: right;\">-0.102142 </td><td style=\"text-align: right;\"> 0.0417432 </td><td style=\"text-align: right;\"> 0.0199327</td><td style=\"text-align: right;\"> 0.0449004  </td><td style=\"text-align: right;\">-0.0311187 </td><td style=\"text-align: right;\">-0.0818801 </td><td style=\"text-align: right;\"> 0.0216538 </td><td style=\"text-align: right;\">-0.117027  </td><td style=\"text-align: right;\">-0.164478 </td><td style=\"text-align: right;\">-0.0493785</td><td style=\"text-align: right;\">-0.0249736 </td><td style=\"text-align: right;\"> 0.0495263  </td><td style=\"text-align: right;\">-0.100222  </td><td style=\"text-align: right;\"> 0.0173202 </td><td style=\"text-align: right;\"> 0.055882  </td><td style=\"text-align: right;\">0.134367 </td><td style=\"text-align: right;\">-0.0502963 </td><td style=\"text-align: right;\"> 0.057418   </td><td style=\"text-align: right;\"> 0.0626866</td><td style=\"text-align: right;\">-0.0516859</td><td style=\"text-align: right;\">-0.119377 </td><td style=\"text-align: right;\">-0.0471148</td><td style=\"text-align: right;\">-0.0933376</td><td style=\"text-align: right;\">-0.0706448</td><td style=\"text-align: right;\">-0.00402452</td><td style=\"text-align: right;\">-0.0276703</td><td style=\"text-align: right;\">-0.0514703</td><td style=\"text-align: right;\">-0.0339308  </td><td style=\"text-align: right;\"> 0.0842301</td><td style=\"text-align: right;\">-0.150838 </td><td style=\"text-align: right;\">-0.0664592 </td><td style=\"text-align: right;\">0.176428 </td><td style=\"text-align: right;\">-0.0549569 </td><td style=\"text-align: right;\">-0.0921622</td><td style=\"text-align: right;\">-0.101823 </td><td style=\"text-align: right;\"> 0.0468668</td><td style=\"text-align: right;\"> 0.0186881 </td><td style=\"text-align: right;\">-0.106066 </td><td style=\"text-align: right;\">-0.0800941 </td><td style=\"text-align: right;\"> 0.00520221</td><td style=\"text-align: right;\">-0.0774349  </td><td style=\"text-align: right;\"> 0.0730731 </td><td style=\"text-align: right;\">-0.0629146</td><td style=\"text-align: right;\"> 0.103296  </td><td style=\"text-align: right;\">-0.0942736 </td><td style=\"text-align: right;\">-0.0282913</td><td style=\"text-align: right;\">0.0745251</td><td style=\"text-align: right;\"> 0.0878605 </td><td style=\"text-align: right;\"> 0.0169434 </td></tr>\n",
              "<tr><td style=\"text-align: right;\">-0.154303  </td><td style=\"text-align: right;\"> 0.0166578</td><td style=\"text-align: right;\"> 0.0416444 </td><td style=\"text-align: right;\">-0.030733  </td><td style=\"text-align: right;\"> 0.0222405 </td><td style=\"text-align: right;\">-0.131543 </td><td style=\"text-align: right;\">-0.0145921 </td><td style=\"text-align: right;\"> 0.028724   </td><td style=\"text-align: right;\"> 0.0837351</td><td style=\"text-align: right;\">-0.0372092</td><td style=\"text-align: right;\">-0.0828099 </td><td style=\"text-align: right;\"> 0.0385008 </td><td style=\"text-align: right;\"> 0.00383006</td><td style=\"text-align: right;\">-0.0195436</td><td style=\"text-align: right;\"> 0.0103047</td><td style=\"text-align: right;\"> 0.0342867 </td><td style=\"text-align: right;\">-0.0798929 </td><td style=\"text-align: right;\"> 0.0894209 </td><td style=\"text-align: right;\">-0.0111042  </td><td style=\"text-align: right;\"> 0.0439152</td><td style=\"text-align: right;\"> 0.0745442</td><td style=\"text-align: right;\">-0.0636541</td><td style=\"text-align: right;\">0.0572298 </td><td style=\"text-align: right;\">0.0530197</td><td style=\"text-align: right;\">-0.00112367</td><td style=\"text-align: right;\">-0.0921133</td><td style=\"text-align: right;\">0.103564 </td><td style=\"text-align: right;\"> 0.00659893</td><td style=\"text-align: right;\">-0.0765535 </td><td style=\"text-align: right;\">-0.01723   </td><td style=\"text-align: right;\"> 0.0756282 </td><td style=\"text-align: right;\">-0.000949822</td><td style=\"text-align: right;\">-0.0573853  </td><td style=\"text-align: right;\">-0.0407922</td><td style=\"text-align: right;\">-0.0139233 </td><td style=\"text-align: right;\"> 0.0506363</td><td style=\"text-align: right;\">-0.00933082</td><td style=\"text-align: right;\">-0.088976  </td><td style=\"text-align: right;\"> 0.0273664 </td><td style=\"text-align: right;\">-0.0290045 </td><td style=\"text-align: right;\"> 0.0356236 </td><td style=\"text-align: right;\"> 0.17834    </td><td style=\"text-align: right;\"> 0.0012528 </td><td style=\"text-align: right;\">0.0478662</td><td style=\"text-align: right;\"> 0.01923   </td><td style=\"text-align: right;\">-0.0474786 </td><td style=\"text-align: right;\"> 0.128331 </td><td style=\"text-align: right;\"> 0.0254525</td><td style=\"text-align: right;\">-0.0668989  </td><td style=\"text-align: right;\"> 0.00909906</td><td style=\"text-align: right;\"> 0.0100334</td><td style=\"text-align: right;\">0.215715 </td><td style=\"text-align: right;\">-0.00947634 </td><td style=\"text-align: right;\"> 0.0959359 </td><td style=\"text-align: right;\">0.0535474</td><td style=\"text-align: right;\"> 0.0280061 </td><td style=\"text-align: right;\">-0.0754076</td><td style=\"text-align: right;\"> 0.0130343 </td><td style=\"text-align: right;\"> 0.128572 </td><td style=\"text-align: right;\"> 0.044687   </td><td style=\"text-align: right;\">-0.0255893 </td><td style=\"text-align: right;\">-0.0698399</td><td style=\"text-align: right;\"> 0.0963577 </td><td style=\"text-align: right;\">-0.0201788 </td><td style=\"text-align: right;\">-0.0462236 </td><td style=\"text-align: right;\">0.048686 </td><td style=\"text-align: right;\"> 0.0477399</td><td style=\"text-align: right;\"> 0.0978612 </td><td style=\"text-align: right;\">0.0573574</td><td style=\"text-align: right;\">-0.12841  </td><td style=\"text-align: right;\"> 0.0395761 </td><td style=\"text-align: right;\">-0.0109359 </td><td style=\"text-align: right;\"> 0.0862975 </td><td style=\"text-align: right;\"> 0.0283352 </td><td style=\"text-align: right;\"> 0.0261616</td><td style=\"text-align: right;\">-0.0659561 </td><td style=\"text-align: right;\"> 0.0745008</td><td style=\"text-align: right;\">-0.0792496 </td><td style=\"text-align: right;\">-0.170629 </td><td style=\"text-align: right;\">-0.0709445 </td><td style=\"text-align: right;\">-0.0701233 </td><td style=\"text-align: right;\"> 0.0676586 </td><td style=\"text-align: right;\">-0.0124299  </td><td style=\"text-align: right;\">0.102237 </td><td style=\"text-align: right;\">0.110407 </td><td style=\"text-align: right;\">-0.0790991</td><td style=\"text-align: right;\">-0.00799789</td><td style=\"text-align: right;\">-0.0604608 </td><td style=\"text-align: right;\"> 0.0379264</td><td style=\"text-align: right;\">-0.0105306 </td><td style=\"text-align: right;\">-0.023683  </td><td style=\"text-align: right;\"> 0.0391409</td><td style=\"text-align: right;\"> 0.0799508 </td><td style=\"text-align: right;\"> 0.0648384</td><td style=\"text-align: right;\"> 0.00688217</td><td style=\"text-align: right;\"> 0.0119182 </td><td style=\"text-align: right;\">-0.0398098  </td><td style=\"text-align: right;\">-0.0536394 </td><td style=\"text-align: right;\"> 0.0419264 </td><td style=\"text-align: right;\">-0.0325415</td><td style=\"text-align: right;\"> 0.0117356</td><td style=\"text-align: right;\">-0.121369 </td><td style=\"text-align: right;\">0.0715013</td><td style=\"text-align: right;\"> 0.0114635</td><td style=\"text-align: right;\"> 0.0645909 </td><td style=\"text-align: right;\">0.00934949</td><td style=\"text-align: right;\">0.0651037</td><td style=\"text-align: right;\">-0.0404758</td><td style=\"text-align: right;\">-0.033187 </td><td style=\"text-align: right;\">-0.0332091</td><td style=\"text-align: right;\"> 0.0754296</td><td style=\"text-align: right;\"> 0.00325664</td><td style=\"text-align: right;\"> 0.0753654 </td><td style=\"text-align: right;\"> 0.0383179</td><td style=\"text-align: right;\">0.0785494 </td><td style=\"text-align: right;\">0.0621748</td><td style=\"text-align: right;\">-0.0508055</td><td style=\"text-align: right;\"> 0.0297658</td><td style=\"text-align: right;\">-0.0102135  </td><td style=\"text-align: right;\"> 0.0555627</td><td style=\"text-align: right;\"> 0.0748481</td><td style=\"text-align: right;\">-0.0200877 </td><td style=\"text-align: right;\">-0.02851   </td><td style=\"text-align: right;\"> 0.061513  </td><td style=\"text-align: right;\">-0.0835489  </td><td style=\"text-align: right;\"> 0.0917065 </td><td style=\"text-align: right;\">-0.0371593 </td><td style=\"text-align: right;\"> 0.0157481</td><td style=\"text-align: right;\"> 0.0431006 </td><td style=\"text-align: right;\">0.190683</td><td style=\"text-align: right;\">-0.0263761 </td><td style=\"text-align: right;\">-0.0465492</td><td style=\"text-align: right;\">-0.0385071</td><td style=\"text-align: right;\"> 0.0125084 </td><td style=\"text-align: right;\"> 0.037482 </td><td style=\"text-align: right;\"> 0.0184724</td><td style=\"text-align: right;\">0.0355921</td><td style=\"text-align: right;\">-0.0439185 </td><td style=\"text-align: right;\"> 0.0693367 </td><td style=\"text-align: right;\">-0.0251572</td><td style=\"text-align: right;\"> 0.0437142 </td><td style=\"text-align: right;\"> 0.102598  </td><td style=\"text-align: right;\"> 0.049368  </td><td style=\"text-align: right;\">-0.00922904</td><td style=\"text-align: right;\">-0.154712 </td><td style=\"text-align: right;\">-0.0441166</td><td style=\"text-align: right;\"> 0.0167391 </td><td style=\"text-align: right;\">-0.0576193  </td><td style=\"text-align: right;\">-0.0223981</td><td style=\"text-align: right;\"> 0.0273782 </td><td style=\"text-align: right;\"> 0.0669389 </td><td style=\"text-align: right;\">-0.14426  </td><td style=\"text-align: right;\"> 0.0531222 </td><td style=\"text-align: right;\">-0.0479662</td><td style=\"text-align: right;\">-0.0599196  </td><td style=\"text-align: right;\"> 0.0542392 </td><td style=\"text-align: right;\">-0.14136   </td><td style=\"text-align: right;\"> 0.0874602 </td><td style=\"text-align: right;\">-0.00101743</td><td style=\"text-align: right;\">-0.0811614</td><td style=\"text-align: right;\">-0.127497 </td><td style=\"text-align: right;\">-0.106268  </td><td style=\"text-align: right;\">-0.0313742  </td><td style=\"text-align: right;\">-0.0202712 </td><td style=\"text-align: right;\"> 0.0651494 </td><td style=\"text-align: right;\">-0.0281363 </td><td style=\"text-align: right;\">0.097808 </td><td style=\"text-align: right;\"> 0.0596791 </td><td style=\"text-align: right;\">-0.056705   </td><td style=\"text-align: right;\">-0.068074 </td><td style=\"text-align: right;\">-0.0793098</td><td style=\"text-align: right;\">-0.116696 </td><td style=\"text-align: right;\">-0.0537172</td><td style=\"text-align: right;\"> 0.032188 </td><td style=\"text-align: right;\">-0.148191 </td><td style=\"text-align: right;\">-0.0308814 </td><td style=\"text-align: right;\">-0.0613268</td><td style=\"text-align: right;\"> 0.0214841</td><td style=\"text-align: right;\">-0.0375837  </td><td style=\"text-align: right;\"> 0.0666161</td><td style=\"text-align: right;\">-0.0886762</td><td style=\"text-align: right;\">-0.0595367 </td><td style=\"text-align: right;\">0.0345393</td><td style=\"text-align: right;\">-0.040472  </td><td style=\"text-align: right;\"> 0.0166802</td><td style=\"text-align: right;\">-0.0771823</td><td style=\"text-align: right;\">-0.0283864</td><td style=\"text-align: right;\"> 0.0795345 </td><td style=\"text-align: right;\">-0.139567 </td><td style=\"text-align: right;\"> 0.0107298 </td><td style=\"text-align: right;\">-0.0503793 </td><td style=\"text-align: right;\">-0.0885168  </td><td style=\"text-align: right;\">-0.0486587 </td><td style=\"text-align: right;\">-0.109344 </td><td style=\"text-align: right;\"> 0.00545805</td><td style=\"text-align: right;\">-0.0572791 </td><td style=\"text-align: right;\">-0.0575851</td><td style=\"text-align: right;\">0.105473 </td><td style=\"text-align: right;\">-0.0400395 </td><td style=\"text-align: right;\"> 0.0807696 </td></tr>\n",
              "<tr><td style=\"text-align: right;\">-0.0774528 </td><td style=\"text-align: right;\"> 0.0751976</td><td style=\"text-align: right;\">-0.0127232 </td><td style=\"text-align: right;\">-0.00822982</td><td style=\"text-align: right;\">-0.00939522</td><td style=\"text-align: right;\">-0.0595492</td><td style=\"text-align: right;\"> 0.0202511 </td><td style=\"text-align: right;\"> 0.044413   </td><td style=\"text-align: right;\"> 0.0100525</td><td style=\"text-align: right;\"> 0.0485319</td><td style=\"text-align: right;\"> 0.00824419</td><td style=\"text-align: right;\"> 0.00372355</td><td style=\"text-align: right;\"> 0.0296857 </td><td style=\"text-align: right;\">-0.0664944</td><td style=\"text-align: right;\"> 0.0265719</td><td style=\"text-align: right;\">-0.0813934 </td><td style=\"text-align: right;\">-0.107614  </td><td style=\"text-align: right;\">-0.00187971</td><td style=\"text-align: right;\"> 0.00478484 </td><td style=\"text-align: right;\">-0.0123497</td><td style=\"text-align: right;\"> 0.088555 </td><td style=\"text-align: right;\"> 0.0424846</td><td style=\"text-align: right;\">0.0240136 </td><td style=\"text-align: right;\">0.0565144</td><td style=\"text-align: right;\"> 0.0290854 </td><td style=\"text-align: right;\">-0.0928762</td><td style=\"text-align: right;\">0.0777839</td><td style=\"text-align: right;\">-0.0300256 </td><td style=\"text-align: right;\">-0.0570051 </td><td style=\"text-align: right;\"> 0.0117996 </td><td style=\"text-align: right;\"> 0.0227699 </td><td style=\"text-align: right;\"> 0.0148515  </td><td style=\"text-align: right;\"> 0.000927929</td><td style=\"text-align: right;\">-0.102532 </td><td style=\"text-align: right;\">-0.00146189</td><td style=\"text-align: right;\">-0.0362062</td><td style=\"text-align: right;\">-0.0281083 </td><td style=\"text-align: right;\">-0.0249004 </td><td style=\"text-align: right;\"> 0.0242681 </td><td style=\"text-align: right;\"> 0.0626349 </td><td style=\"text-align: right;\"> 0.088808  </td><td style=\"text-align: right;\"> 0.068778   </td><td style=\"text-align: right;\"> 0.0210728 </td><td style=\"text-align: right;\">0.0866121</td><td style=\"text-align: right;\"> 0.0475056 </td><td style=\"text-align: right;\">-0.117161  </td><td style=\"text-align: right;\"> 0.0721951</td><td style=\"text-align: right;\">-0.0308223</td><td style=\"text-align: right;\">-0.0833638  </td><td style=\"text-align: right;\"> 0.00351822</td><td style=\"text-align: right;\"> 0.0507478</td><td style=\"text-align: right;\">0.10727  </td><td style=\"text-align: right;\">-0.0807669  </td><td style=\"text-align: right;\"> 0.0198482 </td><td style=\"text-align: right;\">0.0151984</td><td style=\"text-align: right;\"> 0.0432472 </td><td style=\"text-align: right;\">-0.133242 </td><td style=\"text-align: right;\"> 0.0490994 </td><td style=\"text-align: right;\"> 0.0708995</td><td style=\"text-align: right;\"> 0.0399427  </td><td style=\"text-align: right;\">-0.053255  </td><td style=\"text-align: right;\">-0.105761 </td><td style=\"text-align: right;\">-0.00920402</td><td style=\"text-align: right;\">-0.0971732 </td><td style=\"text-align: right;\"> 0.00804785</td><td style=\"text-align: right;\">0.082928 </td><td style=\"text-align: right;\">-0.0452512</td><td style=\"text-align: right;\"> 0.111864  </td><td style=\"text-align: right;\">0.0225931</td><td style=\"text-align: right;\">-0.0355756</td><td style=\"text-align: right;\">-0.0174992 </td><td style=\"text-align: right;\"> 0.00336159</td><td style=\"text-align: right;\"> 0.0282748 </td><td style=\"text-align: right;\">-0.0140917 </td><td style=\"text-align: right;\">-0.0501445</td><td style=\"text-align: right;\">-0.00259955</td><td style=\"text-align: right;\"> 0.0876673</td><td style=\"text-align: right;\"> 0.0209852 </td><td style=\"text-align: right;\">-0.0468699</td><td style=\"text-align: right;\">-0.0407785 </td><td style=\"text-align: right;\">-0.111947  </td><td style=\"text-align: right;\"> 0.0206296 </td><td style=\"text-align: right;\"> 0.0571445  </td><td style=\"text-align: right;\">0.0645165</td><td style=\"text-align: right;\">0.0907335</td><td style=\"text-align: right;\">-0.0683787</td><td style=\"text-align: right;\"> 0.0375653 </td><td style=\"text-align: right;\">-0.0646217 </td><td style=\"text-align: right;\"> 0.0182418</td><td style=\"text-align: right;\"> 0.00798653</td><td style=\"text-align: right;\">-0.0354309 </td><td style=\"text-align: right;\"> 0.0445482</td><td style=\"text-align: right;\"> 0.0142099 </td><td style=\"text-align: right;\"> 0.0406621</td><td style=\"text-align: right;\">-0.0125061 </td><td style=\"text-align: right;\">-0.0167988 </td><td style=\"text-align: right;\"> 0.0525045  </td><td style=\"text-align: right;\">-0.0244703 </td><td style=\"text-align: right;\">-0.0261201 </td><td style=\"text-align: right;\"> 0.0305931</td><td style=\"text-align: right;\"> 0.0758413</td><td style=\"text-align: right;\">-0.0803456</td><td style=\"text-align: right;\">0.0533197</td><td style=\"text-align: right;\"> 0.105399 </td><td style=\"text-align: right;\">-0.014197  </td><td style=\"text-align: right;\">0.0117591 </td><td style=\"text-align: right;\">0.0959289</td><td style=\"text-align: right;\">-0.0214443</td><td style=\"text-align: right;\">-0.0638034</td><td style=\"text-align: right;\">-0.0662875</td><td style=\"text-align: right;\"> 0.0512634</td><td style=\"text-align: right;\"> 0.0640885 </td><td style=\"text-align: right;\"> 0.032498  </td><td style=\"text-align: right;\">-0.0196831</td><td style=\"text-align: right;\">0.0319026 </td><td style=\"text-align: right;\">0.0961062</td><td style=\"text-align: right;\">-0.0188938</td><td style=\"text-align: right;\"> 0.0473554</td><td style=\"text-align: right;\">-0.0645299  </td><td style=\"text-align: right;\">-0.0138982</td><td style=\"text-align: right;\">-0.0324715</td><td style=\"text-align: right;\"> 0.0194933 </td><td style=\"text-align: right;\">-0.0162865 </td><td style=\"text-align: right;\"> 0.0176497 </td><td style=\"text-align: right;\">-0.0717333  </td><td style=\"text-align: right;\"> 0.0323228 </td><td style=\"text-align: right;\"> 0.0262174 </td><td style=\"text-align: right;\"> 0.0326688</td><td style=\"text-align: right;\"> 0.0122741 </td><td style=\"text-align: right;\">0.159721</td><td style=\"text-align: right;\"> 0.00441121</td><td style=\"text-align: right;\">-0.0872888</td><td style=\"text-align: right;\">-0.0141283</td><td style=\"text-align: right;\">-0.078054  </td><td style=\"text-align: right;\"> 0.0989432</td><td style=\"text-align: right;\"> 0.0292736</td><td style=\"text-align: right;\">0.13665  </td><td style=\"text-align: right;\"> 0.00306356</td><td style=\"text-align: right;\"> 0.0251586 </td><td style=\"text-align: right;\">-0.050246 </td><td style=\"text-align: right;\">-0.0269799 </td><td style=\"text-align: right;\"> 0.025109  </td><td style=\"text-align: right;\"> 0.0690589 </td><td style=\"text-align: right;\"> 0.071194  </td><td style=\"text-align: right;\">-0.124995 </td><td style=\"text-align: right;\">-0.0464884</td><td style=\"text-align: right;\">-0.0632313 </td><td style=\"text-align: right;\">-0.0501087  </td><td style=\"text-align: right;\">-0.0312939</td><td style=\"text-align: right;\"> 0.0593016 </td><td style=\"text-align: right;\">-0.022005  </td><td style=\"text-align: right;\">-0.125478 </td><td style=\"text-align: right;\"> 0.0343091 </td><td style=\"text-align: right;\">-0.0638416</td><td style=\"text-align: right;\"> 0.0657903  </td><td style=\"text-align: right;\"> 0.0653158 </td><td style=\"text-align: right;\">-0.10213   </td><td style=\"text-align: right;\"> 0.0650836 </td><td style=\"text-align: right;\"> 0.0531323 </td><td style=\"text-align: right;\">-0.076347 </td><td style=\"text-align: right;\">-0.12343  </td><td style=\"text-align: right;\">-0.04531   </td><td style=\"text-align: right;\"> 0.04373    </td><td style=\"text-align: right;\">-0.0316541 </td><td style=\"text-align: right;\"> 0.0579577 </td><td style=\"text-align: right;\">-0.0419227 </td><td style=\"text-align: right;\">0.0594919</td><td style=\"text-align: right;\"> 0.0171957 </td><td style=\"text-align: right;\">-0.000912271</td><td style=\"text-align: right;\">-0.0404221</td><td style=\"text-align: right;\">-0.0343488</td><td style=\"text-align: right;\">-0.113285 </td><td style=\"text-align: right;\">-0.118418 </td><td style=\"text-align: right;\">-0.0289607</td><td style=\"text-align: right;\">-0.0874198</td><td style=\"text-align: right;\">-0.0136896 </td><td style=\"text-align: right;\">-0.0176591</td><td style=\"text-align: right;\"> 0.0151009</td><td style=\"text-align: right;\">-0.0759059  </td><td style=\"text-align: right;\"> 0.0917507</td><td style=\"text-align: right;\">-0.18376  </td><td style=\"text-align: right;\">-0.0339656 </td><td style=\"text-align: right;\">0.0831578</td><td style=\"text-align: right;\">-0.060444  </td><td style=\"text-align: right;\">-0.0289964</td><td style=\"text-align: right;\">-0.0351771</td><td style=\"text-align: right;\"> 0.0332878</td><td style=\"text-align: right;\"> 0.0236019 </td><td style=\"text-align: right;\">-0.117676 </td><td style=\"text-align: right;\"> 0.0246208 </td><td style=\"text-align: right;\"> 0.0269383 </td><td style=\"text-align: right;\">-0.0165289  </td><td style=\"text-align: right;\"> 0.0614654 </td><td style=\"text-align: right;\">-0.111454 </td><td style=\"text-align: right;\"> 0.00192555</td><td style=\"text-align: right;\">-0.0568996 </td><td style=\"text-align: right;\"> 0.0428945</td><td style=\"text-align: right;\">0.123836 </td><td style=\"text-align: right;\"> 0.00111598</td><td style=\"text-align: right;\"> 0.0653023 </td></tr>\n",
              "<tr><td style=\"text-align: right;\">-0.00556344</td><td style=\"text-align: right;\"> 0.0857427</td><td style=\"text-align: right;\">-0.00868546</td><td style=\"text-align: right;\"> 0.0160179 </td><td style=\"text-align: right;\"> 0.00432362</td><td style=\"text-align: right;\">-0.0766015</td><td style=\"text-align: right;\"> 0.106554  </td><td style=\"text-align: right;\">-0.0279582  </td><td style=\"text-align: right;\"> 0.0658786</td><td style=\"text-align: right;\"> 0.0524617</td><td style=\"text-align: right;\"> 0.011831  </td><td style=\"text-align: right;\"> 0.0133661 </td><td style=\"text-align: right;\"> 0.0368393 </td><td style=\"text-align: right;\">-0.107674 </td><td style=\"text-align: right;\"> 0.0305169</td><td style=\"text-align: right;\">-0.040866  </td><td style=\"text-align: right;\">-0.0808069 </td><td style=\"text-align: right;\">-0.00348104</td><td style=\"text-align: right;\"> 0.0202317  </td><td style=\"text-align: right;\">-0.012736 </td><td style=\"text-align: right;\"> 0.0237456</td><td style=\"text-align: right;\"> 0.0613801</td><td style=\"text-align: right;\">0.0266678 </td><td style=\"text-align: right;\">0.098678 </td><td style=\"text-align: right;\">-0.0175333 </td><td style=\"text-align: right;\">-0.119964 </td><td style=\"text-align: right;\">0.148959 </td><td style=\"text-align: right;\">-0.0648845 </td><td style=\"text-align: right;\">-0.0125545 </td><td style=\"text-align: right;\">-0.0286508 </td><td style=\"text-align: right;\">-0.0256566 </td><td style=\"text-align: right;\"> 0.0290364  </td><td style=\"text-align: right;\"> 0.0338479  </td><td style=\"text-align: right;\">-0.0907171</td><td style=\"text-align: right;\"> 0.0353307 </td><td style=\"text-align: right;\">-0.018307 </td><td style=\"text-align: right;\"> 0.0293875 </td><td style=\"text-align: right;\">-0.0579641 </td><td style=\"text-align: right;\"> 0.0969803 </td><td style=\"text-align: right;\"> 0.078981  </td><td style=\"text-align: right;\">-0.00189258</td><td style=\"text-align: right;\">-0.00500513 </td><td style=\"text-align: right;\">-0.0743954 </td><td style=\"text-align: right;\">0.0804294</td><td style=\"text-align: right;\"> 0.0904621 </td><td style=\"text-align: right;\">-0.0812267 </td><td style=\"text-align: right;\">-0.0293719</td><td style=\"text-align: right;\">-0.026814 </td><td style=\"text-align: right;\">-0.108542   </td><td style=\"text-align: right;\"> 0.00974744</td><td style=\"text-align: right;\"> 0.053855 </td><td style=\"text-align: right;\">0.0950042</td><td style=\"text-align: right;\">-0.0238948  </td><td style=\"text-align: right;\"> 0.0172195 </td><td style=\"text-align: right;\">0.0459286</td><td style=\"text-align: right;\"> 0.0418378 </td><td style=\"text-align: right;\">-0.0666238</td><td style=\"text-align: right;\"> 0.0635962 </td><td style=\"text-align: right;\"> 0.0595136</td><td style=\"text-align: right;\"> 0.0836597  </td><td style=\"text-align: right;\">-0.0520837 </td><td style=\"text-align: right;\">-0.1322   </td><td style=\"text-align: right;\">-0.156163  </td><td style=\"text-align: right;\">-0.0574731 </td><td style=\"text-align: right;\"> 0.0168565 </td><td style=\"text-align: right;\">0.124146 </td><td style=\"text-align: right;\">-0.0630509</td><td style=\"text-align: right;\"> 0.124473  </td><td style=\"text-align: right;\">0.0644653</td><td style=\"text-align: right;\">-0.0398473</td><td style=\"text-align: right;\"> 0.00264549</td><td style=\"text-align: right;\">-0.0545823 </td><td style=\"text-align: right;\"> 0.0793507 </td><td style=\"text-align: right;\"> 0.00931692</td><td style=\"text-align: right;\">-0.112945 </td><td style=\"text-align: right;\">-0.00289102</td><td style=\"text-align: right;\"> 0.10875  </td><td style=\"text-align: right;\">-0.00178333</td><td style=\"text-align: right;\">-0.0521086</td><td style=\"text-align: right;\">-0.0529812 </td><td style=\"text-align: right;\">-0.149207  </td><td style=\"text-align: right;\">-0.050198  </td><td style=\"text-align: right;\"> 0.076268   </td><td style=\"text-align: right;\">0.0912698</td><td style=\"text-align: right;\">0.0985717</td><td style=\"text-align: right;\">-0.0412341</td><td style=\"text-align: right;\"> 0.0521473 </td><td style=\"text-align: right;\">-0.041496  </td><td style=\"text-align: right;\">-0.0380521</td><td style=\"text-align: right;\">-0.0469791 </td><td style=\"text-align: right;\">-0.0144276 </td><td style=\"text-align: right;\"> 0.0848019</td><td style=\"text-align: right;\">-0.0330255 </td><td style=\"text-align: right;\"> 0.0211287</td><td style=\"text-align: right;\"> 0.0389992 </td><td style=\"text-align: right;\">-0.0314977 </td><td style=\"text-align: right;\"> 0.117165   </td><td style=\"text-align: right;\">-0.0694738 </td><td style=\"text-align: right;\"> 0.0385664 </td><td style=\"text-align: right;\"> 0.0311216</td><td style=\"text-align: right;\"> 0.0455198</td><td style=\"text-align: right;\">-0.0249292</td><td style=\"text-align: right;\">0.0553127</td><td style=\"text-align: right;\"> 0.0531958</td><td style=\"text-align: right;\">-0.0540958 </td><td style=\"text-align: right;\">0.0729336 </td><td style=\"text-align: right;\">0.112948 </td><td style=\"text-align: right;\">-0.0654297</td><td style=\"text-align: right;\">-0.0247069</td><td style=\"text-align: right;\">-0.0470194</td><td style=\"text-align: right;\"> 0.0758773</td><td style=\"text-align: right;\"> 0.0756671 </td><td style=\"text-align: right;\"> 0.0212689 </td><td style=\"text-align: right;\">-0.0596722</td><td style=\"text-align: right;\">0.0673892 </td><td style=\"text-align: right;\">0.108516 </td><td style=\"text-align: right;\">-0.055037 </td><td style=\"text-align: right;\">-0.0233021</td><td style=\"text-align: right;\"> 0.00656058 </td><td style=\"text-align: right;\">-0.0308446</td><td style=\"text-align: right;\">-0.0755787</td><td style=\"text-align: right;\"> 0.00959255</td><td style=\"text-align: right;\">-0.0187431 </td><td style=\"text-align: right;\"> 0.00170614</td><td style=\"text-align: right;\">-0.0752977  </td><td style=\"text-align: right;\"> 0.0274074 </td><td style=\"text-align: right;\"> 0.0293924 </td><td style=\"text-align: right;\">-0.0149054</td><td style=\"text-align: right;\">-0.0195867 </td><td style=\"text-align: right;\">0.134622</td><td style=\"text-align: right;\"> 0.0152915 </td><td style=\"text-align: right;\">-0.136297 </td><td style=\"text-align: right;\"> 0.0140323</td><td style=\"text-align: right;\">-0.00314836</td><td style=\"text-align: right;\"> 0.124633 </td><td style=\"text-align: right;\"> 0.0308233</td><td style=\"text-align: right;\">0.0719528</td><td style=\"text-align: right;\"> 0.0477168 </td><td style=\"text-align: right;\">-0.0662665 </td><td style=\"text-align: right;\">-0.0565325</td><td style=\"text-align: right;\">-0.00464952</td><td style=\"text-align: right;\"> 0.00480058</td><td style=\"text-align: right;\"> 0.105934  </td><td style=\"text-align: right;\"> 0.0180326 </td><td style=\"text-align: right;\">-0.100988 </td><td style=\"text-align: right;\">-0.029923 </td><td style=\"text-align: right;\">-0.0875687 </td><td style=\"text-align: right;\">-0.0152919  </td><td style=\"text-align: right;\">-0.0199014</td><td style=\"text-align: right;\"> 0.006168  </td><td style=\"text-align: right;\">-0.0824454 </td><td style=\"text-align: right;\">-0.0562638</td><td style=\"text-align: right;\"> 0.0911069 </td><td style=\"text-align: right;\">-0.0329994</td><td style=\"text-align: right;\"> 0.12105    </td><td style=\"text-align: right;\"> 0.0417582 </td><td style=\"text-align: right;\">-0.0889931 </td><td style=\"text-align: right;\"> 0.0897773 </td><td style=\"text-align: right;\">-0.00475027</td><td style=\"text-align: right;\">-0.131274 </td><td style=\"text-align: right;\">-0.079492 </td><td style=\"text-align: right;\">-0.0288399 </td><td style=\"text-align: right;\"> 0.0999337  </td><td style=\"text-align: right;\">-0.0347427 </td><td style=\"text-align: right;\">-0.00623015</td><td style=\"text-align: right;\">-0.00167327</td><td style=\"text-align: right;\">0.0902355</td><td style=\"text-align: right;\"> 0.00818278</td><td style=\"text-align: right;\"> 0.0526564  </td><td style=\"text-align: right;\"> 0.021999 </td><td style=\"text-align: right;\">-0.0408791</td><td style=\"text-align: right;\">-0.120991 </td><td style=\"text-align: right;\">-0.0867456</td><td style=\"text-align: right;\">-0.0686561</td><td style=\"text-align: right;\">-0.0816963</td><td style=\"text-align: right;\">-0.0179225 </td><td style=\"text-align: right;\">-0.0156338</td><td style=\"text-align: right;\"> 0.0659205</td><td style=\"text-align: right;\">-0.0264006  </td><td style=\"text-align: right;\"> 0.133166 </td><td style=\"text-align: right;\">-0.110213 </td><td style=\"text-align: right;\">-0.00710624</td><td style=\"text-align: right;\">0.14483  </td><td style=\"text-align: right;\"> 0.0257815 </td><td style=\"text-align: right;\">-0.050901 </td><td style=\"text-align: right;\">-0.0329497</td><td style=\"text-align: right;\"> 0.0249097</td><td style=\"text-align: right;\"> 0.00442745</td><td style=\"text-align: right;\">-0.0706288</td><td style=\"text-align: right;\">-0.0474981 </td><td style=\"text-align: right;\">-0.00614821</td><td style=\"text-align: right;\">-0.0755981  </td><td style=\"text-align: right;\"> 0.0925634 </td><td style=\"text-align: right;\">-0.106145 </td><td style=\"text-align: right;\"> 0.0335108 </td><td style=\"text-align: right;\">-0.041079  </td><td style=\"text-align: right;\"> 0.0559083</td><td style=\"text-align: right;\">0.0589183</td><td style=\"text-align: right;\"> 0.0180664 </td><td style=\"text-align: right;\"> 0.0752445 </td></tr>\n",
              "<tr><td style=\"text-align: right;\">-0.051427  </td><td style=\"text-align: right;\">-0.0471145</td><td style=\"text-align: right;\">-0.0772784 </td><td style=\"text-align: right;\">-0.0782629 </td><td style=\"text-align: right;\"> 0.114681  </td><td style=\"text-align: right;\"> 0.0246787</td><td style=\"text-align: right;\">-0.00184737</td><td style=\"text-align: right;\"> 0.0259784  </td><td style=\"text-align: right;\">-0.0119586</td><td style=\"text-align: right;\"> 0.0424513</td><td style=\"text-align: right;\"> 0.0465241 </td><td style=\"text-align: right;\">-0.0879012 </td><td style=\"text-align: right;\"> 0.00787577</td><td style=\"text-align: right;\">-0.0859658</td><td style=\"text-align: right;\"> 0.121877 </td><td style=\"text-align: right;\">-0.130333  </td><td style=\"text-align: right;\">-0.116199  </td><td style=\"text-align: right;\"> 0.0724915 </td><td style=\"text-align: right;\"> 0.0325527  </td><td style=\"text-align: right;\">-0.108359 </td><td style=\"text-align: right;\"> 0.0949494</td><td style=\"text-align: right;\"> 0.0543458</td><td style=\"text-align: right;\">0.125766  </td><td style=\"text-align: right;\">0.0951534</td><td style=\"text-align: right;\"> 0.0551069 </td><td style=\"text-align: right;\">-0.091226 </td><td style=\"text-align: right;\">0.0370609</td><td style=\"text-align: right;\">-0.0791708 </td><td style=\"text-align: right;\"> 0.00556905</td><td style=\"text-align: right;\"> 0.00368595</td><td style=\"text-align: right;\"> 0.105445  </td><td style=\"text-align: right;\">-0.0331033  </td><td style=\"text-align: right;\">-0.0114868  </td><td style=\"text-align: right;\">-0.027733 </td><td style=\"text-align: right;\">-0.00400697</td><td style=\"text-align: right;\">-0.0506515</td><td style=\"text-align: right;\"> 0.160307  </td><td style=\"text-align: right;\"> 0.0733471 </td><td style=\"text-align: right;\">-0.0229796 </td><td style=\"text-align: right;\"> 0.0599341 </td><td style=\"text-align: right;\">-0.0251402 </td><td style=\"text-align: right;\">-0.000188644</td><td style=\"text-align: right;\">-0.036877  </td><td style=\"text-align: right;\">0.127331 </td><td style=\"text-align: right;\">-0.00509354</td><td style=\"text-align: right;\">-0.0398698 </td><td style=\"text-align: right;\">-0.0107205</td><td style=\"text-align: right;\">-0.0787769</td><td style=\"text-align: right;\">-0.0980201  </td><td style=\"text-align: right;\">-0.0166348 </td><td style=\"text-align: right;\"> 0.131355 </td><td style=\"text-align: right;\">0.0728917</td><td style=\"text-align: right;\"> 0.00892554 </td><td style=\"text-align: right;\">-0.016244  </td><td style=\"text-align: right;\">0.0568772</td><td style=\"text-align: right;\"> 0.0427176 </td><td style=\"text-align: right;\">-0.102555 </td><td style=\"text-align: right;\"> 0.0297019 </td><td style=\"text-align: right;\">-0.0543778</td><td style=\"text-align: right;\"> 0.0271919  </td><td style=\"text-align: right;\">-0.0267241 </td><td style=\"text-align: right;\">-0.181483 </td><td style=\"text-align: right;\">-0.104312  </td><td style=\"text-align: right;\">-0.139699  </td><td style=\"text-align: right;\">-0.0490036 </td><td style=\"text-align: right;\">0.161666 </td><td style=\"text-align: right;\">-0.113678 </td><td style=\"text-align: right;\"> 0.0549615 </td><td style=\"text-align: right;\">0.169746 </td><td style=\"text-align: right;\">-0.0645129</td><td style=\"text-align: right;\">-0.068011  </td><td style=\"text-align: right;\">-0.0203369 </td><td style=\"text-align: right;\"> 0.0339435 </td><td style=\"text-align: right;\"> 0.081328  </td><td style=\"text-align: right;\">-0.0739397</td><td style=\"text-align: right;\">-0.00534561</td><td style=\"text-align: right;\"> 0.124064 </td><td style=\"text-align: right;\">-0.00127361</td><td style=\"text-align: right;\">-0.05178  </td><td style=\"text-align: right;\">-0.0697291 </td><td style=\"text-align: right;\"> 0.0153199 </td><td style=\"text-align: right;\"> 0.0496707 </td><td style=\"text-align: right;\"> 0.0280982  </td><td style=\"text-align: right;\">0.111434 </td><td style=\"text-align: right;\">0.181034 </td><td style=\"text-align: right;\">-0.178667 </td><td style=\"text-align: right;\"> 0.00354439</td><td style=\"text-align: right;\"> 0.0738641 </td><td style=\"text-align: right;\">-0.0810857</td><td style=\"text-align: right;\">-0.0381143 </td><td style=\"text-align: right;\">-0.074987  </td><td style=\"text-align: right;\">-0.0505731</td><td style=\"text-align: right;\">-0.0338415 </td><td style=\"text-align: right;\"> 0.0132864</td><td style=\"text-align: right;\"> 0.0171628 </td><td style=\"text-align: right;\"> 0.00750837</td><td style=\"text-align: right;\"> 0.121374   </td><td style=\"text-align: right;\">-0.10159   </td><td style=\"text-align: right;\"> 0.15532   </td><td style=\"text-align: right;\"> 0.0229321</td><td style=\"text-align: right;\"> 0.0941607</td><td style=\"text-align: right;\">-0.0292677</td><td style=\"text-align: right;\">0.031089 </td><td style=\"text-align: right;\">-0.0112314</td><td style=\"text-align: right;\"> 0.00134727</td><td style=\"text-align: right;\">0.0225191 </td><td style=\"text-align: right;\">0.0290885</td><td style=\"text-align: right;\">-0.0882788</td><td style=\"text-align: right;\">-0.013376 </td><td style=\"text-align: right;\">-0.0762796</td><td style=\"text-align: right;\"> 0.0907335</td><td style=\"text-align: right;\"> 0.117635  </td><td style=\"text-align: right;\"> 0.127628  </td><td style=\"text-align: right;\">-0.186573 </td><td style=\"text-align: right;\">0.066661  </td><td style=\"text-align: right;\">0.229663 </td><td style=\"text-align: right;\">-0.0548948</td><td style=\"text-align: right;\"> 0.0445911</td><td style=\"text-align: right;\"> 0.0783573  </td><td style=\"text-align: right;\">-0.148645 </td><td style=\"text-align: right;\">-0.0255927</td><td style=\"text-align: right;\"> 0.0599559 </td><td style=\"text-align: right;\">-0.0996784 </td><td style=\"text-align: right;\"> 0.0132317 </td><td style=\"text-align: right;\"> 0.0130945  </td><td style=\"text-align: right;\"> 0.00643403</td><td style=\"text-align: right;\"> 0.0210007 </td><td style=\"text-align: right;\"> 0.0230581</td><td style=\"text-align: right;\"> 0.0716357 </td><td style=\"text-align: right;\">0.162276</td><td style=\"text-align: right;\">-0.0092908 </td><td style=\"text-align: right;\">-0.191524 </td><td style=\"text-align: right;\">-0.0677428</td><td style=\"text-align: right;\">-0.144985  </td><td style=\"text-align: right;\">-0.0521906</td><td style=\"text-align: right;\"> 0.111924 </td><td style=\"text-align: right;\">0.218882 </td><td style=\"text-align: right;\">-0.113765  </td><td style=\"text-align: right;\">-0.0406936 </td><td style=\"text-align: right;\">-0.0396344</td><td style=\"text-align: right;\">-0.0913357 </td><td style=\"text-align: right;\"> 0.0322266 </td><td style=\"text-align: right;\">-0.00122043</td><td style=\"text-align: right;\"> 0.00925104</td><td style=\"text-align: right;\">-0.010819 </td><td style=\"text-align: right;\"> 0.0127204</td><td style=\"text-align: right;\">-0.00830175</td><td style=\"text-align: right;\">-0.0520996  </td><td style=\"text-align: right;\"> 0.0110472</td><td style=\"text-align: right;\">-0.043408  </td><td style=\"text-align: right;\">-0.0131571 </td><td style=\"text-align: right;\">-0.0909742</td><td style=\"text-align: right;\">-0.0173845 </td><td style=\"text-align: right;\"> 0.037105 </td><td style=\"text-align: right;\">-0.05188    </td><td style=\"text-align: right;\">-0.0142872 </td><td style=\"text-align: right;\">-0.00751539</td><td style=\"text-align: right;\"> 0.00897067</td><td style=\"text-align: right;\">-0.0348067 </td><td style=\"text-align: right;\">-0.125936 </td><td style=\"text-align: right;\">-0.0951315</td><td style=\"text-align: right;\">-0.0423446 </td><td style=\"text-align: right;\"> 0.126036   </td><td style=\"text-align: right;\">-0.0217434 </td><td style=\"text-align: right;\"> 0.104721  </td><td style=\"text-align: right;\"> 0.0399363 </td><td style=\"text-align: right;\">0.153396 </td><td style=\"text-align: right;\"> 0.0923811 </td><td style=\"text-align: right;\"> 0.103326   </td><td style=\"text-align: right;\"> 0.0108593</td><td style=\"text-align: right;\"> 0.0564722</td><td style=\"text-align: right;\">-0.0793989</td><td style=\"text-align: right;\">-0.0668196</td><td style=\"text-align: right;\">-0.0459961</td><td style=\"text-align: right;\">-0.0427107</td><td style=\"text-align: right;\"> 0.0519565 </td><td style=\"text-align: right;\">-0.14317  </td><td style=\"text-align: right;\">-0.115631 </td><td style=\"text-align: right;\">-0.000789119</td><td style=\"text-align: right;\">-0.0818937</td><td style=\"text-align: right;\">-0.195109 </td><td style=\"text-align: right;\">-0.0883656 </td><td style=\"text-align: right;\">0.147421 </td><td style=\"text-align: right;\">-0.0893235 </td><td style=\"text-align: right;\"> 0.001699 </td><td style=\"text-align: right;\">-0.0744525</td><td style=\"text-align: right;\"> 0.116362 </td><td style=\"text-align: right;\">-0.0138267 </td><td style=\"text-align: right;\">-0.103775 </td><td style=\"text-align: right;\"> 0.0941076 </td><td style=\"text-align: right;\"> 0.00620701</td><td style=\"text-align: right;\">-0.130486   </td><td style=\"text-align: right;\"> 0.117302  </td><td style=\"text-align: right;\">-0.11261  </td><td style=\"text-align: right;\"> 0.072767  </td><td style=\"text-align: right;\">-0.0257884 </td><td style=\"text-align: right;\"> 0.0626123</td><td style=\"text-align: right;\">0.146404 </td><td style=\"text-align: right;\"> 0.107076  </td><td style=\"text-align: right;\">-0.00797246</td></tr>\n",
              "<tr><td style=\"text-align: right;\">-0.160132  </td><td style=\"text-align: right;\">-0.0378841</td><td style=\"text-align: right;\"> 0.0321803 </td><td style=\"text-align: right;\">-0.157842  </td><td style=\"text-align: right;\">-0.0405292 </td><td style=\"text-align: right;\">-0.102561 </td><td style=\"text-align: right;\">-0.00251905</td><td style=\"text-align: right;\"> 0.151965   </td><td style=\"text-align: right;\"> 0.189539 </td><td style=\"text-align: right;\">-0.0512788</td><td style=\"text-align: right;\">-0.117111  </td><td style=\"text-align: right;\">-0.0262511 </td><td style=\"text-align: right;\"> 0.038518  </td><td style=\"text-align: right;\">-0.0939159</td><td style=\"text-align: right;\">-0.0646809</td><td style=\"text-align: right;\"> 0.013876  </td><td style=\"text-align: right;\">-0.229173  </td><td style=\"text-align: right;\"> 0.0858084 </td><td style=\"text-align: right;\">-0.119507   </td><td style=\"text-align: right;\"> 0.139927 </td><td style=\"text-align: right;\"> 0.261079 </td><td style=\"text-align: right;\">-0.0571492</td><td style=\"text-align: right;\">0.0344563 </td><td style=\"text-align: right;\">0.0317154</td><td style=\"text-align: right;\"> 0.0112974 </td><td style=\"text-align: right;\">-0.0660465</td><td style=\"text-align: right;\">0.0350518</td><td style=\"text-align: right;\"> 0.0499697 </td><td style=\"text-align: right;\">-0.0585168 </td><td style=\"text-align: right;\">-0.0678267 </td><td style=\"text-align: right;\"> 0.163087  </td><td style=\"text-align: right;\">-0.0347442  </td><td style=\"text-align: right;\"> 0.0331373  </td><td style=\"text-align: right;\">-0.0997582</td><td style=\"text-align: right;\">-0.127161  </td><td style=\"text-align: right;\"> 0.0270221</td><td style=\"text-align: right;\">-0.0333919 </td><td style=\"text-align: right;\">-0.0561655 </td><td style=\"text-align: right;\"> 0.00573083</td><td style=\"text-align: right;\"> 0.00374248</td><td style=\"text-align: right;\"> 0.0334468 </td><td style=\"text-align: right;\"> 0.121832   </td><td style=\"text-align: right;\">-0.0678188 </td><td style=\"text-align: right;\">0.0310323</td><td style=\"text-align: right;\">-0.0991756 </td><td style=\"text-align: right;\"> 0.00454533</td><td style=\"text-align: right;\"> 0.0694106</td><td style=\"text-align: right;\">-0.125623 </td><td style=\"text-align: right;\"> 0.000907864</td><td style=\"text-align: right;\">-0.00852409</td><td style=\"text-align: right;\">-0.0282721</td><td style=\"text-align: right;\">0.191323 </td><td style=\"text-align: right;\">-0.000100351</td><td style=\"text-align: right;\"> 0.0738025 </td><td style=\"text-align: right;\">0.0327531</td><td style=\"text-align: right;\"> 0.0565788 </td><td style=\"text-align: right;\">-0.152361 </td><td style=\"text-align: right;\">-0.0155656 </td><td style=\"text-align: right;\"> 0.275588 </td><td style=\"text-align: right;\"> 0.0476306  </td><td style=\"text-align: right;\"> 0.00717488</td><td style=\"text-align: right;\">-0.0959272</td><td style=\"text-align: right;\"> 0.0913024 </td><td style=\"text-align: right;\"> 0.0267637 </td><td style=\"text-align: right;\"> 0.0589897 </td><td style=\"text-align: right;\">0.032535 </td><td style=\"text-align: right;\">-0.0560961</td><td style=\"text-align: right;\"> 0.184634  </td><td style=\"text-align: right;\">0.0481699</td><td style=\"text-align: right;\">-0.0363177</td><td style=\"text-align: right;\"> 0.0817533 </td><td style=\"text-align: right;\">-0.0209532 </td><td style=\"text-align: right;\"> 0.144976  </td><td style=\"text-align: right;\"> 0.0035736 </td><td style=\"text-align: right;\"> 0.0492608</td><td style=\"text-align: right;\"> 0.0358425 </td><td style=\"text-align: right;\">-0.0167451</td><td style=\"text-align: right;\">-0.102071  </td><td style=\"text-align: right;\">-0.0611339</td><td style=\"text-align: right;\">-0.0204066 </td><td style=\"text-align: right;\">-0.0209876 </td><td style=\"text-align: right;\"> 0.0285412 </td><td style=\"text-align: right;\"> 0.0559895  </td><td style=\"text-align: right;\">0.185777 </td><td style=\"text-align: right;\">0.084862 </td><td style=\"text-align: right;\">-0.0547531</td><td style=\"text-align: right;\">-0.0279858 </td><td style=\"text-align: right;\">-0.0691172 </td><td style=\"text-align: right;\"> 0.0786465</td><td style=\"text-align: right;\">-0.00749827</td><td style=\"text-align: right;\"> 0.0214839 </td><td style=\"text-align: right;\"> 0.202929 </td><td style=\"text-align: right;\"> 0.223177  </td><td style=\"text-align: right;\">-0.0334714</td><td style=\"text-align: right;\">-0.00789236</td><td style=\"text-align: right;\"> 0.0251649 </td><td style=\"text-align: right;\">-0.0182401  </td><td style=\"text-align: right;\"> 0.0336376 </td><td style=\"text-align: right;\">-0.0337826 </td><td style=\"text-align: right;\"> 0.0323354</td><td style=\"text-align: right;\"> 0.0308352</td><td style=\"text-align: right;\">-0.0349486</td><td style=\"text-align: right;\">0.0584843</td><td style=\"text-align: right;\"> 0.0653696</td><td style=\"text-align: right;\"> 0.0490626 </td><td style=\"text-align: right;\">0.02288   </td><td style=\"text-align: right;\">0.198702 </td><td style=\"text-align: right;\"> 0.0418191</td><td style=\"text-align: right;\">-0.122657 </td><td style=\"text-align: right;\">-0.109052 </td><td style=\"text-align: right;\"> 0.169736 </td><td style=\"text-align: right;\"> 0.0144978 </td><td style=\"text-align: right;\">-0.0375788 </td><td style=\"text-align: right;\"> 0.0775672</td><td style=\"text-align: right;\">0.103596  </td><td style=\"text-align: right;\">0.0622939</td><td style=\"text-align: right;\">-0.139858 </td><td style=\"text-align: right;\">-0.0026102</td><td style=\"text-align: right;\"> 0.000697628</td><td style=\"text-align: right;\"> 0.135063 </td><td style=\"text-align: right;\"> 0.0855011</td><td style=\"text-align: right;\"> 0.0387546 </td><td style=\"text-align: right;\"> 0.0588167 </td><td style=\"text-align: right;\"> 0.150447  </td><td style=\"text-align: right;\"> 0.0328897  </td><td style=\"text-align: right;\"> 0.123946  </td><td style=\"text-align: right;\">-0.0706238 </td><td style=\"text-align: right;\">-0.0374082</td><td style=\"text-align: right;\"> 0.00350022</td><td style=\"text-align: right;\">0.251044</td><td style=\"text-align: right;\">-0.0729038 </td><td style=\"text-align: right;\"> 0.0656312</td><td style=\"text-align: right;\">-0.021502 </td><td style=\"text-align: right;\">-0.0134561 </td><td style=\"text-align: right;\"> 0.0570962</td><td style=\"text-align: right;\">-0.108869 </td><td style=\"text-align: right;\">0.12185  </td><td style=\"text-align: right;\"> 0.0219988 </td><td style=\"text-align: right;\">-0.0557223 </td><td style=\"text-align: right;\">-0.0164634</td><td style=\"text-align: right;\">-0.0599345 </td><td style=\"text-align: right;\"> 0.105493  </td><td style=\"text-align: right;\">-0.0597589 </td><td style=\"text-align: right;\"> 0.0743277 </td><td style=\"text-align: right;\">-0.0615451</td><td style=\"text-align: right;\">-0.0139242</td><td style=\"text-align: right;\"> 0.0161754 </td><td style=\"text-align: right;\">-0.00193024 </td><td style=\"text-align: right;\">-0.0675811</td><td style=\"text-align: right;\"> 0.0605842 </td><td style=\"text-align: right;\">-0.123888  </td><td style=\"text-align: right;\">-0.103043 </td><td style=\"text-align: right;\"> 0.100156  </td><td style=\"text-align: right;\">-0.0586277</td><td style=\"text-align: right;\"> 0.127293   </td><td style=\"text-align: right;\"> 0.105097  </td><td style=\"text-align: right;\">-0.0290652 </td><td style=\"text-align: right;\">-0.00802299</td><td style=\"text-align: right;\"> 0.0698456 </td><td style=\"text-align: right;\">-0.170908 </td><td style=\"text-align: right;\">-0.0493064</td><td style=\"text-align: right;\">-0.00819043</td><td style=\"text-align: right;\"> 0.0778394  </td><td style=\"text-align: right;\">-0.0300841 </td><td style=\"text-align: right;\"> 0.0825031 </td><td style=\"text-align: right;\"> 0.00598093</td><td style=\"text-align: right;\">0.0197867</td><td style=\"text-align: right;\"> 0.113908  </td><td style=\"text-align: right;\">-0.157277   </td><td style=\"text-align: right;\">-0.175518 </td><td style=\"text-align: right;\">-0.0299366</td><td style=\"text-align: right;\">-0.154175 </td><td style=\"text-align: right;\"> 0.0307672</td><td style=\"text-align: right;\">-0.111354 </td><td style=\"text-align: right;\">-0.0691685</td><td style=\"text-align: right;\"> 0.0340297 </td><td style=\"text-align: right;\">-0.068589 </td><td style=\"text-align: right;\">-0.0426574</td><td style=\"text-align: right;\">-0.00174448 </td><td style=\"text-align: right;\"> 0.132707 </td><td style=\"text-align: right;\">-0.0185915</td><td style=\"text-align: right;\">-0.0333892 </td><td style=\"text-align: right;\">0.0535256</td><td style=\"text-align: right;\">-0.0740046 </td><td style=\"text-align: right;\"> 0.0559104</td><td style=\"text-align: right;\">-0.0463362</td><td style=\"text-align: right;\"> 0.0846091</td><td style=\"text-align: right;\"> 0.0751273 </td><td style=\"text-align: right;\">-0.232355 </td><td style=\"text-align: right;\"> 0.0364366 </td><td style=\"text-align: right;\">-0.0730454 </td><td style=\"text-align: right;\">-0.10732    </td><td style=\"text-align: right;\"> 0.00790803</td><td style=\"text-align: right;\">-0.0390372</td><td style=\"text-align: right;\">-0.0148322 </td><td style=\"text-align: right;\">-0.106722  </td><td style=\"text-align: right;\"> 0.0154457</td><td style=\"text-align: right;\">0.0499615</td><td style=\"text-align: right;\"> 0.0716125 </td><td style=\"text-align: right;\"> 0.157775  </td></tr>\n",
              "<tr><td style=\"text-align: right;\"> 0.030025  </td><td style=\"text-align: right;\"> 0.128846 </td><td style=\"text-align: right;\">-0.0540789 </td><td style=\"text-align: right;\">-0.00802926</td><td style=\"text-align: right;\"> 0.0450375 </td><td style=\"text-align: right;\">-0.083982 </td><td style=\"text-align: right;\"> 0.0916548 </td><td style=\"text-align: right;\">-0.000255001</td><td style=\"text-align: right;\"> 0.0602909</td><td style=\"text-align: right;\"> 0.0354176</td><td style=\"text-align: right;\"> 0.0974417 </td><td style=\"text-align: right;\"> 0.0154702 </td><td style=\"text-align: right;\"> 0.0906847 </td><td style=\"text-align: right;\">-0.123443 </td><td style=\"text-align: right;\"> 0.096535 </td><td style=\"text-align: right;\">-0.0865756 </td><td style=\"text-align: right;\">-0.0687917 </td><td style=\"text-align: right;\">-0.00991927</td><td style=\"text-align: right;\"> 0.00860141 </td><td style=\"text-align: right;\">-0.0212228</td><td style=\"text-align: right;\">-0.0758363</td><td style=\"text-align: right;\"> 0.0530007</td><td style=\"text-align: right;\">0.0419791 </td><td style=\"text-align: right;\">0.0105988</td><td style=\"text-align: right;\"> 0.0152477 </td><td style=\"text-align: right;\">-0.186014 </td><td style=\"text-align: right;\">0.139953 </td><td style=\"text-align: right;\">-0.10008   </td><td style=\"text-align: right;\"> 0.0370154 </td><td style=\"text-align: right;\"> 0.0592662 </td><td style=\"text-align: right;\">-0.00870542</td><td style=\"text-align: right;\">-0.011103   </td><td style=\"text-align: right;\"> 0.0359891  </td><td style=\"text-align: right;\">-0.127964 </td><td style=\"text-align: right;\">-0.0458544 </td><td style=\"text-align: right;\">-0.0604947</td><td style=\"text-align: right;\"> 0.0394161 </td><td style=\"text-align: right;\"> 0.00523321</td><td style=\"text-align: right;\"> 0.0693924 </td><td style=\"text-align: right;\"> 0.0519294 </td><td style=\"text-align: right;\">-0.0158475 </td><td style=\"text-align: right;\">-0.0233627  </td><td style=\"text-align: right;\">-0.14564   </td><td style=\"text-align: right;\">0.0231867</td><td style=\"text-align: right;\"> 0.108629  </td><td style=\"text-align: right;\">-0.0520375 </td><td style=\"text-align: right;\"> 0.032825 </td><td style=\"text-align: right;\">-0.0351654</td><td style=\"text-align: right;\">-0.0103554  </td><td style=\"text-align: right;\">-0.00996306</td><td style=\"text-align: right;\">-0.0269428</td><td style=\"text-align: right;\">0.120504 </td><td style=\"text-align: right;\">-0.0288102  </td><td style=\"text-align: right;\"> 0.0250531 </td><td style=\"text-align: right;\">0.101413 </td><td style=\"text-align: right;\"> 0.0528374 </td><td style=\"text-align: right;\">-0.157644 </td><td style=\"text-align: right;\"> 0.00889351</td><td style=\"text-align: right;\"> 0.0220615</td><td style=\"text-align: right;\"> 0.138265   </td><td style=\"text-align: right;\"> 0.0568664 </td><td style=\"text-align: right;\">-0.123879 </td><td style=\"text-align: right;\">-0.181141  </td><td style=\"text-align: right;\">-0.122741  </td><td style=\"text-align: right;\"> 0.0233108 </td><td style=\"text-align: right;\">0.159169 </td><td style=\"text-align: right;\">-0.0753426</td><td style=\"text-align: right;\"> 0.147162  </td><td style=\"text-align: right;\">0.0358096</td><td style=\"text-align: right;\"> 0.0122403</td><td style=\"text-align: right;\">-0.0830351 </td><td style=\"text-align: right;\">-0.12165   </td><td style=\"text-align: right;\">-0.0280491 </td><td style=\"text-align: right;\">-0.0638947 </td><td style=\"text-align: right;\">-0.152009 </td><td style=\"text-align: right;\">-0.0538891 </td><td style=\"text-align: right;\"> 0.0855437</td><td style=\"text-align: right;\">-0.0490449 </td><td style=\"text-align: right;\">-0.0920058</td><td style=\"text-align: right;\">-0.0376116 </td><td style=\"text-align: right;\">-0.0661471 </td><td style=\"text-align: right;\">-0.00698334</td><td style=\"text-align: right;\">-0.00295742 </td><td style=\"text-align: right;\">0.084645 </td><td style=\"text-align: right;\">0.0190071</td><td style=\"text-align: right;\">-0.0342988</td><td style=\"text-align: right;\"> 0.0650153 </td><td style=\"text-align: right;\">-0.0235179 </td><td style=\"text-align: right;\">-0.0778932</td><td style=\"text-align: right;\">-0.0781529 </td><td style=\"text-align: right;\">-0.0417497 </td><td style=\"text-align: right;\"> 0.165348 </td><td style=\"text-align: right;\"> 0.00273956</td><td style=\"text-align: right;\"> 0.0342941</td><td style=\"text-align: right;\"> 0.0750526 </td><td style=\"text-align: right;\">-0.0103447 </td><td style=\"text-align: right;\"> 0.0719379  </td><td style=\"text-align: right;\">-0.0338822 </td><td style=\"text-align: right;\"> 0.0776571 </td><td style=\"text-align: right;\"> 0.0174845</td><td style=\"text-align: right;\"> 0.0163339</td><td style=\"text-align: right;\">-0.0833146</td><td style=\"text-align: right;\">0.0187986</td><td style=\"text-align: right;\"> 0.0851325</td><td style=\"text-align: right;\">-0.0491332 </td><td style=\"text-align: right;\">0.0641812 </td><td style=\"text-align: right;\">0.150836 </td><td style=\"text-align: right;\">-0.01615  </td><td style=\"text-align: right;\">-0.107711 </td><td style=\"text-align: right;\">-0.0136172</td><td style=\"text-align: right;\"> 0.0959584</td><td style=\"text-align: right;\"> 0.14672   </td><td style=\"text-align: right;\"> 0.11326   </td><td style=\"text-align: right;\">-0.0769299</td><td style=\"text-align: right;\">0.00977183</td><td style=\"text-align: right;\">0.10143  </td><td style=\"text-align: right;\">-0.111523 </td><td style=\"text-align: right;\">-0.0510622</td><td style=\"text-align: right;\">-0.100175   </td><td style=\"text-align: right;\">-0.05679  </td><td style=\"text-align: right;\">-0.084272 </td><td style=\"text-align: right;\">-0.0122957 </td><td style=\"text-align: right;\"> 0.0128287 </td><td style=\"text-align: right;\">-0.0430929 </td><td style=\"text-align: right;\">-0.0265727  </td><td style=\"text-align: right;\">-0.0436025 </td><td style=\"text-align: right;\"> 0.0222656 </td><td style=\"text-align: right;\">-0.0165165</td><td style=\"text-align: right;\"> 0.00589038</td><td style=\"text-align: right;\">0.140014</td><td style=\"text-align: right;\"> 0.0475955 </td><td style=\"text-align: right;\">-0.0713303</td><td style=\"text-align: right;\">-0.0964053</td><td style=\"text-align: right;\">-0.0605841 </td><td style=\"text-align: right;\"> 0.1201   </td><td style=\"text-align: right;\"> 0.0128837</td><td style=\"text-align: right;\">0.0320894</td><td style=\"text-align: right;\">-0.0204494 </td><td style=\"text-align: right;\">-0.0817282 </td><td style=\"text-align: right;\">-0.119865 </td><td style=\"text-align: right;\"> 0.0510997 </td><td style=\"text-align: right;\"> 0.025137  </td><td style=\"text-align: right;\"> 0.152906  </td><td style=\"text-align: right;\"> 0.0323808 </td><td style=\"text-align: right;\">-0.0952699</td><td style=\"text-align: right;\"> 0.0260784</td><td style=\"text-align: right;\">-0.0207921 </td><td style=\"text-align: right;\"> 0.000484601</td><td style=\"text-align: right;\">-0.0210224</td><td style=\"text-align: right;\"> 1.8201e-05</td><td style=\"text-align: right;\">-0.0756609 </td><td style=\"text-align: right;\">-0.0374911</td><td style=\"text-align: right;\"> 0.132499  </td><td style=\"text-align: right;\">-0.0724203</td><td style=\"text-align: right;\"> 0.188182   </td><td style=\"text-align: right;\">-0.00972306</td><td style=\"text-align: right;\">-0.0700312 </td><td style=\"text-align: right;\"> 0.0660978 </td><td style=\"text-align: right;\"> 0.0287219 </td><td style=\"text-align: right;\">-0.0654637</td><td style=\"text-align: right;\">-0.124654 </td><td style=\"text-align: right;\">-0.0991635 </td><td style=\"text-align: right;\"> 0.104715   </td><td style=\"text-align: right;\">-0.064047  </td><td style=\"text-align: right;\">-0.00284781</td><td style=\"text-align: right;\"> 0.0803371 </td><td style=\"text-align: right;\">0.0480108</td><td style=\"text-align: right;\">-0.0491145 </td><td style=\"text-align: right;\"> 0.0766042  </td><td style=\"text-align: right;\"> 0.0685872</td><td style=\"text-align: right;\"> 0.0320746</td><td style=\"text-align: right;\">-0.0947367</td><td style=\"text-align: right;\">-0.143784 </td><td style=\"text-align: right;\">-0.0745192</td><td style=\"text-align: right;\">-0.0716075</td><td style=\"text-align: right;\">-0.0656985 </td><td style=\"text-align: right;\">-0.0232466</td><td style=\"text-align: right;\"> 0.0574914</td><td style=\"text-align: right;\"> 0.00645914 </td><td style=\"text-align: right;\"> 0.0765391</td><td style=\"text-align: right;\">-0.164605 </td><td style=\"text-align: right;\">-0.0183556 </td><td style=\"text-align: right;\">0.173652 </td><td style=\"text-align: right;\"> 0.0443061 </td><td style=\"text-align: right;\">-0.0697233</td><td style=\"text-align: right;\">-0.0639196</td><td style=\"text-align: right;\"> 0.0910118</td><td style=\"text-align: right;\">-0.0348055 </td><td style=\"text-align: right;\">-0.0421117</td><td style=\"text-align: right;\"> 0.00970532</td><td style=\"text-align: right;\">-0.0016392 </td><td style=\"text-align: right;\">-0.000131421</td><td style=\"text-align: right;\"> 0.0365331 </td><td style=\"text-align: right;\">-0.129531 </td><td style=\"text-align: right;\"> 0.0309884 </td><td style=\"text-align: right;\">-0.00856105</td><td style=\"text-align: right;\"> 0.0278005</td><td style=\"text-align: right;\">0.113091 </td><td style=\"text-align: right;\">-0.0464413 </td><td style=\"text-align: right;\"> 0.057945  </td></tr>\n",
              "<tr><td style=\"text-align: right;\">-0.0922015 </td><td style=\"text-align: right;\"> 0.0305508</td><td style=\"text-align: right;\"> 0.0253859 </td><td style=\"text-align: right;\">-0.0253897 </td><td style=\"text-align: right;\"> 0.0237473 </td><td style=\"text-align: right;\">-0.0995326</td><td style=\"text-align: right;\"> 0.0231305 </td><td style=\"text-align: right;\">-0.0396217  </td><td style=\"text-align: right;\"> 0.0875324</td><td style=\"text-align: right;\"> 0.124675 </td><td style=\"text-align: right;\">-0.0471479 </td><td style=\"text-align: right;\"> 0.0392909 </td><td style=\"text-align: right;\"> 0.0477288 </td><td style=\"text-align: right;\"> 0.0456483</td><td style=\"text-align: right;\">-0.0057748</td><td style=\"text-align: right;\">-0.0181493 </td><td style=\"text-align: right;\">-0.0712388 </td><td style=\"text-align: right;\"> 0.0590671 </td><td style=\"text-align: right;\">-0.038868   </td><td style=\"text-align: right;\"> 0.0841516</td><td style=\"text-align: right;\"> 0.0549044</td><td style=\"text-align: right;\"> 0.0630038</td><td style=\"text-align: right;\">0.0455105 </td><td style=\"text-align: right;\">0.0286078</td><td style=\"text-align: right;\">-0.048501  </td><td style=\"text-align: right;\">-0.193323 </td><td style=\"text-align: right;\">0.113289 </td><td style=\"text-align: right;\">-0.142782  </td><td style=\"text-align: right;\"> 0.0483124 </td><td style=\"text-align: right;\">-0.0623002 </td><td style=\"text-align: right;\"> 0.0859789 </td><td style=\"text-align: right;\"> 0.0329037  </td><td style=\"text-align: right;\"> 0.0187268  </td><td style=\"text-align: right;\">-0.035366 </td><td style=\"text-align: right;\">-0.0453773 </td><td style=\"text-align: right;\"> 0.0521978</td><td style=\"text-align: right;\"> 0.00475282</td><td style=\"text-align: right;\">-0.0787923 </td><td style=\"text-align: right;\"> 0.112186  </td><td style=\"text-align: right;\">-0.0846855 </td><td style=\"text-align: right;\"> 0.0200085 </td><td style=\"text-align: right;\"> 0.0734419  </td><td style=\"text-align: right;\">-0.00905339</td><td style=\"text-align: right;\">0.19317  </td><td style=\"text-align: right;\"> 0.110217  </td><td style=\"text-align: right;\">-0.0840705 </td><td style=\"text-align: right;\"> 0.0948517</td><td style=\"text-align: right;\"> 0.0406974</td><td style=\"text-align: right;\">-0.0412521  </td><td style=\"text-align: right;\"> 0.0379227 </td><td style=\"text-align: right;\"> 0.0404877</td><td style=\"text-align: right;\">0.0891553</td><td style=\"text-align: right;\">-0.0404445  </td><td style=\"text-align: right;\"> 0.0500799 </td><td style=\"text-align: right;\">0.043748 </td><td style=\"text-align: right;\"> 0.0538561 </td><td style=\"text-align: right;\">-0.138438 </td><td style=\"text-align: right;\"> 0.0740008 </td><td style=\"text-align: right;\">-0.0277064</td><td style=\"text-align: right;\"> 0.0574788  </td><td style=\"text-align: right;\">-0.152271  </td><td style=\"text-align: right;\">-0.211273 </td><td style=\"text-align: right;\"> 0.0490087 </td><td style=\"text-align: right;\">-0.0670895 </td><td style=\"text-align: right;\">-0.0584911 </td><td style=\"text-align: right;\">0.0884564</td><td style=\"text-align: right;\">-0.0379353</td><td style=\"text-align: right;\"> 0.11937   </td><td style=\"text-align: right;\">0.0648016</td><td style=\"text-align: right;\">-0.0697923</td><td style=\"text-align: right;\"> 0.0152575 </td><td style=\"text-align: right;\">-0.00667478</td><td style=\"text-align: right;\"> 0.0510611 </td><td style=\"text-align: right;\">-0.0234923 </td><td style=\"text-align: right;\">-0.0471722</td><td style=\"text-align: right;\"> 0.0838455 </td><td style=\"text-align: right;\"> 0.0160603</td><td style=\"text-align: right;\">-0.0459538 </td><td style=\"text-align: right;\">-0.0695999</td><td style=\"text-align: right;\">-0.109373  </td><td style=\"text-align: right;\">-0.00850614</td><td style=\"text-align: right;\">-0.00615499</td><td style=\"text-align: right;\"> 0.117038   </td><td style=\"text-align: right;\">0.0901968</td><td style=\"text-align: right;\">0.0752303</td><td style=\"text-align: right;\">-0.175922 </td><td style=\"text-align: right;\"> 0.0265565 </td><td style=\"text-align: right;\">-0.0793631 </td><td style=\"text-align: right;\">-0.030583 </td><td style=\"text-align: right;\">-0.0270172 </td><td style=\"text-align: right;\"> 0.0106132 </td><td style=\"text-align: right;\">-0.0125393</td><td style=\"text-align: right;\"> 0.0273268 </td><td style=\"text-align: right;\">-0.0118298</td><td style=\"text-align: right;\"> 0.0126689 </td><td style=\"text-align: right;\"> 0.0952122 </td><td style=\"text-align: right;\"> 0.000600412</td><td style=\"text-align: right;\">-0.0696506 </td><td style=\"text-align: right;\">-0.00827257</td><td style=\"text-align: right;\"> 0.0369279</td><td style=\"text-align: right;\"> 0.078464 </td><td style=\"text-align: right;\">-0.0423148</td><td style=\"text-align: right;\">0.017477 </td><td style=\"text-align: right;\"> 0.16829  </td><td style=\"text-align: right;\"> 0.0544253 </td><td style=\"text-align: right;\">0.0130167 </td><td style=\"text-align: right;\">0.0789365</td><td style=\"text-align: right;\">-0.0647489</td><td style=\"text-align: right;\"> 0.0361156</td><td style=\"text-align: right;\">-0.030939 </td><td style=\"text-align: right;\"> 0.104475 </td><td style=\"text-align: right;\"> 0.00209649</td><td style=\"text-align: right;\"> 0.0917987 </td><td style=\"text-align: right;\"> 0.0567909</td><td style=\"text-align: right;\">0.0582101 </td><td style=\"text-align: right;\">0.122885 </td><td style=\"text-align: right;\">-0.0247025</td><td style=\"text-align: right;\">-0.0323493</td><td style=\"text-align: right;\"> 0.0625178  </td><td style=\"text-align: right;\"> 0.0290135</td><td style=\"text-align: right;\"> 0.0810341</td><td style=\"text-align: right;\">-0.006413  </td><td style=\"text-align: right;\">-0.0737041 </td><td style=\"text-align: right;\"> 0.0407694 </td><td style=\"text-align: right;\">-0.0579268  </td><td style=\"text-align: right;\"> 0.0247657 </td><td style=\"text-align: right;\">-0.0602439 </td><td style=\"text-align: right;\">-0.0549545</td><td style=\"text-align: right;\">-0.0246773 </td><td style=\"text-align: right;\">0.147024</td><td style=\"text-align: right;\"> 0.0241528 </td><td style=\"text-align: right;\"> 0.0127677</td><td style=\"text-align: right;\">-0.12419  </td><td style=\"text-align: right;\">-0.0455061 </td><td style=\"text-align: right;\"> 0.0100488</td><td style=\"text-align: right;\"> 0.0324599</td><td style=\"text-align: right;\">0.0637035</td><td style=\"text-align: right;\">-0.0104702 </td><td style=\"text-align: right;\"> 0.0272861 </td><td style=\"text-align: right;\">-0.0590637</td><td style=\"text-align: right;\"> 0.0544257 </td><td style=\"text-align: right;\"> 0.115755  </td><td style=\"text-align: right;\"> 0.00999788</td><td style=\"text-align: right;\"> 0.02441   </td><td style=\"text-align: right;\">-0.10374  </td><td style=\"text-align: right;\">-0.042241 </td><td style=\"text-align: right;\"> 0.0751452 </td><td style=\"text-align: right;\">-0.132696   </td><td style=\"text-align: right;\"> 0.0100049</td><td style=\"text-align: right;\">-0.0108433 </td><td style=\"text-align: right;\"> 0.0757715 </td><td style=\"text-align: right;\">-0.0612932</td><td style=\"text-align: right;\">-0.00336636</td><td style=\"text-align: right;\">-0.0776718</td><td style=\"text-align: right;\"> 0.000803955</td><td style=\"text-align: right;\"> 0.0887009 </td><td style=\"text-align: right;\">-0.117851  </td><td style=\"text-align: right;\"> 0.0314933 </td><td style=\"text-align: right;\">-0.00434154</td><td style=\"text-align: right;\">-0.0806885</td><td style=\"text-align: right;\">-0.13952  </td><td style=\"text-align: right;\">-0.189301  </td><td style=\"text-align: right;\"> 0.090545   </td><td style=\"text-align: right;\">-0.0148267 </td><td style=\"text-align: right;\"> 0.00461472</td><td style=\"text-align: right;\">-0.0480473 </td><td style=\"text-align: right;\">0.0800472</td><td style=\"text-align: right;\"> 0.0345098 </td><td style=\"text-align: right;\">-0.0233422  </td><td style=\"text-align: right;\"> 0.0280208</td><td style=\"text-align: right;\">-0.0520585</td><td style=\"text-align: right;\">-0.152069 </td><td style=\"text-align: right;\">-0.154658 </td><td style=\"text-align: right;\">-0.0771648</td><td style=\"text-align: right;\">-0.0917703</td><td style=\"text-align: right;\">-0.0507943 </td><td style=\"text-align: right;\">-0.0691852</td><td style=\"text-align: right;\">-0.0241098</td><td style=\"text-align: right;\"> 0.0130584  </td><td style=\"text-align: right;\">-0.105721 </td><td style=\"text-align: right;\">-0.142759 </td><td style=\"text-align: right;\">-0.0593756 </td><td style=\"text-align: right;\">0.117079 </td><td style=\"text-align: right;\">-0.0645574 </td><td style=\"text-align: right;\">-0.0198523</td><td style=\"text-align: right;\">-0.0555532</td><td style=\"text-align: right;\">-0.0134655</td><td style=\"text-align: right;\"> 0.0401457 </td><td style=\"text-align: right;\">-0.0357747</td><td style=\"text-align: right;\"> 0.0114742 </td><td style=\"text-align: right;\">-0.066406  </td><td style=\"text-align: right;\">-0.0175518  </td><td style=\"text-align: right;\"> 0.00174793</td><td style=\"text-align: right;\">-0.166652 </td><td style=\"text-align: right;\"> 0.126406  </td><td style=\"text-align: right;\">-0.0746007 </td><td style=\"text-align: right;\">-0.0540536</td><td style=\"text-align: right;\">0.147115 </td><td style=\"text-align: right;\"> 0.106297  </td><td style=\"text-align: right;\"> 0.108976  </td></tr>\n",
              "<tr><td style=\"text-align: right;\">-0.00470436</td><td style=\"text-align: right;\"> 0.0982283</td><td style=\"text-align: right;\">-0.0427876 </td><td style=\"text-align: right;\">-0.00500011</td><td style=\"text-align: right;\"> 0.015008  </td><td style=\"text-align: right;\">-0.154055 </td><td style=\"text-align: right;\"> 0.0815837 </td><td style=\"text-align: right;\"> 0.0464711  </td><td style=\"text-align: right;\"> 0.0851368</td><td style=\"text-align: right;\"> 0.0461673</td><td style=\"text-align: right;\"> 0.0549183 </td><td style=\"text-align: right;\">-0.0245748 </td><td style=\"text-align: right;\"> 0.129679  </td><td style=\"text-align: right;\">-0.0397059</td><td style=\"text-align: right;\"> 0.028769 </td><td style=\"text-align: right;\">-0.00208551</td><td style=\"text-align: right;\"> 0.00868552</td><td style=\"text-align: right;\">-0.0214048 </td><td style=\"text-align: right;\">-0.0837002  </td><td style=\"text-align: right;\"> 0.0164625</td><td style=\"text-align: right;\">-0.0160844</td><td style=\"text-align: right;\">-0.0148819</td><td style=\"text-align: right;\">0.00808764</td><td style=\"text-align: right;\">0.0686236</td><td style=\"text-align: right;\">-0.0620658 </td><td style=\"text-align: right;\">-0.15126  </td><td style=\"text-align: right;\">0.146985 </td><td style=\"text-align: right;\">-0.174039  </td><td style=\"text-align: right;\">-0.0313109 </td><td style=\"text-align: right;\"> 0.0254464 </td><td style=\"text-align: right;\"> 0.00131797</td><td style=\"text-align: right;\"> 0.0958304  </td><td style=\"text-align: right;\"> 0.12626    </td><td style=\"text-align: right;\">-0.198263 </td><td style=\"text-align: right;\"> 0.0761912 </td><td style=\"text-align: right;\"> 0.0248899</td><td style=\"text-align: right;\"> 0.074376  </td><td style=\"text-align: right;\">-0.0998086 </td><td style=\"text-align: right;\"> 0.0745224 </td><td style=\"text-align: right;\"> 0.0347552 </td><td style=\"text-align: right;\"> 0.0820835 </td><td style=\"text-align: right;\"> 0.0735363  </td><td style=\"text-align: right;\">-0.0156995 </td><td style=\"text-align: right;\">0.0528797</td><td style=\"text-align: right;\"> 0.0648985 </td><td style=\"text-align: right;\">-0.135498  </td><td style=\"text-align: right;\"> 0.0116103</td><td style=\"text-align: right;\">-0.0954808</td><td style=\"text-align: right;\">-0.00588638 </td><td style=\"text-align: right;\"> 0.0599631 </td><td style=\"text-align: right;\">-0.0722415</td><td style=\"text-align: right;\">0.148609 </td><td style=\"text-align: right;\"> 0.0137118  </td><td style=\"text-align: right;\">-0.0427433 </td><td style=\"text-align: right;\">0.0959629</td><td style=\"text-align: right;\"> 0.0685668 </td><td style=\"text-align: right;\">-0.157526 </td><td style=\"text-align: right;\"> 0.029092  </td><td style=\"text-align: right;\">-0.0164638</td><td style=\"text-align: right;\">-0.000790558</td><td style=\"text-align: right;\">-0.0243432 </td><td style=\"text-align: right;\">-0.0690258</td><td style=\"text-align: right;\">-0.145735  </td><td style=\"text-align: right;\">-0.0790023 </td><td style=\"text-align: right;\"> 0.0440269 </td><td style=\"text-align: right;\">0.169131 </td><td style=\"text-align: right;\">-0.0769805</td><td style=\"text-align: right;\"> 0.077009  </td><td style=\"text-align: right;\">0.136641 </td><td style=\"text-align: right;\">-0.0624555</td><td style=\"text-align: right;\">-0.0395232 </td><td style=\"text-align: right;\">-0.123156  </td><td style=\"text-align: right;\"> 0.0531383 </td><td style=\"text-align: right;\">-0.0399515 </td><td style=\"text-align: right;\">-0.126581 </td><td style=\"text-align: right;\"> 0.0698061 </td><td style=\"text-align: right;\"> 0.0648255</td><td style=\"text-align: right;\">-0.0255669 </td><td style=\"text-align: right;\">-0.0363121</td><td style=\"text-align: right;\">-0.0119334 </td><td style=\"text-align: right;\">-0.0565315 </td><td style=\"text-align: right;\"> 0.0221862 </td><td style=\"text-align: right;\"> 0.0589007  </td><td style=\"text-align: right;\">0.105104 </td><td style=\"text-align: right;\">0.0762514</td><td style=\"text-align: right;\">-0.0314586</td><td style=\"text-align: right;\"> 0.0923442 </td><td style=\"text-align: right;\">-0.00968839</td><td style=\"text-align: right;\">-0.167522 </td><td style=\"text-align: right;\">-0.134187  </td><td style=\"text-align: right;\">-0.00612854</td><td style=\"text-align: right;\"> 0.238744 </td><td style=\"text-align: right;\"> 0.0440888 </td><td style=\"text-align: right;\">-0.104212 </td><td style=\"text-align: right;\"> 0.0458337 </td><td style=\"text-align: right;\">-0.0484589 </td><td style=\"text-align: right;\"> 0.0127053  </td><td style=\"text-align: right;\"> 0.00761311</td><td style=\"text-align: right;\"> 0.0251331 </td><td style=\"text-align: right;\"> 0.0127353</td><td style=\"text-align: right;\">-0.0922866</td><td style=\"text-align: right;\">-0.0654577</td><td style=\"text-align: right;\">0.0491066</td><td style=\"text-align: right;\"> 0.05739  </td><td style=\"text-align: right;\">-0.0239562 </td><td style=\"text-align: right;\">0.119176  </td><td style=\"text-align: right;\">0.11823  </td><td style=\"text-align: right;\">-0.170032 </td><td style=\"text-align: right;\"> 0.0810493</td><td style=\"text-align: right;\">-0.0567009</td><td style=\"text-align: right;\">-0.0461319</td><td style=\"text-align: right;\"> 0.0653175 </td><td style=\"text-align: right;\">-0.0293257 </td><td style=\"text-align: right;\">-0.103602 </td><td style=\"text-align: right;\">0.0209325 </td><td style=\"text-align: right;\">0.10326  </td><td style=\"text-align: right;\">-0.147501 </td><td style=\"text-align: right;\">-0.0615015</td><td style=\"text-align: right;\">-0.0225867  </td><td style=\"text-align: right;\"> 0.0528188</td><td style=\"text-align: right;\">-0.0531666</td><td style=\"text-align: right;\">-0.00641265</td><td style=\"text-align: right;\"> 0.00494035</td><td style=\"text-align: right;\"> 0.0218213 </td><td style=\"text-align: right;\">-0.179032   </td><td style=\"text-align: right;\"> 0.0601771 </td><td style=\"text-align: right;\"> 0.00712286</td><td style=\"text-align: right;\">-0.0546451</td><td style=\"text-align: right;\">-0.0496075 </td><td style=\"text-align: right;\">0.124744</td><td style=\"text-align: right;\">-0.0659761 </td><td style=\"text-align: right;\">-0.048285 </td><td style=\"text-align: right;\">-0.0254025</td><td style=\"text-align: right;\"> 0.0922206 </td><td style=\"text-align: right;\"> 0.123551 </td><td style=\"text-align: right;\">-0.0361586</td><td style=\"text-align: right;\">0.141128 </td><td style=\"text-align: right;\"> 0.0769462 </td><td style=\"text-align: right;\"> 0.0254537 </td><td style=\"text-align: right;\">-0.193208 </td><td style=\"text-align: right;\"> 0.0614784 </td><td style=\"text-align: right;\">-0.0477496 </td><td style=\"text-align: right;\"> 0.115932  </td><td style=\"text-align: right;\">-0.0307097 </td><td style=\"text-align: right;\">-0.17761  </td><td style=\"text-align: right;\"> 0.0168499</td><td style=\"text-align: right;\"> 0.0538376 </td><td style=\"text-align: right;\">-0.0330537  </td><td style=\"text-align: right;\">-0.0308757</td><td style=\"text-align: right;\"> 0.018031  </td><td style=\"text-align: right;\">-0.0565443 </td><td style=\"text-align: right;\">-0.107888 </td><td style=\"text-align: right;\"> 0.0298138 </td><td style=\"text-align: right;\">-0.156742 </td><td style=\"text-align: right;\"> 0.0658313  </td><td style=\"text-align: right;\"> 0.130752  </td><td style=\"text-align: right;\">-0.00563993</td><td style=\"text-align: right;\"> 0.113805  </td><td style=\"text-align: right;\"> 0.00153399</td><td style=\"text-align: right;\">-0.0873834</td><td style=\"text-align: right;\">-0.0898411</td><td style=\"text-align: right;\"> 0.00779529</td><td style=\"text-align: right;\"> 0.000190283</td><td style=\"text-align: right;\">-0.0948051 </td><td style=\"text-align: right;\"> 0.00978349</td><td style=\"text-align: right;\">-0.00587276</td><td style=\"text-align: right;\">0.132292 </td><td style=\"text-align: right;\"> 0.0676185 </td><td style=\"text-align: right;\">-0.045194   </td><td style=\"text-align: right;\">-0.0127737</td><td style=\"text-align: right;\"> 0.063702 </td><td style=\"text-align: right;\">-0.115595 </td><td style=\"text-align: right;\">-0.118232 </td><td style=\"text-align: right;\">-0.0435269</td><td style=\"text-align: right;\">-0.167316 </td><td style=\"text-align: right;\"> 0.0158768 </td><td style=\"text-align: right;\"> 0.0261829</td><td style=\"text-align: right;\"> 0.0405543</td><td style=\"text-align: right;\">-0.0442554  </td><td style=\"text-align: right;\"> 0.0736033</td><td style=\"text-align: right;\">-0.0536198</td><td style=\"text-align: right;\">-0.00467648</td><td style=\"text-align: right;\">0.0944   </td><td style=\"text-align: right;\">-0.00382287</td><td style=\"text-align: right;\">-0.0761235</td><td style=\"text-align: right;\">-0.106871 </td><td style=\"text-align: right;\">-0.0546243</td><td style=\"text-align: right;\">-0.0203719 </td><td style=\"text-align: right;\">-0.0807338</td><td style=\"text-align: right;\">-0.065486  </td><td style=\"text-align: right;\"> 0.0634416 </td><td style=\"text-align: right;\">-0.128384   </td><td style=\"text-align: right;\">-0.071814  </td><td style=\"text-align: right;\">-0.104516 </td><td style=\"text-align: right;\">-0.0848687 </td><td style=\"text-align: right;\"> 0.00655028</td><td style=\"text-align: right;\"> 0.0471105</td><td style=\"text-align: right;\">0.126005 </td><td style=\"text-align: right;\"> 0.0256907 </td><td style=\"text-align: right;\"> 0.0532053 </td></tr>\n",
              "</tbody>\n",
              "</table>"
            ]
          },
          "metadata": {
            "tags": []
          }
        },
        {
          "output_type": "execute_result",
          "data": {
            "text/plain": [
              ""
            ]
          },
          "metadata": {
            "tags": []
          },
          "execution_count": 17
        }
      ]
    },
    {
      "cell_type": "code",
      "metadata": {
        "id": "Llgo_yZChNkU",
        "colab_type": "code",
        "colab": {}
      },
      "source": [
        "# Add aggregated word embeddings \n",
        "ext_reviews_train = reviews_train.cbind(review_vecs_train)\n",
        "ext_reviews_test = reviews_test.cbind(review_vecs_test)\n",
        "# rename may be... all 'reviews' to 'news'\n",
        "# ext becaus ewe are extending the reviews df with the vectors"
      ],
      "execution_count": 0,
      "outputs": []
    },
    {
      "cell_type": "code",
      "metadata": {
        "id": "wCRqaA-suTlx",
        "colab_type": "code",
        "colab": {}
      },
      "source": [
        "ext_reviews_train[\"label_f\"]  = ext_reviews_train[\"label\"] .asfactor()\n"
      ],
      "execution_count": 0,
      "outputs": []
    },
    {
      "cell_type": "code",
      "metadata": {
        "id": "-V4NwCbfIMrd",
        "colab_type": "code",
        "colab": {}
      },
      "source": [
        "ext_reviews_test[\"label_f\"]  = ext_reviews_test[\"label\"] .asfactor() # need this too for the conf matrix"
      ],
      "execution_count": 0,
      "outputs": []
    },
    {
      "cell_type": "code",
      "metadata": {
        "id": "d73uj-4GhzKZ",
        "colab_type": "code",
        "colab": {}
      },
      "source": [
        "# Splitting to test train.. along with the review vecs is difficult without the 'Train' boolean column\n",
        "# hence redoing it from that stage..\n",
        "# so that we'll be able to do this following cell"
      ],
      "execution_count": 0,
      "outputs": []
    },
    {
      "cell_type": "code",
      "metadata": {
        "id": "6xGhP5nuhlW5",
        "colab_type": "code",
        "colab": {}
      },
      "source": [
        "#ext_train = ext_reviews[ext_reviews[\"Train\"] == \"True\"]\n",
        "#ext_test = ext_reviews[ext_reviews[\"Train\"] == \"False\"] \n",
        "# these are not needed now.. since these were already done..."
      ],
      "execution_count": 0,
      "outputs": []
    },
    {
      "cell_type": "code",
      "metadata": {
        "id": "_YXUIUMyjoBy",
        "colab_type": "code",
        "colab": {}
      },
      "source": [
        "#review_vecs.names\n",
        "# had a 100 cols\n",
        "# may be more would give a better model ..?"
      ],
      "execution_count": 0,
      "outputs": []
    },
    {
      "cell_type": "code",
      "metadata": {
        "id": "QzqR-bgyjYVL",
        "colab_type": "code",
        "outputId": "8d182d3d-f736-4f01-e65d-8adcb4d5651a",
        "colab": {
          "base_uri": "https://localhost:8080/",
          "height": 34
        }
      },
      "source": [
        "reviews.shape[0]"
      ],
      "execution_count": 24,
      "outputs": [
        {
          "output_type": "execute_result",
          "data": {
            "text/plain": [
              "12291"
            ]
          },
          "metadata": {
            "tags": []
          },
          "execution_count": 24
        }
      ]
    },
    {
      "cell_type": "code",
      "metadata": {
        "id": "FiPk1R1rEYvN",
        "colab_type": "code",
        "colab": {}
      },
      "source": [
        "from h2o.automl import H2OAutoML"
      ],
      "execution_count": 0,
      "outputs": []
    },
    {
      "cell_type": "code",
      "metadata": {
        "id": "XWhtPh21lt7U",
        "colab_type": "code",
        "colab": {}
      },
      "source": [
        "x = ext_reviews_train.columns"
      ],
      "execution_count": 0,
      "outputs": []
    },
    {
      "cell_type": "code",
      "metadata": {
        "id": "L1AukzKrmP3s",
        "colab_type": "code",
        "colab": {}
      },
      "source": [
        "# x= [x for x in ext_train.columns if x not in ['label', 'Train']]"
      ],
      "execution_count": 0,
      "outputs": []
    },
    {
      "cell_type": "code",
      "metadata": {
        "id": "NiXINVZalvb5",
        "colab_type": "code",
        "outputId": "36fd6afa-726a-4669-e4a1-4bd1f7d48c02",
        "colab": {
          "base_uri": "https://localhost:8080/",
          "height": 54
        }
      },
      "source": [
        "print(x)"
      ],
      "execution_count": 28,
      "outputs": [
        {
          "output_type": "stream",
          "text": [
            "['label', 'text', 'C1', 'C2', 'C3', 'C4', 'C5', 'C6', 'C7', 'C8', 'C9', 'C10', 'C11', 'C12', 'C13', 'C14', 'C15', 'C16', 'C17', 'C18', 'C19', 'C20', 'C21', 'C22', 'C23', 'C24', 'C25', 'C26', 'C27', 'C28', 'C29', 'C30', 'C31', 'C32', 'C33', 'C34', 'C35', 'C36', 'C37', 'C38', 'C39', 'C40', 'C41', 'C42', 'C43', 'C44', 'C45', 'C46', 'C47', 'C48', 'C49', 'C50', 'C51', 'C52', 'C53', 'C54', 'C55', 'C56', 'C57', 'C58', 'C59', 'C60', 'C61', 'C62', 'C63', 'C64', 'C65', 'C66', 'C67', 'C68', 'C69', 'C70', 'C71', 'C72', 'C73', 'C74', 'C75', 'C76', 'C77', 'C78', 'C79', 'C80', 'C81', 'C82', 'C83', 'C84', 'C85', 'C86', 'C87', 'C88', 'C89', 'C90', 'C91', 'C92', 'C93', 'C94', 'C95', 'C96', 'C97', 'C98', 'C99', 'C100', 'C101', 'C102', 'C103', 'C104', 'C105', 'C106', 'C107', 'C108', 'C109', 'C110', 'C111', 'C112', 'C113', 'C114', 'C115', 'C116', 'C117', 'C118', 'C119', 'C120', 'C121', 'C122', 'C123', 'C124', 'C125', 'C126', 'C127', 'C128', 'C129', 'C130', 'C131', 'C132', 'C133', 'C134', 'C135', 'C136', 'C137', 'C138', 'C139', 'C140', 'C141', 'C142', 'C143', 'C144', 'C145', 'C146', 'C147', 'C148', 'C149', 'C150', 'C151', 'C152', 'C153', 'C154', 'C155', 'C156', 'C157', 'C158', 'C159', 'C160', 'C161', 'C162', 'C163', 'C164', 'C165', 'C166', 'C167', 'C168', 'C169', 'C170', 'C171', 'C172', 'C173', 'C174', 'C175', 'C176', 'C177', 'C178', 'C179', 'C180', 'C181', 'C182', 'C183', 'C184', 'C185', 'C186', 'C187', 'C188', 'C189', 'C190', 'C191', 'C192', 'C193', 'C194', 'C195', 'C196', 'C197', 'C198', 'C199', 'C200', 'label_f']\n"
          ],
          "name": "stdout"
        }
      ]
    },
    {
      "cell_type": "code",
      "metadata": {
        "id": "aQemjfjfEEKP",
        "colab_type": "code",
        "colab": {}
      },
      "source": [
        "# Identify predictors and response\n",
        "x = ext_reviews_train.columns\n",
        "x = [x for x in ext_reviews_train.columns if x not in ['label', 'Train','text','label_f']] # remove columns that can leak data\n",
        "y = \"label_f\"\n",
        "# other_cols = \"\"\n",
        "# x.remove(y)\n",
        "\n",
        "# For binary classification, response should be a factor\n",
        "#train[y] = train[y].asfactor()\n",
        "#test[y] = test[y].asfactor()\n",
        "# Already done"
      ],
      "execution_count": 0,
      "outputs": []
    },
    {
      "cell_type": "code",
      "metadata": {
        "id": "e1xOQtjp4CH6",
        "colab_type": "code",
        "outputId": "17f5220e-9e09-447d-a57d-dcd61f214c88",
        "colab": {
          "base_uri": "https://localhost:8080/",
          "height": 54
        }
      },
      "source": [
        "print(x)"
      ],
      "execution_count": 30,
      "outputs": [
        {
          "output_type": "stream",
          "text": [
            "['C1', 'C2', 'C3', 'C4', 'C5', 'C6', 'C7', 'C8', 'C9', 'C10', 'C11', 'C12', 'C13', 'C14', 'C15', 'C16', 'C17', 'C18', 'C19', 'C20', 'C21', 'C22', 'C23', 'C24', 'C25', 'C26', 'C27', 'C28', 'C29', 'C30', 'C31', 'C32', 'C33', 'C34', 'C35', 'C36', 'C37', 'C38', 'C39', 'C40', 'C41', 'C42', 'C43', 'C44', 'C45', 'C46', 'C47', 'C48', 'C49', 'C50', 'C51', 'C52', 'C53', 'C54', 'C55', 'C56', 'C57', 'C58', 'C59', 'C60', 'C61', 'C62', 'C63', 'C64', 'C65', 'C66', 'C67', 'C68', 'C69', 'C70', 'C71', 'C72', 'C73', 'C74', 'C75', 'C76', 'C77', 'C78', 'C79', 'C80', 'C81', 'C82', 'C83', 'C84', 'C85', 'C86', 'C87', 'C88', 'C89', 'C90', 'C91', 'C92', 'C93', 'C94', 'C95', 'C96', 'C97', 'C98', 'C99', 'C100', 'C101', 'C102', 'C103', 'C104', 'C105', 'C106', 'C107', 'C108', 'C109', 'C110', 'C111', 'C112', 'C113', 'C114', 'C115', 'C116', 'C117', 'C118', 'C119', 'C120', 'C121', 'C122', 'C123', 'C124', 'C125', 'C126', 'C127', 'C128', 'C129', 'C130', 'C131', 'C132', 'C133', 'C134', 'C135', 'C136', 'C137', 'C138', 'C139', 'C140', 'C141', 'C142', 'C143', 'C144', 'C145', 'C146', 'C147', 'C148', 'C149', 'C150', 'C151', 'C152', 'C153', 'C154', 'C155', 'C156', 'C157', 'C158', 'C159', 'C160', 'C161', 'C162', 'C163', 'C164', 'C165', 'C166', 'C167', 'C168', 'C169', 'C170', 'C171', 'C172', 'C173', 'C174', 'C175', 'C176', 'C177', 'C178', 'C179', 'C180', 'C181', 'C182', 'C183', 'C184', 'C185', 'C186', 'C187', 'C188', 'C189', 'C190', 'C191', 'C192', 'C193', 'C194', 'C195', 'C196', 'C197', 'C198', 'C199', 'C200']\n"
          ],
          "name": "stdout"
        }
      ]
    },
    {
      "cell_type": "code",
      "metadata": {
        "id": "Q-fkoBnYEEFR",
        "colab_type": "code",
        "outputId": "624399fc-118e-49ea-ec5e-736ebce3b252",
        "colab": {
          "base_uri": "https://localhost:8080/",
          "height": 34
        }
      },
      "source": [
        "%%time\n",
        "# Run AutoML for 20 base models (limited to 1 hour max runtime by default)\n",
        "aml = H2OAutoML(max_models=20, seed=1)#, max_runtime_secs =1200)\n",
        "aml.train(x=x, y=y, training_frame=ext_reviews_train)"
      ],
      "execution_count": 0,
      "outputs": [
        {
          "output_type": "stream",
          "text": [
            "AutoML progress: |███████████████████████████████████████████████████████"
          ],
          "name": "stdout"
        }
      ]
    },
    {
      "cell_type": "code",
      "metadata": {
        "id": "p6DzSYbYED-a",
        "colab_type": "code",
        "colab": {}
      },
      "source": [
        "# View the AutoML Leaderboard\n",
        "lb = aml.leaderboard\n",
        "lb.head(rows=lb.nrows)  # Print all rows instead of default (10 rows)"
      ],
      "execution_count": 0,
      "outputs": []
    },
    {
      "cell_type": "code",
      "metadata": {
        "id": "LnchaGEVED8i",
        "colab_type": "code",
        "colab": {}
      },
      "source": [
        "#aml.leader.confusion_matrix()\n",
        "aml.leader.cross_validation_metrics_summary"
      ],
      "execution_count": 0,
      "outputs": []
    },
    {
      "cell_type": "code",
      "metadata": {
        "id": "yAL9a4r3H_S2",
        "colab_type": "code",
        "colab": {}
      },
      "source": [
        "#ext_reviews_test.columns"
      ],
      "execution_count": 0,
      "outputs": []
    },
    {
      "cell_type": "code",
      "metadata": {
        "id": "E1aEd__OED29",
        "colab_type": "code",
        "colab": {}
      },
      "source": [
        "aml.leader.confusion_matrix(ext_reviews_test) # "
      ],
      "execution_count": 0,
      "outputs": []
    },
    {
      "cell_type": "code",
      "metadata": {
        "id": "qORWMUvFWzHt",
        "colab_type": "code",
        "colab": {}
      },
      "source": [
        "con_mat = aml.leader.confusion_matrix(ext_reviews_test).as_data_frame()"
      ],
      "execution_count": 0,
      "outputs": []
    },
    {
      "cell_type": "code",
      "metadata": {
        "id": "-VCZyhRw0Kjh",
        "colab_type": "code",
        "colab": {}
      },
      "source": [
        "con_mat.iloc[19][19] #"
      ],
      "execution_count": 0,
      "outputs": []
    },
    {
      "cell_type": "code",
      "metadata": {
        "id": "Ir7U2ipU0ce1",
        "colab_type": "code",
        "colab": {}
      },
      "source": [
        "con_mat.iloc[19][21] #"
      ],
      "execution_count": 0,
      "outputs": []
    },
    {
      "cell_type": "code",
      "metadata": {
        "id": "clJOJWiC092Z",
        "colab_type": "code",
        "colab": {}
      },
      "source": [
        "con_mat.iloc[0:20,0:20]"
      ],
      "execution_count": 0,
      "outputs": []
    },
    {
      "cell_type": "code",
      "metadata": {
        "id": "5io3MV1A0h_B",
        "colab_type": "code",
        "colab": {}
      },
      "source": [
        "np.sum(np.diag(con_mat.iloc[0:20,0:20]))/(con_mat.iloc[0:20,0:20].values.sum()) # sum of diagnoal elements/ sum of all in the matrix # 38733477 & SO 53762743"
      ],
      "execution_count": 0,
      "outputs": []
    },
    {
      "cell_type": "markdown",
      "metadata": {
        "id": "jCx3HGb0fs7o",
        "colab_type": "text"
      },
      "source": [
        "### before making w2v exlusively from train data set: 0.6607298001737619\n",
        "### after making w2v exlusively from train data set: 0.6395759717314488"
      ]
    },
    {
      "cell_type": "code",
      "metadata": {
        "id": "aUqReQMN3H2G",
        "colab_type": "code",
        "colab": {}
      },
      "source": [
        "# getting the absolute accuracy  as above"
      ],
      "execution_count": 0,
      "outputs": []
    },
    {
      "cell_type": "code",
      "metadata": {
        "id": "ScCiUBYe3WtT",
        "colab_type": "code",
        "colab": {}
      },
      "source": [
        "con_mat.iloc[0:20,0:20].values.sum()"
      ],
      "execution_count": 0,
      "outputs": []
    },
    {
      "cell_type": "code",
      "metadata": {
        "id": "C4IMp5Pe3gKb",
        "colab_type": "code",
        "colab": {}
      },
      "source": [
        "ext_test.shape # hmmmm"
      ],
      "execution_count": 0,
      "outputs": []
    },
    {
      "cell_type": "code",
      "metadata": {
        "id": "W4doGN9P3oFk",
        "colab_type": "code",
        "colab": {}
      },
      "source": [
        "#ext_test.head(2)\n",
        "#ext_test.col_names"
      ],
      "execution_count": 0,
      "outputs": []
    },
    {
      "cell_type": "code",
      "metadata": {
        "id": "DFtbcpI4Hlic",
        "colab_type": "code",
        "colab": {}
      },
      "source": [
        "con_mat.to_csv('confusion_matrix.csv')"
      ],
      "execution_count": 0,
      "outputs": []
    },
    {
      "cell_type": "code",
      "metadata": {
        "id": "Y2qIqRIWHs9i",
        "colab_type": "code",
        "colab": {}
      },
      "source": [
        "aml.leader.hit_ratio_table().as_data_frame() # SO 53762743"
      ],
      "execution_count": 0,
      "outputs": []
    },
    {
      "cell_type": "code",
      "metadata": {
        "id": "t39uT_hbbU0T",
        "colab_type": "code",
        "colab": {}
      },
      "source": [
        "#train.label.head()\n",
        "# easier to get pd data and cast it to h2o frame\n",
        "df.head(2)"
      ],
      "execution_count": 0,
      "outputs": []
    },
    {
      "cell_type": "code",
      "metadata": {
        "id": "ZTk96JxwccR5",
        "colab_type": "code",
        "colab": {}
      },
      "source": [
        "random_news  = h2o.H2OFrame(df.iloc[0:1,0:2])"
      ],
      "execution_count": 0,
      "outputs": []
    },
    {
      "cell_type": "code",
      "metadata": {
        "id": "E3YAUKXRaV6V",
        "colab_type": "code",
        "colab": {}
      },
      "source": [
        "p_words = tokenize(random_news[\"text\"].ascharacter())\n",
        "p_words.shape"
      ],
      "execution_count": 0,
      "outputs": []
    },
    {
      "cell_type": "code",
      "metadata": {
        "id": "BI03n_yEdGii",
        "colab_type": "code",
        "colab": {}
      },
      "source": [
        "# how to predict...\n",
        "p_reviews_vec = w2v_model.transform(p_words, aggregate_method=\"AVERAGE\")"
      ],
      "execution_count": 0,
      "outputs": []
    },
    {
      "cell_type": "code",
      "metadata": {
        "id": "GURO19r6xx_M",
        "colab_type": "code",
        "colab": {}
      },
      "source": [
        "aml.leader.predict(p_reviews_vec)"
      ],
      "execution_count": 0,
      "outputs": []
    },
    {
      "cell_type": "code",
      "metadata": {
        "id": "llH6sFzseI8j",
        "colab_type": "code",
        "colab": {}
      },
      "source": [
        "# p17 has the max... "
      ],
      "execution_count": 0,
      "outputs": []
    },
    {
      "cell_type": "code",
      "metadata": {
        "id": "EQ5OAC0hbAo6",
        "colab_type": "code",
        "colab": {}
      },
      "source": [
        ""
      ],
      "execution_count": 0,
      "outputs": []
    }
  ]
}
