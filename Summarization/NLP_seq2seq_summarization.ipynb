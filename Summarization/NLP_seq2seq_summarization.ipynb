{
  "nbformat": 4,
  "nbformat_minor": 0,
  "metadata": {
    "colab": {
      "name": "NLP_seq2seq_summarization.ipynb",
      "provenance": [],
      "collapsed_sections": [],
      "include_colab_link": true
    },
    "kernelspec": {
      "name": "python3",
      "display_name": "Python 3"
    },
    "accelerator": "GPU"
  },
  "cells": [
    {
      "cell_type": "markdown",
      "metadata": {
        "id": "view-in-github",
        "colab_type": "text"
      },
      "source": [
        "<a href=\"https://colab.research.google.com/github/ronykroy/NLP/blob/master/NLP_seq2seq_summarization.ipynb\" target=\"_parent\"><img src=\"https://colab.research.google.com/assets/colab-badge.svg\" alt=\"Open In Colab\"/></a>"
      ]
    },
    {
      "cell_type": "code",
      "metadata": {
        "id": "3FOwWSINgCxY",
        "colab_type": "code",
        "colab": {}
      },
      "source": [
        ""
      ],
      "execution_count": 0,
      "outputs": []
    },
    {
      "cell_type": "markdown",
      "metadata": {
        "id": "P4ozhiN9gDke",
        "colab_type": "text"
      },
      "source": [
        "## They never really tell you how to clean the data do they...?"
      ]
    },
    {
      "cell_type": "code",
      "metadata": {
        "id": "_ri4O53w40wI",
        "colab_type": "code",
        "outputId": "2f9deefd-d5df-42bc-dba6-b171860351a6",
        "colab": {
          "base_uri": "https://localhost:8080/",
          "height": 212
        }
      },
      "source": [
        "! wget https://snap.stanford.edu/data/finefoods.txt.gz"
      ],
      "execution_count": 1,
      "outputs": [
        {
          "output_type": "stream",
          "text": [
            "--2019-11-06 02:58:43--  https://snap.stanford.edu/data/finefoods.txt.gz\n",
            "Resolving snap.stanford.edu (snap.stanford.edu)... 171.64.75.80\n",
            "Connecting to snap.stanford.edu (snap.stanford.edu)|171.64.75.80|:443... connected.\n",
            "HTTP request sent, awaiting response... 200 OK\n",
            "Length: 122104202 (116M) [application/x-gzip]\n",
            "Saving to: ‘finefoods.txt.gz’\n",
            "\n",
            "finefoods.txt.gz    100%[===================>] 116.45M  35.6MB/s    in 4.0s    \n",
            "\n",
            "2019-11-06 02:58:47 (28.8 MB/s) - ‘finefoods.txt.gz’ saved [122104202/122104202]\n",
            "\n"
          ],
          "name": "stdout"
        }
      ]
    },
    {
      "cell_type": "code",
      "metadata": {
        "id": "fcEldWa6L2j4",
        "colab_type": "code",
        "colab": {}
      },
      "source": [
        "! gunzip finefoods.txt.gz"
      ],
      "execution_count": 0,
      "outputs": []
    },
    {
      "cell_type": "code",
      "metadata": {
        "id": "Ew9WznGQMIsw",
        "colab_type": "code",
        "outputId": "8c73c2b5-035f-46ad-8668-0dede0bac4ab",
        "colab": {
          "base_uri": "https://localhost:8080/",
          "height": 35
        }
      },
      "source": [
        "ls"
      ],
      "execution_count": 3,
      "outputs": [
        {
          "output_type": "stream",
          "text": [
            "finefoods.txt  \u001b[0m\u001b[01;34msample_data\u001b[0m/\n"
          ],
          "name": "stdout"
        }
      ]
    },
    {
      "cell_type": "code",
      "metadata": {
        "id": "v8PIDPJYM05B",
        "colab_type": "code",
        "colab": {}
      },
      "source": [
        "with open('finefoods.txt', 'r',encoding = 'latin') as infile:\n",
        "    lines = [line for line in infile]"
      ],
      "execution_count": 0,
      "outputs": []
    },
    {
      "cell_type": "code",
      "metadata": {
        "id": "iuCYHU4pYbyk",
        "colab_type": "code",
        "colab": {}
      },
      "source": [
        "import pandas as pd"
      ],
      "execution_count": 0,
      "outputs": []
    },
    {
      "cell_type": "code",
      "metadata": {
        "id": "PiwfOr8TP8i1",
        "colab_type": "code",
        "outputId": "d2cb3a92-79d5-4d6f-90a9-b97dd353dc64",
        "colab": {
          "base_uri": "https://localhost:8080/",
          "height": 35
        }
      },
      "source": [
        "len(lines)"
      ],
      "execution_count": 6,
      "outputs": [
        {
          "output_type": "execute_result",
          "data": {
            "text/plain": [
              "5116093"
            ]
          },
          "metadata": {
            "tags": []
          },
          "execution_count": 6
        }
      ]
    },
    {
      "cell_type": "code",
      "metadata": {
        "id": "sfa2DA4RMLzu",
        "colab_type": "code",
        "colab": {}
      },
      "source": [
        "lines_cleaned = [l.rstrip(\"\\n\\r\") for l in lines]"
      ],
      "execution_count": 0,
      "outputs": []
    },
    {
      "cell_type": "code",
      "metadata": {
        "id": "Yx5NyIkrUM3w",
        "colab_type": "code",
        "colab": {}
      },
      "source": [
        " ind_start = [i for i, s in enumerate(lines_cleaned) if 'product/productId' in s]"
      ],
      "execution_count": 0,
      "outputs": []
    },
    {
      "cell_type": "code",
      "metadata": {
        "id": "hA9TcgheUcXq",
        "colab_type": "code",
        "colab": {}
      },
      "source": [
        "ind_end = [i for i, s in enumerate(lines_cleaned) if 'review/text' in s]"
      ],
      "execution_count": 0,
      "outputs": []
    },
    {
      "cell_type": "code",
      "metadata": {
        "id": "dbDlQOE4QBMM",
        "colab_type": "code",
        "outputId": "a85acc99-20fe-486c-8c94-f7ba9416a4be",
        "colab": {
          "base_uri": "https://localhost:8080/",
          "height": 35
        }
      },
      "source": [
        "len(ind_start); ind_start[:10]"
      ],
      "execution_count": 10,
      "outputs": [
        {
          "output_type": "execute_result",
          "data": {
            "text/plain": [
              "[0, 9, 18, 27, 36, 45, 54, 63, 72, 81]"
            ]
          },
          "metadata": {
            "tags": []
          },
          "execution_count": 10
        }
      ]
    },
    {
      "cell_type": "code",
      "metadata": {
        "id": "LdKZ689sSWXQ",
        "colab_type": "code",
        "outputId": "ba5a61af-c849-47ba-91aa-9b817a8b4f85",
        "colab": {
          "base_uri": "https://localhost:8080/",
          "height": 35
        }
      },
      "source": [
        "len(ind_end);ind_end[:10]"
      ],
      "execution_count": 11,
      "outputs": [
        {
          "output_type": "execute_result",
          "data": {
            "text/plain": [
              "[7, 16, 25, 34, 43, 52, 61, 70, 79, 88]"
            ]
          },
          "metadata": {
            "tags": []
          },
          "execution_count": 11
        }
      ]
    },
    {
      "cell_type": "code",
      "metadata": {
        "id": "MyGwZ8EeQReY",
        "colab_type": "code",
        "colab": {}
      },
      "source": [
        "#a = zip(ind_start,ind_end)"
      ],
      "execution_count": 0,
      "outputs": []
    },
    {
      "cell_type": "code",
      "metadata": {
        "id": "mBHR5IBuZifR",
        "colab_type": "code",
        "outputId": "8053760e-833e-49e3-bada-1dbe3de7c7ca",
        "colab": {
          "base_uri": "https://localhost:8080/",
          "height": 410
        }
      },
      "source": [
        "pd_list=[]\n",
        "for i in range(len(ind_end)):\n",
        "  try:\n",
        "    dict_2={} # empty dict\n",
        "    c = lines_cleaned[ind_start[i]:ind_end[i]+1]\n",
        "    for entry in c:\n",
        "      d = entry.split(': ')\n",
        "      dict_2[d[0].split('/')[1]] = d[1]\n",
        "    \n",
        "    pd_list.append(dict_2)\n",
        "  except IndexError as index_error:\n",
        "    print('index error occurred for',c)\n",
        "    print('at entry',entry)\n",
        "    print('at index',ind_start[i])\n",
        "    pass"
      ],
      "execution_count": 13,
      "outputs": [
        {
          "output_type": "stream",
          "text": [
            "index error occurred for ['product/productId: B002RIZUQ2', 'review/userId: AS2DLXUWDK0GP', 'review/profileName: MABEL \"Tell us about yourself!', '88 years old. ...', 'review/helpfulness: 1/1', 'review/score: 4.0', 'review/time: 1289088000', 'review/summary: delicious', \"review/text: if you prefer a tasteful and less strong flavored coffee, I reommend Green Mountain's hazelnut.  I have not been a coffee drinker, but upon tasting this brew, I drink it daily.\"]\n",
            "at entry 88 years old. ...\n",
            "at index 847773\n",
            "index error occurred for ['product/productId: B004FEJ968', 'review/userId: ALDIU41MJLTZA', 'review/profileName: Don Snyder \"The Idea Guy', '...creative powers b...', 'review/helpfulness: 0/0', 'review/score: 3.0', 'review/time: 1308182400', 'review/summary: Less would have been more', \"review/text: The taste of the Newton's Fruit Thins was pretty good. It's a nice crunchy treat, and I really enjoyed the cranberry citrus and oat flavor. It was like a really thin and crisp designer oatmeal cookie.  I would have liked the product more if the cookies were smaller in size.  The snacks are rather large and round in shape, and being so thin they easily break and crumble. If they were 1/4 of the current size you could easily consume them in one or two bites and eliminate the crumbs.  The packaging leaves a lot to be desired. The outer foil bag isn't bad, but the inside plastic tray is clumsy and tough to slide back into the resealable wrap, and combined with the large crumbly nature of the cookie already mentioned above I doubt very much if anyone buying these in a store ends up with more than half of the cookies actually being whole by the time they get home.  Ordering them from Amazon easily guarantees half the product inside will be in pieces -- but like I said... the smaller size (even if they are broken pieces) makes 'em easier to eat!\"]\n",
            "at entry ...creative powers b...\n",
            "at index 1593766\n",
            "index error occurred for ['product/productId: B004APZYVG', 'review/userId: AAW9ZM7G78WAK', 'review/profileName: Sherry \"Tell us about yourself!', 'School Princi...', 'review/helpfulness: 0/0', 'review/score: 5.0', 'review/time: 1341360000', 'review/summary: Get Coffee Shop flavor at home', 'review/text: This mocha coffee is as good as any I have had at Starbucks or Dunkin Donuts at a fraction of the cost.<br />Treat yourself to a special flavored coffee experience at home anytime.  I like to add just a little skim milk to my mug and it is even smoother.  Try it you will like it.']\n",
            "at entry School Princi...\n",
            "at index 1711784\n",
            "index error occurred for ['product/productId: B004EE0TYK', 'review/userId: AAW9ZM7G78WAK', 'review/profileName: Sherry \"Tell us about yourself!', 'School Princi...', 'review/helpfulness: 0/0', 'review/score: 5.0', 'review/time: 1341360000', 'review/summary: Get Coffee Shop flavor at home', 'review/text: This mocha coffee is as good as any I have had at Starbucks or Dunkin Donuts at a fraction of the cost.<br />Treat yourself to a special flavored coffee experience at home anytime.  I like to add just a little skim milk to my mug and it is even smoother.  Try it you will like it.']\n",
            "at entry School Princi...\n",
            "at index 2554500\n",
            "index error occurred for ['product/productId: B003XBBAUM', 'review/userId: A2HVY3YRSJR5NF', 'review/profileName: J. Facey \"J.F., CA', 'I am a voracious reader/li...', 'review/helpfulness: 2/2', 'review/score: 5.0', 'review/time: 1332633600', 'review/summary: The absolute best - taste better than brown sugar', 'review/text: I recently bought this sugar alternative and I am completely blown away! I have fibromyalgia, multiple food allergies/sensitivities and so many thing make me feel bad including exacerbating my pain. This does not have any negative effects on me whatsoever. The taste is out of this world! I am tempted to just eat it. This one is a winner! A little secret - I found it much cheaper at Whole Foods market.']\n",
            "at entry I am a voracious reader/li...\n",
            "at index 3160642\n",
            "index error occurred for ['product/productId: B004M62COU', 'review/userId: AAW9ZM7G78WAK', 'review/profileName: Sherry \"Tell us about yourself!', 'School Princi...', 'review/helpfulness: 0/0', 'review/score: 5.0', 'review/time: 1341360000', 'review/summary: Tasty, smooth, with full flavor', 'review/text: This coffee blend is full bodied but not overpowering and makes for a smooth tasty cup of coffee.  It is great anytime of day.  Green Mountain has done an excellent job with this blend.  You will not be disappointed.']\n",
            "at entry School Princi...\n",
            "at index 3396182\n",
            "index error occurred for ['product/productId: B0061IUIDY', 'review/userId: ALDIU41MJLTZA', 'review/profileName: Don Snyder \"The Idea Guy', '...creative powers b...', 'review/helpfulness: 1/2', 'review/score: 2.0', 'review/time: 1343260800', 'review/summary: There are better brands out there', 'review/text: I\\'m a huge fan of tea and drink a LOT of it.  This is the first time I tried Higgins & Burke brand and have to say that I\\'ve never heard of it before.  English Breakfast Tea is probably my second favorite packaged tea to drink (Earl Grey being my first choice), but most brands I\\'ve tried are usually pretty similar.  Not so with this brand.  The aroma didn\\'t seem as rich and flavor seemed somehow \"off\" to me, but I couldn\\'t quite put my finger on what I didn\\'t like until I read one of the other reviews here on Amazon and the reviewer described it as \"musky.\"  That\\'s about as accurate a description as I can think of.<br /><br />I like my tea strong (leaving the bag to steep the entire time I\\'m drinking it) and do not add sweetener or cream or lemon.  After trying the first cup, I knew that I\\'d have to add something so on my second mug I added a bit of sweetener and it helped take the musky edge off, but it still wasn\\'t what I consider a flavorful English Breakfast blend.<br /><br />If you\\'re a fan of traditional English Breakfast Tea I would recommend <a href=\"http://www.amazon.com/gp/product/B000F4F952\">Twinings English Breakfast Tea, Tea Bags, 50-Count Boxes (Pack of 6)</a>, <a href=\"http://www.amazon.com/gp/product/B0010DLWT4\">The Republic of Tea, British Breakfast Tea, 50-Count</a>, or even <a href=\"http://www.amazon.com/gp/product/B0000C69FB\">Tazo Awake Black Tea, 24-Count Tea Bags (Pack of 6)</a> over the Higgins & Burke brand.']\n",
            "at entry ...creative powers b...\n",
            "at index 4845255\n"
          ],
          "name": "stdout"
        }
      ]
    },
    {
      "cell_type": "code",
      "metadata": {
        "id": "jlBcgiRZfj8L",
        "colab_type": "code",
        "outputId": "91376dea-27b6-4017-b4d5-17d9b30bfc05",
        "colab": {
          "base_uri": "https://localhost:8080/",
          "height": 35
        }
      },
      "source": [
        "len(ind_end)"
      ],
      "execution_count": 14,
      "outputs": [
        {
          "output_type": "execute_result",
          "data": {
            "text/plain": [
              "568454"
            ]
          },
          "metadata": {
            "tags": []
          },
          "execution_count": 14
        }
      ]
    },
    {
      "cell_type": "code",
      "metadata": {
        "id": "gPMsjXg9duSP",
        "colab_type": "code",
        "outputId": "66869527-8c5f-4ac5-f77e-e0b5c0b3bdb8",
        "colab": {
          "base_uri": "https://localhost:8080/",
          "height": 35
        }
      },
      "source": [
        "len(pd_list) # close enuf"
      ],
      "execution_count": 15,
      "outputs": [
        {
          "output_type": "execute_result",
          "data": {
            "text/plain": [
              "568447"
            ]
          },
          "metadata": {
            "tags": []
          },
          "execution_count": 15
        }
      ]
    },
    {
      "cell_type": "code",
      "metadata": {
        "id": "pKjzVP19fph4",
        "colab_type": "code",
        "outputId": "af00e71e-d599-4a9f-b656-7028fe1ac6ac",
        "colab": {
          "base_uri": "https://localhost:8080/",
          "height": 35
        }
      },
      "source": [
        "len(ind_end) -len(pd_list) # exactly the number of times the index eror popped up"
      ],
      "execution_count": 16,
      "outputs": [
        {
          "output_type": "execute_result",
          "data": {
            "text/plain": [
              "7"
            ]
          },
          "metadata": {
            "tags": []
          },
          "execution_count": 16
        }
      ]
    },
    {
      "cell_type": "code",
      "metadata": {
        "id": "co8Jxy39fQDH",
        "colab_type": "code",
        "colab": {}
      },
      "source": [
        "#pd_list[:3]"
      ],
      "execution_count": 0,
      "outputs": []
    },
    {
      "cell_type": "code",
      "metadata": {
        "id": "-SNab3WtWi9q",
        "colab_type": "code",
        "colab": {}
      },
      "source": [
        "df = pd.DataFrame(pd_list)"
      ],
      "execution_count": 0,
      "outputs": []
    },
    {
      "cell_type": "code",
      "metadata": {
        "id": "5vCQ7F9TL-hc",
        "colab_type": "code",
        "colab": {}
      },
      "source": [
        "#https://www.analyticsvidhya.com/blog/2019/06/comprehensive-guide-text-summarization-using-deep-learning-python"
      ],
      "execution_count": 0,
      "outputs": []
    },
    {
      "cell_type": "markdown",
      "metadata": {
        "id": "3I5eVxE2gliP",
        "colab_type": "text"
      },
      "source": [
        "## Data cleaning"
      ]
    },
    {
      "cell_type": "code",
      "metadata": {
        "id": "55thQYckgo6Y",
        "colab_type": "code",
        "outputId": "39934670-86a4-486d-d28c-d6a312507e6c",
        "colab": {
          "base_uri": "https://localhost:8080/",
          "height": 70
        }
      },
      "source": [
        "df.columns"
      ],
      "execution_count": 20,
      "outputs": [
        {
          "output_type": "execute_result",
          "data": {
            "text/plain": [
              "Index(['productId', 'userId', 'profileName', 'helpfulness', 'score', 'time',\n",
              "       'summary', 'text'],\n",
              "      dtype='object')"
            ]
          },
          "metadata": {
            "tags": []
          },
          "execution_count": 20
        }
      ]
    },
    {
      "cell_type": "code",
      "metadata": {
        "id": "lSUGKN-wNyXl",
        "colab_type": "code",
        "colab": {}
      },
      "source": [
        "df.drop_duplicates(subset=['text'],inplace=True)  #dropping duplicates\n",
        "df.dropna(axis=0,inplace=True)   #dropping na"
      ],
      "execution_count": 0,
      "outputs": []
    },
    {
      "cell_type": "code",
      "metadata": {
        "id": "Ia2QYZXjhHBW",
        "colab_type": "code",
        "colab": {}
      },
      "source": [
        "# a patently ridiculoud pre processing step "
      ],
      "execution_count": 0,
      "outputs": []
    },
    {
      "cell_type": "code",
      "metadata": {
        "id": "uAIstgguN0TT",
        "colab_type": "code",
        "colab": {}
      },
      "source": [
        "contraction_mapping = {\"ain't\": \"is not\", \"aren't\": \"are not\",\"can't\": \"cannot\", \"'cause\": \"because\", \"could've\": \"could have\", \"couldn't\": \"could not\",\n",
        "                            \"didn't\": \"did not\", \"doesn't\": \"does not\", \"don't\": \"do not\", \"hadn't\": \"had not\", \"hasn't\": \"has not\", \"haven't\": \"have not\",\n",
        "                            \"he'd\": \"he would\",\"he'll\": \"he will\", \"he's\": \"he is\", \"how'd\": \"how did\", \"how'd'y\": \"how do you\", \"how'll\": \"how will\", \"how's\": \"how is\",\n",
        "                            \"I'd\": \"I would\", \"I'd've\": \"I would have\", \"I'll\": \"I will\", \"I'll've\": \"I will have\",\"I'm\": \"I am\", \"I've\": \"I have\", \"i'd\": \"i would\",\n",
        "                            \"i'd've\": \"i would have\", \"i'll\": \"i will\",  \"i'll've\": \"i will have\",\"i'm\": \"i am\", \"i've\": \"i have\", \"isn't\": \"is not\", \"it'd\": \"it would\",\n",
        "                            \"it'd've\": \"it would have\", \"it'll\": \"it will\", \"it'll've\": \"it will have\",\"it's\": \"it is\", \"let's\": \"let us\", \"ma'am\": \"madam\",\n",
        "                            \"mayn't\": \"may not\", \"might've\": \"might have\",\"mightn't\": \"might not\",\"mightn't've\": \"might not have\", \"must've\": \"must have\",\n",
        "                            \"mustn't\": \"must not\", \"mustn't've\": \"must not have\", \"needn't\": \"need not\", \"needn't've\": \"need not have\",\"o'clock\": \"of the clock\",\n",
        "                            \"oughtn't\": \"ought not\", \"oughtn't've\": \"ought not have\", \"shan't\": \"shall not\", \"sha'n't\": \"shall not\", \"shan't've\": \"shall not have\",\n",
        "                            \"she'd\": \"she would\", \"she'd've\": \"she would have\", \"she'll\": \"she will\", \"she'll've\": \"she will have\", \"she's\": \"she is\",\n",
        "                            \"should've\": \"should have\", \"shouldn't\": \"should not\", \"shouldn't've\": \"should not have\", \"so've\": \"so have\",\"so's\": \"so as\",\n",
        "                            \"this's\": \"this is\",\"that'd\": \"that would\", \"that'd've\": \"that would have\", \"that's\": \"that is\", \"there'd\": \"there would\",\n",
        "                            \"there'd've\": \"there would have\", \"there's\": \"there is\", \"here's\": \"here is\",\"they'd\": \"they would\", \"they'd've\": \"they would have\",\n",
        "                            \"they'll\": \"they will\", \"they'll've\": \"they will have\", \"they're\": \"they are\", \"they've\": \"they have\", \"to've\": \"to have\",\n",
        "                            \"wasn't\": \"was not\", \"we'd\": \"we would\", \"we'd've\": \"we would have\", \"we'll\": \"we will\", \"we'll've\": \"we will have\", \"we're\": \"we are\",\n",
        "                            \"we've\": \"we have\", \"weren't\": \"were not\", \"what'll\": \"what will\", \"what'll've\": \"what will have\", \"what're\": \"what are\",\n",
        "                            \"what's\": \"what is\", \"what've\": \"what have\", \"when's\": \"when is\", \"when've\": \"when have\", \"where'd\": \"where did\", \"where's\": \"where is\",\n",
        "                            \"where've\": \"where have\", \"who'll\": \"who will\", \"who'll've\": \"who will have\", \"who's\": \"who is\", \"who've\": \"who have\",\n",
        "                            \"why's\": \"why is\", \"why've\": \"why have\", \"will've\": \"will have\", \"won't\": \"will not\", \"won't've\": \"will not have\",\n",
        "                            \"would've\": \"would have\", \"wouldn't\": \"would not\", \"wouldn't've\": \"would not have\", \"y'all\": \"you all\",\n",
        "                            \"y'all'd\": \"you all would\",\"y'all'd've\": \"you all would have\",\"y'all're\": \"you all are\",\"y'all've\": \"you all have\",\n",
        "                            \"you'd\": \"you would\", \"you'd've\": \"you would have\", \"you'll\": \"you will\", \"you'll've\": \"you will have\",\n",
        "                            \"you're\": \"you are\", \"you've\": \"you have\"} "
      ],
      "execution_count": 0,
      "outputs": []
    },
    {
      "cell_type": "code",
      "metadata": {
        "id": "Z8qF4jlShKBO",
        "colab_type": "code",
        "outputId": "0f43c9f1-1b2b-45b5-ea69-ebadede5caa6",
        "colab": {
          "base_uri": "https://localhost:8080/",
          "height": 70
        }
      },
      "source": [
        "df['text'][:2]"
      ],
      "execution_count": 24,
      "outputs": [
        {
          "output_type": "execute_result",
          "data": {
            "text/plain": [
              "0    I have bought several of the Vitality canned d...\n",
              "1    Product arrived labeled as Jumbo Salted Peanut...\n",
              "Name: text, dtype: object"
            ]
          },
          "metadata": {
            "tags": []
          },
          "execution_count": 24
        }
      ]
    },
    {
      "cell_type": "markdown",
      "metadata": {
        "id": "mYWoTrROheCr",
        "colab_type": "text"
      },
      "source": [
        "## I can has the code"
      ]
    },
    {
      "cell_type": "code",
      "metadata": {
        "id": "VjPbbWgJhZ0M",
        "colab_type": "code",
        "outputId": "a889a9d9-2778-41a2-bae1-77cb3289e187",
        "colab": {
          "base_uri": "https://localhost:8080/",
          "height": 35
        }
      },
      "source": [
        "%tensorflow_version 2.x \n",
        "# enforce 2.x compliance anyway"
      ],
      "execution_count": 25,
      "outputs": [
        {
          "output_type": "stream",
          "text": [
            "TensorFlow 2.x selected.\n"
          ],
          "name": "stdout"
        }
      ]
    },
    {
      "cell_type": "code",
      "metadata": {
        "id": "fU07ZaZ4hYED",
        "colab_type": "code",
        "outputId": "adf0803f-d0d1-44a0-8d9b-c918237dfe76",
        "colab": {
          "base_uri": "https://localhost:8080/",
          "height": 35
        }
      },
      "source": [
        "import numpy as np  \n",
        "import pandas as pd \n",
        "import re           \n",
        "from bs4 import BeautifulSoup \n",
        "from keras.preprocessing.text import Tokenizer \n",
        "from keras.preprocessing.sequence import pad_sequences\n",
        "from nltk.corpus import stopwords   \n",
        "from tensorflow.keras.layers import Input, LSTM, Embedding, Dense, Concatenate, TimeDistributed, Bidirectional\n",
        "from tensorflow.keras.models import Model\n",
        "from tensorflow.keras.callbacks import EarlyStopping\n",
        "import warnings\n",
        "pd.set_option(\"display.max_colwidth\", 200)\n",
        "warnings.filterwarnings(\"ignore\") \n"
      ],
      "execution_count": 26,
      "outputs": [
        {
          "output_type": "stream",
          "text": [
            "Using TensorFlow backend.\n"
          ],
          "name": "stderr"
        }
      ]
    },
    {
      "cell_type": "code",
      "metadata": {
        "id": "6GncnkEHh6wi",
        "colab_type": "code",
        "outputId": "5501dc02-f5f4-4511-99bf-e68228fb3b13",
        "colab": {
          "base_uri": "https://localhost:8080/",
          "height": 70
        }
      },
      "source": [
        "import nltk\n",
        "nltk.download('stopwords')"
      ],
      "execution_count": 27,
      "outputs": [
        {
          "output_type": "stream",
          "text": [
            "[nltk_data] Downloading package stopwords to /root/nltk_data...\n",
            "[nltk_data]   Unzipping corpora/stopwords.zip.\n"
          ],
          "name": "stdout"
        },
        {
          "output_type": "execute_result",
          "data": {
            "text/plain": [
              "True"
            ]
          },
          "metadata": {
            "tags": []
          },
          "execution_count": 27
        }
      ]
    },
    {
      "cell_type": "code",
      "metadata": {
        "id": "SwtNd5BGhOSK",
        "colab_type": "code",
        "colab": {}
      },
      "source": [
        "stop_words = set(stopwords.words('english')) \n",
        "def text_cleaner(text):\n",
        "    newString = text.lower()\n",
        "    newString = BeautifulSoup(newString, \"lxml\").text # there were links in the original data seth that might have been a ready made .csv file..?\n",
        "    newString = re.sub(r'\\([^)]*\\)', '', newString)\n",
        "    newString = re.sub('\"','', newString)\n",
        "    newString = ' '.join([contraction_mapping[t] if t in contraction_mapping else t for t in newString.split(\" \")])    \n",
        "    newString = re.sub(r\"'s\\b\",\"\",newString)\n",
        "    newString = re.sub(\"[^a-zA-Z]\", \" \", newString) \n",
        "    tokens = [w for w in newString.split() if not w in stop_words]\n",
        "    long_words=[]\n",
        "    for i in tokens:\n",
        "        if len(i)>=3:                  #removing short word\n",
        "            long_words.append(i)   \n",
        "    return (\" \".join(long_words)).strip()\n",
        "\n",
        "cleaned_text = []\n",
        "for t in df['text']:\n",
        "    cleaned_text.append(text_cleaner(t))"
      ],
      "execution_count": 0,
      "outputs": []
    },
    {
      "cell_type": "code",
      "metadata": {
        "id": "jNMS4_E-hR2f",
        "colab_type": "code",
        "outputId": "e2b64b27-ba42-4f00-eb3c-3b495e4c964f",
        "colab": {
          "base_uri": "https://localhost:8080/",
          "height": 70
        }
      },
      "source": [
        "df['summary'][:2]"
      ],
      "execution_count": 29,
      "outputs": [
        {
          "output_type": "execute_result",
          "data": {
            "text/plain": [
              "0    Good Quality Dog Food\n",
              "1        Not as Advertised\n",
              "Name: summary, dtype: object"
            ]
          },
          "metadata": {
            "tags": []
          },
          "execution_count": 29
        }
      ]
    },
    {
      "cell_type": "code",
      "metadata": {
        "id": "mElP33dtiVzH",
        "colab_type": "code",
        "colab": {}
      },
      "source": [
        "def summary_cleaner(text):\n",
        "    newString = re.sub('\"','', text)\n",
        "    newString = ' '.join([contraction_mapping[t] if t in contraction_mapping else t for t in newString.split(\" \")])    \n",
        "    newString = re.sub(r\"'s\\b\",\"\",newString)\n",
        "    newString = re.sub(\"[^a-zA-Z]\", \" \", newString)\n",
        "    newString = newString.lower()\n",
        "    tokens=newString.split()\n",
        "    newString=''\n",
        "    for i in tokens:\n",
        "        if len(i)>1:                                 \n",
        "            newString=newString+i+' '  \n",
        "    return newString\n",
        "\n",
        "#Call the above function\n",
        "cleaned_summary = []\n",
        "for t in df['summary']:\n",
        "    cleaned_summary.append(summary_cleaner(t))\n"
      ],
      "execution_count": 0,
      "outputs": []
    },
    {
      "cell_type": "code",
      "metadata": {
        "id": "j_I22cmsjAu-",
        "colab_type": "code",
        "colab": {}
      },
      "source": [
        "df['cleaned_text']=cleaned_text\n",
        "df['cleaned_summary']=cleaned_summary\n",
        "df['cleaned_summary'].replace('', np.nan, inplace=True)\n",
        "df.dropna(axis=0,inplace=True)"
      ],
      "execution_count": 0,
      "outputs": []
    },
    {
      "cell_type": "code",
      "metadata": {
        "id": "hTrs_4oujBfA",
        "colab_type": "code",
        "outputId": "c195f9c2-b427-47a1-cf08-ef424faa9779",
        "colab": {
          "base_uri": "https://localhost:8080/",
          "height": 430
        }
      },
      "source": [
        "df.head()"
      ],
      "execution_count": 32,
      "outputs": [
        {
          "output_type": "execute_result",
          "data": {
            "text/html": [
              "<div>\n",
              "<style scoped>\n",
              "    .dataframe tbody tr th:only-of-type {\n",
              "        vertical-align: middle;\n",
              "    }\n",
              "\n",
              "    .dataframe tbody tr th {\n",
              "        vertical-align: top;\n",
              "    }\n",
              "\n",
              "    .dataframe thead th {\n",
              "        text-align: right;\n",
              "    }\n",
              "</style>\n",
              "<table border=\"1\" class=\"dataframe\">\n",
              "  <thead>\n",
              "    <tr style=\"text-align: right;\">\n",
              "      <th></th>\n",
              "      <th>productId</th>\n",
              "      <th>userId</th>\n",
              "      <th>profileName</th>\n",
              "      <th>helpfulness</th>\n",
              "      <th>score</th>\n",
              "      <th>time</th>\n",
              "      <th>summary</th>\n",
              "      <th>text</th>\n",
              "      <th>cleaned_text</th>\n",
              "      <th>cleaned_summary</th>\n",
              "    </tr>\n",
              "  </thead>\n",
              "  <tbody>\n",
              "    <tr>\n",
              "      <th>0</th>\n",
              "      <td>B001E4KFG0</td>\n",
              "      <td>A3SGXH7AUHU8GW</td>\n",
              "      <td>delmartian</td>\n",
              "      <td>1/1</td>\n",
              "      <td>5.0</td>\n",
              "      <td>1303862400</td>\n",
              "      <td>Good Quality Dog Food</td>\n",
              "      <td>I have bought several of the Vitality canned dog food products and have found them all to be of good quality. The product looks more like a stew than a processed meat and it smells better. My Labr...</td>\n",
              "      <td>bought several vitality canned dog food products found good quality product looks like stew processed meat smells better labrador finicky appreciates product better</td>\n",
              "      <td>good quality dog food</td>\n",
              "    </tr>\n",
              "    <tr>\n",
              "      <th>1</th>\n",
              "      <td>B00813GRG4</td>\n",
              "      <td>A1D87F6ZCVE5NK</td>\n",
              "      <td>dll pa</td>\n",
              "      <td>0/0</td>\n",
              "      <td>1.0</td>\n",
              "      <td>1346976000</td>\n",
              "      <td>Not as Advertised</td>\n",
              "      <td>Product arrived labeled as Jumbo Salted Peanuts...the peanuts were actually small sized unsalted. Not sure if this was an error or if the vendor intended to represent the product as \"Jumbo\".</td>\n",
              "      <td>product arrived labeled jumbo salted peanuts peanuts actually small sized unsalted sure error vendor intended represent product jumbo</td>\n",
              "      <td>not as advertised</td>\n",
              "    </tr>\n",
              "    <tr>\n",
              "      <th>2</th>\n",
              "      <td>B000LQOCH0</td>\n",
              "      <td>ABXLMWJIXXAIN</td>\n",
              "      <td>Natalia Corres \"Natalia Corres\"</td>\n",
              "      <td>1/1</td>\n",
              "      <td>4.0</td>\n",
              "      <td>1219017600</td>\n",
              "      <td>\"Delight\" says it all</td>\n",
              "      <td>This is a confection that has been around a few centuries.  It is a light, pillowy citrus gelatin with nuts - in this case Filberts. And it is cut into tiny squares and then liberally coated with ...</td>\n",
              "      <td>confection around centuries light pillowy citrus gelatin nuts case filberts cut tiny squares liberally coated powdered sugar tiny mouthful heaven chewy flavorful highly recommend yummy treat famil...</td>\n",
              "      <td>delight says it all</td>\n",
              "    </tr>\n",
              "    <tr>\n",
              "      <th>3</th>\n",
              "      <td>B000UA0QIQ</td>\n",
              "      <td>A395BORC6FGVXV</td>\n",
              "      <td>Karl</td>\n",
              "      <td>3/3</td>\n",
              "      <td>2.0</td>\n",
              "      <td>1307923200</td>\n",
              "      <td>Cough Medicine</td>\n",
              "      <td>If you are looking for the secret ingredient in Robitussin I believe I have found it.  I got this in addition to the Root Beer Extract I ordered (which was good) and made some cherry soda.  The fl...</td>\n",
              "      <td>looking secret ingredient robitussin believe found got addition root beer extract ordered made cherry soda flavor medicinal</td>\n",
              "      <td>cough medicine</td>\n",
              "    </tr>\n",
              "    <tr>\n",
              "      <th>4</th>\n",
              "      <td>B006K2ZZ7K</td>\n",
              "      <td>A1UQRSCLF8GW1T</td>\n",
              "      <td>Michael D. Bigham \"M. Wassir\"</td>\n",
              "      <td>0/0</td>\n",
              "      <td>5.0</td>\n",
              "      <td>1350777600</td>\n",
              "      <td>Great taffy</td>\n",
              "      <td>Great taffy at a great price.  There was a wide assortment of yummy taffy.  Delivery was very quick.  If your a taffy lover, this is a deal.</td>\n",
              "      <td>great taffy great price wide assortment yummy taffy delivery quick taffy lover deal</td>\n",
              "      <td>great taffy</td>\n",
              "    </tr>\n",
              "  </tbody>\n",
              "</table>\n",
              "</div>"
            ],
            "text/plain": [
              "    productId  ...         cleaned_summary\n",
              "0  B001E4KFG0  ...  good quality dog food \n",
              "1  B00813GRG4  ...      not as advertised \n",
              "2  B000LQOCH0  ...    delight says it all \n",
              "3  B000UA0QIQ  ...         cough medicine \n",
              "4  B006K2ZZ7K  ...            great taffy \n",
              "\n",
              "[5 rows x 10 columns]"
            ]
          },
          "metadata": {
            "tags": []
          },
          "execution_count": 32
        }
      ]
    },
    {
      "cell_type": "code",
      "metadata": {
        "id": "4mCwktymjGDa",
        "colab_type": "code",
        "colab": {}
      },
      "source": [
        "df['cleaned_summary'] = df['cleaned_summary'].apply(lambda x : '_START_ '+ x + ' _END_')\n",
        "# spl tokens"
      ],
      "execution_count": 0,
      "outputs": []
    },
    {
      "cell_type": "code",
      "metadata": {
        "id": "Ixry13ArjOJz",
        "colab_type": "code",
        "outputId": "fd1e8ff8-b367-4909-e40e-75f861e07895",
        "colab": {
          "base_uri": "https://localhost:8080/",
          "height": 392
        }
      },
      "source": [
        "for i in range(5):\n",
        "    print(\"Review:\",df['cleaned_text'][i])\n",
        "    print(\"Summary:\",df['cleaned_summary'][i])\n",
        "    print(\"\\n\")"
      ],
      "execution_count": 34,
      "outputs": [
        {
          "output_type": "stream",
          "text": [
            "Review: bought several vitality canned dog food products found good quality product looks like stew processed meat smells better labrador finicky appreciates product better\n",
            "Summary: _START_ good quality dog food  _END_\n",
            "\n",
            "\n",
            "Review: product arrived labeled jumbo salted peanuts peanuts actually small sized unsalted sure error vendor intended represent product jumbo\n",
            "Summary: _START_ not as advertised  _END_\n",
            "\n",
            "\n",
            "Review: confection around centuries light pillowy citrus gelatin nuts case filberts cut tiny squares liberally coated powdered sugar tiny mouthful heaven chewy flavorful highly recommend yummy treat familiar story lewis lion witch wardrobe treat seduces edmund selling brother sisters witch\n",
            "Summary: _START_ delight says it all  _END_\n",
            "\n",
            "\n",
            "Review: looking secret ingredient robitussin believe found got addition root beer extract ordered made cherry soda flavor medicinal\n",
            "Summary: _START_ cough medicine  _END_\n",
            "\n",
            "\n",
            "Review: great taffy great price wide assortment yummy taffy delivery quick taffy lover deal\n",
            "Summary: _START_ great taffy  _END_\n",
            "\n",
            "\n"
          ],
          "name": "stdout"
        }
      ]
    },
    {
      "cell_type": "code",
      "metadata": {
        "id": "BlV1syTijT9X",
        "colab_type": "code",
        "outputId": "cb59c79a-765a-4cac-de65-9d414fb5ba4c",
        "colab": {
          "base_uri": "https://localhost:8080/",
          "height": 194
        }
      },
      "source": [
        "df[['cleaned_text','cleaned_summary']].head()"
      ],
      "execution_count": 35,
      "outputs": [
        {
          "output_type": "execute_result",
          "data": {
            "text/html": [
              "<div>\n",
              "<style scoped>\n",
              "    .dataframe tbody tr th:only-of-type {\n",
              "        vertical-align: middle;\n",
              "    }\n",
              "\n",
              "    .dataframe tbody tr th {\n",
              "        vertical-align: top;\n",
              "    }\n",
              "\n",
              "    .dataframe thead th {\n",
              "        text-align: right;\n",
              "    }\n",
              "</style>\n",
              "<table border=\"1\" class=\"dataframe\">\n",
              "  <thead>\n",
              "    <tr style=\"text-align: right;\">\n",
              "      <th></th>\n",
              "      <th>cleaned_text</th>\n",
              "      <th>cleaned_summary</th>\n",
              "    </tr>\n",
              "  </thead>\n",
              "  <tbody>\n",
              "    <tr>\n",
              "      <th>0</th>\n",
              "      <td>bought several vitality canned dog food products found good quality product looks like stew processed meat smells better labrador finicky appreciates product better</td>\n",
              "      <td>_START_ good quality dog food  _END_</td>\n",
              "    </tr>\n",
              "    <tr>\n",
              "      <th>1</th>\n",
              "      <td>product arrived labeled jumbo salted peanuts peanuts actually small sized unsalted sure error vendor intended represent product jumbo</td>\n",
              "      <td>_START_ not as advertised  _END_</td>\n",
              "    </tr>\n",
              "    <tr>\n",
              "      <th>2</th>\n",
              "      <td>confection around centuries light pillowy citrus gelatin nuts case filberts cut tiny squares liberally coated powdered sugar tiny mouthful heaven chewy flavorful highly recommend yummy treat famil...</td>\n",
              "      <td>_START_ delight says it all  _END_</td>\n",
              "    </tr>\n",
              "    <tr>\n",
              "      <th>3</th>\n",
              "      <td>looking secret ingredient robitussin believe found got addition root beer extract ordered made cherry soda flavor medicinal</td>\n",
              "      <td>_START_ cough medicine  _END_</td>\n",
              "    </tr>\n",
              "    <tr>\n",
              "      <th>4</th>\n",
              "      <td>great taffy great price wide assortment yummy taffy delivery quick taffy lover deal</td>\n",
              "      <td>_START_ great taffy  _END_</td>\n",
              "    </tr>\n",
              "  </tbody>\n",
              "</table>\n",
              "</div>"
            ],
            "text/plain": [
              "                                                                                                                                                                                              cleaned_text                       cleaned_summary\n",
              "0                                     bought several vitality canned dog food products found good quality product looks like stew processed meat smells better labrador finicky appreciates product better  _START_ good quality dog food  _END_\n",
              "1                                                                    product arrived labeled jumbo salted peanuts peanuts actually small sized unsalted sure error vendor intended represent product jumbo      _START_ not as advertised  _END_\n",
              "2  confection around centuries light pillowy citrus gelatin nuts case filberts cut tiny squares liberally coated powdered sugar tiny mouthful heaven chewy flavorful highly recommend yummy treat famil...    _START_ delight says it all  _END_\n",
              "3                                                                              looking secret ingredient robitussin believe found got addition root beer extract ordered made cherry soda flavor medicinal         _START_ cough medicine  _END_\n",
              "4                                                                                                                      great taffy great price wide assortment yummy taffy delivery quick taffy lover deal            _START_ great taffy  _END_"
            ]
          },
          "metadata": {
            "tags": []
          },
          "execution_count": 35
        }
      ]
    },
    {
      "cell_type": "code",
      "metadata": {
        "id": "y52zoNOljctt",
        "colab_type": "code",
        "outputId": "0e8b23e2-d672-46e9-c32d-8ccbf31ba692",
        "colab": {
          "base_uri": "https://localhost:8080/",
          "height": 281
        }
      },
      "source": [
        "import matplotlib.pyplot as plt\n",
        "text_word_count = []\n",
        "summary_word_count = []\n",
        "\n",
        "# populate the lists with sentence lengths\n",
        "for i in df['cleaned_text']:\n",
        "      text_word_count.append(len(i.split()))\n",
        "\n",
        "for i in df['cleaned_summary']:\n",
        "      summary_word_count.append(len(i.split()))\n",
        "\n",
        "length_df = pd.DataFrame({'text':text_word_count, 'summary':summary_word_count})\n",
        "length_df.hist(bins = 10)\n",
        "plt.show()"
      ],
      "execution_count": 36,
      "outputs": [
        {
          "output_type": "display_data",
          "data": {
            "image/png": "[encoded data removed]",
            "text/plain": [
              "<Figure size 432x288 with 2 Axes>"
            ]
          },
          "metadata": {
            "tags": []
          }
        }
      ]
    },
    {
      "cell_type": "code",
      "metadata": {
        "id": "1tV9xFa1j4iU",
        "colab_type": "code",
        "colab": {}
      },
      "source": [
        "# summary : limit it to 10 there is a drop at 10 check histogram\n",
        "# text 125 is ok...\n",
        "max_len_text=125 \n",
        "max_len_summary=10"
      ],
      "execution_count": 0,
      "outputs": []
    },
    {
      "cell_type": "code",
      "metadata": {
        "id": "nwJD14YdkWgB",
        "colab_type": "code",
        "colab": {}
      },
      "source": [
        "from sklearn.model_selection import train_test_split\n",
        "x_tr,x_val,y_tr,y_val = train_test_split(df['cleaned_text'],df['cleaned_summary'],test_size=0.1,random_state=0,shuffle=True) \n",
        "# train is the cleaned text, val is the cleaned summary\n",
        "# *args\n"
      ],
      "execution_count": 0,
      "outputs": []
    },
    {
      "cell_type": "markdown",
      "metadata": {
        "id": "3w8X3VDekn8p",
        "colab_type": "text"
      },
      "source": [
        "## NLP part"
      ]
    },
    {
      "cell_type": "code",
      "metadata": {
        "id": "IMWHUJEFkzOg",
        "colab_type": "code",
        "outputId": "6d1d6fee-6b99-428b-d502-710a80b07ba4",
        "colab": {
          "base_uri": "https://localhost:8080/",
          "height": 194
        }
      },
      "source": [
        "pd.DataFrame(x_tr).head() # just a dekko"
      ],
      "execution_count": 39,
      "outputs": [
        {
          "output_type": "execute_result",
          "data": {
            "text/html": [
              "<div>\n",
              "<style scoped>\n",
              "    .dataframe tbody tr th:only-of-type {\n",
              "        vertical-align: middle;\n",
              "    }\n",
              "\n",
              "    .dataframe tbody tr th {\n",
              "        vertical-align: top;\n",
              "    }\n",
              "\n",
              "    .dataframe thead th {\n",
              "        text-align: right;\n",
              "    }\n",
              "</style>\n",
              "<table border=\"1\" class=\"dataframe\">\n",
              "  <thead>\n",
              "    <tr style=\"text-align: right;\">\n",
              "      <th></th>\n",
              "      <th>cleaned_text</th>\n",
              "    </tr>\n",
              "  </thead>\n",
              "  <tbody>\n",
              "    <tr>\n",
              "      <th>386865</th>\n",
              "      <td>tea exactly wanted rich warm spicy cinnamon tea tea well packaged cannot even smell tea bag without opening foil pouches means keeping tea fresh brewed tea hot milk also nice cinnamon milk tea per...</td>\n",
              "    </tr>\n",
              "    <tr>\n",
              "      <th>334183</th>\n",
              "      <td>bought case costco crackers cheese good every single package crackers cheese cheese missing rip like filled completely save cheese pay something expect product full air never buy product understand</td>\n",
              "    </tr>\n",
              "    <tr>\n",
              "      <th>302448</th>\n",
              "      <td>tea tea brand pre made tea found enjoy drink white jasmine oolong varieties glad amazon offers free shipping tea expensive</td>\n",
              "    </tr>\n",
              "    <tr>\n",
              "      <th>143695</th>\n",
              "      <td>kraft macaroni cheese beckons back lonely days running home lunchtime lay heart strewn crying harsh rejection meted upon fairest playground beauties soft noodles cheese cream sauce would ease ache...</td>\n",
              "    </tr>\n",
              "    <tr>\n",
              "      <th>120805</th>\n",
              "      <td>way sweet taste like hot sugar water coffee back ground taste sorry bought nothing like get coffe shop waste money</td>\n",
              "    </tr>\n",
              "  </tbody>\n",
              "</table>\n",
              "</div>"
            ],
            "text/plain": [
              "                                                                                                                                                                                                   cleaned_text\n",
              "386865  tea exactly wanted rich warm spicy cinnamon tea tea well packaged cannot even smell tea bag without opening foil pouches means keeping tea fresh brewed tea hot milk also nice cinnamon milk tea per...\n",
              "334183    bought case costco crackers cheese good every single package crackers cheese cheese missing rip like filled completely save cheese pay something expect product full air never buy product understand\n",
              "302448                                                                               tea tea brand pre made tea found enjoy drink white jasmine oolong varieties glad amazon offers free shipping tea expensive\n",
              "143695  kraft macaroni cheese beckons back lonely days running home lunchtime lay heart strewn crying harsh rejection meted upon fairest playground beauties soft noodles cheese cream sauce would ease ache...\n",
              "120805                                                                                       way sweet taste like hot sugar water coffee back ground taste sorry bought nothing like get coffe shop waste money"
            ]
          },
          "metadata": {
            "tags": []
          },
          "execution_count": 39
        }
      ]
    },
    {
      "cell_type": "code",
      "metadata": {
        "id": "5avb_Usgkjhn",
        "colab_type": "code",
        "colab": {}
      },
      "source": [
        "#prepare a tokenizer for reviews on training data # see we avoid using it on the \n",
        "x_tokenizer = Tokenizer()\n",
        "x_tokenizer.fit_on_texts(list(x_tr))\n",
        "\n",
        "#convert text sequences into integer sequences\n",
        "x_tr    =   x_tokenizer.texts_to_sequences(x_tr) \n",
        "x_val   =   x_tokenizer.texts_to_sequences(x_val)\n",
        "\n",
        "#padding zero upto maximum length\n",
        "x_tr    =   pad_sequences(x_tr,  maxlen=max_len_text, padding='post') \n",
        "x_val   =   pad_sequences(x_val, maxlen=max_len_text, padding='post')\n",
        "\n",
        "x_voc_size   =  len(x_tokenizer.word_index) +1"
      ],
      "execution_count": 0,
      "outputs": []
    },
    {
      "cell_type": "code",
      "metadata": {
        "id": "vO2b6eimlDH8",
        "colab_type": "code",
        "colab": {}
      },
      "source": [
        "#preparing a tokenizer for summary on training data \n",
        "y_tokenizer = Tokenizer()\n",
        "y_tokenizer.fit_on_texts(list(y_tr))\n",
        "\n",
        "#convert summary sequences into integer sequences\n",
        "y_tr    =   y_tokenizer.texts_to_sequences(y_tr) \n",
        "y_val   =   y_tokenizer.texts_to_sequences(y_val) \n",
        "\n",
        "#padding zero upto maximum length\n",
        "y_tr    =   pad_sequences(y_tr, maxlen=max_len_summary, padding='post')\n",
        "y_val   =   pad_sequences(y_val, maxlen=max_len_summary, padding='post')\n",
        "\n",
        "y_voc_size  =   len(y_tokenizer.word_index) +1"
      ],
      "execution_count": 0,
      "outputs": []
    },
    {
      "cell_type": "code",
      "metadata": {
        "id": "cTX4yXiWlE--",
        "colab_type": "code",
        "outputId": "6afca41d-e060-4418-da30-fb064a7fd25f",
        "colab": {
          "base_uri": "https://localhost:8080/",
          "height": 35
        }
      },
      "source": [
        "print(y_voc_size, x_voc_size)"
      ],
      "execution_count": 42,
      "outputs": [
        {
          "output_type": "stream",
          "text": [
            "30963 108950\n"
          ],
          "name": "stdout"
        }
      ]
    },
    {
      "cell_type": "markdown",
      "metadata": {
        "id": "yC7LSDfloC8O",
        "colab_type": "text"
      },
      "source": [
        "## the Attention layer\n",
        "https://github.com/thushv89/attention_keras/blob/master/layers/attention.py"
      ]
    },
    {
      "cell_type": "code",
      "metadata": {
        "id": "Tq7VvgQQoCb4",
        "colab_type": "code",
        "colab": {}
      },
      "source": [
        "import tensorflow as tf\n",
        "import os\n",
        "from tensorflow.python.keras.layers import Layer\n",
        "from tensorflow.python.keras import backend as K\n",
        "\n",
        "\n",
        "class AttentionLayer(Layer):\n",
        "    \"\"\"\n",
        "    This class implements Bahdanau attention (https://arxiv.org/pdf/1409.0473.pdf).\n",
        "    There are three sets of weights introduced W_a, U_a, and V_a\n",
        "     \"\"\"\n",
        "\n",
        "    def __init__(self, **kwargs):\n",
        "        super(AttentionLayer, self).__init__(**kwargs)\n",
        "\n",
        "    def build(self, input_shape):\n",
        "        assert isinstance(input_shape, list)\n",
        "        # Create a trainable weight variable for this layer.\n",
        "\n",
        "        self.W_a = self.add_weight(name='W_a',\n",
        "                                   shape=tf.TensorShape((input_shape[0][2], input_shape[0][2])),\n",
        "                                   initializer='uniform',\n",
        "                                   trainable=True)\n",
        "        self.U_a = self.add_weight(name='U_a',\n",
        "                                   shape=tf.TensorShape((input_shape[1][2], input_shape[0][2])),\n",
        "                                   initializer='uniform',\n",
        "                                   trainable=True)\n",
        "        self.V_a = self.add_weight(name='V_a',\n",
        "                                   shape=tf.TensorShape((input_shape[0][2], 1)),\n",
        "                                   initializer='uniform',\n",
        "                                   trainable=True)\n",
        "\n",
        "        super(AttentionLayer, self).build(input_shape)  # Be sure to call this at the end\n",
        "\n",
        "    def call(self, inputs, verbose=False):\n",
        "        \"\"\"\n",
        "        inputs: [encoder_output_sequence, decoder_output_sequence]\n",
        "        \"\"\"\n",
        "        assert type(inputs) == list\n",
        "        encoder_out_seq, decoder_out_seq = inputs\n",
        "        if verbose:\n",
        "            print('encoder_out_seq>', encoder_out_seq.shape)\n",
        "            print('decoder_out_seq>', decoder_out_seq.shape)\n",
        "\n",
        "        def energy_step(inputs, states):\n",
        "            \"\"\" Step function for computing energy for a single decoder state \"\"\"\n",
        "\n",
        "            assert_msg = \"States must be a list. However states {} is of type {}\".format(states, type(states))\n",
        "            assert isinstance(states, list) or isinstance(states, tuple), assert_msg\n",
        "\n",
        "            \"\"\" Some parameters required for shaping tensors\"\"\"\n",
        "            en_seq_len, en_hidden = encoder_out_seq.shape[1], encoder_out_seq.shape[2]\n",
        "            de_hidden = inputs.shape[-1]\n",
        "\n",
        "            \"\"\" Computing S.Wa where S=[s0, s1, ..., si]\"\"\"\n",
        "            # <= batch_size*en_seq_len, latent_dim\n",
        "            reshaped_enc_outputs = K.reshape(encoder_out_seq, (-1, en_hidden))\n",
        "            # <= batch_size*en_seq_len, latent_dim\n",
        "            W_a_dot_s = K.reshape(K.dot(reshaped_enc_outputs, self.W_a), (-1, en_seq_len, en_hidden))\n",
        "            if verbose:\n",
        "                print('wa.s>',W_a_dot_s.shape)\n",
        "\n",
        "            \"\"\" Computing hj.Ua \"\"\"\n",
        "            U_a_dot_h = K.expand_dims(K.dot(inputs, self.U_a), 1)  # <= batch_size, 1, latent_dim\n",
        "            if verbose:\n",
        "                print('Ua.h>',U_a_dot_h.shape)\n",
        "\n",
        "            \"\"\" tanh(S.Wa + hj.Ua) \"\"\"\n",
        "            # <= batch_size*en_seq_len, latent_dim\n",
        "            reshaped_Ws_plus_Uh = K.tanh(K.reshape(W_a_dot_s + U_a_dot_h, (-1, en_hidden)))\n",
        "            if verbose:\n",
        "                print('Ws+Uh>', reshaped_Ws_plus_Uh.shape)\n",
        "\n",
        "            \"\"\" softmax(va.tanh(S.Wa + hj.Ua)) \"\"\"\n",
        "            # <= batch_size, en_seq_len\n",
        "            e_i = K.reshape(K.dot(reshaped_Ws_plus_Uh, self.V_a), (-1, en_seq_len))\n",
        "            # <= batch_size, en_seq_len\n",
        "            e_i = K.softmax(e_i)\n",
        "\n",
        "            if verbose:\n",
        "                print('ei>', e_i.shape)\n",
        "\n",
        "            return e_i, [e_i]\n",
        "\n",
        "        def context_step(inputs, states):\n",
        "            \"\"\" Step function for computing ci using ei \"\"\"\n",
        "            # <= batch_size, hidden_size\n",
        "            c_i = K.sum(encoder_out_seq * K.expand_dims(inputs, -1), axis=1)\n",
        "            if verbose:\n",
        "                print('ci>', c_i.shape)\n",
        "            return c_i, [c_i]\n",
        "\n",
        "        def create_inital_state(inputs, hidden_size):\n",
        "            # We are not using initial states, but need to pass something to K.rnn funciton\n",
        "            fake_state = K.zeros_like(inputs)  # <= (batch_size, enc_seq_len, latent_dim\n",
        "            fake_state = K.sum(fake_state, axis=[1, 2])  # <= (batch_size)\n",
        "            fake_state = K.expand_dims(fake_state)  # <= (batch_size, 1)\n",
        "            fake_state = K.tile(fake_state, [1, hidden_size])  # <= (batch_size, latent_dim\n",
        "            return fake_state\n",
        "\n",
        "        fake_state_c = create_inital_state(encoder_out_seq, encoder_out_seq.shape[-1])\n",
        "        fake_state_e = create_inital_state(encoder_out_seq, encoder_out_seq.shape[1])  # <= (batch_size, enc_seq_len, latent_dim\n",
        "\n",
        "        \"\"\" Computing energy outputs \"\"\"\n",
        "        # e_outputs => (batch_size, de_seq_len, en_seq_len)\n",
        "        last_out, e_outputs, _ = K.rnn(\n",
        "            energy_step, decoder_out_seq, [fake_state_e],\n",
        "        )\n",
        "\n",
        "        \"\"\" Computing context vectors \"\"\"\n",
        "        last_out, c_outputs, _ = K.rnn(\n",
        "            context_step, e_outputs, [fake_state_c],\n",
        "        )\n",
        "\n",
        "        return c_outputs, e_outputs\n",
        "\n",
        "    def compute_output_shape(self, input_shape):\n",
        "        \"\"\" Outputs produced by the layer \"\"\"\n",
        "        return [\n",
        "            tf.TensorShape((input_shape[1][0], input_shape[1][1], input_shape[1][2])),\n",
        "            tf.TensorShape((input_shape[1][0], input_shape[1][1], input_shape[0][1]))\n",
        "        ]"
      ],
      "execution_count": 0,
      "outputs": []
    },
    {
      "cell_type": "markdown",
      "metadata": {
        "id": "aPFJuZvVmif7",
        "colab_type": "text"
      },
      "source": [
        "## Model building\n",
        "\n",
        "\n",
        "1. Return Sequences = LSTM produces the hidden state and cell state for every timestep\n",
        "2. Return State = True: LSTM produces the hidden state and cell state of the last timestep only\n",
        "3. Initial State: This is used to initialize the internal states of the LSTM for the first timestep\n",
        "3. Stacked LSTM: Stacked LSTM has multiple layers of LSTM modules stacked on top of each other. This leads to a better representation of the sequence."
      ]
    },
    {
      "cell_type": "code",
      "metadata": {
        "id": "F_-sd1eHmdld",
        "colab_type": "code",
        "outputId": "030127d5-bcfe-474c-ed0d-a241d62f0bc9",
        "colab": {
          "base_uri": "https://localhost:8080/",
          "height": 621
        }
      },
      "source": [
        "from keras import backend as K \n",
        "import tensorflow as tf\n",
        "\n",
        "tf.keras.backend.clear_session() \n",
        "latent_dim = 500 \n",
        "\n",
        "# Encoder \n",
        "encoder_inputs = Input(shape=(max_len_text,)) \n",
        "enc_emb = Embedding(x_voc_size, latent_dim,trainable=True)(encoder_inputs) \n",
        "\n",
        "#LSTM 1 \n",
        "encoder_lstm1 = LSTM(latent_dim,return_sequences=True,return_state=True) \n",
        "encoder_output1, state_h1, state_c1 = encoder_lstm1(enc_emb) \n",
        "\n",
        "#LSTM 2 \n",
        "encoder_lstm2 = LSTM(latent_dim,return_sequences=True,return_state=True) \n",
        "encoder_output2, state_h2, state_c2 = encoder_lstm2(encoder_output1) \n",
        "\n",
        "#LSTM 3 \n",
        "encoder_lstm3=LSTM(latent_dim, return_state=True, return_sequences=True) \n",
        "encoder_outputs, state_h, state_c= encoder_lstm3(encoder_output2) \n",
        "\n",
        "# Set up the decoder. \n",
        "decoder_inputs = Input(shape=(None,)) \n",
        "dec_emb_layer = Embedding(y_voc_size, latent_dim,trainable=True) \n",
        "dec_emb = dec_emb_layer(decoder_inputs) \n",
        "\n",
        "#LSTM using encoder_states as initial state\n",
        "decoder_lstm = LSTM(latent_dim, return_sequences=True, return_state=True) \n",
        "decoder_outputs,decoder_fwd_state, decoder_back_state = decoder_lstm(dec_emb,initial_state=[state_h, state_c]) \n",
        "\n",
        "#Attention Layer\n",
        "attn_layer = AttentionLayer(name='attention_layer') \n",
        "attn_out, attn_states = attn_layer([encoder_outputs, decoder_outputs]) \n",
        "\n",
        "# Concat attention output and decoder LSTM output \n",
        "decoder_concat_input = Concatenate(axis=-1, name='concat_layer')([decoder_outputs, attn_out])\n",
        "\n",
        "#Dense layer\n",
        "decoder_dense = TimeDistributed(Dense(y_voc_size, activation='softmax')) \n",
        "decoder_outputs = decoder_dense(decoder_concat_input) \n",
        "\n",
        "# Define the model\n",
        "model = Model([encoder_inputs, decoder_inputs], decoder_outputs) \n",
        "model.summary()"
      ],
      "execution_count": 44,
      "outputs": [
        {
          "output_type": "stream",
          "text": [
            "Model: \"model\"\n",
            "__________________________________________________________________________________________________\n",
            "Layer (type)                    Output Shape         Param #     Connected to                     \n",
            "==================================================================================================\n",
            "input_1 (InputLayer)            [(None, 125)]        0                                            \n",
            "__________________________________________________________________________________________________\n",
            "embedding (Embedding)           (None, 125, 500)     54475000    input_1[0][0]                    \n",
            "__________________________________________________________________________________________________\n",
            "lstm (LSTM)                     [(None, 125, 500), ( 2002000     embedding[0][0]                  \n",
            "__________________________________________________________________________________________________\n",
            "input_2 (InputLayer)            [(None, None)]       0                                            \n",
            "__________________________________________________________________________________________________\n",
            "lstm_1 (LSTM)                   [(None, 125, 500), ( 2002000     lstm[0][0]                       \n",
            "__________________________________________________________________________________________________\n",
            "embedding_1 (Embedding)         (None, None, 500)    15481500    input_2[0][0]                    \n",
            "__________________________________________________________________________________________________\n",
            "lstm_2 (LSTM)                   [(None, 125, 500), ( 2002000     lstm_1[0][0]                     \n",
            "__________________________________________________________________________________________________\n",
            "lstm_3 (LSTM)                   [(None, None, 500),  2002000     embedding_1[0][0]                \n",
            "                                                                 lstm_2[0][1]                     \n",
            "                                                                 lstm_2[0][2]                     \n",
            "__________________________________________________________________________________________________\n",
            "attention_layer (AttentionLayer ((None, None, 500),  500500      lstm_2[0][0]                     \n",
            "                                                                 lstm_3[0][0]                     \n",
            "__________________________________________________________________________________________________\n",
            "concat_layer (Concatenate)      (None, None, 1000)   0           lstm_3[0][0]                     \n",
            "                                                                 attention_layer[0][0]            \n",
            "__________________________________________________________________________________________________\n",
            "time_distributed (TimeDistribut (None, None, 30963)  30993963    concat_layer[0][0]               \n",
            "==================================================================================================\n",
            "Total params: 109,458,963\n",
            "Trainable params: 109,458,963\n",
            "Non-trainable params: 0\n",
            "__________________________________________________________________________________________________\n"
          ],
          "name": "stdout"
        }
      ]
    },
    {
      "cell_type": "code",
      "metadata": {
        "id": "jjFbmF0GnImA",
        "colab_type": "code",
        "colab": {}
      },
      "source": [
        "model.compile(optimizer='rmsprop', loss='sparse_categorical_crossentropy')\n",
        "# remember sparse categorical entropy from bert for news groups\n",
        "# takes care of the 1 hot encoding thing on the fly.. then as now"
      ],
      "execution_count": 0,
      "outputs": []
    },
    {
      "cell_type": "code",
      "metadata": {
        "id": "YyTokx8Towlj",
        "colab_type": "code",
        "colab": {}
      },
      "source": [
        "es = EarlyStopping(monitor='val_loss', mode='min', verbose=1) # check the equivalent in the lr finder in fastai docs :)\n",
        "# stops when val loss increases.."
      ],
      "execution_count": 0,
      "outputs": []
    },
    {
      "cell_type": "code",
      "metadata": {
        "id": "WEE3mazkpyJt",
        "colab_type": "code",
        "colab": {}
      },
      "source": [
        "#pd.DataFrame(x_tr).head()"
      ],
      "execution_count": 0,
      "outputs": []
    },
    {
      "cell_type": "code",
      "metadata": {
        "id": "L8NYOl0BpBVN",
        "colab_type": "code",
        "colab": {}
      },
      "source": [
        "#pd.DataFrame(y_tr).head()"
      ],
      "execution_count": 0,
      "outputs": []
    },
    {
      "cell_type": "code",
      "metadata": {
        "id": "13Rr-9TUuONB",
        "colab_type": "code",
        "colab": {}
      },
      "source": [
        "# do we need a warm up here..? https://colab.research.google.com/notebooks/gpu.ipynb#scrollTo=IVxrG3Osa1tM\n",
        "# https://stackoverflow.com/questions/45063489/first-tf-session-run-performs-dramatically-different-from-later-runs-why/45067900#45067900\n",
        "# port to a tPU.. with a ridiculous batch size 2048..?"
      ],
      "execution_count": 0,
      "outputs": []
    },
    {
      "cell_type": "code",
      "metadata": {
        "id": "rPEId0z8o1Yy",
        "colab_type": "code",
        "outputId": "92f957e5-b9aa-438c-8b3a-0ef5211def21",
        "colab": {
          "base_uri": "https://localhost:8080/",
          "height": 337
        }
      },
      "source": [
        "history = model.fit( [x_tr,y_tr[:,:-1]], # x concatenated to y's all but last column is the input\n",
        "                  y_tr.reshape(y_tr.shape[0],y_tr.shape[1], 1)[:,1:] , # output > y all columns barring the first\n",
        "                  epochs=12, # was 50 ; an ungodly number\n",
        "                  callbacks=[es],\n",
        "                  batch_size=512, \n",
        "                  validation_data=([x_val,y_val[:,:-1]], # somewhat akin to ... given all this.. predict all of y and th last time step of y\n",
        "                                   y_val.reshape(y_val.shape[0],y_val.shape[1], 1)[:,1:])) # the last time step of y wasn't included in the input data"
      ],
      "execution_count": 49,
      "outputs": [
        {
          "output_type": "stream",
          "text": [
            "Train on 353122 samples, validate on 39236 samples\n",
            "Epoch 1/12\n",
            "353122/353122 [==============================] - 2420s 7ms/sample - loss: 2.7288 - val_loss: 2.3258\n",
            "Epoch 2/12\n",
            "353122/353122 [==============================] - 2408s 7ms/sample - loss: 2.2316 - val_loss: 2.1209\n",
            "Epoch 3/12\n",
            "353122/353122 [==============================] - 2406s 7ms/sample - loss: 2.0706 - val_loss: 2.0405\n",
            "Epoch 4/12\n",
            "353122/353122 [==============================] - 2401s 7ms/sample - loss: 1.9709 - val_loss: 1.9987\n",
            "Epoch 5/12\n",
            "353122/353122 [==============================] - 2401s 7ms/sample - loss: 1.8933 - val_loss: 1.9793\n",
            "Epoch 6/12\n",
            "353122/353122 [==============================] - 2406s 7ms/sample - loss: 1.8257 - val_loss: 1.9743\n",
            "Epoch 7/12\n",
            "353122/353122 [==============================] - 2404s 7ms/sample - loss: 1.7638 - val_loss: 1.9708\n",
            "Epoch 8/12\n",
            "353122/353122 [==============================] - 2400s 7ms/sample - loss: 1.7048 - val_loss: 1.9762\n",
            "Epoch 00008: early stopping\n"
          ],
          "name": "stdout"
        }
      ]
    },
    {
      "cell_type": "markdown",
      "metadata": {
        "id": "51wJfv-rvAJe",
        "colab_type": "text"
      },
      "source": [
        ""
      ]
    },
    {
      "cell_type": "code",
      "metadata": {
        "id": "TQf4-RyrqCFE",
        "colab_type": "code",
        "colab": {
          "base_uri": "https://localhost:8080/",
          "height": 265
        },
        "outputId": "ec849c8f-0d8b-441d-c1af-325a6d2f56ce"
      },
      "source": [
        "from matplotlib import pyplot \n",
        "pyplot.plot(history.history['loss'], label='train') \n",
        "pyplot.plot(history.history['val_loss'], label='test') \n",
        "pyplot.legend() \n",
        "pyplot.show()"
      ],
      "execution_count": 51,
      "outputs": [
        {
          "output_type": "display_data",
          "data": {
            "image/png": "[encoded data removed]",
            "text/plain": [
              "<Figure size 432x288 with 1 Axes>"
            ]
          },
          "metadata": {
            "tags": []
          }
        }
      ]
    },
    {
      "cell_type": "code",
      "metadata": {
        "id": "3cFrsB4o1k4N",
        "colab_type": "code",
        "colab": {}
      },
      "source": [
        "#lookups\n",
        "reverse_target_word_index=y_tokenizer.index_word \n",
        "reverse_source_word_index=x_tokenizer.index_word \n",
        "target_word_index=y_tokenizer.word_index"
      ],
      "execution_count": 0,
      "outputs": []
    },
    {
      "cell_type": "code",
      "metadata": {
        "id": "E0V5Z7731rzA",
        "colab_type": "code",
        "colab": {}
      },
      "source": [
        "# encoder inference\n",
        "encoder_model = Model(inputs=encoder_inputs,outputs=[encoder_outputs, state_h, state_c])\n",
        "\n",
        "# decoder inference\n",
        "# Below tensors will hold the states of the previous time step\n",
        "decoder_state_input_h = Input(shape=(latent_dim,))\n",
        "decoder_state_input_c = Input(shape=(latent_dim,))\n",
        "decoder_hidden_state_input = Input(shape=(max_len_text,latent_dim))\n",
        "\n",
        "# Get the embeddings of the decoder sequence\n",
        "dec_emb2= dec_emb_layer(decoder_inputs)\n",
        "\n",
        "# To predict the next word in the sequence, set the initial states to the states from the previous time step\n",
        "decoder_outputs2, state_h2, state_c2 = decoder_lstm(dec_emb2, initial_state=[decoder_state_input_h, decoder_state_input_c])\n",
        "\n",
        "#attention inference\n",
        "attn_out_inf, attn_states_inf = attn_layer([decoder_hidden_state_input, decoder_outputs2])\n",
        "decoder_inf_concat = Concatenate(axis=-1, name='concat')([decoder_outputs2, attn_out_inf])\n",
        "\n",
        "# A dense softmax layer to generate prob dist. over the target vocabulary\n",
        "decoder_outputs2 = decoder_dense(decoder_inf_concat)\n",
        "\n",
        "# Final decoder model\n",
        "decoder_model = Model(\n",
        "[decoder_inputs] + [decoder_hidden_state_input,decoder_state_input_h, decoder_state_input_c],\n",
        "[decoder_outputs2] + [state_h2, state_c2]\n",
        ")"
      ],
      "execution_count": 0,
      "outputs": []
    },
    {
      "cell_type": "code",
      "metadata": {
        "id": "Iawk_7XI10HQ",
        "colab_type": "code",
        "colab": {}
      },
      "source": [
        "def decode_sequence(input_seq):\n",
        "    # Encode the input as state vectors.\n",
        "    e_out, e_h, e_c = encoder_model.predict(input_seq)\n",
        "\n",
        "    # Generate empty target sequence of length 1.\n",
        "    target_seq = np.zeros((1,1))\n",
        "\n",
        "    # Chose the 'start' word as the first word of the target sequence\n",
        "    target_seq[0, 0] = target_word_index['start']\n",
        "\n",
        "    stop_condition = False\n",
        "    decoded_sentence = ''\n",
        "    while not stop_condition:\n",
        "        output_tokens, h, c = decoder_model.predict([target_seq] + [e_out, e_h, e_c])\n",
        "        # Sample a token\n",
        "        sampled_token_index = np.argmax(output_tokens[0, -1, :])\n",
        "        sampled_token = reverse_target_word_index[sampled_token_index]\n",
        "        #print(sampled_token)\n",
        "        #print('sampled_token_index is ',sampled_token_index)\n",
        "        if(sampled_token=='end'):\n",
        "          break     # found the end token...? break and get out...   \n",
        "        else:\n",
        "          decoded_sentence += ' '+sampled_token\n",
        "          # Exit condition: either hit max length or find stop word.\n",
        "          if (sampled_token == 'end' or len(decoded_sentence.split()) >= (max_len_summary-1)):\n",
        "            stop_condition = True\n",
        "            \n",
        "        # Update the target sequence (of length 1).\n",
        "        target_seq = np.zeros((1,1))\n",
        "        target_seq[0, 0] = sampled_token_index\n",
        "        #print('sampled_token_index is ',sampled_token_index)          \n",
        "        # Update internal states\n",
        "        e_h, e_c = h, c\n",
        "\n",
        "    return decoded_sentence"
      ],
      "execution_count": 0,
      "outputs": []
    },
    {
      "cell_type": "code",
      "metadata": {
        "id": "vCIRb5sI16cL",
        "colab_type": "code",
        "colab": {}
      },
      "source": [
        "def seq2summary(input_seq):\n",
        "    newString=''\n",
        "    for i in input_seq:\n",
        "      if((i!=0 and i!=target_word_index['start']) and i!=target_word_index['end']):\n",
        "        newString=newString+reverse_target_word_index[i]+' '\n",
        "    return newString\n",
        "\n",
        "def seq2text(input_seq):\n",
        "    newString=''\n",
        "    for i in input_seq:\n",
        "      if(i!=0):\n",
        "        newString=newString+reverse_source_word_index[i]+' '\n",
        "    return newString\n",
        "    "
      ],
      "execution_count": 0,
      "outputs": []
    },
    {
      "cell_type": "code",
      "metadata": {
        "id": "H_bCuc_AFzg_",
        "colab_type": "code",
        "colab": {}
      },
      "source": [
        "x_tr_pre,x_val_pre,y_tr_pre,y_val_pre = train_test_split(df['cleaned_text'],df['cleaned_summary'],test_size=0.1,random_state=0,shuffle=True) \n",
        "# For reaserch purposes..."
      ],
      "execution_count": 0,
      "outputs": []
    },
    {
      "cell_type": "code",
      "metadata": {
        "id": "ucNEHrU9GMOJ",
        "colab_type": "code",
        "colab": {}
      },
      "source": [
        ""
      ],
      "execution_count": 0,
      "outputs": []
    },
    {
      "cell_type": "code",
      "metadata": {
        "id": "rlQH5T9p2C0o",
        "colab_type": "code",
        "colab": {
          "base_uri": "https://localhost:8080/",
          "height": 748
        },
        "outputId": "61107524-45ae-40a4-f3d8-103a8c00dc70"
      },
      "source": [
        "for i in range(2,10):\n",
        "  #print(\"Review before all manipulaitons:\",x_val_pre.iloc[i])\n",
        "  print(\"Review:\",seq2text(x_val[i]))\n",
        "  #print(\"Original summary before all manupilations:\",y_val_pre.iloc[i])\n",
        "  print(\"Original summary:\",seq2summary(y_val[i]))\n",
        "  print(\"Predicted summary:\",decode_sequence(x_val[i].reshape(1,max_len_text)))\n",
        "  print(\"\\n\")"
      ],
      "execution_count": 148,
      "outputs": [
        {
          "output_type": "stream",
          "text": [
            "Review: bought one pet store dog always try give natural minimally processed chews treats goes lot bully sticks pig ears himalayan chews label say made thought bully stick bit dried bull anatomy like large tendon nice odor free texture seemed unusual sort soft chewy like heavy dried dough tough durable like normal bully stick poo ate whole stick half hour looking online discovered natural meat man made fake bully stick ingredients \n",
            "Original summary: beware \n",
            "Predicted summary:  not for long lasting\n",
            "\n",
            "\n",
            "Review: house goes least full boxes individually wrapped bowls oatmeal per week stepsons wolf packs per morning though consume oatmeal put fight fruit cream tend stick boxes often mix match dumping packed bananas cream packet strawberries cream mind two growing little boys eat much oatmeal want house could ask eat healthy snack thing nice year old make saturday mornings rooster crows come make oatmeal waits everyone else get adults oatmeal still tastes great requires lot less work remember mom going little excellent health actually lower cholesterol \n",
            "Original summary: we should own stock in this company \n",
            "Predicted summary:  great for breakfast\n",
            "\n",
            "\n",
            "Review: looks good fits kitchen however leaks top use especially case oil soy sauce makes kitchen dirty \n",
            "Original summary: it leaks \n",
            "Predicted summary:  great product\n",
            "\n",
            "\n",
            "Review: made mistake buying son loves eat raw vegetables dip ranch dressing hoped would improve lunch takes school big mistake dressing packages looks curdled separated flavor bad lost ground trying get eat veggies wasted \n",
            "Original summary: nasty don waste your money \n",
            "Predicted summary:  not what we expected\n",
            "\n",
            "\n",
            "Review: steeping instructions say leave tea bag mug minutes best flavor say like mins smells really great much flavor otherhand texture water least looks like cheat coating tea leaves oil enhance flavor \n",
            "Original summary: smells great tastes bland \n",
            "Predicted summary:  great tea\n",
            "\n",
            "\n",
            "Review: love bold flavors cups way get much less places http www amazon com product ref rev prod title \n",
            "Original summary: wonderful deal on bold flavor \n",
            "Predicted summary:  great coffee\n",
            "\n",
            "\n",
            "Review: moderately low carb diet tried shirataki rice expecting anything close actual rice sorely disappointed found things barely palatable tried noodles yet say shirataki rice good substitute actual rice wish \n",
            "Original summary: not good \n",
            "Predicted summary:  not bad\n",
            "\n",
            "\n",
            "Review: espresso roast knock socks super smoky deep roasted flavor richest found far large bag decaf category least seattle though drink back home beans seemed fresh nice liquor aroma first opened foil bag good sign making sure liked signed regular delivery three month intervals good value end first bag five pounds blended regular french roast beans another company lasts two three months see caffe arte also wood roasts blends would love see offered \n",
            "Original summary: decaf with some kick \n",
            "Predicted summary:  best decaf have ever had\n",
            "\n",
            "\n"
          ],
          "name": "stdout"
        }
      ]
    },
    {
      "cell_type": "markdown",
      "metadata": {
        "id": "5ng7kuEvJ3T0",
        "colab_type": "text"
      },
      "source": [
        "The if/ else logic in the decode part had to be swapped...  \n",
        "SHould have worked with the original logic.. but it didnt..   \n",
        "clearer exit cases are encoded in its present form...   \n",
        "Potential issue.. the review summarization is more than 9 words long.. in such a case it hits the  else block ... and lets see :)  "
      ]
    },
    {
      "cell_type": "code",
      "metadata": {
        "id": "B7DDXUS9DAfX",
        "colab_type": "code",
        "colab": {
          "base_uri": "https://localhost:8080/",
          "height": 284
        },
        "outputId": "8024f9fc-cf25-4a15-ff0f-55137da8fa67"
      },
      "source": [
        "x_val[3].reshape(1,max_len_text)"
      ],
      "execution_count": 138,
      "outputs": [
        {
          "output_type": "execute_result",
          "data": {
            "text/plain": [
              "array([[  296,   388,   285,   200,   261,  1139,   828,  1874,   380,\n",
              "          199,   340, 47385,  4922,   501,   199,   216,   115,  1548,\n",
              "          380,   103,  3109,   180,   269,   974,   497,   261,   395,\n",
              "           57,  2138,  5571,   607,  2195,   269,   589,  1657,   269,\n",
              "          566,    54,  1255,    20,  2165,    32,    15,   380,    68,\n",
              "          296,    34,   947,    32,    97,   114,   125,    59,   174,\n",
              "          111,    26,  4215,  2182, 11305, 18361,   211,    26,   380,\n",
              "         7091,   348,   329,    12,  1971,   380,    61,    51,     4,\n",
              "         1958,    81,    95,   132,   627,   734,   143,    20,   158,\n",
              "          249,   146,   672,  1444,     0,     0,     0,     0,     0,\n",
              "            0,     0,     0,     0,     0,     0,     0,     0,     0,\n",
              "            0,     0,     0,     0,     0,     0,     0,     0,     0,\n",
              "            0,     0,     0,     0,     0,     0,     0,     0,     0,\n",
              "            0,     0,     0,     0,     0,     0,     0,     0]],\n",
              "      dtype=int32)"
            ]
          },
          "metadata": {
            "tags": []
          },
          "execution_count": 138
        }
      ]
    },
    {
      "cell_type": "code",
      "metadata": {
        "id": "2ZHXEyAM2HtW",
        "colab_type": "code",
        "colab": {}
      },
      "source": [
        "e_out, e_h, e_c = encoder_model.predict(x_val[2].reshape(1,max_len_text))"
      ],
      "execution_count": 0,
      "outputs": []
    },
    {
      "cell_type": "code",
      "metadata": {
        "id": "hmsvmS_Y2cFh",
        "colab_type": "code",
        "colab": {}
      },
      "source": [
        "target_seq = np.zeros((1,1))\n",
        "target_seq[0, 0] = target_word_index['start']"
      ],
      "execution_count": 0,
      "outputs": []
    },
    {
      "cell_type": "code",
      "metadata": {
        "id": "SIkI3o6cB6ta",
        "colab_type": "code",
        "colab": {
          "base_uri": "https://localhost:8080/",
          "height": 1000
        },
        "outputId": "ab930b75-ed9b-4c8d-bf42-ae204d05ed3b"
      },
      "source": [
        "[target_seq] + [e_out, e_h, e_c]"
      ],
      "execution_count": 141,
      "outputs": [
        {
          "output_type": "execute_result",
          "data": {
            "text/plain": [
              "[array([[1.]]),\n",
              " array([[[-8.86306465e-02,  7.48637915e-02,  1.75454188e-02, ...,\n",
              "           6.81359619e-02,  3.57121639e-02,  2.11617813e-01],\n",
              "         [-2.50726044e-02,  8.61673653e-02, -2.73068435e-02, ...,\n",
              "           5.49225649e-03,  8.08247998e-02,  2.06475794e-01],\n",
              "         [-8.43241927e-04,  2.88194534e-03, -3.94433469e-01, ...,\n",
              "          -1.25412436e-04,  8.02913487e-01, -9.38009322e-02],\n",
              "         ...,\n",
              "         [ 9.61365222e-05, -7.80634764e-06,  5.31764177e-04, ...,\n",
              "          -1.15908301e-02, -2.98146647e-03,  9.98509288e-01],\n",
              "         [ 9.64012434e-05, -7.83594714e-06,  5.05767355e-04, ...,\n",
              "          -1.15341172e-02, -2.97415839e-03,  9.98503864e-01],\n",
              "         [ 9.66782245e-05, -7.84068288e-06,  4.84698423e-04, ...,\n",
              "          -1.14802485e-02, -2.96699954e-03,  9.98498142e-01]]],\n",
              "       dtype=float32),\n",
              " array([[ 9.66782245e-05, -7.84068288e-06,  4.84698423e-04,\n",
              "         -1.26181799e-03,  2.61156589e-01, -9.60199177e-01,\n",
              "          4.24184538e-02, -1.96841749e-04,  8.23017769e-03,\n",
              "          8.54456704e-03, -1.87482976e-03,  1.04853767e-03,\n",
              "         -8.24937597e-04, -8.94221885e-04, -2.48258293e-04,\n",
              "          1.76293641e-01,  4.58349334e-03, -1.52066734e-03,\n",
              "         -2.58956533e-02,  2.01257206e-02, -1.25851091e-02,\n",
              "          2.31520936e-01, -1.08371051e-02,  4.64081531e-04,\n",
              "         -2.02732068e-02,  1.27377868e-01,  4.69567208e-03,\n",
              "          1.08381517e-01,  2.17143307e-03, -4.80820984e-02,\n",
              "          2.39920453e-03, -9.35889594e-03, -8.59534252e-04,\n",
              "          1.61594164e-03,  1.43099679e-02, -1.29470631e-01,\n",
              "         -2.23964802e-03, -1.55055558e-03, -1.09307165e-03,\n",
              "          1.49742432e-03, -1.61982258e-03, -2.51243591e-01,\n",
              "         -3.39567922e-02, -7.70089865e-01, -1.00004887e-02,\n",
              "          2.19657784e-03,  1.38527271e-03, -8.24764132e-01,\n",
              "         -6.21702662e-03,  5.12006357e-02,  1.24915428e-01,\n",
              "         -4.00064047e-04, -5.81704360e-03,  5.58573287e-04,\n",
              "          1.97606324e-03, -4.72289335e-04, -2.45393783e-01,\n",
              "          1.46043580e-02,  1.32970549e-02,  3.59979086e-02,\n",
              "          9.51998495e-03,  4.65499761e-04, -9.60843114e-04,\n",
              "          1.71041244e-03,  7.08652496e-01,  2.14222878e-01,\n",
              "          4.25403640e-02,  8.18547513e-03, -1.30076986e-03,\n",
              "         -4.65581343e-02,  9.43733193e-03,  4.67737764e-03,\n",
              "         -9.58172500e-01,  3.45647149e-02,  2.65391171e-02,\n",
              "          3.59570840e-04, -3.81585420e-03, -1.51555566e-02,\n",
              "          3.44593465e-01,  1.03971496e-01,  1.64252054e-02,\n",
              "          4.01992872e-02,  1.10600711e-04, -3.44934844e-04,\n",
              "          1.91313431e-01,  2.78005912e-03,  7.99951702e-03,\n",
              "         -2.50627659e-03,  1.63349183e-03,  1.23523092e-02,\n",
              "         -6.22143596e-02, -2.26199981e-02, -1.34331617e-03,\n",
              "         -2.20385008e-03, -1.94343373e-01, -2.12525111e-02,\n",
              "         -3.57611328e-01, -6.28068461e-04,  1.12688394e-04,\n",
              "          6.04044855e-01, -3.74196507e-02,  4.86597121e-02,\n",
              "          5.75820506e-01,  7.45438993e-01,  2.68964306e-03,\n",
              "          9.64519203e-01, -5.82817057e-03,  7.88659672e-04,\n",
              "         -7.29620457e-01, -7.05574523e-04,  6.52954797e-04,\n",
              "         -2.12781295e-01, -6.48785308e-02,  7.42853526e-03,\n",
              "         -6.97877351e-03,  9.88595486e-01,  1.53816566e-02,\n",
              "          1.17263218e-04, -3.79045890e-03, -3.91502306e-02,\n",
              "          9.98321116e-01,  2.48646334e-01,  5.11269420e-02,\n",
              "         -7.25003518e-03, -1.05708383e-01, -1.68585684e-02,\n",
              "          3.93524133e-02, -2.22681230e-03,  7.85805643e-01,\n",
              "          1.55315716e-02, -6.13699332e-02,  6.76504278e-04,\n",
              "         -1.45185634e-01,  1.31898094e-03, -2.44382191e-02,\n",
              "          2.83074426e-03, -1.43608730e-03,  1.72099285e-03,\n",
              "          8.69427435e-03, -1.52329809e-03, -1.70688137e-01,\n",
              "          2.85305869e-04,  4.03979747e-03, -6.63594484e-01,\n",
              "          8.14843103e-02, -6.45838327e-06,  1.48751169e-01,\n",
              "          2.17572600e-02, -1.04082297e-04,  4.67372639e-03,\n",
              "          3.84308584e-02, -3.18694748e-02, -5.88989293e-04,\n",
              "          5.82811306e-04,  1.17180869e-04, -2.59571433e-01,\n",
              "         -6.93725526e-01,  5.54863224e-03,  1.02032106e-02,\n",
              "          4.45304113e-03,  6.41210005e-04, -4.11222049e-04,\n",
              "         -2.01217178e-02, -1.20031692e-01, -9.88957584e-01,\n",
              "          1.45797670e-01,  2.76313294e-02, -4.81468206e-03,\n",
              "         -4.34298621e-04,  9.97297823e-01,  9.83751059e-01,\n",
              "          4.80825111e-04, -5.07775787e-03,  2.28561666e-02,\n",
              "          1.68086454e-01, -9.54663455e-01, -6.69528637e-03,\n",
              "         -1.52529597e-01, -6.24048561e-02, -1.83965734e-04,\n",
              "          1.03085523e-03, -5.66634126e-02,  3.92905101e-02,\n",
              "          4.28309888e-02, -5.07340655e-02,  7.63554359e-04,\n",
              "         -1.82445534e-02,  1.46530792e-01,  2.32021809e-02,\n",
              "          2.24137169e-04,  1.18438512e-01, -1.90153897e-01,\n",
              "          8.72477796e-03, -1.76983308e-02, -9.07914340e-01,\n",
              "          1.61413918e-03, -4.58027644e-04, -4.38774331e-03,\n",
              "          1.61528820e-03,  3.16498354e-02, -3.76938027e-03,\n",
              "         -1.86518859e-03,  1.96336978e-03, -5.21595180e-01,\n",
              "         -8.69657903e-04,  1.47135034e-01, -1.39335260e-01,\n",
              "         -2.73594982e-03,  1.30314659e-03,  7.13015534e-03,\n",
              "          8.89329094e-05, -4.63255710e-04,  2.07900647e-02,\n",
              "          6.70169070e-02, -1.02391332e-01, -8.17835238e-03,\n",
              "         -2.61911155e-05,  7.32749999e-01, -3.67253815e-05,\n",
              "          1.64531022e-02,  1.74861902e-03, -7.78957546e-01,\n",
              "         -1.66491289e-02, -9.09649534e-04,  2.64890445e-03,\n",
              "         -3.17494315e-03,  1.93822279e-03, -2.82325782e-02,\n",
              "          2.63137219e-04, -6.92659942e-03, -2.34624799e-02,\n",
              "          6.94364905e-01,  6.87282241e-04, -9.99080658e-01,\n",
              "         -1.95268251e-03,  7.46566951e-01, -9.61300433e-02,\n",
              "          6.72032009e-04, -9.82003450e-01, -6.03379756e-02,\n",
              "          7.26664066e-01, -8.46088957e-03, -8.37199032e-01,\n",
              "         -9.57819045e-01, -2.97628716e-03, -6.73385635e-02,\n",
              "         -3.42380488e-03, -1.59402803e-01,  1.30697433e-03,\n",
              "          9.99124289e-01,  4.45715757e-03, -1.66661444e-03,\n",
              "          1.89107808e-03, -1.74217001e-02,  1.32866517e-01,\n",
              "         -3.33677483e-04, -3.76804739e-01,  5.39828062e-01,\n",
              "          4.07329686e-02,  4.58420225e-04,  2.36543601e-05,\n",
              "          9.60013151e-01, -8.83267378e-04, -4.71962336e-03,\n",
              "          4.89657512e-03, -5.77704748e-03, -6.46498986e-03,\n",
              "          3.71859671e-04, -1.39277410e-02, -2.12594699e-02,\n",
              "         -5.43535043e-06,  5.69920288e-03,  1.33588482e-02,\n",
              "         -1.70588522e-04,  3.54346330e-03,  3.99951619e-04,\n",
              "         -1.05972076e-02, -1.01628397e-02,  2.31335475e-03,\n",
              "         -1.73070412e-02,  4.06946382e-03, -9.66864536e-06,\n",
              "          2.02964433e-03, -1.46069117e-02, -8.89820516e-01,\n",
              "          3.07277795e-02,  1.71741411e-01, -5.63752255e-05,\n",
              "         -1.05062574e-01,  9.87842858e-01,  1.92270463e-03,\n",
              "         -2.49527046e-03,  1.87334806e-01, -9.86358404e-01,\n",
              "         -2.37176195e-01,  1.31841705e-04, -2.94463634e-02,\n",
              "          2.39310344e-03,  3.23534478e-03, -1.24404812e-03,\n",
              "          9.90763664e-01, -7.18129985e-03, -2.23645693e-04,\n",
              "          9.76039231e-01, -1.11000314e-01, -3.36374226e-03,\n",
              "         -5.99430762e-02,  2.55257964e-01, -1.04070164e-03,\n",
              "         -4.04419552e-06,  5.44791947e-05, -6.66283891e-02,\n",
              "         -2.99405656e-06,  8.92562699e-03,  8.44332098e-04,\n",
              "         -6.09827459e-01, -6.90597072e-02, -1.50222069e-04,\n",
              "          7.14893699e-01,  7.72410058e-05,  4.79479134e-03,\n",
              "         -7.26617336e-01,  7.44882941e-01,  5.32854907e-02,\n",
              "          2.69405707e-03,  3.79143655e-01, -1.01342890e-03,\n",
              "         -3.44464160e-03,  6.31140964e-03, -1.11643206e-02,\n",
              "         -4.94254567e-03,  3.12792271e-01, -7.01565808e-03,\n",
              "         -5.03886586e-05, -8.77246168e-03,  7.54967239e-03,\n",
              "         -1.48791987e-02,  5.70561497e-05,  7.08038744e-04,\n",
              "          2.90396810e-03, -4.57931543e-03,  5.53143322e-01,\n",
              "          2.20549526e-03,  1.92336354e-03,  5.42513793e-04,\n",
              "          7.78091419e-03,  6.58186909e-05,  6.99722208e-03,\n",
              "         -7.44361524e-03,  2.42161620e-02,  4.36336547e-02,\n",
              "          9.39647019e-01, -6.12260122e-03,  1.88547261e-02,\n",
              "          1.26352184e-03, -2.84071475e-01,  9.99453843e-01,\n",
              "          1.57284755e-02,  3.81968230e-01,  2.44524376e-03,\n",
              "         -3.36615689e-04, -1.88522190e-05, -1.64461300e-01,\n",
              "         -5.90112060e-03,  8.91793970e-05, -5.63987938e-04,\n",
              "          3.09939235e-01,  1.87726435e-03, -5.07318741e-03,\n",
              "          2.04238063e-03, -4.22361726e-03, -1.18429428e-02,\n",
              "         -9.75876570e-01, -1.09289284e-03,  1.42138705e-01,\n",
              "          8.10341775e-01, -1.82709694e-01,  1.16477042e-01,\n",
              "         -1.39868207e-04, -5.76514145e-03,  8.39732066e-02,\n",
              "          1.85113400e-02,  9.44471121e-01, -1.74519105e-03,\n",
              "         -1.78937297e-02, -5.72820902e-01, -4.94357198e-01,\n",
              "         -7.20526576e-01, -4.25762642e-04, -3.49249206e-02,\n",
              "         -2.40546092e-02,  1.56157534e-04, -1.61585156e-02,\n",
              "         -6.42139988e-04,  7.80257881e-01, -1.15007861e-04,\n",
              "         -3.85501310e-02,  9.99524653e-01, -5.29170513e-01,\n",
              "          2.22586364e-01,  1.34190261e-01,  8.49551812e-04,\n",
              "          2.72774865e-04,  4.96120891e-03, -2.61691748e-03,\n",
              "         -1.96088310e-02,  8.00324487e-05, -5.72532043e-03,\n",
              "          4.98257726e-02, -1.74012315e-02,  6.74320102e-01,\n",
              "          6.39393628e-01,  2.27044360e-03, -4.19416931e-04,\n",
              "         -9.12748437e-05,  2.48160260e-03, -5.30805090e-04,\n",
              "         -9.87639070e-01,  2.33250833e-03, -3.80219659e-03,\n",
              "         -3.11676017e-03,  5.20402342e-02,  1.49950106e-02,\n",
              "          1.04104867e-02,  1.07648317e-03,  5.22127899e-04,\n",
              "          9.97335076e-01, -1.31105091e-02, -1.61495840e-03,\n",
              "         -7.34947205e-01, -9.98454452e-01,  5.59591316e-03,\n",
              "         -1.09216496e-02,  9.99347389e-01,  2.87120610e-01,\n",
              "          3.49773420e-03,  1.71759631e-02,  4.56981920e-03,\n",
              "         -1.67672464e-03, -5.03688864e-02,  3.16021382e-03,\n",
              "          2.05615870e-04,  1.16200000e-02, -1.10929890e-03,\n",
              "         -5.95449626e-01, -3.97388972e-02,  1.49775580e-01,\n",
              "         -1.44193813e-01,  7.92950206e-03,  7.19063077e-03,\n",
              "          8.93674325e-03,  6.35254569e-03,  1.12640932e-02,\n",
              "         -5.85416052e-03, -7.63062179e-01,  1.90556352e-03,\n",
              "         -4.53371219e-02,  8.13591406e-02,  1.31571398e-03,\n",
              "          1.00573674e-01, -4.26358469e-02, -1.71031862e-01,\n",
              "          3.62265785e-03,  3.58691788e-03,  1.31830461e-02,\n",
              "         -3.71744856e-03, -1.68553810e-03, -5.95436022e-02,\n",
              "         -6.71657326e-04,  3.09396768e-03,  3.34645738e-04,\n",
              "         -8.68831936e-04,  1.38291705e-03,  1.93523214e-04,\n",
              "          7.96732865e-03,  7.63596669e-02, -2.67479848e-03,\n",
              "         -3.88729095e-04, -1.49558811e-02,  9.72665008e-03,\n",
              "         -1.06900819e-02,  8.98878439e-04,  2.85574012e-02,\n",
              "         -6.40963614e-02,  9.24474560e-03,  2.33977046e-02,\n",
              "          2.94844643e-03,  4.03977046e-03,  1.69489987e-03,\n",
              "         -2.84935310e-02, -6.55598566e-03, -2.08925758e-03,\n",
              "          1.92751538e-03,  1.92920402e-01, -8.60886574e-02,\n",
              "          5.50510250e-02, -1.20748853e-04, -1.14802485e-02,\n",
              "         -2.96699954e-03,  9.98498142e-01]], dtype=float32),\n",
              " array([[ 1.68458167e-02, -3.92850442e-03,  2.69310945e-03,\n",
              "         -5.08253127e-02,  5.45250130e+00, -3.04787006e+01,\n",
              "          6.02175668e-02, -8.23957566e-03,  8.30802917e-02,\n",
              "          9.28584766e-03, -4.98727918e-01,  3.51958771e+01,\n",
              "         -1.27543230e-02, -3.36770201e-03, -2.55956408e-02,\n",
              "          6.83125317e-01,  6.47444427e-02, -1.47692189e-01,\n",
              "         -1.00705373e+00,  1.78177893e-01, -3.10731027e-02,\n",
              "          1.10345793e+00, -1.92427501e-01,  3.46576691e+01,\n",
              "         -5.41608334e-01,  3.02148104e-01,  3.31989378e-02,\n",
              "          8.97550046e-01,  2.48746204e+00, -5.08391932e-02,\n",
              "          7.73065863e-03, -9.07973871e-02, -1.10868483e+01,\n",
              "          2.05680877e-02,  1.48169054e-02, -4.12387311e-01,\n",
              "         -2.31587112e-01, -2.86659654e-02, -5.86583391e-02,\n",
              "          1.57159305e+00, -2.78040282e-02, -2.61723369e-01,\n",
              "         -5.48063755e-01, -1.06451523e+00, -3.30561752e+01,\n",
              "          6.42747805e-02,  3.49240661e+00, -1.76110125e+00,\n",
              "         -6.30044341e-02,  1.26865417e-01,  5.59848833e+00,\n",
              "         -2.61389685e+00, -3.09897804e+01,  3.33128452e-01,\n",
              "          1.09300113e+00, -8.14280473e-03, -2.51188785e-01,\n",
              "          1.29979324e+00,  5.48520125e-02,  1.35880208e+00,\n",
              "          3.73257771e-02,  8.76740739e-03, -1.00743032e+00,\n",
              "          5.61492294e-02,  9.57944930e-01,  2.25166693e-01,\n",
              "          3.45875263e-01,  9.80330035e-02, -1.28706489e-02,\n",
              "         -1.81180194e-01,  3.19707617e-02,  6.41814619e-02,\n",
              "         -2.87099504e+00,  1.06466734e+00,  1.37985051e+00,\n",
              "          1.95425227e-02, -8.35727528e-03, -1.37283236e-01,\n",
              "          5.79313695e-01,  1.05018340e-01,  2.77726166e-02,\n",
              "          7.47687593e-02,  5.44307567e-03, -2.78646103e-03,\n",
              "          3.39150143e+00,  1.69879511e-01,  3.10814865e-02,\n",
              "         -2.32962742e-02,  9.05433949e-03,  7.95492768e-01,\n",
              "         -1.26982057e+00, -1.52513891e-01, -5.10624743e+00,\n",
              "         -1.05841152e-01, -2.26425260e-01, -5.83360255e-01,\n",
              "         -6.32048965e-01, -1.20721519e-01,  1.77094974e-02,\n",
              "          9.40861464e-01, -2.50020862e-01,  5.62873507e+00,\n",
              "          9.49275136e-01,  9.99456048e-01,  2.60191422e+01,\n",
              "          2.96198540e+01, -9.75172520e-01,  1.73395634e+00,\n",
              "         -1.00408316e+00, -6.19474128e-02,  1.01470268e+00,\n",
              "         -1.35549176e+00, -6.97155446e-02,  9.93851542e-01,\n",
              "         -1.15849471e+00,  6.81692028e+00,  1.02472878e+01,\n",
              "          2.92843347e-03, -1.59502737e-02, -3.15875173e-01,\n",
              "          1.33731518e+01,  5.64817667e-01,  8.00837576e-01,\n",
              "         -5.02314746e-01, -4.41247702e+00, -1.97722279e-02,\n",
              "          1.72473758e-01, -2.82236755e-01,  1.10431337e+00,\n",
              "          3.37605588e-02, -1.26416197e+01,  4.23877081e-03,\n",
              "         -1.02869570e+00,  5.06595850e-01, -6.24027625e-02,\n",
              "          9.01240253e+00, -4.01049368e-02,  3.20543557e-01,\n",
              "          1.05994167e-02, -2.50859354e-02, -1.97858095e+00,\n",
              "          5.28501928e-01,  2.57377625e-01, -9.41790462e-01,\n",
              "          2.36031726e-01, -4.01206489e-04,  4.09645766e-01,\n",
              "          3.89718205e-01, -3.96188572e-02,  6.52260855e-02,\n",
              "          5.03769815e-02, -9.16756511e-01, -1.77305995e-03,\n",
              "          2.48038352e-01,  7.43508432e-03, -9.46484506e-01,\n",
              "         -8.58026981e-01,  6.50380254e-02,  2.38253269e-02,\n",
              "          1.68875799e-01,  2.45230362e-01, -7.00438907e-03,\n",
              "         -2.44790897e-01, -1.40894443e-01, -3.49342384e+01,\n",
              "          5.79756141e-01,  4.37713385e+00, -7.90667593e-01,\n",
              "         -1.08153617e+00,  3.04245548e+01,  2.44419312e+00,\n",
              "          2.68272795e-02, -1.10448444e+00,  9.05899182e-02,\n",
              "          8.82080615e-01, -4.82938623e+00, -7.65511131e+00,\n",
              "         -2.37743378e-01, -6.68106303e-02, -2.80018500e-03,\n",
              "          1.10281408e+00, -1.83592498e-01,  2.70456219e+00,\n",
              "          4.89027165e-02, -7.54729509e-02,  2.47436110e-03,\n",
              "         -1.11636615e+00,  1.49345011e-01,  7.86618662e+00,\n",
              "          4.90675448e-03,  1.59235990e+00, -3.54872406e-01,\n",
              "          2.10788155e+00, -6.82458282e-02, -1.60108328e+00,\n",
              "          1.43326014e-01, -8.42130091e-03, -1.51258316e-02,\n",
              "          1.35589004e-01,  7.06269026e-01, -8.35679829e-01,\n",
              "         -2.57703543e-01,  9.58361149e-01, -7.14828610e-01,\n",
              "         -9.83493567e-01,  1.10431945e+00, -1.42942697e-01,\n",
              "         -6.28586578e+00,  2.33091760e+00,  5.36934212e-02,\n",
              "          6.09891154e-02, -1.46749998e-02,  4.28822860e-02,\n",
              "          1.31668761e-01, -9.05212343e-01, -1.25701606e+00,\n",
              "         -1.00654904e-02,  9.86880779e-01, -1.53990206e-03,\n",
              "          4.60891634e-01,  8.56503189e-01, -1.06281471e+00,\n",
              "         -1.79522591e+01, -4.39953156e+01,  1.92460477e-01,\n",
              "         -8.10501575e-01,  3.67462425e-03, -1.27712309e-01,\n",
              "          1.46275712e-03, -1.09461630e-02, -1.70182157e+00,\n",
              "          1.28619790e+00,  2.98285279e-02, -2.59260540e+01,\n",
              "         -2.30187969e-03,  9.66378629e-01, -9.07379389e-01,\n",
              "          1.43834474e-02, -1.01434870e+01, -7.54516959e-01,\n",
              "          1.17455554e+00, -8.70372653e-02, -1.22588384e+00,\n",
              "         -1.22215233e+01, -8.87082145e-03, -7.83623517e-01,\n",
              "         -1.65829360e+00, -3.92617941e-01,  4.09165863e-03,\n",
              "          4.31174183e+00,  2.83660084e-01, -1.51000917e-02,\n",
              "          3.16550136e-02, -8.69669616e-02,  1.47642889e+01,\n",
              "         -1.75548054e-03, -1.01015747e+00,  6.09314501e-01,\n",
              "          6.11640885e-02,  7.34141329e-03,  9.06785892e-04,\n",
              "          2.22987437e+00, -2.73519065e-02, -5.65957697e-03,\n",
              "          9.43054795e-01, -6.61130203e-03, -3.13975066e-02,\n",
              "          8.80909935e-02, -1.67312920e+00, -1.14105380e+00,\n",
              "         -2.92978046e-04,  2.06148047e-02,  4.35614377e-01,\n",
              "         -4.09952831e-04,  1.53739033e-02,  2.04405766e-02,\n",
              "         -9.50765550e-01, -8.68850797e-02,  1.46735450e-02,\n",
              "         -5.38443446e-01,  6.10647202e+00, -4.71868203e-04,\n",
              "          2.13150561e-01, -6.93488121e-02, -1.55178032e+01,\n",
              "          3.47069241e-02,  7.16045499e-01, -2.35407334e-02,\n",
              "         -7.38948822e-01,  6.31174755e+00,  1.35008526e+00,\n",
              "         -9.56954777e-01,  2.93690413e-01, -3.28915715e+00,\n",
              "         -6.88514113e-01,  1.02431029e-01, -9.79727805e-01,\n",
              "          1.00525844e+00,  2.48910642e+00, -1.59427226e-02,\n",
              "          5.09928131e+00, -1.51426244e+00, -8.02099425e-03,\n",
              "          2.22069693e+00, -2.40274563e+01, -2.12869514e-02,\n",
              "         -9.64293540e-01,  4.43785518e-01, -9.71882269e-02,\n",
              "         -3.18168178e-02,  1.77606381e-03, -2.43547249e+00,\n",
              "         -7.63162388e-04,  1.03427274e-02,  1.06280874e-02,\n",
              "         -7.09271491e-01, -4.01150554e-01, -4.89623137e-02,\n",
              "          9.79136765e-01,  3.76921184e-02,  1.88139491e-02,\n",
              "         -9.68960404e-01,  1.01587915e+00,  7.91490003e-02,\n",
              "          6.55242801e-03,  4.05515403e-01, -1.58141237e-02,\n",
              "         -1.07550561e-01,  3.75353433e-02, -2.51915245e+01,\n",
              "         -9.93143022e-02,  7.42686093e-01, -1.20008551e-01,\n",
              "         -4.37849388e-03, -8.99650872e-01,  7.13956356e-01,\n",
              "         -1.53880948e-02,  8.49295929e-02,  6.88075945e-02,\n",
              "          3.62448235e+01, -1.05397594e+00,  6.91647887e-01,\n",
              "          1.07263505e-01,  3.46102705e-03,  4.19072714e-03,\n",
              "          5.28731823e-01,  1.46740740e-02,  6.31886482e-01,\n",
              "         -1.78047895e-01,  3.15753788e-01,  4.96794507e-02,\n",
              "          2.28495407e+00, -1.03992963e+00,  3.92528057e-01,\n",
              "          1.97885651e-02, -9.62090671e-01,  2.13778687e+01,\n",
              "          4.03067842e-02,  4.48897153e-01,  1.62930846e-01,\n",
              "         -2.45782658e-02, -7.99825322e-03, -1.42548203e+00,\n",
              "         -1.21301860e-02,  8.14107188e-04, -8.43845367e+00,\n",
              "          1.15036297e+01,  1.48848016e-02, -8.10199510e-03,\n",
              "          1.53335476e+00, -2.87955227e+01, -1.34705305e-01,\n",
              "         -4.83432150e+00, -6.47578165e-02,  4.62255211e+01,\n",
              "          1.39868867e+00, -2.60093927e-01,  6.48166239e-01,\n",
              "         -1.33725610e-02, -9.09200609e-01,  6.48526907e+00,\n",
              "          7.12013915e-02,  2.75119305e+00, -2.56611884e-01,\n",
              "         -1.02455199e+00, -1.16089869e+00, -9.25620914e-01,\n",
              "         -1.00385928e+00, -6.52113464e-03, -4.40512002e-01,\n",
              "         -1.63714021e-01,  1.24837063e-01, -1.99695118e-02,\n",
              "         -1.01898003e+00,  3.09640865e+01, -4.54765372e-03,\n",
              "         -8.54951262e-01,  1.08858643e+01, -6.91091776e-01,\n",
              "          1.39568675e+00,  1.67924777e-01,  8.66954923e-01,\n",
              "          1.19126793e-02,  8.86323273e-01, -8.12512279e-01,\n",
              "         -1.02015667e+01,  6.25477755e-04, -7.69787142e-03,\n",
              "          7.38910770e+00, -1.15243077e+00,  8.98409903e-01,\n",
              "          7.91192591e-01,  3.26553322e-02, -3.83805810e-03,\n",
              "         -1.39615731e-02,  9.14705843e-02, -1.05011482e-02,\n",
              "         -4.05040312e+00,  1.58769086e-01, -8.41907918e-01,\n",
              "         -7.49303307e-03,  2.13198707e-01,  3.67730334e-02,\n",
              "          3.02440822e-01,  1.44354319e-02,  3.56819555e-02,\n",
              "          3.44117332e+00, -5.64308286e-01, -5.30137479e-01,\n",
              "         -9.76922691e-01, -3.82365894e+00,  9.50489938e-01,\n",
              "         -1.30099934e-02,  5.23108912e+00,  4.39815909e-01,\n",
              "          9.72955767e-03,  1.16999894e-01,  8.74668777e-01,\n",
              "         -1.93369277e-02, -1.25895321e+00,  6.26363698e-03,\n",
              "          2.62812208e-02,  1.64947137e-01, -8.72520447e-01,\n",
              "         -8.65616858e-01, -4.77307498e-01,  1.85340628e-01,\n",
              "         -9.16869164e-01,  1.45144053e-02,  1.05100274e+00,\n",
              "          1.32371085e-02,  1.05497520e-02,  1.49713635e-01,\n",
              "         -9.81987491e-02, -1.11767316e+00,  1.56404883e-01,\n",
              "         -4.77693602e-02,  1.04174268e+00,  1.97870290e+00,\n",
              "          3.22022468e-01, -6.98292032e-02, -1.75668821e-01,\n",
              "          1.18365717e+00,  9.06717837e-01,  1.08567452e+00,\n",
              "         -1.25447631e+00, -5.62953483e-03, -4.12450612e-01,\n",
              "         -3.49754803e-02,  5.35290651e-02,  6.57394482e-03,\n",
              "         -7.50610465e-03,  1.10096216e+00,  9.26700141e-03,\n",
              "          4.65839021e-02,  9.40799266e-02, -2.07892537e+00,\n",
              "         -2.61083069e+01, -2.23356992e-01,  1.51289729e-02,\n",
              "         -8.47187102e-01,  5.44622578e-02,  1.33037075e-01,\n",
              "         -4.27136383e+01,  5.95820025e-02,  3.16401792e+00,\n",
              "          2.36076359e-02,  9.31369543e-01,  6.19665794e-02,\n",
              "         -1.58910382e+00, -1.34750502e-02, -6.90237582e-02,\n",
              "          3.76829177e-01,  2.14443445e-01, -9.56975222e-01,\n",
              "          8.67662966e-01, -2.52945349e-04, -2.90152784e-02,\n",
              "         -6.41820073e-01,  4.45173264e+00]], dtype=float32)]"
            ]
          },
          "metadata": {
            "tags": []
          },
          "execution_count": 141
        }
      ]
    },
    {
      "cell_type": "code",
      "metadata": {
        "id": "67gyIumPCaza",
        "colab_type": "code",
        "colab": {}
      },
      "source": [
        "output_tokens, h, c = decoder_model.predict([target_seq] + [e_out, e_h, e_c])"
      ],
      "execution_count": 0,
      "outputs": []
    },
    {
      "cell_type": "code",
      "metadata": {
        "id": "8CD7qQBeCiM-",
        "colab_type": "code",
        "colab": {
          "base_uri": "https://localhost:8080/",
          "height": 266
        },
        "outputId": "3bded754-b328-4f87-face-4d9cdfa94cbc"
      },
      "source": [
        "stop_condition = False\n",
        "decoded_sentence = ''\n",
        "while not stop_condition:\n",
        "    output_tokens, h, c = decoder_model.predict([target_seq] + [e_out, e_h, e_c])\n",
        "    # Sample a token\n",
        "    sampled_token_index = np.argmax(output_tokens[0, -1, :])\n",
        "    sampled_token = reverse_target_word_index[sampled_token_index]\n",
        "    print(sampled_token)\n",
        "    print('sampled_token_index is ',sampled_token_index)\n",
        "    if(sampled_token=='end'):\n",
        "      break        \n",
        "    else:\n",
        "      decoded_sentence += ' '+sampled_token\n",
        "      # Exit condition: either hit max length or find stop word.\n",
        "      if (sampled_token == 'end' or len(decoded_sentence.split()) >= (max_len_summary-1)):\n",
        "        stop_condition = True\n",
        "        \n",
        "    # Update the target sequence (of length 1).\n",
        "    target_seq = np.zeros((1,1))\n",
        "    target_seq[0, 0] = sampled_token_index\n",
        "    print('sampled_token_index is ',sampled_token_index)          \n",
        "    # Update internal states\n",
        "    e_h, e_c = h, c"
      ],
      "execution_count": 144,
      "outputs": [
        {
          "output_type": "stream",
          "text": [
            "not\n",
            "sampled_token_index is  6\n",
            "sampled_token_index is  6\n",
            "for\n",
            "sampled_token_index is  7\n",
            "sampled_token_index is  7\n",
            "long\n",
            "sampled_token_index is  261\n",
            "sampled_token_index is  261\n",
            "lasting\n",
            "sampled_token_index is  813\n",
            "sampled_token_index is  813\n",
            "end\n",
            "sampled_token_index is  2\n"
          ],
          "name": "stdout"
        }
      ]
    },
    {
      "cell_type": "code",
      "metadata": {
        "id": "XOE2XTtXIYUV",
        "colab_type": "code",
        "colab": {}
      },
      "source": [
        "reverse_target_word_index"
      ],
      "execution_count": 0,
      "outputs": []
    },
    {
      "cell_type": "code",
      "metadata": {
        "id": "R5DjC09HHLR3",
        "colab_type": "code",
        "colab": {}
      },
      "source": [
        "np.argmax(output_tokens[0, -1, :])"
      ],
      "execution_count": 0,
      "outputs": []
    },
    {
      "cell_type": "code",
      "metadata": {
        "id": "EG8P8hN3Cn-w",
        "colab_type": "code",
        "colab": {}
      },
      "source": [
        "sampled_token_index = np.argmax(output_tokens[0, -1, :])"
      ],
      "execution_count": 0,
      "outputs": []
    },
    {
      "cell_type": "code",
      "metadata": {
        "id": "2My77QYMCtlL",
        "colab_type": "code",
        "colab": {
          "base_uri": "https://localhost:8080/",
          "height": 168
        },
        "outputId": "b4f3cd5f-b3f5-47ea-c00b-f8d87f3eea20"
      },
      "source": [
        "reverse_target_word_index[sampled_token_index]"
      ],
      "execution_count": 122,
      "outputs": [
        {
          "output_type": "error",
          "ename": "KeyError",
          "evalue": "ignored",
          "traceback": [
            "\u001b[0;31m---------------------------------------------------------------------------\u001b[0m",
            "\u001b[0;31mKeyError\u001b[0m                                  Traceback (most recent call last)",
            "\u001b[0;32m<ipython-input-122-550e6bbdc253>\u001b[0m in \u001b[0;36m<module>\u001b[0;34m()\u001b[0m\n\u001b[0;32m----> 1\u001b[0;31m \u001b[0mreverse_target_word_index\u001b[0m\u001b[0;34m[\u001b[0m\u001b[0msampled_token_index\u001b[0m\u001b[0;34m]\u001b[0m\u001b[0;34m\u001b[0m\u001b[0;34m\u001b[0m\u001b[0m\n\u001b[0m",
            "\u001b[0;31mKeyError\u001b[0m: 0"
          ]
        }
      ]
    },
    {
      "cell_type": "code",
      "metadata": {
        "id": "SEDTuydhCv6k",
        "colab_type": "code",
        "colab": {}
      },
      "source": [
        "x_tr_pre,x_val_pre,y_tr_pre,y_val_pre = train_test_split(df['cleaned_text'],df['cleaned_summary'],test_size=0.1,random_state=0,shuffle=True) "
      ],
      "execution_count": 0,
      "outputs": []
    },
    {
      "cell_type": "code",
      "metadata": {
        "id": "qK-YZ53nHzpW",
        "colab_type": "code",
        "colab": {}
      },
      "source": [
        ""
      ],
      "execution_count": 0,
      "outputs": []
    }
  ]
}
