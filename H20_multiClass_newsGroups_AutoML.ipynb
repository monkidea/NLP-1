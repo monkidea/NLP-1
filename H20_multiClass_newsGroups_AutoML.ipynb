{
  "nbformat": 4,
  "nbformat_minor": 0,
  "metadata": {
    "colab": {
      "name": "H20_multiClass_newsGroups_AutoML.ipynb",
      "provenance": [],
      "collapsed_sections": [],
      "include_colab_link": true
    },
    "kernelspec": {
      "name": "python3",
      "display_name": "Python 3"
    }
  },
  "cells": [
    {
      "cell_type": "markdown",
      "metadata": {
        "id": "view-in-github",
        "colab_type": "text"
      },
      "source": [
        "<a href=\"https://colab.research.google.com/github/ronykroy/DNN-NLP-and-other-stuff/blob/master/H20_multiClass_newsGroups_AutoML.ipynb\" target=\"_parent\"><img src=\"https://colab.research.google.com/assets/colab-badge.svg\" alt=\"Open In Colab\"/></a>"
      ]
    },
    {
      "cell_type": "code",
      "metadata": {
        "id": "FfMSV-aHdf0h",
        "colab_type": "code",
        "outputId": "b3b052d3-dbf4-4d14-a154-14b8fc7ad42d",
        "colab": {
          "base_uri": "https://localhost:8080/",
          "height": 168
        }
      },
      "source": [
        "!apt-get install default-jre\n",
        "!java -version\n",
        "# install Java.. because.. there is nothing in this colab VM"
      ],
      "execution_count": 1,
      "outputs": [
        {
          "output_type": "stream",
          "text": [
            "Reading package lists... Done\n",
            "Building dependency tree       \n",
            "Reading state information... Done\n",
            "default-jre is already the newest version (2:1.11-68ubuntu1~18.04.1).\n",
            "default-jre set to manually installed.\n",
            "0 upgraded, 0 newly installed, 0 to remove and 28 not upgraded.\n",
            "openjdk version \"11.0.4\" 2019-07-16\n",
            "OpenJDK Runtime Environment (build 11.0.4+11-post-Ubuntu-1ubuntu218.04.3)\n",
            "OpenJDK 64-Bit Server VM (build 11.0.4+11-post-Ubuntu-1ubuntu218.04.3, mixed mode, sharing)\n"
          ],
          "name": "stdout"
        }
      ]
    },
    {
      "cell_type": "code",
      "metadata": {
        "id": "S4JgdiQodh-D",
        "colab_type": "code",
        "outputId": "b4fc4109-7640-45fe-ba6f-1094f01b49ff",
        "colab": {
          "base_uri": "https://localhost:8080/",
          "height": 336
        }
      },
      "source": [
        "! pip install h2o\n",
        "# H2O too to be installed SMH"
      ],
      "execution_count": 2,
      "outputs": [
        {
          "output_type": "stream",
          "text": [
            "Collecting h2o\n",
            "\u001b[?25l  Downloading https://files.pythonhosted.org/packages/64/38/78742b2b34718869e0918b678030e87e081d0aadf859a8356a5fa3840f56/h2o-3.26.0.8.tar.gz (123.6MB)\n",
            "\u001b[K     |████████████████████████████████| 123.6MB 79kB/s \n",
            "\u001b[?25hRequirement already satisfied: requests in /usr/local/lib/python3.6/dist-packages (from h2o) (2.21.0)\n",
            "Requirement already satisfied: tabulate in /usr/local/lib/python3.6/dist-packages (from h2o) (0.8.5)\n",
            "Requirement already satisfied: future in /usr/local/lib/python3.6/dist-packages (from h2o) (0.16.0)\n",
            "Collecting colorama>=0.3.8\n",
            "  Downloading https://files.pythonhosted.org/packages/4f/a6/728666f39bfff1719fc94c481890b2106837da9318031f71a8424b662e12/colorama-0.4.1-py2.py3-none-any.whl\n",
            "Requirement already satisfied: idna<2.9,>=2.5 in /usr/local/lib/python3.6/dist-packages (from requests->h2o) (2.8)\n",
            "Requirement already satisfied: urllib3<1.25,>=1.21.1 in /usr/local/lib/python3.6/dist-packages (from requests->h2o) (1.24.3)\n",
            "Requirement already satisfied: certifi>=2017.4.17 in /usr/local/lib/python3.6/dist-packages (from requests->h2o) (2019.9.11)\n",
            "Requirement already satisfied: chardet<3.1.0,>=3.0.2 in /usr/local/lib/python3.6/dist-packages (from requests->h2o) (3.0.4)\n",
            "Building wheels for collected packages: h2o\n",
            "  Building wheel for h2o (setup.py) ... \u001b[?25l\u001b[?25hdone\n",
            "  Created wheel for h2o: filename=h2o-3.26.0.8-py2.py3-none-any.whl size=123708939 sha256=82097c8bf6b2837e612e90652b4f289d2a07cd6d2d9dd55cb80ead4438b6ce48\n",
            "  Stored in directory: /root/.cache/pip/wheels/f7/4c/2f/367de2996c0c2621a9e2e19624be0ea0e4b766df3cd597d916\n",
            "Successfully built h2o\n",
            "Installing collected packages: colorama, h2o\n",
            "Successfully installed colorama-0.4.1 h2o-3.26.0.8\n"
          ],
          "name": "stdout"
        }
      ]
    },
    {
      "cell_type": "code",
      "metadata": {
        "id": "66yG3tV0dnMC",
        "colab_type": "code",
        "colab": {}
      },
      "source": [
        "import h2o"
      ],
      "execution_count": 0,
      "outputs": []
    },
    {
      "cell_type": "code",
      "metadata": {
        "id": "Y36AZbp5do3E",
        "colab_type": "code",
        "outputId": "e75d3653-40dc-48f1-d8ee-c23884e1d293",
        "colab": {
          "base_uri": "https://localhost:8080/",
          "height": 510
        }
      },
      "source": [
        "h2o.init(max_mem_size=\"4G\")"
      ],
      "execution_count": 4,
      "outputs": [
        {
          "output_type": "stream",
          "text": [
            "Checking whether there is an H2O instance running at http://localhost:54321 ..... not found.\n",
            "Attempting to start a local H2O server...\n",
            "  Java Version: openjdk version \"11.0.4\" 2019-07-16; OpenJDK Runtime Environment (build 11.0.4+11-post-Ubuntu-1ubuntu218.04.3); OpenJDK 64-Bit Server VM (build 11.0.4+11-post-Ubuntu-1ubuntu218.04.3, mixed mode, sharing)\n",
            "  Starting server from /usr/local/lib/python3.6/dist-packages/h2o/backend/bin/h2o.jar\n",
            "  Ice root: /tmp/tmprkmy7yf9\n",
            "  JVM stdout: /tmp/tmprkmy7yf9/h2o_unknownUser_started_from_python.out\n",
            "  JVM stderr: /tmp/tmprkmy7yf9/h2o_unknownUser_started_from_python.err\n",
            "  Server is running at http://127.0.0.1:54321\n",
            "Connecting to H2O server at http://127.0.0.1:54321 ... successful.\n"
          ],
          "name": "stdout"
        },
        {
          "output_type": "display_data",
          "data": {
            "text/html": [
              "<div style=\"overflow:auto\"><table style=\"width:50%\"><tr><td>H2O cluster uptime:</td>\n",
              "<td>03 secs</td></tr>\n",
              "<tr><td>H2O cluster timezone:</td>\n",
              "<td>Etc/UTC</td></tr>\n",
              "<tr><td>H2O data parsing timezone:</td>\n",
              "<td>UTC</td></tr>\n",
              "<tr><td>H2O cluster version:</td>\n",
              "<td>3.26.0.8</td></tr>\n",
              "<tr><td>H2O cluster version age:</td>\n",
              "<td>6 days </td></tr>\n",
              "<tr><td>H2O cluster name:</td>\n",
              "<td>H2O_from_python_unknownUser_40fmn5</td></tr>\n",
              "<tr><td>H2O cluster total nodes:</td>\n",
              "<td>1</td></tr>\n",
              "<tr><td>H2O cluster free memory:</td>\n",
              "<td>4 Gb</td></tr>\n",
              "<tr><td>H2O cluster total cores:</td>\n",
              "<td>2</td></tr>\n",
              "<tr><td>H2O cluster allowed cores:</td>\n",
              "<td>2</td></tr>\n",
              "<tr><td>H2O cluster status:</td>\n",
              "<td>accepting new members, healthy</td></tr>\n",
              "<tr><td>H2O connection url:</td>\n",
              "<td>http://127.0.0.1:54321</td></tr>\n",
              "<tr><td>H2O connection proxy:</td>\n",
              "<td>{'http': None, 'https': None}</td></tr>\n",
              "<tr><td>H2O internal security:</td>\n",
              "<td>False</td></tr>\n",
              "<tr><td>H2O API Extensions:</td>\n",
              "<td>Amazon S3, XGBoost, Algos, AutoML, Core V3, TargetEncoder, Core V4</td></tr>\n",
              "<tr><td>Python version:</td>\n",
              "<td>3.6.8 final</td></tr></table></div>"
            ],
            "text/plain": [
              "--------------------------  ------------------------------------------------------------------\n",
              "H2O cluster uptime:         03 secs\n",
              "H2O cluster timezone:       Etc/UTC\n",
              "H2O data parsing timezone:  UTC\n",
              "H2O cluster version:        3.26.0.8\n",
              "H2O cluster version age:    6 days\n",
              "H2O cluster name:           H2O_from_python_unknownUser_40fmn5\n",
              "H2O cluster total nodes:    1\n",
              "H2O cluster free memory:    4 Gb\n",
              "H2O cluster total cores:    2\n",
              "H2O cluster allowed cores:  2\n",
              "H2O cluster status:         accepting new members, healthy\n",
              "H2O connection url:         http://127.0.0.1:54321\n",
              "H2O connection proxy:       {'http': None, 'https': None}\n",
              "H2O internal security:      False\n",
              "H2O API Extensions:         Amazon S3, XGBoost, Algos, AutoML, Core V3, TargetEncoder, Core V4\n",
              "Python version:             3.6.8 final\n",
              "--------------------------  ------------------------------------------------------------------"
            ]
          },
          "metadata": {
            "tags": []
          }
        }
      ]
    },
    {
      "cell_type": "code",
      "metadata": {
        "id": "kRt1xkd8dqNi",
        "colab_type": "code",
        "colab": {
          "base_uri": "https://localhost:8080/",
          "height": 84
        },
        "outputId": "e116ed64-8c0c-4bbc-a420-42fc14a030a9"
      },
      "source": [
        "from sklearn.datasets import fetch_20newsgroups\n",
        "dataset = fetch_20newsgroups(shuffle=True, random_state=1, remove=('headers', 'footers', 'quotes'))\n",
        "documents = dataset.data"
      ],
      "execution_count": 5,
      "outputs": [
        {
          "output_type": "stream",
          "text": [
            "Downloading 20news dataset. This may take a few minutes.\n",
            "INFO:sklearn.datasets.twenty_newsgroups:Downloading 20news dataset. This may take a few minutes.\n",
            "Downloading dataset from https://ndownloader.figshare.com/files/5975967 (14 MB)\n",
            "INFO:sklearn.datasets.twenty_newsgroups:Downloading dataset from https://ndownloader.figshare.com/files/5975967 (14 MB)\n"
          ],
          "name": "stderr"
        }
      ]
    },
    {
      "cell_type": "code",
      "metadata": {
        "id": "7lfuAJ5Yd7Ep",
        "colab_type": "code",
        "colab": {}
      },
      "source": [
        "import pandas as pd\n",
        "import numpy as np"
      ],
      "execution_count": 0,
      "outputs": []
    },
    {
      "cell_type": "code",
      "metadata": {
        "id": "vAewuduGdvvS",
        "colab_type": "code",
        "colab": {}
      },
      "source": [
        "df = pd.DataFrame({'label':dataset.target, 'text':dataset.data})"
      ],
      "execution_count": 0,
      "outputs": []
    },
    {
      "cell_type": "code",
      "metadata": {
        "id": "lX3hcDxViwEP",
        "colab_type": "code",
        "colab": {}
      },
      "source": [
        "df[\"Train\"] = np.random.rand(len(df)) < 0.8 # get a col full of train boolean "
      ],
      "execution_count": 0,
      "outputs": []
    },
    {
      "cell_type": "code",
      "metadata": {
        "id": "TA8sG4d-i0m8",
        "colab_type": "code",
        "outputId": "5f0a0ca3-d0ac-4fa1-ed15-2d5b46a8a90e",
        "colab": {
          "base_uri": "https://localhost:8080/",
          "height": 67
        }
      },
      "source": [
        "df.Train.value_counts()"
      ],
      "execution_count": 9,
      "outputs": [
        {
          "output_type": "execute_result",
          "data": {
            "text/plain": [
              "True     9051\n",
              "False    2263\n",
              "Name: Train, dtype: int64"
            ]
          },
          "metadata": {
            "tags": []
          },
          "execution_count": 9
        }
      ]
    },
    {
      "cell_type": "code",
      "metadata": {
        "id": "v9GCvPAqfilx",
        "colab_type": "code",
        "outputId": "7a1f5729-053f-4533-9940-2ac427f9c238",
        "colab": {
          "base_uri": "https://localhost:8080/",
          "height": 34
        }
      },
      "source": [
        "reviews = h2o.H2OFrame(df)"
      ],
      "execution_count": 10,
      "outputs": [
        {
          "output_type": "stream",
          "text": [
            "Parse progress: |█████████████████████████████████████████████████████████| 100%\n"
          ],
          "name": "stdout"
        }
      ]
    },
    {
      "cell_type": "code",
      "metadata": {
        "id": "uXwph48wdyCt",
        "colab_type": "code",
        "colab": {}
      },
      "source": [
        "train = reviews[reviews[\"Train\"] == \"True\"]\n",
        "test = reviews[reviews[\"Train\"] == \"False\"]"
      ],
      "execution_count": 0,
      "outputs": []
    },
    {
      "cell_type": "code",
      "metadata": {
        "id": "P3WnviL1eIJw",
        "colab_type": "code",
        "outputId": "dc85ae0d-8241-4f37-c471-907bde4476ae",
        "colab": {
          "base_uri": "https://localhost:8080/",
          "height": 162
        }
      },
      "source": [
        "train.head(2)"
      ],
      "execution_count": 12,
      "outputs": [
        {
          "output_type": "display_data",
          "data": {
            "text/html": [
              "<table>\n",
              "<thead>\n",
              "<tr><th style=\"text-align: right;\">  label</th><th>text  </th><th>Train  </th></tr>\n",
              "</thead>\n",
              "<tbody>\n",
              "<tr><td style=\"text-align: right;\">     17</td><td>Well i'm not sure about the story nad it did seem biased. What\n",
              "I disagree with is your statement that the U.S. Media is out to\n",
              "ruin Israels reputation. That is rediculous. The U.S. media is\n",
              "the most pro-israeli media in the world. Having lived in Europe\n",
              "I realize that incidences such as the one described in the\n",
              "letter have occured. The U.S. media as a whole seem to try to\n",
              "ignore them. The U.S. is subsidizing Israels existance and the\n",
              "Europeans are not (at least not to the same degree). So I think\n",
              "that might be a reason they report more clearly on the\n",
              "atrocities.\n",
              "\tWhat is a shame is that in Austria, daily reports of\n",
              "the inhuman acts commited by Israeli soldiers and the blessing\n",
              "received from the Government makes some of the Holocaust guilt\n",
              "go away. After all, look how the Jews are treating other races\n",
              "when they got power. It is unfortunate.       </td><td>True   </td></tr>\n",
              "<tr><td style=\"text-align: right;\">      0</td><td>Yeah, do you expect people to read the FAQ, etc. and actually accept hard\n",
              "atheism?  No, you need a little leap of faith, Jimmy.  Your logic runs out\n",
              "of steam!\n",
              "\n",
              "\n",
              "\n",
              "\n",
              "\n",
              "\n",
              "\n",
              "Jim,\n",
              "\n",
              "Sorry I can't pity you, Jim.  And I'm sorry that you have these feelings of\n",
              "denial about the faith you need to get by.  Oh well, just pretend that it will\n",
              "all end happily ever after anyway.  Maybe if you start a new newsgroup,\n",
              "alt.atheist.hard, you won't be bummin' so much?\n",
              "\n",
              "\n",
              "\n",
              "\n",
              "\n",
              "\n",
              "Bye-Bye, Big Jim.  Don't forget your Flintstone's Chewables!  :) \n",
              "--\n",
              "Bake Timmons, III       </td><td>True   </td></tr>\n",
              "</tbody>\n",
              "</table>"
            ]
          },
          "metadata": {
            "tags": []
          }
        },
        {
          "output_type": "execute_result",
          "data": {
            "text/plain": [
              ""
            ]
          },
          "metadata": {
            "tags": []
          },
          "execution_count": 12
        }
      ]
    },
    {
      "cell_type": "code",
      "metadata": {
        "id": "SjHHA5Gke6Px",
        "colab_type": "code",
        "colab": {}
      },
      "source": [
        "# Set Stop Words\n",
        "# The STOP WORDS we are importing are from the nltk package\n",
        "import pandas as pd\n",
        "import os\n",
        "\n",
        "# Use local data file or download from GitHub\n",
        "docker_data_path = \"/home/h2o/data/nlp/stopwords.csv\"\n",
        "if os.path.isfile(docker_data_path):\n",
        "  data_path = docker_data_path\n",
        "else:\n",
        "  data_path = \"https://raw.githubusercontent.com/h2oai/h2o-tutorials/master/h2o-world-2017/nlp/stopwords.csv\"\n",
        "\n",
        "STOP_WORDS = pd.read_csv(data_path, header=0)\n",
        "STOP_WORDS = list(STOP_WORDS['STOP_WORD'])"
      ],
      "execution_count": 0,
      "outputs": []
    },
    {
      "cell_type": "code",
      "metadata": {
        "id": "mXpsXLbrfGyN",
        "colab_type": "code",
        "colab": {}
      },
      "source": [
        "# TODO: review how effective this is in removing junk \\r \\n etc\n",
        "def tokenize(sentences, stop_word = STOP_WORDS):\n",
        "    tokenized = sentences.tokenize(\"\\\\W+\")\n",
        "    tokenized_lower = tokenized.tolower()\n",
        "    tokenized_filtered = tokenized_lower[(tokenized_lower.nchar() >= 2) | (tokenized_lower.isna()),:]\n",
        "    tokenized_words = tokenized_filtered[tokenized_filtered.grep(\"[0-9]\",invert=True,output_logical=True),:]\n",
        "    tokenized_words = tokenized_words[(tokenized_words.isna()) | (~ tokenized_words.isin(STOP_WORDS)),:]\n",
        "    return tokenized_words"
      ],
      "execution_count": 0,
      "outputs": []
    },
    {
      "cell_type": "code",
      "metadata": {
        "id": "6is87Ly4fKSZ",
        "colab_type": "code",
        "outputId": "f87d6590-1a8f-4ede-906c-8963fbbab9da",
        "colab": {
          "base_uri": "https://localhost:8080/",
          "height": 50
        }
      },
      "source": [
        "%%time\n",
        "# Break reviews into sequence of words\n",
        "words = tokenize(reviews[\"text\"]) # not sure if there is some sort of leakage here..."
      ],
      "execution_count": 15,
      "outputs": [
        {
          "output_type": "stream",
          "text": [
            "CPU times: user 3.6 s, sys: 58.3 ms, total: 3.66 s\n",
            "Wall time: 19.3 s\n"
          ],
          "name": "stdout"
        }
      ]
    },
    {
      "cell_type": "code",
      "metadata": {
        "id": "AN_ZlE70fp1y",
        "colab_type": "code",
        "outputId": "16cc6cd9-64c2-4ebc-bc57-b43ce5316809",
        "colab": {
          "base_uri": "https://localhost:8080/",
          "height": 238
        }
      },
      "source": [
        "words.head()"
      ],
      "execution_count": 16,
      "outputs": [
        {
          "output_type": "display_data",
          "data": {
            "text/html": [
              "<table>\n",
              "<thead>\n",
              "<tr><th>C1       </th></tr>\n",
              "</thead>\n",
              "<tbody>\n",
              "<tr><td>well     </td></tr>\n",
              "<tr><td>sure     </td></tr>\n",
              "<tr><td>story    </td></tr>\n",
              "<tr><td>nad      </td></tr>\n",
              "<tr><td>seem     </td></tr>\n",
              "<tr><td>biased   </td></tr>\n",
              "<tr><td>disagree </td></tr>\n",
              "<tr><td>statement</td></tr>\n",
              "<tr><td>media    </td></tr>\n",
              "<tr><td>ruin     </td></tr>\n",
              "</tbody>\n",
              "</table>"
            ]
          },
          "metadata": {
            "tags": []
          }
        },
        {
          "output_type": "execute_result",
          "data": {
            "text/plain": [
              ""
            ]
          },
          "metadata": {
            "tags": []
          },
          "execution_count": 16
        }
      ]
    },
    {
      "cell_type": "code",
      "metadata": {
        "id": "t5pnBHOAfzua",
        "colab_type": "code",
        "outputId": "c14a979b-32d2-4360-e986-ca77177cbf74",
        "colab": {
          "base_uri": "https://localhost:8080/",
          "height": 34
        }
      },
      "source": [
        "# Train Word2Vec Model\n",
        "from h2o.estimators.word2vec import H2OWord2vecEstimator\n",
        "\n",
        "# This takes time to run - left commented out\n",
        "w2v_model = H2OWord2vecEstimator(vec_size = 100, model_id = \"w2v.hex\")\n",
        "w2v_model.train(training_frame=words) # train on the words thing we just got"
      ],
      "execution_count": 17,
      "outputs": [
        {
          "output_type": "stream",
          "text": [
            "word2vec Model Build progress: |██████████████████████████████████████████| 100%\n"
          ],
          "name": "stdout"
        }
      ]
    },
    {
      "cell_type": "code",
      "metadata": {
        "id": "wTE3aw2fgHWl",
        "colab_type": "code",
        "outputId": "3f45ccd9-ff96-42be-dd3f-2569cd300901",
        "colab": {
          "base_uri": "https://localhost:8080/",
          "height": 101
        }
      },
      "source": [
        "# Sanity check - find synonyms for the word 'president'\n",
        "w2v_model.find_synonyms(\"president\", count = 5) # not bad actually :)"
      ],
      "execution_count": 18,
      "outputs": [
        {
          "output_type": "execute_result",
          "data": {
            "text/plain": [
              "OrderedDict([('yeltsin', 0.8303556442260742),\n",
              "             ('mubarak', 0.8219935297966003),\n",
              "             ('stephanopoulos', 0.7914628982543945),\n",
              "             ('miyazawa', 0.7749645709991455),\n",
              "             ('briefing', 0.7329180240631104)])"
            ]
          },
          "metadata": {
            "tags": []
          },
          "execution_count": 18
        }
      ]
    },
    {
      "cell_type": "code",
      "metadata": {
        "id": "PrRlKjA8hBl6",
        "colab_type": "code",
        "colab": {}
      },
      "source": [
        "# Calculate a vector for each review\n",
        "review_vecs = w2v_model.transform(words, aggregate_method = \"AVERAGE\")"
      ],
      "execution_count": 0,
      "outputs": []
    },
    {
      "cell_type": "code",
      "metadata": {
        "id": "jKXOFtkGhLv4",
        "colab_type": "code",
        "outputId": "6148bf7e-7a64-4085-eec8-fcdcfa9e6ed5",
        "colab": {
          "base_uri": "https://localhost:8080/",
          "height": 258
        }
      },
      "source": [
        "review_vecs"
      ],
      "execution_count": 20,
      "outputs": [
        {
          "output_type": "display_data",
          "data": {
            "text/html": [
              "<table>\n",
              "<thead>\n",
              "<tr><th style=\"text-align: right;\">      C1</th><th style=\"text-align: right;\">       C2</th><th style=\"text-align: right;\">         C3</th><th style=\"text-align: right;\">        C4</th><th style=\"text-align: right;\">        C5</th><th style=\"text-align: right;\">         C6</th><th style=\"text-align: right;\">       C7</th><th style=\"text-align: right;\">         C8</th><th style=\"text-align: right;\">       C9</th><th style=\"text-align: right;\">         C10</th><th style=\"text-align: right;\">        C11</th><th style=\"text-align: right;\">        C12</th><th style=\"text-align: right;\">       C13</th><th style=\"text-align: right;\">         C14</th><th style=\"text-align: right;\">      C15</th><th style=\"text-align: right;\">       C16</th><th style=\"text-align: right;\">       C17</th><th style=\"text-align: right;\">       C18</th><th style=\"text-align: right;\">        C19</th><th style=\"text-align: right;\">        C20</th><th style=\"text-align: right;\">         C21</th><th style=\"text-align: right;\">        C22</th><th style=\"text-align: right;\">        C23</th><th style=\"text-align: right;\">        C24</th><th style=\"text-align: right;\">       C25</th><th style=\"text-align: right;\">       C26</th><th style=\"text-align: right;\">       C27</th><th style=\"text-align: right;\">       C28</th><th style=\"text-align: right;\">       C29</th><th style=\"text-align: right;\">       C30</th><th style=\"text-align: right;\">       C31</th><th style=\"text-align: right;\">      C32</th><th style=\"text-align: right;\">        C33</th><th style=\"text-align: right;\">       C34</th><th style=\"text-align: right;\">       C35</th><th style=\"text-align: right;\">       C36</th><th style=\"text-align: right;\">      C37</th><th style=\"text-align: right;\">        C38</th><th style=\"text-align: right;\">       C39</th><th style=\"text-align: right;\">       C40</th><th style=\"text-align: right;\">         C41</th><th style=\"text-align: right;\">        C42</th><th style=\"text-align: right;\">       C43</th><th style=\"text-align: right;\">       C44</th><th style=\"text-align: right;\">        C45</th><th style=\"text-align: right;\">        C46</th><th style=\"text-align: right;\">        C47</th><th style=\"text-align: right;\">       C48</th><th style=\"text-align: right;\">        C49</th><th style=\"text-align: right;\">       C50</th><th style=\"text-align: right;\">      C51</th><th style=\"text-align: right;\">        C52</th><th style=\"text-align: right;\">        C53</th><th style=\"text-align: right;\">        C54</th><th style=\"text-align: right;\">       C55</th><th style=\"text-align: right;\">       C56</th><th style=\"text-align: right;\">        C57</th><th style=\"text-align: right;\">        C58</th><th style=\"text-align: right;\">       C59</th><th style=\"text-align: right;\">      C60</th><th style=\"text-align: right;\">       C61</th><th style=\"text-align: right;\">       C62</th><th style=\"text-align: right;\">       C63</th><th style=\"text-align: right;\">       C64</th><th style=\"text-align: right;\">        C65</th><th style=\"text-align: right;\">     C66</th><th style=\"text-align: right;\">        C67</th><th style=\"text-align: right;\">       C68</th><th style=\"text-align: right;\">        C69</th><th style=\"text-align: right;\">       C70</th><th style=\"text-align: right;\">        C71</th><th style=\"text-align: right;\">       C72</th><th style=\"text-align: right;\">      C73</th><th style=\"text-align: right;\">       C74</th><th style=\"text-align: right;\">       C75</th><th style=\"text-align: right;\">       C76</th><th style=\"text-align: right;\">       C77</th><th style=\"text-align: right;\">      C78</th><th style=\"text-align: right;\">       C79</th><th style=\"text-align: right;\">       C80</th><th style=\"text-align: right;\">         C81</th><th style=\"text-align: right;\">       C82</th><th style=\"text-align: right;\">        C83</th><th style=\"text-align: right;\">        C84</th><th style=\"text-align: right;\">        C85</th><th style=\"text-align: right;\">     C86</th><th style=\"text-align: right;\">      C87</th><th style=\"text-align: right;\">        C88</th><th style=\"text-align: right;\">        C89</th><th style=\"text-align: right;\">        C90</th><th style=\"text-align: right;\">        C91</th><th style=\"text-align: right;\">        C92</th><th style=\"text-align: right;\">       C93</th><th style=\"text-align: right;\">      C94</th><th style=\"text-align: right;\">       C95</th><th style=\"text-align: right;\">      C96</th><th style=\"text-align: right;\">      C97</th><th style=\"text-align: right;\">        C98</th><th style=\"text-align: right;\">        C99</th><th style=\"text-align: right;\">     C100</th></tr>\n",
              "</thead>\n",
              "<tbody>\n",
              "<tr><td style=\"text-align: right;\">0.133946</td><td style=\"text-align: right;\">0.157323 </td><td style=\"text-align: right;\">-0.0249578 </td><td style=\"text-align: right;\">-0.182409 </td><td style=\"text-align: right;\"> 0.0959795</td><td style=\"text-align: right;\"> 0.156111  </td><td style=\"text-align: right;\">0.021005 </td><td style=\"text-align: right;\"> 0.0276131 </td><td style=\"text-align: right;\">0.105582 </td><td style=\"text-align: right;\">-0.113926   </td><td style=\"text-align: right;\">-0.0112111 </td><td style=\"text-align: right;\">-0.0542047 </td><td style=\"text-align: right;\"> 0.0816997</td><td style=\"text-align: right;\">-0.0310789  </td><td style=\"text-align: right;\">-0.278647</td><td style=\"text-align: right;\">-0.106389 </td><td style=\"text-align: right;\">-0.0567617</td><td style=\"text-align: right;\">-0.0491182</td><td style=\"text-align: right;\"> 0.0120456 </td><td style=\"text-align: right;\">-0.0213543 </td><td style=\"text-align: right;\">-0.000997308</td><td style=\"text-align: right;\"> 0.0543348 </td><td style=\"text-align: right;\">-0.0479194 </td><td style=\"text-align: right;\">-0.0600538 </td><td style=\"text-align: right;\">-0.0759979</td><td style=\"text-align: right;\"> 0.0706979</td><td style=\"text-align: right;\"> 0.0100861</td><td style=\"text-align: right;\">-0.0608743</td><td style=\"text-align: right;\"> 0.0256549</td><td style=\"text-align: right;\">-0.0470876</td><td style=\"text-align: right;\">-0.154995 </td><td style=\"text-align: right;\">0.213828 </td><td style=\"text-align: right;\">-0.0322199 </td><td style=\"text-align: right;\">-0.183268 </td><td style=\"text-align: right;\">-0.0596899</td><td style=\"text-align: right;\"> 0.187403 </td><td style=\"text-align: right;\">0.0573363</td><td style=\"text-align: right;\"> 0.00985568</td><td style=\"text-align: right;\">-0.137973 </td><td style=\"text-align: right;\">-0.219322 </td><td style=\"text-align: right;\">-0.0808192  </td><td style=\"text-align: right;\"> 0.0549824 </td><td style=\"text-align: right;\"> 0.0716381</td><td style=\"text-align: right;\">-0.156614 </td><td style=\"text-align: right;\"> 0.00556052</td><td style=\"text-align: right;\"> 0.0605803 </td><td style=\"text-align: right;\"> 0.0298139 </td><td style=\"text-align: right;\">-0.0842324</td><td style=\"text-align: right;\">-0.0205442 </td><td style=\"text-align: right;\">-0.154897 </td><td style=\"text-align: right;\">0.0585786</td><td style=\"text-align: right;\">-0.038809  </td><td style=\"text-align: right;\"> 0.0250581 </td><td style=\"text-align: right;\"> 0.0668402 </td><td style=\"text-align: right;\">-0.0241437</td><td style=\"text-align: right;\"> 0.187213 </td><td style=\"text-align: right;\"> 0.0551689 </td><td style=\"text-align: right;\"> 0.0444126 </td><td style=\"text-align: right;\">-0.102073 </td><td style=\"text-align: right;\">0.125266 </td><td style=\"text-align: right;\">-0.138356 </td><td style=\"text-align: right;\">-0.044337 </td><td style=\"text-align: right;\"> 0.129926 </td><td style=\"text-align: right;\">-0.0525584</td><td style=\"text-align: right;\"> 0.00544784</td><td style=\"text-align: right;\">0.20003 </td><td style=\"text-align: right;\">-0.0718302 </td><td style=\"text-align: right;\">-0.090649 </td><td style=\"text-align: right;\">-0.0370178 </td><td style=\"text-align: right;\"> 0.0101713</td><td style=\"text-align: right;\"> 0.0482812 </td><td style=\"text-align: right;\">-0.0573931</td><td style=\"text-align: right;\">0.136591 </td><td style=\"text-align: right;\">-0.0338863</td><td style=\"text-align: right;\">-0.057611 </td><td style=\"text-align: right;\">-0.123168 </td><td style=\"text-align: right;\"> 0.15538  </td><td style=\"text-align: right;\">0.143941 </td><td style=\"text-align: right;\">-0.0151191</td><td style=\"text-align: right;\">-0.0820133</td><td style=\"text-align: right;\"> 0.0513678  </td><td style=\"text-align: right;\"> 0.0598795</td><td style=\"text-align: right;\"> 0.0521264 </td><td style=\"text-align: right;\"> 0.0734729 </td><td style=\"text-align: right;\"> 0.0355231 </td><td style=\"text-align: right;\">0.124026</td><td style=\"text-align: right;\">0.0131578</td><td style=\"text-align: right;\">-0.0250693 </td><td style=\"text-align: right;\">-0.03276   </td><td style=\"text-align: right;\"> 0.0370808 </td><td style=\"text-align: right;\"> 0.044777  </td><td style=\"text-align: right;\">-0.114106  </td><td style=\"text-align: right;\">-0.0806621</td><td style=\"text-align: right;\">0.0273033</td><td style=\"text-align: right;\"> 0.0608677</td><td style=\"text-align: right;\">0.186664 </td><td style=\"text-align: right;\">0.17342  </td><td style=\"text-align: right;\"> 0.0408443 </td><td style=\"text-align: right;\"> 0.0889113 </td><td style=\"text-align: right;\">0.16076  </td></tr>\n",
              "<tr><td style=\"text-align: right;\">0.218499</td><td style=\"text-align: right;\">0.0899447</td><td style=\"text-align: right;\">-0.0735187 </td><td style=\"text-align: right;\">-0.0952984</td><td style=\"text-align: right;\"> 0.0142813</td><td style=\"text-align: right;\"> 0.020982  </td><td style=\"text-align: right;\">0.0477001</td><td style=\"text-align: right;\">-0.0553651 </td><td style=\"text-align: right;\">0.0743127</td><td style=\"text-align: right;\"> 0.000960571</td><td style=\"text-align: right;\"> 0.0559127 </td><td style=\"text-align: right;\">-0.0472865 </td><td style=\"text-align: right;\"> 0.0704115</td><td style=\"text-align: right;\"> 0.000103468</td><td style=\"text-align: right;\">-0.226459</td><td style=\"text-align: right;\">-0.110831 </td><td style=\"text-align: right;\">-0.0386106</td><td style=\"text-align: right;\">-0.05838  </td><td style=\"text-align: right;\">-0.0670829 </td><td style=\"text-align: right;\">-0.0186162 </td><td style=\"text-align: right;\">-0.0159057  </td><td style=\"text-align: right;\"> 0.0953788 </td><td style=\"text-align: right;\">-0.0469174 </td><td style=\"text-align: right;\">-0.016423  </td><td style=\"text-align: right;\">-0.0531325</td><td style=\"text-align: right;\"> 0.0892219</td><td style=\"text-align: right;\"> 0.0539667</td><td style=\"text-align: right;\">-0.107982 </td><td style=\"text-align: right;\"> 0.155148 </td><td style=\"text-align: right;\"> 0.0280835</td><td style=\"text-align: right;\">-0.0279609</td><td style=\"text-align: right;\">0.0345187</td><td style=\"text-align: right;\">-0.0310675 </td><td style=\"text-align: right;\">-0.04546  </td><td style=\"text-align: right;\">-0.0224368</td><td style=\"text-align: right;\"> 0.124488 </td><td style=\"text-align: right;\">0.14517  </td><td style=\"text-align: right;\">-0.0633337 </td><td style=\"text-align: right;\">-0.197232 </td><td style=\"text-align: right;\">-0.0315936</td><td style=\"text-align: right;\">-0.000123122</td><td style=\"text-align: right;\">-0.0136036 </td><td style=\"text-align: right;\"> 0.0370295</td><td style=\"text-align: right;\">-0.116221 </td><td style=\"text-align: right;\"> 0.0905541 </td><td style=\"text-align: right;\"> 0.0119156 </td><td style=\"text-align: right;\"> 0.0167236 </td><td style=\"text-align: right;\">-0.172159 </td><td style=\"text-align: right;\">-0.022037  </td><td style=\"text-align: right;\">-0.122361 </td><td style=\"text-align: right;\">0.0370234</td><td style=\"text-align: right;\">-0.0394331 </td><td style=\"text-align: right;\">-0.0245718 </td><td style=\"text-align: right;\">-0.0500245 </td><td style=\"text-align: right;\"> 0.0215894</td><td style=\"text-align: right;\"> 0.104113 </td><td style=\"text-align: right;\">-0.0310412 </td><td style=\"text-align: right;\">-0.0243576 </td><td style=\"text-align: right;\">-0.246465 </td><td style=\"text-align: right;\">0.0182768</td><td style=\"text-align: right;\">-0.166982 </td><td style=\"text-align: right;\">-0.0395235</td><td style=\"text-align: right;\">-0.0781111</td><td style=\"text-align: right;\">-0.0911497</td><td style=\"text-align: right;\">-0.00198084</td><td style=\"text-align: right;\">0.28996 </td><td style=\"text-align: right;\">-0.0343353 </td><td style=\"text-align: right;\">-0.0938801</td><td style=\"text-align: right;\">-0.0197342 </td><td style=\"text-align: right;\"> 0.0704103</td><td style=\"text-align: right;\">-0.00169383</td><td style=\"text-align: right;\"> 0.0126904</td><td style=\"text-align: right;\">0.117714 </td><td style=\"text-align: right;\">-0.0367284</td><td style=\"text-align: right;\">-0.11733  </td><td style=\"text-align: right;\">-0.0768908</td><td style=\"text-align: right;\"> 0.0642986</td><td style=\"text-align: right;\">0.0697737</td><td style=\"text-align: right;\">-0.0297251</td><td style=\"text-align: right;\">-0.0685437</td><td style=\"text-align: right;\"> 0.0475003  </td><td style=\"text-align: right;\"> 0.0193253</td><td style=\"text-align: right;\"> 0.102115  </td><td style=\"text-align: right;\">-0.00498718</td><td style=\"text-align: right;\">-0.0180369 </td><td style=\"text-align: right;\">0.158683</td><td style=\"text-align: right;\">0.13858  </td><td style=\"text-align: right;\"> 0.0601666 </td><td style=\"text-align: right;\">-0.036972  </td><td style=\"text-align: right;\">-0.0396414 </td><td style=\"text-align: right;\">-0.160107  </td><td style=\"text-align: right;\">-0.0245319 </td><td style=\"text-align: right;\">-0.0476622</td><td style=\"text-align: right;\">0.0866378</td><td style=\"text-align: right;\"> 0.0568917</td><td style=\"text-align: right;\">0.246424 </td><td style=\"text-align: right;\">0.224963 </td><td style=\"text-align: right;\"> 0.0569448 </td><td style=\"text-align: right;\"> 0.0877509 </td><td style=\"text-align: right;\">0.0943768</td></tr>\n",
              "<tr><td style=\"text-align: right;\">0.179759</td><td style=\"text-align: right;\">0.187554 </td><td style=\"text-align: right;\"> 0.00970632</td><td style=\"text-align: right;\">-0.190007 </td><td style=\"text-align: right;\"> 0.0772827</td><td style=\"text-align: right;\"> 0.110808  </td><td style=\"text-align: right;\">0.0102224</td><td style=\"text-align: right;\"> 0.00131369</td><td style=\"text-align: right;\">0.0720183</td><td style=\"text-align: right;\">-0.0996448  </td><td style=\"text-align: right;\">-0.0390486 </td><td style=\"text-align: right;\">-0.0452679 </td><td style=\"text-align: right;\"> 0.0536141</td><td style=\"text-align: right;\"> 0.0173678  </td><td style=\"text-align: right;\">-0.21197 </td><td style=\"text-align: right;\">-0.151909 </td><td style=\"text-align: right;\">-0.0259862</td><td style=\"text-align: right;\">-0.0541615</td><td style=\"text-align: right;\"> 0.00566619</td><td style=\"text-align: right;\">-0.0480715 </td><td style=\"text-align: right;\"> 0.0252596  </td><td style=\"text-align: right;\"> 0.0156971 </td><td style=\"text-align: right;\"> 0.0379359 </td><td style=\"text-align: right;\">-0.00868671</td><td style=\"text-align: right;\">-0.0377183</td><td style=\"text-align: right;\"> 0.089569 </td><td style=\"text-align: right;\">-0.0127786</td><td style=\"text-align: right;\">-0.0351713</td><td style=\"text-align: right;\"> 0.0528945</td><td style=\"text-align: right;\">-0.0497415</td><td style=\"text-align: right;\">-0.119408 </td><td style=\"text-align: right;\">0.148709 </td><td style=\"text-align: right;\">-0.00379205</td><td style=\"text-align: right;\">-0.12861  </td><td style=\"text-align: right;\">-0.0487258</td><td style=\"text-align: right;\"> 0.171725 </td><td style=\"text-align: right;\">0.113342 </td><td style=\"text-align: right;\">-0.00726895</td><td style=\"text-align: right;\">-0.141939 </td><td style=\"text-align: right;\">-0.224271 </td><td style=\"text-align: right;\">-0.0591935  </td><td style=\"text-align: right;\"> 0.180895  </td><td style=\"text-align: right;\">-0.0363565</td><td style=\"text-align: right;\">-0.141095 </td><td style=\"text-align: right;\"> 0.0161304 </td><td style=\"text-align: right;\"> 0.0937432 </td><td style=\"text-align: right;\"> 0.0556235 </td><td style=\"text-align: right;\">-0.115029 </td><td style=\"text-align: right;\">-0.0615909 </td><td style=\"text-align: right;\">-0.153856 </td><td style=\"text-align: right;\">0.0847529</td><td style=\"text-align: right;\">-0.044601  </td><td style=\"text-align: right;\"> 0.0745332 </td><td style=\"text-align: right;\"> 0.117221  </td><td style=\"text-align: right;\">-0.020912 </td><td style=\"text-align: right;\"> 0.14334  </td><td style=\"text-align: right;\">-0.0113995 </td><td style=\"text-align: right;\"> 0.0183666 </td><td style=\"text-align: right;\">-0.166496 </td><td style=\"text-align: right;\">0.116435 </td><td style=\"text-align: right;\">-0.146971 </td><td style=\"text-align: right;\"> 0.0448003</td><td style=\"text-align: right;\"> 0.100269 </td><td style=\"text-align: right;\">-0.0878179</td><td style=\"text-align: right;\">-0.00368638</td><td style=\"text-align: right;\">0.206793</td><td style=\"text-align: right;\">-0.0808142 </td><td style=\"text-align: right;\">-0.112168 </td><td style=\"text-align: right;\">-0.00267418</td><td style=\"text-align: right;\"> 0.0354657</td><td style=\"text-align: right;\"> 0.0483186 </td><td style=\"text-align: right;\">-0.0104061</td><td style=\"text-align: right;\">0.0816039</td><td style=\"text-align: right;\"> 0.0268207</td><td style=\"text-align: right;\">-0.0487451</td><td style=\"text-align: right;\">-0.110701 </td><td style=\"text-align: right;\"> 0.0691297</td><td style=\"text-align: right;\">0.131534 </td><td style=\"text-align: right;\"> 0.0243836</td><td style=\"text-align: right;\">-0.0853761</td><td style=\"text-align: right;\"> 0.021688   </td><td style=\"text-align: right;\"> 0.0687536</td><td style=\"text-align: right;\">-0.0139939 </td><td style=\"text-align: right;\"> 0.037345  </td><td style=\"text-align: right;\">-0.00353219</td><td style=\"text-align: right;\">0.145932</td><td style=\"text-align: right;\">0.0181816</td><td style=\"text-align: right;\"> 0.0579587 </td><td style=\"text-align: right;\">-0.0875608 </td><td style=\"text-align: right;\">-0.0489963 </td><td style=\"text-align: right;\"> 0.0206857 </td><td style=\"text-align: right;\">-0.108844  </td><td style=\"text-align: right;\">-0.076198 </td><td style=\"text-align: right;\">0.108642 </td><td style=\"text-align: right;\"> 0.0766888</td><td style=\"text-align: right;\">0.213767 </td><td style=\"text-align: right;\">0.19163  </td><td style=\"text-align: right;\"> 0.0264709 </td><td style=\"text-align: right;\"> 0.118265  </td><td style=\"text-align: right;\">0.193578 </td></tr>\n",
              "<tr><td style=\"text-align: right;\">0.251815</td><td style=\"text-align: right;\">0.170776 </td><td style=\"text-align: right;\">-0.0325758 </td><td style=\"text-align: right;\">-0.126982 </td><td style=\"text-align: right;\">-0.019516 </td><td style=\"text-align: right;\"> 0.0608466 </td><td style=\"text-align: right;\">0.0539654</td><td style=\"text-align: right;\"> 0.0913558 </td><td style=\"text-align: right;\">0.102451 </td><td style=\"text-align: right;\">-0.00425833 </td><td style=\"text-align: right;\"> 0.0528539 </td><td style=\"text-align: right;\">-0.00577321</td><td style=\"text-align: right;\"> 0.0366463</td><td style=\"text-align: right;\">-0.00162944 </td><td style=\"text-align: right;\">-0.169667</td><td style=\"text-align: right;\">-0.195597 </td><td style=\"text-align: right;\">-0.0535023</td><td style=\"text-align: right;\">-0.0651195</td><td style=\"text-align: right;\">-0.065354  </td><td style=\"text-align: right;\"> 0.0449501 </td><td style=\"text-align: right;\"> 0.0541024  </td><td style=\"text-align: right;\"> 0.0813348 </td><td style=\"text-align: right;\">-0.00131745</td><td style=\"text-align: right;\"> 0.125368  </td><td style=\"text-align: right;\">-0.0166005</td><td style=\"text-align: right;\"> 0.0979159</td><td style=\"text-align: right;\">-0.0251909</td><td style=\"text-align: right;\">-0.0995574</td><td style=\"text-align: right;\"> 0.0702081</td><td style=\"text-align: right;\">-0.0447503</td><td style=\"text-align: right;\">-0.112218 </td><td style=\"text-align: right;\">0.081527 </td><td style=\"text-align: right;\"> 0.117081  </td><td style=\"text-align: right;\">-0.0242586</td><td style=\"text-align: right;\">-0.0653195</td><td style=\"text-align: right;\"> 0.110109 </td><td style=\"text-align: right;\">0.0993826</td><td style=\"text-align: right;\"> 0.00093166</td><td style=\"text-align: right;\">-0.133637 </td><td style=\"text-align: right;\">-0.16369  </td><td style=\"text-align: right;\">-0.0222842  </td><td style=\"text-align: right;\">-0.00061366</td><td style=\"text-align: right;\">-0.136848 </td><td style=\"text-align: right;\">-0.117513 </td><td style=\"text-align: right;\"> 0.118512  </td><td style=\"text-align: right;\">-0.0216018 </td><td style=\"text-align: right;\"> 0.0658273 </td><td style=\"text-align: right;\">-0.13155  </td><td style=\"text-align: right;\">-0.00272537</td><td style=\"text-align: right;\">-0.116839 </td><td style=\"text-align: right;\">0.0694264</td><td style=\"text-align: right;\">-0.00427334</td><td style=\"text-align: right;\"> 0.0780613 </td><td style=\"text-align: right;\"> 0.0841225 </td><td style=\"text-align: right;\"> 0.133992 </td><td style=\"text-align: right;\"> 0.0563568</td><td style=\"text-align: right;\">-0.0994101 </td><td style=\"text-align: right;\"> 0.0110098 </td><td style=\"text-align: right;\">-0.112341 </td><td style=\"text-align: right;\">0.0260073</td><td style=\"text-align: right;\">-0.165188 </td><td style=\"text-align: right;\">-0.0274502</td><td style=\"text-align: right;\">-0.0386208</td><td style=\"text-align: right;\">-0.112359 </td><td style=\"text-align: right;\"> 0.0167018 </td><td style=\"text-align: right;\">0.148341</td><td style=\"text-align: right;\"> 0.0480961 </td><td style=\"text-align: right;\">-0.0974861</td><td style=\"text-align: right;\">-0.0357275 </td><td style=\"text-align: right;\"> 0.0601206</td><td style=\"text-align: right;\"> 0.125665  </td><td style=\"text-align: right;\">-0.0198735</td><td style=\"text-align: right;\">0.0639362</td><td style=\"text-align: right;\"> 0.0589492</td><td style=\"text-align: right;\">-0.055689 </td><td style=\"text-align: right;\">-0.101432 </td><td style=\"text-align: right;\">-0.0258694</td><td style=\"text-align: right;\">0.047441 </td><td style=\"text-align: right;\"> 0.100369 </td><td style=\"text-align: right;\"> 0.0379427</td><td style=\"text-align: right;\">-0.0131623  </td><td style=\"text-align: right;\"> 0.0763983</td><td style=\"text-align: right;\"> 0.0562521 </td><td style=\"text-align: right;\">-0.0244868 </td><td style=\"text-align: right;\">-0.0287012 </td><td style=\"text-align: right;\">0.225647</td><td style=\"text-align: right;\">0.080728 </td><td style=\"text-align: right;\"> 0.0153592 </td><td style=\"text-align: right;\"> 0.00178562</td><td style=\"text-align: right;\"> 0.00666318</td><td style=\"text-align: right;\">-0.0715231 </td><td style=\"text-align: right;\">-0.10953   </td><td style=\"text-align: right;\">-0.0227874</td><td style=\"text-align: right;\">0.107534 </td><td style=\"text-align: right;\"> 0.0435532</td><td style=\"text-align: right;\">0.0510822</td><td style=\"text-align: right;\">0.0932003</td><td style=\"text-align: right;\"> 0.00828943</td><td style=\"text-align: right;\"> 0.0359661 </td><td style=\"text-align: right;\">0.166194 </td></tr>\n",
              "<tr><td style=\"text-align: right;\">0.19798 </td><td style=\"text-align: right;\">0.0591296</td><td style=\"text-align: right;\">-0.0428931 </td><td style=\"text-align: right;\"> 0.0974428</td><td style=\"text-align: right;\"> 0.168955 </td><td style=\"text-align: right;\">-0.00324214</td><td style=\"text-align: right;\">0.166276 </td><td style=\"text-align: right;\">-0.106361  </td><td style=\"text-align: right;\">0.132269 </td><td style=\"text-align: right;\">-0.110324   </td><td style=\"text-align: right;\"> 0.161902  </td><td style=\"text-align: right;\">-0.0837981 </td><td style=\"text-align: right;\">-0.0208568</td><td style=\"text-align: right;\">-0.232886   </td><td style=\"text-align: right;\">-0.142933</td><td style=\"text-align: right;\">-0.124224 </td><td style=\"text-align: right;\">-0.0219308</td><td style=\"text-align: right;\">-0.150904 </td><td style=\"text-align: right;\">-0.00514572</td><td style=\"text-align: right;\">-0.00193947</td><td style=\"text-align: right;\"> 0.0941951  </td><td style=\"text-align: right;\"> 0.00999258</td><td style=\"text-align: right;\">-0.250988  </td><td style=\"text-align: right;\">-0.0308321 </td><td style=\"text-align: right;\">-0.191915 </td><td style=\"text-align: right;\">-0.0767872</td><td style=\"text-align: right;\"> 0.133671 </td><td style=\"text-align: right;\">-0.135159 </td><td style=\"text-align: right;\"> 0.0547772</td><td style=\"text-align: right;\"> 0.0855698</td><td style=\"text-align: right;\"> 0.0873522</td><td style=\"text-align: right;\">0.120025 </td><td style=\"text-align: right;\"> 0.084164  </td><td style=\"text-align: right;\">-0.111014 </td><td style=\"text-align: right;\"> 0.199655 </td><td style=\"text-align: right;\"> 0.0715248</td><td style=\"text-align: right;\">0.243983 </td><td style=\"text-align: right;\">-0.0202667 </td><td style=\"text-align: right;\">-0.0698119</td><td style=\"text-align: right;\">-0.0769819</td><td style=\"text-align: right;\">-0.321264   </td><td style=\"text-align: right;\"> 0.130627  </td><td style=\"text-align: right;\">-0.203932 </td><td style=\"text-align: right;\">-0.144221 </td><td style=\"text-align: right;\">-0.0262406 </td><td style=\"text-align: right;\"> 0.0784275 </td><td style=\"text-align: right;\">-0.0823045 </td><td style=\"text-align: right;\">-0.035808 </td><td style=\"text-align: right;\">-0.130935  </td><td style=\"text-align: right;\">-0.214099 </td><td style=\"text-align: right;\">0.23131  </td><td style=\"text-align: right;\"> 0.0239072 </td><td style=\"text-align: right;\">-0.229852  </td><td style=\"text-align: right;\">-0.126128  </td><td style=\"text-align: right;\">-0.0195049</td><td style=\"text-align: right;\">-0.034503 </td><td style=\"text-align: right;\">-0.0672724 </td><td style=\"text-align: right;\">-0.0345311 </td><td style=\"text-align: right;\">-0.0475569</td><td style=\"text-align: right;\">0.172198 </td><td style=\"text-align: right;\">-0.201597 </td><td style=\"text-align: right;\"> 0.14146  </td><td style=\"text-align: right;\">-0.205753 </td><td style=\"text-align: right;\">-0.138109 </td><td style=\"text-align: right;\"> 0.0131347 </td><td style=\"text-align: right;\">0.446797</td><td style=\"text-align: right;\">-0.143331  </td><td style=\"text-align: right;\"> 0.0679178</td><td style=\"text-align: right;\"> 0.121448  </td><td style=\"text-align: right;\"> 0.133143 </td><td style=\"text-align: right;\"> 0.106829  </td><td style=\"text-align: right;\"> 0.073345 </td><td style=\"text-align: right;\">0.0998977</td><td style=\"text-align: right;\"> 0.0284418</td><td style=\"text-align: right;\">-0.0157038</td><td style=\"text-align: right;\">-0.0719916</td><td style=\"text-align: right;\"> 0.104175 </td><td style=\"text-align: right;\">0.125373 </td><td style=\"text-align: right;\"> 0.112748 </td><td style=\"text-align: right;\">-0.173093 </td><td style=\"text-align: right;\">-0.100611   </td><td style=\"text-align: right;\"> 0.132141 </td><td style=\"text-align: right;\"> 0.0457853 </td><td style=\"text-align: right;\">-0.0348087 </td><td style=\"text-align: right;\">-0.251199  </td><td style=\"text-align: right;\">0.195174</td><td style=\"text-align: right;\">0.151234 </td><td style=\"text-align: right;\">-0.0336962 </td><td style=\"text-align: right;\">-0.149413  </td><td style=\"text-align: right;\"> 0.0750911 </td><td style=\"text-align: right;\"> 0.132749  </td><td style=\"text-align: right;\">-0.00947973</td><td style=\"text-align: right;\"> 0.173465 </td><td style=\"text-align: right;\">0.0980165</td><td style=\"text-align: right;\"> 0.238436 </td><td style=\"text-align: right;\">0.142042 </td><td style=\"text-align: right;\">0.0936398</td><td style=\"text-align: right;\">-0.0391939 </td><td style=\"text-align: right;\"> 0.11277   </td><td style=\"text-align: right;\">0.0430736</td></tr>\n",
              "<tr><td style=\"text-align: right;\">0.206048</td><td style=\"text-align: right;\">0.109827 </td><td style=\"text-align: right;\"> 0.0115036 </td><td style=\"text-align: right;\">-0.165727 </td><td style=\"text-align: right;\"> 0.0601011</td><td style=\"text-align: right;\"> 0.0113567 </td><td style=\"text-align: right;\">0.0821769</td><td style=\"text-align: right;\">-0.129087  </td><td style=\"text-align: right;\">0.103369 </td><td style=\"text-align: right;\"> 0.00949704 </td><td style=\"text-align: right;\">-0.00543653</td><td style=\"text-align: right;\">-0.00320492</td><td style=\"text-align: right;\"> 0.172155 </td><td style=\"text-align: right;\">-0.0755628  </td><td style=\"text-align: right;\">-0.253214</td><td style=\"text-align: right;\">-0.155229 </td><td style=\"text-align: right;\">-0.0067494</td><td style=\"text-align: right;\">-0.0715347</td><td style=\"text-align: right;\">-0.0340364 </td><td style=\"text-align: right;\"> 0.0623751 </td><td style=\"text-align: right;\">-0.0607226  </td><td style=\"text-align: right;\"> 0.11545   </td><td style=\"text-align: right;\">-0.183813  </td><td style=\"text-align: right;\">-0.0990151 </td><td style=\"text-align: right;\">-0.0184891</td><td style=\"text-align: right;\"> 0.0823472</td><td style=\"text-align: right;\"> 0.0881126</td><td style=\"text-align: right;\">-0.0153034</td><td style=\"text-align: right;\"> 0.0781033</td><td style=\"text-align: right;\">-0.0613909</td><td style=\"text-align: right;\">-0.10052  </td><td style=\"text-align: right;\">0.124378 </td><td style=\"text-align: right;\">-0.111569  </td><td style=\"text-align: right;\">-0.0665656</td><td style=\"text-align: right;\">-0.0329994</td><td style=\"text-align: right;\"> 0.131279 </td><td style=\"text-align: right;\">0.0672179</td><td style=\"text-align: right;\"> 0.010741  </td><td style=\"text-align: right;\">-0.193813 </td><td style=\"text-align: right;\">-0.0386841</td><td style=\"text-align: right;\"> 0.0356355  </td><td style=\"text-align: right;\">-0.0134738 </td><td style=\"text-align: right;\"> 0.0293324</td><td style=\"text-align: right;\">-0.145454 </td><td style=\"text-align: right;\"> 0.0796288 </td><td style=\"text-align: right;\"> 0.00417591</td><td style=\"text-align: right;\">-0.00862284</td><td style=\"text-align: right;\">-0.120295 </td><td style=\"text-align: right;\"> 0.0322211 </td><td style=\"text-align: right;\">-0.136789 </td><td style=\"text-align: right;\">0.109512 </td><td style=\"text-align: right;\"> 0.00706459</td><td style=\"text-align: right;\"> 0.039784  </td><td style=\"text-align: right;\">-0.0303049 </td><td style=\"text-align: right;\"> 0.0113835</td><td style=\"text-align: right;\"> 0.0565201</td><td style=\"text-align: right;\"> 0.0912257 </td><td style=\"text-align: right;\"> 0.0684464 </td><td style=\"text-align: right;\">-0.155294 </td><td style=\"text-align: right;\">0.0197468</td><td style=\"text-align: right;\">-0.172903 </td><td style=\"text-align: right;\">-0.086039 </td><td style=\"text-align: right;\">-0.103356 </td><td style=\"text-align: right;\">-0.0201143</td><td style=\"text-align: right;\"> 0.0250619 </td><td style=\"text-align: right;\">0.266481</td><td style=\"text-align: right;\">-0.0993951 </td><td style=\"text-align: right;\">-0.102661 </td><td style=\"text-align: right;\"> 0.0702913 </td><td style=\"text-align: right;\"> 0.0312598</td><td style=\"text-align: right;\"> 0.108264  </td><td style=\"text-align: right;\"> 0.0493557</td><td style=\"text-align: right;\">0.132825 </td><td style=\"text-align: right;\">-0.032338 </td><td style=\"text-align: right;\">-0.0862976</td><td style=\"text-align: right;\">-0.115185 </td><td style=\"text-align: right;\">-0.036131 </td><td style=\"text-align: right;\">0.0921177</td><td style=\"text-align: right;\"> 0.0370361</td><td style=\"text-align: right;\"> 0.0395317</td><td style=\"text-align: right;\">-0.000238179</td><td style=\"text-align: right;\"> 0.0813044</td><td style=\"text-align: right;\"> 0.0112357 </td><td style=\"text-align: right;\"> 0.0608037 </td><td style=\"text-align: right;\"> 0.12936   </td><td style=\"text-align: right;\">0.183468</td><td style=\"text-align: right;\">0.0535352</td><td style=\"text-align: right;\">-0.065204  </td><td style=\"text-align: right;\"> 0.00311163</td><td style=\"text-align: right;\"> 0.0544685 </td><td style=\"text-align: right;\">-0.00802403</td><td style=\"text-align: right;\">-0.116152  </td><td style=\"text-align: right;\">-0.017422 </td><td style=\"text-align: right;\">0.102724 </td><td style=\"text-align: right;\">-0.0567121</td><td style=\"text-align: right;\">0.151037 </td><td style=\"text-align: right;\">0.12767  </td><td style=\"text-align: right;\"> 0.0376171 </td><td style=\"text-align: right;\"> 0.0717977 </td><td style=\"text-align: right;\">0.170608 </td></tr>\n",
              "<tr><td style=\"text-align: right;\">0.226281</td><td style=\"text-align: right;\">0.122643 </td><td style=\"text-align: right;\"> 0.0513136 </td><td style=\"text-align: right;\"> 0.0114315</td><td style=\"text-align: right;\">-0.286693 </td><td style=\"text-align: right;\">-0.0896127 </td><td style=\"text-align: right;\">0.0202327</td><td style=\"text-align: right;\"> 0.10696   </td><td style=\"text-align: right;\">0.121169 </td><td style=\"text-align: right;\"> 0.0207859  </td><td style=\"text-align: right;\">-0.0839264 </td><td style=\"text-align: right;\"> 0.0675699 </td><td style=\"text-align: right;\">-0.0469694</td><td style=\"text-align: right;\"> 0.103338   </td><td style=\"text-align: right;\">-0.105501</td><td style=\"text-align: right;\">-0.0760873</td><td style=\"text-align: right;\">-0.18665  </td><td style=\"text-align: right;\">-0.0535599</td><td style=\"text-align: right;\">-0.206071  </td><td style=\"text-align: right;\">-0.130631  </td><td style=\"text-align: right;\"> 0.135459   </td><td style=\"text-align: right;\"> 0.161783  </td><td style=\"text-align: right;\">-0.0336866 </td><td style=\"text-align: right;\">-0.0849682 </td><td style=\"text-align: right;\">-0.0955786</td><td style=\"text-align: right;\">-0.0477762</td><td style=\"text-align: right;\">-0.0627381</td><td style=\"text-align: right;\">-0.0691084</td><td style=\"text-align: right;\"> 0.0414732</td><td style=\"text-align: right;\"> 0.0570186</td><td style=\"text-align: right;\">-0.0077454</td><td style=\"text-align: right;\">0.145946 </td><td style=\"text-align: right;\"> 0.00207701</td><td style=\"text-align: right;\">-0.0356464</td><td style=\"text-align: right;\"> 0.0461067</td><td style=\"text-align: right;\">-0.0795924</td><td style=\"text-align: right;\">0.130183 </td><td style=\"text-align: right;\">-0.0302591 </td><td style=\"text-align: right;\">-0.142523 </td><td style=\"text-align: right;\"> 0.123879 </td><td style=\"text-align: right;\"> 0.168477   </td><td style=\"text-align: right;\"> 0.0853192 </td><td style=\"text-align: right;\">-0.144511 </td><td style=\"text-align: right;\"> 0.0355025</td><td style=\"text-align: right;\"> 0.0968788 </td><td style=\"text-align: right;\">-0.0840528 </td><td style=\"text-align: right;\">-0.011194  </td><td style=\"text-align: right;\">-0.15422  </td><td style=\"text-align: right;\">-0.0308314 </td><td style=\"text-align: right;\"> 0.0137501</td><td style=\"text-align: right;\">0.0163248</td><td style=\"text-align: right;\"> 0.0701369 </td><td style=\"text-align: right;\"> 0.078504  </td><td style=\"text-align: right;\"> 0.0756527 </td><td style=\"text-align: right;\"> 0.0592084</td><td style=\"text-align: right;\"> 0.118391 </td><td style=\"text-align: right;\"> 0.0336066 </td><td style=\"text-align: right;\"> 0.00694142</td><td style=\"text-align: right;\"> 0.0372736</td><td style=\"text-align: right;\">0.0174641</td><td style=\"text-align: right;\"> 0.0615451</td><td style=\"text-align: right;\"> 0.0711746</td><td style=\"text-align: right;\">-0.182817 </td><td style=\"text-align: right;\">-0.0671604</td><td style=\"text-align: right;\"> 0.10891   </td><td style=\"text-align: right;\">0.209255</td><td style=\"text-align: right;\">-0.00549572</td><td style=\"text-align: right;\"> 0.240868 </td><td style=\"text-align: right;\">-0.071321  </td><td style=\"text-align: right;\">-0.039578 </td><td style=\"text-align: right;\"> 0.037237  </td><td style=\"text-align: right;\">-0.0411276</td><td style=\"text-align: right;\">0.235945 </td><td style=\"text-align: right;\"> 0.0712093</td><td style=\"text-align: right;\">-0.0580733</td><td style=\"text-align: right;\">-0.0506155</td><td style=\"text-align: right;\">-0.0627212</td><td style=\"text-align: right;\">0.112937 </td><td style=\"text-align: right;\">-0.0270149</td><td style=\"text-align: right;\"> 0.0381376</td><td style=\"text-align: right;\"> 0.0621821  </td><td style=\"text-align: right;\">-0.0705766</td><td style=\"text-align: right;\"> 0.193867  </td><td style=\"text-align: right;\">-0.0258732 </td><td style=\"text-align: right;\"> 0.0243736 </td><td style=\"text-align: right;\">0.151194</td><td style=\"text-align: right;\">0.0834144</td><td style=\"text-align: right;\"> 0.0144432 </td><td style=\"text-align: right;\">-0.0781464 </td><td style=\"text-align: right;\">-0.158441  </td><td style=\"text-align: right;\"> 0.0221828 </td><td style=\"text-align: right;\">-0.0287945 </td><td style=\"text-align: right;\">-0.0605786</td><td style=\"text-align: right;\">0.0647848</td><td style=\"text-align: right;\"> 0.121296 </td><td style=\"text-align: right;\">0.100684 </td><td style=\"text-align: right;\">0.0687484</td><td style=\"text-align: right;\"> 0.0217591 </td><td style=\"text-align: right;\">-0.00101006</td><td style=\"text-align: right;\">0.0354261</td></tr>\n",
              "<tr><td style=\"text-align: right;\">0.217395</td><td style=\"text-align: right;\">0.127814 </td><td style=\"text-align: right;\"> 0.0185419 </td><td style=\"text-align: right;\">-0.151313 </td><td style=\"text-align: right;\"> 0.0417817</td><td style=\"text-align: right;\"> 0.0812903 </td><td style=\"text-align: right;\">0.0239335</td><td style=\"text-align: right;\"> 0.0178732 </td><td style=\"text-align: right;\">0.13109  </td><td style=\"text-align: right;\">-0.0681636  </td><td style=\"text-align: right;\">-0.0508376 </td><td style=\"text-align: right;\"> 0.00137057</td><td style=\"text-align: right;\"> 0.0946074</td><td style=\"text-align: right;\">-0.020774   </td><td style=\"text-align: right;\">-0.206829</td><td style=\"text-align: right;\">-0.153373 </td><td style=\"text-align: right;\">-0.0351381</td><td style=\"text-align: right;\"> 0.0205847</td><td style=\"text-align: right;\">-0.0026324 </td><td style=\"text-align: right;\"> 0.0167622 </td><td style=\"text-align: right;\"> 0.0374963  </td><td style=\"text-align: right;\"> 0.0633252 </td><td style=\"text-align: right;\"> 0.0285221 </td><td style=\"text-align: right;\"> 0.00905337</td><td style=\"text-align: right;\">-0.0331146</td><td style=\"text-align: right;\"> 0.0832562</td><td style=\"text-align: right;\"> 0.0306959</td><td style=\"text-align: right;\">-0.0420753</td><td style=\"text-align: right;\"> 0.0882513</td><td style=\"text-align: right;\">-0.0342601</td><td style=\"text-align: right;\">-0.118955 </td><td style=\"text-align: right;\">0.126963 </td><td style=\"text-align: right;\"> 0.01485   </td><td style=\"text-align: right;\">-0.0929847</td><td style=\"text-align: right;\">-0.0664901</td><td style=\"text-align: right;\"> 0.170409 </td><td style=\"text-align: right;\">0.0989111</td><td style=\"text-align: right;\">-0.0217465 </td><td style=\"text-align: right;\">-0.101019 </td><td style=\"text-align: right;\">-0.15305  </td><td style=\"text-align: right;\">-0.0334874  </td><td style=\"text-align: right;\"> 0.0783371 </td><td style=\"text-align: right;\">-0.0480442</td><td style=\"text-align: right;\">-0.183366 </td><td style=\"text-align: right;\"> 0.0060772 </td><td style=\"text-align: right;\"> 0.0334193 </td><td style=\"text-align: right;\"> 0.0213533 </td><td style=\"text-align: right;\">-0.113314 </td><td style=\"text-align: right;\">-0.0530915 </td><td style=\"text-align: right;\">-0.153087 </td><td style=\"text-align: right;\">0.0713232</td><td style=\"text-align: right;\">-0.0156316 </td><td style=\"text-align: right;\"> 0.0182188 </td><td style=\"text-align: right;\"> 0.0273739 </td><td style=\"text-align: right;\">-0.0337784</td><td style=\"text-align: right;\"> 0.109862 </td><td style=\"text-align: right;\">-0.00194731</td><td style=\"text-align: right;\"> 0.0053376 </td><td style=\"text-align: right;\">-0.180798 </td><td style=\"text-align: right;\">0.078858 </td><td style=\"text-align: right;\">-0.193734 </td><td style=\"text-align: right;\"> 0.0378111</td><td style=\"text-align: right;\"> 0.0536547</td><td style=\"text-align: right;\">-0.0892897</td><td style=\"text-align: right;\">-0.0359821 </td><td style=\"text-align: right;\">0.242381</td><td style=\"text-align: right;\">-0.0560405 </td><td style=\"text-align: right;\">-0.0769075</td><td style=\"text-align: right;\">-0.0482023 </td><td style=\"text-align: right;\"> 0.0482101</td><td style=\"text-align: right;\"> 0.0203045 </td><td style=\"text-align: right;\">-0.0137749</td><td style=\"text-align: right;\">0.0455779</td><td style=\"text-align: right;\">-0.0352093</td><td style=\"text-align: right;\">-0.0817728</td><td style=\"text-align: right;\">-0.0981543</td><td style=\"text-align: right;\"> 0.0735707</td><td style=\"text-align: right;\">0.121599 </td><td style=\"text-align: right;\"> 0.0165482</td><td style=\"text-align: right;\">-0.07486  </td><td style=\"text-align: right;\"> 0.0319899  </td><td style=\"text-align: right;\"> 0.100194 </td><td style=\"text-align: right;\"> 0.0557809 </td><td style=\"text-align: right;\"> 0.0711556 </td><td style=\"text-align: right;\"> 0.0123555 </td><td style=\"text-align: right;\">0.157194</td><td style=\"text-align: right;\">0.0500915</td><td style=\"text-align: right;\"> 0.0197757 </td><td style=\"text-align: right;\">-0.112035  </td><td style=\"text-align: right;\">-0.0171149 </td><td style=\"text-align: right;\">-0.0433169 </td><td style=\"text-align: right;\">-0.103908  </td><td style=\"text-align: right;\">-0.0959806</td><td style=\"text-align: right;\">0.118316 </td><td style=\"text-align: right;\"> 0.084437 </td><td style=\"text-align: right;\">0.203396 </td><td style=\"text-align: right;\">0.202429 </td><td style=\"text-align: right;\"> 0.0476218 </td><td style=\"text-align: right;\"> 0.137911  </td><td style=\"text-align: right;\">0.166529 </td></tr>\n",
              "<tr><td style=\"text-align: right;\">0.160223</td><td style=\"text-align: right;\">0.184628 </td><td style=\"text-align: right;\">-0.00137544</td><td style=\"text-align: right;\">-0.120919 </td><td style=\"text-align: right;\">-0.0856051</td><td style=\"text-align: right;\">-0.0648433 </td><td style=\"text-align: right;\">0.110454 </td><td style=\"text-align: right;\">-0.00115928</td><td style=\"text-align: right;\">0.174847 </td><td style=\"text-align: right;\">-0.0685577  </td><td style=\"text-align: right;\"> 0.0437315 </td><td style=\"text-align: right;\"> 0.0192332 </td><td style=\"text-align: right;\"> 0.0688985</td><td style=\"text-align: right;\">-0.0250499  </td><td style=\"text-align: right;\">-0.166396</td><td style=\"text-align: right;\">-0.121354 </td><td style=\"text-align: right;\">-0.0912188</td><td style=\"text-align: right;\">-0.116809 </td><td style=\"text-align: right;\">-0.146261  </td><td style=\"text-align: right;\"> 0.00205795</td><td style=\"text-align: right;\">-0.0104636  </td><td style=\"text-align: right;\">-0.0584768 </td><td style=\"text-align: right;\"> 0.0770387 </td><td style=\"text-align: right;\"> 0.0260485 </td><td style=\"text-align: right;\">-0.0344223</td><td style=\"text-align: right;\"> 0.10905  </td><td style=\"text-align: right;\"> 0.0480861</td><td style=\"text-align: right;\">-0.0865622</td><td style=\"text-align: right;\">-0.0574537</td><td style=\"text-align: right;\">-0.0211077</td><td style=\"text-align: right;\">-0.154739 </td><td style=\"text-align: right;\">0.0781473</td><td style=\"text-align: right;\">-0.0239363 </td><td style=\"text-align: right;\">-0.0535896</td><td style=\"text-align: right;\">-0.0931856</td><td style=\"text-align: right;\"> 0.250964 </td><td style=\"text-align: right;\">0.0664553</td><td style=\"text-align: right;\">-0.133288  </td><td style=\"text-align: right;\">-0.039973 </td><td style=\"text-align: right;\">-0.0274723</td><td style=\"text-align: right;\">-0.0913753  </td><td style=\"text-align: right;\"> 0.0189008 </td><td style=\"text-align: right;\">-0.0798027</td><td style=\"text-align: right;\">-0.204198 </td><td style=\"text-align: right;\"> 0.194612  </td><td style=\"text-align: right;\">-0.0395654 </td><td style=\"text-align: right;\"> 0.0266305 </td><td style=\"text-align: right;\">-0.155418 </td><td style=\"text-align: right;\">-0.115624  </td><td style=\"text-align: right;\">-0.0545436</td><td style=\"text-align: right;\">0.194798 </td><td style=\"text-align: right;\">-0.0247352 </td><td style=\"text-align: right;\"> 0.0970434 </td><td style=\"text-align: right;\">-0.0950673 </td><td style=\"text-align: right;\">-0.0181335</td><td style=\"text-align: right;\"> 0.0605432</td><td style=\"text-align: right;\">-0.0415285 </td><td style=\"text-align: right;\">-0.0220792 </td><td style=\"text-align: right;\">-0.134346 </td><td style=\"text-align: right;\">0.0592587</td><td style=\"text-align: right;\">-0.0404843</td><td style=\"text-align: right;\">-0.107046 </td><td style=\"text-align: right;\">-0.0806941</td><td style=\"text-align: right;\">-0.180021 </td><td style=\"text-align: right;\">-0.0181985 </td><td style=\"text-align: right;\">0.159683</td><td style=\"text-align: right;\">-0.199968  </td><td style=\"text-align: right;\">-0.0253164</td><td style=\"text-align: right;\">-0.0488564 </td><td style=\"text-align: right;\"> 0.118379 </td><td style=\"text-align: right;\"> 0.100851  </td><td style=\"text-align: right;\"> 0.0347969</td><td style=\"text-align: right;\">0.0407914</td><td style=\"text-align: right;\">-0.0287179</td><td style=\"text-align: right;\">-0.0252687</td><td style=\"text-align: right;\">-0.106279 </td><td style=\"text-align: right;\">-0.0535508</td><td style=\"text-align: right;\">0.104262 </td><td style=\"text-align: right;\">-0.0708898</td><td style=\"text-align: right;\">-0.0729896</td><td style=\"text-align: right;\"> 0.0302511  </td><td style=\"text-align: right;\"> 0.173301 </td><td style=\"text-align: right;\"> 0.00179597</td><td style=\"text-align: right;\">-0.0555204 </td><td style=\"text-align: right;\"> 0.0276794 </td><td style=\"text-align: right;\">0.186916</td><td style=\"text-align: right;\">0.141464 </td><td style=\"text-align: right;\"> 0.0709202 </td><td style=\"text-align: right;\">-0.100973  </td><td style=\"text-align: right;\">-0.044609  </td><td style=\"text-align: right;\"> 0.0160661 </td><td style=\"text-align: right;\">-0.132978  </td><td style=\"text-align: right;\">-0.0748504</td><td style=\"text-align: right;\">0.0592568</td><td style=\"text-align: right;\"> 0.159793 </td><td style=\"text-align: right;\">0.0638773</td><td style=\"text-align: right;\">0.134921 </td><td style=\"text-align: right;\"> 0.0359291 </td><td style=\"text-align: right;\">-0.0121321 </td><td style=\"text-align: right;\">0.188159 </td></tr>\n",
              "<tr><td style=\"text-align: right;\">0.199091</td><td style=\"text-align: right;\">0.186176 </td><td style=\"text-align: right;\">-0.0547666 </td><td style=\"text-align: right;\">-0.134439 </td><td style=\"text-align: right;\">-0.0203004</td><td style=\"text-align: right;\"> 0.0466094 </td><td style=\"text-align: right;\">0.0733325</td><td style=\"text-align: right;\"> 0.0562316 </td><td style=\"text-align: right;\">0.117608 </td><td style=\"text-align: right;\">-0.0733025  </td><td style=\"text-align: right;\"> 0.00259653</td><td style=\"text-align: right;\"> 0.0741084 </td><td style=\"text-align: right;\"> 0.0683778</td><td style=\"text-align: right;\"> 0.0443338  </td><td style=\"text-align: right;\">-0.167697</td><td style=\"text-align: right;\">-0.203513 </td><td style=\"text-align: right;\">-0.0320487</td><td style=\"text-align: right;\">-0.0100711</td><td style=\"text-align: right;\">-0.175306  </td><td style=\"text-align: right;\"> 0.0076981 </td><td style=\"text-align: right;\">-0.0315907  </td><td style=\"text-align: right;\"> 0.0903506 </td><td style=\"text-align: right;\"> 0.0795106 </td><td style=\"text-align: right;\"> 0.0764842 </td><td style=\"text-align: right;\">-0.0755666</td><td style=\"text-align: right;\"> 0.104517 </td><td style=\"text-align: right;\"> 0.0247133</td><td style=\"text-align: right;\">-0.121433 </td><td style=\"text-align: right;\"> 0.0476209</td><td style=\"text-align: right;\">-0.100017 </td><td style=\"text-align: right;\">-0.0648199</td><td style=\"text-align: right;\">0.0615952</td><td style=\"text-align: right;\">-0.018995  </td><td style=\"text-align: right;\">-0.0947448</td><td style=\"text-align: right;\">-0.0261465</td><td style=\"text-align: right;\"> 0.0768317</td><td style=\"text-align: right;\">0.111198 </td><td style=\"text-align: right;\"> 0.0262787 </td><td style=\"text-align: right;\">-0.0642933</td><td style=\"text-align: right;\">-0.19815  </td><td style=\"text-align: right;\"> 0.0771212  </td><td style=\"text-align: right;\">-0.0147253 </td><td style=\"text-align: right;\">-0.120698 </td><td style=\"text-align: right;\">-0.105461 </td><td style=\"text-align: right;\"> 0.0937185 </td><td style=\"text-align: right;\"> 0.00946701</td><td style=\"text-align: right;\"> 0.054189  </td><td style=\"text-align: right;\">-0.123856 </td><td style=\"text-align: right;\">-0.0465336 </td><td style=\"text-align: right;\">-0.151882 </td><td style=\"text-align: right;\">0.054622 </td><td style=\"text-align: right;\"> 0.0378736 </td><td style=\"text-align: right;\"> 0.00930943</td><td style=\"text-align: right;\"> 0.00981105</td><td style=\"text-align: right;\"> 0.110718 </td><td style=\"text-align: right;\"> 0.0678953</td><td style=\"text-align: right;\">-0.0111982 </td><td style=\"text-align: right;\">-0.0264051 </td><td style=\"text-align: right;\">-0.164534 </td><td style=\"text-align: right;\">0.0231654</td><td style=\"text-align: right;\">-0.124972 </td><td style=\"text-align: right;\"> 0.0105793</td><td style=\"text-align: right;\">-0.0514139</td><td style=\"text-align: right;\">-0.0769487</td><td style=\"text-align: right;\"> 0.0266889 </td><td style=\"text-align: right;\">0.153483</td><td style=\"text-align: right;\">-0.0444718 </td><td style=\"text-align: right;\">-0.0588198</td><td style=\"text-align: right;\">-0.0617869 </td><td style=\"text-align: right;\"> 0.0777327</td><td style=\"text-align: right;\"> 0.115271  </td><td style=\"text-align: right;\"> 0.0144113</td><td style=\"text-align: right;\">0.0421049</td><td style=\"text-align: right;\"> 0.0234901</td><td style=\"text-align: right;\"> 0.019543 </td><td style=\"text-align: right;\">-0.079036 </td><td style=\"text-align: right;\">-0.0197982</td><td style=\"text-align: right;\">0.075851 </td><td style=\"text-align: right;\"> 0.0817013</td><td style=\"text-align: right;\">-0.0128285</td><td style=\"text-align: right;\"> 0.0844968  </td><td style=\"text-align: right;\"> 0.0775799</td><td style=\"text-align: right;\"> 0.109499  </td><td style=\"text-align: right;\">-0.0708895 </td><td style=\"text-align: right;\"> 0.0395802 </td><td style=\"text-align: right;\">0.20744 </td><td style=\"text-align: right;\">0.166578 </td><td style=\"text-align: right;\"> 0.00573033</td><td style=\"text-align: right;\">-0.00806781</td><td style=\"text-align: right;\"> 0.036295  </td><td style=\"text-align: right;\">-0.0422169 </td><td style=\"text-align: right;\">-0.0501425 </td><td style=\"text-align: right;\">-0.0577772</td><td style=\"text-align: right;\">0.129535 </td><td style=\"text-align: right;\"> 0.142737 </td><td style=\"text-align: right;\">0.19021  </td><td style=\"text-align: right;\">0.179007 </td><td style=\"text-align: right;\"> 0.100725  </td><td style=\"text-align: right;\"> 0.0601871 </td><td style=\"text-align: right;\">0.106025 </td></tr>\n",
              "</tbody>\n",
              "</table>"
            ]
          },
          "metadata": {
            "tags": []
          }
        },
        {
          "output_type": "execute_result",
          "data": {
            "text/plain": [
              ""
            ]
          },
          "metadata": {
            "tags": []
          },
          "execution_count": 20
        }
      ]
    },
    {
      "cell_type": "code",
      "metadata": {
        "id": "Llgo_yZChNkU",
        "colab_type": "code",
        "colab": {}
      },
      "source": [
        "# Add aggregated word embeddings \n",
        "ext_reviews = reviews.cbind(review_vecs)\n",
        "# rename may be... all 'reviews' to 'news'\n",
        "# ext becaus ewe are extending the reviews df with the vectors"
      ],
      "execution_count": 0,
      "outputs": []
    },
    {
      "cell_type": "code",
      "metadata": {
        "id": "wCRqaA-suTlx",
        "colab_type": "code",
        "colab": {}
      },
      "source": [
        "ext_reviews[\"label_f\"]  = ext_reviews[\"label\"] .asfactor()"
      ],
      "execution_count": 0,
      "outputs": []
    },
    {
      "cell_type": "code",
      "metadata": {
        "id": "d73uj-4GhzKZ",
        "colab_type": "code",
        "colab": {}
      },
      "source": [
        "# Splitting to test train.. along with the review vecs is difficult without the 'Train' boolean column\n",
        "# hence redoing it from that stage..\n",
        "# so that we'll be able to do this following cell"
      ],
      "execution_count": 0,
      "outputs": []
    },
    {
      "cell_type": "code",
      "metadata": {
        "id": "6xGhP5nuhlW5",
        "colab_type": "code",
        "colab": {}
      },
      "source": [
        "ext_train = ext_reviews[ext_reviews[\"Train\"] == \"True\"]\n",
        "ext_test = ext_reviews[ext_reviews[\"Train\"] == \"True\"]"
      ],
      "execution_count": 0,
      "outputs": []
    },
    {
      "cell_type": "code",
      "metadata": {
        "id": "_YXUIUMyjoBy",
        "colab_type": "code",
        "colab": {}
      },
      "source": [
        "#review_vecs.names\n",
        "# had a 100 cols\n",
        "# may be more would give a better model ..?"
      ],
      "execution_count": 0,
      "outputs": []
    },
    {
      "cell_type": "code",
      "metadata": {
        "id": "zGtBQJT-jzTb",
        "colab_type": "code",
        "colab": {}
      },
      "source": [
        "predictors =  review_vecs.names"
      ],
      "execution_count": 0,
      "outputs": []
    },
    {
      "cell_type": "code",
      "metadata": {
        "id": "AB6ADqI1uFja",
        "colab_type": "code",
        "colab": {}
      },
      "source": [
        "response = 'label_f'"
      ],
      "execution_count": 0,
      "outputs": []
    },
    {
      "cell_type": "code",
      "metadata": {
        "id": "FiPk1R1rEYvN",
        "colab_type": "code",
        "colab": {}
      },
      "source": [
        "from h2o.automl import H2OAutoML"
      ],
      "execution_count": 0,
      "outputs": []
    },
    {
      "cell_type": "code",
      "metadata": {
        "id": "aQemjfjfEEKP",
        "colab_type": "code",
        "colab": {}
      },
      "source": [
        "# Identify predictors and response\n",
        "x = ext_train.columns\n",
        "y = \"label_f\"\n",
        "x.remove(y)\n",
        "\n",
        "# For binary classification, response should be a factor\n",
        "#train[y] = train[y].asfactor()\n",
        "#test[y] = test[y].asfactor()\n",
        "# Already done"
      ],
      "execution_count": 0,
      "outputs": []
    },
    {
      "cell_type": "code",
      "metadata": {
        "id": "4pS09grGFAHq",
        "colab_type": "code",
        "colab": {}
      },
      "source": [
        "# drop even the 'label' and 'train' columns..? from the predictors list..?"
      ],
      "execution_count": 0,
      "outputs": []
    },
    {
      "cell_type": "code",
      "metadata": {
        "id": "Q-fkoBnYEEFR",
        "colab_type": "code",
        "colab": {
          "base_uri": "https://localhost:8080/",
          "height": 67
        },
        "outputId": "66608451-1a9e-45fb-d77b-016cafabaabe"
      },
      "source": [
        "%%time\n",
        "# Run AutoML for 20 base models (limited to 1 hour max runtime by default)\n",
        "aml = H2OAutoML(max_models=20, seed=1)\n",
        "aml.train(x=x, y=y, training_frame=ext_train)\n"
      ],
      "execution_count": 30,
      "outputs": [
        {
          "output_type": "stream",
          "text": [
            "AutoML progress: |████████████████████████████████████████████████████████| 100%\n",
            "CPU times: user 16 s, sys: 804 ms, total: 16.8 s\n",
            "Wall time: 1h 4min 42s\n"
          ],
          "name": "stdout"
        }
      ]
    },
    {
      "cell_type": "code",
      "metadata": {
        "id": "p6DzSYbYED-a",
        "colab_type": "code",
        "colab": {
          "base_uri": "https://localhost:8080/",
          "height": 318
        },
        "outputId": "d2934cec-02fd-4efd-f3f2-dbfb7367acd0"
      },
      "source": [
        "\n",
        "# View the AutoML Leaderboard\n",
        "lb = aml.leaderboard\n",
        "lb.head(rows=lb.nrows)  # Print all rows instead of default (10 rows)"
      ],
      "execution_count": 31,
      "outputs": [
        {
          "output_type": "display_data",
          "data": {
            "text/html": [
              "<table>\n",
              "<thead>\n",
              "<tr><th>model_id                                           </th><th style=\"text-align: right;\">  mean_per_class_error</th><th style=\"text-align: right;\">   logloss</th><th style=\"text-align: right;\">     rmse</th><th style=\"text-align: right;\">        mse</th></tr>\n",
              "</thead>\n",
              "<tbody>\n",
              "<tr><td>StackedEnsemble_BestOfFamily_AutoML_20191024_044349</td><td style=\"text-align: right;\">            0         </td><td style=\"text-align: right;\">0.0115687 </td><td style=\"text-align: right;\">0.0185751</td><td style=\"text-align: right;\">0.000345036</td></tr>\n",
              "<tr><td>GBM_5_AutoML_20191024_044349                       </td><td style=\"text-align: right;\">            0         </td><td style=\"text-align: right;\">0.00400766</td><td style=\"text-align: right;\">0.0105039</td><td style=\"text-align: right;\">0.000110331</td></tr>\n",
              "<tr><td>GBM_2_AutoML_20191024_044349                       </td><td style=\"text-align: right;\">            0.00103108</td><td style=\"text-align: right;\">0.00779038</td><td style=\"text-align: right;\">0.04005  </td><td style=\"text-align: right;\">0.001604   </td></tr>\n",
              "<tr><td>GBM_1_AutoML_20191024_044349                       </td><td style=\"text-align: right;\">            0.00103108</td><td style=\"text-align: right;\">0.0101256 </td><td style=\"text-align: right;\">0.0392171</td><td style=\"text-align: right;\">0.00153798 </td></tr>\n",
              "<tr><td>GBM_3_AutoML_20191024_044349                       </td><td style=\"text-align: right;\">            0.00167366</td><td style=\"text-align: right;\">0.0157199 </td><td style=\"text-align: right;\">0.0496454</td><td style=\"text-align: right;\">0.00246466 </td></tr>\n",
              "<tr><td>GBM_grid_1_AutoML_20191024_044349_model_1          </td><td style=\"text-align: right;\">            0.00175835</td><td style=\"text-align: right;\">1.71118   </td><td style=\"text-align: right;\">0.814336 </td><td style=\"text-align: right;\">0.663143   </td></tr>\n",
              "<tr><td>GBM_4_AutoML_20191024_044349                       </td><td style=\"text-align: right;\">            0.00186791</td><td style=\"text-align: right;\">0.0204565 </td><td style=\"text-align: right;\">0.0550861</td><td style=\"text-align: right;\">0.00303448 </td></tr>\n",
              "<tr><td>XRT_1_AutoML_20191024_044349                       </td><td style=\"text-align: right;\">            0.0142495 </td><td style=\"text-align: right;\">0.526169  </td><td style=\"text-align: right;\">0.420463 </td><td style=\"text-align: right;\">0.176789   </td></tr>\n",
              "<tr><td>DRF_1_AutoML_20191024_044349                       </td><td style=\"text-align: right;\">            0.0254083 </td><td style=\"text-align: right;\">0.590468  </td><td style=\"text-align: right;\">0.450175 </td><td style=\"text-align: right;\">0.202657   </td></tr>\n",
              "<tr><td>GBM_grid_1_AutoML_20191024_044349_model_2          </td><td style=\"text-align: right;\">            0.0255786 </td><td style=\"text-align: right;\">0.13753   </td><td style=\"text-align: right;\">0.174937 </td><td style=\"text-align: right;\">0.0306031  </td></tr>\n",
              "<tr><td>DeepLearning_grid_1_AutoML_20191024_044349_model_1 </td><td style=\"text-align: right;\">            0.28109   </td><td style=\"text-align: right;\">1.14231   </td><td style=\"text-align: right;\">0.519344 </td><td style=\"text-align: right;\">0.269718   </td></tr>\n",
              "<tr><td>DeepLearning_1_AutoML_20191024_044349              </td><td style=\"text-align: right;\">            0.284014  </td><td style=\"text-align: right;\">1.0311    </td><td style=\"text-align: right;\">0.547665 </td><td style=\"text-align: right;\">0.299937   </td></tr>\n",
              "<tr><td>GLM_grid_1_AutoML_20191024_044349_model_1          </td><td style=\"text-align: right;\">            0.421401  </td><td style=\"text-align: right;\">2.29699   </td><td style=\"text-align: right;\">0.888245 </td><td style=\"text-align: right;\">0.78898    </td></tr>\n",
              "<tr><td>DeepLearning_grid_1_AutoML_20191024_044349_model_2 </td><td style=\"text-align: right;\">            0.433188  </td><td style=\"text-align: right;\">1.53942   </td><td style=\"text-align: right;\">0.661354 </td><td style=\"text-align: right;\">0.437389   </td></tr>\n",
              "</tbody>\n",
              "</table>"
            ]
          },
          "metadata": {
            "tags": []
          }
        },
        {
          "output_type": "execute_result",
          "data": {
            "text/plain": [
              ""
            ]
          },
          "metadata": {
            "tags": []
          },
          "execution_count": 31
        }
      ]
    },
    {
      "cell_type": "code",
      "metadata": {
        "id": "LnchaGEVED8i",
        "colab_type": "code",
        "colab": {
          "base_uri": "https://localhost:8080/",
          "height": 336
        },
        "outputId": "070a2852-17ce-4145-b05f-8c57f4591849"
      },
      "source": [
        "#aml.leader.confusion_matrix()\n",
        "aml.leader.cross_validation_metrics_summary"
      ],
      "execution_count": 34,
      "outputs": [
        {
          "output_type": "stream",
          "text": [
            "Model Details\n",
            "=============\n",
            "H2OStackedEnsembleEstimator :  Stacked Ensemble\n",
            "Model Key:  StackedEnsemble_BestOfFamily_AutoML_20191024_044349\n",
            "\n",
            "No model summary for this model\n",
            "\n",
            "ModelMetricsMultinomialGLM: stackedensemble\n",
            "** Reported on train data. **\n",
            "\n",
            "MSE: 0.00011398483929601745\n",
            "RMSE: 0.010676368263413241\n",
            "\n",
            "ModelMetricsMultinomialGLM: stackedensemble\n",
            "** Reported on cross-validation data. **\n",
            "\n",
            "MSE: 0.00034503552140033165\n",
            "RMSE: 0.018575131800348865\n"
          ],
          "name": "stdout"
        },
        {
          "output_type": "execute_result",
          "data": {
            "text/plain": [
              "<bound method ModelBase.cross_validation_metrics_summary of >"
            ]
          },
          "metadata": {
            "tags": []
          },
          "execution_count": 34
        }
      ]
    },
    {
      "cell_type": "code",
      "metadata": {
        "id": "E1aEd__OED29",
        "colab_type": "code",
        "colab": {
          "base_uri": "https://localhost:8080/",
          "height": 706
        },
        "outputId": "355ca9ab-57e2-4009-e5dd-bc4402c1f350"
      },
      "source": [
        "aml.leader.confusion_matrix(ext_test) # wow !!!!!!!!"
      ],
      "execution_count": 35,
      "outputs": [
        {
          "output_type": "stream",
          "text": [
            "\n",
            "Confusion Matrix: Row labels: Actual class; Column labels: Predicted class\n"
          ],
          "name": "stdout"
        },
        {
          "output_type": "display_data",
          "data": {
            "text/html": [
              "<div>\n",
              "<style scoped>\n",
              "    .dataframe tbody tr th:only-of-type {\n",
              "        vertical-align: middle;\n",
              "    }\n",
              "\n",
              "    .dataframe tbody tr th {\n",
              "        vertical-align: top;\n",
              "    }\n",
              "\n",
              "    .dataframe thead th {\n",
              "        text-align: right;\n",
              "    }\n",
              "</style>\n",
              "<table border=\"1\" class=\"dataframe\">\n",
              "  <thead>\n",
              "    <tr style=\"text-align: right;\">\n",
              "      <th></th>\n",
              "      <th>0</th>\n",
              "      <th>1</th>\n",
              "      <th>2</th>\n",
              "      <th>3</th>\n",
              "      <th>4</th>\n",
              "      <th>5</th>\n",
              "      <th>6</th>\n",
              "      <th>7</th>\n",
              "      <th>8</th>\n",
              "      <th>9</th>\n",
              "      <th>10</th>\n",
              "      <th>11</th>\n",
              "      <th>12</th>\n",
              "      <th>13</th>\n",
              "      <th>14</th>\n",
              "      <th>15</th>\n",
              "      <th>16</th>\n",
              "      <th>17</th>\n",
              "      <th>18</th>\n",
              "      <th>19</th>\n",
              "      <th>115</th>\n",
              "      <th>460</th>\n",
              "      <th>Error</th>\n",
              "      <th>Rate</th>\n",
              "    </tr>\n",
              "  </thead>\n",
              "  <tbody>\n",
              "    <tr>\n",
              "      <th>0</th>\n",
              "      <td>388.0</td>\n",
              "      <td>0.0</td>\n",
              "      <td>0.0</td>\n",
              "      <td>0.0</td>\n",
              "      <td>0.0</td>\n",
              "      <td>0.0</td>\n",
              "      <td>0.0</td>\n",
              "      <td>0.0</td>\n",
              "      <td>0.0</td>\n",
              "      <td>0.0</td>\n",
              "      <td>0.0</td>\n",
              "      <td>0.0</td>\n",
              "      <td>0.0</td>\n",
              "      <td>0.0</td>\n",
              "      <td>0.0</td>\n",
              "      <td>0.0</td>\n",
              "      <td>0.0</td>\n",
              "      <td>0.0</td>\n",
              "      <td>0.0</td>\n",
              "      <td>0.0</td>\n",
              "      <td>0.0</td>\n",
              "      <td>0.0</td>\n",
              "      <td>0.0</td>\n",
              "      <td>0 / 388</td>\n",
              "    </tr>\n",
              "    <tr>\n",
              "      <th>1</th>\n",
              "      <td>0.0</td>\n",
              "      <td>457.0</td>\n",
              "      <td>0.0</td>\n",
              "      <td>0.0</td>\n",
              "      <td>0.0</td>\n",
              "      <td>0.0</td>\n",
              "      <td>0.0</td>\n",
              "      <td>0.0</td>\n",
              "      <td>0.0</td>\n",
              "      <td>0.0</td>\n",
              "      <td>0.0</td>\n",
              "      <td>0.0</td>\n",
              "      <td>0.0</td>\n",
              "      <td>0.0</td>\n",
              "      <td>0.0</td>\n",
              "      <td>0.0</td>\n",
              "      <td>0.0</td>\n",
              "      <td>0.0</td>\n",
              "      <td>0.0</td>\n",
              "      <td>0.0</td>\n",
              "      <td>0.0</td>\n",
              "      <td>0.0</td>\n",
              "      <td>0.0</td>\n",
              "      <td>0 / 457</td>\n",
              "    </tr>\n",
              "    <tr>\n",
              "      <th>2</th>\n",
              "      <td>0.0</td>\n",
              "      <td>0.0</td>\n",
              "      <td>461.0</td>\n",
              "      <td>0.0</td>\n",
              "      <td>0.0</td>\n",
              "      <td>0.0</td>\n",
              "      <td>0.0</td>\n",
              "      <td>0.0</td>\n",
              "      <td>0.0</td>\n",
              "      <td>0.0</td>\n",
              "      <td>0.0</td>\n",
              "      <td>0.0</td>\n",
              "      <td>0.0</td>\n",
              "      <td>0.0</td>\n",
              "      <td>0.0</td>\n",
              "      <td>0.0</td>\n",
              "      <td>0.0</td>\n",
              "      <td>0.0</td>\n",
              "      <td>0.0</td>\n",
              "      <td>0.0</td>\n",
              "      <td>0.0</td>\n",
              "      <td>0.0</td>\n",
              "      <td>0.0</td>\n",
              "      <td>0 / 461</td>\n",
              "    </tr>\n",
              "    <tr>\n",
              "      <th>3</th>\n",
              "      <td>0.0</td>\n",
              "      <td>0.0</td>\n",
              "      <td>0.0</td>\n",
              "      <td>477.0</td>\n",
              "      <td>0.0</td>\n",
              "      <td>0.0</td>\n",
              "      <td>0.0</td>\n",
              "      <td>0.0</td>\n",
              "      <td>0.0</td>\n",
              "      <td>0.0</td>\n",
              "      <td>0.0</td>\n",
              "      <td>0.0</td>\n",
              "      <td>0.0</td>\n",
              "      <td>0.0</td>\n",
              "      <td>0.0</td>\n",
              "      <td>0.0</td>\n",
              "      <td>0.0</td>\n",
              "      <td>0.0</td>\n",
              "      <td>0.0</td>\n",
              "      <td>0.0</td>\n",
              "      <td>0.0</td>\n",
              "      <td>0.0</td>\n",
              "      <td>0.0</td>\n",
              "      <td>0 / 477</td>\n",
              "    </tr>\n",
              "    <tr>\n",
              "      <th>4</th>\n",
              "      <td>0.0</td>\n",
              "      <td>0.0</td>\n",
              "      <td>0.0</td>\n",
              "      <td>0.0</td>\n",
              "      <td>473.0</td>\n",
              "      <td>0.0</td>\n",
              "      <td>0.0</td>\n",
              "      <td>0.0</td>\n",
              "      <td>0.0</td>\n",
              "      <td>0.0</td>\n",
              "      <td>0.0</td>\n",
              "      <td>0.0</td>\n",
              "      <td>0.0</td>\n",
              "      <td>0.0</td>\n",
              "      <td>0.0</td>\n",
              "      <td>0.0</td>\n",
              "      <td>0.0</td>\n",
              "      <td>0.0</td>\n",
              "      <td>0.0</td>\n",
              "      <td>0.0</td>\n",
              "      <td>0.0</td>\n",
              "      <td>0.0</td>\n",
              "      <td>0.0</td>\n",
              "      <td>0 / 473</td>\n",
              "    </tr>\n",
              "    <tr>\n",
              "      <th>5</th>\n",
              "      <td>0.0</td>\n",
              "      <td>0.0</td>\n",
              "      <td>0.0</td>\n",
              "      <td>0.0</td>\n",
              "      <td>0.0</td>\n",
              "      <td>464.0</td>\n",
              "      <td>0.0</td>\n",
              "      <td>0.0</td>\n",
              "      <td>0.0</td>\n",
              "      <td>0.0</td>\n",
              "      <td>0.0</td>\n",
              "      <td>0.0</td>\n",
              "      <td>0.0</td>\n",
              "      <td>0.0</td>\n",
              "      <td>0.0</td>\n",
              "      <td>0.0</td>\n",
              "      <td>0.0</td>\n",
              "      <td>0.0</td>\n",
              "      <td>0.0</td>\n",
              "      <td>0.0</td>\n",
              "      <td>0.0</td>\n",
              "      <td>0.0</td>\n",
              "      <td>0.0</td>\n",
              "      <td>0 / 464</td>\n",
              "    </tr>\n",
              "    <tr>\n",
              "      <th>6</th>\n",
              "      <td>0.0</td>\n",
              "      <td>0.0</td>\n",
              "      <td>0.0</td>\n",
              "      <td>0.0</td>\n",
              "      <td>0.0</td>\n",
              "      <td>0.0</td>\n",
              "      <td>474.0</td>\n",
              "      <td>0.0</td>\n",
              "      <td>0.0</td>\n",
              "      <td>0.0</td>\n",
              "      <td>0.0</td>\n",
              "      <td>0.0</td>\n",
              "      <td>0.0</td>\n",
              "      <td>0.0</td>\n",
              "      <td>0.0</td>\n",
              "      <td>0.0</td>\n",
              "      <td>0.0</td>\n",
              "      <td>0.0</td>\n",
              "      <td>0.0</td>\n",
              "      <td>0.0</td>\n",
              "      <td>0.0</td>\n",
              "      <td>0.0</td>\n",
              "      <td>0.0</td>\n",
              "      <td>0 / 474</td>\n",
              "    </tr>\n",
              "    <tr>\n",
              "      <th>7</th>\n",
              "      <td>0.0</td>\n",
              "      <td>0.0</td>\n",
              "      <td>0.0</td>\n",
              "      <td>0.0</td>\n",
              "      <td>0.0</td>\n",
              "      <td>0.0</td>\n",
              "      <td>0.0</td>\n",
              "      <td>472.0</td>\n",
              "      <td>0.0</td>\n",
              "      <td>0.0</td>\n",
              "      <td>0.0</td>\n",
              "      <td>0.0</td>\n",
              "      <td>0.0</td>\n",
              "      <td>0.0</td>\n",
              "      <td>0.0</td>\n",
              "      <td>0.0</td>\n",
              "      <td>0.0</td>\n",
              "      <td>0.0</td>\n",
              "      <td>0.0</td>\n",
              "      <td>0.0</td>\n",
              "      <td>0.0</td>\n",
              "      <td>0.0</td>\n",
              "      <td>0.0</td>\n",
              "      <td>0 / 472</td>\n",
              "    </tr>\n",
              "    <tr>\n",
              "      <th>8</th>\n",
              "      <td>0.0</td>\n",
              "      <td>0.0</td>\n",
              "      <td>0.0</td>\n",
              "      <td>0.0</td>\n",
              "      <td>0.0</td>\n",
              "      <td>0.0</td>\n",
              "      <td>0.0</td>\n",
              "      <td>0.0</td>\n",
              "      <td>481.0</td>\n",
              "      <td>0.0</td>\n",
              "      <td>0.0</td>\n",
              "      <td>0.0</td>\n",
              "      <td>0.0</td>\n",
              "      <td>0.0</td>\n",
              "      <td>0.0</td>\n",
              "      <td>0.0</td>\n",
              "      <td>0.0</td>\n",
              "      <td>0.0</td>\n",
              "      <td>0.0</td>\n",
              "      <td>0.0</td>\n",
              "      <td>0.0</td>\n",
              "      <td>0.0</td>\n",
              "      <td>0.0</td>\n",
              "      <td>0 / 481</td>\n",
              "    </tr>\n",
              "    <tr>\n",
              "      <th>9</th>\n",
              "      <td>0.0</td>\n",
              "      <td>0.0</td>\n",
              "      <td>0.0</td>\n",
              "      <td>0.0</td>\n",
              "      <td>0.0</td>\n",
              "      <td>0.0</td>\n",
              "      <td>0.0</td>\n",
              "      <td>0.0</td>\n",
              "      <td>0.0</td>\n",
              "      <td>468.0</td>\n",
              "      <td>0.0</td>\n",
              "      <td>0.0</td>\n",
              "      <td>0.0</td>\n",
              "      <td>0.0</td>\n",
              "      <td>0.0</td>\n",
              "      <td>0.0</td>\n",
              "      <td>0.0</td>\n",
              "      <td>0.0</td>\n",
              "      <td>0.0</td>\n",
              "      <td>0.0</td>\n",
              "      <td>0.0</td>\n",
              "      <td>0.0</td>\n",
              "      <td>0.0</td>\n",
              "      <td>0 / 468</td>\n",
              "    </tr>\n",
              "    <tr>\n",
              "      <th>10</th>\n",
              "      <td>0.0</td>\n",
              "      <td>0.0</td>\n",
              "      <td>0.0</td>\n",
              "      <td>0.0</td>\n",
              "      <td>0.0</td>\n",
              "      <td>0.0</td>\n",
              "      <td>0.0</td>\n",
              "      <td>0.0</td>\n",
              "      <td>0.0</td>\n",
              "      <td>0.0</td>\n",
              "      <td>500.0</td>\n",
              "      <td>0.0</td>\n",
              "      <td>0.0</td>\n",
              "      <td>0.0</td>\n",
              "      <td>0.0</td>\n",
              "      <td>0.0</td>\n",
              "      <td>0.0</td>\n",
              "      <td>0.0</td>\n",
              "      <td>0.0</td>\n",
              "      <td>0.0</td>\n",
              "      <td>0.0</td>\n",
              "      <td>0.0</td>\n",
              "      <td>0.0</td>\n",
              "      <td>0 / 500</td>\n",
              "    </tr>\n",
              "    <tr>\n",
              "      <th>11</th>\n",
              "      <td>0.0</td>\n",
              "      <td>0.0</td>\n",
              "      <td>0.0</td>\n",
              "      <td>0.0</td>\n",
              "      <td>0.0</td>\n",
              "      <td>0.0</td>\n",
              "      <td>0.0</td>\n",
              "      <td>0.0</td>\n",
              "      <td>0.0</td>\n",
              "      <td>0.0</td>\n",
              "      <td>0.0</td>\n",
              "      <td>474.0</td>\n",
              "      <td>0.0</td>\n",
              "      <td>0.0</td>\n",
              "      <td>0.0</td>\n",
              "      <td>0.0</td>\n",
              "      <td>0.0</td>\n",
              "      <td>0.0</td>\n",
              "      <td>0.0</td>\n",
              "      <td>0.0</td>\n",
              "      <td>0.0</td>\n",
              "      <td>0.0</td>\n",
              "      <td>0.0</td>\n",
              "      <td>0 / 474</td>\n",
              "    </tr>\n",
              "    <tr>\n",
              "      <th>12</th>\n",
              "      <td>0.0</td>\n",
              "      <td>0.0</td>\n",
              "      <td>0.0</td>\n",
              "      <td>0.0</td>\n",
              "      <td>0.0</td>\n",
              "      <td>0.0</td>\n",
              "      <td>0.0</td>\n",
              "      <td>0.0</td>\n",
              "      <td>0.0</td>\n",
              "      <td>0.0</td>\n",
              "      <td>0.0</td>\n",
              "      <td>0.0</td>\n",
              "      <td>453.0</td>\n",
              "      <td>0.0</td>\n",
              "      <td>0.0</td>\n",
              "      <td>0.0</td>\n",
              "      <td>0.0</td>\n",
              "      <td>0.0</td>\n",
              "      <td>0.0</td>\n",
              "      <td>0.0</td>\n",
              "      <td>0.0</td>\n",
              "      <td>0.0</td>\n",
              "      <td>0.0</td>\n",
              "      <td>0 / 453</td>\n",
              "    </tr>\n",
              "    <tr>\n",
              "      <th>13</th>\n",
              "      <td>0.0</td>\n",
              "      <td>0.0</td>\n",
              "      <td>0.0</td>\n",
              "      <td>0.0</td>\n",
              "      <td>0.0</td>\n",
              "      <td>0.0</td>\n",
              "      <td>0.0</td>\n",
              "      <td>0.0</td>\n",
              "      <td>0.0</td>\n",
              "      <td>0.0</td>\n",
              "      <td>0.0</td>\n",
              "      <td>0.0</td>\n",
              "      <td>0.0</td>\n",
              "      <td>495.0</td>\n",
              "      <td>0.0</td>\n",
              "      <td>0.0</td>\n",
              "      <td>0.0</td>\n",
              "      <td>0.0</td>\n",
              "      <td>0.0</td>\n",
              "      <td>0.0</td>\n",
              "      <td>0.0</td>\n",
              "      <td>0.0</td>\n",
              "      <td>0.0</td>\n",
              "      <td>0 / 495</td>\n",
              "    </tr>\n",
              "    <tr>\n",
              "      <th>14</th>\n",
              "      <td>0.0</td>\n",
              "      <td>0.0</td>\n",
              "      <td>0.0</td>\n",
              "      <td>0.0</td>\n",
              "      <td>0.0</td>\n",
              "      <td>0.0</td>\n",
              "      <td>0.0</td>\n",
              "      <td>0.0</td>\n",
              "      <td>0.0</td>\n",
              "      <td>0.0</td>\n",
              "      <td>0.0</td>\n",
              "      <td>0.0</td>\n",
              "      <td>0.0</td>\n",
              "      <td>0.0</td>\n",
              "      <td>472.0</td>\n",
              "      <td>0.0</td>\n",
              "      <td>0.0</td>\n",
              "      <td>0.0</td>\n",
              "      <td>0.0</td>\n",
              "      <td>0.0</td>\n",
              "      <td>0.0</td>\n",
              "      <td>0.0</td>\n",
              "      <td>0.0</td>\n",
              "      <td>0 / 472</td>\n",
              "    </tr>\n",
              "    <tr>\n",
              "      <th>15</th>\n",
              "      <td>0.0</td>\n",
              "      <td>0.0</td>\n",
              "      <td>0.0</td>\n",
              "      <td>0.0</td>\n",
              "      <td>0.0</td>\n",
              "      <td>0.0</td>\n",
              "      <td>0.0</td>\n",
              "      <td>0.0</td>\n",
              "      <td>0.0</td>\n",
              "      <td>0.0</td>\n",
              "      <td>0.0</td>\n",
              "      <td>0.0</td>\n",
              "      <td>0.0</td>\n",
              "      <td>0.0</td>\n",
              "      <td>0.0</td>\n",
              "      <td>461.0</td>\n",
              "      <td>0.0</td>\n",
              "      <td>0.0</td>\n",
              "      <td>0.0</td>\n",
              "      <td>0.0</td>\n",
              "      <td>0.0</td>\n",
              "      <td>0.0</td>\n",
              "      <td>0.0</td>\n",
              "      <td>0 / 461</td>\n",
              "    </tr>\n",
              "    <tr>\n",
              "      <th>16</th>\n",
              "      <td>0.0</td>\n",
              "      <td>0.0</td>\n",
              "      <td>0.0</td>\n",
              "      <td>0.0</td>\n",
              "      <td>0.0</td>\n",
              "      <td>0.0</td>\n",
              "      <td>0.0</td>\n",
              "      <td>0.0</td>\n",
              "      <td>0.0</td>\n",
              "      <td>0.0</td>\n",
              "      <td>0.0</td>\n",
              "      <td>0.0</td>\n",
              "      <td>0.0</td>\n",
              "      <td>0.0</td>\n",
              "      <td>0.0</td>\n",
              "      <td>0.0</td>\n",
              "      <td>436.0</td>\n",
              "      <td>0.0</td>\n",
              "      <td>0.0</td>\n",
              "      <td>0.0</td>\n",
              "      <td>0.0</td>\n",
              "      <td>0.0</td>\n",
              "      <td>0.0</td>\n",
              "      <td>0 / 436</td>\n",
              "    </tr>\n",
              "    <tr>\n",
              "      <th>17</th>\n",
              "      <td>0.0</td>\n",
              "      <td>0.0</td>\n",
              "      <td>0.0</td>\n",
              "      <td>0.0</td>\n",
              "      <td>0.0</td>\n",
              "      <td>0.0</td>\n",
              "      <td>0.0</td>\n",
              "      <td>0.0</td>\n",
              "      <td>0.0</td>\n",
              "      <td>0.0</td>\n",
              "      <td>0.0</td>\n",
              "      <td>0.0</td>\n",
              "      <td>0.0</td>\n",
              "      <td>0.0</td>\n",
              "      <td>0.0</td>\n",
              "      <td>0.0</td>\n",
              "      <td>0.0</td>\n",
              "      <td>457.0</td>\n",
              "      <td>0.0</td>\n",
              "      <td>0.0</td>\n",
              "      <td>0.0</td>\n",
              "      <td>0.0</td>\n",
              "      <td>0.0</td>\n",
              "      <td>0 / 457</td>\n",
              "    </tr>\n",
              "    <tr>\n",
              "      <th>18</th>\n",
              "      <td>0.0</td>\n",
              "      <td>0.0</td>\n",
              "      <td>0.0</td>\n",
              "      <td>0.0</td>\n",
              "      <td>0.0</td>\n",
              "      <td>0.0</td>\n",
              "      <td>0.0</td>\n",
              "      <td>0.0</td>\n",
              "      <td>0.0</td>\n",
              "      <td>0.0</td>\n",
              "      <td>0.0</td>\n",
              "      <td>0.0</td>\n",
              "      <td>0.0</td>\n",
              "      <td>0.0</td>\n",
              "      <td>0.0</td>\n",
              "      <td>0.0</td>\n",
              "      <td>0.0</td>\n",
              "      <td>0.0</td>\n",
              "      <td>376.0</td>\n",
              "      <td>0.0</td>\n",
              "      <td>0.0</td>\n",
              "      <td>0.0</td>\n",
              "      <td>0.0</td>\n",
              "      <td>0 / 376</td>\n",
              "    </tr>\n",
              "    <tr>\n",
              "      <th>19</th>\n",
              "      <td>0.0</td>\n",
              "      <td>0.0</td>\n",
              "      <td>0.0</td>\n",
              "      <td>0.0</td>\n",
              "      <td>0.0</td>\n",
              "      <td>0.0</td>\n",
              "      <td>0.0</td>\n",
              "      <td>0.0</td>\n",
              "      <td>0.0</td>\n",
              "      <td>0.0</td>\n",
              "      <td>0.0</td>\n",
              "      <td>0.0</td>\n",
              "      <td>0.0</td>\n",
              "      <td>0.0</td>\n",
              "      <td>0.0</td>\n",
              "      <td>0.0</td>\n",
              "      <td>0.0</td>\n",
              "      <td>0.0</td>\n",
              "      <td>0.0</td>\n",
              "      <td>311.0</td>\n",
              "      <td>0.0</td>\n",
              "      <td>0.0</td>\n",
              "      <td>0.0</td>\n",
              "      <td>0 / 311</td>\n",
              "    </tr>\n",
              "  </tbody>\n",
              "</table>\n",
              "</div>"
            ],
            "text/plain": [
              "        0      1      2      3      4  ...     19  115  460  Error     Rate\n",
              "0   388.0    0.0    0.0    0.0    0.0  ...    0.0  0.0  0.0    0.0  0 / 388\n",
              "1     0.0  457.0    0.0    0.0    0.0  ...    0.0  0.0  0.0    0.0  0 / 457\n",
              "2     0.0    0.0  461.0    0.0    0.0  ...    0.0  0.0  0.0    0.0  0 / 461\n",
              "3     0.0    0.0    0.0  477.0    0.0  ...    0.0  0.0  0.0    0.0  0 / 477\n",
              "4     0.0    0.0    0.0    0.0  473.0  ...    0.0  0.0  0.0    0.0  0 / 473\n",
              "5     0.0    0.0    0.0    0.0    0.0  ...    0.0  0.0  0.0    0.0  0 / 464\n",
              "6     0.0    0.0    0.0    0.0    0.0  ...    0.0  0.0  0.0    0.0  0 / 474\n",
              "7     0.0    0.0    0.0    0.0    0.0  ...    0.0  0.0  0.0    0.0  0 / 472\n",
              "8     0.0    0.0    0.0    0.0    0.0  ...    0.0  0.0  0.0    0.0  0 / 481\n",
              "9     0.0    0.0    0.0    0.0    0.0  ...    0.0  0.0  0.0    0.0  0 / 468\n",
              "10    0.0    0.0    0.0    0.0    0.0  ...    0.0  0.0  0.0    0.0  0 / 500\n",
              "11    0.0    0.0    0.0    0.0    0.0  ...    0.0  0.0  0.0    0.0  0 / 474\n",
              "12    0.0    0.0    0.0    0.0    0.0  ...    0.0  0.0  0.0    0.0  0 / 453\n",
              "13    0.0    0.0    0.0    0.0    0.0  ...    0.0  0.0  0.0    0.0  0 / 495\n",
              "14    0.0    0.0    0.0    0.0    0.0  ...    0.0  0.0  0.0    0.0  0 / 472\n",
              "15    0.0    0.0    0.0    0.0    0.0  ...    0.0  0.0  0.0    0.0  0 / 461\n",
              "16    0.0    0.0    0.0    0.0    0.0  ...    0.0  0.0  0.0    0.0  0 / 436\n",
              "17    0.0    0.0    0.0    0.0    0.0  ...    0.0  0.0  0.0    0.0  0 / 457\n",
              "18    0.0    0.0    0.0    0.0    0.0  ...    0.0  0.0  0.0    0.0  0 / 376\n",
              "19    0.0    0.0    0.0    0.0    0.0  ...  311.0  0.0  0.0    0.0  0 / 311\n",
              "\n",
              "[20 rows x 24 columns]"
            ]
          },
          "metadata": {
            "tags": []
          }
        },
        {
          "output_type": "stream",
          "text": [
            "\n",
            "See the whole table with table.as_data_frame()\n"
          ],
          "name": "stdout"
        },
        {
          "output_type": "execute_result",
          "data": {
            "text/plain": [
              ""
            ]
          },
          "metadata": {
            "tags": []
          },
          "execution_count": 35
        }
      ]
    },
    {
      "cell_type": "code",
      "metadata": {
        "id": "qORWMUvFWzHt",
        "colab_type": "code",
        "colab": {}
      },
      "source": [
        ""
      ],
      "execution_count": 0,
      "outputs": []
    }
  ]
}