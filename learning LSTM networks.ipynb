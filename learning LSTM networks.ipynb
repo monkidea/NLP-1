{
    "metadata": {
        "language_info": {
            "codemirror_mode": {
                "name": "ipython", 
                "version": 2
            }, 
            "pygments_lexer": "ipython2", 
            "file_extension": ".py", 
            "name": "python", 
            "version": "2.7.11", 
            "mimetype": "text/x-python", 
            "nbconvert_exporter": "python"
        }, 
        "kernelspec": {
            "language": "python", 
            "display_name": "Python 2 with Spark 2.1", 
            "name": "python2-spark21"
        }
    }, 
    "nbformat": 4, 
    "cells": [
        {
            "metadata": {}, 
            "execution_count": 5, 
            "cell_type": "code", 
            "source": "from pandas import Series\nfrom sklearn.preprocessing import MinMaxScaler\n# define contrived series\ndata = [10.0, 20.0, 30.0, 40.0, 50.0, 60.0, 70.0, 80.0, 90.0, 100.0]\nseries = Series(data)\nprint(\"series\")\nprint(series)\n\n# prepare data for normalization\nvalues = series.values\nvalues = values.reshape((len(values), 1))\n\n# train the normalization \nscaler = MinMaxScaler(feature_range=(0, 1))\nscaler = scaler.fit(values)\nprint('Min: %f, Max: %f' % (scaler.data_min_, scaler.data_max_))\n# normalize the dataset and print\nnormalized = scaler.transform(values)\n\nprint(\"normalized\")\nprint(normalized)\n\n# inverse transform and print\n# invert as in spread the normalised set of values back to the usual range\ninversed = scaler.inverse_transform(normalized)\nprint(\"inversed\")\n\nprint(inversed)", 
            "outputs": [
                {
                    "name": "stdout", 
                    "output_type": "stream", 
                    "text": "series\n0     10\n1     20\n2     30\n3     40\n4     50\n5     60\n6     70\n7     80\n8     90\n9    100\ndtype: float64\nMin: 10.000000, Max: 100.000000\nnormalized\n[[ 0.        ]\n [ 0.11111111]\n [ 0.22222222]\n [ 0.33333333]\n [ 0.44444444]\n [ 0.55555556]\n [ 0.66666667]\n [ 0.77777778]\n [ 0.88888889]\n [ 1.        ]]\ninversed\n[[  10.]\n [  20.]\n [  30.]\n [  40.]\n [  50.]\n [  60.]\n [  70.]\n [  80.]\n [  90.]\n [ 100.]]\n"
                }
            ]
        }, 
        {
            "metadata": {}, 
            "execution_count": 6, 
            "cell_type": "code", 
            "source": "from pandas import Series\nfrom sklearn.preprocessing import StandardScaler\nfrom math import sqrt\n# define contrived series\ndata = [1.0, 5.5, 9.0, 2.6, 8.8, 3.0, 4.1, 7.9, 6.3]\nseries = Series(data)\nprint(series)\n# prepare data for normalization\nvalues = series.values\nvalues = values.reshape((len(values), 1))\n# train the normalization\nscaler = StandardScaler()\nscaler = scaler.fit(values)\nprint('Mean: %f, StandardDeviation: %f' % (scaler.mean_, sqrt(scaler.var_)))\n# normalize the dataset and print\nstandardized = scaler.transform(values)\nprint(standardized)\n# inverse transform and print\ninversed = scaler.inverse_transform(standardized)\nprint(inversed)\n\n# Standardisation as opposed to normalisation above \n# brings the data with mean 0 and sd =1", 
            "outputs": [
                {
                    "name": "stdout", 
                    "output_type": "stream", 
                    "text": "0    1.0\n1    5.5\n2    9.0\n3    2.6\n4    8.8\n5    3.0\n6    4.1\n7    7.9\n8    6.3\ndtype: float64\nMean: 5.355556, StandardDeviation: 2.712568\n[[-1.60569456]\n [ 0.05325007]\n [ 1.34354035]\n [-1.01584758]\n [ 1.26980948]\n [-0.86838584]\n [-0.46286604]\n [ 0.93802055]\n [ 0.34817357]]\n[[ 1. ]\n [ 5.5]\n [ 9. ]\n [ 2.6]\n [ 8.8]\n [ 3. ]\n [ 4.1]\n [ 7.9]\n [ 6.3]]\n"
                }
            ]
        }, 
        {
            "metadata": {}, 
            "execution_count": 4, 
            "cell_type": "code", 
            "source": "from numpy import array\nfrom numpy import argmax\nfrom sklearn.preprocessing import LabelEncoder\nfrom sklearn.preprocessing import OneHotEncoder\n# define example\ndata = ['cold', 'cold', 'warm', 'cold', 'hot', 'hot', 'warm', 'cold', 'warm', 'hot']\nvalues = array(data)\nprint(\"**values**\")\nprint(values)\n\n\n# integer encode\nlabel_encoder = LabelEncoder()\ninteger_encoded = label_encoder.fit_transform(values)\nprint(\"**integer_encoded**\")\nprint(integer_encoded)\n\n# binary encode\nonehot_encoder = OneHotEncoder(sparse=False)\ninteger_encoded = integer_encoded.reshape(len(integer_encoded), 1)\nonehot_encoded = onehot_encoder.fit_transform(integer_encoded)\nprint(\"**onehot_encoded**\")\nprint(onehot_encoded)\n\n# invert first example\ninverted = label_encoder.inverse_transform([argmax(onehot_encoded[0, :])])\nprint(\"**inverted**\")\nprint(inverted)\n", 
            "outputs": [
                {
                    "name": "stdout", 
                    "output_type": "stream", 
                    "text": "**values**\n['cold' 'cold' 'warm' 'cold' 'hot' 'hot' 'warm' 'cold' 'warm' 'hot']\n**integer_encoded**\n[0 0 2 0 1 1 2 0 2 1]\n**onehot_encoded**\n[[ 1.  0.  0.]\n [ 1.  0.  0.]\n [ 0.  0.  1.]\n [ 1.  0.  0.]\n [ 0.  1.  0.]\n [ 0.  1.  0.]\n [ 0.  0.  1.]\n [ 1.  0.  0.]\n [ 0.  0.  1.]\n [ 0.  1.  0.]]\n**inverted**\n['cold']\n"
                }
            ]
        }, 
        {
            "metadata": {}, 
            "execution_count": 5, 
            "cell_type": "code", 
            "source": "# adjusting padding sequences of varied length\nfrom keras.preprocessing.sequence import pad_sequences\n# define sequences\nsequences = [\n[1, 2, 3, 4],\n[1, 2, 3],\n[1]\n]\n# pad sequence\npadded = pad_sequences(sequences)\nprint(padded)", 
            "outputs": [
                {
                    "name": "stderr", 
                    "output_type": "stream", 
                    "text": "Using TensorFlow backend.\n"
                }, 
                {
                    "name": "stdout", 
                    "output_type": "stream", 
                    "text": "[[1 2 3 4]\n [0 1 2 3]\n [0 0 0 1]]\n"
                }
            ]
        }, 
        {
            "metadata": {}, 
            "execution_count": 6, 
            "cell_type": "code", 
            "source": "from keras.preprocessing.sequence import pad_sequences\n# define sequences\nsequences = [\n[1, 2, 3, 4],\n[1, 2, 3],\n[1]\n]\n# pad sequence\npadded = pad_sequences(sequences, padding='post')\nprint(padded)\n# pre seq padding is the default", 
            "outputs": [
                {
                    "name": "stdout", 
                    "output_type": "stream", 
                    "text": "[[1 2 3 4]\n [1 2 3 0]\n [1 0 0 0]]\n"
                }
            ]
        }, 
        {
            "metadata": {}, 
            "execution_count": 8, 
            "cell_type": "code", 
            "source": "from keras.preprocessing.sequence import pad_sequences\n# define sequences\nsequences = [\n[1, 2, 3, 4],\n[1, 2, 3],\n[1]\n]\n#truncate sequence\ntruncated= pad_sequences(sequences, maxlen=2)\nprint(truncated)\n#the pad sequences handles the truncation when the max len is set to 2", 
            "outputs": [
                {
                    "name": "stdout", 
                    "output_type": "stream", 
                    "text": "[[3 4]\n [2 3]\n [0 1]]\n"
                }
            ]
        }, 
        {
            "metadata": {}, 
            "execution_count": 10, 
            "cell_type": "code", 
            "source": "truncated= pad_sequences(sequences, maxlen=2, truncating='post')\nprint(truncated)\n# truncation default is pre.. ", 
            "outputs": [
                {
                    "name": "stdout", 
                    "output_type": "stream", 
                    "text": "[[1 2]\n [1 2]\n [0 1]]\n"
                }
            ]
        }, 
        {
            "metadata": {}, 
            "execution_count": 11, 
            "cell_type": "code", 
            "source": "from pandas import DataFrame\n# define the sequence\ndf = DataFrame()\ndf['t'] = [x for x in range(10)]\nprint(df)", 
            "outputs": [
                {
                    "name": "stdout", 
                    "output_type": "stream", 
                    "text": "   t\n0  0\n1  1\n2  2\n3  3\n4  4\n5  5\n6  6\n7  7\n8  8\n9  9\n"
                }
            ]
        }, 
        {
            "metadata": {}, 
            "execution_count": 12, 
            "cell_type": "code", 
            "source": "# the shift funciton.. useful in LSTM.\nfrom pandas import DataFrame\n# define the sequence\ndf = DataFrame()\ndf['t'] = [x for x in range(10)]\n# shift forward\ndf['t-1'] = df['t'].shift(1)\n#create a new column.. t-1.. and populate it with contentes of t\n# shifted by 1 place\nprint(df)", 
            "outputs": [
                {
                    "name": "stdout", 
                    "output_type": "stream", 
                    "text": "   t  t-1\n0  0  NaN\n1  1    0\n2  2    1\n3  3    2\n4  4    3\n5  5    4\n6  6    5\n7  7    6\n8  8    7\n9  9    8\n"
                }
            ]
        }, 
        {
            "metadata": {}, 
            "execution_count": 13, 
            "cell_type": "code", 
            "source": "df['t+1'] = df['t'].shift(-1)\nprint(df)\n# create a new column.. populate it it with t.. shifted by -1 places", 
            "outputs": [
                {
                    "name": "stdout", 
                    "output_type": "stream", 
                    "text": "   t  t-1  t+1\n0  0  NaN    1\n1  1    0    2\n2  2    1    3\n3  3    2    4\n4  4    3    5\n5  5    4    6\n6  6    5    7\n7  7    6    8\n8  8    7    9\n9  9    8  NaN\n"
                }
            ]
        }, 
        {
            "metadata": {}, 
            "execution_count": 14, 
            "cell_type": "code", 
            "source": "from numpy import array\ndata = array([\n[0.1, 1.0],\n[0.2, 0.9],\n[0.3, 0.8],\n[0.4, 0.7],\n[0.5, 0.6],\n[0.6, 0.5],\n[0.7, 0.4],\n[0.8, 0.3],\n[0.9, 0.2],\n[1.0, 0.1]])\ndata = data.reshape(1, 10, 2)\nprint(data.shape)", 
            "outputs": [
                {
                    "name": "stdout", 
                    "output_type": "stream", 
                    "text": "(1, 10, 2)\n"
                }
            ]
        }, 
        {
            "metadata": {}, 
            "execution_count": 23, 
            "cell_type": "code", 
            "source": "data[:,3:6,1:2]", 
            "outputs": [
                {
                    "metadata": {}, 
                    "data": {
                        "text/plain": "array([[[ 0.7],\n        [ 0.6],\n        [ 0.5]]])"
                    }, 
                    "execution_count": 23, 
                    "output_type": "execute_result"
                }
            ]
        }, 
        {
            "metadata": {}, 
            "execution_count": 17, 
            "cell_type": "code", 
            "source": "data1 = array([\n[0.1, 1.0],\n[0.2, 0.9],\n[0.3, 0.8],\n[0.4, 0.7],\n[0.5, 0.6],\n[0.6, 0.5],\n[0.7, 0.4],\n[0.8, 0.3],\n[0.9, 0.2],\n[1.0, 0.1]])\nprint data1.shape", 
            "outputs": [
                {
                    "name": "stdout", 
                    "output_type": "stream", 
                    "text": "(10, 2)\n"
                }
            ]
        }, 
        {
            "metadata": {}, 
            "execution_count": null, 
            "cell_type": "code", 
            "source": "", 
            "outputs": []
        }, 
        {
            "metadata": {}, 
            "execution_count": null, 
            "cell_type": "code", 
            "source": "", 
            "outputs": []
        }, 
        {
            "metadata": {}, 
            "execution_count": null, 
            "cell_type": "code", 
            "source": "", 
            "outputs": []
        }, 
        {
            "metadata": {}, 
            "execution_count": null, 
            "cell_type": "code", 
            "source": "", 
            "outputs": []
        }
    ], 
    "nbformat_minor": 1
}