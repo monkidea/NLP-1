{
    "metadata": {
        "language_info": {
            "codemirror_mode": {
                "name": "ipython", 
                "version": 2
            }, 
            "pygments_lexer": "ipython2", 
            "file_extension": ".py", 
            "name": "python", 
            "version": "2.7.11", 
            "mimetype": "text/x-python", 
            "nbconvert_exporter": "python"
        }, 
        "kernelspec": {
            "language": "python", 
            "display_name": "Python 2 with Spark 2.1", 
            "name": "python2-spark21"
        }
    }, 
    "nbformat": 4, 
    "cells": [
        {
            "metadata": {}, 
            "execution_count": 1, 
            "cell_type": "code", 
            "source": "import numpy\nfrom keras.datasets import imdb\nfrom matplotlib import pyplot\n# load the dataset\n(X_train, y_train), (X_test, y_test) = imdb.load_data()\nX = numpy.concatenate((X_train, X_test), axis=0)\ny = numpy.concatenate((y_train, y_test), axis=0)", 
            "outputs": [
                {
                    "name": "stderr", 
                    "output_type": "stream", 
                    "text": "Using TensorFlow backend.\n"
                }, 
                {
                    "name": "stdout", 
                    "output_type": "stream", 
                    "text": "Downloading data from https://s3.amazonaws.com/text-datasets/imdb.npz\n17457152/17464789 [============================>.] - ETA: 0s"
                }
            ]
        }, 
        {
            "metadata": {}, 
            "execution_count": 2, 
            "cell_type": "code", 
            "source": "\nprint(X.shape)\nprint(y.shape)", 
            "outputs": [
                {
                    "name": "stdout", 
                    "output_type": "stream", 
                    "text": "(50000,)\n(50000,)\n"
                }
            ]
        }, 
        {
            "metadata": {}, 
            "execution_count": 3, 
            "cell_type": "code", 
            "source": "print(numpy.unique(y))", 
            "outputs": [
                {
                    "name": "stdout", 
                    "output_type": "stream", 
                    "text": "[0 1]\n"
                }
            ]
        }, 
        {
            "metadata": {}, 
            "execution_count": 4, 
            "cell_type": "code", 
            "source": "print(len(numpy.unique(numpy.hstack(X))))", 
            "outputs": [
                {
                    "name": "stdout", 
                    "output_type": "stream", 
                    "text": "88585\n"
                }
            ]
        }, 
        {
            "metadata": {}, 
            "execution_count": 6, 
            "cell_type": "code", 
            "source": "#print(len(numpy.unique(numpy.vstack(X))))\n#hstack due to axis mismatch", 
            "outputs": []
        }, 
        {
            "metadata": {}, 
            "execution_count": 7, 
            "cell_type": "code", 
            "source": "# Summarize review length\nprint(\"Review length: \")\nresult = map(len, X)\nprint(\"Mean %.2f words (%f)\" % (numpy.mean(result), numpy.std(result)))\n# plot review length as a boxplot and histogram\npyplot.subplot(121)\npyplot.boxplot(result)\npyplot.subplot(122)\npyplot.hist(result)\npyplot.show()", 
            "outputs": [
                {
                    "name": "stdout", 
                    "output_type": "stream", 
                    "text": "Review length: \nMean 234.76 words (172.911495)\n"
                }, 
                {
                    "metadata": {}, 
                    "data": {
                        "text/plain": "<matplotlib.figure.Figure at 0x7f98fd12ea50>", 
                        "image/png": "[encoded data removed]"
                    }, 
                    "output_type": "display_data"
                }
            ]
        }, 
        {
            "metadata": {}, 
            "execution_count": 9, 
            "cell_type": "code", 
            "source": "# MLP for the IMDB problem\nimport numpy\nfrom keras.datasets import imdb\nfrom keras.models import Sequential\nfrom keras.layers import Dense\nfrom keras.layers import Flatten\nfrom keras.layers.embeddings import Embedding\nfrom keras.preprocessing import sequence\n# fix random seed for reproducibility\nseed = 7\nnumpy.random.seed(seed)\n", 
            "outputs": []
        }, 
        {
            "metadata": {}, 
            "execution_count": 10, 
            "cell_type": "code", 
            "source": "# load the dataset but only keep the top n words, zero the rest\ntop_words = 5000\n(X_train, y_train), (X_test, y_test) = imdb.load_data(num_words=top_words)", 
            "outputs": []
        }, 
        {
            "metadata": {}, 
            "execution_count": 19, 
            "cell_type": "code", 
            "source": "X_train[0:22,0:20]", 
            "outputs": [
                {
                    "metadata": {}, 
                    "data": {
                        "text/plain": "array([[   0,    0,    0,    0,    0,    0,    0,    0,    0,    0,    0,\n           0,    0,    0,    0,    0,    0,    0,    0,    0],\n       [   0,    0,    0,    0,    0,    0,    0,    0,    0,    0,    0,\n           0,    0,    0,    0,    0,    0,    0,    0,    0],\n       [   0,    0,    0,    0,    0,    0,    0,    0,    0,    0,    0,\n           0,    0,    0,    0,    0,    0,    0,    0,    0],\n       [ 687,   23,    4,    2,    2,    6, 3693,   42,   38,   39,  121,\n          59,  456,   10,   10,    7,  265,   12,  575,  111],\n       [   0,    0,    0,    0,    0,    0,    0,    0,    0,    0,    0,\n           0,    0,    0,    0,    0,    0,    0,    0,    0],\n       [   0,    0,    0,    0,    0,    0,    0,    0,    0,    0,    0,\n           0,    0,    0,    0,    0,    0,    0,    0,    0],\n       [   0,    0,    0,    0,    0,    0,    0,    0,    0,    0,    0,\n           0,    0,    0,    0,    0,    0,    0,    0,    0],\n       [   4, 3231,  152,  339,    2,   42, 4869,    2,    2,  345, 4804,\n           2,  142,   43,  218,  208,   54,   29,  853,  659],\n       [   0,    0,    0,    0,    0,    0,    0,    0,    0,    0,    0,\n           0,    0,    0,    0,    0,    0,    0,    0,    0],\n       [   0,    0,    0,    0,    0,    0,    0,    0,    0,    0,    0,\n           0,    0,    0,    0,    0,    0,    0,    0,    0],\n       [   0,    0,    0,    0,    0,    0,    0,    0,    0,    0,    0,\n           0,    0,    0,    0,    0,    0,    0,    0,    0],\n       [   0,    0,    0,    0,    0,    0,    0,    0,    0,    0,    0,\n           0,    0,    0,    0,    0,    0,    0,    0,    0],\n       [   0,    0,    0,    0,    0,    0,    0,    0,    0,    0,    0,\n           0,    0,    0,    0,    0,    0,    0,    0,    0],\n       [   0,    0,    0,    0,    0,    0,    0,    0,    0,    0,    0,\n           0,    0,    0,    0,    0,    0,    0,    0,    0],\n       [   0,    0,    0,    0,    0,    0,    0,    0,    0,    0,    0,\n           0,    0,    0,    0,    0,    0,    0,    0,    0],\n       [   0,    0,    0,    0,    0,    0,    0,    0,    0,    0,    0,\n           0,    0,    0,    0,    0,    0,    0,    0,    0],\n       [   0,    0,    0,    0,    0,    0,    0,    0,    0,    0,    0,\n           0,    0,    0,    0,    0,    0,    0,    0,    0],\n       [  16,    4,    2,    2,  678, 1701,    4,  530,    2, 3770,   37,\n           2,   98,   32,   17,    2,   27, 4185,   33,   24],\n       [   0,    0,    0,    0,    0,    0,    0,    0,    0,    0,    0,\n           0,    0,    0,    0,    0,    0,    0,    0,    0],\n       [   0,    0,    0,    0,    0,    0,    0,    0,    0,    0,    0,\n           0,    0,    0,    0,    0,    0,    0,    0,    0],\n       [   0,    0,    0,    0,    0,    0,    0,    0,    0,    0,    0,\n           0,    0,    0,    0,    0,    0,    0,    0,    0],\n       [   0,    0,    0,    0,    0,    0,    0,    0,    0,    0,    0,\n           0,    0,    0,    0,    0,    0,    0,    0,    0]], dtype=int32)"
                    }, 
                    "execution_count": 19, 
                    "output_type": "execute_result"
                }
            ]
        }, 
        {
            "metadata": {}, 
            "execution_count": 11, 
            "cell_type": "code", 
            "source": "max_words = 500\nX_train = sequence.pad_sequences(X_train, maxlen=max_words)\nX_test = sequence.pad_sequences(X_test, maxlen=max_words)\n\n# restrict reviews to 500 owrds.. longer ones are truncated ..shorter ones padded..", 
            "outputs": []
        }, 
        {
            "metadata": {}, 
            "execution_count": 12, 
            "cell_type": "code", 
            "source": "# create the model\nmodel = Sequential()\nmodel.add(Embedding(top_words, 32, input_length=max_words)) #Embedding\n#Turns positive integers (indexes) into dense vectors of fixed size\nmodel.add(Flatten())\nmodel.add(Dense(250, activation='relu'))\nmodel.add(Dense(1, activation='sigmoid'))\nmodel.compile(loss='binary_crossentropy', optimizer='adam', metrics=['accuracy'])\nprint(model.summary())", 
            "outputs": [
                {
                    "name": "stdout", 
                    "output_type": "stream", 
                    "text": "_________________________________________________________________\nLayer (type)                 Output Shape              Param #   \n=================================================================\nembedding_1 (Embedding)      (None, 500, 32)           160000    \n_________________________________________________________________\nflatten_1 (Flatten)          (None, 16000)             0         \n_________________________________________________________________\ndense_1 (Dense)              (None, 250)               4000250   \n_________________________________________________________________\ndense_2 (Dense)              (None, 1)                 251       \n=================================================================\nTotal params: 4,160,501\nTrainable params: 4,160,501\nNon-trainable params: 0\n_________________________________________________________________\nNone\n"
                }
            ]
        }, 
        {
            "metadata": {}, 
            "execution_count": 13, 
            "cell_type": "code", 
            "source": "# Fit the model\nmodel.fit(X_train, y_train, validation_data=(X_test, y_test), epochs=2, batch_size=128,verbose=1)", 
            "outputs": [
                {
                    "name": "stdout", 
                    "output_type": "stream", 
                    "text": "Train on 25000 samples, validate on 25000 samples\nEpoch 1/2\n25000/25000 [==============================] - 42s - loss: 0.5206 - acc: 0.7051 - val_loss: 0.2974 - val_acc: 0.8722\nEpoch 2/2\n25000/25000 [==============================] - 41s - loss: 0.1936 - acc: 0.9240 - val_loss: 0.3187 - val_acc: 0.8675\n"
                }, 
                {
                    "metadata": {}, 
                    "data": {
                        "text/plain": "<keras.callbacks.History at 0x7f98fd7159d0>"
                    }, 
                    "execution_count": 13, 
                    "output_type": "execute_result"
                }
            ]
        }, 
        {
            "metadata": {}, 
            "execution_count": 14, 
            "cell_type": "code", 
            "source": "# Final evaluation of the model\nscores = model.evaluate(X_test, y_test, verbose=0)\nprint(\"Accuracy: %.2f%%\" % (scores[1]*100))", 
            "outputs": [
                {
                    "name": "stdout", 
                    "output_type": "stream", 
                    "text": "Accuracy: 86.75%\n"
                }
            ]
        }, 
        {
            "metadata": {}, 
            "execution_count": 15, 
            "cell_type": "code", 
            "source": "X_train.shape", 
            "outputs": [
                {
                    "metadata": {}, 
                    "data": {
                        "text/plain": "(25000, 500)"
                    }, 
                    "execution_count": 15, 
                    "output_type": "execute_result"
                }
            ]
        }, 
        {
            "metadata": {}, 
            "execution_count": 17, 
            "cell_type": "code", 
            "source": "X_train[0:2,0:20]", 
            "outputs": [
                {
                    "metadata": {}, 
                    "data": {
                        "text/plain": "array([[0, 0, 0, 0, 0, 0, 0, 0, 0, 0, 0, 0, 0, 0, 0, 0, 0, 0, 0, 0],\n       [0, 0, 0, 0, 0, 0, 0, 0, 0, 0, 0, 0, 0, 0, 0, 0, 0, 0, 0, 0]], dtype=int32)"
                    }, 
                    "execution_count": 17, 
                    "output_type": "execute_result"
                }
            ]
        }, 
        {
            "metadata": {}, 
            "execution_count": 20, 
            "cell_type": "code", 
            "source": "#1D CNN\n# 2D CNN would honor the spatial structure in image data while being robust to the position and orientation of learned objects in the scene.\n# same priciples run the 1D etc..", 
            "outputs": []
        }, 
        {
            "metadata": {}, 
            "execution_count": 21, 
            "cell_type": "code", 
            "source": "from keras.layers.convolutional import Conv1D\nfrom keras.layers.convolutional import MaxPooling1D\n\n# create the model\nmodel = Sequential()\nmodel.add(Embedding(top_words, 32, input_length=max_words))\nmodel.add(Conv1D(filters=32, kernel_size=3, padding='same', activation='relu'))\nmodel.add(MaxPooling1D(pool_size=2))\nmodel.add(Flatten())\nmodel.add(Dense(250, activation='relu'))\nmodel.add(Dense(1, activation='sigmoid'))\nmodel.compile(loss='binary_crossentropy', optimizer='adam', metrics=['accuracy'])\nprint(model.summary())", 
            "outputs": [
                {
                    "name": "stdout", 
                    "output_type": "stream", 
                    "text": "_________________________________________________________________\nLayer (type)                 Output Shape              Param #   \n=================================================================\nembedding_2 (Embedding)      (None, 500, 32)           160000    \n_________________________________________________________________\nconv1d_1 (Conv1D)            (None, 500, 32)           3104      \n_________________________________________________________________\nmax_pooling1d_1 (MaxPooling1 (None, 250, 32)           0         \n_________________________________________________________________\nflatten_2 (Flatten)          (None, 8000)              0         \n_________________________________________________________________\ndense_3 (Dense)              (None, 250)               2000250   \n_________________________________________________________________\ndense_4 (Dense)              (None, 1)                 251       \n=================================================================\nTotal params: 2,163,605\nTrainable params: 2,163,605\nNon-trainable params: 0\n_________________________________________________________________\nNone\n"
                }
            ]
        }, 
        {
            "metadata": {}, 
            "execution_count": 22, 
            "cell_type": "code", 
            "source": "# Fit the model\nmodel.fit(X_train, y_train, validation_data=(X_test, y_test), epochs=2, batch_size=128,verbose=2)", 
            "outputs": [
                {
                    "name": "stdout", 
                    "output_type": "stream", 
                    "text": "Train on 25000 samples, validate on 25000 samples\nEpoch 1/2\n48s - loss: 0.4870 - acc: 0.7188 - val_loss: 0.2934 - val_acc: 0.8757\nEpoch 2/2\n48s - loss: 0.2359 - acc: 0.9059 - val_loss: 0.2941 - val_acc: 0.8771\n"
                }, 
                {
                    "metadata": {}, 
                    "data": {
                        "text/plain": "<keras.callbacks.History at 0x7f98d411ef90>"
                    }, 
                    "execution_count": 22, 
                    "output_type": "execute_result"
                }
            ]
        }, 
        {
            "metadata": {}, 
            "execution_count": 23, 
            "cell_type": "code", 
            "source": "# Final evaluation of the model\nscores = model.evaluate(X_test, y_test, verbose=0)", 
            "outputs": []
        }, 
        {
            "metadata": {}, 
            "execution_count": null, 
            "cell_type": "code", 
            "source": "", 
            "outputs": []
        }, 
        {
            "metadata": {}, 
            "execution_count": null, 
            "cell_type": "code", 
            "source": "", 
            "outputs": []
        }
    ], 
    "nbformat_minor": 1
}