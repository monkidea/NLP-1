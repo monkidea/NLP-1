{
    "nbformat": 4, 
    "metadata": {
        "language_info": {
            "version": "2.7.11", 
            "nbconvert_exporter": "python", 
            "name": "python", 
            "pygments_lexer": "ipython2", 
            "mimetype": "text/x-python", 
            "codemirror_mode": {
                "version": 2, 
                "name": "ipython"
            }, 
            "file_extension": ".py"
        }, 
        "kernelspec": {
            "language": "python", 
            "name": "python2-spark21", 
            "display_name": "Python 2 with Spark 2.1"
        }
    }, 
    "cells": [
        {
            "execution_count": 1, 
            "metadata": {}, 
            "source": "import numpy\nfrom pandas import read_csv\nfrom keras.models import Sequential\nfrom keras.layers import Dense\nfrom keras.wrappers.scikit_learn import KerasClassifier\nfrom keras.utils import np_utils\nfrom sklearn.model_selection import cross_val_score\nfrom sklearn.model_selection import KFold\nfrom sklearn.preprocessing import LabelEncoder\nfrom sklearn.pipeline import Pipeline", 
            "outputs": [
                {
                    "name": "stderr", 
                    "output_type": "stream", 
                    "text": "Using TensorFlow backend.\n"
                }
            ], 
            "cell_type": "code"
        }, 
        {
            "execution_count": 3, 
            "metadata": {}, 
            "source": "! rm -f iris.csv\n! wget http://archive.ics.uci.edu/ml/machine-learning-databases/iris/iris.data -O iris.csv", 
            "outputs": [
                {
                    "name": "stdout", 
                    "output_type": "stream", 
                    "text": "--2018-02-02 03:14:32--  http://archive.ics.uci.edu/ml/machine-learning-databases/iris/iris.data\nResolving archive.ics.uci.edu (archive.ics.uci.edu)... 128.195.10.249\nConnecting to archive.ics.uci.edu (archive.ics.uci.edu)|128.195.10.249|:80... connected.\nHTTP request sent, awaiting response... 200 OK\nLength: 4551 (4.4K) [text/plain]\nSaving to: \u2018iris.csv\u2019\n\n100%[======================================>] 4,551       --.-K/s   in 0s      \n\n2018-02-02 03:14:32 (400 MB/s) - \u2018iris.csv\u2019 saved [4551/4551]\n\n"
                }
            ], 
            "cell_type": "code"
        }, 
        {
            "execution_count": 4, 
            "metadata": {}, 
            "source": "# load dataset\ndataframe = read_csv(\"iris.csv\", header=None)\ndataset = dataframe.values\nX = dataset[:,0:4].astype(float)\nY = dataset[:,4]", 
            "outputs": [], 
            "cell_type": "code"
        }, 
        {
            "source": "    1 hot encoding of the required op\n    Iris-setosa\n    Iris-versicolor\n    Iris-virginica", 
            "metadata": {}, 
            "cell_type": "markdown"
        }, 
        {
            "execution_count": 5, 
            "metadata": {}, 
            "source": "# encode class values as integers\nencoder = LabelEncoder() # encode strings to integers: strings from Y the OP variable/vector\nencoder.fit(Y)\nencoded_Y = encoder.transform(Y)\n\n# convert integers to dummy variables (i.e. one hot encoded)\ndummy_y = np_utils.to_categorical(encoded_Y)", 
            "outputs": [], 
            "cell_type": "code"
        }, 
        {
            "execution_count": 6, 
            "metadata": {}, 
            "source": "type(dummy_y)", 
            "outputs": [
                {
                    "execution_count": 6, 
                    "data": {
                        "text/plain": "numpy.ndarray"
                    }, 
                    "metadata": {}, 
                    "output_type": "execute_result"
                }
            ], 
            "cell_type": "code"
        }, 
        {
            "execution_count": 11, 
            "metadata": {}, 
            "source": "dummy_y[:5]", 
            "outputs": [
                {
                    "execution_count": 11, 
                    "data": {
                        "text/plain": "array([[ 1.,  0.,  0.],\n       [ 1.,  0.,  0.],\n       [ 1.,  0.,  0.],\n       [ 1.,  0.,  0.],\n       [ 1.,  0.,  0.]])"
                    }, 
                    "metadata": {}, 
                    "output_type": "execute_result"
                }
            ], 
            "cell_type": "code"
        }, 
        {
            "execution_count": 12, 
            "metadata": {}, 
            "source": "type(encoded_Y)", 
            "outputs": [
                {
                    "execution_count": 12, 
                    "data": {
                        "text/plain": "numpy.ndarray"
                    }, 
                    "metadata": {}, 
                    "output_type": "execute_result"
                }
            ], 
            "cell_type": "code"
        }, 
        {
            "execution_count": 13, 
            "metadata": {}, 
            "source": "encoded_Y[:5]", 
            "outputs": [
                {
                    "execution_count": 13, 
                    "data": {
                        "text/plain": "array([0, 0, 0, 0, 0])"
                    }, 
                    "metadata": {}, 
                    "output_type": "execute_result"
                }
            ], 
            "cell_type": "code"
        }, 
        {
            "execution_count": 15, 
            "metadata": {}, 
            "source": "# define baseline model\ndef baseline_model():\n    # create model\n    model = Sequential()\n    model.add(Dense(8, input_dim=4, activation='relu'))\n    model.add(Dense(3, activation='softmax'))\n    # Compile model\n    model.compile(loss='categorical_crossentropy', optimizer='adam', metrics=['accuracy'])\n    return model", 
            "outputs": [], 
            "cell_type": "code"
        }, 
        {
            "execution_count": 17, 
            "metadata": {}, 
            "source": "estimator = KerasClassifier(build_fn=baseline_model, epochs=200, batch_size=5, verbose=0)", 
            "outputs": [], 
            "cell_type": "code"
        }, 
        {
            "execution_count": 19, 
            "metadata": {}, 
            "source": "kfold = KFold(n_splits=10, shuffle=True, random_state= 7)", 
            "outputs": [], 
            "cell_type": "code"
        }, 
        {
            "execution_count": 20, 
            "metadata": {
                "scrolled": true
            }, 
            "source": "results = cross_val_score(estimator, X, dummy_y, cv=kfold)\n", 
            "outputs": [], 
            "cell_type": "code"
        }, 
        {
            "execution_count": 21, 
            "metadata": {}, 
            "source": "# the above took the longest time", 
            "outputs": [], 
            "cell_type": "code"
        }, 
        {
            "execution_count": 22, 
            "metadata": {}, 
            "source": "print(\"Accuracy: %.2f%% (%.2f%%)\" % (results.mean()*100, results.std()*100))", 
            "outputs": [
                {
                    "name": "stdout", 
                    "output_type": "stream", 
                    "text": "Accuracy: 98.00% (3.06%)\n"
                }
            ], 
            "cell_type": "code"
        }, 
        {
            "execution_count": null, 
            "metadata": {}, 
            "source": "", 
            "outputs": [], 
            "cell_type": "code"
        }, 
        {
            "execution_count": null, 
            "metadata": {}, 
            "source": "", 
            "outputs": [], 
            "cell_type": "code"
        }, 
        {
            "execution_count": null, 
            "metadata": {}, 
            "source": "", 
            "outputs": [], 
            "cell_type": "code"
        }, 
        {
            "execution_count": null, 
            "metadata": {}, 
            "source": "", 
            "outputs": [], 
            "cell_type": "code"
        }, 
        {
            "execution_count": null, 
            "metadata": {}, 
            "source": "", 
            "outputs": [], 
            "cell_type": "code"
        }, 
        {
            "execution_count": null, 
            "metadata": {}, 
            "source": "", 
            "outputs": [], 
            "cell_type": "code"
        }
    ], 
    "nbformat_minor": 1
}